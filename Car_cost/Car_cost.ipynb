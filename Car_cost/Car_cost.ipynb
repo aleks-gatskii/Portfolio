{
  "cells": [
    {
      "cell_type": "markdown",
      "metadata": {
        "id": "68N1FvRYsDXq"
      },
      "source": [
        "# Определение стоимости автомобилей"
      ]
    },
    {
      "cell_type": "markdown",
      "metadata": {
        "id": "A8HeVaTCsDXr"
      },
      "source": [
        "Сервис по продаже автомобилей с пробегом «Не бит, не крашен» разрабатывает приложение для привлечения новых клиентов. В нём можно быстро узнать рыночную стоимость своего автомобиля. В вашем распоряжении исторические данные: технические характеристики, комплектации и цены автомобилей. Вам нужно построить модель для определения стоимости. \n",
        "\n",
        "Заказчику важны:\n",
        "\n",
        "- качество предсказания;\n",
        "- скорость предсказания;\n",
        "- время обучения."
      ]
    },
    {
      "cell_type": "markdown",
      "metadata": {
        "id": "p5b7n2nisDXr"
      },
      "source": [
        "Признаки\n",
        "* DateCrawled — дата скачивания анкеты из базы\n",
        "* VehicleType — тип автомобильного кузова\n",
        "* RegistrationYear — год регистрации автомобиля\n",
        "* Gearbox — тип коробки передач\n",
        "* Power — мощность (л. с.)\n",
        "* Model — модель автомобиля\n",
        "* Kilometer — пробег (км)\n",
        "* RegistrationMonth — месяц регистрации автомобиля\n",
        "* FuelType — тип топлива\n",
        "* Brand — марка автомобиля\n",
        "* Repaired — была машина в ремонте или нет\n",
        "* DateCreated — дата создания анкеты\n",
        "* NumberOfPictures — количество фотографий автомобиля\n",
        "* PostalCode — почтовый индекс владельца анкеты (пользователя)\n",
        "* LastSeen — дата последней активности пользователя\n",
        "\n",
        "Целевой признак\n",
        "* Price — цена (евро)"
      ]
    },
    {
      "cell_type": "markdown",
      "metadata": {
        "id": "4qDguAkgsDXs"
      },
      "source": [
        "Построим модель градиентного бустинга. А также более простые модели, которые порой могут работать лучше. Эти редкие случаи, но важно их не пропустить.\n",
        "Поэкспериментируем и сравним характеристики моделей: время обучения, время предсказания, точность результата."
      ]
    },
    {
      "cell_type": "markdown",
      "metadata": {
        "id": "_AD3z660sDXv"
      },
      "source": [
        "## Подготовка данных"
      ]
    },
    {
      "cell_type": "code",
      "execution_count": 28,
      "metadata": {
        "colab": {
          "base_uri": "https://localhost:8080/"
        },
        "id": "BcQ_H5MqsDXv",
        "outputId": "31b42025-facc-4fa8-8017-4345121256f4"
      },
      "outputs": [
        {
          "output_type": "stream",
          "name": "stdout",
          "text": [
            "Looking in indexes: https://pypi.org/simple, https://us-python.pkg.dev/colab-wheels/public/simple/\n",
            "Requirement already satisfied: fast_ml in /usr/local/lib/python3.9/dist-packages (3.68)\n"
          ]
        }
      ],
      "source": [
        "!pip install fast_ml;"
      ]
    },
    {
      "cell_type": "code",
      "source": [
        "pip install catboost;"
      ],
      "metadata": {
        "colab": {
          "base_uri": "https://localhost:8080/"
        },
        "id": "eGfu5KiitAd0",
        "outputId": "8010deb1-706b-4802-b71e-199d2282115b"
      },
      "execution_count": 29,
      "outputs": [
        {
          "output_type": "stream",
          "name": "stdout",
          "text": [
            "Looking in indexes: https://pypi.org/simple, https://us-python.pkg.dev/colab-wheels/public/simple/\n",
            "Requirement already satisfied: catboost in /usr/local/lib/python3.9/dist-packages (1.1.1)\n",
            "Requirement already satisfied: scipy in /usr/local/lib/python3.9/dist-packages (from catboost) (1.10.1)\n",
            "Requirement already satisfied: graphviz in /usr/local/lib/python3.9/dist-packages (from catboost) (0.20.1)\n",
            "Requirement already satisfied: pandas>=0.24.0 in /usr/local/lib/python3.9/dist-packages (from catboost) (1.4.4)\n",
            "Requirement already satisfied: six in /usr/local/lib/python3.9/dist-packages (from catboost) (1.16.0)\n",
            "Requirement already satisfied: numpy>=1.16.0 in /usr/local/lib/python3.9/dist-packages (from catboost) (1.22.4)\n",
            "Requirement already satisfied: matplotlib in /usr/local/lib/python3.9/dist-packages (from catboost) (3.7.1)\n",
            "Requirement already satisfied: plotly in /usr/local/lib/python3.9/dist-packages (from catboost) (5.13.1)\n",
            "Requirement already satisfied: python-dateutil>=2.8.1 in /usr/local/lib/python3.9/dist-packages (from pandas>=0.24.0->catboost) (2.8.2)\n",
            "Requirement already satisfied: pytz>=2020.1 in /usr/local/lib/python3.9/dist-packages (from pandas>=0.24.0->catboost) (2022.7.1)\n",
            "Requirement already satisfied: importlib-resources>=3.2.0 in /usr/local/lib/python3.9/dist-packages (from matplotlib->catboost) (5.12.0)\n",
            "Requirement already satisfied: pyparsing>=2.3.1 in /usr/local/lib/python3.9/dist-packages (from matplotlib->catboost) (3.0.9)\n",
            "Requirement already satisfied: kiwisolver>=1.0.1 in /usr/local/lib/python3.9/dist-packages (from matplotlib->catboost) (1.4.4)\n",
            "Requirement already satisfied: cycler>=0.10 in /usr/local/lib/python3.9/dist-packages (from matplotlib->catboost) (0.11.0)\n",
            "Requirement already satisfied: fonttools>=4.22.0 in /usr/local/lib/python3.9/dist-packages (from matplotlib->catboost) (4.39.2)\n",
            "Requirement already satisfied: pillow>=6.2.0 in /usr/local/lib/python3.9/dist-packages (from matplotlib->catboost) (8.4.0)\n",
            "Requirement already satisfied: contourpy>=1.0.1 in /usr/local/lib/python3.9/dist-packages (from matplotlib->catboost) (1.0.7)\n",
            "Requirement already satisfied: packaging>=20.0 in /usr/local/lib/python3.9/dist-packages (from matplotlib->catboost) (23.0)\n",
            "Requirement already satisfied: tenacity>=6.2.0 in /usr/local/lib/python3.9/dist-packages (from plotly->catboost) (8.2.2)\n",
            "Requirement already satisfied: zipp>=3.1.0 in /usr/local/lib/python3.9/dist-packages (from importlib-resources>=3.2.0->matplotlib->catboost) (3.15.0)\n"
          ]
        }
      ]
    },
    {
      "cell_type": "code",
      "execution_count": 30,
      "metadata": {
        "id": "1sHG6b4CsDXy"
      },
      "outputs": [],
      "source": [
        "import pandas as pd  # импорт библиотек\n",
        "import numpy as np\n",
        "import seaborn as sns\n",
        "from math import sqrt\n",
        "\n",
        "from fast_ml.model_development import train_valid_test_split  # для разбиения на 3 выборки\n",
        "\n",
        "from sklearn.metrics import mean_squared_error, r2_score\n",
        "from sklearn.model_selection import train_test_split, GridSearchCV\n",
        "from sklearn.compose import make_column_transformer\n",
        "from sklearn.pipeline import Pipeline\n",
        "from sklearn.impute import SimpleImputer\n",
        "from sklearn.preprocessing import StandardScaler, OneHotEncoder, OrdinalEncoder\n",
        "from sklearn.linear_model import LinearRegression\n",
        "from sklearn.ensemble import RandomForestRegressor\n",
        "\n",
        "from catboost import CatBoostRegressor\n",
        "from lightgbm import LGBMRegressor"
      ]
    },
    {
      "cell_type": "code",
      "source": [
        "from google.colab import drive   # подключение гугл-диска\n",
        "drive.mount('/content/drive/')"
      ],
      "metadata": {
        "colab": {
          "base_uri": "https://localhost:8080/"
        },
        "id": "1ciPQQzvsPDY",
        "outputId": "1ca3b837-828e-4ada-e701-d67bfb4944aa"
      },
      "execution_count": 31,
      "outputs": [
        {
          "output_type": "stream",
          "name": "stdout",
          "text": [
            "Drive already mounted at /content/drive/; to attempt to forcibly remount, call drive.mount(\"/content/drive/\", force_remount=True).\n"
          ]
        }
      ]
    },
    {
      "cell_type": "code",
      "execution_count": 32,
      "metadata": {
        "id": "gOs3II0dsDX0"
      },
      "outputs": [],
      "source": [
        "data = pd.read_csv('/content/drive/MyDrive/_PYTHON/YandexPracticum/Car_cost/autos.csv') # загрузка данных"
      ]
    },
    {
      "cell_type": "code",
      "execution_count": 33,
      "metadata": {
        "scrolled": false,
        "colab": {
          "base_uri": "https://localhost:8080/",
          "height": 206
        },
        "id": "e35oSou9sDX0",
        "outputId": "f9a34424-f66d-4976-923a-1eded6c81e73"
      },
      "outputs": [
        {
          "output_type": "execute_result",
          "data": {
            "text/plain": [
              "           DateCrawled  Price VehicleType  RegistrationYear Gearbox  Power  \\\n",
              "0  2016-03-24 11:52:17    480         NaN              1993  manual      0   \n",
              "1  2016-03-24 10:58:45  18300       coupe              2011  manual    190   \n",
              "2  2016-03-14 12:52:21   9800         suv              2004    auto    163   \n",
              "3  2016-03-17 16:54:04   1500       small              2001  manual     75   \n",
              "4  2016-03-31 17:25:20   3600       small              2008  manual     69   \n",
              "\n",
              "   Model  Kilometer  RegistrationMonth  FuelType       Brand Repaired  \\\n",
              "0   golf     150000                  0    petrol  volkswagen      NaN   \n",
              "1    NaN     125000                  5  gasoline        audi      yes   \n",
              "2  grand     125000                  8  gasoline        jeep      NaN   \n",
              "3   golf     150000                  6    petrol  volkswagen       no   \n",
              "4  fabia      90000                  7  gasoline       skoda       no   \n",
              "\n",
              "           DateCreated  NumberOfPictures  PostalCode             LastSeen  \n",
              "0  2016-03-24 00:00:00                 0       70435  2016-04-07 03:16:57  \n",
              "1  2016-03-24 00:00:00                 0       66954  2016-04-07 01:46:50  \n",
              "2  2016-03-14 00:00:00                 0       90480  2016-04-05 12:47:46  \n",
              "3  2016-03-17 00:00:00                 0       91074  2016-03-17 17:40:17  \n",
              "4  2016-03-31 00:00:00                 0       60437  2016-04-06 10:17:21  "
            ],
            "text/html": [
              "\n",
              "  <div id=\"df-ca93c0aa-2a4d-4040-806c-46efd7586014\">\n",
              "    <div class=\"colab-df-container\">\n",
              "      <div>\n",
              "<style scoped>\n",
              "    .dataframe tbody tr th:only-of-type {\n",
              "        vertical-align: middle;\n",
              "    }\n",
              "\n",
              "    .dataframe tbody tr th {\n",
              "        vertical-align: top;\n",
              "    }\n",
              "\n",
              "    .dataframe thead th {\n",
              "        text-align: right;\n",
              "    }\n",
              "</style>\n",
              "<table border=\"1\" class=\"dataframe\">\n",
              "  <thead>\n",
              "    <tr style=\"text-align: right;\">\n",
              "      <th></th>\n",
              "      <th>DateCrawled</th>\n",
              "      <th>Price</th>\n",
              "      <th>VehicleType</th>\n",
              "      <th>RegistrationYear</th>\n",
              "      <th>Gearbox</th>\n",
              "      <th>Power</th>\n",
              "      <th>Model</th>\n",
              "      <th>Kilometer</th>\n",
              "      <th>RegistrationMonth</th>\n",
              "      <th>FuelType</th>\n",
              "      <th>Brand</th>\n",
              "      <th>Repaired</th>\n",
              "      <th>DateCreated</th>\n",
              "      <th>NumberOfPictures</th>\n",
              "      <th>PostalCode</th>\n",
              "      <th>LastSeen</th>\n",
              "    </tr>\n",
              "  </thead>\n",
              "  <tbody>\n",
              "    <tr>\n",
              "      <th>0</th>\n",
              "      <td>2016-03-24 11:52:17</td>\n",
              "      <td>480</td>\n",
              "      <td>NaN</td>\n",
              "      <td>1993</td>\n",
              "      <td>manual</td>\n",
              "      <td>0</td>\n",
              "      <td>golf</td>\n",
              "      <td>150000</td>\n",
              "      <td>0</td>\n",
              "      <td>petrol</td>\n",
              "      <td>volkswagen</td>\n",
              "      <td>NaN</td>\n",
              "      <td>2016-03-24 00:00:00</td>\n",
              "      <td>0</td>\n",
              "      <td>70435</td>\n",
              "      <td>2016-04-07 03:16:57</td>\n",
              "    </tr>\n",
              "    <tr>\n",
              "      <th>1</th>\n",
              "      <td>2016-03-24 10:58:45</td>\n",
              "      <td>18300</td>\n",
              "      <td>coupe</td>\n",
              "      <td>2011</td>\n",
              "      <td>manual</td>\n",
              "      <td>190</td>\n",
              "      <td>NaN</td>\n",
              "      <td>125000</td>\n",
              "      <td>5</td>\n",
              "      <td>gasoline</td>\n",
              "      <td>audi</td>\n",
              "      <td>yes</td>\n",
              "      <td>2016-03-24 00:00:00</td>\n",
              "      <td>0</td>\n",
              "      <td>66954</td>\n",
              "      <td>2016-04-07 01:46:50</td>\n",
              "    </tr>\n",
              "    <tr>\n",
              "      <th>2</th>\n",
              "      <td>2016-03-14 12:52:21</td>\n",
              "      <td>9800</td>\n",
              "      <td>suv</td>\n",
              "      <td>2004</td>\n",
              "      <td>auto</td>\n",
              "      <td>163</td>\n",
              "      <td>grand</td>\n",
              "      <td>125000</td>\n",
              "      <td>8</td>\n",
              "      <td>gasoline</td>\n",
              "      <td>jeep</td>\n",
              "      <td>NaN</td>\n",
              "      <td>2016-03-14 00:00:00</td>\n",
              "      <td>0</td>\n",
              "      <td>90480</td>\n",
              "      <td>2016-04-05 12:47:46</td>\n",
              "    </tr>\n",
              "    <tr>\n",
              "      <th>3</th>\n",
              "      <td>2016-03-17 16:54:04</td>\n",
              "      <td>1500</td>\n",
              "      <td>small</td>\n",
              "      <td>2001</td>\n",
              "      <td>manual</td>\n",
              "      <td>75</td>\n",
              "      <td>golf</td>\n",
              "      <td>150000</td>\n",
              "      <td>6</td>\n",
              "      <td>petrol</td>\n",
              "      <td>volkswagen</td>\n",
              "      <td>no</td>\n",
              "      <td>2016-03-17 00:00:00</td>\n",
              "      <td>0</td>\n",
              "      <td>91074</td>\n",
              "      <td>2016-03-17 17:40:17</td>\n",
              "    </tr>\n",
              "    <tr>\n",
              "      <th>4</th>\n",
              "      <td>2016-03-31 17:25:20</td>\n",
              "      <td>3600</td>\n",
              "      <td>small</td>\n",
              "      <td>2008</td>\n",
              "      <td>manual</td>\n",
              "      <td>69</td>\n",
              "      <td>fabia</td>\n",
              "      <td>90000</td>\n",
              "      <td>7</td>\n",
              "      <td>gasoline</td>\n",
              "      <td>skoda</td>\n",
              "      <td>no</td>\n",
              "      <td>2016-03-31 00:00:00</td>\n",
              "      <td>0</td>\n",
              "      <td>60437</td>\n",
              "      <td>2016-04-06 10:17:21</td>\n",
              "    </tr>\n",
              "  </tbody>\n",
              "</table>\n",
              "</div>\n",
              "      <button class=\"colab-df-convert\" onclick=\"convertToInteractive('df-ca93c0aa-2a4d-4040-806c-46efd7586014')\"\n",
              "              title=\"Convert this dataframe to an interactive table.\"\n",
              "              style=\"display:none;\">\n",
              "        \n",
              "  <svg xmlns=\"http://www.w3.org/2000/svg\" height=\"24px\"viewBox=\"0 0 24 24\"\n",
              "       width=\"24px\">\n",
              "    <path d=\"M0 0h24v24H0V0z\" fill=\"none\"/>\n",
              "    <path d=\"M18.56 5.44l.94 2.06.94-2.06 2.06-.94-2.06-.94-.94-2.06-.94 2.06-2.06.94zm-11 1L8.5 8.5l.94-2.06 2.06-.94-2.06-.94L8.5 2.5l-.94 2.06-2.06.94zm10 10l.94 2.06.94-2.06 2.06-.94-2.06-.94-.94-2.06-.94 2.06-2.06.94z\"/><path d=\"M17.41 7.96l-1.37-1.37c-.4-.4-.92-.59-1.43-.59-.52 0-1.04.2-1.43.59L10.3 9.45l-7.72 7.72c-.78.78-.78 2.05 0 2.83L4 21.41c.39.39.9.59 1.41.59.51 0 1.02-.2 1.41-.59l7.78-7.78 2.81-2.81c.8-.78.8-2.07 0-2.86zM5.41 20L4 18.59l7.72-7.72 1.47 1.35L5.41 20z\"/>\n",
              "  </svg>\n",
              "      </button>\n",
              "      \n",
              "  <style>\n",
              "    .colab-df-container {\n",
              "      display:flex;\n",
              "      flex-wrap:wrap;\n",
              "      gap: 12px;\n",
              "    }\n",
              "\n",
              "    .colab-df-convert {\n",
              "      background-color: #E8F0FE;\n",
              "      border: none;\n",
              "      border-radius: 50%;\n",
              "      cursor: pointer;\n",
              "      display: none;\n",
              "      fill: #1967D2;\n",
              "      height: 32px;\n",
              "      padding: 0 0 0 0;\n",
              "      width: 32px;\n",
              "    }\n",
              "\n",
              "    .colab-df-convert:hover {\n",
              "      background-color: #E2EBFA;\n",
              "      box-shadow: 0px 1px 2px rgba(60, 64, 67, 0.3), 0px 1px 3px 1px rgba(60, 64, 67, 0.15);\n",
              "      fill: #174EA6;\n",
              "    }\n",
              "\n",
              "    [theme=dark] .colab-df-convert {\n",
              "      background-color: #3B4455;\n",
              "      fill: #D2E3FC;\n",
              "    }\n",
              "\n",
              "    [theme=dark] .colab-df-convert:hover {\n",
              "      background-color: #434B5C;\n",
              "      box-shadow: 0px 1px 3px 1px rgba(0, 0, 0, 0.15);\n",
              "      filter: drop-shadow(0px 1px 2px rgba(0, 0, 0, 0.3));\n",
              "      fill: #FFFFFF;\n",
              "    }\n",
              "  </style>\n",
              "\n",
              "      <script>\n",
              "        const buttonEl =\n",
              "          document.querySelector('#df-ca93c0aa-2a4d-4040-806c-46efd7586014 button.colab-df-convert');\n",
              "        buttonEl.style.display =\n",
              "          google.colab.kernel.accessAllowed ? 'block' : 'none';\n",
              "\n",
              "        async function convertToInteractive(key) {\n",
              "          const element = document.querySelector('#df-ca93c0aa-2a4d-4040-806c-46efd7586014');\n",
              "          const dataTable =\n",
              "            await google.colab.kernel.invokeFunction('convertToInteractive',\n",
              "                                                     [key], {});\n",
              "          if (!dataTable) return;\n",
              "\n",
              "          const docLinkHtml = 'Like what you see? Visit the ' +\n",
              "            '<a target=\"_blank\" href=https://colab.research.google.com/notebooks/data_table.ipynb>data table notebook</a>'\n",
              "            + ' to learn more about interactive tables.';\n",
              "          element.innerHTML = '';\n",
              "          dataTable['output_type'] = 'display_data';\n",
              "          await google.colab.output.renderOutput(dataTable, element);\n",
              "          const docLink = document.createElement('div');\n",
              "          docLink.innerHTML = docLinkHtml;\n",
              "          element.appendChild(docLink);\n",
              "        }\n",
              "      </script>\n",
              "    </div>\n",
              "  </div>\n",
              "  "
            ]
          },
          "metadata": {},
          "execution_count": 33
        }
      ],
      "source": [
        "data.head()  # первые пять строк дата-сета"
      ]
    },
    {
      "cell_type": "markdown",
      "metadata": {
        "id": "tJYbAJ4tsDX1"
      },
      "source": [
        "Перевести названия столбцов в \"змеиный регистр\", даты в соответствующий тип"
      ]
    },
    {
      "cell_type": "code",
      "execution_count": 34,
      "metadata": {
        "colab": {
          "base_uri": "https://localhost:8080/"
        },
        "id": "IaJoviyAsDX1",
        "outputId": "2a742fbf-c7d6-4d3b-bcdd-fadb65e169fa"
      },
      "outputs": [
        {
          "output_type": "execute_result",
          "data": {
            "text/plain": [
              "Index(['DateCrawled', 'Price', 'VehicleType', 'RegistrationYear', 'Gearbox',\n",
              "       'Power', 'Model', 'Kilometer', 'RegistrationMonth', 'FuelType', 'Brand',\n",
              "       'Repaired', 'DateCreated', 'NumberOfPictures', 'PostalCode',\n",
              "       'LastSeen'],\n",
              "      dtype='object')"
            ]
          },
          "metadata": {},
          "execution_count": 34
        }
      ],
      "source": [
        "data.columns"
      ]
    },
    {
      "cell_type": "code",
      "execution_count": 35,
      "metadata": {
        "scrolled": true,
        "id": "bzXGUSRpsDX2"
      },
      "outputs": [],
      "source": [
        "data.rename(columns={'DateCrawled':'date_crawled', 'Price':'price', 'VehicleType':'vehicle_type',\n",
        "                     'RegistrationYear':'registration_year', 'Gearbox':'gearbox', 'Power':'power',\n",
        "                     'Model':'model', 'Kilometer':'kilometer', 'RegistrationMonth':'registration_month',\n",
        "                     'FuelType':'fuel_type', 'Brand':'brand', 'Repaired':'repaired', 'DateCreated':'date_created', \n",
        "                     'NumberOfPictures':'number_of_pictures', 'PostalCode':'postal_code', 'LastSeen':'last_seen'},\n",
        "           inplace=True)  # перевели названия столбцов в привычный \"змеиный регистр\" и посморели общую информацию о данных     "
      ]
    },
    {
      "cell_type": "code",
      "execution_count": 36,
      "metadata": {
        "scrolled": true,
        "colab": {
          "base_uri": "https://localhost:8080/"
        },
        "id": "j59RbhEusDX2",
        "outputId": "a0efbff3-ae86-40a2-ce79-c7877cb5d252"
      },
      "outputs": [
        {
          "output_type": "stream",
          "name": "stdout",
          "text": [
            "<class 'pandas.core.frame.DataFrame'>\n",
            "RangeIndex: 354369 entries, 0 to 354368\n",
            "Data columns (total 16 columns):\n",
            " #   Column              Non-Null Count   Dtype \n",
            "---  ------              --------------   ----- \n",
            " 0   date_crawled        354369 non-null  object\n",
            " 1   price               354369 non-null  int64 \n",
            " 2   vehicle_type        316879 non-null  object\n",
            " 3   registration_year   354369 non-null  int64 \n",
            " 4   gearbox             334536 non-null  object\n",
            " 5   power               354369 non-null  int64 \n",
            " 6   model               334664 non-null  object\n",
            " 7   kilometer           354369 non-null  int64 \n",
            " 8   registration_month  354369 non-null  int64 \n",
            " 9   fuel_type           321474 non-null  object\n",
            " 10  brand               354369 non-null  object\n",
            " 11  repaired            283215 non-null  object\n",
            " 12  date_created        354369 non-null  object\n",
            " 13  number_of_pictures  354369 non-null  int64 \n",
            " 14  postal_code         354369 non-null  int64 \n",
            " 15  last_seen           354369 non-null  object\n",
            "dtypes: int64(7), object(9)\n",
            "memory usage: 43.3+ MB\n"
          ]
        }
      ],
      "source": [
        "data.info() "
      ]
    },
    {
      "cell_type": "code",
      "execution_count": 37,
      "metadata": {
        "colab": {
          "base_uri": "https://localhost:8080/"
        },
        "id": "-BgxRngUsDX3",
        "outputId": "667f55c2-9f0a-4d05-8b24-6c4a6bc8db96"
      },
      "outputs": [
        {
          "output_type": "execute_result",
          "data": {
            "text/plain": [
              "array([nan, 'yes', 'no'], dtype=object)"
            ]
          },
          "metadata": {},
          "execution_count": 37
        }
      ],
      "source": [
        "data.repaired.unique() # Ремонт - заменить \"yes\" на \"1\", \"no\" на \"0\""
      ]
    },
    {
      "cell_type": "markdown",
      "metadata": {
        "id": "nXRi-nAjsDX3"
      },
      "source": [
        "<div class=\"alert alert-block alert-success\">\n",
        "<b>Успех:</b> Данные загружены корректно, первичный осмотр проведен.\n",
        "</div>"
      ]
    },
    {
      "cell_type": "code",
      "execution_count": 38,
      "metadata": {
        "id": "2us_vWACsDX4"
      },
      "outputs": [],
      "source": [
        "data = data.replace({'repaired': {'yes': 1, 'no': 0}}) # заменили"
      ]
    },
    {
      "cell_type": "code",
      "execution_count": 39,
      "metadata": {
        "colab": {
          "base_uri": "https://localhost:8080/"
        },
        "id": "DA9jeS1BsDX4",
        "outputId": "230830d7-4280-4283-9fd0-3ab24e8c7519"
      },
      "outputs": [
        {
          "output_type": "execute_result",
          "data": {
            "text/plain": [
              "array(['manual', 'auto', nan], dtype=object)"
            ]
          },
          "metadata": {},
          "execution_count": 39
        }
      ],
      "source": [
        "data.gearbox.unique() # Коробка передач - заменить \"manual\" на \"1\", \"auto\" на \"0\""
      ]
    },
    {
      "cell_type": "code",
      "execution_count": 40,
      "metadata": {
        "id": "vBYPpBExsDX4"
      },
      "outputs": [],
      "source": [
        "data = data.replace({'gearbox': {'manual': 1, 'auto': 0}}) # заменили"
      ]
    },
    {
      "cell_type": "code",
      "execution_count": 41,
      "metadata": {
        "id": "iyFoQgWWsDX5"
      },
      "outputs": [],
      "source": [
        "data['date_crawled'] = pd.to_datetime(data['date_crawled'], format=\"%Y/%m/%d %H:%M:%S\") # смена типа object на datetime      "
      ]
    },
    {
      "cell_type": "code",
      "execution_count": 42,
      "metadata": {
        "id": "De49Wu0MsDX5"
      },
      "outputs": [],
      "source": [
        "data['date_created'] = pd.to_datetime(data['date_created'], format=\"%Y/%m/%d %H:%M:%S\")"
      ]
    },
    {
      "cell_type": "code",
      "execution_count": 43,
      "metadata": {
        "id": "XxdhYK4RsDX5"
      },
      "outputs": [],
      "source": [
        "data['last_seen'] = pd.to_datetime(data['last_seen'], format=\"%Y/%m/%d %H:%M:%S\")"
      ]
    },
    {
      "cell_type": "code",
      "execution_count": 44,
      "metadata": {
        "scrolled": true,
        "colab": {
          "base_uri": "https://localhost:8080/",
          "height": 300
        },
        "id": "PgXekKjqsDX6",
        "outputId": "82c77309-7de8-44e4-e1e1-970c71a9786a"
      },
      "outputs": [
        {
          "output_type": "execute_result",
          "data": {
            "text/plain": [
              "               price  registration_year        gearbox          power  \\\n",
              "count  354369.000000      354369.000000  334536.000000  354369.000000   \n",
              "mean     4416.656776        2004.234448       0.801860     110.094337   \n",
              "std      4514.158514          90.227958       0.398599     189.850405   \n",
              "min         0.000000        1000.000000       0.000000       0.000000   \n",
              "25%      1050.000000        1999.000000       1.000000      69.000000   \n",
              "50%      2700.000000        2003.000000       1.000000     105.000000   \n",
              "75%      6400.000000        2008.000000       1.000000     143.000000   \n",
              "max     20000.000000        9999.000000       1.000000   20000.000000   \n",
              "\n",
              "           kilometer  registration_month       repaired  number_of_pictures  \\\n",
              "count  354369.000000       354369.000000  283215.000000            354369.0   \n",
              "mean   128211.172535            5.714645       0.127303                 0.0   \n",
              "std     37905.341530            3.726421       0.333312                 0.0   \n",
              "min      5000.000000            0.000000       0.000000                 0.0   \n",
              "25%    125000.000000            3.000000       0.000000                 0.0   \n",
              "50%    150000.000000            6.000000       0.000000                 0.0   \n",
              "75%    150000.000000            9.000000       0.000000                 0.0   \n",
              "max    150000.000000           12.000000       1.000000                 0.0   \n",
              "\n",
              "         postal_code  \n",
              "count  354369.000000  \n",
              "mean    50508.689087  \n",
              "std     25783.096248  \n",
              "min      1067.000000  \n",
              "25%     30165.000000  \n",
              "50%     49413.000000  \n",
              "75%     71083.000000  \n",
              "max     99998.000000  "
            ],
            "text/html": [
              "\n",
              "  <div id=\"df-f20393fb-3305-47d6-bb24-45e22890472c\">\n",
              "    <div class=\"colab-df-container\">\n",
              "      <div>\n",
              "<style scoped>\n",
              "    .dataframe tbody tr th:only-of-type {\n",
              "        vertical-align: middle;\n",
              "    }\n",
              "\n",
              "    .dataframe tbody tr th {\n",
              "        vertical-align: top;\n",
              "    }\n",
              "\n",
              "    .dataframe thead th {\n",
              "        text-align: right;\n",
              "    }\n",
              "</style>\n",
              "<table border=\"1\" class=\"dataframe\">\n",
              "  <thead>\n",
              "    <tr style=\"text-align: right;\">\n",
              "      <th></th>\n",
              "      <th>price</th>\n",
              "      <th>registration_year</th>\n",
              "      <th>gearbox</th>\n",
              "      <th>power</th>\n",
              "      <th>kilometer</th>\n",
              "      <th>registration_month</th>\n",
              "      <th>repaired</th>\n",
              "      <th>number_of_pictures</th>\n",
              "      <th>postal_code</th>\n",
              "    </tr>\n",
              "  </thead>\n",
              "  <tbody>\n",
              "    <tr>\n",
              "      <th>count</th>\n",
              "      <td>354369.000000</td>\n",
              "      <td>354369.000000</td>\n",
              "      <td>334536.000000</td>\n",
              "      <td>354369.000000</td>\n",
              "      <td>354369.000000</td>\n",
              "      <td>354369.000000</td>\n",
              "      <td>283215.000000</td>\n",
              "      <td>354369.0</td>\n",
              "      <td>354369.000000</td>\n",
              "    </tr>\n",
              "    <tr>\n",
              "      <th>mean</th>\n",
              "      <td>4416.656776</td>\n",
              "      <td>2004.234448</td>\n",
              "      <td>0.801860</td>\n",
              "      <td>110.094337</td>\n",
              "      <td>128211.172535</td>\n",
              "      <td>5.714645</td>\n",
              "      <td>0.127303</td>\n",
              "      <td>0.0</td>\n",
              "      <td>50508.689087</td>\n",
              "    </tr>\n",
              "    <tr>\n",
              "      <th>std</th>\n",
              "      <td>4514.158514</td>\n",
              "      <td>90.227958</td>\n",
              "      <td>0.398599</td>\n",
              "      <td>189.850405</td>\n",
              "      <td>37905.341530</td>\n",
              "      <td>3.726421</td>\n",
              "      <td>0.333312</td>\n",
              "      <td>0.0</td>\n",
              "      <td>25783.096248</td>\n",
              "    </tr>\n",
              "    <tr>\n",
              "      <th>min</th>\n",
              "      <td>0.000000</td>\n",
              "      <td>1000.000000</td>\n",
              "      <td>0.000000</td>\n",
              "      <td>0.000000</td>\n",
              "      <td>5000.000000</td>\n",
              "      <td>0.000000</td>\n",
              "      <td>0.000000</td>\n",
              "      <td>0.0</td>\n",
              "      <td>1067.000000</td>\n",
              "    </tr>\n",
              "    <tr>\n",
              "      <th>25%</th>\n",
              "      <td>1050.000000</td>\n",
              "      <td>1999.000000</td>\n",
              "      <td>1.000000</td>\n",
              "      <td>69.000000</td>\n",
              "      <td>125000.000000</td>\n",
              "      <td>3.000000</td>\n",
              "      <td>0.000000</td>\n",
              "      <td>0.0</td>\n",
              "      <td>30165.000000</td>\n",
              "    </tr>\n",
              "    <tr>\n",
              "      <th>50%</th>\n",
              "      <td>2700.000000</td>\n",
              "      <td>2003.000000</td>\n",
              "      <td>1.000000</td>\n",
              "      <td>105.000000</td>\n",
              "      <td>150000.000000</td>\n",
              "      <td>6.000000</td>\n",
              "      <td>0.000000</td>\n",
              "      <td>0.0</td>\n",
              "      <td>49413.000000</td>\n",
              "    </tr>\n",
              "    <tr>\n",
              "      <th>75%</th>\n",
              "      <td>6400.000000</td>\n",
              "      <td>2008.000000</td>\n",
              "      <td>1.000000</td>\n",
              "      <td>143.000000</td>\n",
              "      <td>150000.000000</td>\n",
              "      <td>9.000000</td>\n",
              "      <td>0.000000</td>\n",
              "      <td>0.0</td>\n",
              "      <td>71083.000000</td>\n",
              "    </tr>\n",
              "    <tr>\n",
              "      <th>max</th>\n",
              "      <td>20000.000000</td>\n",
              "      <td>9999.000000</td>\n",
              "      <td>1.000000</td>\n",
              "      <td>20000.000000</td>\n",
              "      <td>150000.000000</td>\n",
              "      <td>12.000000</td>\n",
              "      <td>1.000000</td>\n",
              "      <td>0.0</td>\n",
              "      <td>99998.000000</td>\n",
              "    </tr>\n",
              "  </tbody>\n",
              "</table>\n",
              "</div>\n",
              "      <button class=\"colab-df-convert\" onclick=\"convertToInteractive('df-f20393fb-3305-47d6-bb24-45e22890472c')\"\n",
              "              title=\"Convert this dataframe to an interactive table.\"\n",
              "              style=\"display:none;\">\n",
              "        \n",
              "  <svg xmlns=\"http://www.w3.org/2000/svg\" height=\"24px\"viewBox=\"0 0 24 24\"\n",
              "       width=\"24px\">\n",
              "    <path d=\"M0 0h24v24H0V0z\" fill=\"none\"/>\n",
              "    <path d=\"M18.56 5.44l.94 2.06.94-2.06 2.06-.94-2.06-.94-.94-2.06-.94 2.06-2.06.94zm-11 1L8.5 8.5l.94-2.06 2.06-.94-2.06-.94L8.5 2.5l-.94 2.06-2.06.94zm10 10l.94 2.06.94-2.06 2.06-.94-2.06-.94-.94-2.06-.94 2.06-2.06.94z\"/><path d=\"M17.41 7.96l-1.37-1.37c-.4-.4-.92-.59-1.43-.59-.52 0-1.04.2-1.43.59L10.3 9.45l-7.72 7.72c-.78.78-.78 2.05 0 2.83L4 21.41c.39.39.9.59 1.41.59.51 0 1.02-.2 1.41-.59l7.78-7.78 2.81-2.81c.8-.78.8-2.07 0-2.86zM5.41 20L4 18.59l7.72-7.72 1.47 1.35L5.41 20z\"/>\n",
              "  </svg>\n",
              "      </button>\n",
              "      \n",
              "  <style>\n",
              "    .colab-df-container {\n",
              "      display:flex;\n",
              "      flex-wrap:wrap;\n",
              "      gap: 12px;\n",
              "    }\n",
              "\n",
              "    .colab-df-convert {\n",
              "      background-color: #E8F0FE;\n",
              "      border: none;\n",
              "      border-radius: 50%;\n",
              "      cursor: pointer;\n",
              "      display: none;\n",
              "      fill: #1967D2;\n",
              "      height: 32px;\n",
              "      padding: 0 0 0 0;\n",
              "      width: 32px;\n",
              "    }\n",
              "\n",
              "    .colab-df-convert:hover {\n",
              "      background-color: #E2EBFA;\n",
              "      box-shadow: 0px 1px 2px rgba(60, 64, 67, 0.3), 0px 1px 3px 1px rgba(60, 64, 67, 0.15);\n",
              "      fill: #174EA6;\n",
              "    }\n",
              "\n",
              "    [theme=dark] .colab-df-convert {\n",
              "      background-color: #3B4455;\n",
              "      fill: #D2E3FC;\n",
              "    }\n",
              "\n",
              "    [theme=dark] .colab-df-convert:hover {\n",
              "      background-color: #434B5C;\n",
              "      box-shadow: 0px 1px 3px 1px rgba(0, 0, 0, 0.15);\n",
              "      filter: drop-shadow(0px 1px 2px rgba(0, 0, 0, 0.3));\n",
              "      fill: #FFFFFF;\n",
              "    }\n",
              "  </style>\n",
              "\n",
              "      <script>\n",
              "        const buttonEl =\n",
              "          document.querySelector('#df-f20393fb-3305-47d6-bb24-45e22890472c button.colab-df-convert');\n",
              "        buttonEl.style.display =\n",
              "          google.colab.kernel.accessAllowed ? 'block' : 'none';\n",
              "\n",
              "        async function convertToInteractive(key) {\n",
              "          const element = document.querySelector('#df-f20393fb-3305-47d6-bb24-45e22890472c');\n",
              "          const dataTable =\n",
              "            await google.colab.kernel.invokeFunction('convertToInteractive',\n",
              "                                                     [key], {});\n",
              "          if (!dataTable) return;\n",
              "\n",
              "          const docLinkHtml = 'Like what you see? Visit the ' +\n",
              "            '<a target=\"_blank\" href=https://colab.research.google.com/notebooks/data_table.ipynb>data table notebook</a>'\n",
              "            + ' to learn more about interactive tables.';\n",
              "          element.innerHTML = '';\n",
              "          dataTable['output_type'] = 'display_data';\n",
              "          await google.colab.output.renderOutput(dataTable, element);\n",
              "          const docLink = document.createElement('div');\n",
              "          docLink.innerHTML = docLinkHtml;\n",
              "          element.appendChild(docLink);\n",
              "        }\n",
              "      </script>\n",
              "    </div>\n",
              "  </div>\n",
              "  "
            ]
          },
          "metadata": {},
          "execution_count": 44
        }
      ],
      "source": [
        "data.describe()"
      ]
    },
    {
      "cell_type": "markdown",
      "metadata": {
        "id": "Bzw6dKOjsDX6"
      },
      "source": [
        "Почти в каждом столбце есть аномальные значения. Например год регистрации 1000 или 9999. Мощность 0. Месяц регистрации 0. Цена 0. Мощность 20000 тоже выглядит странно. Так же как и цена 20000. Совсем нет картинок, тогда этот столбец лишний. "
      ]
    },
    {
      "cell_type": "code",
      "execution_count": 45,
      "metadata": {
        "id": "dJ3Nb-F_sDX6"
      },
      "outputs": [],
      "source": [
        "data = data.drop('number_of_pictures', axis=1) # удалим этот столбец, как неинформативный (константная колонка)"
      ]
    },
    {
      "cell_type": "code",
      "execution_count": 46,
      "metadata": {
        "scrolled": true,
        "colab": {
          "base_uri": "https://localhost:8080/",
          "height": 424
        },
        "id": "tMP-u0U2sDX7",
        "outputId": "9b63d42c-22a8-4dc9-bf59-778a57cad34c"
      },
      "outputs": [
        {
          "output_type": "execute_result",
          "data": {
            "text/plain": [
              "              date_crawled  price vehicle_type  registration_year  gearbox  \\\n",
              "7661   2016-04-02 19:25:25   1499        small               1999      1.0   \n",
              "11039  2016-03-25 19:55:32      0        sedan               1998      1.0   \n",
              "25232  2016-03-28 19:57:39  10900          bus               2009      1.0   \n",
              "33952  2016-03-09 11:37:03   3740        small               2006      1.0   \n",
              "44520  2016-03-10 22:37:21   2500  convertible               1998      1.0   \n",
              "...                    ...    ...          ...                ...      ...   \n",
              "339642 2016-03-07 16:58:44    600        sedan               2000      1.0   \n",
              "341066 2016-04-03 22:57:04    449          NaN               2016      1.0   \n",
              "341320 2016-03-29 21:40:33   1899        other               2006      1.0   \n",
              "346639 2016-03-25 12:55:36   1300        sedan               2000      1.0   \n",
              "348137 2016-03-16 21:48:39    850        sedan               1993      0.0   \n",
              "\n",
              "        power     model  kilometer  registration_month fuel_type       brand  \\\n",
              "7661     7515      lupo     150000                   4    petrol  volkswagen   \n",
              "11039   10317     other     150000                   8    petrol        fiat   \n",
              "25232   10520     caddy     150000                   6  gasoline  volkswagen   \n",
              "33952    6920      aygo      90000                  10       NaN      toyota   \n",
              "44520    7512      golf     150000                   6       NaN  volkswagen   \n",
              "...       ...       ...        ...                 ...       ...         ...   \n",
              "339642  10110     focus     125000                  12    petrol        ford   \n",
              "341066   4507     corsa     150000                   4    petrol        opel   \n",
              "341320   7518  berlingo     125000                  11    petrol     citroen   \n",
              "346639  12512   carisma     150000                   9    petrol  mitsubishi   \n",
              "348137   9012      golf     150000                   0    petrol  volkswagen   \n",
              "\n",
              "        repaired date_created  postal_code           last_seen  \n",
              "7661         NaN   2016-04-02        65830 2016-04-06 11:46:49  \n",
              "11039        0.0   2016-03-25        57520 2016-04-01 19:16:33  \n",
              "25232        0.0   2016-03-28        36272 2016-04-07 02:47:02  \n",
              "33952        0.0   2016-03-09        94116 2016-03-17 05:16:32  \n",
              "44520        NaN   2016-03-10        68239 2016-04-05 15:17:50  \n",
              "...          ...          ...          ...                 ...  \n",
              "339642       NaN   2016-03-07        35066 2016-03-07 17:41:33  \n",
              "341066       0.0   2016-04-03        29525 2016-04-06 00:16:11  \n",
              "341320       1.0   2016-03-29        89428 2016-03-31 15:17:03  \n",
              "346639       NaN   2016-03-25        42105 2016-04-06 14:44:53  \n",
              "348137       NaN   2016-03-16        14482 2016-04-03 09:17:43  \n",
              "\n",
              "[89 rows x 15 columns]"
            ],
            "text/html": [
              "\n",
              "  <div id=\"df-802c0a6d-96ec-4248-9035-831dea08e519\">\n",
              "    <div class=\"colab-df-container\">\n",
              "      <div>\n",
              "<style scoped>\n",
              "    .dataframe tbody tr th:only-of-type {\n",
              "        vertical-align: middle;\n",
              "    }\n",
              "\n",
              "    .dataframe tbody tr th {\n",
              "        vertical-align: top;\n",
              "    }\n",
              "\n",
              "    .dataframe thead th {\n",
              "        text-align: right;\n",
              "    }\n",
              "</style>\n",
              "<table border=\"1\" class=\"dataframe\">\n",
              "  <thead>\n",
              "    <tr style=\"text-align: right;\">\n",
              "      <th></th>\n",
              "      <th>date_crawled</th>\n",
              "      <th>price</th>\n",
              "      <th>vehicle_type</th>\n",
              "      <th>registration_year</th>\n",
              "      <th>gearbox</th>\n",
              "      <th>power</th>\n",
              "      <th>model</th>\n",
              "      <th>kilometer</th>\n",
              "      <th>registration_month</th>\n",
              "      <th>fuel_type</th>\n",
              "      <th>brand</th>\n",
              "      <th>repaired</th>\n",
              "      <th>date_created</th>\n",
              "      <th>postal_code</th>\n",
              "      <th>last_seen</th>\n",
              "    </tr>\n",
              "  </thead>\n",
              "  <tbody>\n",
              "    <tr>\n",
              "      <th>7661</th>\n",
              "      <td>2016-04-02 19:25:25</td>\n",
              "      <td>1499</td>\n",
              "      <td>small</td>\n",
              "      <td>1999</td>\n",
              "      <td>1.0</td>\n",
              "      <td>7515</td>\n",
              "      <td>lupo</td>\n",
              "      <td>150000</td>\n",
              "      <td>4</td>\n",
              "      <td>petrol</td>\n",
              "      <td>volkswagen</td>\n",
              "      <td>NaN</td>\n",
              "      <td>2016-04-02</td>\n",
              "      <td>65830</td>\n",
              "      <td>2016-04-06 11:46:49</td>\n",
              "    </tr>\n",
              "    <tr>\n",
              "      <th>11039</th>\n",
              "      <td>2016-03-25 19:55:32</td>\n",
              "      <td>0</td>\n",
              "      <td>sedan</td>\n",
              "      <td>1998</td>\n",
              "      <td>1.0</td>\n",
              "      <td>10317</td>\n",
              "      <td>other</td>\n",
              "      <td>150000</td>\n",
              "      <td>8</td>\n",
              "      <td>petrol</td>\n",
              "      <td>fiat</td>\n",
              "      <td>0.0</td>\n",
              "      <td>2016-03-25</td>\n",
              "      <td>57520</td>\n",
              "      <td>2016-04-01 19:16:33</td>\n",
              "    </tr>\n",
              "    <tr>\n",
              "      <th>25232</th>\n",
              "      <td>2016-03-28 19:57:39</td>\n",
              "      <td>10900</td>\n",
              "      <td>bus</td>\n",
              "      <td>2009</td>\n",
              "      <td>1.0</td>\n",
              "      <td>10520</td>\n",
              "      <td>caddy</td>\n",
              "      <td>150000</td>\n",
              "      <td>6</td>\n",
              "      <td>gasoline</td>\n",
              "      <td>volkswagen</td>\n",
              "      <td>0.0</td>\n",
              "      <td>2016-03-28</td>\n",
              "      <td>36272</td>\n",
              "      <td>2016-04-07 02:47:02</td>\n",
              "    </tr>\n",
              "    <tr>\n",
              "      <th>33952</th>\n",
              "      <td>2016-03-09 11:37:03</td>\n",
              "      <td>3740</td>\n",
              "      <td>small</td>\n",
              "      <td>2006</td>\n",
              "      <td>1.0</td>\n",
              "      <td>6920</td>\n",
              "      <td>aygo</td>\n",
              "      <td>90000</td>\n",
              "      <td>10</td>\n",
              "      <td>NaN</td>\n",
              "      <td>toyota</td>\n",
              "      <td>0.0</td>\n",
              "      <td>2016-03-09</td>\n",
              "      <td>94116</td>\n",
              "      <td>2016-03-17 05:16:32</td>\n",
              "    </tr>\n",
              "    <tr>\n",
              "      <th>44520</th>\n",
              "      <td>2016-03-10 22:37:21</td>\n",
              "      <td>2500</td>\n",
              "      <td>convertible</td>\n",
              "      <td>1998</td>\n",
              "      <td>1.0</td>\n",
              "      <td>7512</td>\n",
              "      <td>golf</td>\n",
              "      <td>150000</td>\n",
              "      <td>6</td>\n",
              "      <td>NaN</td>\n",
              "      <td>volkswagen</td>\n",
              "      <td>NaN</td>\n",
              "      <td>2016-03-10</td>\n",
              "      <td>68239</td>\n",
              "      <td>2016-04-05 15:17:50</td>\n",
              "    </tr>\n",
              "    <tr>\n",
              "      <th>...</th>\n",
              "      <td>...</td>\n",
              "      <td>...</td>\n",
              "      <td>...</td>\n",
              "      <td>...</td>\n",
              "      <td>...</td>\n",
              "      <td>...</td>\n",
              "      <td>...</td>\n",
              "      <td>...</td>\n",
              "      <td>...</td>\n",
              "      <td>...</td>\n",
              "      <td>...</td>\n",
              "      <td>...</td>\n",
              "      <td>...</td>\n",
              "      <td>...</td>\n",
              "      <td>...</td>\n",
              "    </tr>\n",
              "    <tr>\n",
              "      <th>339642</th>\n",
              "      <td>2016-03-07 16:58:44</td>\n",
              "      <td>600</td>\n",
              "      <td>sedan</td>\n",
              "      <td>2000</td>\n",
              "      <td>1.0</td>\n",
              "      <td>10110</td>\n",
              "      <td>focus</td>\n",
              "      <td>125000</td>\n",
              "      <td>12</td>\n",
              "      <td>petrol</td>\n",
              "      <td>ford</td>\n",
              "      <td>NaN</td>\n",
              "      <td>2016-03-07</td>\n",
              "      <td>35066</td>\n",
              "      <td>2016-03-07 17:41:33</td>\n",
              "    </tr>\n",
              "    <tr>\n",
              "      <th>341066</th>\n",
              "      <td>2016-04-03 22:57:04</td>\n",
              "      <td>449</td>\n",
              "      <td>NaN</td>\n",
              "      <td>2016</td>\n",
              "      <td>1.0</td>\n",
              "      <td>4507</td>\n",
              "      <td>corsa</td>\n",
              "      <td>150000</td>\n",
              "      <td>4</td>\n",
              "      <td>petrol</td>\n",
              "      <td>opel</td>\n",
              "      <td>0.0</td>\n",
              "      <td>2016-04-03</td>\n",
              "      <td>29525</td>\n",
              "      <td>2016-04-06 00:16:11</td>\n",
              "    </tr>\n",
              "    <tr>\n",
              "      <th>341320</th>\n",
              "      <td>2016-03-29 21:40:33</td>\n",
              "      <td>1899</td>\n",
              "      <td>other</td>\n",
              "      <td>2006</td>\n",
              "      <td>1.0</td>\n",
              "      <td>7518</td>\n",
              "      <td>berlingo</td>\n",
              "      <td>125000</td>\n",
              "      <td>11</td>\n",
              "      <td>petrol</td>\n",
              "      <td>citroen</td>\n",
              "      <td>1.0</td>\n",
              "      <td>2016-03-29</td>\n",
              "      <td>89428</td>\n",
              "      <td>2016-03-31 15:17:03</td>\n",
              "    </tr>\n",
              "    <tr>\n",
              "      <th>346639</th>\n",
              "      <td>2016-03-25 12:55:36</td>\n",
              "      <td>1300</td>\n",
              "      <td>sedan</td>\n",
              "      <td>2000</td>\n",
              "      <td>1.0</td>\n",
              "      <td>12512</td>\n",
              "      <td>carisma</td>\n",
              "      <td>150000</td>\n",
              "      <td>9</td>\n",
              "      <td>petrol</td>\n",
              "      <td>mitsubishi</td>\n",
              "      <td>NaN</td>\n",
              "      <td>2016-03-25</td>\n",
              "      <td>42105</td>\n",
              "      <td>2016-04-06 14:44:53</td>\n",
              "    </tr>\n",
              "    <tr>\n",
              "      <th>348137</th>\n",
              "      <td>2016-03-16 21:48:39</td>\n",
              "      <td>850</td>\n",
              "      <td>sedan</td>\n",
              "      <td>1993</td>\n",
              "      <td>0.0</td>\n",
              "      <td>9012</td>\n",
              "      <td>golf</td>\n",
              "      <td>150000</td>\n",
              "      <td>0</td>\n",
              "      <td>petrol</td>\n",
              "      <td>volkswagen</td>\n",
              "      <td>NaN</td>\n",
              "      <td>2016-03-16</td>\n",
              "      <td>14482</td>\n",
              "      <td>2016-04-03 09:17:43</td>\n",
              "    </tr>\n",
              "  </tbody>\n",
              "</table>\n",
              "<p>89 rows × 15 columns</p>\n",
              "</div>\n",
              "      <button class=\"colab-df-convert\" onclick=\"convertToInteractive('df-802c0a6d-96ec-4248-9035-831dea08e519')\"\n",
              "              title=\"Convert this dataframe to an interactive table.\"\n",
              "              style=\"display:none;\">\n",
              "        \n",
              "  <svg xmlns=\"http://www.w3.org/2000/svg\" height=\"24px\"viewBox=\"0 0 24 24\"\n",
              "       width=\"24px\">\n",
              "    <path d=\"M0 0h24v24H0V0z\" fill=\"none\"/>\n",
              "    <path d=\"M18.56 5.44l.94 2.06.94-2.06 2.06-.94-2.06-.94-.94-2.06-.94 2.06-2.06.94zm-11 1L8.5 8.5l.94-2.06 2.06-.94-2.06-.94L8.5 2.5l-.94 2.06-2.06.94zm10 10l.94 2.06.94-2.06 2.06-.94-2.06-.94-.94-2.06-.94 2.06-2.06.94z\"/><path d=\"M17.41 7.96l-1.37-1.37c-.4-.4-.92-.59-1.43-.59-.52 0-1.04.2-1.43.59L10.3 9.45l-7.72 7.72c-.78.78-.78 2.05 0 2.83L4 21.41c.39.39.9.59 1.41.59.51 0 1.02-.2 1.41-.59l7.78-7.78 2.81-2.81c.8-.78.8-2.07 0-2.86zM5.41 20L4 18.59l7.72-7.72 1.47 1.35L5.41 20z\"/>\n",
              "  </svg>\n",
              "      </button>\n",
              "      \n",
              "  <style>\n",
              "    .colab-df-container {\n",
              "      display:flex;\n",
              "      flex-wrap:wrap;\n",
              "      gap: 12px;\n",
              "    }\n",
              "\n",
              "    .colab-df-convert {\n",
              "      background-color: #E8F0FE;\n",
              "      border: none;\n",
              "      border-radius: 50%;\n",
              "      cursor: pointer;\n",
              "      display: none;\n",
              "      fill: #1967D2;\n",
              "      height: 32px;\n",
              "      padding: 0 0 0 0;\n",
              "      width: 32px;\n",
              "    }\n",
              "\n",
              "    .colab-df-convert:hover {\n",
              "      background-color: #E2EBFA;\n",
              "      box-shadow: 0px 1px 2px rgba(60, 64, 67, 0.3), 0px 1px 3px 1px rgba(60, 64, 67, 0.15);\n",
              "      fill: #174EA6;\n",
              "    }\n",
              "\n",
              "    [theme=dark] .colab-df-convert {\n",
              "      background-color: #3B4455;\n",
              "      fill: #D2E3FC;\n",
              "    }\n",
              "\n",
              "    [theme=dark] .colab-df-convert:hover {\n",
              "      background-color: #434B5C;\n",
              "      box-shadow: 0px 1px 3px 1px rgba(0, 0, 0, 0.15);\n",
              "      filter: drop-shadow(0px 1px 2px rgba(0, 0, 0, 0.3));\n",
              "      fill: #FFFFFF;\n",
              "    }\n",
              "  </style>\n",
              "\n",
              "      <script>\n",
              "        const buttonEl =\n",
              "          document.querySelector('#df-802c0a6d-96ec-4248-9035-831dea08e519 button.colab-df-convert');\n",
              "        buttonEl.style.display =\n",
              "          google.colab.kernel.accessAllowed ? 'block' : 'none';\n",
              "\n",
              "        async function convertToInteractive(key) {\n",
              "          const element = document.querySelector('#df-802c0a6d-96ec-4248-9035-831dea08e519');\n",
              "          const dataTable =\n",
              "            await google.colab.kernel.invokeFunction('convertToInteractive',\n",
              "                                                     [key], {});\n",
              "          if (!dataTable) return;\n",
              "\n",
              "          const docLinkHtml = 'Like what you see? Visit the ' +\n",
              "            '<a target=\"_blank\" href=https://colab.research.google.com/notebooks/data_table.ipynb>data table notebook</a>'\n",
              "            + ' to learn more about interactive tables.';\n",
              "          element.innerHTML = '';\n",
              "          dataTable['output_type'] = 'display_data';\n",
              "          await google.colab.output.renderOutput(dataTable, element);\n",
              "          const docLink = document.createElement('div');\n",
              "          docLink.innerHTML = docLinkHtml;\n",
              "          element.appendChild(docLink);\n",
              "        }\n",
              "      </script>\n",
              "    </div>\n",
              "  </div>\n",
              "  "
            ]
          },
          "metadata": {},
          "execution_count": 46
        }
      ],
      "source": [
        "data.loc[(data['power'] > 3500)] # аномальные значения мощности (больше мощности Белаза)"
      ]
    },
    {
      "cell_type": "code",
      "execution_count": 47,
      "metadata": {
        "id": "MmM1WZGWsDX7"
      },
      "outputs": [],
      "source": [
        "data.drop(data.loc[(data['power'] > 3500)].index, inplace=True) # удалим, так как их очень мало - всего 88 строчек"
      ]
    },
    {
      "cell_type": "code",
      "execution_count": 48,
      "metadata": {
        "colab": {
          "base_uri": "https://localhost:8080/",
          "height": 424
        },
        "id": "NIqiR0-TsDX8",
        "outputId": "a1b02f51-1cad-461b-9a0b-d511fb3d4de8"
      },
      "outputs": [
        {
          "output_type": "execute_result",
          "data": {
            "text/plain": [
              "              date_crawled  price vehicle_type  registration_year  gearbox  \\\n",
              "22     2016-03-23 14:52:51   2900          NaN               2018      1.0   \n",
              "26     2016-03-10 19:38:18   5555          NaN               2017      1.0   \n",
              "48     2016-03-25 14:40:12   7750          NaN               2017      1.0   \n",
              "51     2016-03-07 18:57:08   2000          NaN               2017      1.0   \n",
              "57     2016-03-10 20:53:19   2399          NaN               2018      1.0   \n",
              "...                    ...    ...          ...                ...      ...   \n",
              "354112 2016-03-11 15:49:51   3600          NaN               2017      1.0   \n",
              "354140 2016-03-29 16:47:29   1000          NaN               2017      1.0   \n",
              "354203 2016-03-17 00:56:26   2140          NaN               2018      1.0   \n",
              "354253 2016-03-25 09:37:59   1250          NaN               2018      NaN   \n",
              "354289 2016-03-05 14:55:29   5000          NaN               2017      1.0   \n",
              "\n",
              "        power    model  kilometer  registration_month fuel_type       brand  \\\n",
              "22         90   meriva     150000                   5    petrol        opel   \n",
              "26        125       c4     125000                   4       NaN     citroen   \n",
              "48         80     golf     100000                   1    petrol  volkswagen   \n",
              "51         90    punto     150000                  11  gasoline        fiat   \n",
              "57         64    other     125000                   3       NaN        seat   \n",
              "...       ...      ...        ...                 ...       ...         ...   \n",
              "354112     86  transit     150000                   5  gasoline        ford   \n",
              "354140    101       a4     150000                   9       NaN        audi   \n",
              "354203     80   fiesta     150000                   6       NaN        ford   \n",
              "354253      0    corsa     150000                   0    petrol        opel   \n",
              "354289    120    other     150000                   7       NaN     citroen   \n",
              "\n",
              "        repaired date_created  postal_code           last_seen  \n",
              "22           0.0   2016-03-23        49716 2016-03-31 01:16:33  \n",
              "26           0.0   2016-03-10        31139 2016-03-16 09:16:46  \n",
              "48           NaN   2016-03-25        48499 2016-03-31 21:47:44  \n",
              "51           1.0   2016-03-07        66115 2016-03-07 18:57:08  \n",
              "57           0.0   2016-03-10        33397 2016-03-25 10:17:37  \n",
              "...          ...          ...          ...                 ...  \n",
              "354112       NaN   2016-03-11        32339 2016-03-12 05:45:02  \n",
              "354140       NaN   2016-03-29        38315 2016-04-06 02:44:27  \n",
              "354203       0.0   2016-03-17        44866 2016-03-29 15:45:04  \n",
              "354253       NaN   2016-03-25        45527 2016-04-06 07:46:13  \n",
              "354289       1.0   2016-03-05        15518 2016-04-05 11:48:09  \n",
              "\n",
              "[14588 rows x 15 columns]"
            ],
            "text/html": [
              "\n",
              "  <div id=\"df-f866e9b8-a230-44a6-bd46-bd21a8b61e8b\">\n",
              "    <div class=\"colab-df-container\">\n",
              "      <div>\n",
              "<style scoped>\n",
              "    .dataframe tbody tr th:only-of-type {\n",
              "        vertical-align: middle;\n",
              "    }\n",
              "\n",
              "    .dataframe tbody tr th {\n",
              "        vertical-align: top;\n",
              "    }\n",
              "\n",
              "    .dataframe thead th {\n",
              "        text-align: right;\n",
              "    }\n",
              "</style>\n",
              "<table border=\"1\" class=\"dataframe\">\n",
              "  <thead>\n",
              "    <tr style=\"text-align: right;\">\n",
              "      <th></th>\n",
              "      <th>date_crawled</th>\n",
              "      <th>price</th>\n",
              "      <th>vehicle_type</th>\n",
              "      <th>registration_year</th>\n",
              "      <th>gearbox</th>\n",
              "      <th>power</th>\n",
              "      <th>model</th>\n",
              "      <th>kilometer</th>\n",
              "      <th>registration_month</th>\n",
              "      <th>fuel_type</th>\n",
              "      <th>brand</th>\n",
              "      <th>repaired</th>\n",
              "      <th>date_created</th>\n",
              "      <th>postal_code</th>\n",
              "      <th>last_seen</th>\n",
              "    </tr>\n",
              "  </thead>\n",
              "  <tbody>\n",
              "    <tr>\n",
              "      <th>22</th>\n",
              "      <td>2016-03-23 14:52:51</td>\n",
              "      <td>2900</td>\n",
              "      <td>NaN</td>\n",
              "      <td>2018</td>\n",
              "      <td>1.0</td>\n",
              "      <td>90</td>\n",
              "      <td>meriva</td>\n",
              "      <td>150000</td>\n",
              "      <td>5</td>\n",
              "      <td>petrol</td>\n",
              "      <td>opel</td>\n",
              "      <td>0.0</td>\n",
              "      <td>2016-03-23</td>\n",
              "      <td>49716</td>\n",
              "      <td>2016-03-31 01:16:33</td>\n",
              "    </tr>\n",
              "    <tr>\n",
              "      <th>26</th>\n",
              "      <td>2016-03-10 19:38:18</td>\n",
              "      <td>5555</td>\n",
              "      <td>NaN</td>\n",
              "      <td>2017</td>\n",
              "      <td>1.0</td>\n",
              "      <td>125</td>\n",
              "      <td>c4</td>\n",
              "      <td>125000</td>\n",
              "      <td>4</td>\n",
              "      <td>NaN</td>\n",
              "      <td>citroen</td>\n",
              "      <td>0.0</td>\n",
              "      <td>2016-03-10</td>\n",
              "      <td>31139</td>\n",
              "      <td>2016-03-16 09:16:46</td>\n",
              "    </tr>\n",
              "    <tr>\n",
              "      <th>48</th>\n",
              "      <td>2016-03-25 14:40:12</td>\n",
              "      <td>7750</td>\n",
              "      <td>NaN</td>\n",
              "      <td>2017</td>\n",
              "      <td>1.0</td>\n",
              "      <td>80</td>\n",
              "      <td>golf</td>\n",
              "      <td>100000</td>\n",
              "      <td>1</td>\n",
              "      <td>petrol</td>\n",
              "      <td>volkswagen</td>\n",
              "      <td>NaN</td>\n",
              "      <td>2016-03-25</td>\n",
              "      <td>48499</td>\n",
              "      <td>2016-03-31 21:47:44</td>\n",
              "    </tr>\n",
              "    <tr>\n",
              "      <th>51</th>\n",
              "      <td>2016-03-07 18:57:08</td>\n",
              "      <td>2000</td>\n",
              "      <td>NaN</td>\n",
              "      <td>2017</td>\n",
              "      <td>1.0</td>\n",
              "      <td>90</td>\n",
              "      <td>punto</td>\n",
              "      <td>150000</td>\n",
              "      <td>11</td>\n",
              "      <td>gasoline</td>\n",
              "      <td>fiat</td>\n",
              "      <td>1.0</td>\n",
              "      <td>2016-03-07</td>\n",
              "      <td>66115</td>\n",
              "      <td>2016-03-07 18:57:08</td>\n",
              "    </tr>\n",
              "    <tr>\n",
              "      <th>57</th>\n",
              "      <td>2016-03-10 20:53:19</td>\n",
              "      <td>2399</td>\n",
              "      <td>NaN</td>\n",
              "      <td>2018</td>\n",
              "      <td>1.0</td>\n",
              "      <td>64</td>\n",
              "      <td>other</td>\n",
              "      <td>125000</td>\n",
              "      <td>3</td>\n",
              "      <td>NaN</td>\n",
              "      <td>seat</td>\n",
              "      <td>0.0</td>\n",
              "      <td>2016-03-10</td>\n",
              "      <td>33397</td>\n",
              "      <td>2016-03-25 10:17:37</td>\n",
              "    </tr>\n",
              "    <tr>\n",
              "      <th>...</th>\n",
              "      <td>...</td>\n",
              "      <td>...</td>\n",
              "      <td>...</td>\n",
              "      <td>...</td>\n",
              "      <td>...</td>\n",
              "      <td>...</td>\n",
              "      <td>...</td>\n",
              "      <td>...</td>\n",
              "      <td>...</td>\n",
              "      <td>...</td>\n",
              "      <td>...</td>\n",
              "      <td>...</td>\n",
              "      <td>...</td>\n",
              "      <td>...</td>\n",
              "      <td>...</td>\n",
              "    </tr>\n",
              "    <tr>\n",
              "      <th>354112</th>\n",
              "      <td>2016-03-11 15:49:51</td>\n",
              "      <td>3600</td>\n",
              "      <td>NaN</td>\n",
              "      <td>2017</td>\n",
              "      <td>1.0</td>\n",
              "      <td>86</td>\n",
              "      <td>transit</td>\n",
              "      <td>150000</td>\n",
              "      <td>5</td>\n",
              "      <td>gasoline</td>\n",
              "      <td>ford</td>\n",
              "      <td>NaN</td>\n",
              "      <td>2016-03-11</td>\n",
              "      <td>32339</td>\n",
              "      <td>2016-03-12 05:45:02</td>\n",
              "    </tr>\n",
              "    <tr>\n",
              "      <th>354140</th>\n",
              "      <td>2016-03-29 16:47:29</td>\n",
              "      <td>1000</td>\n",
              "      <td>NaN</td>\n",
              "      <td>2017</td>\n",
              "      <td>1.0</td>\n",
              "      <td>101</td>\n",
              "      <td>a4</td>\n",
              "      <td>150000</td>\n",
              "      <td>9</td>\n",
              "      <td>NaN</td>\n",
              "      <td>audi</td>\n",
              "      <td>NaN</td>\n",
              "      <td>2016-03-29</td>\n",
              "      <td>38315</td>\n",
              "      <td>2016-04-06 02:44:27</td>\n",
              "    </tr>\n",
              "    <tr>\n",
              "      <th>354203</th>\n",
              "      <td>2016-03-17 00:56:26</td>\n",
              "      <td>2140</td>\n",
              "      <td>NaN</td>\n",
              "      <td>2018</td>\n",
              "      <td>1.0</td>\n",
              "      <td>80</td>\n",
              "      <td>fiesta</td>\n",
              "      <td>150000</td>\n",
              "      <td>6</td>\n",
              "      <td>NaN</td>\n",
              "      <td>ford</td>\n",
              "      <td>0.0</td>\n",
              "      <td>2016-03-17</td>\n",
              "      <td>44866</td>\n",
              "      <td>2016-03-29 15:45:04</td>\n",
              "    </tr>\n",
              "    <tr>\n",
              "      <th>354253</th>\n",
              "      <td>2016-03-25 09:37:59</td>\n",
              "      <td>1250</td>\n",
              "      <td>NaN</td>\n",
              "      <td>2018</td>\n",
              "      <td>NaN</td>\n",
              "      <td>0</td>\n",
              "      <td>corsa</td>\n",
              "      <td>150000</td>\n",
              "      <td>0</td>\n",
              "      <td>petrol</td>\n",
              "      <td>opel</td>\n",
              "      <td>NaN</td>\n",
              "      <td>2016-03-25</td>\n",
              "      <td>45527</td>\n",
              "      <td>2016-04-06 07:46:13</td>\n",
              "    </tr>\n",
              "    <tr>\n",
              "      <th>354289</th>\n",
              "      <td>2016-03-05 14:55:29</td>\n",
              "      <td>5000</td>\n",
              "      <td>NaN</td>\n",
              "      <td>2017</td>\n",
              "      <td>1.0</td>\n",
              "      <td>120</td>\n",
              "      <td>other</td>\n",
              "      <td>150000</td>\n",
              "      <td>7</td>\n",
              "      <td>NaN</td>\n",
              "      <td>citroen</td>\n",
              "      <td>1.0</td>\n",
              "      <td>2016-03-05</td>\n",
              "      <td>15518</td>\n",
              "      <td>2016-04-05 11:48:09</td>\n",
              "    </tr>\n",
              "  </tbody>\n",
              "</table>\n",
              "<p>14588 rows × 15 columns</p>\n",
              "</div>\n",
              "      <button class=\"colab-df-convert\" onclick=\"convertToInteractive('df-f866e9b8-a230-44a6-bd46-bd21a8b61e8b')\"\n",
              "              title=\"Convert this dataframe to an interactive table.\"\n",
              "              style=\"display:none;\">\n",
              "        \n",
              "  <svg xmlns=\"http://www.w3.org/2000/svg\" height=\"24px\"viewBox=\"0 0 24 24\"\n",
              "       width=\"24px\">\n",
              "    <path d=\"M0 0h24v24H0V0z\" fill=\"none\"/>\n",
              "    <path d=\"M18.56 5.44l.94 2.06.94-2.06 2.06-.94-2.06-.94-.94-2.06-.94 2.06-2.06.94zm-11 1L8.5 8.5l.94-2.06 2.06-.94-2.06-.94L8.5 2.5l-.94 2.06-2.06.94zm10 10l.94 2.06.94-2.06 2.06-.94-2.06-.94-.94-2.06-.94 2.06-2.06.94z\"/><path d=\"M17.41 7.96l-1.37-1.37c-.4-.4-.92-.59-1.43-.59-.52 0-1.04.2-1.43.59L10.3 9.45l-7.72 7.72c-.78.78-.78 2.05 0 2.83L4 21.41c.39.39.9.59 1.41.59.51 0 1.02-.2 1.41-.59l7.78-7.78 2.81-2.81c.8-.78.8-2.07 0-2.86zM5.41 20L4 18.59l7.72-7.72 1.47 1.35L5.41 20z\"/>\n",
              "  </svg>\n",
              "      </button>\n",
              "      \n",
              "  <style>\n",
              "    .colab-df-container {\n",
              "      display:flex;\n",
              "      flex-wrap:wrap;\n",
              "      gap: 12px;\n",
              "    }\n",
              "\n",
              "    .colab-df-convert {\n",
              "      background-color: #E8F0FE;\n",
              "      border: none;\n",
              "      border-radius: 50%;\n",
              "      cursor: pointer;\n",
              "      display: none;\n",
              "      fill: #1967D2;\n",
              "      height: 32px;\n",
              "      padding: 0 0 0 0;\n",
              "      width: 32px;\n",
              "    }\n",
              "\n",
              "    .colab-df-convert:hover {\n",
              "      background-color: #E2EBFA;\n",
              "      box-shadow: 0px 1px 2px rgba(60, 64, 67, 0.3), 0px 1px 3px 1px rgba(60, 64, 67, 0.15);\n",
              "      fill: #174EA6;\n",
              "    }\n",
              "\n",
              "    [theme=dark] .colab-df-convert {\n",
              "      background-color: #3B4455;\n",
              "      fill: #D2E3FC;\n",
              "    }\n",
              "\n",
              "    [theme=dark] .colab-df-convert:hover {\n",
              "      background-color: #434B5C;\n",
              "      box-shadow: 0px 1px 3px 1px rgba(0, 0, 0, 0.15);\n",
              "      filter: drop-shadow(0px 1px 2px rgba(0, 0, 0, 0.3));\n",
              "      fill: #FFFFFF;\n",
              "    }\n",
              "  </style>\n",
              "\n",
              "      <script>\n",
              "        const buttonEl =\n",
              "          document.querySelector('#df-f866e9b8-a230-44a6-bd46-bd21a8b61e8b button.colab-df-convert');\n",
              "        buttonEl.style.display =\n",
              "          google.colab.kernel.accessAllowed ? 'block' : 'none';\n",
              "\n",
              "        async function convertToInteractive(key) {\n",
              "          const element = document.querySelector('#df-f866e9b8-a230-44a6-bd46-bd21a8b61e8b');\n",
              "          const dataTable =\n",
              "            await google.colab.kernel.invokeFunction('convertToInteractive',\n",
              "                                                     [key], {});\n",
              "          if (!dataTable) return;\n",
              "\n",
              "          const docLinkHtml = 'Like what you see? Visit the ' +\n",
              "            '<a target=\"_blank\" href=https://colab.research.google.com/notebooks/data_table.ipynb>data table notebook</a>'\n",
              "            + ' to learn more about interactive tables.';\n",
              "          element.innerHTML = '';\n",
              "          dataTable['output_type'] = 'display_data';\n",
              "          await google.colab.output.renderOutput(dataTable, element);\n",
              "          const docLink = document.createElement('div');\n",
              "          docLink.innerHTML = docLinkHtml;\n",
              "          element.appendChild(docLink);\n",
              "        }\n",
              "      </script>\n",
              "    </div>\n",
              "  </div>\n",
              "  "
            ]
          },
          "metadata": {},
          "execution_count": 48
        }
      ],
      "source": [
        "data.loc[(data['registration_year'] < 1900) | (data['registration_year'] > 2016)] # аномальные значения года регистрации (Год выгрузки БД – 2016, так что нужно ограничить сверху именно этим числом)"
      ]
    },
    {
      "cell_type": "code",
      "execution_count": 49,
      "metadata": {
        "id": "-uP2pdEnsDX8"
      },
      "outputs": [],
      "source": [
        "data.drop(data.loc[(data['registration_year'] < 1900) | (data['registration_year'] > 2016)].index, inplace=True) \n",
        "# удалим, так как их очень мало - всего 171 строчка"
      ]
    },
    {
      "cell_type": "code",
      "execution_count": 50,
      "metadata": {
        "scrolled": true,
        "colab": {
          "base_uri": "https://localhost:8080/",
          "height": 424
        },
        "id": "10l7cASlsDX9",
        "outputId": "b80e4354-bd5b-4b4c-8cb9-5844fb330421"
      },
      "outputs": [
        {
          "output_type": "execute_result",
          "data": {
            "text/plain": [
              "              date_crawled  price vehicle_type  registration_year  gearbox  \\\n",
              "0      2016-03-24 11:52:17    480          NaN               1993      1.0   \n",
              "9      2016-03-17 10:53:50    999        small               1998      1.0   \n",
              "15     2016-03-11 21:39:15    450        small               1910      NaN   \n",
              "16     2016-04-01 12:46:46    300          NaN               2016      NaN   \n",
              "36     2016-03-11 11:50:37   1600        other               1991      1.0   \n",
              "...                    ...    ...          ...                ...      ...   \n",
              "354305 2016-04-03 13:46:24   3500          NaN               1995      NaN   \n",
              "354318 2016-03-15 19:57:11    400        wagon               1991      1.0   \n",
              "354326 2016-03-31 19:36:18   1300        small               1999      1.0   \n",
              "354329 2016-03-30 20:55:30    350        small               1996      NaN   \n",
              "354337 2016-03-26 14:38:18  11500        sedan               2004      0.0   \n",
              "\n",
              "        power    model  kilometer  registration_month fuel_type       brand  \\\n",
              "0           0     golf     150000                   0    petrol  volkswagen   \n",
              "9         101     golf     150000                   0       NaN  volkswagen   \n",
              "15          0       ka       5000                   0    petrol        ford   \n",
              "16         60     polo     150000                   0    petrol  volkswagen   \n",
              "36         75   kadett      70000                   0       NaN        opel   \n",
              "...       ...      ...        ...                 ...       ...         ...   \n",
              "354305      0     polo     150000                   0       NaN  volkswagen   \n",
              "354318      0   legacy     150000                   0    petrol      subaru   \n",
              "354326     75  2_reihe     125000                   0       NaN     peugeot   \n",
              "354329     65    punto     150000                   0       NaN        fiat   \n",
              "354337    445      7er     125000                   0    petrol         bmw   \n",
              "\n",
              "        repaired date_created  postal_code           last_seen  \n",
              "0            NaN   2016-03-24        70435 2016-04-07 03:16:57  \n",
              "9            NaN   2016-03-17        27472 2016-03-31 17:17:06  \n",
              "15           NaN   2016-03-11        24148 2016-03-19 08:46:47  \n",
              "16           NaN   2016-04-01        38871 2016-04-01 12:46:46  \n",
              "36           NaN   2016-03-11         2943 2016-04-07 03:46:09  \n",
              "...          ...          ...          ...                 ...  \n",
              "354305       NaN   2016-04-03        74579 2016-04-05 12:44:38  \n",
              "354318       NaN   2016-03-15        24558 2016-03-19 15:49:00  \n",
              "354326       NaN   2016-03-31        35102 2016-04-06 13:44:44  \n",
              "354329       NaN   2016-03-30        25436 2016-04-07 13:50:41  \n",
              "354337       NaN   2016-03-26         4107 2016-04-06 20:45:16  \n",
              "\n",
              "[33604 rows x 15 columns]"
            ],
            "text/html": [
              "\n",
              "  <div id=\"df-1eaedf73-8b7d-43dd-89fd-fc0fc2d56036\">\n",
              "    <div class=\"colab-df-container\">\n",
              "      <div>\n",
              "<style scoped>\n",
              "    .dataframe tbody tr th:only-of-type {\n",
              "        vertical-align: middle;\n",
              "    }\n",
              "\n",
              "    .dataframe tbody tr th {\n",
              "        vertical-align: top;\n",
              "    }\n",
              "\n",
              "    .dataframe thead th {\n",
              "        text-align: right;\n",
              "    }\n",
              "</style>\n",
              "<table border=\"1\" class=\"dataframe\">\n",
              "  <thead>\n",
              "    <tr style=\"text-align: right;\">\n",
              "      <th></th>\n",
              "      <th>date_crawled</th>\n",
              "      <th>price</th>\n",
              "      <th>vehicle_type</th>\n",
              "      <th>registration_year</th>\n",
              "      <th>gearbox</th>\n",
              "      <th>power</th>\n",
              "      <th>model</th>\n",
              "      <th>kilometer</th>\n",
              "      <th>registration_month</th>\n",
              "      <th>fuel_type</th>\n",
              "      <th>brand</th>\n",
              "      <th>repaired</th>\n",
              "      <th>date_created</th>\n",
              "      <th>postal_code</th>\n",
              "      <th>last_seen</th>\n",
              "    </tr>\n",
              "  </thead>\n",
              "  <tbody>\n",
              "    <tr>\n",
              "      <th>0</th>\n",
              "      <td>2016-03-24 11:52:17</td>\n",
              "      <td>480</td>\n",
              "      <td>NaN</td>\n",
              "      <td>1993</td>\n",
              "      <td>1.0</td>\n",
              "      <td>0</td>\n",
              "      <td>golf</td>\n",
              "      <td>150000</td>\n",
              "      <td>0</td>\n",
              "      <td>petrol</td>\n",
              "      <td>volkswagen</td>\n",
              "      <td>NaN</td>\n",
              "      <td>2016-03-24</td>\n",
              "      <td>70435</td>\n",
              "      <td>2016-04-07 03:16:57</td>\n",
              "    </tr>\n",
              "    <tr>\n",
              "      <th>9</th>\n",
              "      <td>2016-03-17 10:53:50</td>\n",
              "      <td>999</td>\n",
              "      <td>small</td>\n",
              "      <td>1998</td>\n",
              "      <td>1.0</td>\n",
              "      <td>101</td>\n",
              "      <td>golf</td>\n",
              "      <td>150000</td>\n",
              "      <td>0</td>\n",
              "      <td>NaN</td>\n",
              "      <td>volkswagen</td>\n",
              "      <td>NaN</td>\n",
              "      <td>2016-03-17</td>\n",
              "      <td>27472</td>\n",
              "      <td>2016-03-31 17:17:06</td>\n",
              "    </tr>\n",
              "    <tr>\n",
              "      <th>15</th>\n",
              "      <td>2016-03-11 21:39:15</td>\n",
              "      <td>450</td>\n",
              "      <td>small</td>\n",
              "      <td>1910</td>\n",
              "      <td>NaN</td>\n",
              "      <td>0</td>\n",
              "      <td>ka</td>\n",
              "      <td>5000</td>\n",
              "      <td>0</td>\n",
              "      <td>petrol</td>\n",
              "      <td>ford</td>\n",
              "      <td>NaN</td>\n",
              "      <td>2016-03-11</td>\n",
              "      <td>24148</td>\n",
              "      <td>2016-03-19 08:46:47</td>\n",
              "    </tr>\n",
              "    <tr>\n",
              "      <th>16</th>\n",
              "      <td>2016-04-01 12:46:46</td>\n",
              "      <td>300</td>\n",
              "      <td>NaN</td>\n",
              "      <td>2016</td>\n",
              "      <td>NaN</td>\n",
              "      <td>60</td>\n",
              "      <td>polo</td>\n",
              "      <td>150000</td>\n",
              "      <td>0</td>\n",
              "      <td>petrol</td>\n",
              "      <td>volkswagen</td>\n",
              "      <td>NaN</td>\n",
              "      <td>2016-04-01</td>\n",
              "      <td>38871</td>\n",
              "      <td>2016-04-01 12:46:46</td>\n",
              "    </tr>\n",
              "    <tr>\n",
              "      <th>36</th>\n",
              "      <td>2016-03-11 11:50:37</td>\n",
              "      <td>1600</td>\n",
              "      <td>other</td>\n",
              "      <td>1991</td>\n",
              "      <td>1.0</td>\n",
              "      <td>75</td>\n",
              "      <td>kadett</td>\n",
              "      <td>70000</td>\n",
              "      <td>0</td>\n",
              "      <td>NaN</td>\n",
              "      <td>opel</td>\n",
              "      <td>NaN</td>\n",
              "      <td>2016-03-11</td>\n",
              "      <td>2943</td>\n",
              "      <td>2016-04-07 03:46:09</td>\n",
              "    </tr>\n",
              "    <tr>\n",
              "      <th>...</th>\n",
              "      <td>...</td>\n",
              "      <td>...</td>\n",
              "      <td>...</td>\n",
              "      <td>...</td>\n",
              "      <td>...</td>\n",
              "      <td>...</td>\n",
              "      <td>...</td>\n",
              "      <td>...</td>\n",
              "      <td>...</td>\n",
              "      <td>...</td>\n",
              "      <td>...</td>\n",
              "      <td>...</td>\n",
              "      <td>...</td>\n",
              "      <td>...</td>\n",
              "      <td>...</td>\n",
              "    </tr>\n",
              "    <tr>\n",
              "      <th>354305</th>\n",
              "      <td>2016-04-03 13:46:24</td>\n",
              "      <td>3500</td>\n",
              "      <td>NaN</td>\n",
              "      <td>1995</td>\n",
              "      <td>NaN</td>\n",
              "      <td>0</td>\n",
              "      <td>polo</td>\n",
              "      <td>150000</td>\n",
              "      <td>0</td>\n",
              "      <td>NaN</td>\n",
              "      <td>volkswagen</td>\n",
              "      <td>NaN</td>\n",
              "      <td>2016-04-03</td>\n",
              "      <td>74579</td>\n",
              "      <td>2016-04-05 12:44:38</td>\n",
              "    </tr>\n",
              "    <tr>\n",
              "      <th>354318</th>\n",
              "      <td>2016-03-15 19:57:11</td>\n",
              "      <td>400</td>\n",
              "      <td>wagon</td>\n",
              "      <td>1991</td>\n",
              "      <td>1.0</td>\n",
              "      <td>0</td>\n",
              "      <td>legacy</td>\n",
              "      <td>150000</td>\n",
              "      <td>0</td>\n",
              "      <td>petrol</td>\n",
              "      <td>subaru</td>\n",
              "      <td>NaN</td>\n",
              "      <td>2016-03-15</td>\n",
              "      <td>24558</td>\n",
              "      <td>2016-03-19 15:49:00</td>\n",
              "    </tr>\n",
              "    <tr>\n",
              "      <th>354326</th>\n",
              "      <td>2016-03-31 19:36:18</td>\n",
              "      <td>1300</td>\n",
              "      <td>small</td>\n",
              "      <td>1999</td>\n",
              "      <td>1.0</td>\n",
              "      <td>75</td>\n",
              "      <td>2_reihe</td>\n",
              "      <td>125000</td>\n",
              "      <td>0</td>\n",
              "      <td>NaN</td>\n",
              "      <td>peugeot</td>\n",
              "      <td>NaN</td>\n",
              "      <td>2016-03-31</td>\n",
              "      <td>35102</td>\n",
              "      <td>2016-04-06 13:44:44</td>\n",
              "    </tr>\n",
              "    <tr>\n",
              "      <th>354329</th>\n",
              "      <td>2016-03-30 20:55:30</td>\n",
              "      <td>350</td>\n",
              "      <td>small</td>\n",
              "      <td>1996</td>\n",
              "      <td>NaN</td>\n",
              "      <td>65</td>\n",
              "      <td>punto</td>\n",
              "      <td>150000</td>\n",
              "      <td>0</td>\n",
              "      <td>NaN</td>\n",
              "      <td>fiat</td>\n",
              "      <td>NaN</td>\n",
              "      <td>2016-03-30</td>\n",
              "      <td>25436</td>\n",
              "      <td>2016-04-07 13:50:41</td>\n",
              "    </tr>\n",
              "    <tr>\n",
              "      <th>354337</th>\n",
              "      <td>2016-03-26 14:38:18</td>\n",
              "      <td>11500</td>\n",
              "      <td>sedan</td>\n",
              "      <td>2004</td>\n",
              "      <td>0.0</td>\n",
              "      <td>445</td>\n",
              "      <td>7er</td>\n",
              "      <td>125000</td>\n",
              "      <td>0</td>\n",
              "      <td>petrol</td>\n",
              "      <td>bmw</td>\n",
              "      <td>NaN</td>\n",
              "      <td>2016-03-26</td>\n",
              "      <td>4107</td>\n",
              "      <td>2016-04-06 20:45:16</td>\n",
              "    </tr>\n",
              "  </tbody>\n",
              "</table>\n",
              "<p>33604 rows × 15 columns</p>\n",
              "</div>\n",
              "      <button class=\"colab-df-convert\" onclick=\"convertToInteractive('df-1eaedf73-8b7d-43dd-89fd-fc0fc2d56036')\"\n",
              "              title=\"Convert this dataframe to an interactive table.\"\n",
              "              style=\"display:none;\">\n",
              "        \n",
              "  <svg xmlns=\"http://www.w3.org/2000/svg\" height=\"24px\"viewBox=\"0 0 24 24\"\n",
              "       width=\"24px\">\n",
              "    <path d=\"M0 0h24v24H0V0z\" fill=\"none\"/>\n",
              "    <path d=\"M18.56 5.44l.94 2.06.94-2.06 2.06-.94-2.06-.94-.94-2.06-.94 2.06-2.06.94zm-11 1L8.5 8.5l.94-2.06 2.06-.94-2.06-.94L8.5 2.5l-.94 2.06-2.06.94zm10 10l.94 2.06.94-2.06 2.06-.94-2.06-.94-.94-2.06-.94 2.06-2.06.94z\"/><path d=\"M17.41 7.96l-1.37-1.37c-.4-.4-.92-.59-1.43-.59-.52 0-1.04.2-1.43.59L10.3 9.45l-7.72 7.72c-.78.78-.78 2.05 0 2.83L4 21.41c.39.39.9.59 1.41.59.51 0 1.02-.2 1.41-.59l7.78-7.78 2.81-2.81c.8-.78.8-2.07 0-2.86zM5.41 20L4 18.59l7.72-7.72 1.47 1.35L5.41 20z\"/>\n",
              "  </svg>\n",
              "      </button>\n",
              "      \n",
              "  <style>\n",
              "    .colab-df-container {\n",
              "      display:flex;\n",
              "      flex-wrap:wrap;\n",
              "      gap: 12px;\n",
              "    }\n",
              "\n",
              "    .colab-df-convert {\n",
              "      background-color: #E8F0FE;\n",
              "      border: none;\n",
              "      border-radius: 50%;\n",
              "      cursor: pointer;\n",
              "      display: none;\n",
              "      fill: #1967D2;\n",
              "      height: 32px;\n",
              "      padding: 0 0 0 0;\n",
              "      width: 32px;\n",
              "    }\n",
              "\n",
              "    .colab-df-convert:hover {\n",
              "      background-color: #E2EBFA;\n",
              "      box-shadow: 0px 1px 2px rgba(60, 64, 67, 0.3), 0px 1px 3px 1px rgba(60, 64, 67, 0.15);\n",
              "      fill: #174EA6;\n",
              "    }\n",
              "\n",
              "    [theme=dark] .colab-df-convert {\n",
              "      background-color: #3B4455;\n",
              "      fill: #D2E3FC;\n",
              "    }\n",
              "\n",
              "    [theme=dark] .colab-df-convert:hover {\n",
              "      background-color: #434B5C;\n",
              "      box-shadow: 0px 1px 3px 1px rgba(0, 0, 0, 0.15);\n",
              "      filter: drop-shadow(0px 1px 2px rgba(0, 0, 0, 0.3));\n",
              "      fill: #FFFFFF;\n",
              "    }\n",
              "  </style>\n",
              "\n",
              "      <script>\n",
              "        const buttonEl =\n",
              "          document.querySelector('#df-1eaedf73-8b7d-43dd-89fd-fc0fc2d56036 button.colab-df-convert');\n",
              "        buttonEl.style.display =\n",
              "          google.colab.kernel.accessAllowed ? 'block' : 'none';\n",
              "\n",
              "        async function convertToInteractive(key) {\n",
              "          const element = document.querySelector('#df-1eaedf73-8b7d-43dd-89fd-fc0fc2d56036');\n",
              "          const dataTable =\n",
              "            await google.colab.kernel.invokeFunction('convertToInteractive',\n",
              "                                                     [key], {});\n",
              "          if (!dataTable) return;\n",
              "\n",
              "          const docLinkHtml = 'Like what you see? Visit the ' +\n",
              "            '<a target=\"_blank\" href=https://colab.research.google.com/notebooks/data_table.ipynb>data table notebook</a>'\n",
              "            + ' to learn more about interactive tables.';\n",
              "          element.innerHTML = '';\n",
              "          dataTable['output_type'] = 'display_data';\n",
              "          await google.colab.output.renderOutput(dataTable, element);\n",
              "          const docLink = document.createElement('div');\n",
              "          docLink.innerHTML = docLinkHtml;\n",
              "          element.appendChild(docLink);\n",
              "        }\n",
              "      </script>\n",
              "    </div>\n",
              "  </div>\n",
              "  "
            ]
          },
          "metadata": {},
          "execution_count": 50
        }
      ],
      "source": [
        "data.loc[(data['registration_month'] == 0 )] # аномальные значения месяца регистрации\n"
      ]
    },
    {
      "cell_type": "markdown",
      "metadata": {
        "id": "AtkRnJlOsDX-"
      },
      "source": [
        "Таких значений много, порядка 10 %, удалять нельзя. Просто не проставлен месяц при заполнении, возник ноль. Но этот признак не влияет на цену. Поэтому можно не заполнять пропуски. А какие признаки влияют? Посмотрим корреляцию."
      ]
    },
    {
      "cell_type": "code",
      "execution_count": 51,
      "metadata": {
        "scrolled": true,
        "colab": {
          "base_uri": "https://localhost:8080/",
          "height": 300
        },
        "id": "92bguPKHsDX-",
        "outputId": "85bfe3f4-1e04-4767-ed49-307517f21106"
      },
      "outputs": [
        {
          "output_type": "execute_result",
          "data": {
            "text/plain": [
              "                       price  registration_year   gearbox     power  \\\n",
              "price               1.000000           0.430442 -0.251812  0.411908   \n",
              "registration_year   0.430442           1.000000 -0.042599  0.133533   \n",
              "gearbox            -0.251812          -0.042599  1.000000 -0.308484   \n",
              "power               0.411908           0.133533 -0.308484  1.000000   \n",
              "kilometer          -0.336983          -0.197711 -0.015568  0.075208   \n",
              "registration_month  0.107328           0.077455 -0.034874  0.108678   \n",
              "repaired           -0.243569          -0.120226  0.028455 -0.084612   \n",
              "postal_code         0.075775           0.034580  0.034091  0.060033   \n",
              "\n",
              "                    kilometer  registration_month  repaired  postal_code  \n",
              "price               -0.336983            0.107328 -0.243569     0.075775  \n",
              "registration_year   -0.197711            0.077455 -0.120226     0.034580  \n",
              "gearbox             -0.015568           -0.034874  0.028455     0.034091  \n",
              "power                0.075208            0.108678 -0.084612     0.060033  \n",
              "kilometer            1.000000            0.009265  0.088597    -0.008059  \n",
              "registration_month   0.009265            1.000000 -0.075857     0.013127  \n",
              "repaired             0.088597           -0.075857  1.000000    -0.009740  \n",
              "postal_code         -0.008059            0.013127 -0.009740     1.000000  "
            ],
            "text/html": [
              "\n",
              "  <div id=\"df-625a4680-8e0d-4d74-a87b-e25a71606f2d\">\n",
              "    <div class=\"colab-df-container\">\n",
              "      <div>\n",
              "<style scoped>\n",
              "    .dataframe tbody tr th:only-of-type {\n",
              "        vertical-align: middle;\n",
              "    }\n",
              "\n",
              "    .dataframe tbody tr th {\n",
              "        vertical-align: top;\n",
              "    }\n",
              "\n",
              "    .dataframe thead th {\n",
              "        text-align: right;\n",
              "    }\n",
              "</style>\n",
              "<table border=\"1\" class=\"dataframe\">\n",
              "  <thead>\n",
              "    <tr style=\"text-align: right;\">\n",
              "      <th></th>\n",
              "      <th>price</th>\n",
              "      <th>registration_year</th>\n",
              "      <th>gearbox</th>\n",
              "      <th>power</th>\n",
              "      <th>kilometer</th>\n",
              "      <th>registration_month</th>\n",
              "      <th>repaired</th>\n",
              "      <th>postal_code</th>\n",
              "    </tr>\n",
              "  </thead>\n",
              "  <tbody>\n",
              "    <tr>\n",
              "      <th>price</th>\n",
              "      <td>1.000000</td>\n",
              "      <td>0.430442</td>\n",
              "      <td>-0.251812</td>\n",
              "      <td>0.411908</td>\n",
              "      <td>-0.336983</td>\n",
              "      <td>0.107328</td>\n",
              "      <td>-0.243569</td>\n",
              "      <td>0.075775</td>\n",
              "    </tr>\n",
              "    <tr>\n",
              "      <th>registration_year</th>\n",
              "      <td>0.430442</td>\n",
              "      <td>1.000000</td>\n",
              "      <td>-0.042599</td>\n",
              "      <td>0.133533</td>\n",
              "      <td>-0.197711</td>\n",
              "      <td>0.077455</td>\n",
              "      <td>-0.120226</td>\n",
              "      <td>0.034580</td>\n",
              "    </tr>\n",
              "    <tr>\n",
              "      <th>gearbox</th>\n",
              "      <td>-0.251812</td>\n",
              "      <td>-0.042599</td>\n",
              "      <td>1.000000</td>\n",
              "      <td>-0.308484</td>\n",
              "      <td>-0.015568</td>\n",
              "      <td>-0.034874</td>\n",
              "      <td>0.028455</td>\n",
              "      <td>0.034091</td>\n",
              "    </tr>\n",
              "    <tr>\n",
              "      <th>power</th>\n",
              "      <td>0.411908</td>\n",
              "      <td>0.133533</td>\n",
              "      <td>-0.308484</td>\n",
              "      <td>1.000000</td>\n",
              "      <td>0.075208</td>\n",
              "      <td>0.108678</td>\n",
              "      <td>-0.084612</td>\n",
              "      <td>0.060033</td>\n",
              "    </tr>\n",
              "    <tr>\n",
              "      <th>kilometer</th>\n",
              "      <td>-0.336983</td>\n",
              "      <td>-0.197711</td>\n",
              "      <td>-0.015568</td>\n",
              "      <td>0.075208</td>\n",
              "      <td>1.000000</td>\n",
              "      <td>0.009265</td>\n",
              "      <td>0.088597</td>\n",
              "      <td>-0.008059</td>\n",
              "    </tr>\n",
              "    <tr>\n",
              "      <th>registration_month</th>\n",
              "      <td>0.107328</td>\n",
              "      <td>0.077455</td>\n",
              "      <td>-0.034874</td>\n",
              "      <td>0.108678</td>\n",
              "      <td>0.009265</td>\n",
              "      <td>1.000000</td>\n",
              "      <td>-0.075857</td>\n",
              "      <td>0.013127</td>\n",
              "    </tr>\n",
              "    <tr>\n",
              "      <th>repaired</th>\n",
              "      <td>-0.243569</td>\n",
              "      <td>-0.120226</td>\n",
              "      <td>0.028455</td>\n",
              "      <td>-0.084612</td>\n",
              "      <td>0.088597</td>\n",
              "      <td>-0.075857</td>\n",
              "      <td>1.000000</td>\n",
              "      <td>-0.009740</td>\n",
              "    </tr>\n",
              "    <tr>\n",
              "      <th>postal_code</th>\n",
              "      <td>0.075775</td>\n",
              "      <td>0.034580</td>\n",
              "      <td>0.034091</td>\n",
              "      <td>0.060033</td>\n",
              "      <td>-0.008059</td>\n",
              "      <td>0.013127</td>\n",
              "      <td>-0.009740</td>\n",
              "      <td>1.000000</td>\n",
              "    </tr>\n",
              "  </tbody>\n",
              "</table>\n",
              "</div>\n",
              "      <button class=\"colab-df-convert\" onclick=\"convertToInteractive('df-625a4680-8e0d-4d74-a87b-e25a71606f2d')\"\n",
              "              title=\"Convert this dataframe to an interactive table.\"\n",
              "              style=\"display:none;\">\n",
              "        \n",
              "  <svg xmlns=\"http://www.w3.org/2000/svg\" height=\"24px\"viewBox=\"0 0 24 24\"\n",
              "       width=\"24px\">\n",
              "    <path d=\"M0 0h24v24H0V0z\" fill=\"none\"/>\n",
              "    <path d=\"M18.56 5.44l.94 2.06.94-2.06 2.06-.94-2.06-.94-.94-2.06-.94 2.06-2.06.94zm-11 1L8.5 8.5l.94-2.06 2.06-.94-2.06-.94L8.5 2.5l-.94 2.06-2.06.94zm10 10l.94 2.06.94-2.06 2.06-.94-2.06-.94-.94-2.06-.94 2.06-2.06.94z\"/><path d=\"M17.41 7.96l-1.37-1.37c-.4-.4-.92-.59-1.43-.59-.52 0-1.04.2-1.43.59L10.3 9.45l-7.72 7.72c-.78.78-.78 2.05 0 2.83L4 21.41c.39.39.9.59 1.41.59.51 0 1.02-.2 1.41-.59l7.78-7.78 2.81-2.81c.8-.78.8-2.07 0-2.86zM5.41 20L4 18.59l7.72-7.72 1.47 1.35L5.41 20z\"/>\n",
              "  </svg>\n",
              "      </button>\n",
              "      \n",
              "  <style>\n",
              "    .colab-df-container {\n",
              "      display:flex;\n",
              "      flex-wrap:wrap;\n",
              "      gap: 12px;\n",
              "    }\n",
              "\n",
              "    .colab-df-convert {\n",
              "      background-color: #E8F0FE;\n",
              "      border: none;\n",
              "      border-radius: 50%;\n",
              "      cursor: pointer;\n",
              "      display: none;\n",
              "      fill: #1967D2;\n",
              "      height: 32px;\n",
              "      padding: 0 0 0 0;\n",
              "      width: 32px;\n",
              "    }\n",
              "\n",
              "    .colab-df-convert:hover {\n",
              "      background-color: #E2EBFA;\n",
              "      box-shadow: 0px 1px 2px rgba(60, 64, 67, 0.3), 0px 1px 3px 1px rgba(60, 64, 67, 0.15);\n",
              "      fill: #174EA6;\n",
              "    }\n",
              "\n",
              "    [theme=dark] .colab-df-convert {\n",
              "      background-color: #3B4455;\n",
              "      fill: #D2E3FC;\n",
              "    }\n",
              "\n",
              "    [theme=dark] .colab-df-convert:hover {\n",
              "      background-color: #434B5C;\n",
              "      box-shadow: 0px 1px 3px 1px rgba(0, 0, 0, 0.15);\n",
              "      filter: drop-shadow(0px 1px 2px rgba(0, 0, 0, 0.3));\n",
              "      fill: #FFFFFF;\n",
              "    }\n",
              "  </style>\n",
              "\n",
              "      <script>\n",
              "        const buttonEl =\n",
              "          document.querySelector('#df-625a4680-8e0d-4d74-a87b-e25a71606f2d button.colab-df-convert');\n",
              "        buttonEl.style.display =\n",
              "          google.colab.kernel.accessAllowed ? 'block' : 'none';\n",
              "\n",
              "        async function convertToInteractive(key) {\n",
              "          const element = document.querySelector('#df-625a4680-8e0d-4d74-a87b-e25a71606f2d');\n",
              "          const dataTable =\n",
              "            await google.colab.kernel.invokeFunction('convertToInteractive',\n",
              "                                                     [key], {});\n",
              "          if (!dataTable) return;\n",
              "\n",
              "          const docLinkHtml = 'Like what you see? Visit the ' +\n",
              "            '<a target=\"_blank\" href=https://colab.research.google.com/notebooks/data_table.ipynb>data table notebook</a>'\n",
              "            + ' to learn more about interactive tables.';\n",
              "          element.innerHTML = '';\n",
              "          dataTable['output_type'] = 'display_data';\n",
              "          await google.colab.output.renderOutput(dataTable, element);\n",
              "          const docLink = document.createElement('div');\n",
              "          docLink.innerHTML = docLinkHtml;\n",
              "          element.appendChild(docLink);\n",
              "        }\n",
              "      </script>\n",
              "    </div>\n",
              "  </div>\n",
              "  "
            ]
          },
          "metadata": {},
          "execution_count": 51
        }
      ],
      "source": [
        "data.corr() # корреляция признаков"
      ]
    },
    {
      "cell_type": "code",
      "execution_count": 52,
      "metadata": {
        "scrolled": true,
        "colab": {
          "base_uri": "https://localhost:8080/",
          "height": 354
        },
        "id": "kAjyWpVNsDX_",
        "outputId": "a10ab421-1ffb-4e05-dabd-c2128768aede"
      },
      "outputs": [
        {
          "output_type": "display_data",
          "data": {
            "text/plain": [
              "<Figure size 432x288 with 2 Axes>"
            ],
            "image/png": "[encoded data removed]"
          },
          "metadata": {
            "needs_background": "light"
          }
        }
      ],
      "source": [
        "sns.heatmap(data.corr(), annot = True); # тепловая карта матрицы корреляций"
      ]
    },
    {
      "cell_type": "markdown",
      "metadata": {
        "id": "VVr1jeMtsDX_"
      },
      "source": [
        "Целевой признак - цена. Самая большая отрицательная корреляция с пробегом, то есть чем пробег больше, тем цена меньше. И с ремонтом: есть ремонт - цена ниже. Коробка автомат - цена выше. Немного зависит от мощности и, почему то, от месяца регистрации, а от года почти не зависит. И от почтового кода почти не зависит, но это логично."
      ]
    },
    {
      "cell_type": "code",
      "execution_count": 53,
      "metadata": {
        "id": "J8pCYwPusDX_"
      },
      "outputs": [],
      "source": [
        "data = data.drop('postal_code', axis=1) # удалим этот столбец, как неинформативный"
      ]
    },
    {
      "cell_type": "code",
      "execution_count": 54,
      "metadata": {
        "id": "Me_9V4AbsDYA"
      },
      "outputs": [],
      "source": [
        "data = data.drop('registration_month', axis=1) # удалим этот столбец, как малоинформативный"
      ]
    },
    {
      "cell_type": "code",
      "execution_count": 55,
      "metadata": {
        "colab": {
          "base_uri": "https://localhost:8080/"
        },
        "id": "S_5NCH7OsDYA",
        "outputId": "6691175e-278b-4e38-edc6-cc46d1e31959"
      },
      "outputs": [
        {
          "output_type": "execute_result",
          "data": {
            "text/plain": [
              "Index(['date_crawled', 'price', 'vehicle_type', 'registration_year', 'gearbox',\n",
              "       'power', 'model', 'kilometer', 'fuel_type', 'brand', 'repaired',\n",
              "       'date_created', 'last_seen'],\n",
              "      dtype='object')"
            ]
          },
          "metadata": {},
          "execution_count": 55
        }
      ],
      "source": [
        "data.columns"
      ]
    },
    {
      "cell_type": "code",
      "execution_count": 56,
      "metadata": {
        "colab": {
          "base_uri": "https://localhost:8080/"
        },
        "id": "_Lo8NZqQsDYA",
        "outputId": "339fb27a-ea29-4ee2-deeb-bd8265c0c664"
      },
      "outputs": [
        {
          "output_type": "execute_result",
          "data": {
            "text/plain": [
              "(339692, 13)"
            ]
          },
          "metadata": {},
          "execution_count": 56
        }
      ],
      "source": [
        "data.shape # размер датасета немного уменьшился"
      ]
    },
    {
      "cell_type": "code",
      "execution_count": 57,
      "metadata": {
        "scrolled": true,
        "colab": {
          "base_uri": "https://localhost:8080/"
        },
        "id": "7K-WpcWQsDYB",
        "outputId": "857e2214-f53f-4a6b-e747-31be63c4295f"
      },
      "outputs": [
        {
          "output_type": "execute_result",
          "data": {
            "text/plain": [
              "date_crawled             0\n",
              "price                    0\n",
              "vehicle_type         22908\n",
              "registration_year        0\n",
              "gearbox              17906\n",
              "power                    0\n",
              "model                17617\n",
              "kilometer                0\n",
              "fuel_type            27235\n",
              "brand                    0\n",
              "repaired             64770\n",
              "date_created             0\n",
              "last_seen                0\n",
              "dtype: int64"
            ]
          },
          "metadata": {},
          "execution_count": 57
        }
      ],
      "source": [
        "data.isna().sum() # кол-во пропущенных значений по столбцам"
      ]
    },
    {
      "cell_type": "code",
      "execution_count": 59,
      "metadata": {
        "colab": {
          "base_uri": "https://localhost:8080/"
        },
        "id": "EH3SV9_ZsDYB",
        "outputId": "4767532f-8bb9-482f-f0c8-21ea88319e93"
      },
      "outputs": [
        {
          "output_type": "execute_result",
          "data": {
            "text/plain": [
              "0.1906727270586296"
            ]
          },
          "metadata": {},
          "execution_count": 59
        }
      ],
      "source": [
        "data.repaired.isna().sum() / data.shape[0] # доля пропущенных значений"
      ]
    },
    {
      "cell_type": "markdown",
      "metadata": {
        "id": "vG0Pi7XBsDYB"
      },
      "source": [
        "Есть пять столбцов с существенным (более 20%) кол-вом пропущенных значений. Чем заполнить пропуски?"
      ]
    },
    {
      "cell_type": "code",
      "execution_count": 60,
      "metadata": {
        "colab": {
          "base_uri": "https://localhost:8080/"
        },
        "id": "-djq9Ip2sDYC",
        "outputId": "5485a6e4-b51d-48c3-fd04-0b5d907642cf"
      },
      "outputs": [
        {
          "output_type": "execute_result",
          "data": {
            "text/plain": [
              "array([nan, 'coupe', 'suv', 'small', 'sedan', 'convertible', 'bus',\n",
              "       'wagon', 'other'], dtype=object)"
            ]
          },
          "metadata": {},
          "execution_count": 60
        }
      ],
      "source": [
        "data.vehicle_type.unique() # можно вместо 'nan' сделать 'other'"
      ]
    },
    {
      "cell_type": "code",
      "execution_count": 61,
      "metadata": {
        "colab": {
          "base_uri": "https://localhost:8080/"
        },
        "id": "SYa8pmXssDYC",
        "outputId": "6c5d55ee-2c46-456c-f25f-8d490c4922bd"
      },
      "outputs": [
        {
          "output_type": "execute_result",
          "data": {
            "text/plain": [
              "0"
            ]
          },
          "metadata": {},
          "execution_count": 61
        }
      ],
      "source": [
        "data.vehicle_type.fillna('other', inplace=True) # убрали пропуски\n",
        "data.vehicle_type.isna().sum()"
      ]
    },
    {
      "cell_type": "code",
      "execution_count": 62,
      "metadata": {
        "colab": {
          "base_uri": "https://localhost:8080/"
        },
        "id": "YRZoqMULsDYC",
        "outputId": "e0dcedae-f18e-4339-a038-4992bd49d3dc"
      },
      "outputs": [
        {
          "output_type": "execute_result",
          "data": {
            "text/plain": [
              "array([nan,  1.,  0.])"
            ]
          },
          "metadata": {},
          "execution_count": 62
        }
      ],
      "source": [
        "data.repaired.unique() # где нет данных о ремонте заполним \"2\""
      ]
    },
    {
      "cell_type": "code",
      "execution_count": 63,
      "metadata": {
        "colab": {
          "base_uri": "https://localhost:8080/"
        },
        "id": "nKe3riZMsDYD",
        "outputId": "110f5aaf-72b0-4f7d-f2a4-507612ac5830"
      },
      "outputs": [
        {
          "output_type": "execute_result",
          "data": {
            "text/plain": [
              "0"
            ]
          },
          "metadata": {},
          "execution_count": 63
        }
      ],
      "source": [
        "data.repaired.fillna(2, inplace=True) # убрали пропуски\n",
        "data.repaired.isna().sum()"
      ]
    },
    {
      "cell_type": "code",
      "execution_count": 64,
      "metadata": {
        "scrolled": true,
        "colab": {
          "base_uri": "https://localhost:8080/"
        },
        "id": "0rVkx12fsDYD",
        "outputId": "60ca779f-c862-4c17-d5a0-723ee0d60e6d"
      },
      "outputs": [
        {
          "output_type": "execute_result",
          "data": {
            "text/plain": [
              "array(['petrol', 'gasoline', nan, 'lpg', 'other', 'hybrid', 'cng',\n",
              "       'electric'], dtype=object)"
            ]
          },
          "metadata": {},
          "execution_count": 64
        }
      ],
      "source": [
        "data.fuel_type.unique() # можно вместо 'nan' сделать 'other'"
      ]
    },
    {
      "cell_type": "code",
      "execution_count": 65,
      "metadata": {
        "colab": {
          "base_uri": "https://localhost:8080/"
        },
        "id": "O5CP5cB-sDYD",
        "outputId": "9bc41aa5-a310-486c-a9c0-0b0b271ced35"
      },
      "outputs": [
        {
          "output_type": "execute_result",
          "data": {
            "text/plain": [
              "0"
            ]
          },
          "metadata": {},
          "execution_count": 65
        }
      ],
      "source": [
        "data.fuel_type.fillna('other', inplace=True) # убрали пропуски\n",
        "data.fuel_type.isna().sum()"
      ]
    },
    {
      "cell_type": "code",
      "execution_count": 66,
      "metadata": {
        "colab": {
          "base_uri": "https://localhost:8080/"
        },
        "id": "pN18HBsbsDYE",
        "outputId": "3349c5a6-ea02-4122-dc79-908d78278b39"
      },
      "outputs": [
        {
          "output_type": "execute_result",
          "data": {
            "text/plain": [
              "array([ 1.,  0., nan])"
            ]
          },
          "metadata": {},
          "execution_count": 66
        }
      ],
      "source": [
        "data.gearbox.unique() # где нет данных о коробке передач заполним \"2\""
      ]
    },
    {
      "cell_type": "code",
      "execution_count": 67,
      "metadata": {
        "colab": {
          "base_uri": "https://localhost:8080/"
        },
        "id": "cHUUVqrqsDYE",
        "outputId": "4afb13fb-b58e-4c41-9d57-c7a35feff477"
      },
      "outputs": [
        {
          "output_type": "execute_result",
          "data": {
            "text/plain": [
              "0"
            ]
          },
          "metadata": {},
          "execution_count": 67
        }
      ],
      "source": [
        "data.gearbox.fillna(2, inplace=True) # убрали пропуски\n",
        "data.gearbox.isna().sum()"
      ]
    },
    {
      "cell_type": "code",
      "execution_count": 68,
      "metadata": {
        "scrolled": false,
        "colab": {
          "base_uri": "https://localhost:8080/"
        },
        "id": "YHHegzHFsDYE",
        "outputId": "311f334c-a0d8-4781-c51e-453c13619b2b"
      },
      "outputs": [
        {
          "output_type": "execute_result",
          "data": {
            "text/plain": [
              "array(['golf', nan, 'grand', 'fabia', '3er', '2_reihe', 'other', 'c_max',\n",
              "       '3_reihe', 'passat', 'navara', 'ka', 'polo', 'twingo', 'a_klasse',\n",
              "       'scirocco', '5er', 'arosa', 'civic', 'transporter', 'punto',\n",
              "       'e_klasse', 'clio', 'kadett', 'kangoo', 'corsa', 'one', 'fortwo',\n",
              "       '1er', 'b_klasse', 'signum', 'astra', 'a8', 'jetta', 'fiesta',\n",
              "       'c_klasse', 'micra', 'vito', 'sprinter', '156', 'escort',\n",
              "       'forester', 'xc_reihe', 'scenic', 'a4', 'a1', 'insignia', 'combo',\n",
              "       'focus', 'tt', 'a6', 'jazz', 'omega', 'slk', '7er', '80', '147',\n",
              "       '100', 'meriva', 'z_reihe', 'sorento', 'v40', 'ibiza', 'mustang',\n",
              "       'eos', 'touran', 'getz', 'a3', 'almera', 'megane', 'lupo', 'r19',\n",
              "       'caddy', 'mondeo', 'cordoba', 'colt', 'impreza', 'vectra',\n",
              "       'berlingo', 'tiguan', 'sharan', '6_reihe', 'c4', 'panda', 'up',\n",
              "       'i_reihe', 'ceed', '5_reihe', 'yeti', 'octavia', 'zafira', 'mii',\n",
              "       'rx_reihe', '6er', 'modus', 'fox', 'matiz', 'beetle', 'c1', 'rio',\n",
              "       'touareg', 'logan', 'spider', 'cuore', 's_max', 'a2', 'galaxy',\n",
              "       'c3', 'viano', 's_klasse', '1_reihe', 'avensis', 'roomster', 'sl',\n",
              "       'kaefer', 'santa', 'cooper', 'leon', '4_reihe', 'a5', 'sportage',\n",
              "       'laguna', 'ptcruiser', 'clk', 'primera', 'espace', 'x_reihe',\n",
              "       'exeo', '159', 'transit', 'juke', 'qashqai', 'carisma', 'accord',\n",
              "       'corolla', 'lanos', 'phaeton', 'verso', 'swift', 'rav', 'picanto',\n",
              "       'boxster', 'kalos', 'superb', 'stilo', 'alhambra', 'mx_reihe',\n",
              "       'roadster', 'ypsilon', 'cayenne', 'galant', 'justy', '90',\n",
              "       'sirion', 'crossfire', 'agila', 'duster', 'v50', '500', 'c_reihe',\n",
              "       'v_klasse', 'm_klasse', 'yaris', 'c5', 'aygo', 'seicento', 'cc',\n",
              "       'carnival', 'fusion', '911', 'bora', 'forfour', 'm_reihe', 'cl',\n",
              "       'tigra', '300c', 'cr_reihe', 'spark', 'v70', 'kuga', 'x_type',\n",
              "       'ducato', 's_type', 'x_trail', 'toledo', 'altea', 'voyager',\n",
              "       'calibra', 'bravo', 'antara', 'tucson', 'citigo', 'jimny',\n",
              "       'wrangler', 'lybra', 'q7', 'lancer', 'captiva', 'discovery',\n",
              "       'freelander', 'sandero', 'note', '900', 'cherokee', 'clubman',\n",
              "       'samara', 'defender', 'cx_reihe', 'legacy', '601', 'pajero',\n",
              "       'auris', 'c2', 'niva', 's60', 'nubira', 'vivaro', 'g_klasse',\n",
              "       'lodgy', '850', 'range_rover', 'q3', 'serie_2', 'glk', 'charade',\n",
              "       'croma', 'outlander', 'doblo', 'musa', 'move', '9000', 'v60',\n",
              "       '145', '200', 'b_max', 'range_rover_sport', 'aveo', 'terios',\n",
              "       'rangerover', 'q5', 'range_rover_evoque', 'materia', 'delta', 'gl',\n",
              "       'kalina', 'elefantino', 'i3', 'amarok', 'kappa', 'serie_3',\n",
              "       'serie_1'], dtype=object)"
            ]
          },
          "metadata": {},
          "execution_count": 68
        }
      ],
      "source": [
        "data.model.unique() # где нет данных о модели авто заполним \"unknown\""
      ]
    },
    {
      "cell_type": "code",
      "execution_count": 69,
      "metadata": {
        "colab": {
          "base_uri": "https://localhost:8080/"
        },
        "id": "3IOZoeO1sDYF",
        "outputId": "b1807777-4bef-49c4-e853-1db89f875da4"
      },
      "outputs": [
        {
          "output_type": "execute_result",
          "data": {
            "text/plain": [
              "0"
            ]
          },
          "metadata": {},
          "execution_count": 69
        }
      ],
      "source": [
        "data.model.fillna('unknown', inplace=True) # зполнили пропуски значением \"unknown\"\n",
        "data.model.isna().sum()"
      ]
    },
    {
      "cell_type": "code",
      "execution_count": 70,
      "metadata": {
        "id": "pUg9fL7-sDYF"
      },
      "outputs": [],
      "source": [
        "data[['gearbox', 'repaired']] = data[['gearbox', 'repaired']].astype(int) # сменим тип данных"
      ]
    },
    {
      "cell_type": "code",
      "execution_count": 71,
      "metadata": {
        "scrolled": false,
        "colab": {
          "base_uri": "https://localhost:8080/"
        },
        "id": "oJAQZaehsDYF",
        "outputId": "c67f5a27-eb29-47be-f53a-99cdaf0445c7"
      },
      "outputs": [
        {
          "output_type": "execute_result",
          "data": {
            "text/plain": [
              "date_crawled         0\n",
              "price                0\n",
              "vehicle_type         0\n",
              "registration_year    0\n",
              "gearbox              0\n",
              "power                0\n",
              "model                0\n",
              "kilometer            0\n",
              "fuel_type            0\n",
              "brand                0\n",
              "repaired             0\n",
              "date_created         0\n",
              "last_seen            0\n",
              "dtype: int64"
            ]
          },
          "metadata": {},
          "execution_count": 71
        }
      ],
      "source": [
        "data.isna().sum() # кол-во пропущенных значений по столбцам"
      ]
    },
    {
      "cell_type": "code",
      "execution_count": 72,
      "metadata": {
        "colab": {
          "base_uri": "https://localhost:8080/"
        },
        "id": "m5Y0-0D3sDYG",
        "outputId": "06d722d2-2d22-41e8-a87d-add7285654bd"
      },
      "outputs": [
        {
          "output_type": "execute_result",
          "data": {
            "text/plain": [
              "array(['volkswagen', 'audi', 'jeep', 'skoda', 'bmw', 'peugeot', 'ford',\n",
              "       'mazda', 'nissan', 'renault', 'mercedes_benz', 'seat', 'honda',\n",
              "       'fiat', 'opel', 'mini', 'smart', 'hyundai', 'sonstige_autos',\n",
              "       'alfa_romeo', 'subaru', 'volvo', 'mitsubishi', 'kia', 'suzuki',\n",
              "       'lancia', 'citroen', 'toyota', 'chevrolet', 'dacia', 'daihatsu',\n",
              "       'trabant', 'saab', 'chrysler', 'jaguar', 'daewoo', 'porsche',\n",
              "       'rover', 'land_rover', 'lada'], dtype=object)"
            ]
          },
          "metadata": {},
          "execution_count": 72
        }
      ],
      "source": [
        "data.brand.unique() # "
      ]
    },
    {
      "cell_type": "markdown",
      "metadata": {
        "id": "-qWehavJsDYG"
      },
      "source": [
        "Для обучения модели столбцы с датами `date_crawled`, `date_created` и `last_seen` не несут никакой смысловой нагрузки. Удалим их из датасета"
      ]
    },
    {
      "cell_type": "code",
      "execution_count": 73,
      "metadata": {
        "id": "JNeT9_sOsDYG"
      },
      "outputs": [],
      "source": [
        "data = data.drop('date_crawled', axis=1) # удалим этот столбцы, как неинформативные\n",
        "data = data.drop('date_created', axis=1) \n",
        "data = data.drop('last_seen', axis=1) "
      ]
    },
    {
      "cell_type": "code",
      "execution_count": 75,
      "metadata": {
        "colab": {
          "base_uri": "https://localhost:8080/",
          "height": 206
        },
        "id": "3npTJ2XxsDYG",
        "outputId": "47b16329-0b8a-44b4-bd88-710e78cf7d15"
      },
      "outputs": [
        {
          "output_type": "execute_result",
          "data": {
            "text/plain": [
              "   price vehicle_type  registration_year  gearbox  power    model  kilometer  \\\n",
              "0    480        other               1993        1      0     golf     150000   \n",
              "1  18300        coupe               2011        1    190  unknown     125000   \n",
              "2   9800          suv               2004        0    163    grand     125000   \n",
              "3   1500        small               2001        1     75     golf     150000   \n",
              "4   3600        small               2008        1     69    fabia      90000   \n",
              "\n",
              "  fuel_type       brand  repaired  \n",
              "0    petrol  volkswagen         2  \n",
              "1  gasoline        audi         1  \n",
              "2  gasoline        jeep         2  \n",
              "3    petrol  volkswagen         0  \n",
              "4  gasoline       skoda         0  "
            ],
            "text/html": [
              "\n",
              "  <div id=\"df-03001e98-c775-4f66-a611-994e44d40e8f\">\n",
              "    <div class=\"colab-df-container\">\n",
              "      <div>\n",
              "<style scoped>\n",
              "    .dataframe tbody tr th:only-of-type {\n",
              "        vertical-align: middle;\n",
              "    }\n",
              "\n",
              "    .dataframe tbody tr th {\n",
              "        vertical-align: top;\n",
              "    }\n",
              "\n",
              "    .dataframe thead th {\n",
              "        text-align: right;\n",
              "    }\n",
              "</style>\n",
              "<table border=\"1\" class=\"dataframe\">\n",
              "  <thead>\n",
              "    <tr style=\"text-align: right;\">\n",
              "      <th></th>\n",
              "      <th>price</th>\n",
              "      <th>vehicle_type</th>\n",
              "      <th>registration_year</th>\n",
              "      <th>gearbox</th>\n",
              "      <th>power</th>\n",
              "      <th>model</th>\n",
              "      <th>kilometer</th>\n",
              "      <th>fuel_type</th>\n",
              "      <th>brand</th>\n",
              "      <th>repaired</th>\n",
              "    </tr>\n",
              "  </thead>\n",
              "  <tbody>\n",
              "    <tr>\n",
              "      <th>0</th>\n",
              "      <td>480</td>\n",
              "      <td>other</td>\n",
              "      <td>1993</td>\n",
              "      <td>1</td>\n",
              "      <td>0</td>\n",
              "      <td>golf</td>\n",
              "      <td>150000</td>\n",
              "      <td>petrol</td>\n",
              "      <td>volkswagen</td>\n",
              "      <td>2</td>\n",
              "    </tr>\n",
              "    <tr>\n",
              "      <th>1</th>\n",
              "      <td>18300</td>\n",
              "      <td>coupe</td>\n",
              "      <td>2011</td>\n",
              "      <td>1</td>\n",
              "      <td>190</td>\n",
              "      <td>unknown</td>\n",
              "      <td>125000</td>\n",
              "      <td>gasoline</td>\n",
              "      <td>audi</td>\n",
              "      <td>1</td>\n",
              "    </tr>\n",
              "    <tr>\n",
              "      <th>2</th>\n",
              "      <td>9800</td>\n",
              "      <td>suv</td>\n",
              "      <td>2004</td>\n",
              "      <td>0</td>\n",
              "      <td>163</td>\n",
              "      <td>grand</td>\n",
              "      <td>125000</td>\n",
              "      <td>gasoline</td>\n",
              "      <td>jeep</td>\n",
              "      <td>2</td>\n",
              "    </tr>\n",
              "    <tr>\n",
              "      <th>3</th>\n",
              "      <td>1500</td>\n",
              "      <td>small</td>\n",
              "      <td>2001</td>\n",
              "      <td>1</td>\n",
              "      <td>75</td>\n",
              "      <td>golf</td>\n",
              "      <td>150000</td>\n",
              "      <td>petrol</td>\n",
              "      <td>volkswagen</td>\n",
              "      <td>0</td>\n",
              "    </tr>\n",
              "    <tr>\n",
              "      <th>4</th>\n",
              "      <td>3600</td>\n",
              "      <td>small</td>\n",
              "      <td>2008</td>\n",
              "      <td>1</td>\n",
              "      <td>69</td>\n",
              "      <td>fabia</td>\n",
              "      <td>90000</td>\n",
              "      <td>gasoline</td>\n",
              "      <td>skoda</td>\n",
              "      <td>0</td>\n",
              "    </tr>\n",
              "  </tbody>\n",
              "</table>\n",
              "</div>\n",
              "      <button class=\"colab-df-convert\" onclick=\"convertToInteractive('df-03001e98-c775-4f66-a611-994e44d40e8f')\"\n",
              "              title=\"Convert this dataframe to an interactive table.\"\n",
              "              style=\"display:none;\">\n",
              "        \n",
              "  <svg xmlns=\"http://www.w3.org/2000/svg\" height=\"24px\"viewBox=\"0 0 24 24\"\n",
              "       width=\"24px\">\n",
              "    <path d=\"M0 0h24v24H0V0z\" fill=\"none\"/>\n",
              "    <path d=\"M18.56 5.44l.94 2.06.94-2.06 2.06-.94-2.06-.94-.94-2.06-.94 2.06-2.06.94zm-11 1L8.5 8.5l.94-2.06 2.06-.94-2.06-.94L8.5 2.5l-.94 2.06-2.06.94zm10 10l.94 2.06.94-2.06 2.06-.94-2.06-.94-.94-2.06-.94 2.06-2.06.94z\"/><path d=\"M17.41 7.96l-1.37-1.37c-.4-.4-.92-.59-1.43-.59-.52 0-1.04.2-1.43.59L10.3 9.45l-7.72 7.72c-.78.78-.78 2.05 0 2.83L4 21.41c.39.39.9.59 1.41.59.51 0 1.02-.2 1.41-.59l7.78-7.78 2.81-2.81c.8-.78.8-2.07 0-2.86zM5.41 20L4 18.59l7.72-7.72 1.47 1.35L5.41 20z\"/>\n",
              "  </svg>\n",
              "      </button>\n",
              "      \n",
              "  <style>\n",
              "    .colab-df-container {\n",
              "      display:flex;\n",
              "      flex-wrap:wrap;\n",
              "      gap: 12px;\n",
              "    }\n",
              "\n",
              "    .colab-df-convert {\n",
              "      background-color: #E8F0FE;\n",
              "      border: none;\n",
              "      border-radius: 50%;\n",
              "      cursor: pointer;\n",
              "      display: none;\n",
              "      fill: #1967D2;\n",
              "      height: 32px;\n",
              "      padding: 0 0 0 0;\n",
              "      width: 32px;\n",
              "    }\n",
              "\n",
              "    .colab-df-convert:hover {\n",
              "      background-color: #E2EBFA;\n",
              "      box-shadow: 0px 1px 2px rgba(60, 64, 67, 0.3), 0px 1px 3px 1px rgba(60, 64, 67, 0.15);\n",
              "      fill: #174EA6;\n",
              "    }\n",
              "\n",
              "    [theme=dark] .colab-df-convert {\n",
              "      background-color: #3B4455;\n",
              "      fill: #D2E3FC;\n",
              "    }\n",
              "\n",
              "    [theme=dark] .colab-df-convert:hover {\n",
              "      background-color: #434B5C;\n",
              "      box-shadow: 0px 1px 3px 1px rgba(0, 0, 0, 0.15);\n",
              "      filter: drop-shadow(0px 1px 2px rgba(0, 0, 0, 0.3));\n",
              "      fill: #FFFFFF;\n",
              "    }\n",
              "  </style>\n",
              "\n",
              "      <script>\n",
              "        const buttonEl =\n",
              "          document.querySelector('#df-03001e98-c775-4f66-a611-994e44d40e8f button.colab-df-convert');\n",
              "        buttonEl.style.display =\n",
              "          google.colab.kernel.accessAllowed ? 'block' : 'none';\n",
              "\n",
              "        async function convertToInteractive(key) {\n",
              "          const element = document.querySelector('#df-03001e98-c775-4f66-a611-994e44d40e8f');\n",
              "          const dataTable =\n",
              "            await google.colab.kernel.invokeFunction('convertToInteractive',\n",
              "                                                     [key], {});\n",
              "          if (!dataTable) return;\n",
              "\n",
              "          const docLinkHtml = 'Like what you see? Visit the ' +\n",
              "            '<a target=\"_blank\" href=https://colab.research.google.com/notebooks/data_table.ipynb>data table notebook</a>'\n",
              "            + ' to learn more about interactive tables.';\n",
              "          element.innerHTML = '';\n",
              "          dataTable['output_type'] = 'display_data';\n",
              "          await google.colab.output.renderOutput(dataTable, element);\n",
              "          const docLink = document.createElement('div');\n",
              "          docLink.innerHTML = docLinkHtml;\n",
              "          element.appendChild(docLink);\n",
              "        }\n",
              "      </script>\n",
              "    </div>\n",
              "  </div>\n",
              "  "
            ]
          },
          "metadata": {},
          "execution_count": 75
        }
      ],
      "source": [
        "data.head()"
      ]
    },
    {
      "cell_type": "markdown",
      "metadata": {
        "id": "Kpx7tNjLsDYH"
      },
      "source": [
        "## Обучение моделей"
      ]
    },
    {
      "cell_type": "markdown",
      "metadata": {
        "id": "QgT9DUbwsDYH"
      },
      "source": [
        "### Градиентный бустинг CatBoostRegressor"
      ]
    },
    {
      "cell_type": "code",
      "execution_count": 76,
      "metadata": {
        "id": "fOtTY7BTsDYJ"
      },
      "outputs": [],
      "source": [
        "enc_cols = ['vehicle_type', 'model', 'fuel_type', 'brand', 'gearbox', 'repaired'] # 6 категорий\n",
        "num_cols = ['registration_year', 'power', 'kilometer', ]                          # 3 цифровых признака\n",
        "features, target = data[enc_cols + num_cols], data['price']"
      ]
    },
    {
      "cell_type": "code",
      "execution_count": 77,
      "metadata": {
        "id": "_Kp9hLEWsDYJ"
      },
      "outputs": [],
      "source": [
        "features_train, target_train, features_valid, target_valid, features_test, target_test = train_valid_test_split(\n",
        "    data, target = 'price', train_size=0.6, valid_size=0.2, test_size=0.2, random_state=12345) # на три выборки"
      ]
    },
    {
      "cell_type": "code",
      "execution_count": 78,
      "metadata": {
        "colab": {
          "base_uri": "https://localhost:8080/"
        },
        "id": "PG5Y9AXCsDYK",
        "outputId": "d910bce2-e9a4-4970-e436-520d58fec223"
      },
      "outputs": [
        {
          "output_type": "execute_result",
          "data": {
            "text/plain": [
              "((203815, 9), (67939, 9), (67938, 9))"
            ]
          },
          "metadata": {},
          "execution_count": 78
        }
      ],
      "source": [
        "features_train.shape, features_test.shape, features_valid.shape"
      ]
    },
    {
      "cell_type": "code",
      "execution_count": 79,
      "metadata": {
        "id": "pCqcGw6LsDYK"
      },
      "outputs": [],
      "source": [
        "cbr_model = CatBoostRegressor(silent=True, iterations=100)"
      ]
    },
    {
      "cell_type": "code",
      "execution_count": 80,
      "metadata": {
        "id": "TEOtrbgPsDYK"
      },
      "outputs": [],
      "source": [
        "cat_features = enc_cols     # 6 категориальных признаков"
      ]
    },
    {
      "cell_type": "code",
      "execution_count": 81,
      "metadata": {
        "scrolled": false,
        "colab": {
          "base_uri": "https://localhost:8080/"
        },
        "id": "b_KnT5cWsDYL",
        "outputId": "e3b9d60d-1eca-4ed7-c291-54ebc200b2e4"
      },
      "outputs": [
        {
          "output_type": "stream",
          "name": "stdout",
          "text": [
            "Learning rate set to 0.5\n",
            "0:\tlearn: 3258.0815067\ttotal: 157ms\tremaining: 15.6s\n",
            "10:\tlearn: 2020.7251485\ttotal: 966ms\tremaining: 7.81s\n",
            "20:\tlearn: 1925.5302828\ttotal: 1.74s\tremaining: 6.56s\n",
            "30:\tlearn: 1882.8914774\ttotal: 2.5s\tremaining: 5.58s\n",
            "40:\tlearn: 1839.6700376\ttotal: 3.3s\tremaining: 4.75s\n",
            "50:\tlearn: 1814.1791223\ttotal: 4.09s\tremaining: 3.93s\n",
            "60:\tlearn: 1794.1299786\ttotal: 4.84s\tremaining: 3.1s\n",
            "70:\tlearn: 1779.8570532\ttotal: 5.61s\tremaining: 2.29s\n",
            "80:\tlearn: 1768.7371273\ttotal: 6.96s\tremaining: 1.63s\n",
            "90:\tlearn: 1757.0383948\ttotal: 8.42s\tremaining: 833ms\n",
            "99:\tlearn: 1749.1307240\ttotal: 9.71s\tremaining: 0us\n",
            "CPU times: user 14.9 s, sys: 306 ms, total: 15.2 s\n",
            "Wall time: 10.2 s\n"
          ]
        },
        {
          "output_type": "execute_result",
          "data": {
            "text/plain": [
              "<catboost.core.CatBoostRegressor at 0x7f67d7d47730>"
            ]
          },
          "metadata": {},
          "execution_count": 81
        }
      ],
      "source": [
        "%%time\n",
        "cbr_model.fit(features_train, target_train, cat_features=cat_features, verbose=10)  # обучение модели CatBoostRegressor"
      ]
    },
    {
      "cell_type": "code",
      "execution_count": 82,
      "metadata": {
        "id": "yPZfa0cVsDYL"
      },
      "outputs": [],
      "source": [
        "cbr_fit_time = 10.2 # время обучения модели, секунды"
      ]
    },
    {
      "cell_type": "code",
      "execution_count": 83,
      "metadata": {
        "scrolled": false,
        "colab": {
          "base_uri": "https://localhost:8080/"
        },
        "id": "jyxq_nN9sDYL",
        "outputId": "4000fd0b-d165-46bf-b177-49b79601460c"
      },
      "outputs": [
        {
          "output_type": "stream",
          "name": "stdout",
          "text": [
            "CPU times: user 148 ms, sys: 757 µs, total: 149 ms\n",
            "Wall time: 121 ms\n"
          ]
        }
      ],
      "source": [
        "%%time\n",
        "pred_valid = cbr_model.predict(features_valid) # предсказание модели на валидационной выборке"
      ]
    },
    {
      "cell_type": "code",
      "execution_count": 84,
      "metadata": {
        "id": "5EQvs1XQsDYM"
      },
      "outputs": [],
      "source": [
        "cbr_predict_time = 0.12 # время предсказания модели, секунды"
      ]
    },
    {
      "cell_type": "code",
      "execution_count": 85,
      "metadata": {
        "colab": {
          "base_uri": "https://localhost:8080/"
        },
        "id": "PwQ9WHizsDYM",
        "outputId": "0c2c1244-1993-4edc-bdb5-231d68ac71ad"
      },
      "outputs": [
        {
          "output_type": "stream",
          "name": "stdout",
          "text": [
            "Метрика R2: 0.8455705322878453\n"
          ]
        }
      ],
      "source": [
        "cbr_r2 = r2_score(target_valid, pred_valid) # метрика R2\n",
        "print('Метрика R2:', cbr_r2)"
      ]
    },
    {
      "cell_type": "code",
      "execution_count": 86,
      "metadata": {
        "colab": {
          "base_uri": "https://localhost:8080/"
        },
        "id": "kQEM45tDsDYM",
        "outputId": "f4f8216a-6239-42dc-d1d9-55a05d5aa3a1"
      },
      "outputs": [
        {
          "output_type": "stream",
          "name": "stdout",
          "text": [
            "Метрика RMSE: 1787.8260944613876\n"
          ]
        }
      ],
      "source": [
        "cbr_rmse = sqrt(mean_squared_error(target_valid, pred_valid)) # RMSE - кв.корень из MSE - средней квадратичной ошибки\n",
        "print('Метрика RMSE:', cbr_rmse)"
      ]
    },
    {
      "cell_type": "markdown",
      "metadata": {
        "id": "83iVxe9OsDYM"
      },
      "source": [
        "### RandomForestRegressor"
      ]
    },
    {
      "cell_type": "markdown",
      "metadata": {
        "id": "JqVOjJVpsDYN"
      },
      "source": [
        "Чтобы использовать моделм случайного леса и линейной регрессии нужно категориальные признаки перевести в цифровые"
      ]
    },
    {
      "cell_type": "code",
      "execution_count": 87,
      "metadata": {
        "id": "yZx-KCMSsDYO"
      },
      "outputs": [],
      "source": [
        "ct = make_column_transformer(\n",
        "    (OrdinalEncoder(handle_unknown='use_encoded_value', unknown_value=-1), enc_cols), \n",
        "    (StandardScaler(), num_cols), \n",
        "    remainder='passthrough'\n",
        ")\n",
        "model_log_pipe = Pipeline(steps=[('prep', ct), ('reg', RandomForestRegressor())])\n",
        "\n",
        "rfr_model = GridSearchCV(model_log_pipe, {'reg__max_depth':[3], 'reg__n_estimators':[50]}, scoring='neg_mean_squared_error')"
      ]
    },
    {
      "cell_type": "code",
      "execution_count": 88,
      "metadata": {
        "colab": {
          "base_uri": "https://localhost:8080/",
          "height": 253
        },
        "id": "74JuPv9RsDYO",
        "outputId": "9eec604c-6b90-45b1-8deb-bfe75eff67b2"
      },
      "outputs": [
        {
          "output_type": "stream",
          "name": "stdout",
          "text": [
            "CPU times: user 29.7 s, sys: 0 ns, total: 29.7 s\n",
            "Wall time: 30.2 s\n"
          ]
        },
        {
          "output_type": "execute_result",
          "data": {
            "text/plain": [
              "GridSearchCV(estimator=Pipeline(steps=[('prep',\n",
              "                                        ColumnTransformer(remainder='passthrough',\n",
              "                                                          transformers=[('ordinalencoder',\n",
              "                                                                         OrdinalEncoder(handle_unknown='use_encoded_value',\n",
              "                                                                                        unknown_value=-1),\n",
              "                                                                         ['vehicle_type',\n",
              "                                                                          'model',\n",
              "                                                                          'fuel_type',\n",
              "                                                                          'brand',\n",
              "                                                                          'gearbox',\n",
              "                                                                          'repaired']),\n",
              "                                                                        ('standardscaler',\n",
              "                                                                         StandardScaler(),\n",
              "                                                                         ['registration_year',\n",
              "                                                                          'power',\n",
              "                                                                          'kilometer'])])),\n",
              "                                       ('reg', RandomForestRegressor())]),\n",
              "             param_grid={'reg__max_depth': [3], 'reg__n_estimators': [50]},\n",
              "             scoring='neg_mean_squared_error')"
            ],
            "text/html": [
              "<style>#sk-container-id-1 {color: black;background-color: white;}#sk-container-id-1 pre{padding: 0;}#sk-container-id-1 div.sk-toggleable {background-color: white;}#sk-container-id-1 label.sk-toggleable__label {cursor: pointer;display: block;width: 100%;margin-bottom: 0;padding: 0.3em;box-sizing: border-box;text-align: center;}#sk-container-id-1 label.sk-toggleable__label-arrow:before {content: \"▸\";float: left;margin-right: 0.25em;color: #696969;}#sk-container-id-1 label.sk-toggleable__label-arrow:hover:before {color: black;}#sk-container-id-1 div.sk-estimator:hover label.sk-toggleable__label-arrow:before {color: black;}#sk-container-id-1 div.sk-toggleable__content {max-height: 0;max-width: 0;overflow: hidden;text-align: left;background-color: #f0f8ff;}#sk-container-id-1 div.sk-toggleable__content pre {margin: 0.2em;color: black;border-radius: 0.25em;background-color: #f0f8ff;}#sk-container-id-1 input.sk-toggleable__control:checked~div.sk-toggleable__content {max-height: 200px;max-width: 100%;overflow: auto;}#sk-container-id-1 input.sk-toggleable__control:checked~label.sk-toggleable__label-arrow:before {content: \"▾\";}#sk-container-id-1 div.sk-estimator input.sk-toggleable__control:checked~label.sk-toggleable__label {background-color: #d4ebff;}#sk-container-id-1 div.sk-label input.sk-toggleable__control:checked~label.sk-toggleable__label {background-color: #d4ebff;}#sk-container-id-1 input.sk-hidden--visually {border: 0;clip: rect(1px 1px 1px 1px);clip: rect(1px, 1px, 1px, 1px);height: 1px;margin: -1px;overflow: hidden;padding: 0;position: absolute;width: 1px;}#sk-container-id-1 div.sk-estimator {font-family: monospace;background-color: #f0f8ff;border: 1px dotted black;border-radius: 0.25em;box-sizing: border-box;margin-bottom: 0.5em;}#sk-container-id-1 div.sk-estimator:hover {background-color: #d4ebff;}#sk-container-id-1 div.sk-parallel-item::after {content: \"\";width: 100%;border-bottom: 1px solid gray;flex-grow: 1;}#sk-container-id-1 div.sk-label:hover label.sk-toggleable__label {background-color: #d4ebff;}#sk-container-id-1 div.sk-serial::before {content: \"\";position: absolute;border-left: 1px solid gray;box-sizing: border-box;top: 0;bottom: 0;left: 50%;z-index: 0;}#sk-container-id-1 div.sk-serial {display: flex;flex-direction: column;align-items: center;background-color: white;padding-right: 0.2em;padding-left: 0.2em;position: relative;}#sk-container-id-1 div.sk-item {position: relative;z-index: 1;}#sk-container-id-1 div.sk-parallel {display: flex;align-items: stretch;justify-content: center;background-color: white;position: relative;}#sk-container-id-1 div.sk-item::before, #sk-container-id-1 div.sk-parallel-item::before {content: \"\";position: absolute;border-left: 1px solid gray;box-sizing: border-box;top: 0;bottom: 0;left: 50%;z-index: -1;}#sk-container-id-1 div.sk-parallel-item {display: flex;flex-direction: column;z-index: 1;position: relative;background-color: white;}#sk-container-id-1 div.sk-parallel-item:first-child::after {align-self: flex-end;width: 50%;}#sk-container-id-1 div.sk-parallel-item:last-child::after {align-self: flex-start;width: 50%;}#sk-container-id-1 div.sk-parallel-item:only-child::after {width: 0;}#sk-container-id-1 div.sk-dashed-wrapped {border: 1px dashed gray;margin: 0 0.4em 0.5em 0.4em;box-sizing: border-box;padding-bottom: 0.4em;background-color: white;}#sk-container-id-1 div.sk-label label {font-family: monospace;font-weight: bold;display: inline-block;line-height: 1.2em;}#sk-container-id-1 div.sk-label-container {text-align: center;}#sk-container-id-1 div.sk-container {/* jupyter's `normalize.less` sets `[hidden] { display: none; }` but bootstrap.min.css set `[hidden] { display: none !important; }` so we also need the `!important` here to be able to override the default hidden behavior on the sphinx rendered scikit-learn.org. See: https://github.com/scikit-learn/scikit-learn/issues/21755 */display: inline-block !important;position: relative;}#sk-container-id-1 div.sk-text-repr-fallback {display: none;}</style><div id=\"sk-container-id-1\" class=\"sk-top-container\"><div class=\"sk-text-repr-fallback\"><pre>GridSearchCV(estimator=Pipeline(steps=[(&#x27;prep&#x27;,\n",
              "                                        ColumnTransformer(remainder=&#x27;passthrough&#x27;,\n",
              "                                                          transformers=[(&#x27;ordinalencoder&#x27;,\n",
              "                                                                         OrdinalEncoder(handle_unknown=&#x27;use_encoded_value&#x27;,\n",
              "                                                                                        unknown_value=-1),\n",
              "                                                                         [&#x27;vehicle_type&#x27;,\n",
              "                                                                          &#x27;model&#x27;,\n",
              "                                                                          &#x27;fuel_type&#x27;,\n",
              "                                                                          &#x27;brand&#x27;,\n",
              "                                                                          &#x27;gearbox&#x27;,\n",
              "                                                                          &#x27;repaired&#x27;]),\n",
              "                                                                        (&#x27;standardscaler&#x27;,\n",
              "                                                                         StandardScaler(),\n",
              "                                                                         [&#x27;registration_year&#x27;,\n",
              "                                                                          &#x27;power&#x27;,\n",
              "                                                                          &#x27;kilometer&#x27;])])),\n",
              "                                       (&#x27;reg&#x27;, RandomForestRegressor())]),\n",
              "             param_grid={&#x27;reg__max_depth&#x27;: [3], &#x27;reg__n_estimators&#x27;: [50]},\n",
              "             scoring=&#x27;neg_mean_squared_error&#x27;)</pre><b>In a Jupyter environment, please rerun this cell to show the HTML representation or trust the notebook. <br />On GitHub, the HTML representation is unable to render, please try loading this page with nbviewer.org.</b></div><div class=\"sk-container\" hidden><div class=\"sk-item sk-dashed-wrapped\"><div class=\"sk-label-container\"><div class=\"sk-label sk-toggleable\"><input class=\"sk-toggleable__control sk-hidden--visually\" id=\"sk-estimator-id-1\" type=\"checkbox\" ><label for=\"sk-estimator-id-1\" class=\"sk-toggleable__label sk-toggleable__label-arrow\">GridSearchCV</label><div class=\"sk-toggleable__content\"><pre>GridSearchCV(estimator=Pipeline(steps=[(&#x27;prep&#x27;,\n",
              "                                        ColumnTransformer(remainder=&#x27;passthrough&#x27;,\n",
              "                                                          transformers=[(&#x27;ordinalencoder&#x27;,\n",
              "                                                                         OrdinalEncoder(handle_unknown=&#x27;use_encoded_value&#x27;,\n",
              "                                                                                        unknown_value=-1),\n",
              "                                                                         [&#x27;vehicle_type&#x27;,\n",
              "                                                                          &#x27;model&#x27;,\n",
              "                                                                          &#x27;fuel_type&#x27;,\n",
              "                                                                          &#x27;brand&#x27;,\n",
              "                                                                          &#x27;gearbox&#x27;,\n",
              "                                                                          &#x27;repaired&#x27;]),\n",
              "                                                                        (&#x27;standardscaler&#x27;,\n",
              "                                                                         StandardScaler(),\n",
              "                                                                         [&#x27;registration_year&#x27;,\n",
              "                                                                          &#x27;power&#x27;,\n",
              "                                                                          &#x27;kilometer&#x27;])])),\n",
              "                                       (&#x27;reg&#x27;, RandomForestRegressor())]),\n",
              "             param_grid={&#x27;reg__max_depth&#x27;: [3], &#x27;reg__n_estimators&#x27;: [50]},\n",
              "             scoring=&#x27;neg_mean_squared_error&#x27;)</pre></div></div></div><div class=\"sk-parallel\"><div class=\"sk-parallel-item\"><div class=\"sk-item\"><div class=\"sk-label-container\"><div class=\"sk-label sk-toggleable\"><input class=\"sk-toggleable__control sk-hidden--visually\" id=\"sk-estimator-id-2\" type=\"checkbox\" ><label for=\"sk-estimator-id-2\" class=\"sk-toggleable__label sk-toggleable__label-arrow\">estimator: Pipeline</label><div class=\"sk-toggleable__content\"><pre>Pipeline(steps=[(&#x27;prep&#x27;,\n",
              "                 ColumnTransformer(remainder=&#x27;passthrough&#x27;,\n",
              "                                   transformers=[(&#x27;ordinalencoder&#x27;,\n",
              "                                                  OrdinalEncoder(handle_unknown=&#x27;use_encoded_value&#x27;,\n",
              "                                                                 unknown_value=-1),\n",
              "                                                  [&#x27;vehicle_type&#x27;, &#x27;model&#x27;,\n",
              "                                                   &#x27;fuel_type&#x27;, &#x27;brand&#x27;,\n",
              "                                                   &#x27;gearbox&#x27;, &#x27;repaired&#x27;]),\n",
              "                                                 (&#x27;standardscaler&#x27;,\n",
              "                                                  StandardScaler(),\n",
              "                                                  [&#x27;registration_year&#x27;, &#x27;power&#x27;,\n",
              "                                                   &#x27;kilometer&#x27;])])),\n",
              "                (&#x27;reg&#x27;, RandomForestRegressor())])</pre></div></div></div><div class=\"sk-serial\"><div class=\"sk-item\"><div class=\"sk-serial\"><div class=\"sk-item sk-dashed-wrapped\"><div class=\"sk-label-container\"><div class=\"sk-label sk-toggleable\"><input class=\"sk-toggleable__control sk-hidden--visually\" id=\"sk-estimator-id-3\" type=\"checkbox\" ><label for=\"sk-estimator-id-3\" class=\"sk-toggleable__label sk-toggleable__label-arrow\">prep: ColumnTransformer</label><div class=\"sk-toggleable__content\"><pre>ColumnTransformer(remainder=&#x27;passthrough&#x27;,\n",
              "                  transformers=[(&#x27;ordinalencoder&#x27;,\n",
              "                                 OrdinalEncoder(handle_unknown=&#x27;use_encoded_value&#x27;,\n",
              "                                                unknown_value=-1),\n",
              "                                 [&#x27;vehicle_type&#x27;, &#x27;model&#x27;, &#x27;fuel_type&#x27;, &#x27;brand&#x27;,\n",
              "                                  &#x27;gearbox&#x27;, &#x27;repaired&#x27;]),\n",
              "                                (&#x27;standardscaler&#x27;, StandardScaler(),\n",
              "                                 [&#x27;registration_year&#x27;, &#x27;power&#x27;, &#x27;kilometer&#x27;])])</pre></div></div></div><div class=\"sk-parallel\"><div class=\"sk-parallel-item\"><div class=\"sk-item\"><div class=\"sk-label-container\"><div class=\"sk-label sk-toggleable\"><input class=\"sk-toggleable__control sk-hidden--visually\" id=\"sk-estimator-id-4\" type=\"checkbox\" ><label for=\"sk-estimator-id-4\" class=\"sk-toggleable__label sk-toggleable__label-arrow\">ordinalencoder</label><div class=\"sk-toggleable__content\"><pre>[&#x27;vehicle_type&#x27;, &#x27;model&#x27;, &#x27;fuel_type&#x27;, &#x27;brand&#x27;, &#x27;gearbox&#x27;, &#x27;repaired&#x27;]</pre></div></div></div><div class=\"sk-serial\"><div class=\"sk-item\"><div class=\"sk-estimator sk-toggleable\"><input class=\"sk-toggleable__control sk-hidden--visually\" id=\"sk-estimator-id-5\" type=\"checkbox\" ><label for=\"sk-estimator-id-5\" class=\"sk-toggleable__label sk-toggleable__label-arrow\">OrdinalEncoder</label><div class=\"sk-toggleable__content\"><pre>OrdinalEncoder(handle_unknown=&#x27;use_encoded_value&#x27;, unknown_value=-1)</pre></div></div></div></div></div></div><div class=\"sk-parallel-item\"><div class=\"sk-item\"><div class=\"sk-label-container\"><div class=\"sk-label sk-toggleable\"><input class=\"sk-toggleable__control sk-hidden--visually\" id=\"sk-estimator-id-6\" type=\"checkbox\" ><label for=\"sk-estimator-id-6\" class=\"sk-toggleable__label sk-toggleable__label-arrow\">standardscaler</label><div class=\"sk-toggleable__content\"><pre>[&#x27;registration_year&#x27;, &#x27;power&#x27;, &#x27;kilometer&#x27;]</pre></div></div></div><div class=\"sk-serial\"><div class=\"sk-item\"><div class=\"sk-estimator sk-toggleable\"><input class=\"sk-toggleable__control sk-hidden--visually\" id=\"sk-estimator-id-7\" type=\"checkbox\" ><label for=\"sk-estimator-id-7\" class=\"sk-toggleable__label sk-toggleable__label-arrow\">StandardScaler</label><div class=\"sk-toggleable__content\"><pre>StandardScaler()</pre></div></div></div></div></div></div><div class=\"sk-parallel-item\"><div class=\"sk-item\"><div class=\"sk-label-container\"><div class=\"sk-label sk-toggleable\"><input class=\"sk-toggleable__control sk-hidden--visually\" id=\"sk-estimator-id-8\" type=\"checkbox\" ><label for=\"sk-estimator-id-8\" class=\"sk-toggleable__label sk-toggleable__label-arrow\">remainder</label><div class=\"sk-toggleable__content\"><pre></pre></div></div></div><div class=\"sk-serial\"><div class=\"sk-item\"><div class=\"sk-estimator sk-toggleable\"><input class=\"sk-toggleable__control sk-hidden--visually\" id=\"sk-estimator-id-9\" type=\"checkbox\" ><label for=\"sk-estimator-id-9\" class=\"sk-toggleable__label sk-toggleable__label-arrow\">passthrough</label><div class=\"sk-toggleable__content\"><pre>passthrough</pre></div></div></div></div></div></div></div></div><div class=\"sk-item\"><div class=\"sk-estimator sk-toggleable\"><input class=\"sk-toggleable__control sk-hidden--visually\" id=\"sk-estimator-id-10\" type=\"checkbox\" ><label for=\"sk-estimator-id-10\" class=\"sk-toggleable__label sk-toggleable__label-arrow\">RandomForestRegressor</label><div class=\"sk-toggleable__content\"><pre>RandomForestRegressor()</pre></div></div></div></div></div></div></div></div></div></div></div></div>"
            ]
          },
          "metadata": {},
          "execution_count": 88
        }
      ],
      "source": [
        "%%time\n",
        "rfr_model.fit(features_train, target_train);  # обучение модели RandomForestRegressor"
      ]
    },
    {
      "cell_type": "code",
      "execution_count": 90,
      "metadata": {
        "id": "vCaRLotpsDYO"
      },
      "outputs": [],
      "source": [
        "rfr_fit_time = 30.2 # время обучения модели, секунды"
      ]
    },
    {
      "cell_type": "code",
      "execution_count": 91,
      "metadata": {
        "colab": {
          "base_uri": "https://localhost:8080/"
        },
        "id": "zUWXKIdisDYP",
        "outputId": "429f4ebe-20ef-45a7-fe94-3e3e4f42bb43"
      },
      "outputs": [
        {
          "output_type": "execute_result",
          "data": {
            "text/plain": [
              "(4.679326677322388, 0.13328490257263184, 2909.6886998167092)"
            ]
          },
          "metadata": {},
          "execution_count": 91
        }
      ],
      "source": [
        "pd.DataFrame(rfr_model.cv_results_).iloc[rfr_model.best_index_]['mean_fit_time'], \\\n",
        "pd.DataFrame(rfr_model.cv_results_).iloc[rfr_model.best_index_]['mean_score_time'],\\\n",
        "(rfr_model.best_score_*(-1))**0.5"
      ]
    },
    {
      "cell_type": "code",
      "execution_count": 92,
      "metadata": {
        "colab": {
          "base_uri": "https://localhost:8080/"
        },
        "id": "R37n7PknsDYP",
        "outputId": "bfb4bde7-9eb3-41e4-9868-0ea61b093657"
      },
      "outputs": [
        {
          "output_type": "stream",
          "name": "stdout",
          "text": [
            "CPU times: user 196 ms, sys: 534 µs, total: 196 ms\n",
            "Wall time: 196 ms\n"
          ]
        }
      ],
      "source": [
        "%%time\n",
        "pred_valid = rfr_model.predict(features_valid)  # предсказание модели на валидационной выборке"
      ]
    },
    {
      "cell_type": "code",
      "execution_count": 93,
      "metadata": {
        "id": "RcX0IQsUsDYP"
      },
      "outputs": [],
      "source": [
        "rfr_predict_time = 0.196 # время предсказания модели, секунды"
      ]
    },
    {
      "cell_type": "code",
      "execution_count": 94,
      "metadata": {
        "colab": {
          "base_uri": "https://localhost:8080/"
        },
        "id": "XHIWyNJxsDYP",
        "outputId": "5e65eb38-fe1b-49c9-e8da-99a4b018aba4"
      },
      "outputs": [
        {
          "output_type": "stream",
          "name": "stdout",
          "text": [
            "Метрика R2: 0.593697278600872\n"
          ]
        }
      ],
      "source": [
        "rfr_r2 = r2_score(target_valid, pred_valid) # метрика R2\n",
        "print('Метрика R2:', rfr_r2)"
      ]
    },
    {
      "cell_type": "code",
      "execution_count": 95,
      "metadata": {
        "colab": {
          "base_uri": "https://localhost:8080/"
        },
        "id": "m5dObXj_sDYQ",
        "outputId": "68b9dfac-f194-41a1-b724-fde3339791be"
      },
      "outputs": [
        {
          "output_type": "stream",
          "name": "stdout",
          "text": [
            "Метрика RMSE: 2899.9135426943517\n"
          ]
        }
      ],
      "source": [
        "rfr_rmse = sqrt(mean_squared_error(target_valid, pred_valid)) # RMSE - кв.корень из MSE - средней квадратичной ошибки\n",
        "print('Метрика RMSE:',rfr_rmse)"
      ]
    },
    {
      "cell_type": "markdown",
      "metadata": {
        "id": "jv1YOfSAsDYQ"
      },
      "source": [
        "###  LinearRegression "
      ]
    },
    {
      "cell_type": "code",
      "execution_count": 96,
      "metadata": {
        "id": "9ZRzM7y9sDYR"
      },
      "outputs": [],
      "source": [
        "ct = make_column_transformer(\n",
        "    (OrdinalEncoder(handle_unknown='use_encoded_value', unknown_value=-1), enc_cols), \n",
        "    (StandardScaler(), num_cols), \n",
        "    remainder='passthrough'\n",
        ")"
      ]
    },
    {
      "cell_type": "code",
      "execution_count": 97,
      "metadata": {
        "id": "oW92lCmvsDYR"
      },
      "outputs": [],
      "source": [
        "model_log_pipe = Pipeline(steps=[('prep', ct), ('reg', LinearRegression())])"
      ]
    },
    {
      "cell_type": "code",
      "execution_count": 98,
      "metadata": {
        "id": "0e7hX9wTsDYR"
      },
      "outputs": [],
      "source": [
        "lr_model = GridSearchCV(model_log_pipe, {}, scoring='neg_mean_squared_error')"
      ]
    },
    {
      "cell_type": "code",
      "execution_count": 99,
      "metadata": {
        "colab": {
          "base_uri": "https://localhost:8080/",
          "height": 253
        },
        "id": "FN-h-UIpsDYS",
        "outputId": "a55e35d5-ccf5-4d9f-a373-b13ac16a524d"
      },
      "outputs": [
        {
          "output_type": "stream",
          "name": "stdout",
          "text": [
            "CPU times: user 2.39 s, sys: 981 ms, total: 3.37 s\n",
            "Wall time: 2.41 s\n"
          ]
        },
        {
          "output_type": "execute_result",
          "data": {
            "text/plain": [
              "GridSearchCV(estimator=Pipeline(steps=[('prep',\n",
              "                                        ColumnTransformer(remainder='passthrough',\n",
              "                                                          transformers=[('ordinalencoder',\n",
              "                                                                         OrdinalEncoder(handle_unknown='use_encoded_value',\n",
              "                                                                                        unknown_value=-1),\n",
              "                                                                         ['vehicle_type',\n",
              "                                                                          'model',\n",
              "                                                                          'fuel_type',\n",
              "                                                                          'brand',\n",
              "                                                                          'gearbox',\n",
              "                                                                          'repaired']),\n",
              "                                                                        ('standardscaler',\n",
              "                                                                         StandardScaler(),\n",
              "                                                                         ['registration_year',\n",
              "                                                                          'power',\n",
              "                                                                          'kilometer'])])),\n",
              "                                       ('reg', LinearRegression())]),\n",
              "             param_grid={}, scoring='neg_mean_squared_error')"
            ],
            "text/html": [
              "<style>#sk-container-id-2 {color: black;background-color: white;}#sk-container-id-2 pre{padding: 0;}#sk-container-id-2 div.sk-toggleable {background-color: white;}#sk-container-id-2 label.sk-toggleable__label {cursor: pointer;display: block;width: 100%;margin-bottom: 0;padding: 0.3em;box-sizing: border-box;text-align: center;}#sk-container-id-2 label.sk-toggleable__label-arrow:before {content: \"▸\";float: left;margin-right: 0.25em;color: #696969;}#sk-container-id-2 label.sk-toggleable__label-arrow:hover:before {color: black;}#sk-container-id-2 div.sk-estimator:hover label.sk-toggleable__label-arrow:before {color: black;}#sk-container-id-2 div.sk-toggleable__content {max-height: 0;max-width: 0;overflow: hidden;text-align: left;background-color: #f0f8ff;}#sk-container-id-2 div.sk-toggleable__content pre {margin: 0.2em;color: black;border-radius: 0.25em;background-color: #f0f8ff;}#sk-container-id-2 input.sk-toggleable__control:checked~div.sk-toggleable__content {max-height: 200px;max-width: 100%;overflow: auto;}#sk-container-id-2 input.sk-toggleable__control:checked~label.sk-toggleable__label-arrow:before {content: \"▾\";}#sk-container-id-2 div.sk-estimator input.sk-toggleable__control:checked~label.sk-toggleable__label {background-color: #d4ebff;}#sk-container-id-2 div.sk-label input.sk-toggleable__control:checked~label.sk-toggleable__label {background-color: #d4ebff;}#sk-container-id-2 input.sk-hidden--visually {border: 0;clip: rect(1px 1px 1px 1px);clip: rect(1px, 1px, 1px, 1px);height: 1px;margin: -1px;overflow: hidden;padding: 0;position: absolute;width: 1px;}#sk-container-id-2 div.sk-estimator {font-family: monospace;background-color: #f0f8ff;border: 1px dotted black;border-radius: 0.25em;box-sizing: border-box;margin-bottom: 0.5em;}#sk-container-id-2 div.sk-estimator:hover {background-color: #d4ebff;}#sk-container-id-2 div.sk-parallel-item::after {content: \"\";width: 100%;border-bottom: 1px solid gray;flex-grow: 1;}#sk-container-id-2 div.sk-label:hover label.sk-toggleable__label {background-color: #d4ebff;}#sk-container-id-2 div.sk-serial::before {content: \"\";position: absolute;border-left: 1px solid gray;box-sizing: border-box;top: 0;bottom: 0;left: 50%;z-index: 0;}#sk-container-id-2 div.sk-serial {display: flex;flex-direction: column;align-items: center;background-color: white;padding-right: 0.2em;padding-left: 0.2em;position: relative;}#sk-container-id-2 div.sk-item {position: relative;z-index: 1;}#sk-container-id-2 div.sk-parallel {display: flex;align-items: stretch;justify-content: center;background-color: white;position: relative;}#sk-container-id-2 div.sk-item::before, #sk-container-id-2 div.sk-parallel-item::before {content: \"\";position: absolute;border-left: 1px solid gray;box-sizing: border-box;top: 0;bottom: 0;left: 50%;z-index: -1;}#sk-container-id-2 div.sk-parallel-item {display: flex;flex-direction: column;z-index: 1;position: relative;background-color: white;}#sk-container-id-2 div.sk-parallel-item:first-child::after {align-self: flex-end;width: 50%;}#sk-container-id-2 div.sk-parallel-item:last-child::after {align-self: flex-start;width: 50%;}#sk-container-id-2 div.sk-parallel-item:only-child::after {width: 0;}#sk-container-id-2 div.sk-dashed-wrapped {border: 1px dashed gray;margin: 0 0.4em 0.5em 0.4em;box-sizing: border-box;padding-bottom: 0.4em;background-color: white;}#sk-container-id-2 div.sk-label label {font-family: monospace;font-weight: bold;display: inline-block;line-height: 1.2em;}#sk-container-id-2 div.sk-label-container {text-align: center;}#sk-container-id-2 div.sk-container {/* jupyter's `normalize.less` sets `[hidden] { display: none; }` but bootstrap.min.css set `[hidden] { display: none !important; }` so we also need the `!important` here to be able to override the default hidden behavior on the sphinx rendered scikit-learn.org. See: https://github.com/scikit-learn/scikit-learn/issues/21755 */display: inline-block !important;position: relative;}#sk-container-id-2 div.sk-text-repr-fallback {display: none;}</style><div id=\"sk-container-id-2\" class=\"sk-top-container\"><div class=\"sk-text-repr-fallback\"><pre>GridSearchCV(estimator=Pipeline(steps=[(&#x27;prep&#x27;,\n",
              "                                        ColumnTransformer(remainder=&#x27;passthrough&#x27;,\n",
              "                                                          transformers=[(&#x27;ordinalencoder&#x27;,\n",
              "                                                                         OrdinalEncoder(handle_unknown=&#x27;use_encoded_value&#x27;,\n",
              "                                                                                        unknown_value=-1),\n",
              "                                                                         [&#x27;vehicle_type&#x27;,\n",
              "                                                                          &#x27;model&#x27;,\n",
              "                                                                          &#x27;fuel_type&#x27;,\n",
              "                                                                          &#x27;brand&#x27;,\n",
              "                                                                          &#x27;gearbox&#x27;,\n",
              "                                                                          &#x27;repaired&#x27;]),\n",
              "                                                                        (&#x27;standardscaler&#x27;,\n",
              "                                                                         StandardScaler(),\n",
              "                                                                         [&#x27;registration_year&#x27;,\n",
              "                                                                          &#x27;power&#x27;,\n",
              "                                                                          &#x27;kilometer&#x27;])])),\n",
              "                                       (&#x27;reg&#x27;, LinearRegression())]),\n",
              "             param_grid={}, scoring=&#x27;neg_mean_squared_error&#x27;)</pre><b>In a Jupyter environment, please rerun this cell to show the HTML representation or trust the notebook. <br />On GitHub, the HTML representation is unable to render, please try loading this page with nbviewer.org.</b></div><div class=\"sk-container\" hidden><div class=\"sk-item sk-dashed-wrapped\"><div class=\"sk-label-container\"><div class=\"sk-label sk-toggleable\"><input class=\"sk-toggleable__control sk-hidden--visually\" id=\"sk-estimator-id-11\" type=\"checkbox\" ><label for=\"sk-estimator-id-11\" class=\"sk-toggleable__label sk-toggleable__label-arrow\">GridSearchCV</label><div class=\"sk-toggleable__content\"><pre>GridSearchCV(estimator=Pipeline(steps=[(&#x27;prep&#x27;,\n",
              "                                        ColumnTransformer(remainder=&#x27;passthrough&#x27;,\n",
              "                                                          transformers=[(&#x27;ordinalencoder&#x27;,\n",
              "                                                                         OrdinalEncoder(handle_unknown=&#x27;use_encoded_value&#x27;,\n",
              "                                                                                        unknown_value=-1),\n",
              "                                                                         [&#x27;vehicle_type&#x27;,\n",
              "                                                                          &#x27;model&#x27;,\n",
              "                                                                          &#x27;fuel_type&#x27;,\n",
              "                                                                          &#x27;brand&#x27;,\n",
              "                                                                          &#x27;gearbox&#x27;,\n",
              "                                                                          &#x27;repaired&#x27;]),\n",
              "                                                                        (&#x27;standardscaler&#x27;,\n",
              "                                                                         StandardScaler(),\n",
              "                                                                         [&#x27;registration_year&#x27;,\n",
              "                                                                          &#x27;power&#x27;,\n",
              "                                                                          &#x27;kilometer&#x27;])])),\n",
              "                                       (&#x27;reg&#x27;, LinearRegression())]),\n",
              "             param_grid={}, scoring=&#x27;neg_mean_squared_error&#x27;)</pre></div></div></div><div class=\"sk-parallel\"><div class=\"sk-parallel-item\"><div class=\"sk-item\"><div class=\"sk-label-container\"><div class=\"sk-label sk-toggleable\"><input class=\"sk-toggleable__control sk-hidden--visually\" id=\"sk-estimator-id-12\" type=\"checkbox\" ><label for=\"sk-estimator-id-12\" class=\"sk-toggleable__label sk-toggleable__label-arrow\">estimator: Pipeline</label><div class=\"sk-toggleable__content\"><pre>Pipeline(steps=[(&#x27;prep&#x27;,\n",
              "                 ColumnTransformer(remainder=&#x27;passthrough&#x27;,\n",
              "                                   transformers=[(&#x27;ordinalencoder&#x27;,\n",
              "                                                  OrdinalEncoder(handle_unknown=&#x27;use_encoded_value&#x27;,\n",
              "                                                                 unknown_value=-1),\n",
              "                                                  [&#x27;vehicle_type&#x27;, &#x27;model&#x27;,\n",
              "                                                   &#x27;fuel_type&#x27;, &#x27;brand&#x27;,\n",
              "                                                   &#x27;gearbox&#x27;, &#x27;repaired&#x27;]),\n",
              "                                                 (&#x27;standardscaler&#x27;,\n",
              "                                                  StandardScaler(),\n",
              "                                                  [&#x27;registration_year&#x27;, &#x27;power&#x27;,\n",
              "                                                   &#x27;kilometer&#x27;])])),\n",
              "                (&#x27;reg&#x27;, LinearRegression())])</pre></div></div></div><div class=\"sk-serial\"><div class=\"sk-item\"><div class=\"sk-serial\"><div class=\"sk-item sk-dashed-wrapped\"><div class=\"sk-label-container\"><div class=\"sk-label sk-toggleable\"><input class=\"sk-toggleable__control sk-hidden--visually\" id=\"sk-estimator-id-13\" type=\"checkbox\" ><label for=\"sk-estimator-id-13\" class=\"sk-toggleable__label sk-toggleable__label-arrow\">prep: ColumnTransformer</label><div class=\"sk-toggleable__content\"><pre>ColumnTransformer(remainder=&#x27;passthrough&#x27;,\n",
              "                  transformers=[(&#x27;ordinalencoder&#x27;,\n",
              "                                 OrdinalEncoder(handle_unknown=&#x27;use_encoded_value&#x27;,\n",
              "                                                unknown_value=-1),\n",
              "                                 [&#x27;vehicle_type&#x27;, &#x27;model&#x27;, &#x27;fuel_type&#x27;, &#x27;brand&#x27;,\n",
              "                                  &#x27;gearbox&#x27;, &#x27;repaired&#x27;]),\n",
              "                                (&#x27;standardscaler&#x27;, StandardScaler(),\n",
              "                                 [&#x27;registration_year&#x27;, &#x27;power&#x27;, &#x27;kilometer&#x27;])])</pre></div></div></div><div class=\"sk-parallel\"><div class=\"sk-parallel-item\"><div class=\"sk-item\"><div class=\"sk-label-container\"><div class=\"sk-label sk-toggleable\"><input class=\"sk-toggleable__control sk-hidden--visually\" id=\"sk-estimator-id-14\" type=\"checkbox\" ><label for=\"sk-estimator-id-14\" class=\"sk-toggleable__label sk-toggleable__label-arrow\">ordinalencoder</label><div class=\"sk-toggleable__content\"><pre>[&#x27;vehicle_type&#x27;, &#x27;model&#x27;, &#x27;fuel_type&#x27;, &#x27;brand&#x27;, &#x27;gearbox&#x27;, &#x27;repaired&#x27;]</pre></div></div></div><div class=\"sk-serial\"><div class=\"sk-item\"><div class=\"sk-estimator sk-toggleable\"><input class=\"sk-toggleable__control sk-hidden--visually\" id=\"sk-estimator-id-15\" type=\"checkbox\" ><label for=\"sk-estimator-id-15\" class=\"sk-toggleable__label sk-toggleable__label-arrow\">OrdinalEncoder</label><div class=\"sk-toggleable__content\"><pre>OrdinalEncoder(handle_unknown=&#x27;use_encoded_value&#x27;, unknown_value=-1)</pre></div></div></div></div></div></div><div class=\"sk-parallel-item\"><div class=\"sk-item\"><div class=\"sk-label-container\"><div class=\"sk-label sk-toggleable\"><input class=\"sk-toggleable__control sk-hidden--visually\" id=\"sk-estimator-id-16\" type=\"checkbox\" ><label for=\"sk-estimator-id-16\" class=\"sk-toggleable__label sk-toggleable__label-arrow\">standardscaler</label><div class=\"sk-toggleable__content\"><pre>[&#x27;registration_year&#x27;, &#x27;power&#x27;, &#x27;kilometer&#x27;]</pre></div></div></div><div class=\"sk-serial\"><div class=\"sk-item\"><div class=\"sk-estimator sk-toggleable\"><input class=\"sk-toggleable__control sk-hidden--visually\" id=\"sk-estimator-id-17\" type=\"checkbox\" ><label for=\"sk-estimator-id-17\" class=\"sk-toggleable__label sk-toggleable__label-arrow\">StandardScaler</label><div class=\"sk-toggleable__content\"><pre>StandardScaler()</pre></div></div></div></div></div></div><div class=\"sk-parallel-item\"><div class=\"sk-item\"><div class=\"sk-label-container\"><div class=\"sk-label sk-toggleable\"><input class=\"sk-toggleable__control sk-hidden--visually\" id=\"sk-estimator-id-18\" type=\"checkbox\" ><label for=\"sk-estimator-id-18\" class=\"sk-toggleable__label sk-toggleable__label-arrow\">remainder</label><div class=\"sk-toggleable__content\"><pre></pre></div></div></div><div class=\"sk-serial\"><div class=\"sk-item\"><div class=\"sk-estimator sk-toggleable\"><input class=\"sk-toggleable__control sk-hidden--visually\" id=\"sk-estimator-id-19\" type=\"checkbox\" ><label for=\"sk-estimator-id-19\" class=\"sk-toggleable__label sk-toggleable__label-arrow\">passthrough</label><div class=\"sk-toggleable__content\"><pre>passthrough</pre></div></div></div></div></div></div></div></div><div class=\"sk-item\"><div class=\"sk-estimator sk-toggleable\"><input class=\"sk-toggleable__control sk-hidden--visually\" id=\"sk-estimator-id-20\" type=\"checkbox\" ><label for=\"sk-estimator-id-20\" class=\"sk-toggleable__label sk-toggleable__label-arrow\">LinearRegression</label><div class=\"sk-toggleable__content\"><pre>LinearRegression()</pre></div></div></div></div></div></div></div></div></div></div></div></div>"
            ]
          },
          "metadata": {},
          "execution_count": 99
        }
      ],
      "source": [
        "%%time\n",
        "lr_model.fit(features_train, target_train)   # обучение модели LinearRegression"
      ]
    },
    {
      "cell_type": "code",
      "execution_count": 100,
      "metadata": {
        "id": "m9ULdJnasDYS"
      },
      "outputs": [],
      "source": [
        "lr_fit_time = 2.41 # время обучения модели, секунды"
      ]
    },
    {
      "cell_type": "code",
      "execution_count": 101,
      "metadata": {
        "colab": {
          "base_uri": "https://localhost:8080/"
        },
        "id": "jjBkwxbbsDYS",
        "outputId": "3bd7ad2f-b5db-4fe1-a9a9-2fa2588dfd17"
      },
      "outputs": [
        {
          "output_type": "stream",
          "name": "stdout",
          "text": [
            "CPU times: user 211 ms, sys: 3.52 ms, total: 215 ms\n",
            "Wall time: 326 ms\n"
          ]
        }
      ],
      "source": [
        "%%time\n",
        "pred_valid = lr_model.predict(features_valid)  # предсказание модели на валидационной выборке"
      ]
    },
    {
      "cell_type": "code",
      "execution_count": 102,
      "metadata": {
        "id": "alF3K7fTsDYT"
      },
      "outputs": [],
      "source": [
        "lr_predict_time = 0.326 # время предсказания модели, секунды"
      ]
    },
    {
      "cell_type": "code",
      "execution_count": 103,
      "metadata": {
        "colab": {
          "base_uri": "https://localhost:8080/"
        },
        "id": "_IjuAxpCsDYT",
        "outputId": "f65d8317-4f25-45d3-daf7-8bc35f3bec2d"
      },
      "outputs": [
        {
          "output_type": "stream",
          "name": "stdout",
          "text": [
            "Метрика R2: 0.4719556432809997\n"
          ]
        }
      ],
      "source": [
        "lr_r2 = r2_score(target_valid, pred_valid) # метрика R2\n",
        "print('Метрика R2:', lr_r2)"
      ]
    },
    {
      "cell_type": "code",
      "execution_count": 104,
      "metadata": {
        "colab": {
          "base_uri": "https://localhost:8080/"
        },
        "id": "4pK5Ri88sDYT",
        "outputId": "ac08180b-8cb0-4887-d7ea-a33d73095916"
      },
      "outputs": [
        {
          "output_type": "stream",
          "name": "stdout",
          "text": [
            "Метрика RMSE: 3305.9431979696733\n"
          ]
        }
      ],
      "source": [
        "lr_rmse = sqrt(mean_squared_error(target_valid, pred_valid)) # RMSE - кв.корень из MSE - средней квадратичной ошибки\n",
        "print('Метрика RMSE:', lr_rmse)"
      ]
    },
    {
      "cell_type": "markdown",
      "metadata": {
        "id": "yeVicHBwsDYT"
      },
      "source": [
        "###  LGBMRegressor "
      ]
    },
    {
      "cell_type": "code",
      "execution_count": 117,
      "metadata": {
        "id": "w98m9-SbsDYU"
      },
      "outputs": [],
      "source": [
        "ct = make_column_transformer(\n",
        "    (OrdinalEncoder(handle_unknown='use_encoded_value', unknown_value=-1), enc_cols), \n",
        "    (StandardScaler(), num_cols), \n",
        "    remainder='passthrough'\n",
        ")"
      ]
    },
    {
      "cell_type": "code",
      "execution_count": 118,
      "metadata": {
        "id": "CEvburddsDYU"
      },
      "outputs": [],
      "source": [
        "model_log_pipe = Pipeline(steps=[('prep', ct), ('reg', LGBMRegressor())])\n",
        "\n",
        "lgbmr_model = GridSearchCV(model_log_pipe, {'reg__max_depth':[3], 'reg__n_estimators':[50]}, scoring='neg_mean_squared_error')"
      ]
    },
    {
      "cell_type": "code",
      "execution_count": 119,
      "metadata": {
        "colab": {
          "base_uri": "https://localhost:8080/",
          "height": 253
        },
        "id": "oC3m4fqNsDYU",
        "outputId": "87c1d815-ec8a-4fc6-a69b-a10d1918ec51"
      },
      "outputs": [
        {
          "output_type": "stream",
          "name": "stdout",
          "text": [
            "CPU times: user 8.02 s, sys: 10.6 ms, total: 8.03 s\n",
            "Wall time: 5.09 s\n"
          ]
        },
        {
          "output_type": "execute_result",
          "data": {
            "text/plain": [
              "GridSearchCV(estimator=Pipeline(steps=[('prep',\n",
              "                                        ColumnTransformer(remainder='passthrough',\n",
              "                                                          transformers=[('ordinalencoder',\n",
              "                                                                         OrdinalEncoder(handle_unknown='use_encoded_value',\n",
              "                                                                                        unknown_value=-1),\n",
              "                                                                         ['vehicle_type',\n",
              "                                                                          'model',\n",
              "                                                                          'fuel_type',\n",
              "                                                                          'brand',\n",
              "                                                                          'gearbox',\n",
              "                                                                          'repaired']),\n",
              "                                                                        ('standardscaler',\n",
              "                                                                         StandardScaler(),\n",
              "                                                                         ['registration_year',\n",
              "                                                                          'power',\n",
              "                                                                          'kilometer'])])),\n",
              "                                       ('reg', LGBMRegressor())]),\n",
              "             param_grid={'reg__max_depth': [3], 'reg__n_estimators': [50]},\n",
              "             scoring='neg_mean_squared_error')"
            ],
            "text/html": [
              "<style>#sk-container-id-4 {color: black;background-color: white;}#sk-container-id-4 pre{padding: 0;}#sk-container-id-4 div.sk-toggleable {background-color: white;}#sk-container-id-4 label.sk-toggleable__label {cursor: pointer;display: block;width: 100%;margin-bottom: 0;padding: 0.3em;box-sizing: border-box;text-align: center;}#sk-container-id-4 label.sk-toggleable__label-arrow:before {content: \"▸\";float: left;margin-right: 0.25em;color: #696969;}#sk-container-id-4 label.sk-toggleable__label-arrow:hover:before {color: black;}#sk-container-id-4 div.sk-estimator:hover label.sk-toggleable__label-arrow:before {color: black;}#sk-container-id-4 div.sk-toggleable__content {max-height: 0;max-width: 0;overflow: hidden;text-align: left;background-color: #f0f8ff;}#sk-container-id-4 div.sk-toggleable__content pre {margin: 0.2em;color: black;border-radius: 0.25em;background-color: #f0f8ff;}#sk-container-id-4 input.sk-toggleable__control:checked~div.sk-toggleable__content {max-height: 200px;max-width: 100%;overflow: auto;}#sk-container-id-4 input.sk-toggleable__control:checked~label.sk-toggleable__label-arrow:before {content: \"▾\";}#sk-container-id-4 div.sk-estimator input.sk-toggleable__control:checked~label.sk-toggleable__label {background-color: #d4ebff;}#sk-container-id-4 div.sk-label input.sk-toggleable__control:checked~label.sk-toggleable__label {background-color: #d4ebff;}#sk-container-id-4 input.sk-hidden--visually {border: 0;clip: rect(1px 1px 1px 1px);clip: rect(1px, 1px, 1px, 1px);height: 1px;margin: -1px;overflow: hidden;padding: 0;position: absolute;width: 1px;}#sk-container-id-4 div.sk-estimator {font-family: monospace;background-color: #f0f8ff;border: 1px dotted black;border-radius: 0.25em;box-sizing: border-box;margin-bottom: 0.5em;}#sk-container-id-4 div.sk-estimator:hover {background-color: #d4ebff;}#sk-container-id-4 div.sk-parallel-item::after {content: \"\";width: 100%;border-bottom: 1px solid gray;flex-grow: 1;}#sk-container-id-4 div.sk-label:hover label.sk-toggleable__label {background-color: #d4ebff;}#sk-container-id-4 div.sk-serial::before {content: \"\";position: absolute;border-left: 1px solid gray;box-sizing: border-box;top: 0;bottom: 0;left: 50%;z-index: 0;}#sk-container-id-4 div.sk-serial {display: flex;flex-direction: column;align-items: center;background-color: white;padding-right: 0.2em;padding-left: 0.2em;position: relative;}#sk-container-id-4 div.sk-item {position: relative;z-index: 1;}#sk-container-id-4 div.sk-parallel {display: flex;align-items: stretch;justify-content: center;background-color: white;position: relative;}#sk-container-id-4 div.sk-item::before, #sk-container-id-4 div.sk-parallel-item::before {content: \"\";position: absolute;border-left: 1px solid gray;box-sizing: border-box;top: 0;bottom: 0;left: 50%;z-index: -1;}#sk-container-id-4 div.sk-parallel-item {display: flex;flex-direction: column;z-index: 1;position: relative;background-color: white;}#sk-container-id-4 div.sk-parallel-item:first-child::after {align-self: flex-end;width: 50%;}#sk-container-id-4 div.sk-parallel-item:last-child::after {align-self: flex-start;width: 50%;}#sk-container-id-4 div.sk-parallel-item:only-child::after {width: 0;}#sk-container-id-4 div.sk-dashed-wrapped {border: 1px dashed gray;margin: 0 0.4em 0.5em 0.4em;box-sizing: border-box;padding-bottom: 0.4em;background-color: white;}#sk-container-id-4 div.sk-label label {font-family: monospace;font-weight: bold;display: inline-block;line-height: 1.2em;}#sk-container-id-4 div.sk-label-container {text-align: center;}#sk-container-id-4 div.sk-container {/* jupyter's `normalize.less` sets `[hidden] { display: none; }` but bootstrap.min.css set `[hidden] { display: none !important; }` so we also need the `!important` here to be able to override the default hidden behavior on the sphinx rendered scikit-learn.org. See: https://github.com/scikit-learn/scikit-learn/issues/21755 */display: inline-block !important;position: relative;}#sk-container-id-4 div.sk-text-repr-fallback {display: none;}</style><div id=\"sk-container-id-4\" class=\"sk-top-container\"><div class=\"sk-text-repr-fallback\"><pre>GridSearchCV(estimator=Pipeline(steps=[(&#x27;prep&#x27;,\n",
              "                                        ColumnTransformer(remainder=&#x27;passthrough&#x27;,\n",
              "                                                          transformers=[(&#x27;ordinalencoder&#x27;,\n",
              "                                                                         OrdinalEncoder(handle_unknown=&#x27;use_encoded_value&#x27;,\n",
              "                                                                                        unknown_value=-1),\n",
              "                                                                         [&#x27;vehicle_type&#x27;,\n",
              "                                                                          &#x27;model&#x27;,\n",
              "                                                                          &#x27;fuel_type&#x27;,\n",
              "                                                                          &#x27;brand&#x27;,\n",
              "                                                                          &#x27;gearbox&#x27;,\n",
              "                                                                          &#x27;repaired&#x27;]),\n",
              "                                                                        (&#x27;standardscaler&#x27;,\n",
              "                                                                         StandardScaler(),\n",
              "                                                                         [&#x27;registration_year&#x27;,\n",
              "                                                                          &#x27;power&#x27;,\n",
              "                                                                          &#x27;kilometer&#x27;])])),\n",
              "                                       (&#x27;reg&#x27;, LGBMRegressor())]),\n",
              "             param_grid={&#x27;reg__max_depth&#x27;: [3], &#x27;reg__n_estimators&#x27;: [50]},\n",
              "             scoring=&#x27;neg_mean_squared_error&#x27;)</pre><b>In a Jupyter environment, please rerun this cell to show the HTML representation or trust the notebook. <br />On GitHub, the HTML representation is unable to render, please try loading this page with nbviewer.org.</b></div><div class=\"sk-container\" hidden><div class=\"sk-item sk-dashed-wrapped\"><div class=\"sk-label-container\"><div class=\"sk-label sk-toggleable\"><input class=\"sk-toggleable__control sk-hidden--visually\" id=\"sk-estimator-id-31\" type=\"checkbox\" ><label for=\"sk-estimator-id-31\" class=\"sk-toggleable__label sk-toggleable__label-arrow\">GridSearchCV</label><div class=\"sk-toggleable__content\"><pre>GridSearchCV(estimator=Pipeline(steps=[(&#x27;prep&#x27;,\n",
              "                                        ColumnTransformer(remainder=&#x27;passthrough&#x27;,\n",
              "                                                          transformers=[(&#x27;ordinalencoder&#x27;,\n",
              "                                                                         OrdinalEncoder(handle_unknown=&#x27;use_encoded_value&#x27;,\n",
              "                                                                                        unknown_value=-1),\n",
              "                                                                         [&#x27;vehicle_type&#x27;,\n",
              "                                                                          &#x27;model&#x27;,\n",
              "                                                                          &#x27;fuel_type&#x27;,\n",
              "                                                                          &#x27;brand&#x27;,\n",
              "                                                                          &#x27;gearbox&#x27;,\n",
              "                                                                          &#x27;repaired&#x27;]),\n",
              "                                                                        (&#x27;standardscaler&#x27;,\n",
              "                                                                         StandardScaler(),\n",
              "                                                                         [&#x27;registration_year&#x27;,\n",
              "                                                                          &#x27;power&#x27;,\n",
              "                                                                          &#x27;kilometer&#x27;])])),\n",
              "                                       (&#x27;reg&#x27;, LGBMRegressor())]),\n",
              "             param_grid={&#x27;reg__max_depth&#x27;: [3], &#x27;reg__n_estimators&#x27;: [50]},\n",
              "             scoring=&#x27;neg_mean_squared_error&#x27;)</pre></div></div></div><div class=\"sk-parallel\"><div class=\"sk-parallel-item\"><div class=\"sk-item\"><div class=\"sk-label-container\"><div class=\"sk-label sk-toggleable\"><input class=\"sk-toggleable__control sk-hidden--visually\" id=\"sk-estimator-id-32\" type=\"checkbox\" ><label for=\"sk-estimator-id-32\" class=\"sk-toggleable__label sk-toggleable__label-arrow\">estimator: Pipeline</label><div class=\"sk-toggleable__content\"><pre>Pipeline(steps=[(&#x27;prep&#x27;,\n",
              "                 ColumnTransformer(remainder=&#x27;passthrough&#x27;,\n",
              "                                   transformers=[(&#x27;ordinalencoder&#x27;,\n",
              "                                                  OrdinalEncoder(handle_unknown=&#x27;use_encoded_value&#x27;,\n",
              "                                                                 unknown_value=-1),\n",
              "                                                  [&#x27;vehicle_type&#x27;, &#x27;model&#x27;,\n",
              "                                                   &#x27;fuel_type&#x27;, &#x27;brand&#x27;,\n",
              "                                                   &#x27;gearbox&#x27;, &#x27;repaired&#x27;]),\n",
              "                                                 (&#x27;standardscaler&#x27;,\n",
              "                                                  StandardScaler(),\n",
              "                                                  [&#x27;registration_year&#x27;, &#x27;power&#x27;,\n",
              "                                                   &#x27;kilometer&#x27;])])),\n",
              "                (&#x27;reg&#x27;, LGBMRegressor())])</pre></div></div></div><div class=\"sk-serial\"><div class=\"sk-item\"><div class=\"sk-serial\"><div class=\"sk-item sk-dashed-wrapped\"><div class=\"sk-label-container\"><div class=\"sk-label sk-toggleable\"><input class=\"sk-toggleable__control sk-hidden--visually\" id=\"sk-estimator-id-33\" type=\"checkbox\" ><label for=\"sk-estimator-id-33\" class=\"sk-toggleable__label sk-toggleable__label-arrow\">prep: ColumnTransformer</label><div class=\"sk-toggleable__content\"><pre>ColumnTransformer(remainder=&#x27;passthrough&#x27;,\n",
              "                  transformers=[(&#x27;ordinalencoder&#x27;,\n",
              "                                 OrdinalEncoder(handle_unknown=&#x27;use_encoded_value&#x27;,\n",
              "                                                unknown_value=-1),\n",
              "                                 [&#x27;vehicle_type&#x27;, &#x27;model&#x27;, &#x27;fuel_type&#x27;, &#x27;brand&#x27;,\n",
              "                                  &#x27;gearbox&#x27;, &#x27;repaired&#x27;]),\n",
              "                                (&#x27;standardscaler&#x27;, StandardScaler(),\n",
              "                                 [&#x27;registration_year&#x27;, &#x27;power&#x27;, &#x27;kilometer&#x27;])])</pre></div></div></div><div class=\"sk-parallel\"><div class=\"sk-parallel-item\"><div class=\"sk-item\"><div class=\"sk-label-container\"><div class=\"sk-label sk-toggleable\"><input class=\"sk-toggleable__control sk-hidden--visually\" id=\"sk-estimator-id-34\" type=\"checkbox\" ><label for=\"sk-estimator-id-34\" class=\"sk-toggleable__label sk-toggleable__label-arrow\">ordinalencoder</label><div class=\"sk-toggleable__content\"><pre>[&#x27;vehicle_type&#x27;, &#x27;model&#x27;, &#x27;fuel_type&#x27;, &#x27;brand&#x27;, &#x27;gearbox&#x27;, &#x27;repaired&#x27;]</pre></div></div></div><div class=\"sk-serial\"><div class=\"sk-item\"><div class=\"sk-estimator sk-toggleable\"><input class=\"sk-toggleable__control sk-hidden--visually\" id=\"sk-estimator-id-35\" type=\"checkbox\" ><label for=\"sk-estimator-id-35\" class=\"sk-toggleable__label sk-toggleable__label-arrow\">OrdinalEncoder</label><div class=\"sk-toggleable__content\"><pre>OrdinalEncoder(handle_unknown=&#x27;use_encoded_value&#x27;, unknown_value=-1)</pre></div></div></div></div></div></div><div class=\"sk-parallel-item\"><div class=\"sk-item\"><div class=\"sk-label-container\"><div class=\"sk-label sk-toggleable\"><input class=\"sk-toggleable__control sk-hidden--visually\" id=\"sk-estimator-id-36\" type=\"checkbox\" ><label for=\"sk-estimator-id-36\" class=\"sk-toggleable__label sk-toggleable__label-arrow\">standardscaler</label><div class=\"sk-toggleable__content\"><pre>[&#x27;registration_year&#x27;, &#x27;power&#x27;, &#x27;kilometer&#x27;]</pre></div></div></div><div class=\"sk-serial\"><div class=\"sk-item\"><div class=\"sk-estimator sk-toggleable\"><input class=\"sk-toggleable__control sk-hidden--visually\" id=\"sk-estimator-id-37\" type=\"checkbox\" ><label for=\"sk-estimator-id-37\" class=\"sk-toggleable__label sk-toggleable__label-arrow\">StandardScaler</label><div class=\"sk-toggleable__content\"><pre>StandardScaler()</pre></div></div></div></div></div></div><div class=\"sk-parallel-item\"><div class=\"sk-item\"><div class=\"sk-label-container\"><div class=\"sk-label sk-toggleable\"><input class=\"sk-toggleable__control sk-hidden--visually\" id=\"sk-estimator-id-38\" type=\"checkbox\" ><label for=\"sk-estimator-id-38\" class=\"sk-toggleable__label sk-toggleable__label-arrow\">remainder</label><div class=\"sk-toggleable__content\"><pre></pre></div></div></div><div class=\"sk-serial\"><div class=\"sk-item\"><div class=\"sk-estimator sk-toggleable\"><input class=\"sk-toggleable__control sk-hidden--visually\" id=\"sk-estimator-id-39\" type=\"checkbox\" ><label for=\"sk-estimator-id-39\" class=\"sk-toggleable__label sk-toggleable__label-arrow\">passthrough</label><div class=\"sk-toggleable__content\"><pre>passthrough</pre></div></div></div></div></div></div></div></div><div class=\"sk-item\"><div class=\"sk-estimator sk-toggleable\"><input class=\"sk-toggleable__control sk-hidden--visually\" id=\"sk-estimator-id-40\" type=\"checkbox\" ><label for=\"sk-estimator-id-40\" class=\"sk-toggleable__label sk-toggleable__label-arrow\">LGBMRegressor</label><div class=\"sk-toggleable__content\"><pre>LGBMRegressor()</pre></div></div></div></div></div></div></div></div></div></div></div></div>"
            ]
          },
          "metadata": {},
          "execution_count": 119
        }
      ],
      "source": [
        "%%time\n",
        "lgbmr_model.fit(features_train, target_train)  # обучение модели LGBMRegressor"
      ]
    },
    {
      "cell_type": "code",
      "execution_count": 120,
      "metadata": {
        "id": "EgyZzUi4sDYV"
      },
      "outputs": [],
      "source": [
        "lgbmr_fit_time = 5.09 # время обучения модели, секунды"
      ]
    },
    {
      "cell_type": "code",
      "execution_count": 121,
      "metadata": {
        "colab": {
          "base_uri": "https://localhost:8080/"
        },
        "id": "dbUkAnl4sDYV",
        "outputId": "e4ca83a7-edb2-4d85-db9e-d3216c12be11"
      },
      "outputs": [
        {
          "output_type": "stream",
          "name": "stdout",
          "text": [
            "CPU times: user 274 ms, sys: 0 ns, total: 274 ms\n",
            "Wall time: 184 ms\n"
          ]
        }
      ],
      "source": [
        "%%time\n",
        "pred_valid = lgbmr_model.predict(features_valid)  # предсказание модели на валидационной выборке"
      ]
    },
    {
      "cell_type": "code",
      "execution_count": 122,
      "metadata": {
        "id": "x0ylk3y9sDYV"
      },
      "outputs": [],
      "source": [
        "lgbmr_predict_time = 0.184 # время предсказания модели, секунды"
      ]
    },
    {
      "cell_type": "code",
      "execution_count": 123,
      "metadata": {
        "colab": {
          "base_uri": "https://localhost:8080/"
        },
        "id": "ihWOK6pqsDYV",
        "outputId": "c4dd06e1-fe53-41a8-fae7-6e4c0aad7bbb"
      },
      "outputs": [
        {
          "output_type": "stream",
          "name": "stdout",
          "text": [
            "Метрика R2: 0.7773076022756331\n"
          ]
        }
      ],
      "source": [
        "lgbmr_r2 = r2_score(target_valid, pred_valid) # метрика R2\n",
        "print('Метрика R2:', lgbmr_r2)"
      ]
    },
    {
      "cell_type": "code",
      "execution_count": 124,
      "metadata": {
        "colab": {
          "base_uri": "https://localhost:8080/"
        },
        "id": "Ia5zryFYsDYW",
        "outputId": "27a96372-f1d1-4979-d715-83a8869001a7"
      },
      "outputs": [
        {
          "output_type": "stream",
          "name": "stdout",
          "text": [
            "Метрика RMSE: 2146.90526081341\n"
          ]
        }
      ],
      "source": [
        "lgbmr_rmse = sqrt(mean_squared_error(target_valid, pred_valid)) # RMSE - кв.корень из MSE - средней квадратичной ошибки\n",
        "print('Метрика RMSE:', lgbmr_rmse)"
      ]
    },
    {
      "cell_type": "markdown",
      "metadata": {
        "id": "B71Yv6DAsDYW"
      },
      "source": [
        "## Анализ моделей"
      ]
    },
    {
      "cell_type": "code",
      "execution_count": 125,
      "metadata": {
        "id": "cow4kU7rsDYX"
      },
      "outputs": [],
      "source": [
        "models = ['CatBoostRegressor', 'RandomForestRegressor', 'LinearRegression ', 'LGBMRegressor ']\n",
        "fit_time = [cbr_fit_time, rfr_fit_time, lr_fit_time, lgbmr_fit_time]\n",
        "predict_time = [cbr_predict_time, rfr_predict_time, lr_predict_time, lgbmr_predict_time]\n",
        "r2 = [cbr_r2, rfr_r2, lr_r2, lgbmr_r2]\n",
        "rmse = [cbr_rmse, rfr_rmse, lr_rmse, lgbmr_rmse]"
      ]
    },
    {
      "cell_type": "code",
      "execution_count": 126,
      "metadata": {
        "id": "fSm6sq6DsDYX"
      },
      "outputs": [],
      "source": [
        "model_data = {'models': models, 'fit_time': fit_time, 'predict_time': predict_time, 'r2': r2, 'rmse': rmse }"
      ]
    },
    {
      "cell_type": "code",
      "execution_count": 127,
      "metadata": {
        "id": "peCC97J5sDYX"
      },
      "outputs": [],
      "source": [
        "df = pd.DataFrame(model_data)"
      ]
    },
    {
      "cell_type": "code",
      "execution_count": 128,
      "metadata": {
        "colab": {
          "base_uri": "https://localhost:8080/",
          "height": 175
        },
        "id": "iQEyRCtHsDYX",
        "outputId": "bb6c9654-0678-44b3-f490-7f2c0bbe72ab"
      },
      "outputs": [
        {
          "output_type": "execute_result",
          "data": {
            "text/plain": [
              "                  models  fit_time  predict_time        r2         rmse\n",
              "0      CatBoostRegressor     10.20         0.120  0.845571  1787.826094\n",
              "1  RandomForestRegressor     30.20         0.196  0.593697  2899.913543\n",
              "2      LinearRegression       2.41         0.326  0.471956  3305.943198\n",
              "3         LGBMRegressor       5.09         0.184  0.777308  2146.905261"
            ],
            "text/html": [
              "\n",
              "  <div id=\"df-b23b805f-49fa-4362-b56e-363d8871b023\">\n",
              "    <div class=\"colab-df-container\">\n",
              "      <div>\n",
              "<style scoped>\n",
              "    .dataframe tbody tr th:only-of-type {\n",
              "        vertical-align: middle;\n",
              "    }\n",
              "\n",
              "    .dataframe tbody tr th {\n",
              "        vertical-align: top;\n",
              "    }\n",
              "\n",
              "    .dataframe thead th {\n",
              "        text-align: right;\n",
              "    }\n",
              "</style>\n",
              "<table border=\"1\" class=\"dataframe\">\n",
              "  <thead>\n",
              "    <tr style=\"text-align: right;\">\n",
              "      <th></th>\n",
              "      <th>models</th>\n",
              "      <th>fit_time</th>\n",
              "      <th>predict_time</th>\n",
              "      <th>r2</th>\n",
              "      <th>rmse</th>\n",
              "    </tr>\n",
              "  </thead>\n",
              "  <tbody>\n",
              "    <tr>\n",
              "      <th>0</th>\n",
              "      <td>CatBoostRegressor</td>\n",
              "      <td>10.20</td>\n",
              "      <td>0.120</td>\n",
              "      <td>0.845571</td>\n",
              "      <td>1787.826094</td>\n",
              "    </tr>\n",
              "    <tr>\n",
              "      <th>1</th>\n",
              "      <td>RandomForestRegressor</td>\n",
              "      <td>30.20</td>\n",
              "      <td>0.196</td>\n",
              "      <td>0.593697</td>\n",
              "      <td>2899.913543</td>\n",
              "    </tr>\n",
              "    <tr>\n",
              "      <th>2</th>\n",
              "      <td>LinearRegression</td>\n",
              "      <td>2.41</td>\n",
              "      <td>0.326</td>\n",
              "      <td>0.471956</td>\n",
              "      <td>3305.943198</td>\n",
              "    </tr>\n",
              "    <tr>\n",
              "      <th>3</th>\n",
              "      <td>LGBMRegressor</td>\n",
              "      <td>5.09</td>\n",
              "      <td>0.184</td>\n",
              "      <td>0.777308</td>\n",
              "      <td>2146.905261</td>\n",
              "    </tr>\n",
              "  </tbody>\n",
              "</table>\n",
              "</div>\n",
              "      <button class=\"colab-df-convert\" onclick=\"convertToInteractive('df-b23b805f-49fa-4362-b56e-363d8871b023')\"\n",
              "              title=\"Convert this dataframe to an interactive table.\"\n",
              "              style=\"display:none;\">\n",
              "        \n",
              "  <svg xmlns=\"http://www.w3.org/2000/svg\" height=\"24px\"viewBox=\"0 0 24 24\"\n",
              "       width=\"24px\">\n",
              "    <path d=\"M0 0h24v24H0V0z\" fill=\"none\"/>\n",
              "    <path d=\"M18.56 5.44l.94 2.06.94-2.06 2.06-.94-2.06-.94-.94-2.06-.94 2.06-2.06.94zm-11 1L8.5 8.5l.94-2.06 2.06-.94-2.06-.94L8.5 2.5l-.94 2.06-2.06.94zm10 10l.94 2.06.94-2.06 2.06-.94-2.06-.94-.94-2.06-.94 2.06-2.06.94z\"/><path d=\"M17.41 7.96l-1.37-1.37c-.4-.4-.92-.59-1.43-.59-.52 0-1.04.2-1.43.59L10.3 9.45l-7.72 7.72c-.78.78-.78 2.05 0 2.83L4 21.41c.39.39.9.59 1.41.59.51 0 1.02-.2 1.41-.59l7.78-7.78 2.81-2.81c.8-.78.8-2.07 0-2.86zM5.41 20L4 18.59l7.72-7.72 1.47 1.35L5.41 20z\"/>\n",
              "  </svg>\n",
              "      </button>\n",
              "      \n",
              "  <style>\n",
              "    .colab-df-container {\n",
              "      display:flex;\n",
              "      flex-wrap:wrap;\n",
              "      gap: 12px;\n",
              "    }\n",
              "\n",
              "    .colab-df-convert {\n",
              "      background-color: #E8F0FE;\n",
              "      border: none;\n",
              "      border-radius: 50%;\n",
              "      cursor: pointer;\n",
              "      display: none;\n",
              "      fill: #1967D2;\n",
              "      height: 32px;\n",
              "      padding: 0 0 0 0;\n",
              "      width: 32px;\n",
              "    }\n",
              "\n",
              "    .colab-df-convert:hover {\n",
              "      background-color: #E2EBFA;\n",
              "      box-shadow: 0px 1px 2px rgba(60, 64, 67, 0.3), 0px 1px 3px 1px rgba(60, 64, 67, 0.15);\n",
              "      fill: #174EA6;\n",
              "    }\n",
              "\n",
              "    [theme=dark] .colab-df-convert {\n",
              "      background-color: #3B4455;\n",
              "      fill: #D2E3FC;\n",
              "    }\n",
              "\n",
              "    [theme=dark] .colab-df-convert:hover {\n",
              "      background-color: #434B5C;\n",
              "      box-shadow: 0px 1px 3px 1px rgba(0, 0, 0, 0.15);\n",
              "      filter: drop-shadow(0px 1px 2px rgba(0, 0, 0, 0.3));\n",
              "      fill: #FFFFFF;\n",
              "    }\n",
              "  </style>\n",
              "\n",
              "      <script>\n",
              "        const buttonEl =\n",
              "          document.querySelector('#df-b23b805f-49fa-4362-b56e-363d8871b023 button.colab-df-convert');\n",
              "        buttonEl.style.display =\n",
              "          google.colab.kernel.accessAllowed ? 'block' : 'none';\n",
              "\n",
              "        async function convertToInteractive(key) {\n",
              "          const element = document.querySelector('#df-b23b805f-49fa-4362-b56e-363d8871b023');\n",
              "          const dataTable =\n",
              "            await google.colab.kernel.invokeFunction('convertToInteractive',\n",
              "                                                     [key], {});\n",
              "          if (!dataTable) return;\n",
              "\n",
              "          const docLinkHtml = 'Like what you see? Visit the ' +\n",
              "            '<a target=\"_blank\" href=https://colab.research.google.com/notebooks/data_table.ipynb>data table notebook</a>'\n",
              "            + ' to learn more about interactive tables.';\n",
              "          element.innerHTML = '';\n",
              "          dataTable['output_type'] = 'display_data';\n",
              "          await google.colab.output.renderOutput(dataTable, element);\n",
              "          const docLink = document.createElement('div');\n",
              "          docLink.innerHTML = docLinkHtml;\n",
              "          element.appendChild(docLink);\n",
              "        }\n",
              "      </script>\n",
              "    </div>\n",
              "  </div>\n",
              "  "
            ]
          },
          "metadata": {},
          "execution_count": 128
        }
      ],
      "source": [
        "df"
      ]
    },
    {
      "cell_type": "markdown",
      "metadata": {
        "id": "ROkDKALCsDYX"
      },
      "source": [
        "<b>Выводы:</b> \n",
        "* По метрике RMSE лучший результат показала модель `CatBoostRegressor`. На втором месте `LGBMRegressor`. Простые модели линейной регресии и случайного леса в этот раз не прошли проверку качеством. RMSE у них выше 2500.<br><br>\n",
        "* По скорости обучения, из двух оставшихся моделей, прошедших фильтр качества, `LGBMRegressor` в 2 раза быстрее обучилась, чем `CatBoostRegressor`, но предсказывает `LGBMRegressor` в 1,5 раза медленнее, чем `CatBoostRegressor`  <br><br>\n",
        "* Итого, по совокупности параметров и учёте того, что главным параметром является точность предсказания, победила модель `CatBoostRegressor`. Ура, ура!"
      ]
    },
    {
      "cell_type": "markdown",
      "metadata": {
        "id": "5i_y92u3sDYY"
      },
      "source": [
        "Проверим лучшую модель на тестовой выборке:"
      ]
    },
    {
      "cell_type": "code",
      "execution_count": 129,
      "metadata": {
        "colab": {
          "base_uri": "https://localhost:8080/"
        },
        "id": "xBTr0oXksDYY",
        "outputId": "c2b32273-e48a-494c-fe81-be5dd14d9482"
      },
      "outputs": [
        {
          "output_type": "stream",
          "name": "stdout",
          "text": [
            "CPU times: user 137 ms, sys: 2.94 ms, total: 140 ms\n",
            "Wall time: 110 ms\n"
          ]
        }
      ],
      "source": [
        "%%time\n",
        "pred_test = cbr_model.predict(features_test) # тестовая выборка"
      ]
    },
    {
      "cell_type": "code",
      "execution_count": 130,
      "metadata": {
        "id": "XKR7_HHzsDYY"
      },
      "outputs": [],
      "source": [
        "cbr_predict_time = 0.081 # время предсказания модели, секунды"
      ]
    },
    {
      "cell_type": "code",
      "execution_count": 131,
      "metadata": {
        "colab": {
          "base_uri": "https://localhost:8080/"
        },
        "id": "SEFbw97LsDYY",
        "outputId": "9d1c1fdd-9927-4388-c4fb-30f3b01df1eb"
      },
      "outputs": [
        {
          "output_type": "stream",
          "name": "stdout",
          "text": [
            "Метрика R2: 0.8458272552881092\n"
          ]
        }
      ],
      "source": [
        "cbr_r2 = r2_score(target_test, pred_test) # метрика R2\n",
        "print('Метрика R2:', cbr_r2)"
      ]
    },
    {
      "cell_type": "code",
      "execution_count": 132,
      "metadata": {
        "colab": {
          "base_uri": "https://localhost:8080/"
        },
        "id": "3uXfWy7nsDYZ",
        "outputId": "999aa320-6e8a-481b-9a3d-d688a72e412a"
      },
      "outputs": [
        {
          "output_type": "stream",
          "name": "stdout",
          "text": [
            "Метрика RMSE: 1793.257368584131\n"
          ]
        }
      ],
      "source": [
        "cbr_rmse = sqrt(mean_squared_error(target_test, pred_test)) # RMSE - кв.корень из MSE - средней квадратичной ошибки\n",
        "print('Метрика RMSE:', cbr_rmse)"
      ]
    },
    {
      "cell_type": "markdown",
      "source": [
        "На тестовой выборке метрики не ухудшились"
      ],
      "metadata": {
        "id": "wTam8XBUB19X"
      }
    },
    {
      "cell_type": "code",
      "source": [],
      "metadata": {
        "id": "0-QThphaBzvv"
      },
      "execution_count": null,
      "outputs": []
    }
  ],
  "metadata": {
    "ExecuteTimeLog": [
      {
        "duration": 44,
        "start_time": "2022-12-06T05:32:29.546Z"
      },
      {
        "duration": 395,
        "start_time": "2022-12-06T05:32:32.024Z"
      },
      {
        "duration": 969,
        "start_time": "2022-12-06T05:32:32.421Z"
      },
      {
        "duration": 17,
        "start_time": "2022-12-06T05:32:33.392Z"
      },
      {
        "duration": 5,
        "start_time": "2022-12-06T05:33:35.214Z"
      },
      {
        "duration": 26,
        "start_time": "2022-12-06T05:34:14.303Z"
      },
      {
        "duration": 4,
        "start_time": "2022-12-06T05:45:33.334Z"
      },
      {
        "duration": 62,
        "start_time": "2022-12-06T05:51:47.424Z"
      },
      {
        "duration": 179,
        "start_time": "2022-12-06T05:52:17.535Z"
      },
      {
        "duration": 121,
        "start_time": "2022-12-06T05:53:24.068Z"
      },
      {
        "duration": 7,
        "start_time": "2022-12-06T06:01:36.735Z"
      },
      {
        "duration": 356,
        "start_time": "2022-12-06T06:01:43.339Z"
      },
      {
        "duration": 79,
        "start_time": "2022-12-06T06:01:57.759Z"
      },
      {
        "duration": 117,
        "start_time": "2022-12-06T06:02:09.439Z"
      },
      {
        "duration": 731,
        "start_time": "2022-12-06T06:03:19.262Z"
      },
      {
        "duration": 3,
        "start_time": "2022-12-06T06:03:34.007Z"
      },
      {
        "duration": 742,
        "start_time": "2022-12-06T06:03:34.310Z"
      },
      {
        "duration": 13,
        "start_time": "2022-12-06T06:03:35.055Z"
      },
      {
        "duration": 12,
        "start_time": "2022-12-06T06:03:35.070Z"
      },
      {
        "duration": 120,
        "start_time": "2022-12-06T06:03:36.401Z"
      },
      {
        "duration": 759,
        "start_time": "2022-12-06T06:03:37.049Z"
      },
      {
        "duration": 67,
        "start_time": "2022-12-06T06:03:57.935Z"
      },
      {
        "duration": 545,
        "start_time": "2022-12-06T06:04:12.368Z"
      },
      {
        "duration": 54,
        "start_time": "2022-12-06T06:05:16.179Z"
      },
      {
        "duration": 97,
        "start_time": "2022-12-06T06:05:19.244Z"
      },
      {
        "duration": 67,
        "start_time": "2022-12-06T06:08:13.059Z"
      },
      {
        "duration": 85,
        "start_time": "2022-12-06T06:08:14.282Z"
      },
      {
        "duration": 77,
        "start_time": "2022-12-06T06:16:29.378Z"
      },
      {
        "duration": 3,
        "start_time": "2022-12-06T06:17:22.751Z"
      },
      {
        "duration": 16,
        "start_time": "2022-12-06T06:20:09.677Z"
      },
      {
        "duration": 16,
        "start_time": "2022-12-06T06:20:29.770Z"
      },
      {
        "duration": 17,
        "start_time": "2022-12-06T06:20:38.189Z"
      },
      {
        "duration": 19,
        "start_time": "2022-12-06T06:22:24.904Z"
      },
      {
        "duration": 18,
        "start_time": "2022-12-06T06:25:01.903Z"
      },
      {
        "duration": 19,
        "start_time": "2022-12-06T06:25:31.488Z"
      },
      {
        "duration": 30,
        "start_time": "2022-12-06T06:25:42.197Z"
      },
      {
        "duration": 16,
        "start_time": "2022-12-06T06:26:59.639Z"
      },
      {
        "duration": 21,
        "start_time": "2022-12-06T06:27:26.954Z"
      },
      {
        "duration": 25,
        "start_time": "2022-12-06T06:29:13.260Z"
      },
      {
        "duration": 90,
        "start_time": "2022-12-06T06:30:33.700Z"
      },
      {
        "duration": 7,
        "start_time": "2022-12-06T06:37:37.344Z"
      },
      {
        "duration": 11,
        "start_time": "2022-12-06T06:37:52.282Z"
      },
      {
        "duration": 23,
        "start_time": "2022-12-06T06:39:36.890Z"
      },
      {
        "duration": 32,
        "start_time": "2022-12-06T06:39:51.298Z"
      },
      {
        "duration": 24,
        "start_time": "2022-12-06T06:40:06.524Z"
      },
      {
        "duration": 23,
        "start_time": "2022-12-06T06:40:24.430Z"
      },
      {
        "duration": 24,
        "start_time": "2022-12-06T06:40:38.952Z"
      },
      {
        "duration": 44,
        "start_time": "2022-12-06T06:43:29.176Z"
      },
      {
        "duration": 12,
        "start_time": "2022-12-06T06:43:34.097Z"
      },
      {
        "duration": 13,
        "start_time": "2022-12-06T06:43:41.607Z"
      },
      {
        "duration": 30,
        "start_time": "2022-12-06T06:43:53.206Z"
      },
      {
        "duration": 38,
        "start_time": "2022-12-06T07:08:11.132Z"
      },
      {
        "duration": 10,
        "start_time": "2022-12-06T07:08:23.674Z"
      },
      {
        "duration": 2,
        "start_time": "2022-12-06T07:09:12.611Z"
      },
      {
        "duration": 709,
        "start_time": "2022-12-06T07:09:12.918Z"
      },
      {
        "duration": 11,
        "start_time": "2022-12-06T07:09:13.629Z"
      },
      {
        "duration": 9,
        "start_time": "2022-12-06T07:09:13.641Z"
      },
      {
        "duration": 122,
        "start_time": "2022-12-06T07:09:13.787Z"
      },
      {
        "duration": 87,
        "start_time": "2022-12-06T07:09:14.468Z"
      },
      {
        "duration": 96,
        "start_time": "2022-12-06T07:09:15.418Z"
      },
      {
        "duration": 69,
        "start_time": "2022-12-06T07:09:16.236Z"
      },
      {
        "duration": 84,
        "start_time": "2022-12-06T07:09:16.763Z"
      },
      {
        "duration": 22,
        "start_time": "2022-12-06T07:09:18.636Z"
      },
      {
        "duration": 19,
        "start_time": "2022-12-06T07:09:42.048Z"
      },
      {
        "duration": 23,
        "start_time": "2022-12-06T07:10:03.765Z"
      },
      {
        "duration": 36,
        "start_time": "2022-12-06T07:10:21.764Z"
      },
      {
        "duration": 4,
        "start_time": "2022-12-06T07:10:26.660Z"
      },
      {
        "duration": 28,
        "start_time": "2022-12-06T07:12:41.808Z"
      },
      {
        "duration": 29,
        "start_time": "2022-12-06T07:13:27.039Z"
      },
      {
        "duration": 27,
        "start_time": "2022-12-06T08:02:46.398Z"
      },
      {
        "duration": 28,
        "start_time": "2022-12-06T08:03:02.725Z"
      },
      {
        "duration": 48,
        "start_time": "2022-12-06T09:41:21.139Z"
      },
      {
        "duration": 402,
        "start_time": "2022-12-06T09:41:27.214Z"
      },
      {
        "duration": 2887,
        "start_time": "2022-12-06T09:41:27.619Z"
      },
      {
        "duration": 23,
        "start_time": "2022-12-06T09:41:30.509Z"
      },
      {
        "duration": 9,
        "start_time": "2022-12-06T09:41:30.535Z"
      },
      {
        "duration": 121,
        "start_time": "2022-12-06T09:41:30.546Z"
      },
      {
        "duration": 91,
        "start_time": "2022-12-06T09:41:30.669Z"
      },
      {
        "duration": 91,
        "start_time": "2022-12-06T09:41:30.761Z"
      },
      {
        "duration": 89,
        "start_time": "2022-12-06T09:41:30.854Z"
      },
      {
        "duration": 111,
        "start_time": "2022-12-06T09:41:30.949Z"
      },
      {
        "duration": 26,
        "start_time": "2022-12-06T09:41:31.062Z"
      },
      {
        "duration": 53,
        "start_time": "2022-12-06T09:41:31.090Z"
      },
      {
        "duration": 73,
        "start_time": "2022-12-06T09:41:33.501Z"
      },
      {
        "duration": 32,
        "start_time": "2022-12-06T09:41:34.573Z"
      },
      {
        "duration": 68,
        "start_time": "2022-12-06T10:06:02.303Z"
      },
      {
        "duration": 26,
        "start_time": "2022-12-06T10:11:50.960Z"
      },
      {
        "duration": 872,
        "start_time": "2022-12-06T10:12:13.529Z"
      },
      {
        "duration": 453,
        "start_time": "2022-12-06T10:12:26.835Z"
      },
      {
        "duration": 47,
        "start_time": "2022-12-06T10:12:47.786Z"
      },
      {
        "duration": 570,
        "start_time": "2022-12-06T10:13:02.121Z"
      },
      {
        "duration": 11,
        "start_time": "2022-12-06T10:16:59.336Z"
      },
      {
        "duration": 8,
        "start_time": "2022-12-06T10:17:36.155Z"
      },
      {
        "duration": 2894,
        "start_time": "2022-12-06T10:18:52.498Z"
      },
      {
        "duration": 65,
        "start_time": "2022-12-06T10:19:02.192Z"
      },
      {
        "duration": 2007,
        "start_time": "2022-12-06T10:20:11.580Z"
      },
      {
        "duration": 176072,
        "start_time": "2022-12-06T10:20:24.462Z"
      },
      {
        "duration": 0,
        "start_time": "2022-12-06T10:23:20.536Z"
      },
      {
        "duration": 5,
        "start_time": "2022-12-06T10:23:24.749Z"
      },
      {
        "duration": 11,
        "start_time": "2022-12-06T10:24:03.757Z"
      },
      {
        "duration": 1266,
        "start_time": "2022-12-06T10:24:46.547Z"
      },
      {
        "duration": 1323,
        "start_time": "2022-12-06T10:25:44.270Z"
      },
      {
        "duration": 3,
        "start_time": "2022-12-06T10:26:04.529Z"
      },
      {
        "duration": 2,
        "start_time": "2022-12-06T10:26:11.171Z"
      },
      {
        "duration": 3345,
        "start_time": "2022-12-07T07:03:52.217Z"
      },
      {
        "duration": 1368,
        "start_time": "2022-12-07T07:03:55.564Z"
      },
      {
        "duration": 2869,
        "start_time": "2022-12-07T07:03:56.933Z"
      },
      {
        "duration": 23,
        "start_time": "2022-12-07T07:03:59.805Z"
      },
      {
        "duration": 7,
        "start_time": "2022-12-07T07:03:59.830Z"
      },
      {
        "duration": 164,
        "start_time": "2022-12-07T07:03:59.841Z"
      },
      {
        "duration": 108,
        "start_time": "2022-12-07T07:04:00.007Z"
      },
      {
        "duration": 114,
        "start_time": "2022-12-07T07:04:00.117Z"
      },
      {
        "duration": 12,
        "start_time": "2022-12-07T07:04:00.352Z"
      },
      {
        "duration": 168,
        "start_time": "2022-12-07T07:04:00.685Z"
      },
      {
        "duration": 128,
        "start_time": "2022-12-07T07:04:01.196Z"
      },
      {
        "duration": 5,
        "start_time": "2022-12-07T07:04:53.416Z"
      },
      {
        "duration": 85,
        "start_time": "2022-12-07T07:04:56.647Z"
      },
      {
        "duration": 84,
        "start_time": "2022-12-07T07:05:56.917Z"
      },
      {
        "duration": 83,
        "start_time": "2022-12-07T07:06:12.997Z"
      },
      {
        "duration": 753,
        "start_time": "2022-12-07T07:06:17.982Z"
      },
      {
        "duration": 25,
        "start_time": "2022-12-07T07:19:59.598Z"
      },
      {
        "duration": 74,
        "start_time": "2022-12-07T07:20:11.255Z"
      },
      {
        "duration": 677,
        "start_time": "2022-12-07T07:20:12.810Z"
      },
      {
        "duration": 9,
        "start_time": "2022-12-07T07:20:51.889Z"
      },
      {
        "duration": 32,
        "start_time": "2022-12-07T07:21:49.926Z"
      },
      {
        "duration": 37,
        "start_time": "2022-12-07T07:22:28.993Z"
      },
      {
        "duration": 21,
        "start_time": "2022-12-07T07:22:33.097Z"
      },
      {
        "duration": 24,
        "start_time": "2022-12-07T07:23:49.271Z"
      },
      {
        "duration": 39,
        "start_time": "2022-12-07T07:25:45.677Z"
      },
      {
        "duration": 50,
        "start_time": "2022-12-07T14:51:49.739Z"
      },
      {
        "duration": 3187,
        "start_time": "2022-12-07T14:51:54.853Z"
      },
      {
        "duration": 1414,
        "start_time": "2022-12-07T14:51:58.043Z"
      },
      {
        "duration": 1137,
        "start_time": "2022-12-07T14:51:59.459Z"
      },
      {
        "duration": 17,
        "start_time": "2022-12-07T14:52:00.598Z"
      },
      {
        "duration": 73,
        "start_time": "2022-12-07T14:52:00.870Z"
      },
      {
        "duration": 9,
        "start_time": "2022-12-07T14:52:24.639Z"
      },
      {
        "duration": 2167,
        "start_time": "2022-12-07T14:52:32.010Z"
      },
      {
        "duration": 4,
        "start_time": "2022-12-07T14:52:34.181Z"
      },
      {
        "duration": 908,
        "start_time": "2022-12-07T14:52:34.188Z"
      },
      {
        "duration": 17,
        "start_time": "2022-12-07T14:52:35.099Z"
      },
      {
        "duration": 34,
        "start_time": "2022-12-07T14:52:35.118Z"
      },
      {
        "duration": 18,
        "start_time": "2022-12-07T14:52:35.154Z"
      },
      {
        "duration": 143,
        "start_time": "2022-12-07T14:52:35.174Z"
      },
      {
        "duration": 22,
        "start_time": "2022-12-07T14:52:39.584Z"
      },
      {
        "duration": 191,
        "start_time": "2022-12-07T14:53:52.596Z"
      },
      {
        "duration": 21,
        "start_time": "2022-12-07T14:54:17.244Z"
      },
      {
        "duration": 237,
        "start_time": "2022-12-07T14:55:06.521Z"
      },
      {
        "duration": 109,
        "start_time": "2022-12-07T14:55:18.207Z"
      },
      {
        "duration": 67,
        "start_time": "2022-12-07T14:55:18.578Z"
      },
      {
        "duration": 82,
        "start_time": "2022-12-07T14:55:18.866Z"
      },
      {
        "duration": 139,
        "start_time": "2022-12-07T14:55:19.490Z"
      },
      {
        "duration": 21,
        "start_time": "2022-12-07T14:55:41.156Z"
      },
      {
        "duration": 48,
        "start_time": "2022-12-07T14:55:42.512Z"
      },
      {
        "duration": 31,
        "start_time": "2022-12-07T14:55:50.247Z"
      },
      {
        "duration": 34,
        "start_time": "2022-12-07T14:55:52.346Z"
      },
      {
        "duration": 91,
        "start_time": "2022-12-07T14:56:01.181Z"
      },
      {
        "duration": 889,
        "start_time": "2022-12-07T14:56:03.814Z"
      },
      {
        "duration": 5,
        "start_time": "2022-12-07T14:57:29.306Z"
      },
      {
        "duration": 3,
        "start_time": "2022-12-07T14:57:29.868Z"
      },
      {
        "duration": 3,
        "start_time": "2022-12-07T14:57:30.157Z"
      },
      {
        "duration": 5,
        "start_time": "2022-12-07T14:57:30.694Z"
      },
      {
        "duration": 68,
        "start_time": "2022-12-07T14:57:31.681Z"
      },
      {
        "duration": 5,
        "start_time": "2022-12-07T14:57:38.985Z"
      },
      {
        "duration": 23,
        "start_time": "2022-12-07T14:57:41.420Z"
      },
      {
        "duration": 30,
        "start_time": "2022-12-07T14:57:42.533Z"
      },
      {
        "duration": 9,
        "start_time": "2022-12-07T14:57:43.085Z"
      },
      {
        "duration": 22,
        "start_time": "2022-12-07T14:57:43.778Z"
      },
      {
        "duration": 30,
        "start_time": "2022-12-07T14:57:44.455Z"
      },
      {
        "duration": 8,
        "start_time": "2022-12-07T14:57:45.164Z"
      },
      {
        "duration": 34,
        "start_time": "2022-12-07T14:57:46.539Z"
      },
      {
        "duration": 35,
        "start_time": "2022-12-07T14:58:57.140Z"
      },
      {
        "duration": 72,
        "start_time": "2022-12-07T14:59:20.817Z"
      },
      {
        "duration": 30,
        "start_time": "2022-12-07T15:05:43.629Z"
      },
      {
        "duration": 70,
        "start_time": "2022-12-07T15:06:00.832Z"
      },
      {
        "duration": 46,
        "start_time": "2022-12-07T15:06:17.936Z"
      },
      {
        "duration": 24,
        "start_time": "2022-12-07T15:07:02.540Z"
      },
      {
        "duration": 30,
        "start_time": "2022-12-07T15:07:36.016Z"
      },
      {
        "duration": 81,
        "start_time": "2022-12-07T15:07:37.345Z"
      },
      {
        "duration": 96,
        "start_time": "2022-12-07T15:08:14.692Z"
      },
      {
        "duration": 2262,
        "start_time": "2022-12-07T15:11:18.092Z"
      },
      {
        "duration": 5,
        "start_time": "2022-12-07T15:11:20.357Z"
      },
      {
        "duration": 883,
        "start_time": "2022-12-07T15:11:20.364Z"
      },
      {
        "duration": 18,
        "start_time": "2022-12-07T15:11:21.249Z"
      },
      {
        "duration": 30,
        "start_time": "2022-12-07T15:11:21.269Z"
      },
      {
        "duration": 26,
        "start_time": "2022-12-07T15:11:21.301Z"
      },
      {
        "duration": 154,
        "start_time": "2022-12-07T15:11:21.330Z"
      },
      {
        "duration": 30,
        "start_time": "2022-12-07T15:11:21.485Z"
      },
      {
        "duration": 140,
        "start_time": "2022-12-07T15:11:21.516Z"
      },
      {
        "duration": 21,
        "start_time": "2022-12-07T15:11:21.658Z"
      },
      {
        "duration": 204,
        "start_time": "2022-12-07T15:11:21.681Z"
      },
      {
        "duration": 81,
        "start_time": "2022-12-07T15:11:21.887Z"
      },
      {
        "duration": 79,
        "start_time": "2022-12-07T15:11:21.970Z"
      },
      {
        "duration": 83,
        "start_time": "2022-12-07T15:11:22.051Z"
      },
      {
        "duration": 159,
        "start_time": "2022-12-07T15:11:22.136Z"
      },
      {
        "duration": 24,
        "start_time": "2022-12-07T15:11:22.297Z"
      },
      {
        "duration": 44,
        "start_time": "2022-12-07T15:11:22.324Z"
      },
      {
        "duration": 64,
        "start_time": "2022-12-07T15:11:22.371Z"
      },
      {
        "duration": 36,
        "start_time": "2022-12-07T15:11:22.438Z"
      },
      {
        "duration": 110,
        "start_time": "2022-12-07T15:11:22.477Z"
      },
      {
        "duration": 868,
        "start_time": "2022-12-07T15:11:22.589Z"
      },
      {
        "duration": 5,
        "start_time": "2022-12-07T15:11:23.459Z"
      },
      {
        "duration": 5,
        "start_time": "2022-12-07T15:11:23.466Z"
      },
      {
        "duration": 12,
        "start_time": "2022-12-07T15:11:23.473Z"
      },
      {
        "duration": 11,
        "start_time": "2022-12-07T15:11:23.488Z"
      },
      {
        "duration": 69,
        "start_time": "2022-12-07T15:11:23.501Z"
      },
      {
        "duration": 6,
        "start_time": "2022-12-07T15:11:23.572Z"
      },
      {
        "duration": 39,
        "start_time": "2022-12-07T15:11:23.582Z"
      },
      {
        "duration": 32,
        "start_time": "2022-12-07T15:11:23.624Z"
      },
      {
        "duration": 9,
        "start_time": "2022-12-07T15:11:23.659Z"
      },
      {
        "duration": 69,
        "start_time": "2022-12-07T15:11:23.670Z"
      },
      {
        "duration": 28,
        "start_time": "2022-12-07T15:11:23.742Z"
      },
      {
        "duration": 48,
        "start_time": "2022-12-07T15:11:23.772Z"
      },
      {
        "duration": 10,
        "start_time": "2022-12-07T15:11:23.822Z"
      },
      {
        "duration": 46,
        "start_time": "2022-12-07T15:11:23.834Z"
      },
      {
        "duration": 49,
        "start_time": "2022-12-07T15:11:23.882Z"
      },
      {
        "duration": 52,
        "start_time": "2022-12-07T15:11:23.933Z"
      },
      {
        "duration": 92,
        "start_time": "2022-12-07T15:11:23.988Z"
      },
      {
        "duration": 77,
        "start_time": "2022-12-07T15:11:31.970Z"
      },
      {
        "duration": 82,
        "start_time": "2022-12-07T15:11:33.022Z"
      },
      {
        "duration": 86,
        "start_time": "2022-12-07T15:12:24.929Z"
      },
      {
        "duration": 3,
        "start_time": "2022-12-07T15:12:40.695Z"
      },
      {
        "duration": 775,
        "start_time": "2022-12-07T15:12:41.183Z"
      },
      {
        "duration": 16,
        "start_time": "2022-12-07T15:12:41.961Z"
      },
      {
        "duration": 6,
        "start_time": "2022-12-07T15:12:42.754Z"
      },
      {
        "duration": 4,
        "start_time": "2022-12-07T15:12:44.072Z"
      },
      {
        "duration": 117,
        "start_time": "2022-12-07T15:12:45.047Z"
      },
      {
        "duration": 22,
        "start_time": "2022-12-07T15:12:47.441Z"
      },
      {
        "duration": 133,
        "start_time": "2022-12-07T15:12:48.510Z"
      },
      {
        "duration": 30,
        "start_time": "2022-12-07T15:12:49.095Z"
      },
      {
        "duration": 157,
        "start_time": "2022-12-07T15:12:49.612Z"
      },
      {
        "duration": 79,
        "start_time": "2022-12-07T15:12:50.321Z"
      },
      {
        "duration": 67,
        "start_time": "2022-12-07T15:12:50.931Z"
      },
      {
        "duration": 75,
        "start_time": "2022-12-07T15:12:51.821Z"
      },
      {
        "duration": 147,
        "start_time": "2022-12-07T15:12:53.800Z"
      },
      {
        "duration": 62,
        "start_time": "2022-12-07T15:13:00.641Z"
      },
      {
        "duration": 8,
        "start_time": "2022-12-07T15:14:25.513Z"
      },
      {
        "duration": 6,
        "start_time": "2022-12-07T15:14:35.331Z"
      },
      {
        "duration": 23,
        "start_time": "2022-12-07T15:14:36.271Z"
      },
      {
        "duration": 29,
        "start_time": "2022-12-07T15:14:36.973Z"
      },
      {
        "duration": 57,
        "start_time": "2022-12-07T15:14:38.200Z"
      },
      {
        "duration": 101,
        "start_time": "2022-12-07T15:14:43.770Z"
      },
      {
        "duration": 2238,
        "start_time": "2022-12-07T15:15:00.225Z"
      },
      {
        "duration": 4,
        "start_time": "2022-12-07T15:15:02.465Z"
      },
      {
        "duration": 804,
        "start_time": "2022-12-07T15:15:02.471Z"
      },
      {
        "duration": 16,
        "start_time": "2022-12-07T15:15:03.278Z"
      },
      {
        "duration": 17,
        "start_time": "2022-12-07T15:15:03.296Z"
      },
      {
        "duration": 6,
        "start_time": "2022-12-07T15:15:03.316Z"
      },
      {
        "duration": 138,
        "start_time": "2022-12-07T15:15:03.324Z"
      },
      {
        "duration": 20,
        "start_time": "2022-12-07T15:15:03.464Z"
      },
      {
        "duration": 158,
        "start_time": "2022-12-07T15:15:03.487Z"
      },
      {
        "duration": 21,
        "start_time": "2022-12-07T15:15:03.648Z"
      },
      {
        "duration": 198,
        "start_time": "2022-12-07T15:15:03.671Z"
      },
      {
        "duration": 83,
        "start_time": "2022-12-07T15:15:03.870Z"
      },
      {
        "duration": 84,
        "start_time": "2022-12-07T15:15:03.955Z"
      },
      {
        "duration": 82,
        "start_time": "2022-12-07T15:15:04.040Z"
      },
      {
        "duration": 158,
        "start_time": "2022-12-07T15:15:04.124Z"
      },
      {
        "duration": 18,
        "start_time": "2022-12-07T15:15:04.283Z"
      },
      {
        "duration": 36,
        "start_time": "2022-12-07T15:15:04.313Z"
      },
      {
        "duration": 37,
        "start_time": "2022-12-07T15:15:04.351Z"
      },
      {
        "duration": 42,
        "start_time": "2022-12-07T15:15:04.390Z"
      },
      {
        "duration": 97,
        "start_time": "2022-12-07T15:15:04.434Z"
      },
      {
        "duration": 853,
        "start_time": "2022-12-07T15:15:04.532Z"
      },
      {
        "duration": 5,
        "start_time": "2022-12-07T15:15:05.387Z"
      },
      {
        "duration": 10,
        "start_time": "2022-12-07T15:15:05.411Z"
      },
      {
        "duration": 6,
        "start_time": "2022-12-07T15:15:05.423Z"
      },
      {
        "duration": 8,
        "start_time": "2022-12-07T15:15:05.431Z"
      },
      {
        "duration": 58,
        "start_time": "2022-12-07T15:15:05.442Z"
      },
      {
        "duration": 7,
        "start_time": "2022-12-07T15:15:05.512Z"
      },
      {
        "duration": 37,
        "start_time": "2022-12-07T15:15:05.524Z"
      },
      {
        "duration": 59,
        "start_time": "2022-12-07T15:15:05.564Z"
      },
      {
        "duration": 10,
        "start_time": "2022-12-07T15:15:05.625Z"
      },
      {
        "duration": 10,
        "start_time": "2022-12-07T15:15:05.637Z"
      },
      {
        "duration": 27,
        "start_time": "2022-12-07T15:15:05.649Z"
      },
      {
        "duration": 59,
        "start_time": "2022-12-07T15:15:05.678Z"
      },
      {
        "duration": 9,
        "start_time": "2022-12-07T15:15:05.739Z"
      },
      {
        "duration": 10,
        "start_time": "2022-12-07T15:15:05.750Z"
      },
      {
        "duration": 50,
        "start_time": "2022-12-07T15:15:05.762Z"
      },
      {
        "duration": 35,
        "start_time": "2022-12-07T15:15:05.814Z"
      },
      {
        "duration": 121,
        "start_time": "2022-12-07T15:15:05.852Z"
      },
      {
        "duration": 38,
        "start_time": "2022-12-07T15:15:49.170Z"
      },
      {
        "duration": 59,
        "start_time": "2022-12-07T15:18:47.696Z"
      },
      {
        "duration": 15,
        "start_time": "2022-12-07T15:20:07.123Z"
      },
      {
        "duration": 46,
        "start_time": "2022-12-07T15:21:00.126Z"
      },
      {
        "duration": 16,
        "start_time": "2022-12-07T15:21:18.406Z"
      },
      {
        "duration": 15,
        "start_time": "2022-12-07T17:35:38.481Z"
      },
      {
        "duration": 40,
        "start_time": "2022-12-07T17:37:25.288Z"
      },
      {
        "duration": 305,
        "start_time": "2022-12-07T17:42:29.767Z"
      },
      {
        "duration": 751,
        "start_time": "2022-12-07T17:42:32.993Z"
      },
      {
        "duration": 13,
        "start_time": "2022-12-07T17:42:33.746Z"
      },
      {
        "duration": 29,
        "start_time": "2022-12-07T17:42:33.761Z"
      },
      {
        "duration": 24,
        "start_time": "2022-12-07T17:42:33.792Z"
      },
      {
        "duration": 119,
        "start_time": "2022-12-07T17:42:33.942Z"
      },
      {
        "duration": 21,
        "start_time": "2022-12-07T17:42:34.127Z"
      },
      {
        "duration": 158,
        "start_time": "2022-12-07T17:42:34.308Z"
      },
      {
        "duration": 20,
        "start_time": "2022-12-07T17:42:34.494Z"
      },
      {
        "duration": 187,
        "start_time": "2022-12-07T17:42:34.694Z"
      },
      {
        "duration": 88,
        "start_time": "2022-12-07T17:42:34.883Z"
      },
      {
        "duration": 65,
        "start_time": "2022-12-07T17:42:35.054Z"
      },
      {
        "duration": 75,
        "start_time": "2022-12-07T17:42:35.230Z"
      },
      {
        "duration": 150,
        "start_time": "2022-12-07T17:42:35.413Z"
      },
      {
        "duration": 22,
        "start_time": "2022-12-07T17:42:35.787Z"
      },
      {
        "duration": 29,
        "start_time": "2022-12-07T17:42:35.987Z"
      },
      {
        "duration": 33,
        "start_time": "2022-12-07T17:42:36.176Z"
      },
      {
        "duration": 31,
        "start_time": "2022-12-07T17:42:36.355Z"
      },
      {
        "duration": 87,
        "start_time": "2022-12-07T17:42:36.758Z"
      },
      {
        "duration": 778,
        "start_time": "2022-12-07T17:42:36.955Z"
      },
      {
        "duration": 5,
        "start_time": "2022-12-07T17:42:37.736Z"
      },
      {
        "duration": 34,
        "start_time": "2022-12-07T17:42:37.743Z"
      },
      {
        "duration": 29,
        "start_time": "2022-12-07T17:42:37.780Z"
      },
      {
        "duration": 5,
        "start_time": "2022-12-07T17:42:38.361Z"
      },
      {
        "duration": 56,
        "start_time": "2022-12-07T17:42:38.584Z"
      },
      {
        "duration": 6,
        "start_time": "2022-12-07T17:42:38.776Z"
      },
      {
        "duration": 21,
        "start_time": "2022-12-07T17:42:40.315Z"
      },
      {
        "duration": 28,
        "start_time": "2022-12-07T17:42:40.980Z"
      },
      {
        "duration": 8,
        "start_time": "2022-12-07T17:42:41.204Z"
      },
      {
        "duration": 10,
        "start_time": "2022-12-07T17:42:41.485Z"
      },
      {
        "duration": 22,
        "start_time": "2022-12-07T17:42:41.737Z"
      },
      {
        "duration": 29,
        "start_time": "2022-12-07T17:42:41.943Z"
      },
      {
        "duration": 8,
        "start_time": "2022-12-07T17:42:42.440Z"
      },
      {
        "duration": 7,
        "start_time": "2022-12-07T17:42:42.704Z"
      },
      {
        "duration": 24,
        "start_time": "2022-12-07T17:42:43.178Z"
      },
      {
        "duration": 27,
        "start_time": "2022-12-07T17:42:43.962Z"
      },
      {
        "duration": 64,
        "start_time": "2022-12-07T17:42:44.670Z"
      },
      {
        "duration": 24,
        "start_time": "2022-12-07T17:42:45.495Z"
      },
      {
        "duration": 45,
        "start_time": "2022-12-07T17:42:46.952Z"
      },
      {
        "duration": 12,
        "start_time": "2022-12-07T17:42:47.809Z"
      },
      {
        "duration": 3,
        "start_time": "2022-12-07T17:42:50.134Z"
      },
      {
        "duration": 28,
        "start_time": "2022-12-07T17:42:50.949Z"
      },
      {
        "duration": 83,
        "start_time": "2022-12-07T17:43:07.339Z"
      },
      {
        "duration": 2,
        "start_time": "2022-12-07T17:43:13.435Z"
      },
      {
        "duration": 56,
        "start_time": "2022-12-07T17:43:38.548Z"
      },
      {
        "duration": 4,
        "start_time": "2022-12-07T17:45:05.683Z"
      },
      {
        "duration": 1125,
        "start_time": "2022-12-07T17:45:06.556Z"
      },
      {
        "duration": 3,
        "start_time": "2022-12-07T17:47:56.191Z"
      },
      {
        "duration": 3,
        "start_time": "2022-12-07T17:47:56.640Z"
      },
      {
        "duration": 1274,
        "start_time": "2022-12-07T17:47:57.411Z"
      },
      {
        "duration": 10,
        "start_time": "2022-12-07T17:49:14.796Z"
      },
      {
        "duration": 9,
        "start_time": "2022-12-07T17:53:28.992Z"
      },
      {
        "duration": 53,
        "start_time": "2022-12-07T17:53:32.567Z"
      },
      {
        "duration": 26,
        "start_time": "2022-12-07T17:53:33.066Z"
      },
      {
        "duration": 17,
        "start_time": "2022-12-07T17:53:33.566Z"
      },
      {
        "duration": 12,
        "start_time": "2022-12-07T17:53:34.030Z"
      },
      {
        "duration": 2,
        "start_time": "2022-12-07T17:53:35.370Z"
      },
      {
        "duration": 75,
        "start_time": "2022-12-07T17:53:36.405Z"
      },
      {
        "duration": 110,
        "start_time": "2022-12-07T17:53:50.813Z"
      },
      {
        "duration": 3,
        "start_time": "2022-12-07T17:53:52.816Z"
      },
      {
        "duration": 4,
        "start_time": "2022-12-07T17:53:54.204Z"
      },
      {
        "duration": 925,
        "start_time": "2022-12-07T17:53:55.191Z"
      },
      {
        "duration": 2,
        "start_time": "2022-12-07T17:54:40.147Z"
      },
      {
        "duration": 873,
        "start_time": "2022-12-07T17:54:40.759Z"
      },
      {
        "duration": 1215,
        "start_time": "2022-12-07T17:56:29.246Z"
      },
      {
        "duration": 2130,
        "start_time": "2022-12-07T17:56:49.511Z"
      },
      {
        "duration": 1371,
        "start_time": "2022-12-07T17:56:51.645Z"
      },
      {
        "duration": 927,
        "start_time": "2022-12-07T17:56:53.017Z"
      },
      {
        "duration": 20,
        "start_time": "2022-12-07T17:56:53.947Z"
      },
      {
        "duration": 14,
        "start_time": "2022-12-07T17:56:53.969Z"
      },
      {
        "duration": 37,
        "start_time": "2022-12-07T17:56:53.985Z"
      },
      {
        "duration": 157,
        "start_time": "2022-12-07T17:56:54.023Z"
      },
      {
        "duration": 30,
        "start_time": "2022-12-07T17:56:54.182Z"
      },
      {
        "duration": 223,
        "start_time": "2022-12-07T17:56:54.214Z"
      },
      {
        "duration": 21,
        "start_time": "2022-12-07T17:56:54.439Z"
      },
      {
        "duration": 207,
        "start_time": "2022-12-07T17:56:54.462Z"
      },
      {
        "duration": 81,
        "start_time": "2022-12-07T17:56:54.671Z"
      },
      {
        "duration": 76,
        "start_time": "2022-12-07T17:56:54.754Z"
      },
      {
        "duration": 91,
        "start_time": "2022-12-07T17:56:54.831Z"
      },
      {
        "duration": 147,
        "start_time": "2022-12-07T17:56:54.930Z"
      },
      {
        "duration": 23,
        "start_time": "2022-12-07T17:56:55.079Z"
      },
      {
        "duration": 29,
        "start_time": "2022-12-07T17:56:55.113Z"
      },
      {
        "duration": 35,
        "start_time": "2022-12-07T17:56:55.143Z"
      },
      {
        "duration": 50,
        "start_time": "2022-12-07T17:56:55.180Z"
      },
      {
        "duration": 96,
        "start_time": "2022-12-07T17:56:55.232Z"
      },
      {
        "duration": 780,
        "start_time": "2022-12-07T17:56:55.330Z"
      },
      {
        "duration": 5,
        "start_time": "2022-12-07T17:56:56.112Z"
      },
      {
        "duration": 16,
        "start_time": "2022-12-07T17:56:56.119Z"
      },
      {
        "duration": 25,
        "start_time": "2022-12-07T17:56:56.137Z"
      },
      {
        "duration": 21,
        "start_time": "2022-12-07T17:56:56.164Z"
      },
      {
        "duration": 81,
        "start_time": "2022-12-07T17:56:56.187Z"
      },
      {
        "duration": 7,
        "start_time": "2022-12-07T17:56:56.270Z"
      },
      {
        "duration": 38,
        "start_time": "2022-12-07T17:56:56.280Z"
      },
      {
        "duration": 53,
        "start_time": "2022-12-07T17:56:56.320Z"
      },
      {
        "duration": 27,
        "start_time": "2022-12-07T17:56:56.375Z"
      },
      {
        "duration": 24,
        "start_time": "2022-12-07T17:56:56.405Z"
      },
      {
        "duration": 30,
        "start_time": "2022-12-07T17:56:56.431Z"
      },
      {
        "duration": 41,
        "start_time": "2022-12-07T17:56:56.462Z"
      },
      {
        "duration": 12,
        "start_time": "2022-12-07T17:56:56.504Z"
      },
      {
        "duration": 17,
        "start_time": "2022-12-07T17:56:56.517Z"
      },
      {
        "duration": 44,
        "start_time": "2022-12-07T17:56:56.537Z"
      },
      {
        "duration": 43,
        "start_time": "2022-12-07T17:56:56.583Z"
      },
      {
        "duration": 29,
        "start_time": "2022-12-07T17:56:56.628Z"
      },
      {
        "duration": 71,
        "start_time": "2022-12-07T17:56:56.661Z"
      },
      {
        "duration": 27,
        "start_time": "2022-12-07T17:56:56.734Z"
      },
      {
        "duration": 81,
        "start_time": "2022-12-07T17:56:56.763Z"
      },
      {
        "duration": 11,
        "start_time": "2022-12-07T17:56:56.846Z"
      },
      {
        "duration": 23,
        "start_time": "2022-12-07T17:56:56.859Z"
      },
      {
        "duration": 73,
        "start_time": "2022-12-07T17:56:56.884Z"
      },
      {
        "duration": 93,
        "start_time": "2022-12-07T17:56:56.958Z"
      },
      {
        "duration": 3,
        "start_time": "2022-12-07T17:57:09.673Z"
      },
      {
        "duration": 3,
        "start_time": "2022-12-07T17:57:10.740Z"
      },
      {
        "duration": 1006,
        "start_time": "2022-12-07T17:57:12.296Z"
      },
      {
        "duration": 18,
        "start_time": "2022-12-07T18:00:37.915Z"
      },
      {
        "duration": 6,
        "start_time": "2022-12-07T18:01:14.806Z"
      },
      {
        "duration": 6,
        "start_time": "2022-12-07T18:01:30.609Z"
      },
      {
        "duration": 5,
        "start_time": "2022-12-07T18:02:07.572Z"
      },
      {
        "duration": 868,
        "start_time": "2022-12-07T18:03:21.799Z"
      },
      {
        "duration": 2115,
        "start_time": "2022-12-07T18:07:10.454Z"
      },
      {
        "duration": 3,
        "start_time": "2022-12-07T18:07:12.572Z"
      },
      {
        "duration": 784,
        "start_time": "2022-12-07T18:07:12.577Z"
      },
      {
        "duration": 14,
        "start_time": "2022-12-07T18:07:13.363Z"
      },
      {
        "duration": 7,
        "start_time": "2022-12-07T18:07:13.379Z"
      },
      {
        "duration": 5,
        "start_time": "2022-12-07T18:07:13.388Z"
      },
      {
        "duration": 127,
        "start_time": "2022-12-07T18:07:13.394Z"
      },
      {
        "duration": 21,
        "start_time": "2022-12-07T18:07:13.523Z"
      },
      {
        "duration": 199,
        "start_time": "2022-12-07T18:07:13.546Z"
      },
      {
        "duration": 21,
        "start_time": "2022-12-07T18:07:13.748Z"
      },
      {
        "duration": 199,
        "start_time": "2022-12-07T18:07:13.771Z"
      },
      {
        "duration": 86,
        "start_time": "2022-12-07T18:07:13.972Z"
      },
      {
        "duration": 90,
        "start_time": "2022-12-07T18:07:14.060Z"
      },
      {
        "duration": 83,
        "start_time": "2022-12-07T18:07:14.152Z"
      },
      {
        "duration": 153,
        "start_time": "2022-12-07T18:07:14.236Z"
      },
      {
        "duration": 30,
        "start_time": "2022-12-07T18:07:14.391Z"
      },
      {
        "duration": 29,
        "start_time": "2022-12-07T18:07:14.423Z"
      },
      {
        "duration": 33,
        "start_time": "2022-12-07T18:07:14.454Z"
      },
      {
        "duration": 51,
        "start_time": "2022-12-07T18:07:14.489Z"
      },
      {
        "duration": 96,
        "start_time": "2022-12-07T18:07:14.542Z"
      },
      {
        "duration": 845,
        "start_time": "2022-12-07T18:07:14.639Z"
      },
      {
        "duration": 5,
        "start_time": "2022-12-07T18:07:15.486Z"
      },
      {
        "duration": 7,
        "start_time": "2022-12-07T18:07:15.492Z"
      },
      {
        "duration": 4,
        "start_time": "2022-12-07T18:07:15.501Z"
      },
      {
        "duration": 4,
        "start_time": "2022-12-07T18:07:15.512Z"
      },
      {
        "duration": 63,
        "start_time": "2022-12-07T18:07:15.518Z"
      },
      {
        "duration": 5,
        "start_time": "2022-12-07T18:07:15.583Z"
      },
      {
        "duration": 22,
        "start_time": "2022-12-07T18:07:15.613Z"
      },
      {
        "duration": 39,
        "start_time": "2022-12-07T18:07:15.636Z"
      },
      {
        "duration": 8,
        "start_time": "2022-12-07T18:07:15.677Z"
      },
      {
        "duration": 27,
        "start_time": "2022-12-07T18:07:15.686Z"
      },
      {
        "duration": 22,
        "start_time": "2022-12-07T18:07:15.715Z"
      },
      {
        "duration": 33,
        "start_time": "2022-12-07T18:07:15.739Z"
      },
      {
        "duration": 9,
        "start_time": "2022-12-07T18:07:15.774Z"
      },
      {
        "duration": 6,
        "start_time": "2022-12-07T18:07:15.813Z"
      },
      {
        "duration": 25,
        "start_time": "2022-12-07T18:07:15.821Z"
      },
      {
        "duration": 31,
        "start_time": "2022-12-07T18:07:15.848Z"
      },
      {
        "duration": 52,
        "start_time": "2022-12-07T18:07:15.881Z"
      },
      {
        "duration": 0,
        "start_time": "2022-12-07T18:07:15.935Z"
      },
      {
        "duration": 0,
        "start_time": "2022-12-07T18:07:15.936Z"
      },
      {
        "duration": 0,
        "start_time": "2022-12-07T18:07:15.937Z"
      },
      {
        "duration": 0,
        "start_time": "2022-12-07T18:07:15.938Z"
      },
      {
        "duration": 0,
        "start_time": "2022-12-07T18:07:15.939Z"
      },
      {
        "duration": 0,
        "start_time": "2022-12-07T18:07:15.940Z"
      },
      {
        "duration": 59,
        "start_time": "2022-12-07T18:07:21.755Z"
      },
      {
        "duration": 70,
        "start_time": "2022-12-07T18:08:01.754Z"
      },
      {
        "duration": 2148,
        "start_time": "2022-12-07T18:08:09.692Z"
      },
      {
        "duration": 4,
        "start_time": "2022-12-07T18:08:11.842Z"
      },
      {
        "duration": 845,
        "start_time": "2022-12-07T18:08:11.848Z"
      },
      {
        "duration": 19,
        "start_time": "2022-12-07T18:08:12.695Z"
      },
      {
        "duration": 10,
        "start_time": "2022-12-07T18:08:12.716Z"
      },
      {
        "duration": 7,
        "start_time": "2022-12-07T18:08:12.728Z"
      },
      {
        "duration": 137,
        "start_time": "2022-12-07T18:08:12.736Z"
      },
      {
        "duration": 21,
        "start_time": "2022-12-07T18:08:12.875Z"
      },
      {
        "duration": 146,
        "start_time": "2022-12-07T18:08:12.898Z"
      },
      {
        "duration": 20,
        "start_time": "2022-12-07T18:08:13.046Z"
      },
      {
        "duration": 200,
        "start_time": "2022-12-07T18:08:13.067Z"
      },
      {
        "duration": 85,
        "start_time": "2022-12-07T18:08:13.269Z"
      },
      {
        "duration": 75,
        "start_time": "2022-12-07T18:08:13.355Z"
      },
      {
        "duration": 82,
        "start_time": "2022-12-07T18:08:13.434Z"
      },
      {
        "duration": 152,
        "start_time": "2022-12-07T18:08:13.518Z"
      },
      {
        "duration": 19,
        "start_time": "2022-12-07T18:08:13.672Z"
      },
      {
        "duration": 41,
        "start_time": "2022-12-07T18:08:13.692Z"
      },
      {
        "duration": 32,
        "start_time": "2022-12-07T18:08:13.735Z"
      },
      {
        "duration": 52,
        "start_time": "2022-12-07T18:08:13.769Z"
      },
      {
        "duration": 97,
        "start_time": "2022-12-07T18:08:13.823Z"
      },
      {
        "duration": 956,
        "start_time": "2022-12-07T18:08:13.922Z"
      },
      {
        "duration": 6,
        "start_time": "2022-12-07T18:08:14.880Z"
      },
      {
        "duration": 8,
        "start_time": "2022-12-07T18:08:14.888Z"
      },
      {
        "duration": 5,
        "start_time": "2022-12-07T18:08:14.898Z"
      },
      {
        "duration": 4,
        "start_time": "2022-12-07T18:08:14.913Z"
      },
      {
        "duration": 69,
        "start_time": "2022-12-07T18:08:14.918Z"
      },
      {
        "duration": 5,
        "start_time": "2022-12-07T18:08:14.989Z"
      },
      {
        "duration": 21,
        "start_time": "2022-12-07T18:08:15.013Z"
      },
      {
        "duration": 34,
        "start_time": "2022-12-07T18:08:15.035Z"
      },
      {
        "duration": 8,
        "start_time": "2022-12-07T18:08:15.070Z"
      },
      {
        "duration": 7,
        "start_time": "2022-12-07T18:08:15.080Z"
      },
      {
        "duration": 22,
        "start_time": "2022-12-07T18:08:15.112Z"
      },
      {
        "duration": 32,
        "start_time": "2022-12-07T18:08:15.135Z"
      },
      {
        "duration": 8,
        "start_time": "2022-12-07T18:08:15.169Z"
      },
      {
        "duration": 5,
        "start_time": "2022-12-07T18:08:15.179Z"
      },
      {
        "duration": 32,
        "start_time": "2022-12-07T18:08:15.212Z"
      },
      {
        "duration": 31,
        "start_time": "2022-12-07T18:08:15.247Z"
      },
      {
        "duration": 36,
        "start_time": "2022-12-07T18:08:15.280Z"
      },
      {
        "duration": 0,
        "start_time": "2022-12-07T18:08:15.318Z"
      },
      {
        "duration": 0,
        "start_time": "2022-12-07T18:08:15.319Z"
      },
      {
        "duration": 0,
        "start_time": "2022-12-07T18:08:15.320Z"
      },
      {
        "duration": 0,
        "start_time": "2022-12-07T18:08:15.322Z"
      },
      {
        "duration": 0,
        "start_time": "2022-12-07T18:08:15.323Z"
      },
      {
        "duration": 1,
        "start_time": "2022-12-07T18:08:15.324Z"
      },
      {
        "duration": 0,
        "start_time": "2022-12-07T18:08:15.325Z"
      },
      {
        "duration": 0,
        "start_time": "2022-12-07T18:08:15.327Z"
      },
      {
        "duration": 0,
        "start_time": "2022-12-07T18:08:15.328Z"
      },
      {
        "duration": 0,
        "start_time": "2022-12-07T18:08:15.328Z"
      },
      {
        "duration": 0,
        "start_time": "2022-12-07T18:08:15.330Z"
      },
      {
        "duration": 2,
        "start_time": "2022-12-07T18:08:31.455Z"
      },
      {
        "duration": 57,
        "start_time": "2022-12-07T18:08:39.349Z"
      },
      {
        "duration": 24,
        "start_time": "2022-12-07T18:08:44.556Z"
      },
      {
        "duration": 55,
        "start_time": "2022-12-07T18:08:47.005Z"
      },
      {
        "duration": 13,
        "start_time": "2022-12-07T18:08:47.793Z"
      },
      {
        "duration": 3,
        "start_time": "2022-12-07T18:08:53.198Z"
      },
      {
        "duration": 87,
        "start_time": "2022-12-07T18:08:53.664Z"
      },
      {
        "duration": 3,
        "start_time": "2022-12-07T18:09:52.624Z"
      },
      {
        "duration": 101,
        "start_time": "2022-12-07T18:09:56.445Z"
      },
      {
        "duration": 3,
        "start_time": "2022-12-07T18:09:57.589Z"
      },
      {
        "duration": 3,
        "start_time": "2022-12-07T18:09:58.057Z"
      },
      {
        "duration": 1245,
        "start_time": "2022-12-07T18:09:58.877Z"
      },
      {
        "duration": 3,
        "start_time": "2022-12-07T18:10:25.859Z"
      },
      {
        "duration": 925,
        "start_time": "2022-12-07T18:10:26.477Z"
      },
      {
        "duration": 2209,
        "start_time": "2022-12-07T18:11:02.722Z"
      },
      {
        "duration": 1427,
        "start_time": "2022-12-07T18:11:04.934Z"
      },
      {
        "duration": 936,
        "start_time": "2022-12-07T18:11:06.363Z"
      },
      {
        "duration": 20,
        "start_time": "2022-12-07T18:11:07.301Z"
      },
      {
        "duration": 5,
        "start_time": "2022-12-07T18:11:07.322Z"
      },
      {
        "duration": 6,
        "start_time": "2022-12-07T18:11:07.329Z"
      },
      {
        "duration": 152,
        "start_time": "2022-12-07T18:11:07.337Z"
      },
      {
        "duration": 26,
        "start_time": "2022-12-07T18:11:07.491Z"
      },
      {
        "duration": 221,
        "start_time": "2022-12-07T18:11:07.519Z"
      },
      {
        "duration": 21,
        "start_time": "2022-12-07T18:11:07.743Z"
      },
      {
        "duration": 215,
        "start_time": "2022-12-07T18:11:07.766Z"
      },
      {
        "duration": 83,
        "start_time": "2022-12-07T18:11:07.983Z"
      },
      {
        "duration": 79,
        "start_time": "2022-12-07T18:11:08.068Z"
      },
      {
        "duration": 84,
        "start_time": "2022-12-07T18:11:08.149Z"
      },
      {
        "duration": 162,
        "start_time": "2022-12-07T18:11:08.235Z"
      },
      {
        "duration": 29,
        "start_time": "2022-12-07T18:11:08.399Z"
      },
      {
        "duration": 30,
        "start_time": "2022-12-07T18:11:08.429Z"
      },
      {
        "duration": 51,
        "start_time": "2022-12-07T18:11:08.461Z"
      },
      {
        "duration": 32,
        "start_time": "2022-12-07T18:11:08.515Z"
      },
      {
        "duration": 104,
        "start_time": "2022-12-07T18:11:08.549Z"
      },
      {
        "duration": 786,
        "start_time": "2022-12-07T18:11:08.655Z"
      },
      {
        "duration": 5,
        "start_time": "2022-12-07T18:11:09.443Z"
      },
      {
        "duration": 10,
        "start_time": "2022-12-07T18:11:09.449Z"
      },
      {
        "duration": 14,
        "start_time": "2022-12-07T18:11:09.461Z"
      },
      {
        "duration": 16,
        "start_time": "2022-12-07T18:11:09.477Z"
      },
      {
        "duration": 76,
        "start_time": "2022-12-07T18:11:09.495Z"
      },
      {
        "duration": 5,
        "start_time": "2022-12-07T18:11:09.573Z"
      },
      {
        "duration": 32,
        "start_time": "2022-12-07T18:11:09.581Z"
      },
      {
        "duration": 32,
        "start_time": "2022-12-07T18:11:09.615Z"
      },
      {
        "duration": 11,
        "start_time": "2022-12-07T18:11:09.649Z"
      },
      {
        "duration": 9,
        "start_time": "2022-12-07T18:11:09.661Z"
      },
      {
        "duration": 47,
        "start_time": "2022-12-07T18:11:09.672Z"
      },
      {
        "duration": 34,
        "start_time": "2022-12-07T18:11:09.721Z"
      },
      {
        "duration": 8,
        "start_time": "2022-12-07T18:11:09.757Z"
      },
      {
        "duration": 4,
        "start_time": "2022-12-07T18:11:09.767Z"
      },
      {
        "duration": 42,
        "start_time": "2022-12-07T18:11:09.773Z"
      },
      {
        "duration": 33,
        "start_time": "2022-12-07T18:11:09.817Z"
      },
      {
        "duration": 3,
        "start_time": "2022-12-07T18:11:09.852Z"
      },
      {
        "duration": 81,
        "start_time": "2022-12-07T18:11:09.856Z"
      },
      {
        "duration": 28,
        "start_time": "2022-12-07T18:11:09.939Z"
      },
      {
        "duration": 64,
        "start_time": "2022-12-07T18:11:09.968Z"
      },
      {
        "duration": 13,
        "start_time": "2022-12-07T18:11:10.034Z"
      },
      {
        "duration": 5,
        "start_time": "2022-12-07T18:11:10.048Z"
      },
      {
        "duration": 73,
        "start_time": "2022-12-07T18:11:10.054Z"
      },
      {
        "duration": 113,
        "start_time": "2022-12-07T18:11:10.128Z"
      },
      {
        "duration": 3,
        "start_time": "2022-12-07T18:11:14.997Z"
      },
      {
        "duration": 3,
        "start_time": "2022-12-07T18:11:15.532Z"
      },
      {
        "duration": 1043,
        "start_time": "2022-12-07T18:11:16.497Z"
      },
      {
        "duration": 10,
        "start_time": "2022-12-07T18:18:20.718Z"
      },
      {
        "duration": 5,
        "start_time": "2022-12-07T18:18:46.495Z"
      },
      {
        "duration": 2,
        "start_time": "2022-12-07T18:19:03.413Z"
      },
      {
        "duration": 3,
        "start_time": "2022-12-07T18:19:04.797Z"
      },
      {
        "duration": 143444,
        "start_time": "2022-12-07T18:19:05.664Z"
      },
      {
        "duration": 0,
        "start_time": "2022-12-07T18:21:29.110Z"
      },
      {
        "duration": 2141,
        "start_time": "2022-12-07T18:21:48.597Z"
      },
      {
        "duration": 29,
        "start_time": "2022-12-07T18:21:50.741Z"
      },
      {
        "duration": 783,
        "start_time": "2022-12-07T18:21:50.771Z"
      },
      {
        "duration": 15,
        "start_time": "2022-12-07T18:21:51.556Z"
      },
      {
        "duration": 9,
        "start_time": "2022-12-07T18:21:51.573Z"
      },
      {
        "duration": 10,
        "start_time": "2022-12-07T18:21:51.583Z"
      },
      {
        "duration": 124,
        "start_time": "2022-12-07T18:21:51.595Z"
      },
      {
        "duration": 22,
        "start_time": "2022-12-07T18:21:51.721Z"
      },
      {
        "duration": 173,
        "start_time": "2022-12-07T18:21:51.745Z"
      },
      {
        "duration": 21,
        "start_time": "2022-12-07T18:21:51.920Z"
      },
      {
        "duration": 178,
        "start_time": "2022-12-07T18:21:51.943Z"
      },
      {
        "duration": 91,
        "start_time": "2022-12-07T18:21:52.122Z"
      },
      {
        "duration": 68,
        "start_time": "2022-12-07T18:21:52.215Z"
      },
      {
        "duration": 85,
        "start_time": "2022-12-07T18:21:52.287Z"
      },
      {
        "duration": 152,
        "start_time": "2022-12-07T18:21:52.374Z"
      },
      {
        "duration": 18,
        "start_time": "2022-12-07T18:21:52.528Z"
      },
      {
        "duration": 27,
        "start_time": "2022-12-07T18:21:52.548Z"
      },
      {
        "duration": 51,
        "start_time": "2022-12-07T18:21:52.577Z"
      },
      {
        "duration": 33,
        "start_time": "2022-12-07T18:21:52.630Z"
      },
      {
        "duration": 100,
        "start_time": "2022-12-07T18:21:52.665Z"
      },
      {
        "duration": 859,
        "start_time": "2022-12-07T18:21:52.767Z"
      },
      {
        "duration": 4,
        "start_time": "2022-12-07T18:21:53.628Z"
      },
      {
        "duration": 5,
        "start_time": "2022-12-07T18:21:53.634Z"
      },
      {
        "duration": 4,
        "start_time": "2022-12-07T18:21:53.641Z"
      },
      {
        "duration": 6,
        "start_time": "2022-12-07T18:21:53.647Z"
      },
      {
        "duration": 71,
        "start_time": "2022-12-07T18:21:53.655Z"
      },
      {
        "duration": 5,
        "start_time": "2022-12-07T18:21:53.727Z"
      },
      {
        "duration": 21,
        "start_time": "2022-12-07T18:21:53.733Z"
      },
      {
        "duration": 35,
        "start_time": "2022-12-07T18:21:53.755Z"
      },
      {
        "duration": 26,
        "start_time": "2022-12-07T18:21:53.792Z"
      },
      {
        "duration": 5,
        "start_time": "2022-12-07T18:21:53.819Z"
      },
      {
        "duration": 34,
        "start_time": "2022-12-07T18:21:53.826Z"
      },
      {
        "duration": 31,
        "start_time": "2022-12-07T18:21:53.861Z"
      },
      {
        "duration": 23,
        "start_time": "2022-12-07T18:21:53.894Z"
      },
      {
        "duration": 5,
        "start_time": "2022-12-07T18:21:53.919Z"
      },
      {
        "duration": 25,
        "start_time": "2022-12-07T18:21:53.925Z"
      },
      {
        "duration": 30,
        "start_time": "2022-12-07T18:21:53.951Z"
      },
      {
        "duration": 2,
        "start_time": "2022-12-07T18:21:53.983Z"
      },
      {
        "duration": 54,
        "start_time": "2022-12-07T18:21:54.013Z"
      },
      {
        "duration": 25,
        "start_time": "2022-12-07T18:21:54.068Z"
      },
      {
        "duration": 46,
        "start_time": "2022-12-07T18:21:54.115Z"
      },
      {
        "duration": 15,
        "start_time": "2022-12-07T18:21:54.163Z"
      },
      {
        "duration": 8,
        "start_time": "2022-12-07T18:21:54.180Z"
      },
      {
        "duration": 79,
        "start_time": "2022-12-07T18:21:54.189Z"
      },
      {
        "duration": 90,
        "start_time": "2022-12-07T18:21:54.270Z"
      },
      {
        "duration": 5,
        "start_time": "2022-12-07T18:21:57.417Z"
      },
      {
        "duration": 2,
        "start_time": "2022-12-07T18:21:57.811Z"
      },
      {
        "duration": 17,
        "start_time": "2022-12-07T18:21:58.578Z"
      },
      {
        "duration": 3,
        "start_time": "2022-12-07T18:22:15.396Z"
      },
      {
        "duration": 3,
        "start_time": "2022-12-07T18:22:21.596Z"
      },
      {
        "duration": 1713,
        "start_time": "2022-12-07T18:22:22.138Z"
      },
      {
        "duration": 78,
        "start_time": "2022-12-07T18:22:36.056Z"
      },
      {
        "duration": 2810,
        "start_time": "2022-12-08T05:02:43.633Z"
      },
      {
        "duration": 1460,
        "start_time": "2022-12-08T05:02:46.445Z"
      },
      {
        "duration": 1031,
        "start_time": "2022-12-08T05:02:47.907Z"
      },
      {
        "duration": 16,
        "start_time": "2022-12-08T05:02:48.940Z"
      },
      {
        "duration": 7,
        "start_time": "2022-12-08T05:02:48.957Z"
      },
      {
        "duration": 6,
        "start_time": "2022-12-08T05:02:48.965Z"
      },
      {
        "duration": 134,
        "start_time": "2022-12-08T05:02:48.972Z"
      },
      {
        "duration": 28,
        "start_time": "2022-12-08T05:02:49.107Z"
      },
      {
        "duration": 187,
        "start_time": "2022-12-08T05:02:49.137Z"
      },
      {
        "duration": 19,
        "start_time": "2022-12-08T05:02:49.327Z"
      },
      {
        "duration": 195,
        "start_time": "2022-12-08T05:02:49.347Z"
      },
      {
        "duration": 69,
        "start_time": "2022-12-08T05:02:49.544Z"
      },
      {
        "duration": 61,
        "start_time": "2022-12-08T05:02:49.620Z"
      },
      {
        "duration": 70,
        "start_time": "2022-12-08T05:02:49.682Z"
      },
      {
        "duration": 131,
        "start_time": "2022-12-08T05:02:49.753Z"
      },
      {
        "duration": 18,
        "start_time": "2022-12-08T05:02:49.886Z"
      },
      {
        "duration": 38,
        "start_time": "2022-12-08T05:02:49.906Z"
      },
      {
        "duration": 27,
        "start_time": "2022-12-08T05:02:49.946Z"
      },
      {
        "duration": 28,
        "start_time": "2022-12-08T05:02:49.974Z"
      },
      {
        "duration": 91,
        "start_time": "2022-12-08T05:02:50.004Z"
      },
      {
        "duration": 767,
        "start_time": "2022-12-08T05:02:50.096Z"
      },
      {
        "duration": 3,
        "start_time": "2022-12-08T05:02:50.864Z"
      },
      {
        "duration": 16,
        "start_time": "2022-12-08T05:02:50.869Z"
      },
      {
        "duration": 6,
        "start_time": "2022-12-08T05:02:50.886Z"
      },
      {
        "duration": 8,
        "start_time": "2022-12-08T05:02:50.893Z"
      },
      {
        "duration": 62,
        "start_time": "2022-12-08T05:02:50.902Z"
      },
      {
        "duration": 5,
        "start_time": "2022-12-08T05:02:50.965Z"
      },
      {
        "duration": 29,
        "start_time": "2022-12-08T05:02:50.973Z"
      },
      {
        "duration": 36,
        "start_time": "2022-12-08T05:02:51.004Z"
      },
      {
        "duration": 7,
        "start_time": "2022-12-08T05:02:51.042Z"
      },
      {
        "duration": 4,
        "start_time": "2022-12-08T05:02:51.051Z"
      },
      {
        "duration": 23,
        "start_time": "2022-12-08T05:02:51.057Z"
      },
      {
        "duration": 45,
        "start_time": "2022-12-08T05:02:51.082Z"
      },
      {
        "duration": 7,
        "start_time": "2022-12-08T05:02:51.129Z"
      },
      {
        "duration": 7,
        "start_time": "2022-12-08T05:02:51.137Z"
      },
      {
        "duration": 21,
        "start_time": "2022-12-08T05:02:51.145Z"
      },
      {
        "duration": 30,
        "start_time": "2022-12-08T05:02:51.168Z"
      },
      {
        "duration": 23,
        "start_time": "2022-12-08T05:02:51.199Z"
      },
      {
        "duration": 58,
        "start_time": "2022-12-08T05:02:51.223Z"
      },
      {
        "duration": 20,
        "start_time": "2022-12-08T05:02:51.283Z"
      },
      {
        "duration": 54,
        "start_time": "2022-12-08T05:02:51.305Z"
      },
      {
        "duration": 11,
        "start_time": "2022-12-08T05:02:51.361Z"
      },
      {
        "duration": 11,
        "start_time": "2022-12-08T05:02:51.374Z"
      },
      {
        "duration": 68,
        "start_time": "2022-12-08T05:02:51.387Z"
      },
      {
        "duration": 100,
        "start_time": "2022-12-08T05:02:51.457Z"
      },
      {
        "duration": 3,
        "start_time": "2022-12-08T05:02:51.559Z"
      },
      {
        "duration": 11,
        "start_time": "2022-12-08T05:02:51.564Z"
      },
      {
        "duration": 1636,
        "start_time": "2022-12-08T05:02:51.577Z"
      },
      {
        "duration": 66,
        "start_time": "2022-12-08T05:09:01.228Z"
      },
      {
        "duration": 2065,
        "start_time": "2022-12-08T05:09:24.167Z"
      },
      {
        "duration": 3,
        "start_time": "2022-12-08T05:09:26.235Z"
      },
      {
        "duration": 714,
        "start_time": "2022-12-08T05:09:26.240Z"
      },
      {
        "duration": 13,
        "start_time": "2022-12-08T05:09:26.956Z"
      },
      {
        "duration": 8,
        "start_time": "2022-12-08T05:09:26.971Z"
      },
      {
        "duration": 6,
        "start_time": "2022-12-08T05:09:26.981Z"
      },
      {
        "duration": 137,
        "start_time": "2022-12-08T05:09:26.989Z"
      },
      {
        "duration": 20,
        "start_time": "2022-12-08T05:09:27.128Z"
      },
      {
        "duration": 161,
        "start_time": "2022-12-08T05:09:27.150Z"
      },
      {
        "duration": 22,
        "start_time": "2022-12-08T05:09:27.313Z"
      },
      {
        "duration": 160,
        "start_time": "2022-12-08T05:09:27.337Z"
      },
      {
        "duration": 84,
        "start_time": "2022-12-08T05:09:27.498Z"
      },
      {
        "duration": 77,
        "start_time": "2022-12-08T05:09:27.584Z"
      },
      {
        "duration": 75,
        "start_time": "2022-12-08T05:09:27.662Z"
      },
      {
        "duration": 132,
        "start_time": "2022-12-08T05:09:27.739Z"
      },
      {
        "duration": 16,
        "start_time": "2022-12-08T05:09:27.872Z"
      },
      {
        "duration": 34,
        "start_time": "2022-12-08T05:09:27.890Z"
      },
      {
        "duration": 28,
        "start_time": "2022-12-08T05:09:27.926Z"
      },
      {
        "duration": 29,
        "start_time": "2022-12-08T05:09:27.955Z"
      },
      {
        "duration": 98,
        "start_time": "2022-12-08T05:09:27.985Z"
      },
      {
        "duration": 846,
        "start_time": "2022-12-08T05:09:28.084Z"
      },
      {
        "duration": 4,
        "start_time": "2022-12-08T05:09:28.931Z"
      },
      {
        "duration": 5,
        "start_time": "2022-12-08T05:09:28.937Z"
      },
      {
        "duration": 5,
        "start_time": "2022-12-08T05:09:28.943Z"
      },
      {
        "duration": 7,
        "start_time": "2022-12-08T05:09:28.949Z"
      },
      {
        "duration": 67,
        "start_time": "2022-12-08T05:09:28.957Z"
      },
      {
        "duration": 5,
        "start_time": "2022-12-08T05:09:29.025Z"
      },
      {
        "duration": 20,
        "start_time": "2022-12-08T05:09:29.033Z"
      },
      {
        "duration": 36,
        "start_time": "2022-12-08T05:09:29.054Z"
      },
      {
        "duration": 7,
        "start_time": "2022-12-08T05:09:29.092Z"
      },
      {
        "duration": 22,
        "start_time": "2022-12-08T05:09:29.100Z"
      },
      {
        "duration": 20,
        "start_time": "2022-12-08T05:09:29.123Z"
      },
      {
        "duration": 33,
        "start_time": "2022-12-08T05:09:29.145Z"
      },
      {
        "duration": 7,
        "start_time": "2022-12-08T05:09:29.179Z"
      },
      {
        "duration": 5,
        "start_time": "2022-12-08T05:09:29.187Z"
      },
      {
        "duration": 43,
        "start_time": "2022-12-08T05:09:29.193Z"
      },
      {
        "duration": 38,
        "start_time": "2022-12-08T05:09:29.237Z"
      },
      {
        "duration": 2,
        "start_time": "2022-12-08T05:09:29.276Z"
      },
      {
        "duration": 64,
        "start_time": "2022-12-08T05:09:29.280Z"
      },
      {
        "duration": 22,
        "start_time": "2022-12-08T05:09:29.346Z"
      },
      {
        "duration": 53,
        "start_time": "2022-12-08T05:09:29.370Z"
      },
      {
        "duration": 12,
        "start_time": "2022-12-08T05:09:29.425Z"
      },
      {
        "duration": 9,
        "start_time": "2022-12-08T05:09:29.438Z"
      },
      {
        "duration": 72,
        "start_time": "2022-12-08T05:09:29.449Z"
      },
      {
        "duration": 77,
        "start_time": "2022-12-08T05:09:29.522Z"
      },
      {
        "duration": 2,
        "start_time": "2022-12-08T05:09:29.601Z"
      },
      {
        "duration": 16,
        "start_time": "2022-12-08T05:09:29.605Z"
      },
      {
        "duration": 1623,
        "start_time": "2022-12-08T05:09:29.623Z"
      },
      {
        "duration": 3,
        "start_time": "2022-12-08T05:14:30.936Z"
      },
      {
        "duration": 759,
        "start_time": "2022-12-08T05:14:30.941Z"
      },
      {
        "duration": 19,
        "start_time": "2022-12-08T05:14:31.702Z"
      },
      {
        "duration": 15,
        "start_time": "2022-12-08T05:14:31.722Z"
      },
      {
        "duration": 26,
        "start_time": "2022-12-08T05:14:31.739Z"
      },
      {
        "duration": 143,
        "start_time": "2022-12-08T05:14:31.766Z"
      },
      {
        "duration": 22,
        "start_time": "2022-12-08T05:14:31.911Z"
      },
      {
        "duration": 192,
        "start_time": "2022-12-08T05:14:31.935Z"
      },
      {
        "duration": 21,
        "start_time": "2022-12-08T05:14:32.129Z"
      },
      {
        "duration": 174,
        "start_time": "2022-12-08T05:14:32.152Z"
      },
      {
        "duration": 77,
        "start_time": "2022-12-08T05:14:32.329Z"
      },
      {
        "duration": 87,
        "start_time": "2022-12-08T05:14:32.408Z"
      },
      {
        "duration": 78,
        "start_time": "2022-12-08T05:14:32.497Z"
      },
      {
        "duration": 140,
        "start_time": "2022-12-08T05:14:32.577Z"
      },
      {
        "duration": 23,
        "start_time": "2022-12-08T05:14:32.720Z"
      },
      {
        "duration": 40,
        "start_time": "2022-12-08T05:14:32.745Z"
      },
      {
        "duration": 36,
        "start_time": "2022-12-08T05:14:32.788Z"
      },
      {
        "duration": 31,
        "start_time": "2022-12-08T05:14:32.825Z"
      },
      {
        "duration": 105,
        "start_time": "2022-12-08T05:14:32.858Z"
      },
      {
        "duration": 814,
        "start_time": "2022-12-08T05:14:32.965Z"
      },
      {
        "duration": 4,
        "start_time": "2022-12-08T05:14:33.780Z"
      },
      {
        "duration": 17,
        "start_time": "2022-12-08T05:14:33.786Z"
      },
      {
        "duration": 86,
        "start_time": "2022-12-08T05:14:33.804Z"
      },
      {
        "duration": 5,
        "start_time": "2022-12-08T05:14:33.892Z"
      },
      {
        "duration": 35,
        "start_time": "2022-12-08T05:14:33.899Z"
      },
      {
        "duration": 41,
        "start_time": "2022-12-08T05:14:33.936Z"
      },
      {
        "duration": 8,
        "start_time": "2022-12-08T05:14:33.979Z"
      },
      {
        "duration": 10,
        "start_time": "2022-12-08T05:14:33.988Z"
      },
      {
        "duration": 33,
        "start_time": "2022-12-08T05:14:34.001Z"
      },
      {
        "duration": 42,
        "start_time": "2022-12-08T05:14:34.035Z"
      },
      {
        "duration": 8,
        "start_time": "2022-12-08T05:14:34.079Z"
      },
      {
        "duration": 12,
        "start_time": "2022-12-08T05:14:34.089Z"
      },
      {
        "duration": 25,
        "start_time": "2022-12-08T05:14:34.120Z"
      },
      {
        "duration": 38,
        "start_time": "2022-12-08T05:14:34.148Z"
      },
      {
        "duration": 10,
        "start_time": "2022-12-08T05:14:34.189Z"
      },
      {
        "duration": 17,
        "start_time": "2022-12-08T05:14:40.256Z"
      },
      {
        "duration": 64,
        "start_time": "2022-12-08T05:14:41.407Z"
      },
      {
        "duration": 22,
        "start_time": "2022-12-08T05:14:43.409Z"
      },
      {
        "duration": 40,
        "start_time": "2022-12-08T05:14:50.592Z"
      },
      {
        "duration": 10,
        "start_time": "2022-12-08T05:14:51.850Z"
      },
      {
        "duration": 75,
        "start_time": "2022-12-08T05:14:55.971Z"
      },
      {
        "duration": 3,
        "start_time": "2022-12-08T05:14:58.014Z"
      },
      {
        "duration": 2,
        "start_time": "2022-12-08T05:14:59.203Z"
      },
      {
        "duration": 2344,
        "start_time": "2022-12-08T05:15:01.363Z"
      },
      {
        "duration": 3,
        "start_time": "2022-12-08T05:15:45.094Z"
      },
      {
        "duration": 778,
        "start_time": "2022-12-08T05:15:45.099Z"
      },
      {
        "duration": 12,
        "start_time": "2022-12-08T05:15:45.879Z"
      },
      {
        "duration": 8,
        "start_time": "2022-12-08T05:15:45.893Z"
      },
      {
        "duration": 7,
        "start_time": "2022-12-08T05:15:45.903Z"
      },
      {
        "duration": 126,
        "start_time": "2022-12-08T05:15:45.922Z"
      },
      {
        "duration": 19,
        "start_time": "2022-12-08T05:15:46.050Z"
      },
      {
        "duration": 189,
        "start_time": "2022-12-08T05:15:46.071Z"
      },
      {
        "duration": 19,
        "start_time": "2022-12-08T05:15:46.263Z"
      },
      {
        "duration": 187,
        "start_time": "2022-12-08T05:15:46.284Z"
      },
      {
        "duration": 79,
        "start_time": "2022-12-08T05:15:46.473Z"
      },
      {
        "duration": 78,
        "start_time": "2022-12-08T05:15:46.554Z"
      },
      {
        "duration": 65,
        "start_time": "2022-12-08T05:15:46.633Z"
      },
      {
        "duration": 132,
        "start_time": "2022-12-08T05:15:46.699Z"
      },
      {
        "duration": 16,
        "start_time": "2022-12-08T05:15:46.833Z"
      },
      {
        "duration": 25,
        "start_time": "2022-12-08T05:15:46.850Z"
      },
      {
        "duration": 44,
        "start_time": "2022-12-08T05:15:46.877Z"
      },
      {
        "duration": 29,
        "start_time": "2022-12-08T05:15:46.923Z"
      },
      {
        "duration": 89,
        "start_time": "2022-12-08T05:15:46.954Z"
      },
      {
        "duration": 714,
        "start_time": "2022-12-08T05:15:47.045Z"
      },
      {
        "duration": 5,
        "start_time": "2022-12-08T05:15:47.761Z"
      },
      {
        "duration": 8,
        "start_time": "2022-12-08T05:15:47.767Z"
      },
      {
        "duration": 73,
        "start_time": "2022-12-08T05:15:47.776Z"
      },
      {
        "duration": 4,
        "start_time": "2022-12-08T05:15:47.852Z"
      },
      {
        "duration": 25,
        "start_time": "2022-12-08T05:15:47.858Z"
      },
      {
        "duration": 43,
        "start_time": "2022-12-08T05:15:47.884Z"
      },
      {
        "duration": 7,
        "start_time": "2022-12-08T05:15:47.928Z"
      },
      {
        "duration": 6,
        "start_time": "2022-12-08T05:15:47.937Z"
      },
      {
        "duration": 20,
        "start_time": "2022-12-08T05:15:47.944Z"
      },
      {
        "duration": 59,
        "start_time": "2022-12-08T05:15:47.965Z"
      },
      {
        "duration": 8,
        "start_time": "2022-12-08T05:15:48.025Z"
      },
      {
        "duration": 7,
        "start_time": "2022-12-08T05:15:48.034Z"
      },
      {
        "duration": 22,
        "start_time": "2022-12-08T05:15:48.042Z"
      },
      {
        "duration": 56,
        "start_time": "2022-12-08T05:15:48.066Z"
      },
      {
        "duration": 9,
        "start_time": "2022-12-08T05:15:48.123Z"
      },
      {
        "duration": 68,
        "start_time": "2022-12-08T05:15:48.133Z"
      },
      {
        "duration": 29,
        "start_time": "2022-12-08T05:15:48.203Z"
      },
      {
        "duration": 49,
        "start_time": "2022-12-08T05:15:48.233Z"
      },
      {
        "duration": 9,
        "start_time": "2022-12-08T05:15:48.284Z"
      },
      {
        "duration": 75,
        "start_time": "2022-12-08T05:15:53.082Z"
      },
      {
        "duration": 3,
        "start_time": "2022-12-08T05:15:54.327Z"
      },
      {
        "duration": 3,
        "start_time": "2022-12-08T05:15:55.272Z"
      },
      {
        "duration": 1835,
        "start_time": "2022-12-08T05:15:56.377Z"
      },
      {
        "duration": 98,
        "start_time": "2022-12-08T05:16:02.397Z"
      },
      {
        "duration": 3,
        "start_time": "2022-12-08T05:17:03.514Z"
      },
      {
        "duration": 699,
        "start_time": "2022-12-08T05:17:03.519Z"
      },
      {
        "duration": 12,
        "start_time": "2022-12-08T05:17:04.220Z"
      },
      {
        "duration": 6,
        "start_time": "2022-12-08T05:17:04.234Z"
      },
      {
        "duration": 16,
        "start_time": "2022-12-08T05:17:04.242Z"
      },
      {
        "duration": 125,
        "start_time": "2022-12-08T05:17:04.259Z"
      },
      {
        "duration": 18,
        "start_time": "2022-12-08T05:17:04.386Z"
      },
      {
        "duration": 183,
        "start_time": "2022-12-08T05:17:04.406Z"
      },
      {
        "duration": 19,
        "start_time": "2022-12-08T05:17:04.591Z"
      },
      {
        "duration": 174,
        "start_time": "2022-12-08T05:17:04.620Z"
      },
      {
        "duration": 78,
        "start_time": "2022-12-08T05:17:04.797Z"
      },
      {
        "duration": 68,
        "start_time": "2022-12-08T05:17:04.877Z"
      },
      {
        "duration": 74,
        "start_time": "2022-12-08T05:17:04.947Z"
      },
      {
        "duration": 142,
        "start_time": "2022-12-08T05:17:05.022Z"
      },
      {
        "duration": 21,
        "start_time": "2022-12-08T05:17:05.166Z"
      },
      {
        "duration": 39,
        "start_time": "2022-12-08T05:17:05.190Z"
      },
      {
        "duration": 34,
        "start_time": "2022-12-08T05:17:05.231Z"
      },
      {
        "duration": 35,
        "start_time": "2022-12-08T05:17:05.267Z"
      },
      {
        "duration": 100,
        "start_time": "2022-12-08T05:17:05.322Z"
      },
      {
        "duration": 729,
        "start_time": "2022-12-08T05:17:05.423Z"
      },
      {
        "duration": 5,
        "start_time": "2022-12-08T05:17:06.153Z"
      },
      {
        "duration": 10,
        "start_time": "2022-12-08T05:17:06.159Z"
      },
      {
        "duration": 64,
        "start_time": "2022-12-08T05:17:06.171Z"
      },
      {
        "duration": 5,
        "start_time": "2022-12-08T05:17:06.236Z"
      },
      {
        "duration": 22,
        "start_time": "2022-12-08T05:17:06.242Z"
      },
      {
        "duration": 31,
        "start_time": "2022-12-08T05:17:06.265Z"
      },
      {
        "duration": 25,
        "start_time": "2022-12-08T05:17:06.298Z"
      },
      {
        "duration": 6,
        "start_time": "2022-12-08T05:17:06.324Z"
      },
      {
        "duration": 24,
        "start_time": "2022-12-08T05:17:06.332Z"
      },
      {
        "duration": 34,
        "start_time": "2022-12-08T05:17:06.358Z"
      },
      {
        "duration": 7,
        "start_time": "2022-12-08T05:17:06.394Z"
      },
      {
        "duration": 5,
        "start_time": "2022-12-08T05:17:06.420Z"
      },
      {
        "duration": 20,
        "start_time": "2022-12-08T05:17:06.427Z"
      },
      {
        "duration": 32,
        "start_time": "2022-12-08T05:17:06.448Z"
      },
      {
        "duration": 7,
        "start_time": "2022-12-08T05:17:06.481Z"
      },
      {
        "duration": 73,
        "start_time": "2022-12-08T05:17:06.490Z"
      },
      {
        "duration": 28,
        "start_time": "2022-12-08T05:17:06.565Z"
      },
      {
        "duration": 65,
        "start_time": "2022-12-08T05:17:06.595Z"
      },
      {
        "duration": 10,
        "start_time": "2022-12-08T05:17:06.661Z"
      },
      {
        "duration": 87,
        "start_time": "2022-12-08T05:17:06.672Z"
      },
      {
        "duration": 3,
        "start_time": "2022-12-08T05:17:06.761Z"
      },
      {
        "duration": 4,
        "start_time": "2022-12-08T05:17:10.546Z"
      },
      {
        "duration": 3,
        "start_time": "2022-12-08T05:17:11.620Z"
      },
      {
        "duration": 10021,
        "start_time": "2022-12-08T05:17:12.655Z"
      },
      {
        "duration": 114,
        "start_time": "2022-12-08T05:17:38.735Z"
      },
      {
        "duration": 44,
        "start_time": "2022-12-08T05:38:14.652Z"
      },
      {
        "duration": 5,
        "start_time": "2022-12-08T05:55:46.125Z"
      },
      {
        "duration": 150,
        "start_time": "2022-12-08T05:57:01.087Z"
      },
      {
        "duration": 137,
        "start_time": "2022-12-08T05:58:14.973Z"
      },
      {
        "duration": 13,
        "start_time": "2022-12-08T06:00:14.885Z"
      },
      {
        "duration": 4,
        "start_time": "2022-12-08T06:00:33.070Z"
      },
      {
        "duration": 695,
        "start_time": "2022-12-08T06:00:33.076Z"
      },
      {
        "duration": 12,
        "start_time": "2022-12-08T06:00:33.773Z"
      },
      {
        "duration": 10,
        "start_time": "2022-12-08T06:00:33.786Z"
      },
      {
        "duration": 6,
        "start_time": "2022-12-08T06:00:33.798Z"
      },
      {
        "duration": 129,
        "start_time": "2022-12-08T06:00:33.805Z"
      },
      {
        "duration": 19,
        "start_time": "2022-12-08T06:00:33.936Z"
      },
      {
        "duration": 186,
        "start_time": "2022-12-08T06:00:33.957Z"
      },
      {
        "duration": 18,
        "start_time": "2022-12-08T06:00:34.145Z"
      },
      {
        "duration": 200,
        "start_time": "2022-12-08T06:00:34.165Z"
      },
      {
        "duration": 79,
        "start_time": "2022-12-08T06:00:34.368Z"
      },
      {
        "duration": 72,
        "start_time": "2022-12-08T06:00:34.449Z"
      },
      {
        "duration": 74,
        "start_time": "2022-12-08T06:00:34.523Z"
      },
      {
        "duration": 144,
        "start_time": "2022-12-08T06:00:34.598Z"
      },
      {
        "duration": 22,
        "start_time": "2022-12-08T06:00:34.744Z"
      },
      {
        "duration": 26,
        "start_time": "2022-12-08T06:00:34.767Z"
      },
      {
        "duration": 58,
        "start_time": "2022-12-08T06:00:34.794Z"
      },
      {
        "duration": 33,
        "start_time": "2022-12-08T06:00:34.854Z"
      },
      {
        "duration": 94,
        "start_time": "2022-12-08T06:00:34.888Z"
      },
      {
        "duration": 741,
        "start_time": "2022-12-08T06:00:34.984Z"
      },
      {
        "duration": 4,
        "start_time": "2022-12-08T06:00:35.726Z"
      },
      {
        "duration": 12,
        "start_time": "2022-12-08T06:00:35.731Z"
      },
      {
        "duration": 60,
        "start_time": "2022-12-08T06:00:35.745Z"
      },
      {
        "duration": 16,
        "start_time": "2022-12-08T06:00:35.807Z"
      },
      {
        "duration": 28,
        "start_time": "2022-12-08T06:00:35.825Z"
      },
      {
        "duration": 39,
        "start_time": "2022-12-08T06:00:35.855Z"
      },
      {
        "duration": 8,
        "start_time": "2022-12-08T06:00:35.895Z"
      },
      {
        "duration": 19,
        "start_time": "2022-12-08T06:00:35.904Z"
      },
      {
        "duration": 19,
        "start_time": "2022-12-08T06:00:35.926Z"
      },
      {
        "duration": 33,
        "start_time": "2022-12-08T06:00:35.946Z"
      },
      {
        "duration": 7,
        "start_time": "2022-12-08T06:00:35.980Z"
      },
      {
        "duration": 7,
        "start_time": "2022-12-08T06:00:35.988Z"
      },
      {
        "duration": 32,
        "start_time": "2022-12-08T06:00:36.022Z"
      },
      {
        "duration": 35,
        "start_time": "2022-12-08T06:00:36.056Z"
      },
      {
        "duration": 10,
        "start_time": "2022-12-08T06:00:36.093Z"
      },
      {
        "duration": 70,
        "start_time": "2022-12-08T06:00:36.121Z"
      },
      {
        "duration": 34,
        "start_time": "2022-12-08T06:00:36.193Z"
      },
      {
        "duration": 54,
        "start_time": "2022-12-08T06:00:36.229Z"
      },
      {
        "duration": 10,
        "start_time": "2022-12-08T06:00:36.284Z"
      },
      {
        "duration": 95,
        "start_time": "2022-12-08T06:00:36.295Z"
      },
      {
        "duration": 3,
        "start_time": "2022-12-08T06:00:36.393Z"
      },
      {
        "duration": 19,
        "start_time": "2022-12-08T06:00:36.398Z"
      },
      {
        "duration": 10261,
        "start_time": "2022-12-08T06:00:36.419Z"
      },
      {
        "duration": 10041,
        "start_time": "2022-12-08T06:00:49.660Z"
      },
      {
        "duration": 111,
        "start_time": "2022-12-08T06:01:02.058Z"
      },
      {
        "duration": 4,
        "start_time": "2022-12-08T06:01:03.181Z"
      },
      {
        "duration": 5,
        "start_time": "2022-12-08T06:01:17.691Z"
      },
      {
        "duration": 10175,
        "start_time": "2022-12-08T06:17:18.123Z"
      },
      {
        "duration": 70,
        "start_time": "2022-12-08T06:47:33.238Z"
      },
      {
        "duration": 12,
        "start_time": "2022-12-08T06:47:34.459Z"
      },
      {
        "duration": 7,
        "start_time": "2022-12-08T06:48:51.598Z"
      },
      {
        "duration": 13,
        "start_time": "2022-12-08T06:49:01.944Z"
      },
      {
        "duration": 75,
        "start_time": "2022-12-08T06:49:13.251Z"
      },
      {
        "duration": 12,
        "start_time": "2022-12-08T06:49:13.682Z"
      },
      {
        "duration": 4,
        "start_time": "2022-12-08T06:50:40.721Z"
      },
      {
        "duration": 12,
        "start_time": "2022-12-08T06:50:53.163Z"
      },
      {
        "duration": 5,
        "start_time": "2022-12-08T06:51:19.061Z"
      },
      {
        "duration": 11,
        "start_time": "2022-12-08T06:51:26.318Z"
      },
      {
        "duration": 4,
        "start_time": "2022-12-08T06:52:52.683Z"
      },
      {
        "duration": 33735,
        "start_time": "2022-12-08T06:53:02.226Z"
      },
      {
        "duration": 66,
        "start_time": "2022-12-08T06:59:03.580Z"
      },
      {
        "duration": 31490,
        "start_time": "2022-12-08T06:59:36.201Z"
      },
      {
        "duration": 187,
        "start_time": "2022-12-08T07:03:42.925Z"
      },
      {
        "duration": 105,
        "start_time": "2022-12-08T07:05:26.843Z"
      },
      {
        "duration": 4,
        "start_time": "2022-12-08T07:05:55.776Z"
      },
      {
        "duration": 747,
        "start_time": "2022-12-08T07:05:55.782Z"
      },
      {
        "duration": 13,
        "start_time": "2022-12-08T07:05:56.531Z"
      },
      {
        "duration": 7,
        "start_time": "2022-12-08T07:05:56.545Z"
      },
      {
        "duration": 6,
        "start_time": "2022-12-08T07:05:56.554Z"
      },
      {
        "duration": 149,
        "start_time": "2022-12-08T07:05:56.561Z"
      },
      {
        "duration": 26,
        "start_time": "2022-12-08T07:05:56.712Z"
      },
      {
        "duration": 194,
        "start_time": "2022-12-08T07:05:56.739Z"
      },
      {
        "duration": 19,
        "start_time": "2022-12-08T07:05:56.934Z"
      },
      {
        "duration": 175,
        "start_time": "2022-12-08T07:05:56.955Z"
      },
      {
        "duration": 89,
        "start_time": "2022-12-08T07:05:57.133Z"
      },
      {
        "duration": 76,
        "start_time": "2022-12-08T07:05:57.223Z"
      },
      {
        "duration": 71,
        "start_time": "2022-12-08T07:05:57.301Z"
      },
      {
        "duration": 139,
        "start_time": "2022-12-08T07:05:57.374Z"
      },
      {
        "duration": 25,
        "start_time": "2022-12-08T07:05:57.515Z"
      },
      {
        "duration": 34,
        "start_time": "2022-12-08T07:05:57.542Z"
      },
      {
        "duration": 27,
        "start_time": "2022-12-08T07:05:57.577Z"
      },
      {
        "duration": 38,
        "start_time": "2022-12-08T07:05:57.606Z"
      },
      {
        "duration": 86,
        "start_time": "2022-12-08T07:05:57.645Z"
      },
      {
        "duration": 718,
        "start_time": "2022-12-08T07:05:57.733Z"
      },
      {
        "duration": 4,
        "start_time": "2022-12-08T07:05:58.452Z"
      },
      {
        "duration": 9,
        "start_time": "2022-12-08T07:05:58.457Z"
      },
      {
        "duration": 68,
        "start_time": "2022-12-08T07:05:58.467Z"
      },
      {
        "duration": 5,
        "start_time": "2022-12-08T07:05:58.536Z"
      },
      {
        "duration": 37,
        "start_time": "2022-12-08T07:05:58.542Z"
      },
      {
        "duration": 46,
        "start_time": "2022-12-08T07:05:58.580Z"
      },
      {
        "duration": 7,
        "start_time": "2022-12-08T07:05:58.628Z"
      },
      {
        "duration": 6,
        "start_time": "2022-12-08T07:05:58.637Z"
      },
      {
        "duration": 20,
        "start_time": "2022-12-08T07:05:58.647Z"
      },
      {
        "duration": 36,
        "start_time": "2022-12-08T07:05:58.668Z"
      },
      {
        "duration": 7,
        "start_time": "2022-12-08T07:05:58.722Z"
      },
      {
        "duration": 15,
        "start_time": "2022-12-08T07:05:58.731Z"
      },
      {
        "duration": 67,
        "start_time": "2022-12-08T07:05:58.747Z"
      },
      {
        "duration": 32,
        "start_time": "2022-12-08T07:05:58.815Z"
      },
      {
        "duration": 9,
        "start_time": "2022-12-08T07:05:58.848Z"
      },
      {
        "duration": 67,
        "start_time": "2022-12-08T07:05:58.859Z"
      },
      {
        "duration": 21,
        "start_time": "2022-12-08T07:05:58.927Z"
      },
      {
        "duration": 54,
        "start_time": "2022-12-08T07:05:58.949Z"
      },
      {
        "duration": 25,
        "start_time": "2022-12-08T07:05:59.005Z"
      },
      {
        "duration": 78,
        "start_time": "2022-12-08T07:05:59.031Z"
      },
      {
        "duration": 10,
        "start_time": "2022-12-08T07:05:59.111Z"
      },
      {
        "duration": 3,
        "start_time": "2022-12-08T07:05:59.122Z"
      },
      {
        "duration": 10256,
        "start_time": "2022-12-08T07:05:59.126Z"
      },
      {
        "duration": 105,
        "start_time": "2022-12-08T07:06:09.383Z"
      },
      {
        "duration": 5,
        "start_time": "2022-12-08T07:06:09.489Z"
      },
      {
        "duration": 76,
        "start_time": "2022-12-08T07:06:09.495Z"
      },
      {
        "duration": 32742,
        "start_time": "2022-12-08T07:06:09.573Z"
      },
      {
        "duration": 187,
        "start_time": "2022-12-08T07:06:42.321Z"
      },
      {
        "duration": 105,
        "start_time": "2022-12-08T07:07:01.826Z"
      },
      {
        "duration": 97,
        "start_time": "2022-12-08T07:09:59.479Z"
      },
      {
        "duration": 52,
        "start_time": "2022-12-08T07:10:29.132Z"
      },
      {
        "duration": 63,
        "start_time": "2022-12-08T07:11:07.841Z"
      },
      {
        "duration": 3314,
        "start_time": "2022-12-08T07:11:30.516Z"
      },
      {
        "duration": 53,
        "start_time": "2022-12-08T07:12:20.802Z"
      },
      {
        "duration": 3104,
        "start_time": "2022-12-08T07:12:33.924Z"
      },
      {
        "duration": 2,
        "start_time": "2022-12-08T07:14:56.956Z"
      },
      {
        "duration": 3,
        "start_time": "2022-12-08T07:14:58.347Z"
      },
      {
        "duration": 3304,
        "start_time": "2022-12-08T07:15:01.979Z"
      },
      {
        "duration": 3,
        "start_time": "2022-12-08T07:21:27.723Z"
      },
      {
        "duration": 12,
        "start_time": "2022-12-08T07:21:28.158Z"
      },
      {
        "duration": 10,
        "start_time": "2022-12-08T07:55:36.033Z"
      },
      {
        "duration": 3,
        "start_time": "2022-12-08T07:56:53.869Z"
      },
      {
        "duration": 3,
        "start_time": "2022-12-08T07:56:55.821Z"
      },
      {
        "duration": 2,
        "start_time": "2022-12-08T07:56:56.804Z"
      },
      {
        "duration": 12,
        "start_time": "2022-12-08T07:57:13.543Z"
      },
      {
        "duration": 3,
        "start_time": "2022-12-08T07:58:06.764Z"
      },
      {
        "duration": 4,
        "start_time": "2022-12-08T07:58:07.536Z"
      },
      {
        "duration": 3,
        "start_time": "2022-12-08T07:58:08.553Z"
      },
      {
        "duration": 194,
        "start_time": "2022-12-08T07:58:10.211Z"
      },
      {
        "duration": 193690,
        "start_time": "2022-12-08T08:10:47.541Z"
      },
      {
        "duration": 4,
        "start_time": "2022-12-08T09:41:04.638Z"
      },
      {
        "duration": 712,
        "start_time": "2022-12-08T09:41:04.644Z"
      },
      {
        "duration": 16,
        "start_time": "2022-12-08T09:41:05.358Z"
      },
      {
        "duration": 24,
        "start_time": "2022-12-08T09:41:05.376Z"
      },
      {
        "duration": 15,
        "start_time": "2022-12-08T09:41:05.403Z"
      },
      {
        "duration": 162,
        "start_time": "2022-12-08T09:41:05.420Z"
      },
      {
        "duration": 31,
        "start_time": "2022-12-08T09:41:05.584Z"
      },
      {
        "duration": 202,
        "start_time": "2022-12-08T09:41:05.616Z"
      },
      {
        "duration": 23,
        "start_time": "2022-12-08T09:41:05.820Z"
      },
      {
        "duration": 219,
        "start_time": "2022-12-08T09:41:05.845Z"
      },
      {
        "duration": 78,
        "start_time": "2022-12-08T09:41:06.066Z"
      },
      {
        "duration": 63,
        "start_time": "2022-12-08T09:41:06.145Z"
      },
      {
        "duration": 78,
        "start_time": "2022-12-08T09:41:06.210Z"
      },
      {
        "duration": 141,
        "start_time": "2022-12-08T09:41:06.290Z"
      },
      {
        "duration": 17,
        "start_time": "2022-12-08T09:41:06.432Z"
      },
      {
        "duration": 33,
        "start_time": "2022-12-08T09:41:06.451Z"
      },
      {
        "duration": 39,
        "start_time": "2022-12-08T09:41:06.485Z"
      },
      {
        "duration": 28,
        "start_time": "2022-12-08T09:41:06.526Z"
      },
      {
        "duration": 91,
        "start_time": "2022-12-08T09:41:06.556Z"
      },
      {
        "duration": 707,
        "start_time": "2022-12-08T09:41:06.648Z"
      },
      {
        "duration": 4,
        "start_time": "2022-12-08T09:41:07.356Z"
      },
      {
        "duration": 19,
        "start_time": "2022-12-08T09:41:07.362Z"
      },
      {
        "duration": 78,
        "start_time": "2022-12-08T09:41:07.383Z"
      },
      {
        "duration": 6,
        "start_time": "2022-12-08T09:41:07.463Z"
      },
      {
        "duration": 29,
        "start_time": "2022-12-08T09:41:07.470Z"
      },
      {
        "duration": 55,
        "start_time": "2022-12-08T09:41:07.501Z"
      },
      {
        "duration": 7,
        "start_time": "2022-12-08T09:41:07.558Z"
      },
      {
        "duration": 18,
        "start_time": "2022-12-08T09:41:07.567Z"
      },
      {
        "duration": 25,
        "start_time": "2022-12-08T09:41:07.589Z"
      },
      {
        "duration": 50,
        "start_time": "2022-12-08T09:41:07.616Z"
      },
      {
        "duration": 8,
        "start_time": "2022-12-08T09:41:07.668Z"
      },
      {
        "duration": 25,
        "start_time": "2022-12-08T09:41:07.678Z"
      },
      {
        "duration": 41,
        "start_time": "2022-12-08T09:41:07.705Z"
      },
      {
        "duration": 50,
        "start_time": "2022-12-08T09:41:07.747Z"
      },
      {
        "duration": 20,
        "start_time": "2022-12-08T09:41:07.799Z"
      },
      {
        "duration": 75,
        "start_time": "2022-12-08T09:41:07.820Z"
      },
      {
        "duration": 23,
        "start_time": "2022-12-08T09:41:07.897Z"
      },
      {
        "duration": 73,
        "start_time": "2022-12-08T09:41:07.922Z"
      },
      {
        "duration": 9,
        "start_time": "2022-12-08T09:41:07.997Z"
      },
      {
        "duration": 87,
        "start_time": "2022-12-08T09:41:08.008Z"
      },
      {
        "duration": 3,
        "start_time": "2022-12-08T09:41:08.097Z"
      },
      {
        "duration": 27,
        "start_time": "2022-12-08T09:41:08.101Z"
      },
      {
        "duration": 10822,
        "start_time": "2022-12-08T09:41:08.129Z"
      },
      {
        "duration": 116,
        "start_time": "2022-12-08T09:41:18.953Z"
      },
      {
        "duration": 6,
        "start_time": "2022-12-08T09:41:19.071Z"
      },
      {
        "duration": 90,
        "start_time": "2022-12-08T09:41:19.079Z"
      },
      {
        "duration": 4,
        "start_time": "2022-12-08T09:41:19.171Z"
      },
      {
        "duration": 31442,
        "start_time": "2022-12-08T09:41:19.177Z"
      },
      {
        "duration": 8,
        "start_time": "2022-12-08T09:41:50.621Z"
      },
      {
        "duration": 204,
        "start_time": "2022-12-08T09:41:50.631Z"
      },
      {
        "duration": 5,
        "start_time": "2022-12-08T09:41:50.837Z"
      },
      {
        "duration": 6,
        "start_time": "2022-12-08T09:41:50.844Z"
      },
      {
        "duration": 12,
        "start_time": "2022-12-08T09:41:50.851Z"
      },
      {
        "duration": 16,
        "start_time": "2022-12-08T09:41:50.865Z"
      },
      {
        "duration": 181,
        "start_time": "2022-12-08T09:41:50.883Z"
      },
      {
        "duration": 60,
        "start_time": "2022-12-08T09:41:51.065Z"
      },
      {
        "duration": 9,
        "start_time": "2022-12-08T09:41:51.126Z"
      },
      {
        "duration": 0,
        "start_time": "2022-12-08T09:41:51.136Z"
      },
      {
        "duration": 0,
        "start_time": "2022-12-08T09:41:51.137Z"
      },
      {
        "duration": 0,
        "start_time": "2022-12-08T09:41:51.138Z"
      },
      {
        "duration": 110,
        "start_time": "2022-12-08T09:54:05.569Z"
      },
      {
        "duration": 113,
        "start_time": "2022-12-08T09:54:26.618Z"
      },
      {
        "duration": 7855,
        "start_time": "2022-12-08T09:54:33.775Z"
      },
      {
        "duration": 59,
        "start_time": "2022-12-08T09:54:41.632Z"
      },
      {
        "duration": 1577,
        "start_time": "2022-12-09T05:45:55.446Z"
      },
      {
        "duration": 3,
        "start_time": "2022-12-09T05:52:11.470Z"
      },
      {
        "duration": 4,
        "start_time": "2022-12-09T05:53:57.225Z"
      },
      {
        "duration": 2915,
        "start_time": "2022-12-09T05:53:57.232Z"
      },
      {
        "duration": 20,
        "start_time": "2022-12-09T05:54:00.149Z"
      },
      {
        "duration": 13,
        "start_time": "2022-12-09T05:54:00.172Z"
      },
      {
        "duration": 19,
        "start_time": "2022-12-09T05:54:00.188Z"
      },
      {
        "duration": 138,
        "start_time": "2022-12-09T05:54:00.209Z"
      },
      {
        "duration": 30,
        "start_time": "2022-12-09T05:54:00.348Z"
      },
      {
        "duration": 200,
        "start_time": "2022-12-09T05:54:00.380Z"
      },
      {
        "duration": 20,
        "start_time": "2022-12-09T05:54:00.582Z"
      },
      {
        "duration": 182,
        "start_time": "2022-12-09T05:54:00.604Z"
      },
      {
        "duration": 69,
        "start_time": "2022-12-09T05:54:00.789Z"
      },
      {
        "duration": 70,
        "start_time": "2022-12-09T05:54:00.860Z"
      },
      {
        "duration": 77,
        "start_time": "2022-12-09T05:54:00.932Z"
      },
      {
        "duration": 165,
        "start_time": "2022-12-09T05:54:01.011Z"
      },
      {
        "duration": 25,
        "start_time": "2022-12-09T05:54:01.178Z"
      },
      {
        "duration": 31,
        "start_time": "2022-12-09T05:54:01.205Z"
      },
      {
        "duration": 52,
        "start_time": "2022-12-09T05:54:01.238Z"
      },
      {
        "duration": 34,
        "start_time": "2022-12-09T05:54:01.292Z"
      },
      {
        "duration": 101,
        "start_time": "2022-12-09T05:54:01.328Z"
      },
      {
        "duration": 841,
        "start_time": "2022-12-09T05:54:01.432Z"
      },
      {
        "duration": 4,
        "start_time": "2022-12-09T05:54:02.275Z"
      },
      {
        "duration": 12,
        "start_time": "2022-12-09T05:54:02.281Z"
      },
      {
        "duration": 57,
        "start_time": "2022-12-09T05:54:02.295Z"
      },
      {
        "duration": 4,
        "start_time": "2022-12-09T05:54:02.354Z"
      },
      {
        "duration": 36,
        "start_time": "2022-12-09T05:54:02.359Z"
      },
      {
        "duration": 33,
        "start_time": "2022-12-09T05:54:02.397Z"
      },
      {
        "duration": 9,
        "start_time": "2022-12-09T05:54:02.432Z"
      },
      {
        "duration": 9,
        "start_time": "2022-12-09T05:54:02.443Z"
      },
      {
        "duration": 20,
        "start_time": "2022-12-09T05:54:02.477Z"
      },
      {
        "duration": 32,
        "start_time": "2022-12-09T05:54:02.498Z"
      },
      {
        "duration": 11,
        "start_time": "2022-12-09T05:54:02.532Z"
      },
      {
        "duration": 8,
        "start_time": "2022-12-09T05:54:02.545Z"
      },
      {
        "duration": 37,
        "start_time": "2022-12-09T05:54:02.555Z"
      },
      {
        "duration": 46,
        "start_time": "2022-12-09T05:54:02.594Z"
      },
      {
        "duration": 8,
        "start_time": "2022-12-09T05:54:02.642Z"
      },
      {
        "duration": 55,
        "start_time": "2022-12-09T05:54:02.652Z"
      },
      {
        "duration": 22,
        "start_time": "2022-12-09T05:54:02.709Z"
      },
      {
        "duration": 78,
        "start_time": "2022-12-09T05:54:02.733Z"
      },
      {
        "duration": 12,
        "start_time": "2022-12-09T05:54:02.813Z"
      },
      {
        "duration": 104,
        "start_time": "2022-12-09T05:54:02.827Z"
      },
      {
        "duration": 3,
        "start_time": "2022-12-09T05:54:02.933Z"
      },
      {
        "duration": 10,
        "start_time": "2022-12-09T05:54:02.938Z"
      },
      {
        "duration": 10538,
        "start_time": "2022-12-09T05:54:02.951Z"
      },
      {
        "duration": 3,
        "start_time": "2022-12-09T05:54:13.491Z"
      },
      {
        "duration": 133,
        "start_time": "2022-12-09T05:54:13.495Z"
      },
      {
        "duration": 5,
        "start_time": "2022-12-09T05:54:13.629Z"
      },
      {
        "duration": 30,
        "start_time": "2022-12-09T05:54:13.635Z"
      },
      {
        "duration": 5,
        "start_time": "2022-12-09T05:54:18.323Z"
      },
      {
        "duration": 4,
        "start_time": "2022-12-09T05:54:19.836Z"
      },
      {
        "duration": 5,
        "start_time": "2022-12-09T05:56:01.585Z"
      },
      {
        "duration": 5,
        "start_time": "2022-12-09T05:56:04.824Z"
      },
      {
        "duration": 88,
        "start_time": "2022-12-09T05:58:34.085Z"
      },
      {
        "duration": 4,
        "start_time": "2022-12-09T05:58:35.111Z"
      },
      {
        "duration": 38463,
        "start_time": "2022-12-09T05:58:37.025Z"
      },
      {
        "duration": 115,
        "start_time": "2022-12-09T06:00:26.883Z"
      },
      {
        "duration": 8,
        "start_time": "2022-12-09T06:00:43.682Z"
      },
      {
        "duration": 9,
        "start_time": "2022-12-09T06:05:52.304Z"
      },
      {
        "duration": 82,
        "start_time": "2022-12-09T06:06:01.532Z"
      },
      {
        "duration": 181,
        "start_time": "2022-12-09T06:06:14.989Z"
      },
      {
        "duration": 5,
        "start_time": "2022-12-09T06:06:25.446Z"
      },
      {
        "duration": 4,
        "start_time": "2022-12-09T06:06:27.210Z"
      },
      {
        "duration": 4,
        "start_time": "2022-12-09T06:06:29.834Z"
      },
      {
        "duration": 4,
        "start_time": "2022-12-09T06:07:00.402Z"
      },
      {
        "duration": 3,
        "start_time": "2022-12-09T06:07:01.654Z"
      },
      {
        "duration": 69,
        "start_time": "2022-12-09T06:08:29.363Z"
      },
      {
        "duration": 3,
        "start_time": "2022-12-09T06:08:30.567Z"
      },
      {
        "duration": 4,
        "start_time": "2022-12-09T06:08:41.347Z"
      },
      {
        "duration": 3,
        "start_time": "2022-12-09T06:08:43.126Z"
      },
      {
        "duration": 229,
        "start_time": "2022-12-09T06:09:00.994Z"
      },
      {
        "duration": 10,
        "start_time": "2022-12-09T06:10:09.169Z"
      },
      {
        "duration": 89,
        "start_time": "2022-12-09T06:11:23.538Z"
      },
      {
        "duration": 3,
        "start_time": "2022-12-09T06:11:24.544Z"
      },
      {
        "duration": 3,
        "start_time": "2022-12-09T06:11:35.142Z"
      },
      {
        "duration": 2,
        "start_time": "2022-12-09T06:11:35.578Z"
      },
      {
        "duration": 222,
        "start_time": "2022-12-09T06:11:37.036Z"
      },
      {
        "duration": 79,
        "start_time": "2022-12-09T06:12:26.142Z"
      },
      {
        "duration": 4,
        "start_time": "2022-12-09T06:12:26.941Z"
      },
      {
        "duration": 3,
        "start_time": "2022-12-09T06:12:27.697Z"
      },
      {
        "duration": 2,
        "start_time": "2022-12-09T06:12:28.387Z"
      },
      {
        "duration": 237,
        "start_time": "2022-12-09T06:12:29.760Z"
      },
      {
        "duration": 5,
        "start_time": "2022-12-09T06:15:51.276Z"
      },
      {
        "duration": 85,
        "start_time": "2022-12-09T06:22:20.834Z"
      },
      {
        "duration": 2,
        "start_time": "2022-12-09T06:22:21.636Z"
      },
      {
        "duration": 3,
        "start_time": "2022-12-09T06:22:22.658Z"
      },
      {
        "duration": 10312,
        "start_time": "2022-12-09T06:22:23.659Z"
      },
      {
        "duration": 3,
        "start_time": "2022-12-09T06:22:37.547Z"
      },
      {
        "duration": 3,
        "start_time": "2022-12-09T06:22:45.094Z"
      },
      {
        "duration": 122,
        "start_time": "2022-12-09T06:22:45.621Z"
      },
      {
        "duration": 2,
        "start_time": "2022-12-09T06:22:53.857Z"
      },
      {
        "duration": 6,
        "start_time": "2022-12-09T06:22:54.734Z"
      },
      {
        "duration": 5,
        "start_time": "2022-12-09T06:22:55.905Z"
      },
      {
        "duration": 69,
        "start_time": "2022-12-09T06:23:14.394Z"
      },
      {
        "duration": 4,
        "start_time": "2022-12-09T06:23:15.591Z"
      },
      {
        "duration": 36126,
        "start_time": "2022-12-09T06:23:16.677Z"
      },
      {
        "duration": 7,
        "start_time": "2022-12-09T06:24:58.245Z"
      },
      {
        "duration": 181,
        "start_time": "2022-12-09T06:24:59.011Z"
      },
      {
        "duration": 3,
        "start_time": "2022-12-09T06:24:59.705Z"
      },
      {
        "duration": 5,
        "start_time": "2022-12-09T06:25:01.042Z"
      },
      {
        "duration": 5,
        "start_time": "2022-12-09T06:25:01.967Z"
      },
      {
        "duration": 10,
        "start_time": "2022-12-09T06:26:08.148Z"
      },
      {
        "duration": 78,
        "start_time": "2022-12-09T06:26:08.948Z"
      },
      {
        "duration": 3,
        "start_time": "2022-12-09T06:26:09.892Z"
      },
      {
        "duration": 3,
        "start_time": "2022-12-09T06:26:10.822Z"
      },
      {
        "duration": 2,
        "start_time": "2022-12-09T06:26:14.198Z"
      },
      {
        "duration": 223,
        "start_time": "2022-12-09T06:26:16.276Z"
      },
      {
        "duration": 115,
        "start_time": "2022-12-09T06:54:53.004Z"
      },
      {
        "duration": 13,
        "start_time": "2022-12-09T07:02:56.001Z"
      },
      {
        "duration": 5,
        "start_time": "2022-12-09T07:02:58.417Z"
      },
      {
        "duration": 3,
        "start_time": "2022-12-09T07:08:30.395Z"
      },
      {
        "duration": 17,
        "start_time": "2022-12-09T07:08:46.106Z"
      },
      {
        "duration": 19,
        "start_time": "2022-12-09T07:10:02.097Z"
      },
      {
        "duration": 3,
        "start_time": "2022-12-09T07:10:04.434Z"
      },
      {
        "duration": 42,
        "start_time": "2022-12-09T07:10:13.912Z"
      },
      {
        "duration": 8,
        "start_time": "2022-12-09T07:10:23.559Z"
      },
      {
        "duration": 5,
        "start_time": "2022-12-09T07:11:14.007Z"
      },
      {
        "duration": 786,
        "start_time": "2022-12-09T07:11:14.013Z"
      },
      {
        "duration": 13,
        "start_time": "2022-12-09T07:11:14.801Z"
      },
      {
        "duration": 9,
        "start_time": "2022-12-09T07:11:14.815Z"
      },
      {
        "duration": 6,
        "start_time": "2022-12-09T07:11:14.826Z"
      },
      {
        "duration": 124,
        "start_time": "2022-12-09T07:11:14.833Z"
      },
      {
        "duration": 31,
        "start_time": "2022-12-09T07:11:14.961Z"
      },
      {
        "duration": 163,
        "start_time": "2022-12-09T07:11:14.995Z"
      },
      {
        "duration": 18,
        "start_time": "2022-12-09T07:11:15.160Z"
      },
      {
        "duration": 169,
        "start_time": "2022-12-09T07:11:15.180Z"
      },
      {
        "duration": 76,
        "start_time": "2022-12-09T07:11:15.352Z"
      },
      {
        "duration": 72,
        "start_time": "2022-12-09T07:11:15.430Z"
      },
      {
        "duration": 65,
        "start_time": "2022-12-09T07:11:15.503Z"
      },
      {
        "duration": 150,
        "start_time": "2022-12-09T07:11:15.578Z"
      },
      {
        "duration": 20,
        "start_time": "2022-12-09T07:11:15.732Z"
      },
      {
        "duration": 39,
        "start_time": "2022-12-09T07:11:15.754Z"
      },
      {
        "duration": 28,
        "start_time": "2022-12-09T07:11:15.794Z"
      },
      {
        "duration": 23,
        "start_time": "2022-12-09T07:11:15.823Z"
      },
      {
        "duration": 56,
        "start_time": "2022-12-09T07:11:15.848Z"
      },
      {
        "duration": 28,
        "start_time": "2022-12-09T07:11:15.906Z"
      },
      {
        "duration": 85,
        "start_time": "2022-12-09T07:11:15.935Z"
      },
      {
        "duration": 742,
        "start_time": "2022-12-09T07:11:16.021Z"
      },
      {
        "duration": 20,
        "start_time": "2022-12-09T07:11:16.765Z"
      },
      {
        "duration": 8,
        "start_time": "2022-12-09T07:11:16.787Z"
      },
      {
        "duration": 7,
        "start_time": "2022-12-09T07:11:16.796Z"
      },
      {
        "duration": 51,
        "start_time": "2022-12-09T07:11:16.805Z"
      },
      {
        "duration": 6,
        "start_time": "2022-12-09T07:11:16.877Z"
      },
      {
        "duration": 18,
        "start_time": "2022-12-09T07:11:16.885Z"
      },
      {
        "duration": 30,
        "start_time": "2022-12-09T07:11:16.907Z"
      },
      {
        "duration": 7,
        "start_time": "2022-12-09T07:11:16.938Z"
      },
      {
        "duration": 34,
        "start_time": "2022-12-09T07:11:16.947Z"
      },
      {
        "duration": 20,
        "start_time": "2022-12-09T07:11:16.983Z"
      },
      {
        "duration": 28,
        "start_time": "2022-12-09T07:11:17.005Z"
      },
      {
        "duration": 8,
        "start_time": "2022-12-09T07:11:17.034Z"
      },
      {
        "duration": 6,
        "start_time": "2022-12-09T07:11:17.043Z"
      },
      {
        "duration": 42,
        "start_time": "2022-12-09T07:11:17.051Z"
      },
      {
        "duration": 29,
        "start_time": "2022-12-09T07:11:17.095Z"
      },
      {
        "duration": 11,
        "start_time": "2022-12-09T07:11:17.126Z"
      },
      {
        "duration": 60,
        "start_time": "2022-12-09T07:11:17.138Z"
      },
      {
        "duration": 21,
        "start_time": "2022-12-09T07:11:17.199Z"
      },
      {
        "duration": 63,
        "start_time": "2022-12-09T07:11:17.222Z"
      },
      {
        "duration": 10,
        "start_time": "2022-12-09T07:11:17.287Z"
      },
      {
        "duration": 76,
        "start_time": "2022-12-09T07:12:48.529Z"
      },
      {
        "duration": 3,
        "start_time": "2022-12-09T07:12:49.386Z"
      },
      {
        "duration": 3,
        "start_time": "2022-12-09T07:12:50.083Z"
      },
      {
        "duration": 10144,
        "start_time": "2022-12-09T07:12:51.036Z"
      },
      {
        "duration": 3,
        "start_time": "2022-12-09T07:13:09.886Z"
      },
      {
        "duration": 108,
        "start_time": "2022-12-09T07:13:11.131Z"
      },
      {
        "duration": 2,
        "start_time": "2022-12-09T07:13:17.702Z"
      },
      {
        "duration": 5,
        "start_time": "2022-12-09T07:13:18.736Z"
      },
      {
        "duration": 4,
        "start_time": "2022-12-09T07:13:20.797Z"
      },
      {
        "duration": 70,
        "start_time": "2022-12-09T07:13:28.196Z"
      },
      {
        "duration": 19,
        "start_time": "2022-12-09T07:15:58.116Z"
      },
      {
        "duration": 12,
        "start_time": "2022-12-09T07:15:58.707Z"
      },
      {
        "duration": 4,
        "start_time": "2022-12-09T07:16:11.785Z"
      },
      {
        "duration": 719,
        "start_time": "2022-12-09T07:16:11.790Z"
      },
      {
        "duration": 13,
        "start_time": "2022-12-09T07:16:12.511Z"
      },
      {
        "duration": 14,
        "start_time": "2022-12-09T07:16:12.525Z"
      },
      {
        "duration": 5,
        "start_time": "2022-12-09T07:16:12.541Z"
      },
      {
        "duration": 115,
        "start_time": "2022-12-09T07:16:12.548Z"
      },
      {
        "duration": 20,
        "start_time": "2022-12-09T07:16:12.665Z"
      },
      {
        "duration": 184,
        "start_time": "2022-12-09T07:16:12.687Z"
      },
      {
        "duration": 20,
        "start_time": "2022-12-09T07:16:12.872Z"
      },
      {
        "duration": 184,
        "start_time": "2022-12-09T07:16:12.893Z"
      },
      {
        "duration": 77,
        "start_time": "2022-12-09T07:16:13.080Z"
      },
      {
        "duration": 62,
        "start_time": "2022-12-09T07:16:13.159Z"
      },
      {
        "duration": 71,
        "start_time": "2022-12-09T07:16:13.223Z"
      },
      {
        "duration": 134,
        "start_time": "2022-12-09T07:16:13.296Z"
      },
      {
        "duration": 17,
        "start_time": "2022-12-09T07:16:13.432Z"
      },
      {
        "duration": 39,
        "start_time": "2022-12-09T07:16:13.450Z"
      },
      {
        "duration": 29,
        "start_time": "2022-12-09T07:16:13.491Z"
      },
      {
        "duration": 26,
        "start_time": "2022-12-09T07:16:13.522Z"
      },
      {
        "duration": 58,
        "start_time": "2022-12-09T07:16:13.550Z"
      },
      {
        "duration": 30,
        "start_time": "2022-12-09T07:16:13.609Z"
      },
      {
        "duration": 89,
        "start_time": "2022-12-09T07:16:13.640Z"
      },
      {
        "duration": 748,
        "start_time": "2022-12-09T07:16:13.730Z"
      },
      {
        "duration": 18,
        "start_time": "2022-12-09T07:16:14.480Z"
      },
      {
        "duration": 17,
        "start_time": "2022-12-09T07:16:14.500Z"
      },
      {
        "duration": 5,
        "start_time": "2022-12-09T07:16:14.518Z"
      },
      {
        "duration": 7,
        "start_time": "2022-12-09T07:16:14.525Z"
      },
      {
        "duration": 77,
        "start_time": "2022-12-09T07:16:14.533Z"
      },
      {
        "duration": 5,
        "start_time": "2022-12-09T07:16:14.612Z"
      },
      {
        "duration": 21,
        "start_time": "2022-12-09T07:16:14.619Z"
      },
      {
        "duration": 41,
        "start_time": "2022-12-09T07:16:14.642Z"
      },
      {
        "duration": 8,
        "start_time": "2022-12-09T07:16:14.685Z"
      },
      {
        "duration": 8,
        "start_time": "2022-12-09T07:16:14.695Z"
      },
      {
        "duration": 20,
        "start_time": "2022-12-09T07:16:14.705Z"
      },
      {
        "duration": 32,
        "start_time": "2022-12-09T07:16:14.727Z"
      },
      {
        "duration": 9,
        "start_time": "2022-12-09T07:16:14.777Z"
      },
      {
        "duration": 6,
        "start_time": "2022-12-09T07:16:14.788Z"
      },
      {
        "duration": 19,
        "start_time": "2022-12-09T07:16:14.796Z"
      },
      {
        "duration": 31,
        "start_time": "2022-12-09T07:16:14.817Z"
      },
      {
        "duration": 32,
        "start_time": "2022-12-09T07:16:14.849Z"
      },
      {
        "duration": 48,
        "start_time": "2022-12-09T07:16:14.882Z"
      },
      {
        "duration": 25,
        "start_time": "2022-12-09T07:16:14.932Z"
      },
      {
        "duration": 65,
        "start_time": "2022-12-09T07:16:14.959Z"
      },
      {
        "duration": 9,
        "start_time": "2022-12-09T07:16:15.027Z"
      },
      {
        "duration": 77,
        "start_time": "2022-12-09T07:17:27.161Z"
      },
      {
        "duration": 4,
        "start_time": "2022-12-09T07:17:28.543Z"
      },
      {
        "duration": 36237,
        "start_time": "2022-12-09T07:17:30.460Z"
      },
      {
        "duration": 2,
        "start_time": "2022-12-09T07:18:15.707Z"
      },
      {
        "duration": 7,
        "start_time": "2022-12-09T07:18:16.227Z"
      },
      {
        "duration": 178,
        "start_time": "2022-12-09T07:18:17.665Z"
      },
      {
        "duration": 3,
        "start_time": "2022-12-09T07:18:23.250Z"
      },
      {
        "duration": 7,
        "start_time": "2022-12-09T07:18:23.999Z"
      },
      {
        "duration": 4,
        "start_time": "2022-12-09T07:18:25.186Z"
      },
      {
        "duration": 79,
        "start_time": "2022-12-09T07:18:52.312Z"
      },
      {
        "duration": 5,
        "start_time": "2022-12-09T07:18:53.580Z"
      },
      {
        "duration": 4,
        "start_time": "2022-12-09T07:18:54.738Z"
      },
      {
        "duration": 3,
        "start_time": "2022-12-09T07:18:59.922Z"
      },
      {
        "duration": 254,
        "start_time": "2022-12-09T07:19:01.756Z"
      },
      {
        "duration": 1749,
        "start_time": "2022-12-09T09:13:35.758Z"
      },
      {
        "duration": 1107,
        "start_time": "2022-12-09T09:13:37.509Z"
      },
      {
        "duration": 18,
        "start_time": "2022-12-09T09:13:38.618Z"
      },
      {
        "duration": 5,
        "start_time": "2022-12-09T09:13:38.639Z"
      },
      {
        "duration": 10,
        "start_time": "2022-12-09T09:13:38.645Z"
      },
      {
        "duration": 151,
        "start_time": "2022-12-09T09:13:38.657Z"
      },
      {
        "duration": 23,
        "start_time": "2022-12-09T09:13:38.810Z"
      },
      {
        "duration": 248,
        "start_time": "2022-12-09T09:13:38.836Z"
      },
      {
        "duration": 24,
        "start_time": "2022-12-09T09:13:39.086Z"
      },
      {
        "duration": 217,
        "start_time": "2022-12-09T09:13:39.113Z"
      },
      {
        "duration": 74,
        "start_time": "2022-12-09T09:13:39.331Z"
      },
      {
        "duration": 84,
        "start_time": "2022-12-09T09:13:39.406Z"
      },
      {
        "duration": 71,
        "start_time": "2022-12-09T09:13:39.491Z"
      },
      {
        "duration": 148,
        "start_time": "2022-12-09T09:13:39.564Z"
      },
      {
        "duration": 20,
        "start_time": "2022-12-09T09:13:39.714Z"
      },
      {
        "duration": 41,
        "start_time": "2022-12-09T09:13:39.736Z"
      },
      {
        "duration": 31,
        "start_time": "2022-12-09T09:13:39.779Z"
      },
      {
        "duration": 44,
        "start_time": "2022-12-09T09:13:39.811Z"
      },
      {
        "duration": 45,
        "start_time": "2022-12-09T09:13:39.857Z"
      },
      {
        "duration": 31,
        "start_time": "2022-12-09T09:13:39.903Z"
      },
      {
        "duration": 103,
        "start_time": "2022-12-09T09:13:39.935Z"
      },
      {
        "duration": 844,
        "start_time": "2022-12-09T09:13:40.040Z"
      },
      {
        "duration": 17,
        "start_time": "2022-12-09T09:13:40.886Z"
      },
      {
        "duration": 18,
        "start_time": "2022-12-09T09:13:40.905Z"
      },
      {
        "duration": 15,
        "start_time": "2022-12-09T09:13:40.925Z"
      },
      {
        "duration": 5,
        "start_time": "2022-12-09T09:13:40.954Z"
      },
      {
        "duration": 67,
        "start_time": "2022-12-09T09:13:40.961Z"
      },
      {
        "duration": 25,
        "start_time": "2022-12-09T09:13:41.031Z"
      },
      {
        "duration": 23,
        "start_time": "2022-12-09T09:13:41.057Z"
      },
      {
        "duration": 39,
        "start_time": "2022-12-09T09:13:41.082Z"
      },
      {
        "duration": 51,
        "start_time": "2022-12-09T09:13:41.122Z"
      },
      {
        "duration": 29,
        "start_time": "2022-12-09T09:13:41.175Z"
      },
      {
        "duration": 39,
        "start_time": "2022-12-09T09:13:41.206Z"
      },
      {
        "duration": 40,
        "start_time": "2022-12-09T09:13:41.246Z"
      },
      {
        "duration": 10,
        "start_time": "2022-12-09T09:13:41.288Z"
      },
      {
        "duration": 14,
        "start_time": "2022-12-09T09:13:41.299Z"
      },
      {
        "duration": 40,
        "start_time": "2022-12-09T09:13:41.315Z"
      },
      {
        "duration": 57,
        "start_time": "2022-12-09T09:13:41.357Z"
      },
      {
        "duration": 10,
        "start_time": "2022-12-09T09:13:41.416Z"
      },
      {
        "duration": 65,
        "start_time": "2022-12-09T09:13:41.428Z"
      },
      {
        "duration": 24,
        "start_time": "2022-12-09T09:13:41.495Z"
      },
      {
        "duration": 65,
        "start_time": "2022-12-09T09:13:41.521Z"
      },
      {
        "duration": 10,
        "start_time": "2022-12-09T09:13:41.588Z"
      },
      {
        "duration": 87,
        "start_time": "2022-12-09T09:13:41.600Z"
      },
      {
        "duration": 2,
        "start_time": "2022-12-09T09:13:41.689Z"
      },
      {
        "duration": 9,
        "start_time": "2022-12-09T09:13:41.693Z"
      },
      {
        "duration": 11000,
        "start_time": "2022-12-09T09:13:41.704Z"
      },
      {
        "duration": 3,
        "start_time": "2022-12-09T09:13:52.706Z"
      },
      {
        "duration": 152,
        "start_time": "2022-12-09T09:13:52.710Z"
      },
      {
        "duration": 3,
        "start_time": "2022-12-09T09:13:52.865Z"
      },
      {
        "duration": 36,
        "start_time": "2022-12-09T09:13:52.870Z"
      },
      {
        "duration": 34,
        "start_time": "2022-12-09T09:13:52.908Z"
      },
      {
        "duration": 143,
        "start_time": "2022-12-09T09:13:52.944Z"
      },
      {
        "duration": 3,
        "start_time": "2022-12-09T09:13:53.089Z"
      },
      {
        "duration": 39961,
        "start_time": "2022-12-09T09:13:53.094Z"
      },
      {
        "duration": 2,
        "start_time": "2022-12-09T09:14:33.057Z"
      },
      {
        "duration": 13,
        "start_time": "2022-12-09T09:14:33.061Z"
      },
      {
        "duration": 221,
        "start_time": "2022-12-09T09:14:33.075Z"
      },
      {
        "duration": 2,
        "start_time": "2022-12-09T09:14:33.298Z"
      },
      {
        "duration": 10,
        "start_time": "2022-12-09T09:14:33.302Z"
      },
      {
        "duration": 8,
        "start_time": "2022-12-09T09:14:33.314Z"
      },
      {
        "duration": 82,
        "start_time": "2022-12-09T09:16:57.293Z"
      },
      {
        "duration": 3,
        "start_time": "2022-12-09T09:16:57.712Z"
      },
      {
        "duration": 4,
        "start_time": "2022-12-09T09:16:58.696Z"
      },
      {
        "duration": 4,
        "start_time": "2022-12-09T09:16:59.393Z"
      },
      {
        "duration": 3492,
        "start_time": "2022-12-09T09:17:00.182Z"
      },
      {
        "duration": 5,
        "start_time": "2022-12-09T09:17:58.997Z"
      },
      {
        "duration": 165,
        "start_time": "2022-12-09T09:17:59.492Z"
      },
      {
        "duration": 6,
        "start_time": "2022-12-09T09:18:10.212Z"
      },
      {
        "duration": 5,
        "start_time": "2022-12-09T09:18:10.728Z"
      },
      {
        "duration": 121,
        "start_time": "2022-12-09T09:18:46.032Z"
      },
      {
        "duration": 205,
        "start_time": "2022-12-09T09:20:04.436Z"
      },
      {
        "duration": 86,
        "start_time": "2022-12-09T09:32:42.320Z"
      },
      {
        "duration": 4,
        "start_time": "2022-12-09T09:32:43.248Z"
      },
      {
        "duration": 4,
        "start_time": "2022-12-09T09:32:43.937Z"
      },
      {
        "duration": 111448,
        "start_time": "2022-12-09T09:33:25.817Z"
      },
      {
        "duration": 5,
        "start_time": "2022-12-09T09:35:30.363Z"
      },
      {
        "duration": 1012,
        "start_time": "2022-12-09T09:35:30.371Z"
      },
      {
        "duration": 16,
        "start_time": "2022-12-09T09:35:31.385Z"
      },
      {
        "duration": 30,
        "start_time": "2022-12-09T09:35:31.403Z"
      },
      {
        "duration": 11,
        "start_time": "2022-12-09T09:35:31.435Z"
      },
      {
        "duration": 159,
        "start_time": "2022-12-09T09:35:31.448Z"
      },
      {
        "duration": 26,
        "start_time": "2022-12-09T09:35:31.609Z"
      },
      {
        "duration": 200,
        "start_time": "2022-12-09T09:35:31.637Z"
      },
      {
        "duration": 39,
        "start_time": "2022-12-09T09:35:31.841Z"
      },
      {
        "duration": 249,
        "start_time": "2022-12-09T09:35:31.882Z"
      },
      {
        "duration": 91,
        "start_time": "2022-12-09T09:35:32.134Z"
      },
      {
        "duration": 76,
        "start_time": "2022-12-09T09:35:32.226Z"
      },
      {
        "duration": 85,
        "start_time": "2022-12-09T09:35:32.303Z"
      },
      {
        "duration": 166,
        "start_time": "2022-12-09T09:35:32.390Z"
      },
      {
        "duration": 20,
        "start_time": "2022-12-09T09:35:32.558Z"
      },
      {
        "duration": 31,
        "start_time": "2022-12-09T09:35:32.580Z"
      },
      {
        "duration": 53,
        "start_time": "2022-12-09T09:35:32.613Z"
      },
      {
        "duration": 28,
        "start_time": "2022-12-09T09:35:32.668Z"
      },
      {
        "duration": 59,
        "start_time": "2022-12-09T09:35:32.698Z"
      },
      {
        "duration": 31,
        "start_time": "2022-12-09T09:35:32.759Z"
      },
      {
        "duration": 107,
        "start_time": "2022-12-09T09:35:32.791Z"
      },
      {
        "duration": 828,
        "start_time": "2022-12-09T09:35:32.900Z"
      },
      {
        "duration": 29,
        "start_time": "2022-12-09T09:35:33.730Z"
      },
      {
        "duration": 27,
        "start_time": "2022-12-09T09:35:33.765Z"
      },
      {
        "duration": 8,
        "start_time": "2022-12-09T09:35:33.795Z"
      },
      {
        "duration": 19,
        "start_time": "2022-12-09T09:35:33.804Z"
      },
      {
        "duration": 159,
        "start_time": "2022-12-09T09:35:33.825Z"
      },
      {
        "duration": 7,
        "start_time": "2022-12-09T09:35:33.987Z"
      },
      {
        "duration": 25,
        "start_time": "2022-12-09T09:35:33.996Z"
      },
      {
        "duration": 56,
        "start_time": "2022-12-09T09:35:34.023Z"
      },
      {
        "duration": 22,
        "start_time": "2022-12-09T09:35:34.081Z"
      },
      {
        "duration": 22,
        "start_time": "2022-12-09T09:35:34.106Z"
      },
      {
        "duration": 47,
        "start_time": "2022-12-09T09:35:34.130Z"
      },
      {
        "duration": 61,
        "start_time": "2022-12-09T09:35:34.179Z"
      },
      {
        "duration": 14,
        "start_time": "2022-12-09T09:35:34.242Z"
      },
      {
        "duration": 9,
        "start_time": "2022-12-09T09:35:34.259Z"
      },
      {
        "duration": 29,
        "start_time": "2022-12-09T09:35:34.270Z"
      },
      {
        "duration": 59,
        "start_time": "2022-12-09T09:35:34.302Z"
      },
      {
        "duration": 9,
        "start_time": "2022-12-09T09:35:34.363Z"
      },
      {
        "duration": 87,
        "start_time": "2022-12-09T09:35:34.374Z"
      },
      {
        "duration": 32,
        "start_time": "2022-12-09T09:35:34.463Z"
      },
      {
        "duration": 87,
        "start_time": "2022-12-09T09:35:34.500Z"
      },
      {
        "duration": 20,
        "start_time": "2022-12-09T09:35:34.590Z"
      },
      {
        "duration": 151,
        "start_time": "2022-12-09T09:35:34.612Z"
      },
      {
        "duration": 6,
        "start_time": "2022-12-09T09:35:34.766Z"
      },
      {
        "duration": 29,
        "start_time": "2022-12-09T09:35:34.774Z"
      },
      {
        "duration": 11620,
        "start_time": "2022-12-09T09:35:34.805Z"
      },
      {
        "duration": 4,
        "start_time": "2022-12-09T09:35:46.427Z"
      },
      {
        "duration": 129,
        "start_time": "2022-12-09T09:35:46.432Z"
      },
      {
        "duration": 4,
        "start_time": "2022-12-09T09:35:46.563Z"
      },
      {
        "duration": 14,
        "start_time": "2022-12-09T09:35:46.569Z"
      },
      {
        "duration": 11,
        "start_time": "2022-12-09T09:35:46.585Z"
      },
      {
        "duration": 118,
        "start_time": "2022-12-09T09:35:46.598Z"
      },
      {
        "duration": 5,
        "start_time": "2022-12-09T09:35:46.719Z"
      },
      {
        "duration": 41036,
        "start_time": "2022-12-09T09:35:46.727Z"
      },
      {
        "duration": 4,
        "start_time": "2022-12-09T09:36:27.765Z"
      },
      {
        "duration": 14,
        "start_time": "2022-12-09T09:36:27.771Z"
      },
      {
        "duration": 242,
        "start_time": "2022-12-09T09:36:27.787Z"
      },
      {
        "duration": 3,
        "start_time": "2022-12-09T09:36:28.031Z"
      },
      {
        "duration": 19,
        "start_time": "2022-12-09T09:36:28.036Z"
      },
      {
        "duration": 6,
        "start_time": "2022-12-09T09:36:28.057Z"
      },
      {
        "duration": 118,
        "start_time": "2022-12-09T09:36:28.064Z"
      },
      {
        "duration": 4,
        "start_time": "2022-12-09T09:36:28.183Z"
      },
      {
        "duration": 13,
        "start_time": "2022-12-09T09:36:28.188Z"
      },
      {
        "duration": 6,
        "start_time": "2022-12-09T09:36:28.202Z"
      },
      {
        "duration": 3874,
        "start_time": "2022-12-09T09:36:28.210Z"
      },
      {
        "duration": 3,
        "start_time": "2022-12-09T09:36:32.085Z"
      },
      {
        "duration": 201,
        "start_time": "2022-12-09T09:36:32.090Z"
      },
      {
        "duration": 85,
        "start_time": "2022-12-09T09:36:32.371Z"
      },
      {
        "duration": 9,
        "start_time": "2022-12-09T09:36:32.458Z"
      },
      {
        "duration": 11,
        "start_time": "2022-12-09T09:36:32.469Z"
      },
      {
        "duration": 132,
        "start_time": "2022-12-09T09:36:32.483Z"
      },
      {
        "duration": 4,
        "start_time": "2022-12-09T09:36:32.617Z"
      },
      {
        "duration": 8,
        "start_time": "2022-12-09T09:36:32.624Z"
      },
      {
        "duration": 4,
        "start_time": "2022-12-09T09:36:38.738Z"
      },
      {
        "duration": 245283,
        "start_time": "2022-12-09T09:36:40.104Z"
      },
      {
        "duration": 312,
        "start_time": "2022-12-09T09:59:23.852Z"
      },
      {
        "duration": 6,
        "start_time": "2022-12-09T09:59:31.999Z"
      },
      {
        "duration": 10,
        "start_time": "2022-12-09T09:59:37.452Z"
      },
      {
        "duration": 4,
        "start_time": "2022-12-09T10:04:49.303Z"
      },
      {
        "duration": 7,
        "start_time": "2022-12-09T10:04:56.713Z"
      },
      {
        "duration": 14,
        "start_time": "2022-12-09T10:06:44.937Z"
      },
      {
        "duration": 72,
        "start_time": "2022-12-09T10:09:01.755Z"
      },
      {
        "duration": 3,
        "start_time": "2022-12-09T10:09:02.500Z"
      },
      {
        "duration": 36180,
        "start_time": "2022-12-09T10:09:03.659Z"
      },
      {
        "duration": 3,
        "start_time": "2022-12-09T10:09:39.841Z"
      },
      {
        "duration": 26,
        "start_time": "2022-12-09T10:09:39.845Z"
      },
      {
        "duration": 213,
        "start_time": "2022-12-09T10:09:39.873Z"
      },
      {
        "duration": 2,
        "start_time": "2022-12-09T10:09:40.088Z"
      },
      {
        "duration": 9,
        "start_time": "2022-12-09T10:09:40.092Z"
      },
      {
        "duration": 10,
        "start_time": "2022-12-09T10:09:40.103Z"
      },
      {
        "duration": 3,
        "start_time": "2022-12-09T10:10:02.522Z"
      },
      {
        "duration": 8,
        "start_time": "2022-12-09T10:10:04.122Z"
      },
      {
        "duration": 223,
        "start_time": "2022-12-09T10:10:05.672Z"
      },
      {
        "duration": 2,
        "start_time": "2022-12-09T10:10:16.282Z"
      },
      {
        "duration": 5,
        "start_time": "2022-12-09T10:10:17.069Z"
      },
      {
        "duration": 5,
        "start_time": "2022-12-09T10:10:17.857Z"
      },
      {
        "duration": 10,
        "start_time": "2022-12-09T10:10:25.003Z"
      },
      {
        "duration": 4,
        "start_time": "2022-12-09T10:10:54.732Z"
      },
      {
        "duration": 3,
        "start_time": "2022-12-09T10:11:16.589Z"
      },
      {
        "duration": 6,
        "start_time": "2022-12-09T10:11:18.482Z"
      },
      {
        "duration": 4,
        "start_time": "2022-12-09T10:11:32.482Z"
      },
      {
        "duration": 7,
        "start_time": "2022-12-09T10:11:33.549Z"
      },
      {
        "duration": 4,
        "start_time": "2022-12-09T10:11:55.155Z"
      },
      {
        "duration": 7,
        "start_time": "2022-12-09T10:11:55.627Z"
      },
      {
        "duration": 11,
        "start_time": "2022-12-09T10:14:10.983Z"
      },
      {
        "duration": 3,
        "start_time": "2022-12-09T10:14:25.682Z"
      },
      {
        "duration": 5,
        "start_time": "2022-12-09T10:14:26.698Z"
      },
      {
        "duration": 4,
        "start_time": "2022-12-09T10:14:27.459Z"
      },
      {
        "duration": 19,
        "start_time": "2022-12-09T10:14:28.933Z"
      },
      {
        "duration": 4,
        "start_time": "2022-12-09T10:15:16.661Z"
      },
      {
        "duration": 16,
        "start_time": "2022-12-09T10:15:17.914Z"
      },
      {
        "duration": 3,
        "start_time": "2022-12-09T10:16:43.138Z"
      },
      {
        "duration": 12,
        "start_time": "2022-12-09T10:16:43.824Z"
      },
      {
        "duration": 4,
        "start_time": "2022-12-09T10:16:53.492Z"
      },
      {
        "duration": 5,
        "start_time": "2022-12-09T10:17:05.172Z"
      },
      {
        "duration": 5,
        "start_time": "2022-12-09T10:17:18.574Z"
      },
      {
        "duration": 4,
        "start_time": "2022-12-09T10:17:34.014Z"
      },
      {
        "duration": 5,
        "start_time": "2022-12-09T10:17:48.995Z"
      },
      {
        "duration": 4,
        "start_time": "2022-12-09T10:17:58.195Z"
      },
      {
        "duration": 4,
        "start_time": "2022-12-09T10:18:08.208Z"
      },
      {
        "duration": 8,
        "start_time": "2022-12-09T10:19:32.944Z"
      },
      {
        "duration": 12,
        "start_time": "2022-12-09T10:19:32.953Z"
      },
      {
        "duration": 4,
        "start_time": "2022-12-09T10:19:41.067Z"
      },
      {
        "duration": 4,
        "start_time": "2022-12-09T10:19:46.897Z"
      },
      {
        "duration": 13,
        "start_time": "2022-12-09T10:19:52.113Z"
      },
      {
        "duration": 4,
        "start_time": "2022-12-09T10:21:26.512Z"
      },
      {
        "duration": 1645,
        "start_time": "2022-12-09T10:21:27.583Z"
      },
      {
        "duration": 3,
        "start_time": "2022-12-09T10:21:29.230Z"
      },
      {
        "duration": 5,
        "start_time": "2022-12-09T10:21:58.601Z"
      },
      {
        "duration": 754,
        "start_time": "2022-12-09T10:21:58.609Z"
      },
      {
        "duration": 14,
        "start_time": "2022-12-09T10:21:59.365Z"
      },
      {
        "duration": 10,
        "start_time": "2022-12-09T10:21:59.381Z"
      },
      {
        "duration": 5,
        "start_time": "2022-12-09T10:21:59.393Z"
      },
      {
        "duration": 146,
        "start_time": "2022-12-09T10:21:59.400Z"
      },
      {
        "duration": 27,
        "start_time": "2022-12-09T10:21:59.548Z"
      },
      {
        "duration": 178,
        "start_time": "2022-12-09T10:21:59.577Z"
      },
      {
        "duration": 19,
        "start_time": "2022-12-09T10:21:59.758Z"
      },
      {
        "duration": 196,
        "start_time": "2022-12-09T10:21:59.779Z"
      },
      {
        "duration": 92,
        "start_time": "2022-12-09T10:21:59.977Z"
      },
      {
        "duration": 64,
        "start_time": "2022-12-09T10:22:00.070Z"
      },
      {
        "duration": 78,
        "start_time": "2022-12-09T10:22:00.136Z"
      },
      {
        "duration": 160,
        "start_time": "2022-12-09T10:22:00.215Z"
      },
      {
        "duration": 18,
        "start_time": "2022-12-09T10:22:00.377Z"
      },
      {
        "duration": 32,
        "start_time": "2022-12-09T10:22:00.397Z"
      },
      {
        "duration": 43,
        "start_time": "2022-12-09T10:22:00.431Z"
      },
      {
        "duration": 27,
        "start_time": "2022-12-09T10:22:00.476Z"
      },
      {
        "duration": 53,
        "start_time": "2022-12-09T10:22:00.505Z"
      },
      {
        "duration": 30,
        "start_time": "2022-12-09T10:22:00.560Z"
      },
      {
        "duration": 99,
        "start_time": "2022-12-09T10:22:00.592Z"
      },
      {
        "duration": 772,
        "start_time": "2022-12-09T10:22:00.692Z"
      },
      {
        "duration": 17,
        "start_time": "2022-12-09T10:22:01.466Z"
      },
      {
        "duration": 17,
        "start_time": "2022-12-09T10:22:01.488Z"
      },
      {
        "duration": 11,
        "start_time": "2022-12-09T10:22:01.508Z"
      },
      {
        "duration": 8,
        "start_time": "2022-12-09T10:22:01.521Z"
      },
      {
        "duration": 86,
        "start_time": "2022-12-09T10:22:01.530Z"
      },
      {
        "duration": 6,
        "start_time": "2022-12-09T10:22:01.617Z"
      },
      {
        "duration": 59,
        "start_time": "2022-12-09T10:22:01.625Z"
      },
      {
        "duration": 45,
        "start_time": "2022-12-09T10:22:01.686Z"
      },
      {
        "duration": 33,
        "start_time": "2022-12-09T10:22:01.732Z"
      },
      {
        "duration": 22,
        "start_time": "2022-12-09T10:22:01.768Z"
      },
      {
        "duration": 38,
        "start_time": "2022-12-09T10:22:01.792Z"
      },
      {
        "duration": 55,
        "start_time": "2022-12-09T10:22:01.831Z"
      },
      {
        "duration": 9,
        "start_time": "2022-12-09T10:22:01.888Z"
      },
      {
        "duration": 8,
        "start_time": "2022-12-09T10:22:01.899Z"
      },
      {
        "duration": 49,
        "start_time": "2022-12-09T10:22:01.909Z"
      },
      {
        "duration": 42,
        "start_time": "2022-12-09T10:22:01.959Z"
      },
      {
        "duration": 9,
        "start_time": "2022-12-09T10:22:02.003Z"
      },
      {
        "duration": 77,
        "start_time": "2022-12-09T10:22:02.014Z"
      },
      {
        "duration": 26,
        "start_time": "2022-12-09T10:22:02.092Z"
      },
      {
        "duration": 61,
        "start_time": "2022-12-09T10:22:02.120Z"
      },
      {
        "duration": 10,
        "start_time": "2022-12-09T10:22:02.183Z"
      },
      {
        "duration": 89,
        "start_time": "2022-12-09T10:22:02.194Z"
      },
      {
        "duration": 4,
        "start_time": "2022-12-09T10:22:02.285Z"
      },
      {
        "duration": 8,
        "start_time": "2022-12-09T10:22:02.290Z"
      },
      {
        "duration": 10730,
        "start_time": "2022-12-09T10:22:02.300Z"
      },
      {
        "duration": 2,
        "start_time": "2022-12-09T10:22:13.032Z"
      },
      {
        "duration": 120,
        "start_time": "2022-12-09T10:22:13.036Z"
      },
      {
        "duration": 3,
        "start_time": "2022-12-09T10:22:13.159Z"
      },
      {
        "duration": 11,
        "start_time": "2022-12-09T10:22:13.164Z"
      },
      {
        "duration": 7,
        "start_time": "2022-12-09T10:22:13.176Z"
      },
      {
        "duration": 126,
        "start_time": "2022-12-09T10:22:13.185Z"
      },
      {
        "duration": 4,
        "start_time": "2022-12-09T10:22:13.313Z"
      },
      {
        "duration": 36362,
        "start_time": "2022-12-09T10:22:13.319Z"
      },
      {
        "duration": 3,
        "start_time": "2022-12-09T10:22:49.683Z"
      },
      {
        "duration": 15,
        "start_time": "2022-12-09T10:22:49.688Z"
      },
      {
        "duration": 225,
        "start_time": "2022-12-09T10:22:49.705Z"
      },
      {
        "duration": 3,
        "start_time": "2022-12-09T10:22:49.932Z"
      },
      {
        "duration": 19,
        "start_time": "2022-12-09T10:22:49.937Z"
      },
      {
        "duration": 5,
        "start_time": "2022-12-09T10:22:49.958Z"
      },
      {
        "duration": 90,
        "start_time": "2022-12-09T10:22:49.965Z"
      },
      {
        "duration": 3,
        "start_time": "2022-12-09T10:22:50.057Z"
      },
      {
        "duration": 13,
        "start_time": "2022-12-09T10:22:50.062Z"
      },
      {
        "duration": 6,
        "start_time": "2022-12-09T10:22:50.076Z"
      },
      {
        "duration": 3382,
        "start_time": "2022-12-09T10:22:50.085Z"
      },
      {
        "duration": 2,
        "start_time": "2022-12-09T10:22:53.470Z"
      },
      {
        "duration": 184,
        "start_time": "2022-12-09T10:22:53.475Z"
      },
      {
        "duration": 3,
        "start_time": "2022-12-09T10:22:53.667Z"
      },
      {
        "duration": 14,
        "start_time": "2022-12-09T10:22:53.757Z"
      },
      {
        "duration": 9,
        "start_time": "2022-12-09T10:22:53.773Z"
      },
      {
        "duration": 127,
        "start_time": "2022-12-09T10:22:53.784Z"
      },
      {
        "duration": 3,
        "start_time": "2022-12-09T10:22:53.913Z"
      },
      {
        "duration": 5,
        "start_time": "2022-12-09T10:22:53.918Z"
      },
      {
        "duration": 263668,
        "start_time": "2022-12-09T10:22:53.924Z"
      },
      {
        "duration": 3,
        "start_time": "2022-12-09T10:27:17.594Z"
      },
      {
        "duration": 389,
        "start_time": "2022-12-09T10:27:17.598Z"
      },
      {
        "duration": 5,
        "start_time": "2022-12-09T10:27:18.055Z"
      },
      {
        "duration": 24,
        "start_time": "2022-12-09T10:27:18.065Z"
      },
      {
        "duration": 6,
        "start_time": "2022-12-09T10:27:18.091Z"
      },
      {
        "duration": 6,
        "start_time": "2022-12-09T10:27:18.098Z"
      },
      {
        "duration": 5,
        "start_time": "2022-12-09T10:27:34.751Z"
      },
      {
        "duration": 5,
        "start_time": "2022-12-09T10:27:35.266Z"
      },
      {
        "duration": 11,
        "start_time": "2022-12-09T10:27:36.687Z"
      },
      {
        "duration": 3,
        "start_time": "2022-12-09T10:29:27.473Z"
      },
      {
        "duration": 4,
        "start_time": "2022-12-09T10:29:28.778Z"
      },
      {
        "duration": 17,
        "start_time": "2022-12-09T10:29:36.570Z"
      },
      {
        "duration": 16,
        "start_time": "2022-12-09T10:29:41.310Z"
      },
      {
        "duration": 3,
        "start_time": "2022-12-09T10:29:56.688Z"
      },
      {
        "duration": 15,
        "start_time": "2022-12-09T10:30:04.799Z"
      },
      {
        "duration": 4,
        "start_time": "2022-12-09T10:32:52.191Z"
      },
      {
        "duration": 3,
        "start_time": "2022-12-09T10:32:52.722Z"
      },
      {
        "duration": 3,
        "start_time": "2022-12-09T10:32:53.599Z"
      },
      {
        "duration": 11,
        "start_time": "2022-12-09T10:32:54.995Z"
      },
      {
        "duration": 7,
        "start_time": "2022-12-09T10:33:20.060Z"
      },
      {
        "duration": 13,
        "start_time": "2022-12-09T10:33:25.789Z"
      },
      {
        "duration": 10,
        "start_time": "2022-12-09T10:34:20.572Z"
      },
      {
        "duration": 1437,
        "start_time": "2022-12-09T10:43:35.902Z"
      },
      {
        "duration": 853,
        "start_time": "2022-12-09T10:43:37.342Z"
      },
      {
        "duration": 18,
        "start_time": "2022-12-09T10:43:38.197Z"
      },
      {
        "duration": 4,
        "start_time": "2022-12-09T10:43:38.217Z"
      },
      {
        "duration": 15,
        "start_time": "2022-12-09T10:43:38.223Z"
      },
      {
        "duration": 157,
        "start_time": "2022-12-09T10:43:38.240Z"
      },
      {
        "duration": 22,
        "start_time": "2022-12-09T10:43:38.398Z"
      },
      {
        "duration": 229,
        "start_time": "2022-12-09T10:43:38.422Z"
      },
      {
        "duration": 22,
        "start_time": "2022-12-09T10:43:38.652Z"
      },
      {
        "duration": 213,
        "start_time": "2022-12-09T10:43:38.676Z"
      },
      {
        "duration": 79,
        "start_time": "2022-12-09T10:43:38.891Z"
      },
      {
        "duration": 83,
        "start_time": "2022-12-09T10:43:38.972Z"
      },
      {
        "duration": 70,
        "start_time": "2022-12-09T10:43:39.057Z"
      },
      {
        "duration": 163,
        "start_time": "2022-12-09T10:43:39.130Z"
      },
      {
        "duration": 25,
        "start_time": "2022-12-09T10:43:39.294Z"
      },
      {
        "duration": 45,
        "start_time": "2022-12-09T10:43:39.321Z"
      },
      {
        "duration": 35,
        "start_time": "2022-12-09T10:43:39.368Z"
      },
      {
        "duration": 29,
        "start_time": "2022-12-09T10:43:39.404Z"
      },
      {
        "duration": 66,
        "start_time": "2022-12-09T10:43:39.435Z"
      },
      {
        "duration": 33,
        "start_time": "2022-12-09T10:43:39.502Z"
      },
      {
        "duration": 87,
        "start_time": "2022-12-09T10:43:39.555Z"
      },
      {
        "duration": 842,
        "start_time": "2022-12-09T10:43:39.654Z"
      },
      {
        "duration": 19,
        "start_time": "2022-12-09T10:43:40.498Z"
      },
      {
        "duration": 36,
        "start_time": "2022-12-09T10:43:40.519Z"
      },
      {
        "duration": 4,
        "start_time": "2022-12-09T10:43:40.557Z"
      },
      {
        "duration": 12,
        "start_time": "2022-12-09T10:43:40.562Z"
      },
      {
        "duration": 77,
        "start_time": "2022-12-09T10:43:40.576Z"
      },
      {
        "duration": 5,
        "start_time": "2022-12-09T10:43:40.655Z"
      },
      {
        "duration": 24,
        "start_time": "2022-12-09T10:43:40.662Z"
      },
      {
        "duration": 38,
        "start_time": "2022-12-09T10:43:40.688Z"
      },
      {
        "duration": 8,
        "start_time": "2022-12-09T10:43:40.728Z"
      },
      {
        "duration": 14,
        "start_time": "2022-12-09T10:43:40.755Z"
      },
      {
        "duration": 26,
        "start_time": "2022-12-09T10:43:40.771Z"
      },
      {
        "duration": 42,
        "start_time": "2022-12-09T10:43:40.799Z"
      },
      {
        "duration": 16,
        "start_time": "2022-12-09T10:43:40.843Z"
      },
      {
        "duration": 6,
        "start_time": "2022-12-09T10:43:40.861Z"
      },
      {
        "duration": 24,
        "start_time": "2022-12-09T10:43:40.868Z"
      },
      {
        "duration": 43,
        "start_time": "2022-12-09T10:43:40.894Z"
      },
      {
        "duration": 10,
        "start_time": "2022-12-09T10:43:40.954Z"
      },
      {
        "duration": 73,
        "start_time": "2022-12-09T10:43:40.966Z"
      },
      {
        "duration": 36,
        "start_time": "2022-12-09T10:43:41.043Z"
      },
      {
        "duration": 48,
        "start_time": "2022-12-09T10:43:41.081Z"
      },
      {
        "duration": 29,
        "start_time": "2022-12-09T10:43:41.131Z"
      },
      {
        "duration": 76,
        "start_time": "2022-12-09T10:43:41.162Z"
      },
      {
        "duration": 17,
        "start_time": "2022-12-09T10:43:41.240Z"
      },
      {
        "duration": 5,
        "start_time": "2022-12-09T10:43:41.259Z"
      },
      {
        "duration": 11102,
        "start_time": "2022-12-09T10:43:41.266Z"
      },
      {
        "duration": 3,
        "start_time": "2022-12-09T10:43:52.370Z"
      },
      {
        "duration": 155,
        "start_time": "2022-12-09T10:43:52.374Z"
      },
      {
        "duration": 3,
        "start_time": "2022-12-09T10:43:52.531Z"
      },
      {
        "duration": 14,
        "start_time": "2022-12-09T10:43:52.536Z"
      },
      {
        "duration": 6,
        "start_time": "2022-12-09T10:43:52.552Z"
      },
      {
        "duration": 93,
        "start_time": "2022-12-09T10:43:52.559Z"
      },
      {
        "duration": 4,
        "start_time": "2022-12-09T10:43:52.654Z"
      },
      {
        "duration": 38800,
        "start_time": "2022-12-09T10:43:52.660Z"
      },
      {
        "duration": 3,
        "start_time": "2022-12-09T10:44:31.461Z"
      },
      {
        "duration": 15,
        "start_time": "2022-12-09T10:44:31.466Z"
      },
      {
        "duration": 219,
        "start_time": "2022-12-09T10:44:31.483Z"
      },
      {
        "duration": 2,
        "start_time": "2022-12-09T10:44:31.704Z"
      },
      {
        "duration": 8,
        "start_time": "2022-12-09T10:44:31.708Z"
      },
      {
        "duration": 5,
        "start_time": "2022-12-09T10:44:31.718Z"
      },
      {
        "duration": 95,
        "start_time": "2022-12-09T10:44:31.725Z"
      },
      {
        "duration": 3,
        "start_time": "2022-12-09T10:44:31.822Z"
      },
      {
        "duration": 9,
        "start_time": "2022-12-09T10:44:31.827Z"
      },
      {
        "duration": 7,
        "start_time": "2022-12-09T10:44:31.838Z"
      },
      {
        "duration": 3739,
        "start_time": "2022-12-09T10:44:31.854Z"
      },
      {
        "duration": 3,
        "start_time": "2022-12-09T10:44:35.596Z"
      },
      {
        "duration": 118,
        "start_time": "2022-12-09T10:44:35.655Z"
      },
      {
        "duration": 4,
        "start_time": "2022-12-09T10:44:35.775Z"
      },
      {
        "duration": 102,
        "start_time": "2022-12-09T10:44:35.857Z"
      },
      {
        "duration": 19,
        "start_time": "2022-12-09T10:44:35.961Z"
      },
      {
        "duration": 88,
        "start_time": "2022-12-09T10:44:35.982Z"
      },
      {
        "duration": 4,
        "start_time": "2022-12-09T10:44:36.071Z"
      },
      {
        "duration": 12,
        "start_time": "2022-12-09T10:44:36.076Z"
      },
      {
        "duration": 13484,
        "start_time": "2022-12-09T10:44:36.090Z"
      },
      {
        "duration": 2,
        "start_time": "2022-12-09T10:44:49.576Z"
      },
      {
        "duration": 379,
        "start_time": "2022-12-09T10:44:49.580Z"
      },
      {
        "duration": 3,
        "start_time": "2022-12-09T10:44:49.961Z"
      },
      {
        "duration": 12,
        "start_time": "2022-12-09T10:44:49.965Z"
      },
      {
        "duration": 6,
        "start_time": "2022-12-09T10:44:49.979Z"
      },
      {
        "duration": 6,
        "start_time": "2022-12-09T10:44:49.986Z"
      },
      {
        "duration": 8,
        "start_time": "2022-12-09T10:44:49.993Z"
      },
      {
        "duration": 14,
        "start_time": "2022-12-09T10:44:50.003Z"
      },
      {
        "duration": 40,
        "start_time": "2022-12-09T10:44:50.019Z"
      },
      {
        "duration": 2,
        "start_time": "2022-12-09T10:46:15.741Z"
      },
      {
        "duration": 3,
        "start_time": "2022-12-09T10:46:22.621Z"
      },
      {
        "duration": 6,
        "start_time": "2022-12-09T10:46:28.380Z"
      },
      {
        "duration": 6,
        "start_time": "2022-12-09T10:46:30.060Z"
      },
      {
        "duration": 2,
        "start_time": "2022-12-09T10:46:50.821Z"
      },
      {
        "duration": 3,
        "start_time": "2022-12-09T10:46:58.781Z"
      },
      {
        "duration": 6,
        "start_time": "2022-12-09T10:46:59.983Z"
      },
      {
        "duration": 6,
        "start_time": "2022-12-09T10:47:01.620Z"
      },
      {
        "duration": 3,
        "start_time": "2022-12-09T10:47:20.060Z"
      },
      {
        "duration": 126,
        "start_time": "2022-12-09T10:47:23.140Z"
      },
      {
        "duration": 2,
        "start_time": "2022-12-09T10:47:29.557Z"
      },
      {
        "duration": 5,
        "start_time": "2022-12-09T10:47:31.300Z"
      },
      {
        "duration": 5,
        "start_time": "2022-12-09T10:47:32.259Z"
      },
      {
        "duration": 3,
        "start_time": "2022-12-09T10:48:21.628Z"
      },
      {
        "duration": 345,
        "start_time": "2022-12-09T10:48:22.411Z"
      },
      {
        "duration": 5,
        "start_time": "2022-12-09T10:48:30.571Z"
      },
      {
        "duration": 5,
        "start_time": "2022-12-09T10:48:31.532Z"
      },
      {
        "duration": 3,
        "start_time": "2022-12-09T10:48:38.180Z"
      },
      {
        "duration": 3,
        "start_time": "2022-12-09T10:48:39.011Z"
      },
      {
        "duration": 4,
        "start_time": "2022-12-09T10:48:39.851Z"
      },
      {
        "duration": 9,
        "start_time": "2022-12-09T10:48:40.900Z"
      },
      {
        "duration": 5,
        "start_time": "2022-12-09T10:50:30.651Z"
      },
      {
        "duration": 122,
        "start_time": "2022-12-09T10:51:01.940Z"
      },
      {
        "duration": 1406,
        "start_time": "2022-12-09T10:52:01.216Z"
      },
      {
        "duration": 947,
        "start_time": "2022-12-09T10:52:02.624Z"
      },
      {
        "duration": 19,
        "start_time": "2022-12-09T10:52:03.573Z"
      },
      {
        "duration": 4,
        "start_time": "2022-12-09T10:52:03.594Z"
      },
      {
        "duration": 10,
        "start_time": "2022-12-09T10:52:03.600Z"
      },
      {
        "duration": 192,
        "start_time": "2022-12-09T10:52:03.612Z"
      },
      {
        "duration": 22,
        "start_time": "2022-12-09T10:52:03.806Z"
      },
      {
        "duration": 233,
        "start_time": "2022-12-09T10:52:03.829Z"
      },
      {
        "duration": 21,
        "start_time": "2022-12-09T10:52:04.064Z"
      },
      {
        "duration": 222,
        "start_time": "2022-12-09T10:52:04.086Z"
      },
      {
        "duration": 80,
        "start_time": "2022-12-09T10:52:04.310Z"
      },
      {
        "duration": 80,
        "start_time": "2022-12-09T10:52:04.391Z"
      },
      {
        "duration": 85,
        "start_time": "2022-12-09T10:52:04.473Z"
      },
      {
        "duration": 185,
        "start_time": "2022-12-09T10:52:04.562Z"
      },
      {
        "duration": 28,
        "start_time": "2022-12-09T10:52:04.749Z"
      },
      {
        "duration": 37,
        "start_time": "2022-12-09T10:52:04.780Z"
      },
      {
        "duration": 57,
        "start_time": "2022-12-09T10:52:04.820Z"
      },
      {
        "duration": 26,
        "start_time": "2022-12-09T10:52:04.879Z"
      },
      {
        "duration": 61,
        "start_time": "2022-12-09T10:52:04.907Z"
      },
      {
        "duration": 33,
        "start_time": "2022-12-09T10:52:04.969Z"
      },
      {
        "duration": 104,
        "start_time": "2022-12-09T10:52:05.004Z"
      },
      {
        "duration": 800,
        "start_time": "2022-12-09T10:52:05.109Z"
      },
      {
        "duration": 19,
        "start_time": "2022-12-09T10:52:05.911Z"
      },
      {
        "duration": 27,
        "start_time": "2022-12-09T10:52:05.931Z"
      },
      {
        "duration": 4,
        "start_time": "2022-12-09T10:52:05.960Z"
      },
      {
        "duration": 15,
        "start_time": "2022-12-09T10:52:05.965Z"
      },
      {
        "duration": 75,
        "start_time": "2022-12-09T10:52:05.982Z"
      },
      {
        "duration": 5,
        "start_time": "2022-12-09T10:52:06.058Z"
      },
      {
        "duration": 26,
        "start_time": "2022-12-09T10:52:06.065Z"
      },
      {
        "duration": 41,
        "start_time": "2022-12-09T10:52:06.093Z"
      },
      {
        "duration": 26,
        "start_time": "2022-12-09T10:52:06.136Z"
      },
      {
        "duration": 8,
        "start_time": "2022-12-09T10:52:06.163Z"
      },
      {
        "duration": 24,
        "start_time": "2022-12-09T10:52:06.173Z"
      },
      {
        "duration": 59,
        "start_time": "2022-12-09T10:52:06.199Z"
      },
      {
        "duration": 8,
        "start_time": "2022-12-09T10:52:06.259Z"
      },
      {
        "duration": 6,
        "start_time": "2022-12-09T10:52:06.269Z"
      },
      {
        "duration": 25,
        "start_time": "2022-12-09T10:52:06.277Z"
      },
      {
        "duration": 59,
        "start_time": "2022-12-09T10:52:06.304Z"
      },
      {
        "duration": 9,
        "start_time": "2022-12-09T10:52:06.365Z"
      },
      {
        "duration": 79,
        "start_time": "2022-12-09T10:52:06.376Z"
      },
      {
        "duration": 25,
        "start_time": "2022-12-09T10:52:06.460Z"
      },
      {
        "duration": 50,
        "start_time": "2022-12-09T10:52:06.487Z"
      },
      {
        "duration": 13,
        "start_time": "2022-12-09T10:52:06.555Z"
      },
      {
        "duration": 94,
        "start_time": "2022-12-09T10:52:06.570Z"
      },
      {
        "duration": 3,
        "start_time": "2022-12-09T10:52:06.666Z"
      },
      {
        "duration": 12,
        "start_time": "2022-12-09T10:52:06.671Z"
      },
      {
        "duration": 10845,
        "start_time": "2022-12-09T10:52:06.685Z"
      },
      {
        "duration": 2,
        "start_time": "2022-12-09T10:52:17.532Z"
      },
      {
        "duration": 132,
        "start_time": "2022-12-09T10:52:17.536Z"
      },
      {
        "duration": 3,
        "start_time": "2022-12-09T10:52:17.670Z"
      },
      {
        "duration": 15,
        "start_time": "2022-12-09T10:52:17.674Z"
      },
      {
        "duration": 26,
        "start_time": "2022-12-09T10:52:17.690Z"
      },
      {
        "duration": 128,
        "start_time": "2022-12-09T10:52:17.718Z"
      },
      {
        "duration": 0,
        "start_time": "2022-12-09T10:52:17.848Z"
      },
      {
        "duration": 0,
        "start_time": "2022-12-09T10:52:17.849Z"
      },
      {
        "duration": 1,
        "start_time": "2022-12-09T10:52:17.854Z"
      },
      {
        "duration": 0,
        "start_time": "2022-12-09T10:52:17.856Z"
      },
      {
        "duration": 1,
        "start_time": "2022-12-09T10:52:17.856Z"
      },
      {
        "duration": 0,
        "start_time": "2022-12-09T10:52:17.858Z"
      },
      {
        "duration": 0,
        "start_time": "2022-12-09T10:52:17.859Z"
      },
      {
        "duration": 0,
        "start_time": "2022-12-09T10:52:17.859Z"
      },
      {
        "duration": 1,
        "start_time": "2022-12-09T10:52:17.860Z"
      },
      {
        "duration": 0,
        "start_time": "2022-12-09T10:52:17.862Z"
      },
      {
        "duration": 0,
        "start_time": "2022-12-09T10:52:17.863Z"
      },
      {
        "duration": 0,
        "start_time": "2022-12-09T10:52:17.864Z"
      },
      {
        "duration": 0,
        "start_time": "2022-12-09T10:52:17.864Z"
      },
      {
        "duration": 0,
        "start_time": "2022-12-09T10:52:17.865Z"
      },
      {
        "duration": 0,
        "start_time": "2022-12-09T10:52:17.867Z"
      },
      {
        "duration": 0,
        "start_time": "2022-12-09T10:52:17.867Z"
      },
      {
        "duration": 0,
        "start_time": "2022-12-09T10:52:17.868Z"
      },
      {
        "duration": 0,
        "start_time": "2022-12-09T10:52:17.869Z"
      },
      {
        "duration": 0,
        "start_time": "2022-12-09T10:52:17.870Z"
      },
      {
        "duration": 0,
        "start_time": "2022-12-09T10:52:17.871Z"
      },
      {
        "duration": 0,
        "start_time": "2022-12-09T10:52:17.872Z"
      },
      {
        "duration": 0,
        "start_time": "2022-12-09T10:52:17.873Z"
      },
      {
        "duration": 0,
        "start_time": "2022-12-09T10:52:17.874Z"
      },
      {
        "duration": 0,
        "start_time": "2022-12-09T10:52:17.875Z"
      },
      {
        "duration": 0,
        "start_time": "2022-12-09T10:52:17.875Z"
      },
      {
        "duration": 0,
        "start_time": "2022-12-09T10:52:17.877Z"
      },
      {
        "duration": 0,
        "start_time": "2022-12-09T10:52:17.877Z"
      },
      {
        "duration": 0,
        "start_time": "2022-12-09T10:52:17.878Z"
      },
      {
        "duration": 0,
        "start_time": "2022-12-09T10:52:17.879Z"
      },
      {
        "duration": 0,
        "start_time": "2022-12-09T10:52:17.880Z"
      },
      {
        "duration": 0,
        "start_time": "2022-12-09T10:52:17.881Z"
      },
      {
        "duration": 0,
        "start_time": "2022-12-09T10:52:17.882Z"
      },
      {
        "duration": 0,
        "start_time": "2022-12-09T10:52:17.883Z"
      },
      {
        "duration": 0,
        "start_time": "2022-12-09T10:52:17.884Z"
      },
      {
        "duration": 10,
        "start_time": "2022-12-09T10:53:52.969Z"
      },
      {
        "duration": 5,
        "start_time": "2022-12-09T10:54:02.018Z"
      },
      {
        "duration": 891,
        "start_time": "2022-12-09T10:54:02.026Z"
      },
      {
        "duration": 14,
        "start_time": "2022-12-09T10:54:02.919Z"
      },
      {
        "duration": 25,
        "start_time": "2022-12-09T10:54:02.934Z"
      },
      {
        "duration": 60,
        "start_time": "2022-12-09T10:54:02.962Z"
      },
      {
        "duration": 242,
        "start_time": "2022-12-09T10:54:03.024Z"
      },
      {
        "duration": 65,
        "start_time": "2022-12-09T10:54:03.269Z"
      },
      {
        "duration": 208,
        "start_time": "2022-12-09T10:54:03.336Z"
      },
      {
        "duration": 24,
        "start_time": "2022-12-09T10:54:03.546Z"
      },
      {
        "duration": 245,
        "start_time": "2022-12-09T10:54:03.571Z"
      },
      {
        "duration": 83,
        "start_time": "2022-12-09T10:54:03.818Z"
      },
      {
        "duration": 106,
        "start_time": "2022-12-09T10:54:03.903Z"
      },
      {
        "duration": 84,
        "start_time": "2022-12-09T10:54:04.011Z"
      },
      {
        "duration": 220,
        "start_time": "2022-12-09T10:54:04.098Z"
      },
      {
        "duration": 19,
        "start_time": "2022-12-09T10:54:04.320Z"
      },
      {
        "duration": 78,
        "start_time": "2022-12-09T10:54:04.341Z"
      },
      {
        "duration": 74,
        "start_time": "2022-12-09T10:54:04.420Z"
      },
      {
        "duration": 45,
        "start_time": "2022-12-09T10:54:04.496Z"
      },
      {
        "duration": 92,
        "start_time": "2022-12-09T10:54:04.543Z"
      },
      {
        "duration": 39,
        "start_time": "2022-12-09T10:54:04.638Z"
      },
      {
        "duration": 117,
        "start_time": "2022-12-09T10:54:04.679Z"
      },
      {
        "duration": 788,
        "start_time": "2022-12-09T10:54:04.797Z"
      },
      {
        "duration": 17,
        "start_time": "2022-12-09T10:54:05.587Z"
      },
      {
        "duration": 18,
        "start_time": "2022-12-09T10:54:05.606Z"
      },
      {
        "duration": 73,
        "start_time": "2022-12-09T10:54:05.626Z"
      },
      {
        "duration": 17,
        "start_time": "2022-12-09T10:54:05.701Z"
      },
      {
        "duration": 112,
        "start_time": "2022-12-09T10:54:05.720Z"
      },
      {
        "duration": 5,
        "start_time": "2022-12-09T10:54:05.834Z"
      },
      {
        "duration": 70,
        "start_time": "2022-12-09T10:54:05.841Z"
      },
      {
        "duration": 60,
        "start_time": "2022-12-09T10:54:05.913Z"
      },
      {
        "duration": 32,
        "start_time": "2022-12-09T10:54:05.975Z"
      },
      {
        "duration": 56,
        "start_time": "2022-12-09T10:54:06.009Z"
      },
      {
        "duration": 55,
        "start_time": "2022-12-09T10:54:06.067Z"
      },
      {
        "duration": 93,
        "start_time": "2022-12-09T10:54:06.124Z"
      },
      {
        "duration": 28,
        "start_time": "2022-12-09T10:54:06.218Z"
      },
      {
        "duration": 30,
        "start_time": "2022-12-09T10:54:06.248Z"
      },
      {
        "duration": 60,
        "start_time": "2022-12-09T10:54:06.280Z"
      },
      {
        "duration": 77,
        "start_time": "2022-12-09T10:54:06.342Z"
      },
      {
        "duration": 23,
        "start_time": "2022-12-09T10:54:06.420Z"
      },
      {
        "duration": 106,
        "start_time": "2022-12-09T10:54:06.445Z"
      },
      {
        "duration": 25,
        "start_time": "2022-12-09T10:54:06.636Z"
      },
      {
        "duration": 133,
        "start_time": "2022-12-09T10:54:06.663Z"
      },
      {
        "duration": 11,
        "start_time": "2022-12-09T10:54:06.797Z"
      },
      {
        "duration": 129,
        "start_time": "2022-12-09T10:54:06.809Z"
      },
      {
        "duration": 3,
        "start_time": "2022-12-09T10:54:06.940Z"
      },
      {
        "duration": 43,
        "start_time": "2022-12-09T10:54:06.945Z"
      },
      {
        "duration": 11480,
        "start_time": "2022-12-09T10:54:06.990Z"
      },
      {
        "duration": 3,
        "start_time": "2022-12-09T10:54:18.472Z"
      },
      {
        "duration": 164,
        "start_time": "2022-12-09T10:54:18.477Z"
      },
      {
        "duration": 3,
        "start_time": "2022-12-09T10:54:18.642Z"
      },
      {
        "duration": 48,
        "start_time": "2022-12-09T10:54:18.647Z"
      },
      {
        "duration": 51,
        "start_time": "2022-12-09T10:54:18.697Z"
      },
      {
        "duration": 45,
        "start_time": "2022-12-09T10:54:18.749Z"
      },
      {
        "duration": 0,
        "start_time": "2022-12-09T10:54:18.796Z"
      },
      {
        "duration": 0,
        "start_time": "2022-12-09T10:54:18.797Z"
      },
      {
        "duration": 0,
        "start_time": "2022-12-09T10:54:18.798Z"
      },
      {
        "duration": 0,
        "start_time": "2022-12-09T10:54:18.799Z"
      },
      {
        "duration": 0,
        "start_time": "2022-12-09T10:54:18.800Z"
      },
      {
        "duration": 0,
        "start_time": "2022-12-09T10:54:18.801Z"
      },
      {
        "duration": 0,
        "start_time": "2022-12-09T10:54:18.802Z"
      },
      {
        "duration": 0,
        "start_time": "2022-12-09T10:54:18.803Z"
      },
      {
        "duration": 0,
        "start_time": "2022-12-09T10:54:18.804Z"
      },
      {
        "duration": 0,
        "start_time": "2022-12-09T10:54:18.805Z"
      },
      {
        "duration": 0,
        "start_time": "2022-12-09T10:54:18.807Z"
      },
      {
        "duration": 0,
        "start_time": "2022-12-09T10:54:18.808Z"
      },
      {
        "duration": 0,
        "start_time": "2022-12-09T10:54:18.809Z"
      },
      {
        "duration": 0,
        "start_time": "2022-12-09T10:54:18.810Z"
      },
      {
        "duration": 0,
        "start_time": "2022-12-09T10:54:18.812Z"
      },
      {
        "duration": 0,
        "start_time": "2022-12-09T10:54:18.813Z"
      },
      {
        "duration": 0,
        "start_time": "2022-12-09T10:54:18.814Z"
      },
      {
        "duration": 0,
        "start_time": "2022-12-09T10:54:18.815Z"
      },
      {
        "duration": 0,
        "start_time": "2022-12-09T10:54:18.816Z"
      },
      {
        "duration": 0,
        "start_time": "2022-12-09T10:54:18.823Z"
      },
      {
        "duration": 0,
        "start_time": "2022-12-09T10:54:18.825Z"
      },
      {
        "duration": 0,
        "start_time": "2022-12-09T10:54:18.827Z"
      },
      {
        "duration": 0,
        "start_time": "2022-12-09T10:54:18.828Z"
      },
      {
        "duration": 0,
        "start_time": "2022-12-09T10:54:18.829Z"
      },
      {
        "duration": 0,
        "start_time": "2022-12-09T10:54:18.831Z"
      },
      {
        "duration": 0,
        "start_time": "2022-12-09T10:54:18.832Z"
      },
      {
        "duration": 0,
        "start_time": "2022-12-09T10:54:18.833Z"
      },
      {
        "duration": 0,
        "start_time": "2022-12-09T10:54:18.834Z"
      },
      {
        "duration": 0,
        "start_time": "2022-12-09T10:54:18.835Z"
      },
      {
        "duration": 0,
        "start_time": "2022-12-09T10:54:18.855Z"
      },
      {
        "duration": 0,
        "start_time": "2022-12-09T10:54:18.856Z"
      },
      {
        "duration": 0,
        "start_time": "2022-12-09T10:54:18.857Z"
      },
      {
        "duration": 0,
        "start_time": "2022-12-09T10:54:18.858Z"
      },
      {
        "duration": 10,
        "start_time": "2022-12-09T10:54:30.705Z"
      },
      {
        "duration": 13,
        "start_time": "2022-12-09T10:54:31.248Z"
      },
      {
        "duration": 5,
        "start_time": "2022-12-09T10:54:44.939Z"
      },
      {
        "duration": 845,
        "start_time": "2022-12-09T10:54:44.947Z"
      },
      {
        "duration": 15,
        "start_time": "2022-12-09T10:54:45.794Z"
      },
      {
        "duration": 21,
        "start_time": "2022-12-09T10:54:45.810Z"
      },
      {
        "duration": 6,
        "start_time": "2022-12-09T10:54:45.833Z"
      },
      {
        "duration": 159,
        "start_time": "2022-12-09T10:54:45.841Z"
      },
      {
        "duration": 21,
        "start_time": "2022-12-09T10:54:46.002Z"
      },
      {
        "duration": 211,
        "start_time": "2022-12-09T10:54:46.025Z"
      },
      {
        "duration": 23,
        "start_time": "2022-12-09T10:54:46.238Z"
      },
      {
        "duration": 209,
        "start_time": "2022-12-09T10:54:46.262Z"
      },
      {
        "duration": 88,
        "start_time": "2022-12-09T10:54:46.473Z"
      },
      {
        "duration": 64,
        "start_time": "2022-12-09T10:54:46.563Z"
      },
      {
        "duration": 99,
        "start_time": "2022-12-09T10:54:46.629Z"
      },
      {
        "duration": 148,
        "start_time": "2022-12-09T10:54:46.733Z"
      },
      {
        "duration": 18,
        "start_time": "2022-12-09T10:54:46.883Z"
      },
      {
        "duration": 25,
        "start_time": "2022-12-09T10:54:46.903Z"
      },
      {
        "duration": 52,
        "start_time": "2022-12-09T10:54:46.930Z"
      },
      {
        "duration": 30,
        "start_time": "2022-12-09T10:54:46.984Z"
      },
      {
        "duration": 53,
        "start_time": "2022-12-09T10:54:47.015Z"
      },
      {
        "duration": 29,
        "start_time": "2022-12-09T10:54:47.070Z"
      },
      {
        "duration": 94,
        "start_time": "2022-12-09T10:54:47.101Z"
      },
      {
        "duration": 767,
        "start_time": "2022-12-09T10:54:47.197Z"
      },
      {
        "duration": 17,
        "start_time": "2022-12-09T10:54:47.966Z"
      },
      {
        "duration": 44,
        "start_time": "2022-12-09T10:54:47.985Z"
      },
      {
        "duration": 13,
        "start_time": "2022-12-09T10:54:48.030Z"
      },
      {
        "duration": 35,
        "start_time": "2022-12-09T10:54:48.045Z"
      },
      {
        "duration": 89,
        "start_time": "2022-12-09T10:54:48.082Z"
      },
      {
        "duration": 6,
        "start_time": "2022-12-09T10:54:48.173Z"
      },
      {
        "duration": 34,
        "start_time": "2022-12-09T10:54:48.180Z"
      },
      {
        "duration": 45,
        "start_time": "2022-12-09T10:54:48.216Z"
      },
      {
        "duration": 17,
        "start_time": "2022-12-09T10:54:48.262Z"
      },
      {
        "duration": 15,
        "start_time": "2022-12-09T10:54:48.280Z"
      },
      {
        "duration": 30,
        "start_time": "2022-12-09T10:54:48.297Z"
      },
      {
        "duration": 55,
        "start_time": "2022-12-09T10:54:48.328Z"
      },
      {
        "duration": 8,
        "start_time": "2022-12-09T10:54:48.385Z"
      },
      {
        "duration": 18,
        "start_time": "2022-12-09T10:54:48.395Z"
      },
      {
        "duration": 29,
        "start_time": "2022-12-09T10:54:48.415Z"
      },
      {
        "duration": 44,
        "start_time": "2022-12-09T10:54:48.445Z"
      },
      {
        "duration": 10,
        "start_time": "2022-12-09T10:54:48.492Z"
      },
      {
        "duration": 77,
        "start_time": "2022-12-09T10:54:48.504Z"
      },
      {
        "duration": 26,
        "start_time": "2022-12-09T10:54:48.586Z"
      },
      {
        "duration": 68,
        "start_time": "2022-12-09T10:54:48.614Z"
      },
      {
        "duration": 11,
        "start_time": "2022-12-09T10:54:48.684Z"
      },
      {
        "duration": 89,
        "start_time": "2022-12-09T10:54:48.697Z"
      },
      {
        "duration": 3,
        "start_time": "2022-12-09T10:54:48.788Z"
      },
      {
        "duration": 24,
        "start_time": "2022-12-09T10:54:48.793Z"
      },
      {
        "duration": 11310,
        "start_time": "2022-12-09T10:54:48.819Z"
      },
      {
        "duration": 3,
        "start_time": "2022-12-09T10:55:00.132Z"
      },
      {
        "duration": 151,
        "start_time": "2022-12-09T10:55:00.137Z"
      },
      {
        "duration": 3,
        "start_time": "2022-12-09T10:55:00.289Z"
      },
      {
        "duration": 45,
        "start_time": "2022-12-09T10:55:00.294Z"
      },
      {
        "duration": 14,
        "start_time": "2022-12-09T10:55:00.341Z"
      },
      {
        "duration": 47,
        "start_time": "2022-12-09T10:55:00.357Z"
      },
      {
        "duration": 0,
        "start_time": "2022-12-09T10:55:00.406Z"
      },
      {
        "duration": 0,
        "start_time": "2022-12-09T10:55:00.407Z"
      },
      {
        "duration": 0,
        "start_time": "2022-12-09T10:55:00.409Z"
      },
      {
        "duration": 0,
        "start_time": "2022-12-09T10:55:00.410Z"
      },
      {
        "duration": 0,
        "start_time": "2022-12-09T10:55:00.411Z"
      },
      {
        "duration": 0,
        "start_time": "2022-12-09T10:55:00.412Z"
      },
      {
        "duration": 0,
        "start_time": "2022-12-09T10:55:00.413Z"
      },
      {
        "duration": 0,
        "start_time": "2022-12-09T10:55:00.414Z"
      },
      {
        "duration": 0,
        "start_time": "2022-12-09T10:55:00.415Z"
      },
      {
        "duration": 0,
        "start_time": "2022-12-09T10:55:00.416Z"
      },
      {
        "duration": 0,
        "start_time": "2022-12-09T10:55:00.418Z"
      },
      {
        "duration": 0,
        "start_time": "2022-12-09T10:55:00.420Z"
      },
      {
        "duration": 0,
        "start_time": "2022-12-09T10:55:00.422Z"
      },
      {
        "duration": 0,
        "start_time": "2022-12-09T10:55:00.423Z"
      },
      {
        "duration": 0,
        "start_time": "2022-12-09T10:55:00.425Z"
      },
      {
        "duration": 0,
        "start_time": "2022-12-09T10:55:00.426Z"
      },
      {
        "duration": 0,
        "start_time": "2022-12-09T10:55:00.428Z"
      },
      {
        "duration": 0,
        "start_time": "2022-12-09T10:55:00.430Z"
      },
      {
        "duration": 0,
        "start_time": "2022-12-09T10:55:00.431Z"
      },
      {
        "duration": 0,
        "start_time": "2022-12-09T10:55:00.433Z"
      },
      {
        "duration": 0,
        "start_time": "2022-12-09T10:55:00.434Z"
      },
      {
        "duration": 0,
        "start_time": "2022-12-09T10:55:00.435Z"
      },
      {
        "duration": 0,
        "start_time": "2022-12-09T10:55:00.454Z"
      },
      {
        "duration": 0,
        "start_time": "2022-12-09T10:55:00.456Z"
      },
      {
        "duration": 0,
        "start_time": "2022-12-09T10:55:00.458Z"
      },
      {
        "duration": 0,
        "start_time": "2022-12-09T10:55:00.460Z"
      },
      {
        "duration": 0,
        "start_time": "2022-12-09T10:55:00.462Z"
      },
      {
        "duration": 0,
        "start_time": "2022-12-09T10:55:00.464Z"
      },
      {
        "duration": 0,
        "start_time": "2022-12-09T10:55:00.466Z"
      },
      {
        "duration": 0,
        "start_time": "2022-12-09T10:55:00.468Z"
      },
      {
        "duration": 0,
        "start_time": "2022-12-09T10:55:00.470Z"
      },
      {
        "duration": 11,
        "start_time": "2022-12-09T10:55:07.697Z"
      },
      {
        "duration": 13,
        "start_time": "2022-12-09T10:55:08.137Z"
      },
      {
        "duration": 15,
        "start_time": "2022-12-09T10:55:32.097Z"
      },
      {
        "duration": 5,
        "start_time": "2022-12-09T10:55:57.177Z"
      },
      {
        "duration": 74,
        "start_time": "2022-12-09T10:56:00.977Z"
      },
      {
        "duration": 4,
        "start_time": "2022-12-09T10:56:01.457Z"
      },
      {
        "duration": 40075,
        "start_time": "2022-12-09T10:56:01.978Z"
      },
      {
        "duration": 4,
        "start_time": "2022-12-09T10:56:42.055Z"
      },
      {
        "duration": 13,
        "start_time": "2022-12-09T10:56:42.061Z"
      },
      {
        "duration": 243,
        "start_time": "2022-12-09T10:56:42.077Z"
      },
      {
        "duration": 2,
        "start_time": "2022-12-09T10:56:42.322Z"
      },
      {
        "duration": 10,
        "start_time": "2022-12-09T10:56:42.326Z"
      },
      {
        "duration": 19,
        "start_time": "2022-12-09T10:56:42.338Z"
      },
      {
        "duration": 6,
        "start_time": "2022-12-09T10:56:55.665Z"
      },
      {
        "duration": 72,
        "start_time": "2022-12-09T10:57:14.217Z"
      },
      {
        "duration": 8,
        "start_time": "2022-12-09T10:57:14.770Z"
      },
      {
        "duration": 4,
        "start_time": "2022-12-09T10:57:15.298Z"
      },
      {
        "duration": 3,
        "start_time": "2022-12-09T10:57:16.177Z"
      },
      {
        "duration": 3456,
        "start_time": "2022-12-09T10:57:16.808Z"
      },
      {
        "duration": 3,
        "start_time": "2022-12-09T10:57:20.266Z"
      },
      {
        "duration": 185,
        "start_time": "2022-12-09T10:57:20.271Z"
      },
      {
        "duration": 4,
        "start_time": "2022-12-09T10:57:20.459Z"
      },
      {
        "duration": 104,
        "start_time": "2022-12-09T10:57:20.465Z"
      },
      {
        "duration": 8,
        "start_time": "2022-12-09T10:57:20.570Z"
      },
      {
        "duration": 6,
        "start_time": "2022-12-09T10:57:26.968Z"
      },
      {
        "duration": 77,
        "start_time": "2022-12-09T10:57:29.265Z"
      },
      {
        "duration": 3,
        "start_time": "2022-12-09T10:57:29.785Z"
      },
      {
        "duration": 3,
        "start_time": "2022-12-09T10:57:30.058Z"
      },
      {
        "duration": 278100,
        "start_time": "2022-12-09T10:57:30.497Z"
      },
      {
        "duration": 4,
        "start_time": "2022-12-09T11:02:08.599Z"
      },
      {
        "duration": 450,
        "start_time": "2022-12-09T11:02:08.605Z"
      },
      {
        "duration": 3,
        "start_time": "2022-12-09T11:02:09.058Z"
      },
      {
        "duration": 15,
        "start_time": "2022-12-09T11:02:09.063Z"
      },
      {
        "duration": 7,
        "start_time": "2022-12-09T11:02:09.080Z"
      },
      {
        "duration": 4,
        "start_time": "2022-12-09T11:02:19.497Z"
      },
      {
        "duration": 4,
        "start_time": "2022-12-09T11:02:20.017Z"
      },
      {
        "duration": 5,
        "start_time": "2022-12-09T11:02:20.528Z"
      },
      {
        "duration": 11,
        "start_time": "2022-12-09T11:02:21.137Z"
      },
      {
        "duration": 3,
        "start_time": "2022-12-09T11:02:59.257Z"
      },
      {
        "duration": 3,
        "start_time": "2022-12-09T11:03:12.481Z"
      },
      {
        "duration": 1574,
        "start_time": "2022-12-10T12:13:23.455Z"
      },
      {
        "duration": 1003,
        "start_time": "2022-12-10T12:13:25.031Z"
      },
      {
        "duration": 16,
        "start_time": "2022-12-10T12:13:26.035Z"
      },
      {
        "duration": 4,
        "start_time": "2022-12-10T12:13:26.053Z"
      },
      {
        "duration": 11,
        "start_time": "2022-12-10T12:13:26.058Z"
      },
      {
        "duration": 137,
        "start_time": "2022-12-10T12:13:26.071Z"
      },
      {
        "duration": 21,
        "start_time": "2022-12-10T12:13:26.209Z"
      },
      {
        "duration": 197,
        "start_time": "2022-12-10T12:13:26.231Z"
      },
      {
        "duration": 24,
        "start_time": "2022-12-10T12:13:26.430Z"
      },
      {
        "duration": 200,
        "start_time": "2022-12-10T12:13:26.457Z"
      },
      {
        "duration": 82,
        "start_time": "2022-12-10T12:13:26.659Z"
      },
      {
        "duration": 74,
        "start_time": "2022-12-10T12:13:26.743Z"
      },
      {
        "duration": 79,
        "start_time": "2022-12-10T12:13:26.819Z"
      },
      {
        "duration": 131,
        "start_time": "2022-12-10T12:13:26.900Z"
      },
      {
        "duration": 16,
        "start_time": "2022-12-10T12:13:27.033Z"
      },
      {
        "duration": 43,
        "start_time": "2022-12-10T12:13:27.051Z"
      },
      {
        "duration": 27,
        "start_time": "2022-12-10T12:13:27.095Z"
      },
      {
        "duration": 60,
        "start_time": "2022-12-10T12:13:32.279Z"
      },
      {
        "duration": 31,
        "start_time": "2022-12-10T12:13:33.202Z"
      },
      {
        "duration": 32,
        "start_time": "2022-12-10T12:18:32.437Z"
      },
      {
        "duration": 53,
        "start_time": "2022-12-10T12:33:49.529Z"
      },
      {
        "duration": 107,
        "start_time": "2022-12-10T12:46:20.664Z"
      },
      {
        "duration": 2861,
        "start_time": "2022-12-10T12:46:49.929Z"
      },
      {
        "duration": 26,
        "start_time": "2022-12-10T12:46:59.804Z"
      },
      {
        "duration": 1986,
        "start_time": "2022-12-10T12:47:54.322Z"
      },
      {
        "duration": 5,
        "start_time": "2022-12-10T12:47:56.311Z"
      },
      {
        "duration": 751,
        "start_time": "2022-12-10T12:47:56.317Z"
      },
      {
        "duration": 15,
        "start_time": "2022-12-10T12:47:57.070Z"
      },
      {
        "duration": 13,
        "start_time": "2022-12-10T12:47:57.086Z"
      },
      {
        "duration": 14,
        "start_time": "2022-12-10T12:47:57.101Z"
      },
      {
        "duration": 130,
        "start_time": "2022-12-10T12:47:57.116Z"
      },
      {
        "duration": 20,
        "start_time": "2022-12-10T12:47:57.247Z"
      },
      {
        "duration": 136,
        "start_time": "2022-12-10T12:47:57.269Z"
      },
      {
        "duration": 19,
        "start_time": "2022-12-10T12:47:57.408Z"
      },
      {
        "duration": 162,
        "start_time": "2022-12-10T12:47:57.429Z"
      },
      {
        "duration": 69,
        "start_time": "2022-12-10T12:47:57.593Z"
      },
      {
        "duration": 72,
        "start_time": "2022-12-10T12:47:57.664Z"
      },
      {
        "duration": 68,
        "start_time": "2022-12-10T12:47:57.737Z"
      },
      {
        "duration": 127,
        "start_time": "2022-12-10T12:47:57.807Z"
      },
      {
        "duration": 18,
        "start_time": "2022-12-10T12:47:57.936Z"
      },
      {
        "duration": 42,
        "start_time": "2022-12-10T12:47:57.956Z"
      },
      {
        "duration": 26,
        "start_time": "2022-12-10T12:47:58.000Z"
      },
      {
        "duration": 27,
        "start_time": "2022-12-10T12:47:58.028Z"
      },
      {
        "duration": 52,
        "start_time": "2022-12-10T12:47:58.056Z"
      },
      {
        "duration": 27,
        "start_time": "2022-12-10T12:47:58.110Z"
      },
      {
        "duration": 83,
        "start_time": "2022-12-10T12:47:58.138Z"
      },
      {
        "duration": 755,
        "start_time": "2022-12-10T12:47:58.222Z"
      },
      {
        "duration": 18,
        "start_time": "2022-12-10T12:47:58.979Z"
      },
      {
        "duration": 16,
        "start_time": "2022-12-10T12:47:58.999Z"
      },
      {
        "duration": 4,
        "start_time": "2022-12-10T12:47:59.016Z"
      },
      {
        "duration": 5,
        "start_time": "2022-12-10T12:47:59.022Z"
      },
      {
        "duration": 87,
        "start_time": "2022-12-10T12:47:59.030Z"
      },
      {
        "duration": 7,
        "start_time": "2022-12-10T12:47:59.119Z"
      },
      {
        "duration": 72,
        "start_time": "2022-12-10T12:47:59.128Z"
      },
      {
        "duration": 40,
        "start_time": "2022-12-10T12:47:59.203Z"
      },
      {
        "duration": 9,
        "start_time": "2022-12-10T12:47:59.245Z"
      },
      {
        "duration": 8,
        "start_time": "2022-12-10T12:47:59.256Z"
      },
      {
        "duration": 41,
        "start_time": "2022-12-10T12:47:59.266Z"
      },
      {
        "duration": 82,
        "start_time": "2022-12-10T12:47:59.309Z"
      },
      {
        "duration": 16,
        "start_time": "2022-12-10T12:47:59.393Z"
      },
      {
        "duration": 17,
        "start_time": "2022-12-10T12:47:59.410Z"
      },
      {
        "duration": 47,
        "start_time": "2022-12-10T12:47:59.428Z"
      },
      {
        "duration": 35,
        "start_time": "2022-12-10T12:47:59.477Z"
      },
      {
        "duration": 8,
        "start_time": "2022-12-10T12:47:59.514Z"
      },
      {
        "duration": 57,
        "start_time": "2022-12-10T12:47:59.523Z"
      },
      {
        "duration": 34,
        "start_time": "2022-12-10T12:47:59.581Z"
      },
      {
        "duration": 42,
        "start_time": "2022-12-10T12:47:59.616Z"
      },
      {
        "duration": 10,
        "start_time": "2022-12-10T12:47:59.660Z"
      },
      {
        "duration": 91,
        "start_time": "2022-12-10T12:47:59.671Z"
      },
      {
        "duration": 94,
        "start_time": "2022-12-10T12:48:07.336Z"
      },
      {
        "duration": 4,
        "start_time": "2022-12-10T12:48:08.220Z"
      },
      {
        "duration": 98,
        "start_time": "2022-12-10T17:04:51.047Z"
      },
      {
        "duration": 5,
        "start_time": "2022-12-10T17:04:51.705Z"
      },
      {
        "duration": 3,
        "start_time": "2022-12-10T17:07:05.241Z"
      },
      {
        "duration": 94,
        "start_time": "2022-12-10T17:07:05.722Z"
      },
      {
        "duration": 6,
        "start_time": "2022-12-10T17:07:06.171Z"
      },
      {
        "duration": 4,
        "start_time": "2022-12-10T17:08:11.840Z"
      },
      {
        "duration": 93,
        "start_time": "2022-12-10T17:08:54.212Z"
      },
      {
        "duration": 5,
        "start_time": "2022-12-10T17:08:54.754Z"
      },
      {
        "duration": 2036,
        "start_time": "2022-12-10T17:10:41.416Z"
      },
      {
        "duration": 5,
        "start_time": "2022-12-10T17:10:43.454Z"
      },
      {
        "duration": 709,
        "start_time": "2022-12-10T17:10:43.461Z"
      },
      {
        "duration": 14,
        "start_time": "2022-12-10T17:10:44.173Z"
      },
      {
        "duration": 5,
        "start_time": "2022-12-10T17:10:44.197Z"
      },
      {
        "duration": 15,
        "start_time": "2022-12-10T17:10:44.204Z"
      },
      {
        "duration": 129,
        "start_time": "2022-12-10T17:10:44.222Z"
      },
      {
        "duration": 19,
        "start_time": "2022-12-10T17:10:44.352Z"
      },
      {
        "duration": 188,
        "start_time": "2022-12-10T17:10:44.373Z"
      },
      {
        "duration": 19,
        "start_time": "2022-12-10T17:10:44.564Z"
      },
      {
        "duration": 227,
        "start_time": "2022-12-10T17:10:44.585Z"
      },
      {
        "duration": 103,
        "start_time": "2022-12-10T17:10:44.814Z"
      },
      {
        "duration": 61,
        "start_time": "2022-12-10T17:10:44.919Z"
      },
      {
        "duration": 78,
        "start_time": "2022-12-10T17:10:44.982Z"
      },
      {
        "duration": 152,
        "start_time": "2022-12-10T17:10:45.062Z"
      },
      {
        "duration": 18,
        "start_time": "2022-12-10T17:10:45.215Z"
      },
      {
        "duration": 25,
        "start_time": "2022-12-10T17:10:45.235Z"
      },
      {
        "duration": 54,
        "start_time": "2022-12-10T17:10:45.262Z"
      },
      {
        "duration": 33,
        "start_time": "2022-12-10T17:10:45.318Z"
      },
      {
        "duration": 50,
        "start_time": "2022-12-10T17:10:45.352Z"
      },
      {
        "duration": 29,
        "start_time": "2022-12-10T17:10:45.403Z"
      },
      {
        "duration": 92,
        "start_time": "2022-12-10T17:10:45.434Z"
      },
      {
        "duration": 862,
        "start_time": "2022-12-10T17:10:45.527Z"
      },
      {
        "duration": 19,
        "start_time": "2022-12-10T17:10:46.390Z"
      },
      {
        "duration": 15,
        "start_time": "2022-12-10T17:10:46.411Z"
      },
      {
        "duration": 5,
        "start_time": "2022-12-10T17:10:46.427Z"
      },
      {
        "duration": 16,
        "start_time": "2022-12-10T17:10:46.433Z"
      },
      {
        "duration": 71,
        "start_time": "2022-12-10T17:10:46.453Z"
      },
      {
        "duration": 4,
        "start_time": "2022-12-10T17:10:46.526Z"
      },
      {
        "duration": 19,
        "start_time": "2022-12-10T17:10:46.532Z"
      },
      {
        "duration": 49,
        "start_time": "2022-12-10T17:10:46.553Z"
      },
      {
        "duration": 7,
        "start_time": "2022-12-10T17:10:46.604Z"
      },
      {
        "duration": 9,
        "start_time": "2022-12-10T17:10:46.612Z"
      },
      {
        "duration": 20,
        "start_time": "2022-12-10T17:10:46.623Z"
      },
      {
        "duration": 52,
        "start_time": "2022-12-10T17:10:46.645Z"
      },
      {
        "duration": 8,
        "start_time": "2022-12-10T17:10:46.699Z"
      },
      {
        "duration": 5,
        "start_time": "2022-12-10T17:10:46.709Z"
      },
      {
        "duration": 21,
        "start_time": "2022-12-10T17:10:46.715Z"
      },
      {
        "duration": 35,
        "start_time": "2022-12-10T17:10:46.737Z"
      },
      {
        "duration": 29,
        "start_time": "2022-12-10T17:10:46.773Z"
      },
      {
        "duration": 53,
        "start_time": "2022-12-10T17:10:46.804Z"
      },
      {
        "duration": 41,
        "start_time": "2022-12-10T17:10:46.859Z"
      },
      {
        "duration": 44,
        "start_time": "2022-12-10T17:10:46.902Z"
      },
      {
        "duration": 10,
        "start_time": "2022-12-10T17:10:46.948Z"
      },
      {
        "duration": 88,
        "start_time": "2022-12-10T17:10:46.960Z"
      },
      {
        "duration": 101,
        "start_time": "2022-12-10T17:10:47.050Z"
      },
      {
        "duration": 4,
        "start_time": "2022-12-10T17:10:47.153Z"
      },
      {
        "duration": 5,
        "start_time": "2022-12-10T17:10:47.159Z"
      },
      {
        "duration": 9,
        "start_time": "2022-12-10T17:10:47.165Z"
      },
      {
        "duration": 7848,
        "start_time": "2022-12-10T17:10:47.175Z"
      },
      {
        "duration": 3,
        "start_time": "2022-12-10T17:10:55.025Z"
      },
      {
        "duration": 100,
        "start_time": "2022-12-10T17:10:55.031Z"
      },
      {
        "duration": 3,
        "start_time": "2022-12-10T17:10:55.133Z"
      },
      {
        "duration": 8,
        "start_time": "2022-12-10T17:10:55.137Z"
      },
      {
        "duration": 5,
        "start_time": "2022-12-10T17:10:55.147Z"
      },
      {
        "duration": 10,
        "start_time": "2022-12-10T17:10:55.154Z"
      },
      {
        "duration": 44,
        "start_time": "2022-12-10T17:10:55.166Z"
      },
      {
        "duration": 4,
        "start_time": "2022-12-10T17:10:55.212Z"
      },
      {
        "duration": 105,
        "start_time": "2022-12-10T17:10:55.218Z"
      },
      {
        "duration": 4,
        "start_time": "2022-12-10T17:10:55.324Z"
      },
      {
        "duration": 7,
        "start_time": "2022-12-10T17:10:55.330Z"
      },
      {
        "duration": 23954,
        "start_time": "2022-12-10T17:10:55.338Z"
      },
      {
        "duration": 2,
        "start_time": "2022-12-10T17:11:19.298Z"
      },
      {
        "duration": 15,
        "start_time": "2022-12-10T17:11:19.302Z"
      },
      {
        "duration": 179,
        "start_time": "2022-12-10T17:11:19.318Z"
      },
      {
        "duration": 3,
        "start_time": "2022-12-10T17:11:19.499Z"
      },
      {
        "duration": 8,
        "start_time": "2022-12-10T17:11:19.503Z"
      },
      {
        "duration": 7,
        "start_time": "2022-12-10T17:11:19.513Z"
      },
      {
        "duration": 6,
        "start_time": "2022-12-10T17:11:19.522Z"
      },
      {
        "duration": 21,
        "start_time": "2022-12-10T17:11:19.529Z"
      },
      {
        "duration": 3,
        "start_time": "2022-12-10T17:11:19.552Z"
      },
      {
        "duration": 124,
        "start_time": "2022-12-10T17:11:19.557Z"
      },
      {
        "duration": 4,
        "start_time": "2022-12-10T17:11:19.683Z"
      },
      {
        "duration": 10,
        "start_time": "2022-12-10T17:11:19.688Z"
      },
      {
        "duration": 5,
        "start_time": "2022-12-10T17:11:19.700Z"
      },
      {
        "duration": 6,
        "start_time": "2022-12-10T17:11:19.706Z"
      },
      {
        "duration": 2897,
        "start_time": "2022-12-10T17:11:19.714Z"
      },
      {
        "duration": 3,
        "start_time": "2022-12-10T17:11:22.613Z"
      },
      {
        "duration": 182,
        "start_time": "2022-12-10T17:11:22.617Z"
      },
      {
        "duration": 90,
        "start_time": "2022-12-10T17:11:22.806Z"
      },
      {
        "duration": 6,
        "start_time": "2022-12-10T17:11:22.898Z"
      },
      {
        "duration": 3,
        "start_time": "2022-12-10T17:11:22.910Z"
      },
      {
        "duration": 8,
        "start_time": "2022-12-10T17:11:22.915Z"
      },
      {
        "duration": 16,
        "start_time": "2022-12-10T17:11:22.925Z"
      },
      {
        "duration": 2,
        "start_time": "2022-12-10T17:11:22.943Z"
      },
      {
        "duration": 122,
        "start_time": "2022-12-10T17:11:22.947Z"
      },
      {
        "duration": 4,
        "start_time": "2022-12-10T17:11:23.071Z"
      },
      {
        "duration": 4,
        "start_time": "2022-12-10T17:11:23.077Z"
      },
      {
        "duration": 16,
        "start_time": "2022-12-10T17:11:23.082Z"
      },
      {
        "duration": 249618,
        "start_time": "2022-12-10T17:11:23.100Z"
      },
      {
        "duration": 3,
        "start_time": "2022-12-10T17:15:32.720Z"
      },
      {
        "duration": 286,
        "start_time": "2022-12-10T17:15:32.724Z"
      },
      {
        "duration": 3,
        "start_time": "2022-12-10T17:15:33.012Z"
      },
      {
        "duration": 8,
        "start_time": "2022-12-10T17:15:33.017Z"
      },
      {
        "duration": 10,
        "start_time": "2022-12-10T17:15:33.026Z"
      },
      {
        "duration": 62,
        "start_time": "2022-12-10T17:15:33.037Z"
      },
      {
        "duration": 13,
        "start_time": "2022-12-10T17:15:33.101Z"
      },
      {
        "duration": 18,
        "start_time": "2022-12-10T17:15:33.116Z"
      },
      {
        "duration": 3,
        "start_time": "2022-12-10T17:23:44.275Z"
      },
      {
        "duration": 3,
        "start_time": "2022-12-10T17:23:48.403Z"
      },
      {
        "duration": 3,
        "start_time": "2022-12-10T17:23:54.263Z"
      },
      {
        "duration": 3,
        "start_time": "2022-12-10T17:23:57.069Z"
      },
      {
        "duration": 2,
        "start_time": "2022-12-10T17:24:05.087Z"
      },
      {
        "duration": 2,
        "start_time": "2022-12-10T17:24:07.471Z"
      },
      {
        "duration": 3,
        "start_time": "2022-12-10T17:24:14.592Z"
      },
      {
        "duration": 2,
        "start_time": "2022-12-10T17:24:16.546Z"
      },
      {
        "duration": 3,
        "start_time": "2022-12-10T17:24:26.413Z"
      },
      {
        "duration": 2,
        "start_time": "2022-12-10T17:24:26.884Z"
      },
      {
        "duration": 5,
        "start_time": "2022-12-10T17:24:27.316Z"
      },
      {
        "duration": 10,
        "start_time": "2022-12-10T17:24:27.942Z"
      },
      {
        "duration": 13,
        "start_time": "2022-12-10T17:28:27.331Z"
      },
      {
        "duration": 21,
        "start_time": "2022-12-10T17:28:32.621Z"
      },
      {
        "duration": 8350,
        "start_time": "2022-12-10T17:28:48.338Z"
      },
      {
        "duration": 4,
        "start_time": "2022-12-10T17:28:59.530Z"
      },
      {
        "duration": 8271,
        "start_time": "2022-12-10T17:29:28.387Z"
      },
      {
        "duration": 4,
        "start_time": "2022-12-10T17:29:39.564Z"
      },
      {
        "duration": 30914,
        "start_time": "2022-12-10T17:31:58.562Z"
      },
      {
        "duration": 8821,
        "start_time": "2022-12-10T17:32:42.739Z"
      },
      {
        "duration": 2185,
        "start_time": "2022-12-10T17:39:47.332Z"
      },
      {
        "duration": 5,
        "start_time": "2022-12-10T17:39:49.519Z"
      },
      {
        "duration": 774,
        "start_time": "2022-12-10T17:39:49.526Z"
      },
      {
        "duration": 15,
        "start_time": "2022-12-10T17:39:50.303Z"
      },
      {
        "duration": 10,
        "start_time": "2022-12-10T17:39:50.320Z"
      },
      {
        "duration": 12,
        "start_time": "2022-12-10T17:39:50.332Z"
      },
      {
        "duration": 134,
        "start_time": "2022-12-10T17:39:50.346Z"
      },
      {
        "duration": 27,
        "start_time": "2022-12-10T17:39:50.482Z"
      },
      {
        "duration": 199,
        "start_time": "2022-12-10T17:39:50.511Z"
      },
      {
        "duration": 22,
        "start_time": "2022-12-10T17:39:50.713Z"
      },
      {
        "duration": 212,
        "start_time": "2022-12-10T17:39:50.737Z"
      },
      {
        "duration": 83,
        "start_time": "2022-12-10T17:39:50.950Z"
      },
      {
        "duration": 77,
        "start_time": "2022-12-10T17:39:51.035Z"
      },
      {
        "duration": 68,
        "start_time": "2022-12-10T17:39:51.114Z"
      },
      {
        "duration": 157,
        "start_time": "2022-12-10T17:39:51.183Z"
      },
      {
        "duration": 22,
        "start_time": "2022-12-10T17:39:51.341Z"
      },
      {
        "duration": 43,
        "start_time": "2022-12-10T17:39:51.365Z"
      },
      {
        "duration": 30,
        "start_time": "2022-12-10T17:39:51.410Z"
      },
      {
        "duration": 30,
        "start_time": "2022-12-10T17:39:51.442Z"
      },
      {
        "duration": 61,
        "start_time": "2022-12-10T17:39:51.474Z"
      },
      {
        "duration": 31,
        "start_time": "2022-12-10T17:39:51.537Z"
      },
      {
        "duration": 97,
        "start_time": "2022-12-10T17:39:51.570Z"
      },
      {
        "duration": 805,
        "start_time": "2022-12-10T17:39:51.669Z"
      },
      {
        "duration": 31,
        "start_time": "2022-12-10T17:39:52.476Z"
      },
      {
        "duration": 22,
        "start_time": "2022-12-10T17:39:52.509Z"
      },
      {
        "duration": 9,
        "start_time": "2022-12-10T17:39:52.533Z"
      },
      {
        "duration": 8,
        "start_time": "2022-12-10T17:39:52.544Z"
      },
      {
        "duration": 78,
        "start_time": "2022-12-10T17:39:52.557Z"
      },
      {
        "duration": 7,
        "start_time": "2022-12-10T17:39:52.636Z"
      },
      {
        "duration": 20,
        "start_time": "2022-12-10T17:39:52.645Z"
      },
      {
        "duration": 54,
        "start_time": "2022-12-10T17:39:52.666Z"
      },
      {
        "duration": 7,
        "start_time": "2022-12-10T17:39:52.722Z"
      },
      {
        "duration": 7,
        "start_time": "2022-12-10T17:39:52.731Z"
      },
      {
        "duration": 31,
        "start_time": "2022-12-10T17:39:52.740Z"
      },
      {
        "duration": 54,
        "start_time": "2022-12-10T17:39:52.772Z"
      },
      {
        "duration": 7,
        "start_time": "2022-12-10T17:39:52.828Z"
      },
      {
        "duration": 10,
        "start_time": "2022-12-10T17:39:52.837Z"
      },
      {
        "duration": 51,
        "start_time": "2022-12-10T17:39:52.849Z"
      },
      {
        "duration": 46,
        "start_time": "2022-12-10T17:39:52.902Z"
      },
      {
        "duration": 10,
        "start_time": "2022-12-10T17:39:52.949Z"
      },
      {
        "duration": 72,
        "start_time": "2022-12-10T17:39:52.960Z"
      },
      {
        "duration": 22,
        "start_time": "2022-12-10T17:39:53.034Z"
      },
      {
        "duration": 72,
        "start_time": "2022-12-10T17:39:53.058Z"
      },
      {
        "duration": 11,
        "start_time": "2022-12-10T17:39:53.131Z"
      },
      {
        "duration": 5,
        "start_time": "2022-12-10T17:39:53.144Z"
      },
      {
        "duration": 21,
        "start_time": "2022-12-10T17:39:53.151Z"
      },
      {
        "duration": 120,
        "start_time": "2022-12-10T17:39:53.173Z"
      },
      {
        "duration": 4,
        "start_time": "2022-12-10T17:39:53.298Z"
      },
      {
        "duration": 6,
        "start_time": "2022-12-10T17:39:53.304Z"
      },
      {
        "duration": 10,
        "start_time": "2022-12-10T17:39:53.312Z"
      },
      {
        "duration": 8564,
        "start_time": "2022-12-10T17:39:53.324Z"
      },
      {
        "duration": 3,
        "start_time": "2022-12-10T17:40:01.890Z"
      },
      {
        "duration": 103,
        "start_time": "2022-12-10T17:40:01.894Z"
      },
      {
        "duration": 3,
        "start_time": "2022-12-10T17:40:01.999Z"
      },
      {
        "duration": 34,
        "start_time": "2022-12-10T17:40:02.003Z"
      },
      {
        "duration": 38,
        "start_time": "2022-12-10T17:40:02.039Z"
      },
      {
        "duration": 7,
        "start_time": "2022-12-10T17:40:02.079Z"
      },
      {
        "duration": 10,
        "start_time": "2022-12-10T17:40:02.087Z"
      },
      {
        "duration": 15,
        "start_time": "2022-12-10T17:40:02.098Z"
      },
      {
        "duration": 39,
        "start_time": "2022-12-10T17:40:02.115Z"
      },
      {
        "duration": 8,
        "start_time": "2022-12-10T17:40:02.156Z"
      },
      {
        "duration": 25403,
        "start_time": "2022-12-10T17:40:02.166Z"
      },
      {
        "duration": 3,
        "start_time": "2022-12-10T17:40:27.570Z"
      },
      {
        "duration": 20,
        "start_time": "2022-12-10T17:40:27.574Z"
      },
      {
        "duration": 189,
        "start_time": "2022-12-10T17:40:27.597Z"
      },
      {
        "duration": 15,
        "start_time": "2022-12-10T17:40:27.788Z"
      },
      {
        "duration": 10,
        "start_time": "2022-12-10T17:40:27.808Z"
      },
      {
        "duration": 8,
        "start_time": "2022-12-10T17:40:27.820Z"
      },
      {
        "duration": 4,
        "start_time": "2022-12-10T17:40:27.830Z"
      },
      {
        "duration": 6,
        "start_time": "2022-12-10T17:40:27.836Z"
      },
      {
        "duration": 6,
        "start_time": "2022-12-10T17:40:27.844Z"
      },
      {
        "duration": 5,
        "start_time": "2022-12-10T17:40:27.851Z"
      },
      {
        "duration": 6,
        "start_time": "2022-12-10T17:40:27.858Z"
      },
      {
        "duration": 8,
        "start_time": "2022-12-10T17:40:27.866Z"
      },
      {
        "duration": 9,
        "start_time": "2022-12-10T17:40:27.875Z"
      },
      {
        "duration": 3015,
        "start_time": "2022-12-10T17:40:27.897Z"
      },
      {
        "duration": 3,
        "start_time": "2022-12-10T17:40:30.914Z"
      },
      {
        "duration": 140,
        "start_time": "2022-12-10T17:40:30.918Z"
      },
      {
        "duration": 6,
        "start_time": "2022-12-10T17:40:31.110Z"
      },
      {
        "duration": 105,
        "start_time": "2022-12-10T17:40:31.118Z"
      },
      {
        "duration": 6,
        "start_time": "2022-12-10T17:40:31.225Z"
      },
      {
        "duration": 3,
        "start_time": "2022-12-10T17:40:31.235Z"
      },
      {
        "duration": 11,
        "start_time": "2022-12-10T17:40:31.240Z"
      },
      {
        "duration": 11,
        "start_time": "2022-12-10T17:40:31.253Z"
      },
      {
        "duration": 7,
        "start_time": "2022-12-10T17:40:31.265Z"
      },
      {
        "duration": 12,
        "start_time": "2022-12-10T17:40:31.273Z"
      },
      {
        "duration": 19,
        "start_time": "2022-12-10T17:40:31.286Z"
      },
      {
        "duration": 217125,
        "start_time": "2022-12-10T17:40:31.306Z"
      },
      {
        "duration": 68,
        "start_time": "2022-12-10T17:44:08.433Z"
      },
      {
        "duration": 299,
        "start_time": "2022-12-10T17:44:08.507Z"
      },
      {
        "duration": 4,
        "start_time": "2022-12-10T17:44:08.807Z"
      },
      {
        "duration": 10,
        "start_time": "2022-12-10T17:44:08.813Z"
      },
      {
        "duration": 5,
        "start_time": "2022-12-10T17:44:08.824Z"
      },
      {
        "duration": 5,
        "start_time": "2022-12-10T17:44:08.830Z"
      },
      {
        "duration": 7,
        "start_time": "2022-12-10T17:44:08.836Z"
      },
      {
        "duration": 6,
        "start_time": "2022-12-10T17:44:08.844Z"
      },
      {
        "duration": 9,
        "start_time": "2022-12-10T17:44:16.243Z"
      },
      {
        "duration": 3,
        "start_time": "2022-12-10T17:45:36.265Z"
      },
      {
        "duration": 3,
        "start_time": "2022-12-10T17:45:43.975Z"
      },
      {
        "duration": 3,
        "start_time": "2022-12-10T17:46:03.923Z"
      },
      {
        "duration": 3,
        "start_time": "2022-12-10T17:46:08.053Z"
      },
      {
        "duration": 3,
        "start_time": "2022-12-10T17:46:20.561Z"
      },
      {
        "duration": 3,
        "start_time": "2022-12-10T17:46:25.251Z"
      },
      {
        "duration": 3,
        "start_time": "2022-12-10T17:46:31.612Z"
      },
      {
        "duration": 4,
        "start_time": "2022-12-10T17:46:34.208Z"
      },
      {
        "duration": 3,
        "start_time": "2022-12-10T17:46:39.465Z"
      },
      {
        "duration": 3,
        "start_time": "2022-12-10T17:46:41.211Z"
      },
      {
        "duration": 5,
        "start_time": "2022-12-10T17:46:48.461Z"
      },
      {
        "duration": 3,
        "start_time": "2022-12-10T17:46:48.769Z"
      },
      {
        "duration": 4,
        "start_time": "2022-12-10T17:46:49.248Z"
      },
      {
        "duration": 9,
        "start_time": "2022-12-10T17:46:49.635Z"
      },
      {
        "duration": 45,
        "start_time": "2022-12-10T17:47:19.267Z"
      },
      {
        "duration": 84,
        "start_time": "2022-12-10T17:51:07.058Z"
      },
      {
        "duration": 3,
        "start_time": "2022-12-10T17:51:18.840Z"
      },
      {
        "duration": 5,
        "start_time": "2022-12-10T17:51:20.133Z"
      },
      {
        "duration": 4,
        "start_time": "2022-12-10T17:51:21.832Z"
      },
      {
        "duration": 3187,
        "start_time": "2022-12-11T17:50:51.686Z"
      },
      {
        "duration": 1630,
        "start_time": "2022-12-11T17:50:54.876Z"
      },
      {
        "duration": 1095,
        "start_time": "2022-12-11T17:50:56.507Z"
      },
      {
        "duration": 18,
        "start_time": "2022-12-11T17:50:57.605Z"
      },
      {
        "duration": 12,
        "start_time": "2022-12-11T17:50:57.625Z"
      },
      {
        "duration": 27,
        "start_time": "2022-12-11T17:50:57.639Z"
      },
      {
        "duration": 149,
        "start_time": "2022-12-11T17:50:57.668Z"
      },
      {
        "duration": 21,
        "start_time": "2022-12-11T17:50:57.818Z"
      },
      {
        "duration": 222,
        "start_time": "2022-12-11T17:50:57.842Z"
      },
      {
        "duration": 21,
        "start_time": "2022-12-11T17:50:58.067Z"
      },
      {
        "duration": 204,
        "start_time": "2022-12-11T17:50:58.091Z"
      },
      {
        "duration": 81,
        "start_time": "2022-12-11T17:50:58.296Z"
      },
      {
        "duration": 74,
        "start_time": "2022-12-11T17:50:58.382Z"
      },
      {
        "duration": 70,
        "start_time": "2022-12-11T17:50:58.457Z"
      },
      {
        "duration": 146,
        "start_time": "2022-12-11T17:50:58.529Z"
      },
      {
        "duration": 23,
        "start_time": "2022-12-11T17:50:58.677Z"
      },
      {
        "duration": 28,
        "start_time": "2022-12-11T17:50:58.701Z"
      },
      {
        "duration": 48,
        "start_time": "2022-12-11T17:50:58.731Z"
      },
      {
        "duration": 30,
        "start_time": "2022-12-11T17:50:58.781Z"
      },
      {
        "duration": 66,
        "start_time": "2022-12-11T17:50:58.813Z"
      },
      {
        "duration": 32,
        "start_time": "2022-12-11T17:50:58.881Z"
      },
      {
        "duration": 110,
        "start_time": "2022-12-11T17:50:58.915Z"
      },
      {
        "duration": 829,
        "start_time": "2022-12-11T17:50:59.028Z"
      },
      {
        "duration": 18,
        "start_time": "2022-12-11T17:50:59.859Z"
      },
      {
        "duration": 17,
        "start_time": "2022-12-11T17:50:59.879Z"
      },
      {
        "duration": 5,
        "start_time": "2022-12-11T17:50:59.899Z"
      },
      {
        "duration": 7,
        "start_time": "2022-12-11T17:50:59.905Z"
      },
      {
        "duration": 90,
        "start_time": "2022-12-11T17:50:59.916Z"
      },
      {
        "duration": 6,
        "start_time": "2022-12-11T17:51:00.008Z"
      },
      {
        "duration": 41,
        "start_time": "2022-12-11T17:51:00.015Z"
      },
      {
        "duration": 41,
        "start_time": "2022-12-11T17:51:00.058Z"
      },
      {
        "duration": 8,
        "start_time": "2022-12-11T17:51:00.100Z"
      },
      {
        "duration": 22,
        "start_time": "2022-12-11T17:51:00.109Z"
      },
      {
        "duration": 26,
        "start_time": "2022-12-11T17:51:00.133Z"
      },
      {
        "duration": 41,
        "start_time": "2022-12-11T17:51:00.161Z"
      },
      {
        "duration": 8,
        "start_time": "2022-12-11T17:51:00.204Z"
      },
      {
        "duration": 6,
        "start_time": "2022-12-11T17:51:00.213Z"
      },
      {
        "duration": 39,
        "start_time": "2022-12-11T17:51:00.221Z"
      },
      {
        "duration": 49,
        "start_time": "2022-12-11T17:51:00.262Z"
      },
      {
        "duration": 11,
        "start_time": "2022-12-11T17:51:00.312Z"
      },
      {
        "duration": 83,
        "start_time": "2022-12-11T17:51:00.325Z"
      },
      {
        "duration": 25,
        "start_time": "2022-12-11T17:51:00.410Z"
      },
      {
        "duration": 67,
        "start_time": "2022-12-11T17:51:00.436Z"
      },
      {
        "duration": 10,
        "start_time": "2022-12-11T17:51:00.505Z"
      },
      {
        "duration": 22,
        "start_time": "2022-12-11T17:51:00.517Z"
      },
      {
        "duration": 34,
        "start_time": "2022-12-11T17:51:00.540Z"
      },
      {
        "duration": 125,
        "start_time": "2022-12-11T17:51:00.576Z"
      },
      {
        "duration": 5,
        "start_time": "2022-12-11T17:51:00.703Z"
      },
      {
        "duration": 22,
        "start_time": "2022-12-11T17:51:00.710Z"
      },
      {
        "duration": 14,
        "start_time": "2022-12-11T17:51:00.734Z"
      },
      {
        "duration": 8607,
        "start_time": "2022-12-11T17:51:00.750Z"
      },
      {
        "duration": 3,
        "start_time": "2022-12-11T17:51:09.358Z"
      },
      {
        "duration": 106,
        "start_time": "2022-12-11T17:51:09.363Z"
      },
      {
        "duration": 3,
        "start_time": "2022-12-11T17:51:09.471Z"
      },
      {
        "duration": 8,
        "start_time": "2022-12-11T17:51:09.476Z"
      },
      {
        "duration": 6,
        "start_time": "2022-12-11T17:51:09.486Z"
      },
      {
        "duration": 4,
        "start_time": "2022-12-11T17:51:09.494Z"
      },
      {
        "duration": 6,
        "start_time": "2022-12-11T17:51:09.499Z"
      },
      {
        "duration": 5,
        "start_time": "2022-12-11T17:51:09.507Z"
      },
      {
        "duration": 6,
        "start_time": "2022-12-11T17:51:09.515Z"
      },
      {
        "duration": 4,
        "start_time": "2022-12-11T17:51:09.555Z"
      },
      {
        "duration": 26996,
        "start_time": "2022-12-11T17:51:09.562Z"
      },
      {
        "duration": 3,
        "start_time": "2022-12-11T17:51:36.559Z"
      },
      {
        "duration": 11,
        "start_time": "2022-12-11T17:51:36.564Z"
      },
      {
        "duration": 192,
        "start_time": "2022-12-11T17:51:36.577Z"
      },
      {
        "duration": 3,
        "start_time": "2022-12-11T17:51:36.771Z"
      },
      {
        "duration": 7,
        "start_time": "2022-12-11T17:51:36.776Z"
      },
      {
        "duration": 4,
        "start_time": "2022-12-11T17:51:36.785Z"
      },
      {
        "duration": 3,
        "start_time": "2022-12-11T17:51:36.791Z"
      },
      {
        "duration": 5,
        "start_time": "2022-12-11T17:51:36.796Z"
      },
      {
        "duration": 5,
        "start_time": "2022-12-11T17:51:36.802Z"
      },
      {
        "duration": 7,
        "start_time": "2022-12-11T17:51:36.808Z"
      },
      {
        "duration": 5,
        "start_time": "2022-12-11T17:51:36.816Z"
      },
      {
        "duration": 32,
        "start_time": "2022-12-11T17:51:36.823Z"
      },
      {
        "duration": 3,
        "start_time": "2022-12-11T17:51:36.856Z"
      },
      {
        "duration": 2935,
        "start_time": "2022-12-11T17:51:36.861Z"
      },
      {
        "duration": 2,
        "start_time": "2022-12-11T17:51:39.798Z"
      },
      {
        "duration": 254,
        "start_time": "2022-12-11T17:51:39.802Z"
      },
      {
        "duration": 3,
        "start_time": "2022-12-11T17:51:40.059Z"
      },
      {
        "duration": 94,
        "start_time": "2022-12-11T17:51:40.064Z"
      },
      {
        "duration": 7,
        "start_time": "2022-12-11T17:51:40.160Z"
      },
      {
        "duration": 5,
        "start_time": "2022-12-11T17:51:40.172Z"
      },
      {
        "duration": 10,
        "start_time": "2022-12-11T17:51:40.178Z"
      },
      {
        "duration": 6,
        "start_time": "2022-12-11T17:51:40.190Z"
      },
      {
        "duration": 9,
        "start_time": "2022-12-11T17:51:40.198Z"
      },
      {
        "duration": 6,
        "start_time": "2022-12-11T17:51:40.209Z"
      },
      {
        "duration": 9,
        "start_time": "2022-12-11T17:51:40.216Z"
      },
      {
        "duration": 100300,
        "start_time": "2022-12-11T17:51:40.227Z"
      },
      {
        "duration": 3,
        "start_time": "2022-12-11T17:53:20.529Z"
      },
      {
        "duration": 64,
        "start_time": "2022-12-11T17:53:20.534Z"
      },
      {
        "duration": 4,
        "start_time": "2022-12-11T17:53:20.600Z"
      },
      {
        "duration": 12,
        "start_time": "2022-12-11T17:53:20.606Z"
      },
      {
        "duration": 7,
        "start_time": "2022-12-11T17:53:20.620Z"
      },
      {
        "duration": 12,
        "start_time": "2022-12-11T17:53:20.629Z"
      },
      {
        "duration": 7,
        "start_time": "2022-12-11T17:53:20.643Z"
      },
      {
        "duration": 8,
        "start_time": "2022-12-11T17:53:20.653Z"
      },
      {
        "duration": 15,
        "start_time": "2022-12-11T17:53:20.663Z"
      },
      {
        "duration": 101,
        "start_time": "2022-12-11T17:53:20.680Z"
      },
      {
        "duration": 4,
        "start_time": "2022-12-11T17:53:20.784Z"
      },
      {
        "duration": 19,
        "start_time": "2022-12-11T17:53:20.790Z"
      },
      {
        "duration": 2135,
        "start_time": "2022-12-11T17:55:28.356Z"
      },
      {
        "duration": 1387,
        "start_time": "2022-12-11T17:55:30.493Z"
      },
      {
        "duration": 819,
        "start_time": "2022-12-11T17:55:31.882Z"
      },
      {
        "duration": 17,
        "start_time": "2022-12-11T17:55:32.703Z"
      },
      {
        "duration": 17,
        "start_time": "2022-12-11T17:55:32.721Z"
      },
      {
        "duration": 21,
        "start_time": "2022-12-11T17:55:32.739Z"
      },
      {
        "duration": 146,
        "start_time": "2022-12-11T17:55:32.762Z"
      },
      {
        "duration": 25,
        "start_time": "2022-12-11T17:55:32.909Z"
      },
      {
        "duration": 222,
        "start_time": "2022-12-11T17:55:32.935Z"
      },
      {
        "duration": 21,
        "start_time": "2022-12-11T17:55:33.160Z"
      },
      {
        "duration": 206,
        "start_time": "2022-12-11T17:55:33.183Z"
      },
      {
        "duration": 77,
        "start_time": "2022-12-11T17:55:33.390Z"
      },
      {
        "duration": 65,
        "start_time": "2022-12-11T17:55:33.469Z"
      },
      {
        "duration": 88,
        "start_time": "2022-12-11T17:55:33.535Z"
      },
      {
        "duration": 231,
        "start_time": "2022-12-11T17:55:33.625Z"
      },
      {
        "duration": 22,
        "start_time": "2022-12-11T17:55:33.858Z"
      },
      {
        "duration": 28,
        "start_time": "2022-12-11T17:55:33.881Z"
      },
      {
        "duration": 53,
        "start_time": "2022-12-11T17:55:33.911Z"
      },
      {
        "duration": 32,
        "start_time": "2022-12-11T17:55:33.966Z"
      },
      {
        "duration": 68,
        "start_time": "2022-12-11T17:55:34.000Z"
      },
      {
        "duration": 34,
        "start_time": "2022-12-11T17:55:34.070Z"
      },
      {
        "duration": 110,
        "start_time": "2022-12-11T17:55:34.106Z"
      },
      {
        "duration": 846,
        "start_time": "2022-12-11T17:55:34.218Z"
      },
      {
        "duration": 18,
        "start_time": "2022-12-11T17:55:35.066Z"
      },
      {
        "duration": 16,
        "start_time": "2022-12-11T17:55:35.085Z"
      },
      {
        "duration": 4,
        "start_time": "2022-12-11T17:55:35.103Z"
      },
      {
        "duration": 6,
        "start_time": "2022-12-11T17:55:35.108Z"
      },
      {
        "duration": 86,
        "start_time": "2022-12-11T17:55:35.118Z"
      },
      {
        "duration": 5,
        "start_time": "2022-12-11T17:55:35.205Z"
      },
      {
        "duration": 33,
        "start_time": "2022-12-11T17:55:35.212Z"
      },
      {
        "duration": 36,
        "start_time": "2022-12-11T17:55:35.247Z"
      },
      {
        "duration": 8,
        "start_time": "2022-12-11T17:55:35.284Z"
      },
      {
        "duration": 7,
        "start_time": "2022-12-11T17:55:35.293Z"
      },
      {
        "duration": 25,
        "start_time": "2022-12-11T17:55:35.301Z"
      },
      {
        "duration": 55,
        "start_time": "2022-12-11T17:55:35.327Z"
      },
      {
        "duration": 8,
        "start_time": "2022-12-11T17:55:35.384Z"
      },
      {
        "duration": 16,
        "start_time": "2022-12-11T17:55:35.393Z"
      },
      {
        "duration": 22,
        "start_time": "2022-12-11T17:55:35.411Z"
      },
      {
        "duration": 49,
        "start_time": "2022-12-11T17:55:35.434Z"
      },
      {
        "duration": 8,
        "start_time": "2022-12-11T17:55:35.485Z"
      },
      {
        "duration": 71,
        "start_time": "2022-12-11T17:55:35.495Z"
      },
      {
        "duration": 23,
        "start_time": "2022-12-11T17:55:35.567Z"
      },
      {
        "duration": 63,
        "start_time": "2022-12-11T17:55:35.592Z"
      },
      {
        "duration": 9,
        "start_time": "2022-12-11T17:55:35.657Z"
      },
      {
        "duration": 4,
        "start_time": "2022-12-11T17:55:35.668Z"
      },
      {
        "duration": 16,
        "start_time": "2022-12-11T17:55:35.674Z"
      },
      {
        "duration": 139,
        "start_time": "2022-12-11T17:55:35.692Z"
      },
      {
        "duration": 4,
        "start_time": "2022-12-11T17:55:35.833Z"
      },
      {
        "duration": 5,
        "start_time": "2022-12-11T17:55:35.839Z"
      },
      {
        "duration": 5,
        "start_time": "2022-12-11T17:55:35.855Z"
      },
      {
        "duration": 8266,
        "start_time": "2022-12-11T17:55:35.862Z"
      },
      {
        "duration": 3,
        "start_time": "2022-12-11T17:55:44.130Z"
      },
      {
        "duration": 94,
        "start_time": "2022-12-11T17:55:44.134Z"
      },
      {
        "duration": 3,
        "start_time": "2022-12-11T17:55:44.230Z"
      },
      {
        "duration": 7,
        "start_time": "2022-12-11T17:55:44.234Z"
      },
      {
        "duration": 14,
        "start_time": "2022-12-11T17:55:44.243Z"
      },
      {
        "duration": 8,
        "start_time": "2022-12-11T17:55:44.258Z"
      },
      {
        "duration": 4,
        "start_time": "2022-12-11T17:55:44.268Z"
      },
      {
        "duration": 5,
        "start_time": "2022-12-11T17:55:44.274Z"
      },
      {
        "duration": 4,
        "start_time": "2022-12-11T17:55:44.280Z"
      },
      {
        "duration": 5,
        "start_time": "2022-12-11T17:55:44.286Z"
      },
      {
        "duration": 25768,
        "start_time": "2022-12-11T17:55:44.292Z"
      },
      {
        "duration": 3,
        "start_time": "2022-12-11T17:56:10.061Z"
      },
      {
        "duration": 13,
        "start_time": "2022-12-11T17:56:10.065Z"
      },
      {
        "duration": 176,
        "start_time": "2022-12-11T17:56:10.080Z"
      },
      {
        "duration": 3,
        "start_time": "2022-12-11T17:56:10.258Z"
      },
      {
        "duration": 15,
        "start_time": "2022-12-11T17:56:10.262Z"
      },
      {
        "duration": 11,
        "start_time": "2022-12-11T17:56:10.279Z"
      },
      {
        "duration": 8,
        "start_time": "2022-12-11T17:56:10.291Z"
      },
      {
        "duration": 17,
        "start_time": "2022-12-11T17:56:10.301Z"
      },
      {
        "duration": 15,
        "start_time": "2022-12-11T17:56:10.320Z"
      },
      {
        "duration": 12,
        "start_time": "2022-12-11T17:56:10.337Z"
      },
      {
        "duration": 9,
        "start_time": "2022-12-11T17:56:10.351Z"
      },
      {
        "duration": 22,
        "start_time": "2022-12-11T17:56:10.362Z"
      },
      {
        "duration": 8,
        "start_time": "2022-12-11T17:56:10.386Z"
      },
      {
        "duration": 2770,
        "start_time": "2022-12-11T17:56:10.396Z"
      },
      {
        "duration": 3,
        "start_time": "2022-12-11T17:56:13.167Z"
      },
      {
        "duration": 148,
        "start_time": "2022-12-11T17:56:13.171Z"
      },
      {
        "duration": 4,
        "start_time": "2022-12-11T17:56:13.356Z"
      },
      {
        "duration": 101,
        "start_time": "2022-12-11T17:56:13.363Z"
      },
      {
        "duration": 5,
        "start_time": "2022-12-11T17:56:13.466Z"
      },
      {
        "duration": 2,
        "start_time": "2022-12-11T17:56:13.476Z"
      },
      {
        "duration": 5,
        "start_time": "2022-12-11T17:56:13.480Z"
      },
      {
        "duration": 5,
        "start_time": "2022-12-11T17:56:13.487Z"
      },
      {
        "duration": 7,
        "start_time": "2022-12-11T17:56:13.494Z"
      },
      {
        "duration": 5,
        "start_time": "2022-12-11T17:56:13.502Z"
      },
      {
        "duration": 4,
        "start_time": "2022-12-11T17:56:13.509Z"
      },
      {
        "duration": 10359,
        "start_time": "2022-12-11T17:56:13.515Z"
      },
      {
        "duration": 3,
        "start_time": "2022-12-11T17:56:23.875Z"
      },
      {
        "duration": 283,
        "start_time": "2022-12-11T17:56:23.880Z"
      },
      {
        "duration": 3,
        "start_time": "2022-12-11T17:56:24.164Z"
      },
      {
        "duration": 29,
        "start_time": "2022-12-11T17:56:24.169Z"
      },
      {
        "duration": 4,
        "start_time": "2022-12-11T17:56:24.200Z"
      },
      {
        "duration": 51,
        "start_time": "2022-12-11T17:56:24.206Z"
      },
      {
        "duration": 9,
        "start_time": "2022-12-11T17:56:24.259Z"
      },
      {
        "duration": 9,
        "start_time": "2022-12-11T17:56:24.270Z"
      },
      {
        "duration": 13,
        "start_time": "2022-12-11T17:56:24.280Z"
      },
      {
        "duration": 105,
        "start_time": "2022-12-11T17:56:24.295Z"
      },
      {
        "duration": 3,
        "start_time": "2022-12-11T17:56:24.402Z"
      },
      {
        "duration": 9,
        "start_time": "2022-12-11T17:56:24.407Z"
      },
      {
        "duration": 6,
        "start_time": "2022-12-11T17:57:24.727Z"
      },
      {
        "duration": 5,
        "start_time": "2022-12-11T17:57:26.127Z"
      }
    ],
    "kernelspec": {
      "display_name": "Python 3 (ipykernel)",
      "language": "python",
      "name": "python3"
    },
    "language_info": {
      "codemirror_mode": {
        "name": "ipython",
        "version": 3
      },
      "file_extension": ".py",
      "mimetype": "text/x-python",
      "name": "python",
      "nbconvert_exporter": "python",
      "pygments_lexer": "ipython3",
      "version": "3.9.5"
    },
    "toc": {
      "base_numbering": 1,
      "nav_menu": {},
      "number_sections": true,
      "sideBar": true,
      "skip_h1_title": true,
      "title_cell": "Table of Contents",
      "title_sidebar": "Contents",
      "toc_cell": false,
      "toc_position": {},
      "toc_section_display": true,
      "toc_window_display": false
    },
    "colab": {
      "provenance": []
    }
  },
  "nbformat": 4,
  "nbformat_minor": 0
}