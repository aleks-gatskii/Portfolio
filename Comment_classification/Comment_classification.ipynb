{
  "cells": [
    {
      "cell_type": "markdown",
      "metadata": {
        "id": "0fxm1bD22Iic"
      },
      "source": [
        "# Проект для «Викишоп»"
      ]
    },
    {
      "cell_type": "markdown",
      "metadata": {
        "id": "orqWbaK22Iid"
      },
      "source": [
        "Интернет-магазин «Викишоп» запускает новый сервис. Теперь пользователи могут редактировать и дополнять описания товаров, как в вики-сообществах. То есть клиенты предлагают свои правки и комментируют изменения других. Магазину нужен инструмент, который будет искать токсичные комментарии и отправлять их на модерацию. \n",
        "\n",
        "Обучите модель классифицировать комментарии на позитивные и негативные. В вашем распоряжении набор данных с разметкой о токсичности правок.\n",
        "\n",
        "Постройте модель со значением метрики качества *F1* не меньше 0.75. \n",
        "\n",
        "**Инструкция по выполнению проекта**\n",
        "\n",
        "1. Загрузите и подготовьте данные.\n",
        "2. Обучите разные модели. \n",
        "3. Сделайте выводы.\n",
        "\n",
        "Для выполнения проекта применять *BERT* необязательно, но вы можете попробовать.\n",
        "\n",
        "**Описание данных**\n",
        "\n",
        "Данные находятся в файле `toxic_comments.csv`. Столбец *text* в нём содержит текст комментария, а *toxic* — целевой признак."
      ]
    },
    {
      "cell_type": "markdown",
      "metadata": {
        "id": "YPzTqrf72Iie"
      },
      "source": [
        "## Подготовка"
      ]
    },
    {
      "cell_type": "code",
      "execution_count": 1,
      "metadata": {
        "colab": {
          "base_uri": "https://localhost:8080/"
        },
        "id": "nuDxB2qS2Iif",
        "outputId": "21b13c1d-44c2-4cb0-8ea6-0cd6eba48564"
      },
      "outputs": [
        {
          "output_type": "stream",
          "name": "stdout",
          "text": [
            "Looking in indexes: https://pypi.org/simple, https://us-python.pkg.dev/colab-wheels/public/simple/\n",
            "Collecting fast_ml\n",
            "  Downloading fast_ml-3.68-py3-none-any.whl (42 kB)\n",
            "\u001b[2K     \u001b[90m━━━━━━━━━━━━━━━━━━━━━━━━━━━━━━━━━━━━━━━━\u001b[0m \u001b[32m42.1/42.1 KB\u001b[0m \u001b[31m2.1 MB/s\u001b[0m eta \u001b[36m0:00:00\u001b[0m\n",
            "\u001b[?25hInstalling collected packages: fast_ml\n",
            "Successfully installed fast_ml-3.68\n"
          ]
        }
      ],
      "source": [
        "!pip install fast_ml;  "
      ]
    },
    {
      "cell_type": "code",
      "execution_count": 2,
      "metadata": {
        "id": "FTkx4VZJ2Iih"
      },
      "outputs": [],
      "source": [
        "import pandas as pd\n",
        "import re \n",
        "import matplotlib.pyplot as plt\n",
        "\n",
        "import warnings\n",
        "warnings.filterwarnings('ignore')\n",
        "\n",
        "from tqdm.notebook import tqdm\n",
        "\n",
        "import nltk\n",
        "from nltk.corpus import wordnet\n",
        "from nltk.corpus import stopwords as nltk_stopwords\n",
        "from nltk.stem.wordnet import WordNetLemmatizer\n",
        "\n",
        "from sklearn.metrics import classification_report\n",
        "from sklearn.metrics import f1_score\n",
        "from sklearn.metrics import confusion_matrix\n",
        "\n",
        "from sklearn.feature_extraction.text import TfidfVectorizer \n",
        "\n",
        "from sklearn.utils import shuffle\n",
        "from sklearn.model_selection import train_test_split\n",
        "\n",
        "from fast_ml.model_development import train_valid_test_split  # для разбиения на 3 выборки\n",
        "\n",
        "from sklearn.tree import DecisionTreeClassifier\n",
        "from sklearn.linear_model import LogisticRegression\n",
        "from sklearn.ensemble import RandomForestClassifier\n",
        "\n",
        "from sklearn.model_selection import GridSearchCV\n",
        "from sklearn.model_selection import cross_val_predict\n"
      ]
    },
    {
      "cell_type": "code",
      "execution_count": 4,
      "metadata": {
        "id": "GyLK4b952Iii"
      },
      "outputs": [],
      "source": [
        "RANDOM_STATE = 12345"
      ]
    },
    {
      "cell_type": "markdown",
      "metadata": {
        "id": "J5R9cWn32Iij"
      },
      "source": [
        "### Загрузка данных и ознакомление с ними"
      ]
    },
    {
      "cell_type": "code",
      "execution_count": 5,
      "metadata": {
        "colab": {
          "base_uri": "https://localhost:8080/"
        },
        "id": "LYxhPfAB2l5S",
        "outputId": "a2ed51a1-f9d8-4ce8-d61c-bc1a43c72d40"
      },
      "outputs": [
        {
          "output_type": "stream",
          "name": "stdout",
          "text": [
            "Mounted at /content/drive/\n"
          ]
        }
      ],
      "source": [
        "from google.colab import drive   # подключение гугл-диска\n",
        "drive.mount('/content/drive/')"
      ]
    },
    {
      "cell_type": "code",
      "execution_count": 6,
      "metadata": {
        "id": "Lf9HqKgL2Iij"
      },
      "outputs": [],
      "source": [
        "df_text = pd.read_csv('/content/drive/MyDrive/_PYTHON/YandexPracticum/Comment_classification/toxic_comments.csv') # загрузка данных"
      ]
    },
    {
      "cell_type": "code",
      "execution_count": 7,
      "metadata": {
        "colab": {
          "base_uri": "https://localhost:8080/"
        },
        "id": "qtBYeK-22Iij",
        "outputId": "ed419503-61c5-44cf-a915-7a48b2d8e504"
      },
      "outputs": [
        {
          "output_type": "execute_result",
          "data": {
            "text/plain": [
              "(159292, 3)"
            ]
          },
          "metadata": {},
          "execution_count": 7
        }
      ],
      "source": [
        "df_text.shape # почти 160 тысяч комментариев"
      ]
    },
    {
      "cell_type": "code",
      "execution_count": 8,
      "metadata": {
        "colab": {
          "base_uri": "https://localhost:8080/",
          "height": 206
        },
        "id": "iexvHS412Iij",
        "outputId": "6200fc54-23c0-445e-b496-8c4f91f87998",
        "scrolled": false
      },
      "outputs": [
        {
          "output_type": "execute_result",
          "data": {
            "text/plain": [
              "   Unnamed: 0                                               text  toxic\n",
              "0           0  Explanation\\nWhy the edits made under my usern...      0\n",
              "1           1  D'aww! He matches this background colour I'm s...      0\n",
              "2           2  Hey man, I'm really not trying to edit war. It...      0\n",
              "3           3  \"\\nMore\\nI can't make any real suggestions on ...      0\n",
              "4           4  You, sir, are my hero. Any chance you remember...      0"
            ],
            "text/html": [
              "\n",
              "  <div id=\"df-dfd8bf4f-c0e0-4e95-8df7-fe33a5936a85\">\n",
              "    <div class=\"colab-df-container\">\n",
              "      <div>\n",
              "<style scoped>\n",
              "    .dataframe tbody tr th:only-of-type {\n",
              "        vertical-align: middle;\n",
              "    }\n",
              "\n",
              "    .dataframe tbody tr th {\n",
              "        vertical-align: top;\n",
              "    }\n",
              "\n",
              "    .dataframe thead th {\n",
              "        text-align: right;\n",
              "    }\n",
              "</style>\n",
              "<table border=\"1\" class=\"dataframe\">\n",
              "  <thead>\n",
              "    <tr style=\"text-align: right;\">\n",
              "      <th></th>\n",
              "      <th>Unnamed: 0</th>\n",
              "      <th>text</th>\n",
              "      <th>toxic</th>\n",
              "    </tr>\n",
              "  </thead>\n",
              "  <tbody>\n",
              "    <tr>\n",
              "      <th>0</th>\n",
              "      <td>0</td>\n",
              "      <td>Explanation\\nWhy the edits made under my usern...</td>\n",
              "      <td>0</td>\n",
              "    </tr>\n",
              "    <tr>\n",
              "      <th>1</th>\n",
              "      <td>1</td>\n",
              "      <td>D'aww! He matches this background colour I'm s...</td>\n",
              "      <td>0</td>\n",
              "    </tr>\n",
              "    <tr>\n",
              "      <th>2</th>\n",
              "      <td>2</td>\n",
              "      <td>Hey man, I'm really not trying to edit war. It...</td>\n",
              "      <td>0</td>\n",
              "    </tr>\n",
              "    <tr>\n",
              "      <th>3</th>\n",
              "      <td>3</td>\n",
              "      <td>\"\\nMore\\nI can't make any real suggestions on ...</td>\n",
              "      <td>0</td>\n",
              "    </tr>\n",
              "    <tr>\n",
              "      <th>4</th>\n",
              "      <td>4</td>\n",
              "      <td>You, sir, are my hero. Any chance you remember...</td>\n",
              "      <td>0</td>\n",
              "    </tr>\n",
              "  </tbody>\n",
              "</table>\n",
              "</div>\n",
              "      <button class=\"colab-df-convert\" onclick=\"convertToInteractive('df-dfd8bf4f-c0e0-4e95-8df7-fe33a5936a85')\"\n",
              "              title=\"Convert this dataframe to an interactive table.\"\n",
              "              style=\"display:none;\">\n",
              "        \n",
              "  <svg xmlns=\"http://www.w3.org/2000/svg\" height=\"24px\"viewBox=\"0 0 24 24\"\n",
              "       width=\"24px\">\n",
              "    <path d=\"M0 0h24v24H0V0z\" fill=\"none\"/>\n",
              "    <path d=\"M18.56 5.44l.94 2.06.94-2.06 2.06-.94-2.06-.94-.94-2.06-.94 2.06-2.06.94zm-11 1L8.5 8.5l.94-2.06 2.06-.94-2.06-.94L8.5 2.5l-.94 2.06-2.06.94zm10 10l.94 2.06.94-2.06 2.06-.94-2.06-.94-.94-2.06-.94 2.06-2.06.94z\"/><path d=\"M17.41 7.96l-1.37-1.37c-.4-.4-.92-.59-1.43-.59-.52 0-1.04.2-1.43.59L10.3 9.45l-7.72 7.72c-.78.78-.78 2.05 0 2.83L4 21.41c.39.39.9.59 1.41.59.51 0 1.02-.2 1.41-.59l7.78-7.78 2.81-2.81c.8-.78.8-2.07 0-2.86zM5.41 20L4 18.59l7.72-7.72 1.47 1.35L5.41 20z\"/>\n",
              "  </svg>\n",
              "      </button>\n",
              "      \n",
              "  <style>\n",
              "    .colab-df-container {\n",
              "      display:flex;\n",
              "      flex-wrap:wrap;\n",
              "      gap: 12px;\n",
              "    }\n",
              "\n",
              "    .colab-df-convert {\n",
              "      background-color: #E8F0FE;\n",
              "      border: none;\n",
              "      border-radius: 50%;\n",
              "      cursor: pointer;\n",
              "      display: none;\n",
              "      fill: #1967D2;\n",
              "      height: 32px;\n",
              "      padding: 0 0 0 0;\n",
              "      width: 32px;\n",
              "    }\n",
              "\n",
              "    .colab-df-convert:hover {\n",
              "      background-color: #E2EBFA;\n",
              "      box-shadow: 0px 1px 2px rgba(60, 64, 67, 0.3), 0px 1px 3px 1px rgba(60, 64, 67, 0.15);\n",
              "      fill: #174EA6;\n",
              "    }\n",
              "\n",
              "    [theme=dark] .colab-df-convert {\n",
              "      background-color: #3B4455;\n",
              "      fill: #D2E3FC;\n",
              "    }\n",
              "\n",
              "    [theme=dark] .colab-df-convert:hover {\n",
              "      background-color: #434B5C;\n",
              "      box-shadow: 0px 1px 3px 1px rgba(0, 0, 0, 0.15);\n",
              "      filter: drop-shadow(0px 1px 2px rgba(0, 0, 0, 0.3));\n",
              "      fill: #FFFFFF;\n",
              "    }\n",
              "  </style>\n",
              "\n",
              "      <script>\n",
              "        const buttonEl =\n",
              "          document.querySelector('#df-dfd8bf4f-c0e0-4e95-8df7-fe33a5936a85 button.colab-df-convert');\n",
              "        buttonEl.style.display =\n",
              "          google.colab.kernel.accessAllowed ? 'block' : 'none';\n",
              "\n",
              "        async function convertToInteractive(key) {\n",
              "          const element = document.querySelector('#df-dfd8bf4f-c0e0-4e95-8df7-fe33a5936a85');\n",
              "          const dataTable =\n",
              "            await google.colab.kernel.invokeFunction('convertToInteractive',\n",
              "                                                     [key], {});\n",
              "          if (!dataTable) return;\n",
              "\n",
              "          const docLinkHtml = 'Like what you see? Visit the ' +\n",
              "            '<a target=\"_blank\" href=https://colab.research.google.com/notebooks/data_table.ipynb>data table notebook</a>'\n",
              "            + ' to learn more about interactive tables.';\n",
              "          element.innerHTML = '';\n",
              "          dataTable['output_type'] = 'display_data';\n",
              "          await google.colab.output.renderOutput(dataTable, element);\n",
              "          const docLink = document.createElement('div');\n",
              "          docLink.innerHTML = docLinkHtml;\n",
              "          element.appendChild(docLink);\n",
              "        }\n",
              "      </script>\n",
              "    </div>\n",
              "  </div>\n",
              "  "
            ]
          },
          "metadata": {},
          "execution_count": 8
        }
      ],
      "source": [
        "df_text.head()"
      ]
    },
    {
      "cell_type": "markdown",
      "metadata": {
        "id": "mOxVXD3Q2Iij"
      },
      "source": [
        "Комментарии необходимо лемматизировать и токенизировать перед тем, как строить модели"
      ]
    },
    {
      "cell_type": "code",
      "execution_count": 9,
      "metadata": {
        "colab": {
          "base_uri": "https://localhost:8080/",
          "height": 300
        },
        "id": "eUPP4IGK2Iik",
        "outputId": "a65922cf-b7c4-4de5-e7d6-0db815dfaeed",
        "scrolled": true
      },
      "outputs": [
        {
          "output_type": "execute_result",
          "data": {
            "text/plain": [
              "          Unnamed: 0          toxic\n",
              "count  159292.000000  159292.000000\n",
              "mean    79725.697242       0.101612\n",
              "std     46028.837471       0.302139\n",
              "min         0.000000       0.000000\n",
              "25%     39872.750000       0.000000\n",
              "50%     79721.500000       0.000000\n",
              "75%    119573.250000       0.000000\n",
              "max    159450.000000       1.000000"
            ],
            "text/html": [
              "\n",
              "  <div id=\"df-98a0b441-85d4-4c37-a6b5-198ad31c6794\">\n",
              "    <div class=\"colab-df-container\">\n",
              "      <div>\n",
              "<style scoped>\n",
              "    .dataframe tbody tr th:only-of-type {\n",
              "        vertical-align: middle;\n",
              "    }\n",
              "\n",
              "    .dataframe tbody tr th {\n",
              "        vertical-align: top;\n",
              "    }\n",
              "\n",
              "    .dataframe thead th {\n",
              "        text-align: right;\n",
              "    }\n",
              "</style>\n",
              "<table border=\"1\" class=\"dataframe\">\n",
              "  <thead>\n",
              "    <tr style=\"text-align: right;\">\n",
              "      <th></th>\n",
              "      <th>Unnamed: 0</th>\n",
              "      <th>toxic</th>\n",
              "    </tr>\n",
              "  </thead>\n",
              "  <tbody>\n",
              "    <tr>\n",
              "      <th>count</th>\n",
              "      <td>159292.000000</td>\n",
              "      <td>159292.000000</td>\n",
              "    </tr>\n",
              "    <tr>\n",
              "      <th>mean</th>\n",
              "      <td>79725.697242</td>\n",
              "      <td>0.101612</td>\n",
              "    </tr>\n",
              "    <tr>\n",
              "      <th>std</th>\n",
              "      <td>46028.837471</td>\n",
              "      <td>0.302139</td>\n",
              "    </tr>\n",
              "    <tr>\n",
              "      <th>min</th>\n",
              "      <td>0.000000</td>\n",
              "      <td>0.000000</td>\n",
              "    </tr>\n",
              "    <tr>\n",
              "      <th>25%</th>\n",
              "      <td>39872.750000</td>\n",
              "      <td>0.000000</td>\n",
              "    </tr>\n",
              "    <tr>\n",
              "      <th>50%</th>\n",
              "      <td>79721.500000</td>\n",
              "      <td>0.000000</td>\n",
              "    </tr>\n",
              "    <tr>\n",
              "      <th>75%</th>\n",
              "      <td>119573.250000</td>\n",
              "      <td>0.000000</td>\n",
              "    </tr>\n",
              "    <tr>\n",
              "      <th>max</th>\n",
              "      <td>159450.000000</td>\n",
              "      <td>1.000000</td>\n",
              "    </tr>\n",
              "  </tbody>\n",
              "</table>\n",
              "</div>\n",
              "      <button class=\"colab-df-convert\" onclick=\"convertToInteractive('df-98a0b441-85d4-4c37-a6b5-198ad31c6794')\"\n",
              "              title=\"Convert this dataframe to an interactive table.\"\n",
              "              style=\"display:none;\">\n",
              "        \n",
              "  <svg xmlns=\"http://www.w3.org/2000/svg\" height=\"24px\"viewBox=\"0 0 24 24\"\n",
              "       width=\"24px\">\n",
              "    <path d=\"M0 0h24v24H0V0z\" fill=\"none\"/>\n",
              "    <path d=\"M18.56 5.44l.94 2.06.94-2.06 2.06-.94-2.06-.94-.94-2.06-.94 2.06-2.06.94zm-11 1L8.5 8.5l.94-2.06 2.06-.94-2.06-.94L8.5 2.5l-.94 2.06-2.06.94zm10 10l.94 2.06.94-2.06 2.06-.94-2.06-.94-.94-2.06-.94 2.06-2.06.94z\"/><path d=\"M17.41 7.96l-1.37-1.37c-.4-.4-.92-.59-1.43-.59-.52 0-1.04.2-1.43.59L10.3 9.45l-7.72 7.72c-.78.78-.78 2.05 0 2.83L4 21.41c.39.39.9.59 1.41.59.51 0 1.02-.2 1.41-.59l7.78-7.78 2.81-2.81c.8-.78.8-2.07 0-2.86zM5.41 20L4 18.59l7.72-7.72 1.47 1.35L5.41 20z\"/>\n",
              "  </svg>\n",
              "      </button>\n",
              "      \n",
              "  <style>\n",
              "    .colab-df-container {\n",
              "      display:flex;\n",
              "      flex-wrap:wrap;\n",
              "      gap: 12px;\n",
              "    }\n",
              "\n",
              "    .colab-df-convert {\n",
              "      background-color: #E8F0FE;\n",
              "      border: none;\n",
              "      border-radius: 50%;\n",
              "      cursor: pointer;\n",
              "      display: none;\n",
              "      fill: #1967D2;\n",
              "      height: 32px;\n",
              "      padding: 0 0 0 0;\n",
              "      width: 32px;\n",
              "    }\n",
              "\n",
              "    .colab-df-convert:hover {\n",
              "      background-color: #E2EBFA;\n",
              "      box-shadow: 0px 1px 2px rgba(60, 64, 67, 0.3), 0px 1px 3px 1px rgba(60, 64, 67, 0.15);\n",
              "      fill: #174EA6;\n",
              "    }\n",
              "\n",
              "    [theme=dark] .colab-df-convert {\n",
              "      background-color: #3B4455;\n",
              "      fill: #D2E3FC;\n",
              "    }\n",
              "\n",
              "    [theme=dark] .colab-df-convert:hover {\n",
              "      background-color: #434B5C;\n",
              "      box-shadow: 0px 1px 3px 1px rgba(0, 0, 0, 0.15);\n",
              "      filter: drop-shadow(0px 1px 2px rgba(0, 0, 0, 0.3));\n",
              "      fill: #FFFFFF;\n",
              "    }\n",
              "  </style>\n",
              "\n",
              "      <script>\n",
              "        const buttonEl =\n",
              "          document.querySelector('#df-98a0b441-85d4-4c37-a6b5-198ad31c6794 button.colab-df-convert');\n",
              "        buttonEl.style.display =\n",
              "          google.colab.kernel.accessAllowed ? 'block' : 'none';\n",
              "\n",
              "        async function convertToInteractive(key) {\n",
              "          const element = document.querySelector('#df-98a0b441-85d4-4c37-a6b5-198ad31c6794');\n",
              "          const dataTable =\n",
              "            await google.colab.kernel.invokeFunction('convertToInteractive',\n",
              "                                                     [key], {});\n",
              "          if (!dataTable) return;\n",
              "\n",
              "          const docLinkHtml = 'Like what you see? Visit the ' +\n",
              "            '<a target=\"_blank\" href=https://colab.research.google.com/notebooks/data_table.ipynb>data table notebook</a>'\n",
              "            + ' to learn more about interactive tables.';\n",
              "          element.innerHTML = '';\n",
              "          dataTable['output_type'] = 'display_data';\n",
              "          await google.colab.output.renderOutput(dataTable, element);\n",
              "          const docLink = document.createElement('div');\n",
              "          docLink.innerHTML = docLinkHtml;\n",
              "          element.appendChild(docLink);\n",
              "        }\n",
              "      </script>\n",
              "    </div>\n",
              "  </div>\n",
              "  "
            ]
          },
          "metadata": {},
          "execution_count": 9
        }
      ],
      "source": [
        "df_text.describe()"
      ]
    },
    {
      "cell_type": "markdown",
      "metadata": {
        "id": "RmF8vDQp2Iik"
      },
      "source": [
        "`Unnamed: 0\t` бесполезный столбец, удалю его"
      ]
    },
    {
      "cell_type": "code",
      "execution_count": 10,
      "metadata": {
        "id": "_9vi-dwe2Iik"
      },
      "outputs": [],
      "source": [
        "df_text = df_text.drop(columns='Unnamed: 0')"
      ]
    },
    {
      "cell_type": "code",
      "execution_count": 11,
      "metadata": {
        "colab": {
          "base_uri": "https://localhost:8080/"
        },
        "id": "JkyY92cc2Iik",
        "outputId": "622c004c-e765-4fba-fb73-fa1d6de19093"
      },
      "outputs": [
        {
          "output_type": "stream",
          "name": "stdout",
          "text": [
            "<class 'pandas.core.frame.DataFrame'>\n",
            "RangeIndex: 159292 entries, 0 to 159291\n",
            "Data columns (total 2 columns):\n",
            " #   Column  Non-Null Count   Dtype \n",
            "---  ------  --------------   ----- \n",
            " 0   text    159292 non-null  object\n",
            " 1   toxic   159292 non-null  int64 \n",
            "dtypes: int64(1), object(1)\n",
            "memory usage: 2.4+ MB\n"
          ]
        }
      ],
      "source": [
        "df_text.info()"
      ]
    },
    {
      "cell_type": "code",
      "execution_count": 12,
      "metadata": {
        "colab": {
          "base_uri": "https://localhost:8080/"
        },
        "id": "U3bbTTvv2Iil",
        "outputId": "5f4f0dac-60b5-4887-b613-bfb9ed200290"
      },
      "outputs": [
        {
          "output_type": "execute_result",
          "data": {
            "text/plain": [
              "array([0, 1])"
            ]
          },
          "metadata": {},
          "execution_count": 12
        }
      ],
      "source": [
        "df_text.toxic.unique() # всё верно, всего два значения 1 - токсичный, 0 - нормальный"
      ]
    },
    {
      "cell_type": "code",
      "execution_count": 13,
      "metadata": {
        "id": "Lfu-DrTI2Iil"
      },
      "outputs": [],
      "source": [
        "def balance(data):\n",
        "    data.value_counts(normalize=True).plot(kind='pie', autopct='%1.1f%%', labels=['Токсичный','Не токсичный'])\n",
        "    plt.title('Баланс распределения классов в данных')\n",
        "    plt.ylabel('')\n",
        "    plt.show()    "
      ]
    },
    {
      "cell_type": "code",
      "execution_count": 14,
      "metadata": {
        "colab": {
          "base_uri": "https://localhost:8080/",
          "height": 264
        },
        "id": "BIYqzd_32Iil",
        "outputId": "b9a143b0-ed41-4e81-e1c9-71ad0efbd325"
      },
      "outputs": [
        {
          "output_type": "display_data",
          "data": {
            "text/plain": [
              "<Figure size 432x288 with 1 Axes>"
            ],
            "image/png": "[encoded data removed]"
          },
          "metadata": {}
        }
      ],
      "source": [
        "data = df_text.iloc[:,1]\n",
        "balance(data)"
      ]
    },
    {
      "cell_type": "markdown",
      "metadata": {
        "id": "aKAxXNW52Iim"
      },
      "source": [
        "Видим дисбаланс классов 9 к 1, что плохо повлияет на обучение моделей. Необходимо сбалансировать классы"
      ]
    },
    {
      "cell_type": "markdown",
      "metadata": {
        "id": "0k2mX3k82Iim"
      },
      "source": [
        "### Лемматизация"
      ]
    },
    {
      "cell_type": "code",
      "execution_count": 15,
      "metadata": {
        "id": "wpgBBZlH2Iim"
      },
      "outputs": [],
      "source": [
        "corpus = list(df_text['text'])  # корпус слов"
      ]
    },
    {
      "cell_type": "code",
      "execution_count": 16,
      "metadata": {
        "colab": {
          "base_uri": "https://localhost:8080/"
        },
        "id": "iABXfR-o2Iim",
        "outputId": "769220b4-3f63-4939-ce22-eef325597581"
      },
      "outputs": [
        {
          "output_type": "stream",
          "name": "stderr",
          "text": [
            "[nltk_data] Downloading package wordnet to /root/nltk_data...\n"
          ]
        },
        {
          "output_type": "execute_result",
          "data": {
            "text/plain": [
              "True"
            ]
          },
          "metadata": {},
          "execution_count": 16
        }
      ],
      "source": [
        "nltk.download('wordnet') # загрузка библиотеки для обработки слов"
      ]
    },
    {
      "cell_type": "code",
      "execution_count": 17,
      "metadata": {
        "colab": {
          "base_uri": "https://localhost:8080/"
        },
        "id": "6cZcu2IY2Iin",
        "outputId": "28356744-bd48-4f2a-d9ec-ae952fa8e807"
      },
      "outputs": [
        {
          "output_type": "stream",
          "name": "stderr",
          "text": [
            "[nltk_data] Downloading package averaged_perceptron_tagger to\n",
            "[nltk_data]     /root/nltk_data...\n",
            "[nltk_data]   Unzipping taggers/averaged_perceptron_tagger.zip.\n"
          ]
        },
        {
          "output_type": "execute_result",
          "data": {
            "text/plain": [
              "True"
            ]
          },
          "metadata": {},
          "execution_count": 17
        }
      ],
      "source": [
        "nltk.download('averaged_perceptron_tagger') # загрузка разметчика частей речи"
      ]
    },
    {
      "cell_type": "code",
      "source": [
        "nltk.download('punkt') # загрузка модели, которая будет делить на предложения"
      ],
      "metadata": {
        "colab": {
          "base_uri": "https://localhost:8080/"
        },
        "id": "YLTXrkL7qrqK",
        "outputId": "06182b44-c426-4f34-a775-84f571ca414a"
      },
      "execution_count": 23,
      "outputs": [
        {
          "output_type": "stream",
          "name": "stderr",
          "text": [
            "[nltk_data] Downloading package punkt to /root/nltk_data...\n",
            "[nltk_data]   Unzipping tokenizers/punkt.zip.\n"
          ]
        },
        {
          "output_type": "execute_result",
          "data": {
            "text/plain": [
              "True"
            ]
          },
          "metadata": {},
          "execution_count": 23
        }
      ]
    },
    {
      "cell_type": "code",
      "execution_count": 18,
      "metadata": {
        "id": "qLhpjAT82Iin"
      },
      "outputs": [],
      "source": [
        "lemmatizer = WordNetLemmatizer() # создаем объект лемматайзер"
      ]
    },
    {
      "cell_type": "code",
      "execution_count": 19,
      "metadata": {
        "id": "w2KrrCcn2Iin"
      },
      "outputs": [],
      "source": [
        "def clear_text(text):            # функция по очистке текста от всего кроме букв и пробелов\n",
        "    y=re.sub(r\"[^'a-zA-Z ]\", ' ', text) \n",
        "    k=\" \".join(y.split())\n",
        "    return k"
      ]
    },
    {
      "cell_type": "code",
      "execution_count": 20,
      "metadata": {
        "id": "GgnMkyUB2Iin"
      },
      "outputs": [],
      "source": [
        "def get_wordnet_pos(word):       # функция определения тегов для слова\n",
        "    tag = nltk.pos_tag([word])[0][1][0].upper()\n",
        "    tag_dict = {\"J\": wordnet.ADJ,\n",
        "                \"N\": wordnet.NOUN,\n",
        "                \"V\": wordnet.VERB,\n",
        "                \"R\": wordnet.ADV}\n",
        "    return tag_dict.get(tag, wordnet.NOUN)"
      ]
    },
    {
      "cell_type": "code",
      "execution_count": 25,
      "metadata": {
        "colab": {
          "base_uri": "https://localhost:8080/"
        },
        "id": "l7Nf80lU2Iio",
        "outputId": "0def8eca-0f85-46d3-cc2e-8a1c735c3b8a"
      },
      "outputs": [
        {
          "output_type": "stream",
          "name": "stdout",
          "text": [
            "['The', 'strip', 'bat', 'be', 'hang', 'on', 'their', 'foot', 'for', 'best']\n"
          ]
        }
      ],
      "source": [
        "test = \"The striped bats are hanging on their feet for best\"  # проверка\n",
        "print([lemmatizer.lemmatize(w, get_wordnet_pos(w)) for w in nltk.word_tokenize(test)])"
      ]
    },
    {
      "cell_type": "code",
      "execution_count": 26,
      "metadata": {
        "id": "MbNuD5gU2Iio"
      },
      "outputs": [],
      "source": [
        "def lemma_func(text1):       # функция лемматизации\n",
        "    k=[]\n",
        "    for i in nltk.word_tokenize(text1):\n",
        "        y=lemmatizer.lemmatize(i, get_wordnet_pos(i))\n",
        "        k.append(y)\n",
        "    return ' '.join(k) "
      ]
    },
    {
      "cell_type": "code",
      "execution_count": 27,
      "metadata": {
        "id": "Bvy4IMVi2Iio",
        "scrolled": true
      },
      "outputs": [],
      "source": [
        "def lemma_text(corpus):          # функция лемматизации и отчистки текста\n",
        "    lemma=[]\n",
        "    for i in tqdm(range(len(corpus))):\n",
        "        lemma.append(lemma_func(clear_text(corpus[i])))\n",
        "    return pd.Series(lemma, index=df_text.index)"
      ]
    },
    {
      "cell_type": "code",
      "execution_count": 29,
      "metadata": {
        "colab": {
          "base_uri": "https://localhost:8080/",
          "height": 84,
          "referenced_widgets": [
            "fb2a2f8245ab45e79d67128dd930c279",
            "90c62404540a4f63a1b9ebb705d7387c",
            "cbf6712fb045422ba3acfea398dde03d",
            "5797708a58a242a0a35dbea1938ab05d",
            "daf94b9ec2eb4968bec2585c595ebd39",
            "5e3739a448ed4c238db3efe24f524d5b",
            "0b960fba90a94da4ba7deaecf7edf639",
            "7fbf6235e81040b18635cc67c4cd1d72",
            "60007bfafaac47c6b7f5e7e6ee153039",
            "5cb88f99f2c144e8935d06f52c140d6f",
            "05c42b0e4a6a45aa9e330345705e302d"
          ]
        },
        "id": "-_G3lmN92Iip",
        "outputId": "bc83e057-6f3d-4cf5-ecb7-b33721acfc3f",
        "scrolled": true
      },
      "outputs": [
        {
          "output_type": "display_data",
          "data": {
            "text/plain": [
              "  0%|          | 0/159292 [00:00<?, ?it/s]"
            ],
            "application/vnd.jupyter.widget-view+json": {
              "version_major": 2,
              "version_minor": 0,
              "model_id": "fb2a2f8245ab45e79d67128dd930c279"
            }
          },
          "metadata": {}
        },
        {
          "output_type": "stream",
          "name": "stdout",
          "text": [
            "CPU times: user 24min 56s, sys: 1min 35s, total: 26min 31s\n",
            "Wall time: 28min 3s\n"
          ]
        }
      ],
      "source": [
        "%%time\n",
        "df_text['lemma_text'] = lemma_text(corpus)"
      ]
    },
    {
      "cell_type": "code",
      "execution_count": 40,
      "metadata": {
        "id": "YxqLbeqc2Iir",
        "outputId": "b6681485-1191-4d8c-8a21-59fdd64822e5",
        "scrolled": true,
        "colab": {
          "base_uri": "https://localhost:8080/",
          "height": 206
        }
      },
      "outputs": [
        {
          "output_type": "execute_result",
          "data": {
            "text/plain": [
              "                                                text  toxic  \\\n",
              "0  Explanation\\nWhy the edits made under my usern...      0   \n",
              "1  D'aww! He matches this background colour I'm s...      0   \n",
              "2  Hey man, I'm really not trying to edit war. It...      0   \n",
              "3  \"\\nMore\\nI can't make any real suggestions on ...      0   \n",
              "4  You, sir, are my hero. Any chance you remember...      0   \n",
              "\n",
              "                                          lemma_text  \n",
              "0  Explanation Why the edits make under my userna...  \n",
              "1  D'aww He match this background colour I 'm see...  \n",
              "2  Hey man I 'm really not try to edit war It 's ...  \n",
              "3  More I ca n't make any real suggestion on impr...  \n",
              "4  You sir be my hero Any chance you remember wha...  "
            ],
            "text/html": [
              "\n",
              "  <div id=\"df-94d7df79-1427-40d7-8636-fb9b369c14dd\">\n",
              "    <div class=\"colab-df-container\">\n",
              "      <div>\n",
              "<style scoped>\n",
              "    .dataframe tbody tr th:only-of-type {\n",
              "        vertical-align: middle;\n",
              "    }\n",
              "\n",
              "    .dataframe tbody tr th {\n",
              "        vertical-align: top;\n",
              "    }\n",
              "\n",
              "    .dataframe thead th {\n",
              "        text-align: right;\n",
              "    }\n",
              "</style>\n",
              "<table border=\"1\" class=\"dataframe\">\n",
              "  <thead>\n",
              "    <tr style=\"text-align: right;\">\n",
              "      <th></th>\n",
              "      <th>text</th>\n",
              "      <th>toxic</th>\n",
              "      <th>lemma_text</th>\n",
              "    </tr>\n",
              "  </thead>\n",
              "  <tbody>\n",
              "    <tr>\n",
              "      <th>0</th>\n",
              "      <td>Explanation\\nWhy the edits made under my usern...</td>\n",
              "      <td>0</td>\n",
              "      <td>Explanation Why the edits make under my userna...</td>\n",
              "    </tr>\n",
              "    <tr>\n",
              "      <th>1</th>\n",
              "      <td>D'aww! He matches this background colour I'm s...</td>\n",
              "      <td>0</td>\n",
              "      <td>D'aww He match this background colour I 'm see...</td>\n",
              "    </tr>\n",
              "    <tr>\n",
              "      <th>2</th>\n",
              "      <td>Hey man, I'm really not trying to edit war. It...</td>\n",
              "      <td>0</td>\n",
              "      <td>Hey man I 'm really not try to edit war It 's ...</td>\n",
              "    </tr>\n",
              "    <tr>\n",
              "      <th>3</th>\n",
              "      <td>\"\\nMore\\nI can't make any real suggestions on ...</td>\n",
              "      <td>0</td>\n",
              "      <td>More I ca n't make any real suggestion on impr...</td>\n",
              "    </tr>\n",
              "    <tr>\n",
              "      <th>4</th>\n",
              "      <td>You, sir, are my hero. Any chance you remember...</td>\n",
              "      <td>0</td>\n",
              "      <td>You sir be my hero Any chance you remember wha...</td>\n",
              "    </tr>\n",
              "  </tbody>\n",
              "</table>\n",
              "</div>\n",
              "      <button class=\"colab-df-convert\" onclick=\"convertToInteractive('df-94d7df79-1427-40d7-8636-fb9b369c14dd')\"\n",
              "              title=\"Convert this dataframe to an interactive table.\"\n",
              "              style=\"display:none;\">\n",
              "        \n",
              "  <svg xmlns=\"http://www.w3.org/2000/svg\" height=\"24px\"viewBox=\"0 0 24 24\"\n",
              "       width=\"24px\">\n",
              "    <path d=\"M0 0h24v24H0V0z\" fill=\"none\"/>\n",
              "    <path d=\"M18.56 5.44l.94 2.06.94-2.06 2.06-.94-2.06-.94-.94-2.06-.94 2.06-2.06.94zm-11 1L8.5 8.5l.94-2.06 2.06-.94-2.06-.94L8.5 2.5l-.94 2.06-2.06.94zm10 10l.94 2.06.94-2.06 2.06-.94-2.06-.94-.94-2.06-.94 2.06-2.06.94z\"/><path d=\"M17.41 7.96l-1.37-1.37c-.4-.4-.92-.59-1.43-.59-.52 0-1.04.2-1.43.59L10.3 9.45l-7.72 7.72c-.78.78-.78 2.05 0 2.83L4 21.41c.39.39.9.59 1.41.59.51 0 1.02-.2 1.41-.59l7.78-7.78 2.81-2.81c.8-.78.8-2.07 0-2.86zM5.41 20L4 18.59l7.72-7.72 1.47 1.35L5.41 20z\"/>\n",
              "  </svg>\n",
              "      </button>\n",
              "      \n",
              "  <style>\n",
              "    .colab-df-container {\n",
              "      display:flex;\n",
              "      flex-wrap:wrap;\n",
              "      gap: 12px;\n",
              "    }\n",
              "\n",
              "    .colab-df-convert {\n",
              "      background-color: #E8F0FE;\n",
              "      border: none;\n",
              "      border-radius: 50%;\n",
              "      cursor: pointer;\n",
              "      display: none;\n",
              "      fill: #1967D2;\n",
              "      height: 32px;\n",
              "      padding: 0 0 0 0;\n",
              "      width: 32px;\n",
              "    }\n",
              "\n",
              "    .colab-df-convert:hover {\n",
              "      background-color: #E2EBFA;\n",
              "      box-shadow: 0px 1px 2px rgba(60, 64, 67, 0.3), 0px 1px 3px 1px rgba(60, 64, 67, 0.15);\n",
              "      fill: #174EA6;\n",
              "    }\n",
              "\n",
              "    [theme=dark] .colab-df-convert {\n",
              "      background-color: #3B4455;\n",
              "      fill: #D2E3FC;\n",
              "    }\n",
              "\n",
              "    [theme=dark] .colab-df-convert:hover {\n",
              "      background-color: #434B5C;\n",
              "      box-shadow: 0px 1px 3px 1px rgba(0, 0, 0, 0.15);\n",
              "      filter: drop-shadow(0px 1px 2px rgba(0, 0, 0, 0.3));\n",
              "      fill: #FFFFFF;\n",
              "    }\n",
              "  </style>\n",
              "\n",
              "      <script>\n",
              "        const buttonEl =\n",
              "          document.querySelector('#df-94d7df79-1427-40d7-8636-fb9b369c14dd button.colab-df-convert');\n",
              "        buttonEl.style.display =\n",
              "          google.colab.kernel.accessAllowed ? 'block' : 'none';\n",
              "\n",
              "        async function convertToInteractive(key) {\n",
              "          const element = document.querySelector('#df-94d7df79-1427-40d7-8636-fb9b369c14dd');\n",
              "          const dataTable =\n",
              "            await google.colab.kernel.invokeFunction('convertToInteractive',\n",
              "                                                     [key], {});\n",
              "          if (!dataTable) return;\n",
              "\n",
              "          const docLinkHtml = 'Like what you see? Visit the ' +\n",
              "            '<a target=\"_blank\" href=https://colab.research.google.com/notebooks/data_table.ipynb>data table notebook</a>'\n",
              "            + ' to learn more about interactive tables.';\n",
              "          element.innerHTML = '';\n",
              "          dataTable['output_type'] = 'display_data';\n",
              "          await google.colab.output.renderOutput(dataTable, element);\n",
              "          const docLink = document.createElement('div');\n",
              "          docLink.innerHTML = docLinkHtml;\n",
              "          element.appendChild(docLink);\n",
              "        }\n",
              "      </script>\n",
              "    </div>\n",
              "  </div>\n",
              "  "
            ]
          },
          "metadata": {},
          "execution_count": 40
        }
      ],
      "source": [
        "df_text.head() # посмотрим, как отработала функция лемматизации"
      ]
    },
    {
      "cell_type": "markdown",
      "metadata": {
        "id": "9bKqIXtn2Iir"
      },
      "source": [
        "### Разделение на выборки"
      ]
    },
    {
      "cell_type": "code",
      "execution_count": 41,
      "metadata": {
        "id": "6tNVwI9-2Iis"
      },
      "outputs": [],
      "source": [
        "features_train, target_train, features_valid, target_valid, features_test, target_test = train_valid_test_split(\n",
        "    df_text, target = 'toxic', train_size=0.8, valid_size=0.1, test_size=0.1, random_state=RANDOM_STATE) # на три выборки"
      ]
    },
    {
      "cell_type": "code",
      "execution_count": 42,
      "metadata": {
        "id": "sJ0vTDVm2Iis",
        "outputId": "83631aa1-dad0-407e-b005-03e6b70339c7",
        "scrolled": false,
        "colab": {
          "base_uri": "https://localhost:8080/"
        }
      },
      "outputs": [
        {
          "output_type": "stream",
          "name": "stdout",
          "text": [
            "Размер тренировочной выборки- 80%\n",
            "Размер валидационной выборки - 10%\n",
            "Размер тестовой выборки - 10%\n"
          ]
        }
      ],
      "source": [
        "print('Размер тренировочной выборки- {:.0%}'.format(features_train.shape[0]/df_text.shape[0]))\n",
        "print('Размер валидационной выборки - {:.0%}'.format(features_valid.shape[0]/df_text.shape[0]))\n",
        "print('Размер тестовой выборки - {:.0%}'.format(features_test.shape[0]/df_text.shape[0]))"
      ]
    },
    {
      "cell_type": "code",
      "execution_count": 43,
      "metadata": {
        "id": "Uk2FOJST2Iiv",
        "outputId": "67f96526-756b-42b0-c9a0-7a3990287839",
        "scrolled": true,
        "colab": {
          "base_uri": "https://localhost:8080/"
        }
      },
      "outputs": [
        {
          "output_type": "stream",
          "name": "stderr",
          "text": [
            "[nltk_data] Downloading package stopwords to /root/nltk_data...\n",
            "[nltk_data]   Package stopwords is already up-to-date!\n"
          ]
        }
      ],
      "source": [
        "nltk.download('stopwords') # библиотека и стоп-слова из английского языка\n",
        "stop_words = set(nltk_stopwords.words('english')) "
      ]
    },
    {
      "cell_type": "code",
      "execution_count": 44,
      "metadata": {
        "id": "ZelXPwoC2Iiw",
        "outputId": "46b01763-8199-4272-9b97-17a54bd182af",
        "colab": {
          "base_uri": "https://localhost:8080/"
        }
      },
      "outputs": [
        {
          "output_type": "execute_result",
          "data": {
            "text/plain": [
              "(127433,)"
            ]
          },
          "metadata": {},
          "execution_count": 44
        }
      ],
      "source": [
        "corpus_lemm_train = features_train['lemma_text'].values # корпус лемматизированных и очищенных слов\n",
        "corpus_lemm_train.shape"
      ]
    },
    {
      "cell_type": "code",
      "source": [
        "features_train"
      ],
      "metadata": {
        "colab": {
          "base_uri": "https://localhost:8080/",
          "height": 424
        },
        "id": "Sd_bl23A66Y4",
        "outputId": "042a63c5-0f52-4f4f-ba1a-1cd127dc9a42"
      },
      "execution_count": 49,
      "outputs": [
        {
          "output_type": "execute_result",
          "data": {
            "text/plain": [
              "                                                     text  \\\n",
              "97400   Bushranger you're a GRASS with no sense of hum...   \n",
              "4383    \"\\n\\n Need administrative help \\n\\nI have been...   \n",
              "103680  I'd also like to point out that he has used a ...   \n",
              "38573    You cant block me you fucking retard. BRB nigger   \n",
              "128311  I believe that the frequency of the wave needs...   \n",
              "...                                                   ...   \n",
              "109993  Hahaha. ) I dont live in a lie like you and do...   \n",
              "85412                  March 2006 – March 2006]]\\n \\n\\n|}   \n",
              "133249  \"\\n\\nAgreed.  We really should try to stick to...   \n",
              "130333  \"\\n\\n Umm killer \\n\\nDo you not like that he c...   \n",
              "77285   Bradford City \\n\\nI am removing unreferanced c...   \n",
              "\n",
              "                                               lemma_text  \n",
              "97400   Bushranger you 're a GRASS with no sense of hu...  \n",
              "4383    Need administrative help I have be block iniqu...  \n",
              "103680  I 'd also like to point out that he have use a...  \n",
              "38573        You cant block me you fuck retard BRB nigger  \n",
              "128311  I believe that the frequency of the wave need ...  \n",
              "...                                                   ...  \n",
              "109993  Hahaha I dont live in a lie like you and dont ...  \n",
              "85412                                         March March  \n",
              "133249  Agreed We really should try to stick to the su...  \n",
              "130333  Umm killer Do you not like that he copy your w...  \n",
              "77285      Bradford City I be remove unreferanced content  \n",
              "\n",
              "[127433 rows x 2 columns]"
            ],
            "text/html": [
              "\n",
              "  <div id=\"df-f4c96e76-1902-4eac-ac11-160a9ef49e78\">\n",
              "    <div class=\"colab-df-container\">\n",
              "      <div>\n",
              "<style scoped>\n",
              "    .dataframe tbody tr th:only-of-type {\n",
              "        vertical-align: middle;\n",
              "    }\n",
              "\n",
              "    .dataframe tbody tr th {\n",
              "        vertical-align: top;\n",
              "    }\n",
              "\n",
              "    .dataframe thead th {\n",
              "        text-align: right;\n",
              "    }\n",
              "</style>\n",
              "<table border=\"1\" class=\"dataframe\">\n",
              "  <thead>\n",
              "    <tr style=\"text-align: right;\">\n",
              "      <th></th>\n",
              "      <th>text</th>\n",
              "      <th>lemma_text</th>\n",
              "    </tr>\n",
              "  </thead>\n",
              "  <tbody>\n",
              "    <tr>\n",
              "      <th>97400</th>\n",
              "      <td>Bushranger you're a GRASS with no sense of hum...</td>\n",
              "      <td>Bushranger you 're a GRASS with no sense of hu...</td>\n",
              "    </tr>\n",
              "    <tr>\n",
              "      <th>4383</th>\n",
              "      <td>\"\\n\\n Need administrative help \\n\\nI have been...</td>\n",
              "      <td>Need administrative help I have be block iniqu...</td>\n",
              "    </tr>\n",
              "    <tr>\n",
              "      <th>103680</th>\n",
              "      <td>I'd also like to point out that he has used a ...</td>\n",
              "      <td>I 'd also like to point out that he have use a...</td>\n",
              "    </tr>\n",
              "    <tr>\n",
              "      <th>38573</th>\n",
              "      <td>You cant block me you fucking retard. BRB nigger</td>\n",
              "      <td>You cant block me you fuck retard BRB nigger</td>\n",
              "    </tr>\n",
              "    <tr>\n",
              "      <th>128311</th>\n",
              "      <td>I believe that the frequency of the wave needs...</td>\n",
              "      <td>I believe that the frequency of the wave need ...</td>\n",
              "    </tr>\n",
              "    <tr>\n",
              "      <th>...</th>\n",
              "      <td>...</td>\n",
              "      <td>...</td>\n",
              "    </tr>\n",
              "    <tr>\n",
              "      <th>109993</th>\n",
              "      <td>Hahaha. ) I dont live in a lie like you and do...</td>\n",
              "      <td>Hahaha I dont live in a lie like you and dont ...</td>\n",
              "    </tr>\n",
              "    <tr>\n",
              "      <th>85412</th>\n",
              "      <td>March 2006 – March 2006]]\\n \\n\\n|}</td>\n",
              "      <td>March March</td>\n",
              "    </tr>\n",
              "    <tr>\n",
              "      <th>133249</th>\n",
              "      <td>\"\\n\\nAgreed.  We really should try to stick to...</td>\n",
              "      <td>Agreed We really should try to stick to the su...</td>\n",
              "    </tr>\n",
              "    <tr>\n",
              "      <th>130333</th>\n",
              "      <td>\"\\n\\n Umm killer \\n\\nDo you not like that he c...</td>\n",
              "      <td>Umm killer Do you not like that he copy your w...</td>\n",
              "    </tr>\n",
              "    <tr>\n",
              "      <th>77285</th>\n",
              "      <td>Bradford City \\n\\nI am removing unreferanced c...</td>\n",
              "      <td>Bradford City I be remove unreferanced content</td>\n",
              "    </tr>\n",
              "  </tbody>\n",
              "</table>\n",
              "<p>127433 rows × 2 columns</p>\n",
              "</div>\n",
              "      <button class=\"colab-df-convert\" onclick=\"convertToInteractive('df-f4c96e76-1902-4eac-ac11-160a9ef49e78')\"\n",
              "              title=\"Convert this dataframe to an interactive table.\"\n",
              "              style=\"display:none;\">\n",
              "        \n",
              "  <svg xmlns=\"http://www.w3.org/2000/svg\" height=\"24px\"viewBox=\"0 0 24 24\"\n",
              "       width=\"24px\">\n",
              "    <path d=\"M0 0h24v24H0V0z\" fill=\"none\"/>\n",
              "    <path d=\"M18.56 5.44l.94 2.06.94-2.06 2.06-.94-2.06-.94-.94-2.06-.94 2.06-2.06.94zm-11 1L8.5 8.5l.94-2.06 2.06-.94-2.06-.94L8.5 2.5l-.94 2.06-2.06.94zm10 10l.94 2.06.94-2.06 2.06-.94-2.06-.94-.94-2.06-.94 2.06-2.06.94z\"/><path d=\"M17.41 7.96l-1.37-1.37c-.4-.4-.92-.59-1.43-.59-.52 0-1.04.2-1.43.59L10.3 9.45l-7.72 7.72c-.78.78-.78 2.05 0 2.83L4 21.41c.39.39.9.59 1.41.59.51 0 1.02-.2 1.41-.59l7.78-7.78 2.81-2.81c.8-.78.8-2.07 0-2.86zM5.41 20L4 18.59l7.72-7.72 1.47 1.35L5.41 20z\"/>\n",
              "  </svg>\n",
              "      </button>\n",
              "      \n",
              "  <style>\n",
              "    .colab-df-container {\n",
              "      display:flex;\n",
              "      flex-wrap:wrap;\n",
              "      gap: 12px;\n",
              "    }\n",
              "\n",
              "    .colab-df-convert {\n",
              "      background-color: #E8F0FE;\n",
              "      border: none;\n",
              "      border-radius: 50%;\n",
              "      cursor: pointer;\n",
              "      display: none;\n",
              "      fill: #1967D2;\n",
              "      height: 32px;\n",
              "      padding: 0 0 0 0;\n",
              "      width: 32px;\n",
              "    }\n",
              "\n",
              "    .colab-df-convert:hover {\n",
              "      background-color: #E2EBFA;\n",
              "      box-shadow: 0px 1px 2px rgba(60, 64, 67, 0.3), 0px 1px 3px 1px rgba(60, 64, 67, 0.15);\n",
              "      fill: #174EA6;\n",
              "    }\n",
              "\n",
              "    [theme=dark] .colab-df-convert {\n",
              "      background-color: #3B4455;\n",
              "      fill: #D2E3FC;\n",
              "    }\n",
              "\n",
              "    [theme=dark] .colab-df-convert:hover {\n",
              "      background-color: #434B5C;\n",
              "      box-shadow: 0px 1px 3px 1px rgba(0, 0, 0, 0.15);\n",
              "      filter: drop-shadow(0px 1px 2px rgba(0, 0, 0, 0.3));\n",
              "      fill: #FFFFFF;\n",
              "    }\n",
              "  </style>\n",
              "\n",
              "      <script>\n",
              "        const buttonEl =\n",
              "          document.querySelector('#df-f4c96e76-1902-4eac-ac11-160a9ef49e78 button.colab-df-convert');\n",
              "        buttonEl.style.display =\n",
              "          google.colab.kernel.accessAllowed ? 'block' : 'none';\n",
              "\n",
              "        async function convertToInteractive(key) {\n",
              "          const element = document.querySelector('#df-f4c96e76-1902-4eac-ac11-160a9ef49e78');\n",
              "          const dataTable =\n",
              "            await google.colab.kernel.invokeFunction('convertToInteractive',\n",
              "                                                     [key], {});\n",
              "          if (!dataTable) return;\n",
              "\n",
              "          const docLinkHtml = 'Like what you see? Visit the ' +\n",
              "            '<a target=\"_blank\" href=https://colab.research.google.com/notebooks/data_table.ipynb>data table notebook</a>'\n",
              "            + ' to learn more about interactive tables.';\n",
              "          element.innerHTML = '';\n",
              "          dataTable['output_type'] = 'display_data';\n",
              "          await google.colab.output.renderOutput(dataTable, element);\n",
              "          const docLink = document.createElement('div');\n",
              "          docLink.innerHTML = docLinkHtml;\n",
              "          element.appendChild(docLink);\n",
              "        }\n",
              "      </script>\n",
              "    </div>\n",
              "  </div>\n",
              "  "
            ]
          },
          "metadata": {},
          "execution_count": 49
        }
      ]
    },
    {
      "cell_type": "code",
      "source": [
        "count_tf_idf = TfidfVectorizer(stop_words=list(stop_words), analyzer='word') # Применим модель TfidfVectorizer"
      ],
      "metadata": {
        "id": "2gXaDbSA48BK"
      },
      "execution_count": 57,
      "outputs": []
    },
    {
      "cell_type": "code",
      "execution_count": 58,
      "metadata": {
        "id": "VomY8Vl82Iiw"
      },
      "outputs": [],
      "source": [
        "tf_train = count_tf_idf.fit_transform(corpus_lemm_train)                # обучим её на тренировочных данных"
      ]
    },
    {
      "cell_type": "code",
      "source": [
        "tf_train.shape"
      ],
      "metadata": {
        "colab": {
          "base_uri": "https://localhost:8080/"
        },
        "id": "dLXRQaS75DnZ",
        "outputId": "0abee5a5-b523-4a25-c837-a58538af7638"
      },
      "execution_count": 59,
      "outputs": [
        {
          "output_type": "execute_result",
          "data": {
            "text/plain": [
              "(127433, 139501)"
            ]
          },
          "metadata": {},
          "execution_count": 59
        }
      ]
    },
    {
      "cell_type": "code",
      "execution_count": 60,
      "metadata": {
        "id": "sAxX5w242Iix"
      },
      "outputs": [],
      "source": [
        "corpus_lemm_test = features_test['lemma_text'].values     # то же самое для тестовых данных"
      ]
    },
    {
      "cell_type": "code",
      "execution_count": 61,
      "metadata": {
        "id": "s5ELON2I2Iix",
        "outputId": "f0dd4514-6cd4-4485-cf70-ed64443510fc",
        "colab": {
          "base_uri": "https://localhost:8080/"
        }
      },
      "outputs": [
        {
          "output_type": "execute_result",
          "data": {
            "text/plain": [
              "(15930, 139501)"
            ]
          },
          "metadata": {},
          "execution_count": 61
        }
      ],
      "source": [
        "tf_test = count_tf_idf.transform(corpus_lemm_test)          # трансформирование тестовой выборки\n",
        "tf_test.shape"
      ]
    },
    {
      "cell_type": "code",
      "execution_count": 62,
      "metadata": {
        "id": "8w77jOyB2Iix"
      },
      "outputs": [],
      "source": [
        "corpus_lemm_valid = features_valid['lemma_text'].values    # то же самое для валидационных данных"
      ]
    },
    {
      "cell_type": "code",
      "execution_count": 63,
      "metadata": {
        "id": "0eUqBXRq2Iiy",
        "outputId": "767944b8-c197-49ac-9243-d4415aecf374",
        "colab": {
          "base_uri": "https://localhost:8080/"
        }
      },
      "outputs": [
        {
          "output_type": "execute_result",
          "data": {
            "text/plain": [
              "(15929, 139501)"
            ]
          },
          "metadata": {},
          "execution_count": 63
        }
      ],
      "source": [
        "tf_valid = count_tf_idf.transform(corpus_lemm_valid)          # трансформирование тестовой выборки\n",
        "tf_valid.shape"
      ]
    },
    {
      "cell_type": "markdown",
      "metadata": {
        "id": "mCkgZF2q2Iiy"
      },
      "source": [
        "Выборки:\n",
        "* features_train ->  tf_train\n",
        "* features_valid -> tf_valid\n",
        "* features_test -> tf_test"
      ]
    },
    {
      "cell_type": "markdown",
      "metadata": {
        "id": "R7kbQ76f2Iiz"
      },
      "source": [
        "## Обучение"
      ]
    },
    {
      "cell_type": "markdown",
      "metadata": {
        "id": "YBzkDhes2Iiz"
      },
      "source": [
        "### DecisionTreeClassifier"
      ]
    },
    {
      "cell_type": "code",
      "execution_count": 64,
      "metadata": {
        "colab": {
          "base_uri": "https://localhost:8080/",
          "height": 101,
          "referenced_widgets": [
            "3ec0bf8d680e45ae9447eab9373c4cc3",
            "00a0eede773448f8a7986a15f9a3788f",
            "d271b5f5ed5c485d8cfb54fbc20235a8",
            "67e78f6853794d41afca5db08e9ab6de",
            "72a4a69ffb45493eb8b966849728ef70",
            "b3a040a5348342fe929bbc68e890b849",
            "8e68a2bd2a89436dbfc5eb46e0cb9656",
            "a589f7647b5941f5939e56afaa16941b",
            "3c0ab15a9174404d968f9ad5555c81bb",
            "129d1978e41041a8ac48f1efafcda181",
            "a67afbd1b22349918e829d77974647c3"
          ]
        },
        "id": "7RBvf-2O2Ii0",
        "outputId": "d03d98c3-3c04-4544-d405-e70c116f5277",
        "scrolled": true
      },
      "outputs": [
        {
          "output_type": "display_data",
          "data": {
            "text/plain": [
              "  0%|          | 0/8 [00:00<?, ?it/s]"
            ],
            "application/vnd.jupyter.widget-view+json": {
              "version_major": 2,
              "version_minor": 0,
              "model_id": "3ec0bf8d680e45ae9447eab9373c4cc3"
            }
          },
          "metadata": {}
        },
        {
          "output_type": "stream",
          "name": "stdout",
          "text": [
            "F1 наилучшей модели равно: 0.6 C глубиной: 22\n",
            "CPU times: user 1min 25s, sys: 201 ms, total: 1min 25s\n",
            "Wall time: 1min 26s\n"
          ]
        }
      ],
      "source": [
        "%%time\n",
        "\n",
        "best_model_dt = None\n",
        "best_result_dt = 0\n",
        "best_depth_dt=0\n",
        "\n",
        "for depth in tqdm(range(1, 25, 3)):      \n",
        "    model_dt = DecisionTreeClassifier(random_state=RANDOM_STATE, max_depth=depth, class_weight='balanced') \n",
        "    model_dt.fit(tf_train, target_train) \n",
        "    predict_dt = model_dt.predict(tf_valid)        # заменил tf_test на tf_valid\n",
        "    result_dt = f1_score(target_valid, predict_dt)  # заменил target_test на target_valid\n",
        "    \n",
        "    if result_dt > best_result_dt:\n",
        "        best_model_dt = model_dt\n",
        "        best_result_dt = result_dt          \n",
        "        best_depth_dt = depth\n",
        "        \n",
        "print(\"F1 наилучшей модели равно:\", best_result_dt.round(2), end='')\n",
        "print(' C глубиной:', best_depth_dt)"
      ]
    },
    {
      "cell_type": "code",
      "execution_count": 65,
      "metadata": {
        "id": "RBa1gzV22Ii0"
      },
      "outputs": [],
      "source": [
        "target_names=['Отзыв токсичный','Отзыв не токсичный']"
      ]
    },
    {
      "cell_type": "code",
      "execution_count": 66,
      "metadata": {
        "id": "AiWGo_Y-2Ii0",
        "outputId": "fbe53ea6-fa16-4323-dd04-f1d0fa424588",
        "colab": {
          "base_uri": "https://localhost:8080/"
        }
      },
      "outputs": [
        {
          "output_type": "stream",
          "name": "stdout",
          "text": [
            "                    precision    recall  f1-score   support\n",
            "\n",
            "   Отзыв токсичный       0.95      0.99      0.97     14322\n",
            "Отзыв не токсичный       0.87      0.55      0.67      1607\n",
            "\n",
            "          accuracy                           0.95     15929\n",
            "         macro avg       0.91      0.77      0.82     15929\n",
            "      weighted avg       0.94      0.95      0.94     15929\n",
            "\n",
            "Метрика F1 качества предсказания модели \"DecisionTreeClassifier\" на валидационных данных равна : 0.67\n"
          ]
        }
      ],
      "source": [
        "model_dt= DecisionTreeClassifier(random_state=RANDOM_STATE, max_depth=best_depth_dt)\n",
        "model_dt.fit(tf_train, target_train)\n",
        "predicted_dt=model_dt.predict(tf_valid)  # заменил tf_test на tf_valid\n",
        "\n",
        "f1_forest_1 = f1_score(target_valid, predicted_dt)  # заменил target_test на target_valid\n",
        "print(classification_report(target_valid, predicted_dt, target_names=target_names))\n",
        "print('Метрика F1 качества предсказания модели \"DecisionTreeClassifier\" на валидационных данных равна :',f1_forest_1.round(2))"
      ]
    },
    {
      "cell_type": "code",
      "execution_count": 67,
      "metadata": {
        "id": "BY0NvYE12Ii1",
        "outputId": "2df4b5d1-a876-4532-aeeb-05027621077a",
        "colab": {
          "base_uri": "https://localhost:8080/"
        }
      },
      "outputs": [
        {
          "output_type": "execute_result",
          "data": {
            "text/plain": [
              "array([[113516,    961],\n",
              "       [  6161,   6795]])"
            ]
          },
          "metadata": {},
          "execution_count": 67
        }
      ],
      "source": [
        "y_pred = cross_val_predict(model_dt, tf_train, target_train, cv=5)\n",
        "conf_matrix = confusion_matrix(target_train, y_pred)\n",
        "conf_matrix #  матрица ошибок на выборке train"
      ]
    },
    {
      "cell_type": "markdown",
      "metadata": {
        "id": "erjtYpzv2Ii2"
      },
      "source": [
        "### LogisticRegression"
      ]
    },
    {
      "cell_type": "code",
      "execution_count": 68,
      "metadata": {
        "id": "4qsNLLYr2Ii2",
        "outputId": "cd5182a7-60d4-45f4-e02d-70df48b75f3d",
        "colab": {
          "base_uri": "https://localhost:8080/"
        }
      },
      "outputs": [
        {
          "output_type": "stream",
          "name": "stdout",
          "text": [
            "CPU times: user 7min 10s, sys: 382 ms, total: 7min 11s\n",
            "Wall time: 7min 22s\n"
          ]
        },
        {
          "output_type": "execute_result",
          "data": {
            "text/plain": [
              "{'C': 4, 'max_iter': 24}"
            ]
          },
          "metadata": {},
          "execution_count": 68
        }
      ],
      "source": [
        "%%time\n",
        "\n",
        "clf_lr = LogisticRegression(random_state=RANDOM_STATE, solver='sag', class_weight='balanced') # liblinear sag\n",
        "parametrs_lr = {'C': range (1, 10), 'max_iter': range (10,30,2) }   # увеличим кол-во иттераций с 15 до 22\n",
        "\n",
        "grid_lr = GridSearchCV(clf_lr, parametrs_lr, cv=3, scoring='f1')\n",
        "grid_lr.fit(tf_train, target_train)\n",
        "grid_lr.best_params_"
      ]
    },
    {
      "cell_type": "code",
      "execution_count": 69,
      "metadata": {
        "id": "Vlobxcnu2Ii3",
        "outputId": "2a9e3c0b-bdcc-42b4-f64b-d1f540ca726f",
        "colab": {
          "base_uri": "https://localhost:8080/"
        }
      },
      "outputs": [
        {
          "output_type": "execute_result",
          "data": {
            "text/plain": [
              "0.7554266801345393"
            ]
          },
          "metadata": {},
          "execution_count": 69
        }
      ],
      "source": [
        "grid_lr.best_score_ # лучший результат на кросс-валидации"
      ]
    },
    {
      "cell_type": "code",
      "execution_count": 70,
      "metadata": {
        "id": "x23d8-0O2Ii3",
        "outputId": "5af67232-8931-4139-db43-b53c16b18e45",
        "colab": {
          "base_uri": "https://localhost:8080/"
        }
      },
      "outputs": [
        {
          "output_type": "stream",
          "name": "stdout",
          "text": [
            "                    precision    recall  f1-score   support\n",
            "\n",
            "   Отзыв токсичный       0.98      0.95      0.97     14322\n",
            "Отзыв не токсичный       0.67      0.85      0.75      1607\n",
            "\n",
            "          accuracy                           0.94     15929\n",
            "         macro avg       0.83      0.90      0.86     15929\n",
            "      weighted avg       0.95      0.94      0.95     15929\n",
            "\n",
            "Метрика F1 качества предсказания модели \"LogisticRegression\" на валидационных данных равна : 0.751\n"
          ]
        }
      ],
      "source": [
        "predicted_lr= grid_lr.predict(tf_valid)                      # заменил tf_test на tf_valid\n",
        "\n",
        "f1_log_r_1 = f1_score(target_valid, predicted_lr).round(3)                          # заменил target_test на target_valid\n",
        "print(classification_report(target_valid, predicted_lr, target_names=target_names))\n",
        "print('Метрика F1 качества предсказания модели \"LogisticRegression\" на валидационных данных равна :',f1_log_r_1)"
      ]
    },
    {
      "cell_type": "markdown",
      "metadata": {
        "id": "I-p3eyuH2Ii4"
      },
      "source": [
        "### RandomForestClassifier"
      ]
    },
    {
      "cell_type": "code",
      "execution_count": 71,
      "metadata": {
        "colab": {
          "base_uri": "https://localhost:8080/",
          "height": 101,
          "referenced_widgets": [
            "0216f080b4fc4a56b2f1ada4f78e11bb",
            "1dea0367e3df4ab78c26a640670d0db1",
            "eea6e7237878468bbfef79fe709315ef",
            "30f836ef3908480fb9e06cf38796aebb",
            "717ef78d547648d3bfb4fbb0a6977297",
            "14882df8f5314953b31c1728b4ef4247",
            "05c836803c7b44e1aec754e0b0565b1b",
            "5e8417fe3ff8465da16007ebc9b22312",
            "a13c83f9c00a4687b98354872b605762",
            "76a4522dbc464fedb262f2fd1c874608",
            "61f6397d22974422940254c4946617a5"
          ]
        },
        "id": "baV4ey4D2Ii4",
        "outputId": "19222d2c-d2fa-4af9-d6bd-043b225eb69b"
      },
      "outputs": [
        {
          "output_type": "display_data",
          "data": {
            "text/plain": [
              "  0%|          | 0/3 [00:00<?, ?it/s]"
            ],
            "application/vnd.jupyter.widget-view+json": {
              "version_major": 2,
              "version_minor": 0,
              "model_id": "0216f080b4fc4a56b2f1ada4f78e11bb"
            }
          },
          "metadata": {}
        },
        {
          "output_type": "stream",
          "name": "stdout",
          "text": [
            "F1 наилучшей модели равно: 0.6 C глубиной: 9\n",
            "CPU times: user 2min 15s, sys: 156 ms, total: 2min 15s\n",
            "Wall time: 2min 25s\n"
          ]
        }
      ],
      "source": [
        "%%time\n",
        "\n",
        "best_model_rf = None\n",
        "best_result_rf = 0\n",
        "best_depth_rf=0\n",
        "\n",
        "for est in tqdm(range(1, 12, 4)):      \n",
        "    model_rf = RandomForestClassifier(random_state=RANDOM_STATE, n_estimators=est, class_weight='balanced_subsample') \n",
        "    model_rf.fit(tf_train, target_train) \n",
        "    predict_rf=model_rf.predict(tf_valid)             # заменил tf_test на tf_valid\n",
        "    result_rf = f1_score(target_valid, predict_rf)     # заменил target_test на target_valid\n",
        "    \n",
        "    if result_rf > best_result_rf:\n",
        "        best_model_rf = model_rf\n",
        "        best_result_rf = result_rf          \n",
        "        best_depth_rf = est\n",
        "        \n",
        "print(\"F1 наилучшей модели равно:\", best_result_rf.round(2), end='')\n",
        "print(' C глубиной:', best_depth_rf)"
      ]
    },
    {
      "cell_type": "code",
      "execution_count": 72,
      "metadata": {
        "id": "z_U907cU2Ii4",
        "outputId": "cfcf4c46-eaf5-4619-8bd8-7a3d9c114fc3",
        "colab": {
          "base_uri": "https://localhost:8080/"
        }
      },
      "outputs": [
        {
          "output_type": "stream",
          "name": "stdout",
          "text": [
            "                    precision    recall  f1-score   support\n",
            "\n",
            "   Отзыв токсичный       0.94      0.99      0.97     14322\n",
            "Отзыв не токсичный       0.83      0.47      0.60      1607\n",
            "\n",
            "          accuracy                           0.94     15929\n",
            "         macro avg       0.89      0.73      0.78     15929\n",
            "      weighted avg       0.93      0.94      0.93     15929\n",
            "\n",
            "Метрика F1 качества предсказания модели \"RandomForestClassifier\" на валидационных данных равна : 0.6\n"
          ]
        }
      ],
      "source": [
        "predict_rfc = model_rf.predict(tf_valid)               # заменил tf_test на tf_valid\n",
        "f1_random_forest = f1_score(target_valid, predict_rfc)  # заменил target_test на target_valid\n",
        "print(classification_report(target_valid, predict_rfc, target_names=target_names))\n",
        "print('Метрика F1 качества предсказания модели \"RandomForestClassifier\" на валидационных данных равна :',f1_random_forest.round(2))"
      ]
    },
    {
      "cell_type": "code",
      "execution_count": null,
      "metadata": {
        "id": "G6pofgmR2Ii5",
        "outputId": "3185a9a3-f2ed-460b-be10-473f8ce934d7"
      },
      "outputs": [
        {
          "data": {
            "text/plain": [
              "{'C': 4, 'max_iter': 24}"
            ]
          },
          "execution_count": 54,
          "metadata": {},
          "output_type": "execute_result"
        }
      ],
      "source": [
        "grid_lr.best_params_"
      ]
    },
    {
      "cell_type": "code",
      "execution_count": 74,
      "metadata": {
        "id": "BlOfaEpf2Ii6"
      },
      "outputs": [],
      "source": [
        "best_model = LogisticRegression(random_state=RANDOM_STATE, **grid_lr.best_params_, solver='sag', class_weight='balanced')\n",
        "best_model.fit(tf_train, target_train)\n",
        "predicted_lr = best_model.predict(tf_test)"
      ]
    },
    {
      "cell_type": "code",
      "execution_count": 75,
      "metadata": {
        "id": "3xN0jgEy2Ii6",
        "outputId": "1485dbbe-c3f9-4217-af92-d31ee46301e6",
        "scrolled": true,
        "colab": {
          "base_uri": "https://localhost:8080/"
        }
      },
      "outputs": [
        {
          "output_type": "stream",
          "name": "stdout",
          "text": [
            "Метрика F1 качества предсказания модели \"LogisticRegression\" на тестовых данных равна : 0.754\n"
          ]
        }
      ],
      "source": [
        "f1_log_r_1 = f1_score(target_test, predicted_lr).round(3)                         \n",
        "print('Метрика F1 качества предсказания модели \"LogisticRegression\" на тестовых данных равна :',f1_log_r_1)"
      ]
    },
    {
      "cell_type": "markdown",
      "metadata": {
        "id": "RElYk28A2Ii7"
      },
      "source": [
        "## Выводы"
      ]
    },
    {
      "cell_type": "markdown",
      "metadata": {
        "id": "vXGEJ7-02Ii7"
      },
      "source": [
        "Цель проекта — найти и обучить модель для магазина \"ВИКИШОП\", которая способна классифицировать комментарии на позитивные и токсичные, чтобы в дальнейшем токсичные отзывы отправлялись на модерацию. Результата предсказания наилучшей модели по мере F1 должен быть не меньше 0.75\n",
        "\n",
        "Был дан датасет с данными с разметкой токсичности комментариев. Перед обучением моделей, данные были отчищены от лишних символов. Проведена балансировка классов в выборке.\n",
        "\n",
        "Проверены три модели предсказательных алгоритмов: DecisionTreeClassifier, LogisticRegression и RandomForestClassifier. \n",
        "\n",
        "* DecisionTreeClassifier — самая быстрая модель — обучение и предсказание около минуты, но метрика F1: 0.67\n",
        "* LogisticRegression — самая медленная около семи минут, метрика F1: 0.751\n",
        "* RandomForestClassifier — 1 минута 40 секунд, метрика F1: 0.68\n",
        "\n",
        "Так как, для заказчика самый важный параметр - точность по метрике F1, то победила модель LogisticRegression, на тестовых данных метрика F1: 0.755\n",
        "\n",
        "Её можно рекомендовать в работе для магазина \"ВИКИШОП\"."
      ]
    }
  ],
  "metadata": {
    "ExecuteTimeLog": [
      {
        "duration": 50,
        "start_time": "2022-12-26T07:29:38.361Z"
      },
      {
        "duration": 376,
        "start_time": "2022-12-26T07:29:56.514Z"
      },
      {
        "duration": 31,
        "start_time": "2022-12-26T07:30:47.690Z"
      },
      {
        "duration": 33,
        "start_time": "2022-12-26T07:30:53.634Z"
      },
      {
        "duration": 39,
        "start_time": "2022-12-26T07:31:05.106Z"
      },
      {
        "duration": 2397,
        "start_time": "2022-12-26T07:32:30.809Z"
      },
      {
        "duration": 13,
        "start_time": "2022-12-26T07:32:38.680Z"
      },
      {
        "duration": 22,
        "start_time": "2022-12-26T07:33:06.013Z"
      },
      {
        "duration": 27,
        "start_time": "2022-12-26T07:37:26.915Z"
      },
      {
        "duration": 24,
        "start_time": "2022-12-26T07:37:44.233Z"
      },
      {
        "duration": 7,
        "start_time": "2022-12-26T07:38:06.543Z"
      },
      {
        "duration": 12,
        "start_time": "2022-12-26T07:38:19.970Z"
      },
      {
        "duration": 15,
        "start_time": "2022-12-26T07:38:49.099Z"
      },
      {
        "duration": 7,
        "start_time": "2022-12-26T07:39:01.579Z"
      },
      {
        "duration": 35,
        "start_time": "2022-12-26T07:39:14.933Z"
      },
      {
        "duration": 6,
        "start_time": "2022-12-26T07:39:49.413Z"
      },
      {
        "duration": 1178,
        "start_time": "2022-12-26T07:54:28.715Z"
      },
      {
        "duration": 52,
        "start_time": "2022-12-26T07:54:57.137Z"
      },
      {
        "duration": 10,
        "start_time": "2022-12-26T07:55:26.442Z"
      },
      {
        "duration": 2236,
        "start_time": "2022-12-26T07:56:08.699Z"
      },
      {
        "duration": 211,
        "start_time": "2022-12-26T07:56:19.037Z"
      },
      {
        "duration": 186,
        "start_time": "2022-12-26T07:56:26.137Z"
      },
      {
        "duration": 179,
        "start_time": "2022-12-26T07:57:02.303Z"
      },
      {
        "duration": 21,
        "start_time": "2022-12-26T07:57:02.964Z"
      },
      {
        "duration": 778,
        "start_time": "2022-12-26T07:59:07.313Z"
      },
      {
        "duration": 10,
        "start_time": "2022-12-26T07:59:08.093Z"
      },
      {
        "duration": 21,
        "start_time": "2022-12-26T07:59:13.237Z"
      },
      {
        "duration": 12,
        "start_time": "2022-12-26T07:59:25.507Z"
      },
      {
        "duration": 32,
        "start_time": "2022-12-26T07:59:26.120Z"
      },
      {
        "duration": 5,
        "start_time": "2022-12-26T07:59:32.455Z"
      },
      {
        "duration": 178,
        "start_time": "2022-12-26T07:59:53.172Z"
      },
      {
        "duration": 232099,
        "start_time": "2022-12-26T07:59:54.409Z"
      },
      {
        "duration": 5,
        "start_time": "2022-12-26T08:04:14.548Z"
      },
      {
        "duration": 2848,
        "start_time": "2022-12-26T08:04:35.240Z"
      },
      {
        "duration": 2,
        "start_time": "2022-12-26T08:04:53.331Z"
      },
      {
        "duration": 57,
        "start_time": "2022-12-26T08:08:05.804Z"
      },
      {
        "duration": 1638,
        "start_time": "2022-12-26T08:08:15.827Z"
      },
      {
        "duration": 2542,
        "start_time": "2022-12-26T08:08:17.467Z"
      },
      {
        "duration": 16,
        "start_time": "2022-12-26T08:08:20.012Z"
      },
      {
        "duration": 29,
        "start_time": "2022-12-26T08:08:20.029Z"
      },
      {
        "duration": 16,
        "start_time": "2022-12-26T08:08:20.061Z"
      },
      {
        "duration": 37,
        "start_time": "2022-12-26T08:08:20.079Z"
      },
      {
        "duration": 5,
        "start_time": "2022-12-26T08:08:20.118Z"
      },
      {
        "duration": 2215,
        "start_time": "2022-12-26T08:08:20.125Z"
      },
      {
        "duration": 235556,
        "start_time": "2022-12-26T08:08:22.341Z"
      },
      {
        "duration": 4,
        "start_time": "2022-12-26T08:12:17.899Z"
      },
      {
        "duration": 263,
        "start_time": "2022-12-26T08:12:17.906Z"
      },
      {
        "duration": 712,
        "start_time": "2022-12-26T08:15:04.239Z"
      },
      {
        "duration": 5,
        "start_time": "2022-12-26T08:50:00.412Z"
      },
      {
        "duration": 23,
        "start_time": "2022-12-26T08:57:46.834Z"
      },
      {
        "duration": 16,
        "start_time": "2022-12-26T09:05:10.253Z"
      },
      {
        "duration": 5,
        "start_time": "2022-12-26T09:06:34.579Z"
      },
      {
        "duration": 18,
        "start_time": "2022-12-26T09:06:48.704Z"
      },
      {
        "duration": 1286,
        "start_time": "2022-12-26T09:28:31.146Z"
      },
      {
        "duration": 51,
        "start_time": "2022-12-26T17:59:56.003Z"
      },
      {
        "duration": 6,
        "start_time": "2022-12-26T18:00:04.242Z"
      },
      {
        "duration": 2589,
        "start_time": "2022-12-26T18:00:11.466Z"
      },
      {
        "duration": 3590,
        "start_time": "2022-12-26T18:00:14.058Z"
      },
      {
        "duration": 14,
        "start_time": "2022-12-26T18:00:17.649Z"
      },
      {
        "duration": 23,
        "start_time": "2022-12-26T18:00:17.664Z"
      },
      {
        "duration": 10,
        "start_time": "2022-12-26T18:00:17.689Z"
      },
      {
        "duration": 52,
        "start_time": "2022-12-26T18:00:17.701Z"
      },
      {
        "duration": 5,
        "start_time": "2022-12-26T18:00:17.755Z"
      },
      {
        "duration": 29,
        "start_time": "2022-12-26T18:00:20.212Z"
      },
      {
        "duration": 1885,
        "start_time": "2022-12-26T18:00:55.142Z"
      },
      {
        "duration": 5,
        "start_time": "2022-12-26T18:01:24.682Z"
      },
      {
        "duration": 4,
        "start_time": "2022-12-26T18:01:53.328Z"
      },
      {
        "duration": 14,
        "start_time": "2022-12-26T18:01:53.930Z"
      },
      {
        "duration": 14,
        "start_time": "2022-12-26T18:01:55.215Z"
      },
      {
        "duration": 116,
        "start_time": "2022-12-26T18:01:55.707Z"
      },
      {
        "duration": 30,
        "start_time": "2022-12-26T18:01:55.958Z"
      },
      {
        "duration": 5,
        "start_time": "2022-12-26T18:01:56.144Z"
      },
      {
        "duration": 33,
        "start_time": "2022-12-26T18:01:56.335Z"
      },
      {
        "duration": 378,
        "start_time": "2022-12-26T18:03:07.288Z"
      },
      {
        "duration": 5,
        "start_time": "2022-12-26T18:12:22.915Z"
      },
      {
        "duration": 5,
        "start_time": "2022-12-26T18:12:54.958Z"
      },
      {
        "duration": 4,
        "start_time": "2022-12-26T18:15:12.362Z"
      },
      {
        "duration": 809,
        "start_time": "2022-12-26T18:15:12.368Z"
      },
      {
        "duration": 5,
        "start_time": "2022-12-26T18:15:13.178Z"
      },
      {
        "duration": 11,
        "start_time": "2022-12-26T18:15:13.185Z"
      },
      {
        "duration": 25,
        "start_time": "2022-12-26T18:15:13.198Z"
      },
      {
        "duration": 28,
        "start_time": "2022-12-26T18:15:13.225Z"
      },
      {
        "duration": 31,
        "start_time": "2022-12-26T18:15:20.033Z"
      },
      {
        "duration": 4,
        "start_time": "2022-12-26T18:15:21.476Z"
      },
      {
        "duration": 31,
        "start_time": "2022-12-26T18:15:21.950Z"
      },
      {
        "duration": 4,
        "start_time": "2022-12-26T18:15:22.163Z"
      },
      {
        "duration": 10,
        "start_time": "2022-12-26T18:15:22.648Z"
      },
      {
        "duration": 468,
        "start_time": "2022-12-26T18:15:41.384Z"
      },
      {
        "duration": 4,
        "start_time": "2022-12-26T18:17:09.546Z"
      },
      {
        "duration": 2,
        "start_time": "2022-12-26T18:17:49.767Z"
      },
      {
        "duration": 3,
        "start_time": "2022-12-26T18:19:36.108Z"
      },
      {
        "duration": 5,
        "start_time": "2022-12-26T18:20:35.453Z"
      },
      {
        "duration": 4,
        "start_time": "2022-12-26T18:22:26.134Z"
      },
      {
        "duration": 3,
        "start_time": "2022-12-26T18:23:41.758Z"
      },
      {
        "duration": 1306,
        "start_time": "2022-12-26T18:27:36.364Z"
      },
      {
        "duration": 5,
        "start_time": "2022-12-26T18:29:20.608Z"
      },
      {
        "duration": 47,
        "start_time": "2022-12-27T04:58:23.747Z"
      },
      {
        "duration": 2346,
        "start_time": "2022-12-27T04:58:37.908Z"
      },
      {
        "duration": 2255,
        "start_time": "2022-12-27T04:58:40.256Z"
      },
      {
        "duration": 8,
        "start_time": "2022-12-27T04:58:42.513Z"
      },
      {
        "duration": 14,
        "start_time": "2022-12-27T04:58:42.523Z"
      },
      {
        "duration": 22,
        "start_time": "2022-12-27T04:58:42.539Z"
      },
      {
        "duration": 15,
        "start_time": "2022-12-27T04:58:42.563Z"
      },
      {
        "duration": 34,
        "start_time": "2022-12-27T04:58:42.580Z"
      },
      {
        "duration": 4,
        "start_time": "2022-12-27T04:58:42.616Z"
      },
      {
        "duration": 5,
        "start_time": "2022-12-27T04:58:46.506Z"
      },
      {
        "duration": 124,
        "start_time": "2022-12-27T04:58:47.506Z"
      },
      {
        "duration": 512,
        "start_time": "2022-12-27T04:59:05.186Z"
      },
      {
        "duration": 33,
        "start_time": "2022-12-27T04:59:44.467Z"
      },
      {
        "duration": 102,
        "start_time": "2022-12-27T04:59:56.307Z"
      },
      {
        "duration": 4,
        "start_time": "2022-12-27T05:00:42.666Z"
      },
      {
        "duration": 81,
        "start_time": "2022-12-27T05:01:02.387Z"
      },
      {
        "duration": 107,
        "start_time": "2022-12-27T05:01:09.546Z"
      },
      {
        "duration": 108,
        "start_time": "2022-12-27T05:01:31.347Z"
      },
      {
        "duration": 97,
        "start_time": "2022-12-27T05:02:03.226Z"
      },
      {
        "duration": 111,
        "start_time": "2022-12-27T05:02:25.146Z"
      },
      {
        "duration": 77,
        "start_time": "2022-12-27T05:02:37.346Z"
      },
      {
        "duration": 89,
        "start_time": "2022-12-27T05:02:44.948Z"
      },
      {
        "duration": 219,
        "start_time": "2022-12-27T05:02:58.906Z"
      },
      {
        "duration": 110,
        "start_time": "2022-12-27T05:03:08.314Z"
      },
      {
        "duration": 83,
        "start_time": "2022-12-27T05:03:27.427Z"
      },
      {
        "duration": 20,
        "start_time": "2022-12-27T05:03:47.787Z"
      },
      {
        "duration": 17,
        "start_time": "2022-12-27T05:03:53.866Z"
      },
      {
        "duration": 84,
        "start_time": "2022-12-27T05:03:59.106Z"
      },
      {
        "duration": 553,
        "start_time": "2022-12-27T05:04:13.546Z"
      },
      {
        "duration": 84,
        "start_time": "2022-12-27T05:04:27.034Z"
      },
      {
        "duration": 5,
        "start_time": "2022-12-27T05:08:06.903Z"
      },
      {
        "duration": 827,
        "start_time": "2022-12-27T05:08:06.910Z"
      },
      {
        "duration": 4,
        "start_time": "2022-12-27T05:08:07.739Z"
      },
      {
        "duration": 12,
        "start_time": "2022-12-27T05:08:07.744Z"
      },
      {
        "duration": 32,
        "start_time": "2022-12-27T05:08:07.758Z"
      },
      {
        "duration": 11,
        "start_time": "2022-12-27T05:08:07.792Z"
      },
      {
        "duration": 36,
        "start_time": "2022-12-27T05:08:07.804Z"
      },
      {
        "duration": 5,
        "start_time": "2022-12-27T05:08:07.842Z"
      },
      {
        "duration": 111,
        "start_time": "2022-12-27T05:08:07.848Z"
      },
      {
        "duration": 46,
        "start_time": "2022-12-27T05:08:07.961Z"
      },
      {
        "duration": 249,
        "start_time": "2022-12-27T05:08:08.008Z"
      },
      {
        "duration": 23667,
        "start_time": "2022-12-27T05:08:08.259Z"
      },
      {
        "duration": 3,
        "start_time": "2022-12-27T05:08:31.927Z"
      },
      {
        "duration": 7,
        "start_time": "2022-12-27T05:08:31.933Z"
      },
      {
        "duration": 6,
        "start_time": "2022-12-27T05:08:31.941Z"
      },
      {
        "duration": 3,
        "start_time": "2022-12-27T05:08:38.751Z"
      },
      {
        "duration": 1515,
        "start_time": "2022-12-27T05:08:39.181Z"
      },
      {
        "duration": 65,
        "start_time": "2022-12-27T05:08:43.982Z"
      },
      {
        "duration": 4,
        "start_time": "2022-12-27T05:09:39.559Z"
      },
      {
        "duration": 66,
        "start_time": "2022-12-27T05:09:48.142Z"
      },
      {
        "duration": 15,
        "start_time": "2022-12-27T05:14:10.062Z"
      },
      {
        "duration": 4,
        "start_time": "2022-12-27T05:14:54.494Z"
      },
      {
        "duration": 75,
        "start_time": "2022-12-27T05:15:01.814Z"
      },
      {
        "duration": 63,
        "start_time": "2022-12-27T05:15:32.502Z"
      },
      {
        "duration": 6,
        "start_time": "2022-12-27T05:16:07.622Z"
      },
      {
        "duration": 50200,
        "start_time": "2022-12-27T05:16:15.863Z"
      },
      {
        "duration": 11,
        "start_time": "2022-12-27T05:19:18.302Z"
      },
      {
        "duration": 10,
        "start_time": "2022-12-27T05:20:53.103Z"
      },
      {
        "duration": 38,
        "start_time": "2022-12-27T05:20:53.981Z"
      },
      {
        "duration": 4,
        "start_time": "2022-12-27T05:20:54.862Z"
      },
      {
        "duration": 5,
        "start_time": "2022-12-27T05:20:56.022Z"
      },
      {
        "duration": 12,
        "start_time": "2022-12-27T05:20:56.294Z"
      },
      {
        "duration": 3,
        "start_time": "2022-12-27T05:20:56.622Z"
      },
      {
        "duration": 4,
        "start_time": "2022-12-27T05:20:57.101Z"
      },
      {
        "duration": 4,
        "start_time": "2022-12-27T05:20:57.901Z"
      },
      {
        "duration": 7,
        "start_time": "2022-12-27T05:20:58.702Z"
      },
      {
        "duration": 4,
        "start_time": "2022-12-27T05:22:17.901Z"
      },
      {
        "duration": 7,
        "start_time": "2022-12-27T05:22:18.502Z"
      },
      {
        "duration": 5,
        "start_time": "2022-12-27T05:22:45.542Z"
      },
      {
        "duration": 4,
        "start_time": "2022-12-27T05:24:28.582Z"
      },
      {
        "duration": 8109,
        "start_time": "2022-12-27T05:24:46.702Z"
      },
      {
        "duration": 8,
        "start_time": "2022-12-27T05:25:58.061Z"
      },
      {
        "duration": 37,
        "start_time": "2022-12-27T05:25:58.573Z"
      },
      {
        "duration": 4,
        "start_time": "2022-12-27T05:25:58.982Z"
      },
      {
        "duration": 8016,
        "start_time": "2022-12-27T05:26:17.502Z"
      },
      {
        "duration": 8045,
        "start_time": "2022-12-27T05:26:48.614Z"
      },
      {
        "duration": 8106,
        "start_time": "2022-12-27T05:27:42.661Z"
      },
      {
        "duration": 37,
        "start_time": "2022-12-27T05:37:44.937Z"
      },
      {
        "duration": 13,
        "start_time": "2022-12-27T05:37:45.929Z"
      },
      {
        "duration": 4,
        "start_time": "2022-12-27T05:38:39.009Z"
      },
      {
        "duration": 5,
        "start_time": "2022-12-27T05:38:45.129Z"
      },
      {
        "duration": 101,
        "start_time": "2022-12-27T05:38:46.817Z"
      },
      {
        "duration": 4,
        "start_time": "2022-12-27T05:38:56.929Z"
      },
      {
        "duration": 4,
        "start_time": "2022-12-27T05:38:58.009Z"
      },
      {
        "duration": 87,
        "start_time": "2022-12-27T05:38:58.888Z"
      },
      {
        "duration": 5,
        "start_time": "2022-12-27T05:39:18.210Z"
      },
      {
        "duration": 5,
        "start_time": "2022-12-27T05:39:18.969Z"
      },
      {
        "duration": 7313,
        "start_time": "2022-12-27T05:39:19.489Z"
      },
      {
        "duration": 7292,
        "start_time": "2022-12-27T05:40:38.929Z"
      },
      {
        "duration": 9,
        "start_time": "2022-12-27T05:40:58.960Z"
      },
      {
        "duration": 6,
        "start_time": "2022-12-27T06:00:15.193Z"
      },
      {
        "duration": 19,
        "start_time": "2022-12-27T06:02:02.114Z"
      },
      {
        "duration": 9,
        "start_time": "2022-12-27T06:02:18.394Z"
      },
      {
        "duration": 54,
        "start_time": "2022-12-27T06:02:47.953Z"
      },
      {
        "duration": 16,
        "start_time": "2022-12-27T06:02:55.914Z"
      },
      {
        "duration": 4,
        "start_time": "2022-12-27T06:03:15.034Z"
      },
      {
        "duration": 11,
        "start_time": "2022-12-27T06:03:21.625Z"
      },
      {
        "duration": 17,
        "start_time": "2022-12-27T06:04:44.835Z"
      },
      {
        "duration": 5,
        "start_time": "2022-12-27T06:04:59.474Z"
      },
      {
        "duration": 336,
        "start_time": "2022-12-27T07:00:16.229Z"
      },
      {
        "duration": 19,
        "start_time": "2022-12-27T07:01:06.189Z"
      },
      {
        "duration": 1526,
        "start_time": "2022-12-27T07:01:22.192Z"
      },
      {
        "duration": 10,
        "start_time": "2022-12-27T07:01:39.962Z"
      },
      {
        "duration": 871,
        "start_time": "2022-12-27T07:01:39.974Z"
      },
      {
        "duration": 4,
        "start_time": "2022-12-27T07:01:40.847Z"
      },
      {
        "duration": 12,
        "start_time": "2022-12-27T07:01:40.854Z"
      },
      {
        "duration": 25,
        "start_time": "2022-12-27T07:01:40.879Z"
      },
      {
        "duration": 12,
        "start_time": "2022-12-27T07:01:40.906Z"
      },
      {
        "duration": 71,
        "start_time": "2022-12-27T07:01:40.920Z"
      },
      {
        "duration": 8,
        "start_time": "2022-12-27T07:01:40.994Z"
      },
      {
        "duration": 132,
        "start_time": "2022-12-27T07:01:41.005Z"
      },
      {
        "duration": 42,
        "start_time": "2022-12-27T07:01:41.140Z"
      },
      {
        "duration": 35,
        "start_time": "2022-12-27T07:01:41.184Z"
      },
      {
        "duration": 16,
        "start_time": "2022-12-27T07:01:41.222Z"
      },
      {
        "duration": 6,
        "start_time": "2022-12-27T07:01:41.241Z"
      },
      {
        "duration": 28,
        "start_time": "2022-12-27T07:01:41.250Z"
      },
      {
        "duration": 6,
        "start_time": "2022-12-27T07:01:41.282Z"
      },
      {
        "duration": 11,
        "start_time": "2022-12-27T07:01:41.291Z"
      },
      {
        "duration": 5,
        "start_time": "2022-12-27T07:01:41.305Z"
      },
      {
        "duration": 15,
        "start_time": "2022-12-27T07:01:41.312Z"
      },
      {
        "duration": 43,
        "start_time": "2022-12-27T07:01:41.329Z"
      },
      {
        "duration": 9089,
        "start_time": "2022-12-27T07:01:41.374Z"
      },
      {
        "duration": 19,
        "start_time": "2022-12-27T07:01:50.466Z"
      },
      {
        "duration": 21,
        "start_time": "2022-12-27T07:01:50.487Z"
      },
      {
        "duration": 12,
        "start_time": "2022-12-27T07:01:50.512Z"
      },
      {
        "duration": 9,
        "start_time": "2022-12-27T07:01:50.526Z"
      },
      {
        "duration": 5,
        "start_time": "2022-12-27T07:02:06.420Z"
      },
      {
        "duration": 4,
        "start_time": "2022-12-27T07:02:07.279Z"
      },
      {
        "duration": 1068,
        "start_time": "2022-12-27T07:02:08.293Z"
      },
      {
        "duration": 13,
        "start_time": "2022-12-27T07:02:40.597Z"
      },
      {
        "duration": 1141,
        "start_time": "2022-12-27T07:02:40.774Z"
      },
      {
        "duration": 17,
        "start_time": "2022-12-27T07:03:03.142Z"
      },
      {
        "duration": 83,
        "start_time": "2022-12-27T07:04:29.416Z"
      },
      {
        "duration": 20,
        "start_time": "2022-12-27T07:06:04.423Z"
      },
      {
        "duration": 59,
        "start_time": "2022-12-27T07:06:05.941Z"
      },
      {
        "duration": 849,
        "start_time": "2022-12-27T07:06:11.012Z"
      },
      {
        "duration": 15,
        "start_time": "2022-12-27T07:06:17.311Z"
      },
      {
        "duration": 10,
        "start_time": "2022-12-27T07:06:31.040Z"
      },
      {
        "duration": 40,
        "start_time": "2022-12-27T07:07:24.864Z"
      },
      {
        "duration": 2,
        "start_time": "2022-12-27T07:10:19.496Z"
      },
      {
        "duration": 231,
        "start_time": "2022-12-27T07:11:27.294Z"
      },
      {
        "duration": 710,
        "start_time": "2022-12-27T07:13:58.860Z"
      },
      {
        "duration": 17,
        "start_time": "2022-12-27T07:15:18.794Z"
      },
      {
        "duration": 3,
        "start_time": "2022-12-27T07:16:18.260Z"
      },
      {
        "duration": 618,
        "start_time": "2022-12-27T07:16:20.094Z"
      },
      {
        "duration": 11,
        "start_time": "2022-12-27T07:16:20.802Z"
      },
      {
        "duration": 605,
        "start_time": "2022-12-27T07:19:26.898Z"
      },
      {
        "duration": 11,
        "start_time": "2022-12-27T07:19:29.780Z"
      },
      {
        "duration": 84,
        "start_time": "2022-12-27T07:19:59.257Z"
      },
      {
        "duration": 17,
        "start_time": "2022-12-27T07:21:06.101Z"
      },
      {
        "duration": 3,
        "start_time": "2022-12-27T07:23:06.375Z"
      },
      {
        "duration": 30,
        "start_time": "2022-12-27T07:23:06.865Z"
      },
      {
        "duration": 14,
        "start_time": "2022-12-27T07:40:20.775Z"
      },
      {
        "duration": 3,
        "start_time": "2022-12-27T07:41:26.999Z"
      },
      {
        "duration": 5,
        "start_time": "2022-12-27T07:43:12.657Z"
      },
      {
        "duration": 10,
        "start_time": "2022-12-27T07:43:26.191Z"
      },
      {
        "duration": 8,
        "start_time": "2022-12-27T07:44:02.594Z"
      },
      {
        "duration": 5,
        "start_time": "2022-12-27T07:44:03.847Z"
      },
      {
        "duration": 22,
        "start_time": "2022-12-27T07:44:04.827Z"
      },
      {
        "duration": 92,
        "start_time": "2022-12-27T07:44:06.148Z"
      },
      {
        "duration": 3,
        "start_time": "2022-12-27T07:44:07.947Z"
      },
      {
        "duration": 34,
        "start_time": "2022-12-27T07:44:14.163Z"
      },
      {
        "duration": 302,
        "start_time": "2022-12-27T07:44:18.105Z"
      },
      {
        "duration": 4,
        "start_time": "2022-12-27T07:44:30.715Z"
      },
      {
        "duration": 22,
        "start_time": "2022-12-27T07:44:31.490Z"
      },
      {
        "duration": 823,
        "start_time": "2022-12-27T07:44:37.947Z"
      },
      {
        "duration": 10,
        "start_time": "2022-12-27T07:44:42.250Z"
      },
      {
        "duration": 217,
        "start_time": "2022-12-27T07:44:50.916Z"
      },
      {
        "duration": 14,
        "start_time": "2022-12-27T07:44:51.473Z"
      },
      {
        "duration": 12,
        "start_time": "2022-12-27T07:47:17.145Z"
      },
      {
        "duration": 3,
        "start_time": "2022-12-27T07:50:07.451Z"
      },
      {
        "duration": 94,
        "start_time": "2022-12-27T07:50:12.304Z"
      },
      {
        "duration": 917,
        "start_time": "2022-12-27T07:50:37.113Z"
      },
      {
        "duration": 1151,
        "start_time": "2022-12-27T07:50:54.358Z"
      },
      {
        "duration": 5,
        "start_time": "2022-12-27T07:51:08.643Z"
      },
      {
        "duration": 7,
        "start_time": "2022-12-27T07:51:09.703Z"
      },
      {
        "duration": 4,
        "start_time": "2022-12-27T07:51:10.656Z"
      },
      {
        "duration": 5,
        "start_time": "2022-12-27T07:51:13.158Z"
      },
      {
        "duration": 10,
        "start_time": "2022-12-27T07:51:18.274Z"
      },
      {
        "duration": 1018,
        "start_time": "2022-12-27T07:51:18.831Z"
      },
      {
        "duration": 9,
        "start_time": "2022-12-27T07:51:39.415Z"
      },
      {
        "duration": 5,
        "start_time": "2022-12-27T07:51:45.801Z"
      },
      {
        "duration": 60,
        "start_time": "2022-12-27T07:54:05.411Z"
      },
      {
        "duration": 4,
        "start_time": "2022-12-27T07:54:53.406Z"
      },
      {
        "duration": 424,
        "start_time": "2022-12-27T07:54:55.034Z"
      },
      {
        "duration": 4,
        "start_time": "2022-12-27T07:55:27.959Z"
      },
      {
        "duration": 90,
        "start_time": "2022-12-27T07:55:28.874Z"
      },
      {
        "duration": 27,
        "start_time": "2022-12-27T07:57:55.768Z"
      },
      {
        "duration": 14,
        "start_time": "2022-12-27T07:58:16.575Z"
      },
      {
        "duration": 3,
        "start_time": "2022-12-27T07:59:57.730Z"
      },
      {
        "duration": 13,
        "start_time": "2022-12-27T07:59:58.316Z"
      },
      {
        "duration": 87,
        "start_time": "2022-12-27T08:00:00.382Z"
      },
      {
        "duration": 6,
        "start_time": "2022-12-27T08:00:40.104Z"
      },
      {
        "duration": 37,
        "start_time": "2022-12-27T08:00:46.272Z"
      },
      {
        "duration": 6,
        "start_time": "2022-12-27T08:01:42.524Z"
      },
      {
        "duration": 25,
        "start_time": "2022-12-27T08:01:56.978Z"
      },
      {
        "duration": 4,
        "start_time": "2022-12-27T08:02:39.635Z"
      },
      {
        "duration": 21,
        "start_time": "2022-12-27T08:02:42.026Z"
      },
      {
        "duration": 5,
        "start_time": "2022-12-27T08:02:54.522Z"
      },
      {
        "duration": 59,
        "start_time": "2022-12-27T08:05:12.748Z"
      },
      {
        "duration": 18,
        "start_time": "2022-12-27T08:05:34.400Z"
      },
      {
        "duration": 94,
        "start_time": "2022-12-27T08:07:12.513Z"
      },
      {
        "duration": 5,
        "start_time": "2022-12-27T08:08:48.193Z"
      },
      {
        "duration": 88,
        "start_time": "2022-12-27T08:08:53.135Z"
      },
      {
        "duration": 26,
        "start_time": "2022-12-27T08:09:09.117Z"
      },
      {
        "duration": 18,
        "start_time": "2022-12-27T08:10:10.406Z"
      },
      {
        "duration": 16,
        "start_time": "2022-12-27T08:10:23.236Z"
      },
      {
        "duration": 18,
        "start_time": "2022-12-27T08:10:35.431Z"
      },
      {
        "duration": 6,
        "start_time": "2022-12-27T08:10:45.099Z"
      },
      {
        "duration": 5,
        "start_time": "2022-12-27T08:11:57.925Z"
      },
      {
        "duration": 18,
        "start_time": "2022-12-27T08:11:59.078Z"
      },
      {
        "duration": 95,
        "start_time": "2022-12-27T08:12:06.633Z"
      },
      {
        "duration": 3,
        "start_time": "2022-12-27T08:12:35.800Z"
      },
      {
        "duration": 324,
        "start_time": "2022-12-27T08:13:04.950Z"
      },
      {
        "duration": 116,
        "start_time": "2022-12-27T08:14:00.967Z"
      },
      {
        "duration": 6,
        "start_time": "2022-12-27T08:15:01.443Z"
      },
      {
        "duration": 10,
        "start_time": "2022-12-27T08:16:08.793Z"
      },
      {
        "duration": 24,
        "start_time": "2022-12-27T08:16:44.802Z"
      },
      {
        "duration": 96,
        "start_time": "2022-12-27T08:16:57.055Z"
      },
      {
        "duration": 4,
        "start_time": "2022-12-27T08:17:16.247Z"
      },
      {
        "duration": 27,
        "start_time": "2022-12-27T08:17:17.067Z"
      },
      {
        "duration": 247,
        "start_time": "2022-12-27T08:18:33.309Z"
      },
      {
        "duration": 3,
        "start_time": "2022-12-27T08:18:38.025Z"
      },
      {
        "duration": 17,
        "start_time": "2022-12-27T08:18:40.255Z"
      },
      {
        "duration": 21,
        "start_time": "2022-12-27T08:18:57.733Z"
      },
      {
        "duration": 964,
        "start_time": "2022-12-27T08:19:17.665Z"
      },
      {
        "duration": 17,
        "start_time": "2022-12-27T08:19:36.472Z"
      },
      {
        "duration": 237,
        "start_time": "2022-12-27T08:19:56.270Z"
      },
      {
        "duration": 17,
        "start_time": "2022-12-27T08:20:20.678Z"
      },
      {
        "duration": 5,
        "start_time": "2022-12-27T08:22:52.208Z"
      },
      {
        "duration": 10,
        "start_time": "2022-12-27T08:23:01.492Z"
      },
      {
        "duration": 13,
        "start_time": "2022-12-27T08:23:01.504Z"
      },
      {
        "duration": 841,
        "start_time": "2022-12-27T08:23:01.519Z"
      },
      {
        "duration": 4,
        "start_time": "2022-12-27T08:23:02.362Z"
      },
      {
        "duration": 8,
        "start_time": "2022-12-27T08:23:02.378Z"
      },
      {
        "duration": 32,
        "start_time": "2022-12-27T08:23:02.387Z"
      },
      {
        "duration": 12,
        "start_time": "2022-12-27T08:23:02.420Z"
      },
      {
        "duration": 58,
        "start_time": "2022-12-27T08:23:02.434Z"
      },
      {
        "duration": 5,
        "start_time": "2022-12-27T08:23:02.494Z"
      },
      {
        "duration": 9,
        "start_time": "2022-12-27T08:23:02.500Z"
      },
      {
        "duration": 95,
        "start_time": "2022-12-27T08:23:02.511Z"
      },
      {
        "duration": 36,
        "start_time": "2022-12-27T08:23:02.610Z"
      },
      {
        "duration": 191,
        "start_time": "2022-12-27T08:23:02.648Z"
      },
      {
        "duration": 11,
        "start_time": "2022-12-27T08:23:02.841Z"
      },
      {
        "duration": 3,
        "start_time": "2022-12-27T08:23:02.853Z"
      },
      {
        "duration": 6,
        "start_time": "2022-12-27T08:23:02.858Z"
      },
      {
        "duration": 8,
        "start_time": "2022-12-27T08:23:02.866Z"
      },
      {
        "duration": 27,
        "start_time": "2022-12-27T08:23:02.876Z"
      },
      {
        "duration": 7,
        "start_time": "2022-12-27T08:23:02.905Z"
      },
      {
        "duration": 9,
        "start_time": "2022-12-27T08:23:02.914Z"
      },
      {
        "duration": 23,
        "start_time": "2022-12-27T08:23:02.925Z"
      },
      {
        "duration": 9244,
        "start_time": "2022-12-27T08:23:02.950Z"
      },
      {
        "duration": 11,
        "start_time": "2022-12-27T08:23:12.196Z"
      },
      {
        "duration": 12,
        "start_time": "2022-12-27T08:23:12.209Z"
      },
      {
        "duration": 10,
        "start_time": "2022-12-27T08:23:12.223Z"
      },
      {
        "duration": 4,
        "start_time": "2022-12-27T08:23:12.235Z"
      },
      {
        "duration": 126,
        "start_time": "2022-12-27T08:23:12.241Z"
      },
      {
        "duration": 25,
        "start_time": "2022-12-27T08:23:12.369Z"
      },
      {
        "duration": 19,
        "start_time": "2022-12-27T08:23:12.396Z"
      },
      {
        "duration": 23,
        "start_time": "2022-12-27T08:23:12.417Z"
      },
      {
        "duration": 3,
        "start_time": "2022-12-27T08:23:37.511Z"
      },
      {
        "duration": 13,
        "start_time": "2022-12-27T08:23:38.022Z"
      },
      {
        "duration": 86,
        "start_time": "2022-12-27T08:23:39.844Z"
      },
      {
        "duration": 4,
        "start_time": "2022-12-27T08:23:46.403Z"
      },
      {
        "duration": 12,
        "start_time": "2022-12-27T08:23:47.217Z"
      },
      {
        "duration": 84,
        "start_time": "2022-12-27T08:23:48.453Z"
      },
      {
        "duration": 4,
        "start_time": "2022-12-27T08:23:49.593Z"
      },
      {
        "duration": 19,
        "start_time": "2022-12-27T08:23:50.424Z"
      },
      {
        "duration": 173,
        "start_time": "2022-12-27T08:23:52.964Z"
      },
      {
        "duration": 2,
        "start_time": "2022-12-27T08:23:55.959Z"
      },
      {
        "duration": 32,
        "start_time": "2022-12-27T08:23:59.979Z"
      },
      {
        "duration": 635,
        "start_time": "2022-12-27T08:24:03.966Z"
      },
      {
        "duration": 11,
        "start_time": "2022-12-27T08:24:07.545Z"
      },
      {
        "duration": 11,
        "start_time": "2022-12-27T08:24:14.792Z"
      },
      {
        "duration": 171,
        "start_time": "2022-12-27T08:24:16.197Z"
      },
      {
        "duration": 19,
        "start_time": "2022-12-27T08:24:17.868Z"
      },
      {
        "duration": 1313264,
        "start_time": "2022-12-27T08:27:28.001Z"
      },
      {
        "duration": 3,
        "start_time": "2022-12-27T09:07:28.418Z"
      },
      {
        "duration": 5,
        "start_time": "2022-12-27T09:07:29.252Z"
      },
      {
        "duration": 53,
        "start_time": "2022-12-27T09:07:30.550Z"
      },
      {
        "duration": 5,
        "start_time": "2022-12-27T09:07:31.702Z"
      },
      {
        "duration": 107,
        "start_time": "2022-12-27T09:07:33.638Z"
      },
      {
        "duration": 4,
        "start_time": "2022-12-27T09:07:38.717Z"
      },
      {
        "duration": 27,
        "start_time": "2022-12-27T09:07:39.567Z"
      },
      {
        "duration": 90,
        "start_time": "2022-12-27T09:07:40.712Z"
      },
      {
        "duration": 5,
        "start_time": "2022-12-27T09:07:42.724Z"
      },
      {
        "duration": 890,
        "start_time": "2022-12-27T09:07:44.263Z"
      },
      {
        "duration": 2009,
        "start_time": "2022-12-28T05:44:42.911Z"
      },
      {
        "duration": 3,
        "start_time": "2022-12-28T05:44:44.922Z"
      },
      {
        "duration": 2557,
        "start_time": "2022-12-28T05:44:44.926Z"
      },
      {
        "duration": 7,
        "start_time": "2022-12-28T05:44:47.485Z"
      },
      {
        "duration": 22,
        "start_time": "2022-12-28T05:44:47.493Z"
      },
      {
        "duration": 24,
        "start_time": "2022-12-28T05:44:47.517Z"
      },
      {
        "duration": 11,
        "start_time": "2022-12-28T05:44:47.543Z"
      },
      {
        "duration": 53,
        "start_time": "2022-12-28T05:44:47.555Z"
      },
      {
        "duration": 5,
        "start_time": "2022-12-28T05:44:47.610Z"
      },
      {
        "duration": 7,
        "start_time": "2022-12-28T05:44:47.618Z"
      },
      {
        "duration": 119,
        "start_time": "2022-12-28T05:44:47.636Z"
      },
      {
        "duration": 31,
        "start_time": "2022-12-28T05:44:47.756Z"
      },
      {
        "duration": 243,
        "start_time": "2022-12-28T05:44:47.789Z"
      },
      {
        "duration": 458,
        "start_time": "2022-12-28T05:44:48.033Z"
      },
      {
        "duration": 139,
        "start_time": "2022-12-28T05:44:48.493Z"
      },
      {
        "duration": 0,
        "start_time": "2022-12-28T05:44:48.635Z"
      },
      {
        "duration": 0,
        "start_time": "2022-12-28T05:44:48.638Z"
      },
      {
        "duration": 0,
        "start_time": "2022-12-28T05:44:48.640Z"
      },
      {
        "duration": 0,
        "start_time": "2022-12-28T05:44:48.642Z"
      },
      {
        "duration": 0,
        "start_time": "2022-12-28T05:44:48.644Z"
      },
      {
        "duration": 0,
        "start_time": "2022-12-28T05:44:48.645Z"
      },
      {
        "duration": 0,
        "start_time": "2022-12-28T05:44:48.647Z"
      },
      {
        "duration": 0,
        "start_time": "2022-12-28T05:44:48.650Z"
      },
      {
        "duration": 0,
        "start_time": "2022-12-28T05:44:48.652Z"
      },
      {
        "duration": 0,
        "start_time": "2022-12-28T05:44:48.654Z"
      },
      {
        "duration": 0,
        "start_time": "2022-12-28T05:44:48.656Z"
      },
      {
        "duration": 0,
        "start_time": "2022-12-28T05:44:48.658Z"
      },
      {
        "duration": 0,
        "start_time": "2022-12-28T05:44:48.660Z"
      },
      {
        "duration": 0,
        "start_time": "2022-12-28T05:44:48.663Z"
      },
      {
        "duration": 0,
        "start_time": "2022-12-28T05:44:48.665Z"
      },
      {
        "duration": 0,
        "start_time": "2022-12-28T05:44:48.667Z"
      },
      {
        "duration": 0,
        "start_time": "2022-12-28T05:44:48.669Z"
      },
      {
        "duration": 0,
        "start_time": "2022-12-28T05:44:48.670Z"
      },
      {
        "duration": 0,
        "start_time": "2022-12-28T05:44:48.671Z"
      },
      {
        "duration": 0,
        "start_time": "2022-12-28T05:44:48.672Z"
      },
      {
        "duration": 0,
        "start_time": "2022-12-28T05:44:48.673Z"
      },
      {
        "duration": 0,
        "start_time": "2022-12-28T05:44:48.675Z"
      },
      {
        "duration": 0,
        "start_time": "2022-12-28T05:44:48.676Z"
      },
      {
        "duration": 0,
        "start_time": "2022-12-28T05:44:48.676Z"
      },
      {
        "duration": 0,
        "start_time": "2022-12-28T05:44:48.736Z"
      },
      {
        "duration": 0,
        "start_time": "2022-12-28T05:44:48.737Z"
      },
      {
        "duration": 0,
        "start_time": "2022-12-28T05:44:48.738Z"
      },
      {
        "duration": 0,
        "start_time": "2022-12-28T05:44:48.740Z"
      },
      {
        "duration": 6,
        "start_time": "2022-12-28T05:45:38.938Z"
      },
      {
        "duration": 3,
        "start_time": "2022-12-28T05:45:40.945Z"
      },
      {
        "duration": 815,
        "start_time": "2022-12-28T05:45:43.596Z"
      },
      {
        "duration": 4,
        "start_time": "2022-12-28T05:45:46.010Z"
      },
      {
        "duration": 7,
        "start_time": "2022-12-28T05:45:47.337Z"
      },
      {
        "duration": 28,
        "start_time": "2022-12-28T05:45:51.707Z"
      },
      {
        "duration": 11,
        "start_time": "2022-12-28T05:45:54.177Z"
      },
      {
        "duration": 31,
        "start_time": "2022-12-28T05:45:55.273Z"
      },
      {
        "duration": 5,
        "start_time": "2022-12-28T05:45:57.720Z"
      },
      {
        "duration": 4,
        "start_time": "2022-12-28T05:46:00.852Z"
      },
      {
        "duration": 99,
        "start_time": "2022-12-28T05:46:01.796Z"
      },
      {
        "duration": 45,
        "start_time": "2022-12-28T05:46:12.175Z"
      },
      {
        "duration": 4,
        "start_time": "2022-12-28T05:46:14.673Z"
      },
      {
        "duration": 11,
        "start_time": "2022-12-28T05:46:15.115Z"
      },
      {
        "duration": 16,
        "start_time": "2022-12-28T05:46:17.272Z"
      },
      {
        "duration": 6,
        "start_time": "2022-12-28T05:53:07.634Z"
      },
      {
        "duration": 3,
        "start_time": "2022-12-28T05:53:10.521Z"
      },
      {
        "duration": 835,
        "start_time": "2022-12-28T05:53:11.332Z"
      },
      {
        "duration": 4,
        "start_time": "2022-12-28T05:53:12.169Z"
      },
      {
        "duration": 20,
        "start_time": "2022-12-28T05:53:12.174Z"
      },
      {
        "duration": 21,
        "start_time": "2022-12-28T05:53:12.739Z"
      },
      {
        "duration": 10,
        "start_time": "2022-12-28T05:53:14.307Z"
      },
      {
        "duration": 30,
        "start_time": "2022-12-28T05:53:14.771Z"
      },
      {
        "duration": 7,
        "start_time": "2022-12-28T05:53:16.161Z"
      },
      {
        "duration": 4,
        "start_time": "2022-12-28T05:53:17.410Z"
      },
      {
        "duration": 99,
        "start_time": "2022-12-28T05:55:09.373Z"
      },
      {
        "duration": 33,
        "start_time": "2022-12-28T05:55:14.378Z"
      },
      {
        "duration": 4,
        "start_time": "2022-12-28T05:55:15.826Z"
      },
      {
        "duration": 6,
        "start_time": "2022-12-28T05:55:16.733Z"
      },
      {
        "duration": 14,
        "start_time": "2022-12-28T05:55:18.367Z"
      },
      {
        "duration": 5,
        "start_time": "2022-12-28T05:56:09.030Z"
      },
      {
        "duration": 3,
        "start_time": "2022-12-28T05:56:15.461Z"
      },
      {
        "duration": 3,
        "start_time": "2022-12-28T05:56:17.897Z"
      },
      {
        "duration": 4,
        "start_time": "2022-12-28T05:56:19.263Z"
      },
      {
        "duration": 1399,
        "start_time": "2022-12-28T05:56:20.689Z"
      },
      {
        "duration": 4,
        "start_time": "2022-12-28T05:56:29.091Z"
      },
      {
        "duration": 3,
        "start_time": "2022-12-28T05:56:30.184Z"
      },
      {
        "duration": 2,
        "start_time": "2022-12-28T05:56:31.234Z"
      },
      {
        "duration": 3,
        "start_time": "2022-12-28T05:56:31.801Z"
      },
      {
        "duration": 2,
        "start_time": "2022-12-28T05:56:32.603Z"
      },
      {
        "duration": 1197303,
        "start_time": "2022-12-28T05:56:33.744Z"
      },
      {
        "duration": 4,
        "start_time": "2022-12-28T06:17:32.219Z"
      },
      {
        "duration": 4784,
        "start_time": "2022-12-28T06:19:10.593Z"
      },
      {
        "duration": 1572,
        "start_time": "2022-12-28T06:19:36.114Z"
      },
      {
        "duration": 3,
        "start_time": "2022-12-28T06:19:37.687Z"
      },
      {
        "duration": 861,
        "start_time": "2022-12-28T06:19:37.692Z"
      },
      {
        "duration": 6,
        "start_time": "2022-12-28T06:19:38.555Z"
      },
      {
        "duration": 21,
        "start_time": "2022-12-28T06:19:38.563Z"
      },
      {
        "duration": 31,
        "start_time": "2022-12-28T06:19:38.586Z"
      },
      {
        "duration": 23,
        "start_time": "2022-12-28T06:19:38.619Z"
      },
      {
        "duration": 47,
        "start_time": "2022-12-28T06:19:38.644Z"
      },
      {
        "duration": 22,
        "start_time": "2022-12-28T06:19:38.693Z"
      },
      {
        "duration": 29,
        "start_time": "2022-12-28T06:19:38.719Z"
      },
      {
        "duration": 121,
        "start_time": "2022-12-28T06:19:38.750Z"
      },
      {
        "duration": 29,
        "start_time": "2022-12-28T06:19:38.873Z"
      },
      {
        "duration": 235,
        "start_time": "2022-12-28T06:19:38.904Z"
      },
      {
        "duration": 11,
        "start_time": "2022-12-28T06:19:39.140Z"
      },
      {
        "duration": 3,
        "start_time": "2022-12-28T06:19:39.152Z"
      },
      {
        "duration": 6,
        "start_time": "2022-12-28T06:19:39.156Z"
      },
      {
        "duration": 6,
        "start_time": "2022-12-28T06:19:39.164Z"
      },
      {
        "duration": 1323,
        "start_time": "2022-12-28T06:19:39.172Z"
      },
      {
        "duration": 4,
        "start_time": "2022-12-28T06:19:40.497Z"
      },
      {
        "duration": 9,
        "start_time": "2022-12-28T06:19:40.502Z"
      },
      {
        "duration": 6,
        "start_time": "2022-12-28T06:19:40.513Z"
      },
      {
        "duration": 6,
        "start_time": "2022-12-28T06:19:40.521Z"
      },
      {
        "duration": 6,
        "start_time": "2022-12-28T06:19:40.535Z"
      },
      {
        "duration": 2,
        "start_time": "2022-12-28T06:19:45.303Z"
      },
      {
        "duration": 1189161,
        "start_time": "2022-12-28T06:19:45.818Z"
      },
      {
        "duration": 2,
        "start_time": "2022-12-28T06:39:58.041Z"
      },
      {
        "duration": 32,
        "start_time": "2022-12-28T06:39:58.953Z"
      },
      {
        "duration": 60,
        "start_time": "2022-12-28T06:39:59.806Z"
      },
      {
        "duration": 4,
        "start_time": "2022-12-28T06:40:01.431Z"
      },
      {
        "duration": 82,
        "start_time": "2022-12-28T06:40:03.278Z"
      },
      {
        "duration": 5,
        "start_time": "2022-12-28T06:40:06.932Z"
      },
      {
        "duration": 62,
        "start_time": "2022-12-28T06:40:07.907Z"
      },
      {
        "duration": 80,
        "start_time": "2022-12-28T06:40:09.248Z"
      },
      {
        "duration": 5,
        "start_time": "2022-12-28T06:40:10.337Z"
      },
      {
        "duration": 1720,
        "start_time": "2022-12-28T06:40:12.431Z"
      },
      {
        "duration": 6981,
        "start_time": "2022-12-28T06:40:14.153Z"
      },
      {
        "duration": 514,
        "start_time": "2022-12-28T06:40:22.871Z"
      },
      {
        "duration": 2282,
        "start_time": "2022-12-28T06:40:24.706Z"
      },
      {
        "duration": 51039,
        "start_time": "2022-12-28T06:40:30.619Z"
      },
      {
        "duration": 3,
        "start_time": "2022-12-28T06:41:34.405Z"
      },
      {
        "duration": 11110,
        "start_time": "2022-12-28T06:41:35.375Z"
      },
      {
        "duration": 66112,
        "start_time": "2022-12-28T06:41:54.196Z"
      },
      {
        "duration": 65,
        "start_time": "2022-12-28T06:49:14.496Z"
      },
      {
        "duration": 358862,
        "start_time": "2022-12-28T06:49:22.064Z"
      },
      {
        "duration": 424,
        "start_time": "2022-12-28T06:55:44.805Z"
      },
      {
        "duration": 2541,
        "start_time": "2022-12-28T09:19:55.705Z"
      },
      {
        "duration": 3,
        "start_time": "2022-12-28T09:20:01.173Z"
      },
      {
        "duration": 3249,
        "start_time": "2022-12-28T09:20:01.801Z"
      },
      {
        "duration": 7,
        "start_time": "2022-12-28T09:20:05.053Z"
      },
      {
        "duration": 20,
        "start_time": "2022-12-28T09:20:05.062Z"
      },
      {
        "duration": 20,
        "start_time": "2022-12-28T09:20:06.133Z"
      },
      {
        "duration": 10,
        "start_time": "2022-12-28T09:20:12.668Z"
      },
      {
        "duration": 30,
        "start_time": "2022-12-28T09:20:13.044Z"
      },
      {
        "duration": 5,
        "start_time": "2022-12-28T09:20:14.725Z"
      },
      {
        "duration": 3,
        "start_time": "2022-12-28T09:20:17.701Z"
      },
      {
        "duration": 88,
        "start_time": "2022-12-28T09:20:17.897Z"
      },
      {
        "duration": 29,
        "start_time": "2022-12-28T09:26:40.165Z"
      },
      {
        "duration": 235,
        "start_time": "2022-12-28T09:26:40.311Z"
      },
      {
        "duration": 451,
        "start_time": "2022-12-28T09:26:43.711Z"
      },
      {
        "duration": 4,
        "start_time": "2023-01-08T13:35:18.986Z"
      },
      {
        "duration": 7,
        "start_time": "2023-01-08T13:35:21.144Z"
      },
      {
        "duration": 46,
        "start_time": "2023-01-08T13:35:22.652Z"
      },
      {
        "duration": 438,
        "start_time": "2023-01-08T13:35:30.024Z"
      },
      {
        "duration": 2,
        "start_time": "2023-01-08T13:35:33.352Z"
      },
      {
        "duration": 3300,
        "start_time": "2023-01-08T13:35:34.383Z"
      },
      {
        "duration": 9,
        "start_time": "2023-01-08T13:35:39.106Z"
      },
      {
        "duration": 10,
        "start_time": "2023-01-08T13:35:40.571Z"
      },
      {
        "duration": 22,
        "start_time": "2023-01-08T13:35:43.832Z"
      },
      {
        "duration": 11,
        "start_time": "2023-01-08T13:35:45.330Z"
      },
      {
        "duration": 36,
        "start_time": "2023-01-08T13:35:45.979Z"
      },
      {
        "duration": 5,
        "start_time": "2023-01-08T13:35:46.849Z"
      },
      {
        "duration": 3,
        "start_time": "2023-01-08T13:35:52.296Z"
      },
      {
        "duration": 575,
        "start_time": "2023-01-08T13:35:53.751Z"
      },
      {
        "duration": 4,
        "start_time": "2023-01-08T13:36:06.089Z"
      },
      {
        "duration": 4,
        "start_time": "2023-01-08T13:36:12.911Z"
      },
      {
        "duration": 88,
        "start_time": "2023-01-08T13:36:13.738Z"
      },
      {
        "duration": 60,
        "start_time": "2023-01-08T13:36:22.785Z"
      },
      {
        "duration": 8,
        "start_time": "2023-01-08T13:36:24.392Z"
      },
      {
        "duration": 1061,
        "start_time": "2023-01-08T13:36:36.207Z"
      },
      {
        "duration": 175,
        "start_time": "2023-01-08T13:36:41.887Z"
      },
      {
        "duration": 469,
        "start_time": "2023-01-08T13:36:44.416Z"
      },
      {
        "duration": 62,
        "start_time": "2023-01-08T13:36:46.640Z"
      },
      {
        "duration": 3,
        "start_time": "2023-01-08T13:36:58.880Z"
      },
      {
        "duration": 3,
        "start_time": "2023-01-08T13:37:20.487Z"
      },
      {
        "duration": 3,
        "start_time": "2023-01-08T13:37:24.901Z"
      },
      {
        "duration": 4,
        "start_time": "2023-01-08T13:37:27.408Z"
      },
      {
        "duration": 124,
        "start_time": "2023-01-08T13:37:32.288Z"
      },
      {
        "duration": 4,
        "start_time": "2023-01-08T13:37:55.240Z"
      },
      {
        "duration": 4,
        "start_time": "2023-01-08T13:38:02.237Z"
      },
      {
        "duration": 1207,
        "start_time": "2023-01-08T13:38:03.051Z"
      },
      {
        "duration": 3,
        "start_time": "2023-01-08T13:38:07.245Z"
      },
      {
        "duration": 3,
        "start_time": "2023-01-08T13:38:08.478Z"
      },
      {
        "duration": 2,
        "start_time": "2023-01-08T13:38:10.620Z"
      },
      {
        "duration": 2,
        "start_time": "2023-01-08T13:38:11.152Z"
      },
      {
        "duration": 2,
        "start_time": "2023-01-08T13:38:11.893Z"
      },
      {
        "duration": 86,
        "start_time": "2023-01-08T13:38:14.575Z"
      },
      {
        "duration": 48,
        "start_time": "2023-01-08T13:38:40.555Z"
      },
      {
        "duration": 110,
        "start_time": "2023-01-08T13:38:47.335Z"
      },
      {
        "duration": 4,
        "start_time": "2023-01-08T13:38:59.357Z"
      },
      {
        "duration": 1250673,
        "start_time": "2023-01-08T13:39:05.599Z"
      },
      {
        "duration": 2,
        "start_time": "2023-01-08T14:00:03.163Z"
      },
      {
        "duration": 36,
        "start_time": "2023-01-08T14:00:03.632Z"
      },
      {
        "duration": 11,
        "start_time": "2023-01-08T14:00:04.871Z"
      },
      {
        "duration": 4,
        "start_time": "2023-01-08T14:00:22.322Z"
      },
      {
        "duration": 11,
        "start_time": "2023-01-08T14:00:28.095Z"
      },
      {
        "duration": 63,
        "start_time": "2023-01-08T14:00:28.464Z"
      },
      {
        "duration": 5,
        "start_time": "2023-01-08T14:00:30.344Z"
      },
      {
        "duration": 91,
        "start_time": "2023-01-08T14:00:31.449Z"
      },
      {
        "duration": 5,
        "start_time": "2023-01-08T14:00:34.923Z"
      },
      {
        "duration": 52,
        "start_time": "2023-01-08T14:00:36.935Z"
      },
      {
        "duration": 4,
        "start_time": "2023-01-08T14:01:07.121Z"
      },
      {
        "duration": 4,
        "start_time": "2023-01-08T14:01:15.055Z"
      },
      {
        "duration": 61,
        "start_time": "2023-01-08T14:01:15.546Z"
      },
      {
        "duration": 79,
        "start_time": "2023-01-08T14:01:16.664Z"
      },
      {
        "duration": 14,
        "start_time": "2023-01-08T14:01:19.469Z"
      },
      {
        "duration": 6,
        "start_time": "2023-01-08T14:01:32.168Z"
      },
      {
        "duration": 6,
        "start_time": "2023-01-08T14:01:39.072Z"
      },
      {
        "duration": 1592,
        "start_time": "2023-01-08T14:01:44.399Z"
      },
      {
        "duration": 11,
        "start_time": "2023-01-08T14:01:47.610Z"
      },
      {
        "duration": 4,
        "start_time": "2023-01-08T14:02:06.607Z"
      },
      {
        "duration": 6991,
        "start_time": "2023-01-08T14:02:20.942Z"
      },
      {
        "duration": 581,
        "start_time": "2023-01-08T14:02:29.219Z"
      },
      {
        "duration": 2345,
        "start_time": "2023-01-08T14:02:30.497Z"
      },
      {
        "duration": 134,
        "start_time": "2023-01-08T14:02:37.426Z"
      },
      {
        "duration": 44,
        "start_time": "2023-01-08T14:02:53.094Z"
      },
      {
        "duration": 673,
        "start_time": "2023-01-08T14:03:00.933Z"
      },
      {
        "duration": 5,
        "start_time": "2023-01-08T14:03:19.970Z"
      },
      {
        "duration": 53906,
        "start_time": "2023-01-08T14:03:24.832Z"
      },
      {
        "duration": 3,
        "start_time": "2023-01-08T14:04:22.068Z"
      },
      {
        "duration": 11864,
        "start_time": "2023-01-08T14:04:22.930Z"
      },
      {
        "duration": 5,
        "start_time": "2023-01-08T14:04:51.611Z"
      },
      {
        "duration": 11572,
        "start_time": "2023-01-08T14:04:59.797Z"
      },
      {
        "duration": 103,
        "start_time": "2023-01-08T14:05:17.066Z"
      },
      {
        "duration": 5,
        "start_time": "2023-01-08T14:05:28.764Z"
      },
      {
        "duration": 90,
        "start_time": "2023-01-08T14:05:36.519Z"
      },
      {
        "duration": 4,
        "start_time": "2023-01-08T14:05:51.340Z"
      },
      {
        "duration": 5,
        "start_time": "2023-01-08T14:07:13.356Z"
      },
      {
        "duration": 72687,
        "start_time": "2023-01-08T14:07:13.362Z"
      },
      {
        "duration": 26,
        "start_time": "2023-01-08T14:08:26.051Z"
      },
      {
        "duration": 65,
        "start_time": "2023-01-08T14:08:37.625Z"
      },
      {
        "duration": 390709,
        "start_time": "2023-01-08T14:08:40.417Z"
      },
      {
        "duration": 446,
        "start_time": "2023-01-08T14:15:15.845Z"
      },
      {
        "duration": 1961,
        "start_time": "2023-01-09T02:21:19.103Z"
      },
      {
        "duration": 2,
        "start_time": "2023-01-09T02:21:21.066Z"
      },
      {
        "duration": 3264,
        "start_time": "2023-01-09T02:21:21.070Z"
      },
      {
        "duration": 6,
        "start_time": "2023-01-09T02:21:24.337Z"
      },
      {
        "duration": 14,
        "start_time": "2023-01-09T02:21:24.344Z"
      },
      {
        "duration": 24,
        "start_time": "2023-01-09T02:21:24.360Z"
      },
      {
        "duration": 13,
        "start_time": "2023-01-09T02:21:24.386Z"
      },
      {
        "duration": 56,
        "start_time": "2023-01-09T02:21:24.401Z"
      },
      {
        "duration": 5,
        "start_time": "2023-01-09T02:21:24.459Z"
      },
      {
        "duration": 7,
        "start_time": "2023-01-09T02:21:24.466Z"
      },
      {
        "duration": 190,
        "start_time": "2023-01-09T02:21:24.475Z"
      },
      {
        "duration": 33,
        "start_time": "2023-01-09T02:21:24.667Z"
      },
      {
        "duration": 326,
        "start_time": "2023-01-09T02:21:24.702Z"
      },
      {
        "duration": 451,
        "start_time": "2023-01-09T02:21:25.029Z"
      },
      {
        "duration": 3,
        "start_time": "2023-01-09T02:21:25.482Z"
      },
      {
        "duration": 5,
        "start_time": "2023-01-09T02:21:25.486Z"
      },
      {
        "duration": 9,
        "start_time": "2023-01-09T02:21:25.493Z"
      },
      {
        "duration": 1341,
        "start_time": "2023-01-09T02:21:25.504Z"
      },
      {
        "duration": 4,
        "start_time": "2023-01-09T02:21:26.850Z"
      },
      {
        "duration": 9,
        "start_time": "2023-01-09T02:21:26.855Z"
      },
      {
        "duration": 7,
        "start_time": "2023-01-09T02:21:26.866Z"
      },
      {
        "duration": 6,
        "start_time": "2023-01-09T02:21:26.875Z"
      },
      {
        "duration": 7,
        "start_time": "2023-01-09T02:21:26.882Z"
      },
      {
        "duration": 60166,
        "start_time": "2023-01-09T02:27:28.723Z"
      },
      {
        "duration": 8049,
        "start_time": "2023-01-09T02:28:31.872Z"
      },
      {
        "duration": 9,
        "start_time": "2023-01-09T02:30:58.122Z"
      },
      {
        "duration": 1233949,
        "start_time": "2023-01-09T02:31:27.525Z"
      },
      {
        "duration": 9,
        "start_time": "2023-01-09T03:12:46.962Z"
      },
      {
        "duration": 3,
        "start_time": "2023-01-09T03:13:42.709Z"
      },
      {
        "duration": 29,
        "start_time": "2023-01-09T03:13:43.277Z"
      },
      {
        "duration": 67,
        "start_time": "2023-01-09T03:13:43.771Z"
      },
      {
        "duration": 4,
        "start_time": "2023-01-09T03:13:44.208Z"
      },
      {
        "duration": 92,
        "start_time": "2023-01-09T03:13:44.862Z"
      },
      {
        "duration": 5,
        "start_time": "2023-01-09T03:13:48.755Z"
      },
      {
        "duration": 70,
        "start_time": "2023-01-09T03:13:49.433Z"
      },
      {
        "duration": 87,
        "start_time": "2023-01-09T03:13:50.231Z"
      },
      {
        "duration": 6,
        "start_time": "2023-01-09T03:15:34.676Z"
      },
      {
        "duration": 5,
        "start_time": "2023-01-09T03:16:00.138Z"
      },
      {
        "duration": 11,
        "start_time": "2023-01-09T03:16:18.541Z"
      },
      {
        "duration": 4,
        "start_time": "2023-01-09T03:16:27.168Z"
      },
      {
        "duration": 1702,
        "start_time": "2023-01-09T03:17:02.767Z"
      },
      {
        "duration": 4,
        "start_time": "2023-01-09T03:17:17.669Z"
      },
      {
        "duration": 108,
        "start_time": "2023-01-09T03:47:50.989Z"
      },
      {
        "duration": 5,
        "start_time": "2023-01-09T03:48:07.789Z"
      },
      {
        "duration": 4980,
        "start_time": "2023-01-09T03:48:08.402Z"
      },
      {
        "duration": 3,
        "start_time": "2023-01-09T03:48:13.384Z"
      },
      {
        "duration": 1644,
        "start_time": "2023-01-09T03:48:13.389Z"
      },
      {
        "duration": 54183,
        "start_time": "2023-01-09T03:48:20.135Z"
      },
      {
        "duration": 3,
        "start_time": "2023-01-09T03:49:25.307Z"
      },
      {
        "duration": 11193,
        "start_time": "2023-01-09T03:49:26.911Z"
      },
      {
        "duration": 12,
        "start_time": "2023-01-09T03:49:57.092Z"
      },
      {
        "duration": 68234,
        "start_time": "2023-01-09T03:51:19.141Z"
      },
      {
        "duration": 69441,
        "start_time": "2023-01-09T03:53:36.307Z"
      },
      {
        "duration": 4,
        "start_time": "2023-01-09T03:55:08.203Z"
      },
      {
        "duration": 76573,
        "start_time": "2023-01-09T03:57:45.690Z"
      },
      {
        "duration": 5,
        "start_time": "2023-01-09T03:59:46.155Z"
      },
      {
        "duration": 7,
        "start_time": "2023-01-09T04:00:15.417Z"
      },
      {
        "duration": 38,
        "start_time": "2023-01-09T04:05:51.676Z"
      },
      {
        "duration": 37,
        "start_time": "2023-01-09T04:06:25.284Z"
      },
      {
        "duration": 40,
        "start_time": "2023-01-09T04:06:35.263Z"
      },
      {
        "duration": 17,
        "start_time": "2023-01-09T06:19:21.318Z"
      },
      {
        "duration": 3970,
        "start_time": "2023-01-09T06:19:51.257Z"
      },
      {
        "duration": 56,
        "start_time": "2023-01-09T06:20:00.130Z"
      },
      {
        "duration": 29,
        "start_time": "2023-01-09T06:22:39.856Z"
      },
      {
        "duration": 162,
        "start_time": "2023-01-09T06:22:45.549Z"
      },
      {
        "duration": 103,
        "start_time": "2023-01-09T06:26:51.513Z"
      },
      {
        "duration": 5,
        "start_time": "2023-01-09T06:26:51.981Z"
      },
      {
        "duration": 93,
        "start_time": "2023-01-09T06:27:06.973Z"
      },
      {
        "duration": 7,
        "start_time": "2023-01-09T06:28:16.830Z"
      },
      {
        "duration": 78,
        "start_time": "2023-01-09T06:28:17.737Z"
      },
      {
        "duration": 123,
        "start_time": "2023-01-09T06:28:18.524Z"
      },
      {
        "duration": 137,
        "start_time": "2023-01-09T06:28:36.632Z"
      },
      {
        "duration": 5,
        "start_time": "2023-01-09T06:28:42.345Z"
      },
      {
        "duration": 5065,
        "start_time": "2023-01-09T06:28:43.743Z"
      },
      {
        "duration": 5,
        "start_time": "2023-01-09T06:28:48.810Z"
      },
      {
        "duration": 867,
        "start_time": "2023-01-09T06:28:48.817Z"
      },
      {
        "duration": 4,
        "start_time": "2023-01-09T06:31:46.647Z"
      },
      {
        "duration": 759,
        "start_time": "2023-01-09T06:31:47.143Z"
      },
      {
        "duration": 3,
        "start_time": "2023-01-09T06:32:05.937Z"
      },
      {
        "duration": 1436,
        "start_time": "2023-01-09T06:32:06.552Z"
      },
      {
        "duration": 50487,
        "start_time": "2023-01-09T06:39:25.871Z"
      },
      {
        "duration": 3,
        "start_time": "2023-01-09T06:42:40.613Z"
      },
      {
        "duration": 12750,
        "start_time": "2023-01-09T06:42:41.205Z"
      },
      {
        "duration": 71786,
        "start_time": "2023-01-09T06:43:18.104Z"
      },
      {
        "duration": 5,
        "start_time": "2023-01-09T06:45:23.207Z"
      },
      {
        "duration": 64787,
        "start_time": "2023-01-09T06:45:49.927Z"
      },
      {
        "duration": 5,
        "start_time": "2023-01-09T06:47:07.157Z"
      },
      {
        "duration": 55,
        "start_time": "2023-01-09T06:47:08.961Z"
      },
      {
        "duration": 329441,
        "start_time": "2023-01-09T06:48:13.085Z"
      },
      {
        "duration": 344,
        "start_time": "2023-01-09T06:54:14.668Z"
      },
      {
        "duration": 2519,
        "start_time": "2023-01-09T06:54:56.460Z"
      },
      {
        "duration": 6,
        "start_time": "2023-01-09T06:54:58.982Z"
      },
      {
        "duration": 39,
        "start_time": "2023-01-09T06:54:58.989Z"
      },
      {
        "duration": 934,
        "start_time": "2023-01-09T06:54:59.030Z"
      },
      {
        "duration": 4,
        "start_time": "2023-01-09T06:54:59.966Z"
      },
      {
        "duration": 65,
        "start_time": "2023-01-09T06:54:59.972Z"
      },
      {
        "duration": 47,
        "start_time": "2023-01-09T06:55:00.038Z"
      },
      {
        "duration": 27,
        "start_time": "2023-01-09T06:55:00.086Z"
      },
      {
        "duration": 73,
        "start_time": "2023-01-09T06:55:00.115Z"
      },
      {
        "duration": 22,
        "start_time": "2023-01-09T06:55:00.190Z"
      },
      {
        "duration": 63,
        "start_time": "2023-01-09T06:55:00.215Z"
      },
      {
        "duration": 144,
        "start_time": "2023-01-09T06:55:00.281Z"
      },
      {
        "duration": 42,
        "start_time": "2023-01-09T06:55:00.428Z"
      },
      {
        "duration": 56,
        "start_time": "2023-01-09T06:55:00.473Z"
      },
      {
        "duration": 45,
        "start_time": "2023-01-09T06:55:00.530Z"
      },
      {
        "duration": 50,
        "start_time": "2023-01-09T06:55:00.577Z"
      },
      {
        "duration": 49,
        "start_time": "2023-01-09T06:55:00.629Z"
      },
      {
        "duration": 34,
        "start_time": "2023-01-09T06:55:00.680Z"
      },
      {
        "duration": 25,
        "start_time": "2023-01-09T06:55:00.716Z"
      },
      {
        "duration": 25,
        "start_time": "2023-01-09T06:55:00.743Z"
      },
      {
        "duration": 31,
        "start_time": "2023-01-09T06:55:00.770Z"
      },
      {
        "duration": 31,
        "start_time": "2023-01-09T06:55:00.803Z"
      },
      {
        "duration": 55,
        "start_time": "2023-01-09T06:55:00.836Z"
      },
      {
        "duration": 28,
        "start_time": "2023-01-09T06:55:00.893Z"
      },
      {
        "duration": 1255231,
        "start_time": "2023-01-09T06:55:00.936Z"
      },
      {
        "duration": 10,
        "start_time": "2023-01-09T07:15:56.181Z"
      },
      {
        "duration": 10,
        "start_time": "2023-01-09T07:15:56.193Z"
      },
      {
        "duration": 5,
        "start_time": "2023-01-09T07:15:56.205Z"
      },
      {
        "duration": 7,
        "start_time": "2023-01-09T07:15:56.212Z"
      },
      {
        "duration": 139,
        "start_time": "2023-01-09T07:15:56.221Z"
      },
      {
        "duration": 4,
        "start_time": "2023-01-09T07:15:56.362Z"
      },
      {
        "duration": 108,
        "start_time": "2023-01-09T07:15:56.368Z"
      },
      {
        "duration": 5,
        "start_time": "2023-01-09T07:15:56.478Z"
      },
      {
        "duration": 97,
        "start_time": "2023-01-09T07:15:56.485Z"
      },
      {
        "duration": 93,
        "start_time": "2023-01-09T07:15:56.584Z"
      },
      {
        "duration": 5,
        "start_time": "2023-01-09T07:15:56.679Z"
      },
      {
        "duration": 15,
        "start_time": "2023-01-09T07:15:56.686Z"
      },
      {
        "duration": 4845,
        "start_time": "2023-01-09T07:15:56.702Z"
      },
      {
        "duration": 5,
        "start_time": "2023-01-09T07:16:01.551Z"
      },
      {
        "duration": 728,
        "start_time": "2023-01-09T07:16:01.558Z"
      },
      {
        "duration": 6,
        "start_time": "2023-01-09T07:16:02.291Z"
      },
      {
        "duration": 1385,
        "start_time": "2023-01-09T07:16:02.299Z"
      },
      {
        "duration": 50373,
        "start_time": "2023-01-09T07:16:03.685Z"
      },
      {
        "duration": 3,
        "start_time": "2023-01-09T07:16:54.060Z"
      },
      {
        "duration": 12659,
        "start_time": "2023-01-09T07:16:54.064Z"
      },
      {
        "duration": 71303,
        "start_time": "2023-01-09T07:17:06.725Z"
      },
      {
        "duration": 4,
        "start_time": "2023-01-09T07:18:18.030Z"
      },
      {
        "duration": 66453,
        "start_time": "2023-01-09T07:18:18.036Z"
      },
      {
        "duration": 5,
        "start_time": "2023-01-09T07:19:24.490Z"
      },
      {
        "duration": 71,
        "start_time": "2023-01-09T07:19:24.496Z"
      },
      {
        "duration": 340367,
        "start_time": "2023-01-09T07:19:24.569Z"
      },
      {
        "duration": 369,
        "start_time": "2023-01-09T07:25:04.938Z"
      },
      {
        "duration": 52,
        "start_time": "2023-01-10T08:20:04.251Z"
      },
      {
        "duration": 3130,
        "start_time": "2023-01-10T08:21:13.206Z"
      },
      {
        "duration": 2051,
        "start_time": "2023-01-10T08:21:16.338Z"
      },
      {
        "duration": 3,
        "start_time": "2023-01-10T08:21:18.392Z"
      },
      {
        "duration": 1353,
        "start_time": "2023-01-10T08:21:18.398Z"
      },
      {
        "duration": 6,
        "start_time": "2023-01-10T08:21:19.753Z"
      },
      {
        "duration": 19,
        "start_time": "2023-01-10T08:21:19.760Z"
      },
      {
        "duration": 29,
        "start_time": "2023-01-10T08:21:19.781Z"
      },
      {
        "duration": 19,
        "start_time": "2023-01-10T08:21:19.812Z"
      },
      {
        "duration": 53,
        "start_time": "2023-01-10T08:21:19.834Z"
      },
      {
        "duration": 6,
        "start_time": "2023-01-10T08:21:19.889Z"
      },
      {
        "duration": 4,
        "start_time": "2023-01-10T08:21:19.897Z"
      },
      {
        "duration": 130,
        "start_time": "2023-01-10T08:21:19.903Z"
      },
      {
        "duration": 44,
        "start_time": "2023-01-10T08:21:20.034Z"
      },
      {
        "duration": 221,
        "start_time": "2023-01-10T08:21:20.083Z"
      },
      {
        "duration": 327,
        "start_time": "2023-01-10T08:21:20.306Z"
      },
      {
        "duration": 3,
        "start_time": "2023-01-10T08:21:20.635Z"
      },
      {
        "duration": 8,
        "start_time": "2023-01-10T08:21:20.639Z"
      },
      {
        "duration": 9,
        "start_time": "2023-01-10T08:21:20.649Z"
      },
      {
        "duration": 1493,
        "start_time": "2023-01-10T08:21:20.660Z"
      },
      {
        "duration": 5,
        "start_time": "2023-01-10T08:21:22.155Z"
      },
      {
        "duration": 22,
        "start_time": "2023-01-10T08:21:22.161Z"
      },
      {
        "duration": 6,
        "start_time": "2023-01-10T08:21:22.184Z"
      },
      {
        "duration": 9,
        "start_time": "2023-01-10T08:21:22.192Z"
      },
      {
        "duration": 11,
        "start_time": "2023-01-10T08:21:22.203Z"
      },
      {
        "duration": 1280722,
        "start_time": "2023-01-10T08:21:22.217Z"
      },
      {
        "duration": 9,
        "start_time": "2023-01-10T08:42:42.941Z"
      },
      {
        "duration": 26,
        "start_time": "2023-01-10T08:42:42.952Z"
      },
      {
        "duration": 15,
        "start_time": "2023-01-10T08:42:42.981Z"
      },
      {
        "duration": 8,
        "start_time": "2023-01-10T08:42:42.998Z"
      },
      {
        "duration": 145,
        "start_time": "2023-01-10T08:42:43.008Z"
      },
      {
        "duration": 107,
        "start_time": "2023-01-10T08:42:43.155Z"
      },
      {
        "duration": 0,
        "start_time": "2023-01-10T08:42:43.264Z"
      },
      {
        "duration": 0,
        "start_time": "2023-01-10T08:42:43.266Z"
      },
      {
        "duration": 0,
        "start_time": "2023-01-10T08:42:43.267Z"
      },
      {
        "duration": 0,
        "start_time": "2023-01-10T08:42:43.280Z"
      },
      {
        "duration": 0,
        "start_time": "2023-01-10T08:42:43.281Z"
      },
      {
        "duration": 0,
        "start_time": "2023-01-10T08:42:43.282Z"
      },
      {
        "duration": 0,
        "start_time": "2023-01-10T08:42:43.283Z"
      },
      {
        "duration": 0,
        "start_time": "2023-01-10T08:42:43.284Z"
      },
      {
        "duration": 0,
        "start_time": "2023-01-10T08:42:43.285Z"
      },
      {
        "duration": 0,
        "start_time": "2023-01-10T08:42:43.286Z"
      },
      {
        "duration": 0,
        "start_time": "2023-01-10T08:42:43.287Z"
      },
      {
        "duration": 13,
        "start_time": "2023-01-10T11:16:43.606Z"
      },
      {
        "duration": 12,
        "start_time": "2023-01-10T11:16:47.376Z"
      },
      {
        "duration": 2047,
        "start_time": "2023-01-10T11:17:01.211Z"
      },
      {
        "duration": 6,
        "start_time": "2023-01-10T11:17:03.261Z"
      },
      {
        "duration": 29,
        "start_time": "2023-01-10T11:17:03.269Z"
      },
      {
        "duration": 848,
        "start_time": "2023-01-10T11:17:03.300Z"
      },
      {
        "duration": 4,
        "start_time": "2023-01-10T11:17:04.150Z"
      },
      {
        "duration": 32,
        "start_time": "2023-01-10T11:17:04.156Z"
      },
      {
        "duration": 39,
        "start_time": "2023-01-10T11:17:04.190Z"
      },
      {
        "duration": 18,
        "start_time": "2023-01-10T11:17:04.231Z"
      },
      {
        "duration": 71,
        "start_time": "2023-01-10T11:17:04.251Z"
      },
      {
        "duration": 10,
        "start_time": "2023-01-10T11:17:04.326Z"
      },
      {
        "duration": 42,
        "start_time": "2023-01-10T11:17:04.339Z"
      },
      {
        "duration": 107,
        "start_time": "2023-01-10T11:17:04.383Z"
      },
      {
        "duration": 36,
        "start_time": "2023-01-10T11:17:04.492Z"
      },
      {
        "duration": 242,
        "start_time": "2023-01-10T11:17:04.530Z"
      },
      {
        "duration": 11,
        "start_time": "2023-01-10T11:17:04.773Z"
      },
      {
        "duration": 5,
        "start_time": "2023-01-10T11:17:04.785Z"
      },
      {
        "duration": 26,
        "start_time": "2023-01-10T11:17:04.791Z"
      },
      {
        "duration": 10,
        "start_time": "2023-01-10T11:17:04.819Z"
      },
      {
        "duration": 10,
        "start_time": "2023-01-10T11:17:04.831Z"
      },
      {
        "duration": 9,
        "start_time": "2023-01-10T11:17:04.843Z"
      },
      {
        "duration": 7,
        "start_time": "2023-01-10T11:17:04.853Z"
      },
      {
        "duration": 7,
        "start_time": "2023-01-10T11:17:04.861Z"
      },
      {
        "duration": 9,
        "start_time": "2023-01-10T11:17:04.869Z"
      },
      {
        "duration": 9,
        "start_time": "2023-01-10T11:17:04.879Z"
      },
      {
        "duration": 1264221,
        "start_time": "2023-01-10T11:17:04.889Z"
      },
      {
        "duration": 8,
        "start_time": "2023-01-10T11:38:09.112Z"
      },
      {
        "duration": 27,
        "start_time": "2023-01-10T11:38:09.122Z"
      },
      {
        "duration": 26,
        "start_time": "2023-01-10T11:38:09.153Z"
      },
      {
        "duration": 11,
        "start_time": "2023-01-10T11:38:09.181Z"
      },
      {
        "duration": 181,
        "start_time": "2023-01-10T11:38:09.194Z"
      },
      {
        "duration": 16,
        "start_time": "2023-01-10T11:38:09.377Z"
      },
      {
        "duration": 0,
        "start_time": "2023-01-10T11:38:09.395Z"
      },
      {
        "duration": 0,
        "start_time": "2023-01-10T11:38:09.397Z"
      },
      {
        "duration": 0,
        "start_time": "2023-01-10T11:38:09.398Z"
      },
      {
        "duration": 0,
        "start_time": "2023-01-10T11:38:09.399Z"
      },
      {
        "duration": 0,
        "start_time": "2023-01-10T11:38:09.400Z"
      },
      {
        "duration": 0,
        "start_time": "2023-01-10T11:38:09.401Z"
      },
      {
        "duration": 0,
        "start_time": "2023-01-10T11:38:09.402Z"
      },
      {
        "duration": 0,
        "start_time": "2023-01-10T11:38:09.403Z"
      },
      {
        "duration": 0,
        "start_time": "2023-01-10T11:38:09.404Z"
      },
      {
        "duration": 0,
        "start_time": "2023-01-10T11:38:09.405Z"
      },
      {
        "duration": 8,
        "start_time": "2023-01-10T11:46:53.469Z"
      },
      {
        "duration": 3,
        "start_time": "2023-01-10T11:46:56.010Z"
      },
      {
        "duration": 2,
        "start_time": "2023-01-10T11:46:56.594Z"
      },
      {
        "duration": 2,
        "start_time": "2023-01-10T11:46:57.831Z"
      },
      {
        "duration": 107,
        "start_time": "2023-01-10T11:46:58.321Z"
      },
      {
        "duration": 5,
        "start_time": "2023-01-10T11:47:00.894Z"
      },
      {
        "duration": 94,
        "start_time": "2023-01-10T11:47:02.742Z"
      },
      {
        "duration": 5,
        "start_time": "2023-01-10T11:47:10.194Z"
      },
      {
        "duration": 92,
        "start_time": "2023-01-10T11:47:11.498Z"
      },
      {
        "duration": 79,
        "start_time": "2023-01-10T11:47:11.947Z"
      },
      {
        "duration": 6,
        "start_time": "2023-01-10T11:47:15.671Z"
      },
      {
        "duration": 6,
        "start_time": "2023-01-10T11:47:19.910Z"
      },
      {
        "duration": 5303,
        "start_time": "2023-01-10T11:47:20.646Z"
      },
      {
        "duration": 4,
        "start_time": "2023-01-10T11:47:25.950Z"
      },
      {
        "duration": 666,
        "start_time": "2023-01-10T11:47:25.955Z"
      },
      {
        "duration": 4,
        "start_time": "2023-01-10T11:47:26.623Z"
      },
      {
        "duration": 678,
        "start_time": "2023-01-10T11:47:26.628Z"
      },
      {
        "duration": 3,
        "start_time": "2023-01-10T11:47:27.308Z"
      },
      {
        "duration": 54612,
        "start_time": "2023-01-10T11:47:34.674Z"
      },
      {
        "duration": 3,
        "start_time": "2023-01-10T11:48:37.400Z"
      },
      {
        "duration": 14594,
        "start_time": "2023-01-10T11:48:38.046Z"
      },
      {
        "duration": 80388,
        "start_time": "2023-01-10T11:48:58.679Z"
      },
      {
        "duration": 12,
        "start_time": "2023-01-10T11:50:19.070Z"
      },
      {
        "duration": 6,
        "start_time": "2023-01-10T11:50:56.155Z"
      },
      {
        "duration": 76385,
        "start_time": "2023-01-10T11:56:09.133Z"
      },
      {
        "duration": 75177,
        "start_time": "2023-01-10T11:58:07.903Z"
      },
      {
        "duration": 5,
        "start_time": "2023-01-10T12:00:20.596Z"
      },
      {
        "duration": 45,
        "start_time": "2023-01-10T12:00:22.326Z"
      },
      {
        "duration": 406970,
        "start_time": "2023-01-10T12:00:33.814Z"
      },
      {
        "duration": 211,
        "start_time": "2023-01-10T12:07:20.786Z"
      },
      {
        "duration": 12,
        "start_time": "2023-01-10T12:08:23.890Z"
      },
      {
        "duration": 149463,
        "start_time": "2023-01-10T12:09:43.649Z"
      },
      {
        "duration": 4,
        "start_time": "2023-01-10T12:12:31.639Z"
      },
      {
        "duration": 33,
        "start_time": "2023-01-10T12:12:33.934Z"
      },
      {
        "duration": 13,
        "start_time": "2023-01-10T12:12:49.251Z"
      },
      {
        "duration": 13,
        "start_time": "2023-01-10T12:13:00.150Z"
      },
      {
        "duration": 261,
        "start_time": "2023-01-10T12:22:01.832Z"
      },
      {
        "duration": 2067,
        "start_time": "2023-01-10T12:22:51.069Z"
      },
      {
        "duration": 1669,
        "start_time": "2023-01-10T12:22:53.139Z"
      },
      {
        "duration": 3,
        "start_time": "2023-01-10T12:22:54.810Z"
      },
      {
        "duration": 861,
        "start_time": "2023-01-10T12:22:54.815Z"
      },
      {
        "duration": 6,
        "start_time": "2023-01-10T12:22:55.677Z"
      },
      {
        "duration": 15,
        "start_time": "2023-01-10T12:22:55.685Z"
      },
      {
        "duration": 31,
        "start_time": "2023-01-10T12:22:55.702Z"
      },
      {
        "duration": 13,
        "start_time": "2023-01-10T12:22:55.735Z"
      },
      {
        "duration": 53,
        "start_time": "2023-01-10T12:22:55.750Z"
      },
      {
        "duration": 7,
        "start_time": "2023-01-10T12:22:55.807Z"
      },
      {
        "duration": 4,
        "start_time": "2023-01-10T12:22:55.816Z"
      },
      {
        "duration": 175,
        "start_time": "2023-01-10T12:22:55.822Z"
      },
      {
        "duration": 36,
        "start_time": "2023-01-10T12:22:55.999Z"
      },
      {
        "duration": 191,
        "start_time": "2023-01-10T12:22:56.037Z"
      },
      {
        "duration": 11,
        "start_time": "2023-01-10T12:22:56.230Z"
      },
      {
        "duration": 3,
        "start_time": "2023-01-10T12:22:56.243Z"
      },
      {
        "duration": 8,
        "start_time": "2023-01-10T12:22:56.248Z"
      },
      {
        "duration": 20,
        "start_time": "2023-01-10T12:22:56.258Z"
      },
      {
        "duration": 1474,
        "start_time": "2023-01-10T12:22:56.280Z"
      },
      {
        "duration": 4,
        "start_time": "2023-01-10T12:22:57.755Z"
      },
      {
        "duration": 17,
        "start_time": "2023-01-10T12:22:57.761Z"
      },
      {
        "duration": 11,
        "start_time": "2023-01-10T12:22:57.780Z"
      },
      {
        "duration": 5,
        "start_time": "2023-01-10T12:22:57.793Z"
      },
      {
        "duration": 8,
        "start_time": "2023-01-10T12:22:57.800Z"
      },
      {
        "duration": 1215078,
        "start_time": "2023-01-10T12:22:57.810Z"
      },
      {
        "duration": 8,
        "start_time": "2023-01-10T12:43:12.890Z"
      },
      {
        "duration": 10,
        "start_time": "2023-01-10T12:43:12.900Z"
      },
      {
        "duration": 8,
        "start_time": "2023-01-10T12:43:12.913Z"
      },
      {
        "duration": 8,
        "start_time": "2023-01-10T12:43:12.923Z"
      },
      {
        "duration": 137,
        "start_time": "2023-01-10T12:43:12.933Z"
      },
      {
        "duration": 7,
        "start_time": "2023-01-10T12:43:13.072Z"
      },
      {
        "duration": 104,
        "start_time": "2023-01-10T12:43:13.081Z"
      },
      {
        "duration": 5,
        "start_time": "2023-01-10T12:43:13.187Z"
      },
      {
        "duration": 122,
        "start_time": "2023-01-10T12:43:13.193Z"
      },
      {
        "duration": 89,
        "start_time": "2023-01-10T12:43:13.316Z"
      },
      {
        "duration": 6,
        "start_time": "2023-01-10T12:43:13.407Z"
      },
      {
        "duration": 6,
        "start_time": "2023-01-10T12:43:13.414Z"
      },
      {
        "duration": 5378,
        "start_time": "2023-01-10T12:43:13.422Z"
      },
      {
        "duration": 4,
        "start_time": "2023-01-10T12:43:18.803Z"
      },
      {
        "duration": 744,
        "start_time": "2023-01-10T12:43:18.809Z"
      },
      {
        "duration": 9,
        "start_time": "2023-01-10T12:43:19.554Z"
      },
      {
        "duration": 709,
        "start_time": "2023-01-10T12:43:19.565Z"
      },
      {
        "duration": 2,
        "start_time": "2023-01-10T12:43:20.277Z"
      },
      {
        "duration": 55938,
        "start_time": "2023-01-10T12:43:20.281Z"
      },
      {
        "duration": 3,
        "start_time": "2023-01-10T12:44:16.222Z"
      },
      {
        "duration": 14720,
        "start_time": "2023-01-10T12:44:16.227Z"
      },
      {
        "duration": 81965,
        "start_time": "2023-01-10T12:44:30.949Z"
      },
      {
        "duration": 212849,
        "start_time": "2023-01-10T12:45:52.916Z"
      },
      {
        "duration": 5,
        "start_time": "2023-01-10T12:49:25.766Z"
      },
      {
        "duration": 39,
        "start_time": "2023-01-10T12:49:25.778Z"
      },
      {
        "duration": 428258,
        "start_time": "2023-01-10T12:49:25.820Z"
      },
      {
        "duration": 207,
        "start_time": "2023-01-10T12:56:34.080Z"
      },
      {
        "duration": 13,
        "start_time": "2023-01-10T12:56:34.289Z"
      },
      {
        "duration": 236701,
        "start_time": "2023-01-10T12:58:13.263Z"
      },
      {
        "duration": 4,
        "start_time": "2023-01-10T13:03:00.028Z"
      },
      {
        "duration": 33,
        "start_time": "2023-01-10T13:03:01.893Z"
      },
      {
        "duration": 289040,
        "start_time": "2023-01-10T13:03:17.266Z"
      },
      {
        "duration": 83,
        "start_time": "2023-01-10T13:11:38.978Z"
      },
      {
        "duration": 12,
        "start_time": "2023-01-10T13:14:19.638Z"
      },
      {
        "duration": 2096,
        "start_time": "2023-01-10T13:14:58.514Z"
      },
      {
        "duration": 1861,
        "start_time": "2023-01-10T13:15:00.613Z"
      },
      {
        "duration": 3,
        "start_time": "2023-01-10T13:15:02.476Z"
      },
      {
        "duration": 852,
        "start_time": "2023-01-10T13:15:02.482Z"
      },
      {
        "duration": 6,
        "start_time": "2023-01-10T13:15:03.336Z"
      },
      {
        "duration": 14,
        "start_time": "2023-01-10T13:15:03.344Z"
      },
      {
        "duration": 47,
        "start_time": "2023-01-10T13:15:03.360Z"
      },
      {
        "duration": 15,
        "start_time": "2023-01-10T13:15:03.409Z"
      },
      {
        "duration": 56,
        "start_time": "2023-01-10T13:15:03.425Z"
      },
      {
        "duration": 5,
        "start_time": "2023-01-10T13:15:03.484Z"
      },
      {
        "duration": 3,
        "start_time": "2023-01-10T13:15:03.491Z"
      },
      {
        "duration": 133,
        "start_time": "2023-01-10T13:15:03.496Z"
      },
      {
        "duration": 34,
        "start_time": "2023-01-10T13:15:03.631Z"
      },
      {
        "duration": 203,
        "start_time": "2023-01-10T13:15:03.677Z"
      },
      {
        "duration": 13,
        "start_time": "2023-01-10T13:15:03.882Z"
      },
      {
        "duration": 4,
        "start_time": "2023-01-10T13:15:03.897Z"
      },
      {
        "duration": 17,
        "start_time": "2023-01-10T13:15:03.902Z"
      },
      {
        "duration": 5,
        "start_time": "2023-01-10T13:15:03.921Z"
      },
      {
        "duration": 1498,
        "start_time": "2023-01-10T13:15:03.928Z"
      },
      {
        "duration": 3,
        "start_time": "2023-01-10T13:15:05.428Z"
      },
      {
        "duration": 7,
        "start_time": "2023-01-10T13:15:05.433Z"
      },
      {
        "duration": 5,
        "start_time": "2023-01-10T13:15:05.442Z"
      },
      {
        "duration": 5,
        "start_time": "2023-01-10T13:15:05.449Z"
      },
      {
        "duration": 5,
        "start_time": "2023-01-10T13:15:05.477Z"
      },
      {
        "duration": 1245373,
        "start_time": "2023-01-10T13:15:05.484Z"
      },
      {
        "duration": 20,
        "start_time": "2023-01-10T13:35:50.859Z"
      },
      {
        "duration": 3,
        "start_time": "2023-01-10T13:35:50.880Z"
      },
      {
        "duration": 3,
        "start_time": "2023-01-10T13:35:50.887Z"
      },
      {
        "duration": 6,
        "start_time": "2023-01-10T13:35:50.892Z"
      },
      {
        "duration": 173,
        "start_time": "2023-01-10T13:35:50.899Z"
      },
      {
        "duration": 6,
        "start_time": "2023-01-10T13:35:51.074Z"
      },
      {
        "duration": 107,
        "start_time": "2023-01-10T13:35:51.082Z"
      },
      {
        "duration": 4,
        "start_time": "2023-01-10T13:35:51.192Z"
      },
      {
        "duration": 117,
        "start_time": "2023-01-10T13:35:51.198Z"
      },
      {
        "duration": 92,
        "start_time": "2023-01-10T13:35:51.317Z"
      },
      {
        "duration": 6,
        "start_time": "2023-01-10T13:35:51.411Z"
      },
      {
        "duration": 6,
        "start_time": "2023-01-10T13:35:51.419Z"
      },
      {
        "duration": 5427,
        "start_time": "2023-01-10T13:35:51.427Z"
      },
      {
        "duration": 3,
        "start_time": "2023-01-10T13:35:56.856Z"
      },
      {
        "duration": 679,
        "start_time": "2023-01-10T13:35:56.861Z"
      },
      {
        "duration": 4,
        "start_time": "2023-01-10T13:35:57.542Z"
      },
      {
        "duration": 755,
        "start_time": "2023-01-10T13:35:57.548Z"
      },
      {
        "duration": 4,
        "start_time": "2023-01-10T13:35:58.306Z"
      },
      {
        "duration": 59865,
        "start_time": "2023-01-10T13:35:58.312Z"
      },
      {
        "duration": 3,
        "start_time": "2023-01-10T13:36:58.179Z"
      },
      {
        "duration": 14891,
        "start_time": "2023-01-10T13:36:58.184Z"
      },
      {
        "duration": 81794,
        "start_time": "2023-01-10T13:37:13.078Z"
      },
      {
        "duration": 321146,
        "start_time": "2023-01-10T13:38:34.874Z"
      },
      {
        "duration": 4,
        "start_time": "2023-01-10T13:43:56.022Z"
      },
      {
        "duration": 34,
        "start_time": "2023-01-10T13:43:56.028Z"
      },
      {
        "duration": 427171,
        "start_time": "2023-01-10T13:43:56.078Z"
      },
      {
        "duration": 203,
        "start_time": "2023-01-10T13:51:03.251Z"
      },
      {
        "duration": 29,
        "start_time": "2023-01-10T13:51:03.456Z"
      },
      {
        "duration": 2264,
        "start_time": "2023-01-10T14:09:42.946Z"
      },
      {
        "duration": 1797,
        "start_time": "2023-01-10T14:09:45.213Z"
      },
      {
        "duration": 3,
        "start_time": "2023-01-10T14:09:47.012Z"
      },
      {
        "duration": 957,
        "start_time": "2023-01-10T14:09:47.017Z"
      },
      {
        "duration": 8,
        "start_time": "2023-01-10T14:09:47.976Z"
      },
      {
        "duration": 42,
        "start_time": "2023-01-10T14:09:47.988Z"
      },
      {
        "duration": 42,
        "start_time": "2023-01-10T14:09:48.032Z"
      },
      {
        "duration": 23,
        "start_time": "2023-01-10T14:09:48.075Z"
      },
      {
        "duration": 49,
        "start_time": "2023-01-10T14:09:48.100Z"
      },
      {
        "duration": 19,
        "start_time": "2023-01-10T14:09:48.151Z"
      },
      {
        "duration": 29,
        "start_time": "2023-01-10T14:09:48.172Z"
      },
      {
        "duration": 152,
        "start_time": "2023-01-10T14:09:48.203Z"
      },
      {
        "duration": 46,
        "start_time": "2023-01-10T14:09:48.357Z"
      },
      {
        "duration": 296,
        "start_time": "2023-01-10T14:09:48.408Z"
      },
      {
        "duration": 12,
        "start_time": "2023-01-10T14:09:48.706Z"
      },
      {
        "duration": 10,
        "start_time": "2023-01-10T14:09:48.720Z"
      },
      {
        "duration": 64,
        "start_time": "2023-01-10T14:09:48.732Z"
      },
      {
        "duration": 20,
        "start_time": "2023-01-10T14:09:48.797Z"
      },
      {
        "duration": 1648,
        "start_time": "2023-01-10T14:09:48.819Z"
      },
      {
        "duration": 4,
        "start_time": "2023-01-10T14:09:50.469Z"
      },
      {
        "duration": 21,
        "start_time": "2023-01-10T14:09:50.480Z"
      },
      {
        "duration": 9,
        "start_time": "2023-01-10T14:09:50.503Z"
      },
      {
        "duration": 14,
        "start_time": "2023-01-10T14:09:50.513Z"
      },
      {
        "duration": 11,
        "start_time": "2023-01-10T14:09:50.529Z"
      },
      {
        "duration": 1350154,
        "start_time": "2023-01-10T14:09:50.544Z"
      },
      {
        "duration": 8,
        "start_time": "2023-01-10T14:32:20.700Z"
      },
      {
        "duration": 7,
        "start_time": "2023-01-10T14:32:20.711Z"
      },
      {
        "duration": 7,
        "start_time": "2023-01-10T14:32:20.719Z"
      },
      {
        "duration": 11,
        "start_time": "2023-01-10T14:32:20.728Z"
      },
      {
        "duration": 152,
        "start_time": "2023-01-10T14:32:20.741Z"
      },
      {
        "duration": 5,
        "start_time": "2023-01-10T14:32:20.895Z"
      },
      {
        "duration": 132,
        "start_time": "2023-01-10T14:32:20.902Z"
      },
      {
        "duration": 4,
        "start_time": "2023-01-10T14:32:21.036Z"
      },
      {
        "duration": 151,
        "start_time": "2023-01-10T14:32:21.042Z"
      },
      {
        "duration": 96,
        "start_time": "2023-01-10T14:32:21.195Z"
      },
      {
        "duration": 6,
        "start_time": "2023-01-10T14:32:21.293Z"
      },
      {
        "duration": 15,
        "start_time": "2023-01-10T14:32:21.303Z"
      },
      {
        "duration": 6029,
        "start_time": "2023-01-10T14:32:21.320Z"
      },
      {
        "duration": 3,
        "start_time": "2023-01-10T14:32:27.352Z"
      },
      {
        "duration": 735,
        "start_time": "2023-01-10T14:32:27.357Z"
      },
      {
        "duration": 3,
        "start_time": "2023-01-10T14:32:28.097Z"
      },
      {
        "duration": 410,
        "start_time": "2023-01-10T14:32:28.101Z"
      },
      {
        "duration": 4,
        "start_time": "2023-01-10T14:32:28.513Z"
      },
      {
        "duration": 63000,
        "start_time": "2023-01-10T14:32:28.519Z"
      },
      {
        "duration": 3,
        "start_time": "2023-01-10T14:33:31.520Z"
      },
      {
        "duration": 10362,
        "start_time": "2023-01-10T14:33:31.525Z"
      },
      {
        "duration": 68962,
        "start_time": "2023-01-10T14:33:41.889Z"
      },
      {
        "duration": 332099,
        "start_time": "2023-01-10T14:34:50.853Z"
      },
      {
        "duration": 4,
        "start_time": "2023-01-10T14:40:22.954Z"
      },
      {
        "duration": 56,
        "start_time": "2023-01-10T14:40:22.960Z"
      },
      {
        "duration": 458531,
        "start_time": "2023-01-10T14:40:23.018Z"
      },
      {
        "duration": 154,
        "start_time": "2023-01-10T14:48:01.550Z"
      },
      {
        "duration": 11,
        "start_time": "2023-01-10T14:48:01.706Z"
      },
      {
        "duration": 52,
        "start_time": "2023-01-11T00:49:00.114Z"
      },
      {
        "duration": 3329,
        "start_time": "2023-01-11T00:49:53.314Z"
      },
      {
        "duration": 2005,
        "start_time": "2023-01-11T00:49:56.645Z"
      },
      {
        "duration": 3,
        "start_time": "2023-01-11T00:49:58.652Z"
      },
      {
        "duration": 3901,
        "start_time": "2023-01-11T00:49:58.657Z"
      },
      {
        "duration": 6,
        "start_time": "2023-01-11T00:50:02.560Z"
      },
      {
        "duration": 15,
        "start_time": "2023-01-11T00:50:02.568Z"
      },
      {
        "duration": 24,
        "start_time": "2023-01-11T00:50:02.584Z"
      },
      {
        "duration": 11,
        "start_time": "2023-01-11T00:50:02.610Z"
      },
      {
        "duration": 50,
        "start_time": "2023-01-11T00:50:02.623Z"
      },
      {
        "duration": 17,
        "start_time": "2023-01-11T00:50:02.677Z"
      },
      {
        "duration": 7,
        "start_time": "2023-01-11T00:50:02.697Z"
      },
      {
        "duration": 116,
        "start_time": "2023-01-11T00:50:02.706Z"
      },
      {
        "duration": 38,
        "start_time": "2023-01-11T00:50:02.824Z"
      },
      {
        "duration": 255,
        "start_time": "2023-01-11T00:50:02.864Z"
      },
      {
        "duration": 304,
        "start_time": "2023-01-11T00:50:03.121Z"
      },
      {
        "duration": 3,
        "start_time": "2023-01-11T00:50:03.426Z"
      },
      {
        "duration": 7,
        "start_time": "2023-01-11T00:50:03.431Z"
      },
      {
        "duration": 11,
        "start_time": "2023-01-11T00:50:03.440Z"
      },
      {
        "duration": 1482,
        "start_time": "2023-01-11T00:50:03.453Z"
      },
      {
        "duration": 4,
        "start_time": "2023-01-11T00:50:04.937Z"
      },
      {
        "duration": 12,
        "start_time": "2023-01-11T00:50:04.942Z"
      },
      {
        "duration": 6,
        "start_time": "2023-01-11T00:50:04.956Z"
      },
      {
        "duration": 7,
        "start_time": "2023-01-11T00:50:04.964Z"
      },
      {
        "duration": 9,
        "start_time": "2023-01-11T00:50:04.973Z"
      },
      {
        "duration": 1262045,
        "start_time": "2023-01-11T00:50:04.984Z"
      },
      {
        "duration": 8,
        "start_time": "2023-01-11T01:11:07.031Z"
      },
      {
        "duration": 2,
        "start_time": "2023-01-11T01:11:07.051Z"
      },
      {
        "duration": 8,
        "start_time": "2023-01-11T01:11:07.057Z"
      },
      {
        "duration": 7,
        "start_time": "2023-01-11T01:11:07.066Z"
      },
      {
        "duration": 115,
        "start_time": "2023-01-11T01:11:07.075Z"
      },
      {
        "duration": 4,
        "start_time": "2023-01-11T01:11:07.192Z"
      },
      {
        "duration": 120,
        "start_time": "2023-01-11T01:11:07.198Z"
      },
      {
        "duration": 5,
        "start_time": "2023-01-11T01:11:07.320Z"
      },
      {
        "duration": 101,
        "start_time": "2023-01-11T01:11:07.326Z"
      },
      {
        "duration": 83,
        "start_time": "2023-01-11T01:11:07.428Z"
      },
      {
        "duration": 5,
        "start_time": "2023-01-11T01:11:07.513Z"
      },
      {
        "duration": 7,
        "start_time": "2023-01-11T01:11:07.519Z"
      },
      {
        "duration": 5210,
        "start_time": "2023-01-11T01:11:07.527Z"
      },
      {
        "duration": 3,
        "start_time": "2023-01-11T01:11:12.739Z"
      },
      {
        "duration": 665,
        "start_time": "2023-01-11T01:11:12.751Z"
      },
      {
        "duration": 3,
        "start_time": "2023-01-11T01:11:13.418Z"
      },
      {
        "duration": 651,
        "start_time": "2023-01-11T01:11:13.422Z"
      },
      {
        "duration": 4,
        "start_time": "2023-01-11T01:11:14.075Z"
      },
      {
        "duration": 58485,
        "start_time": "2023-01-11T01:11:14.080Z"
      },
      {
        "duration": 3,
        "start_time": "2023-01-11T01:12:12.567Z"
      },
      {
        "duration": 15376,
        "start_time": "2023-01-11T01:12:12.572Z"
      },
      {
        "duration": 88651,
        "start_time": "2023-01-11T01:12:27.950Z"
      },
      {
        "duration": 273279,
        "start_time": "2023-01-11T01:13:56.603Z"
      },
      {
        "duration": 5,
        "start_time": "2023-01-11T01:18:29.884Z"
      },
      {
        "duration": 39,
        "start_time": "2023-01-11T01:18:29.890Z"
      },
      {
        "duration": 473276,
        "start_time": "2023-01-11T01:18:29.932Z"
      },
      {
        "duration": 217,
        "start_time": "2023-01-11T01:26:23.210Z"
      },
      {
        "duration": 21,
        "start_time": "2023-01-11T01:26:23.430Z"
      },
      {
        "duration": 4930,
        "start_time": "2023-01-11T02:18:43.141Z"
      },
      {
        "duration": 2268,
        "start_time": "2023-01-11T02:19:46.184Z"
      },
      {
        "duration": 1923,
        "start_time": "2023-01-11T02:19:48.456Z"
      },
      {
        "duration": 3,
        "start_time": "2023-01-11T02:19:50.381Z"
      },
      {
        "duration": 921,
        "start_time": "2023-01-11T02:19:50.387Z"
      },
      {
        "duration": 7,
        "start_time": "2023-01-11T02:19:51.310Z"
      },
      {
        "duration": 18,
        "start_time": "2023-01-11T02:19:51.318Z"
      },
      {
        "duration": 38,
        "start_time": "2023-01-11T02:19:51.337Z"
      },
      {
        "duration": 11,
        "start_time": "2023-01-11T02:19:51.377Z"
      },
      {
        "duration": 37,
        "start_time": "2023-01-11T02:19:51.390Z"
      },
      {
        "duration": 23,
        "start_time": "2023-01-11T02:19:51.429Z"
      },
      {
        "duration": 3,
        "start_time": "2023-01-11T02:19:51.454Z"
      },
      {
        "duration": 116,
        "start_time": "2023-01-11T02:19:51.459Z"
      },
      {
        "duration": 34,
        "start_time": "2023-01-11T02:19:51.577Z"
      },
      {
        "duration": 277,
        "start_time": "2023-01-11T02:19:51.613Z"
      },
      {
        "duration": 11,
        "start_time": "2023-01-11T02:19:51.891Z"
      },
      {
        "duration": 11,
        "start_time": "2023-01-11T02:19:51.904Z"
      },
      {
        "duration": 8,
        "start_time": "2023-01-11T02:19:51.917Z"
      },
      {
        "duration": 10,
        "start_time": "2023-01-11T02:19:51.927Z"
      },
      {
        "duration": 1380,
        "start_time": "2023-01-11T02:19:51.950Z"
      },
      {
        "duration": 4,
        "start_time": "2023-01-11T02:19:53.332Z"
      },
      {
        "duration": 15,
        "start_time": "2023-01-11T02:19:53.338Z"
      },
      {
        "duration": 6,
        "start_time": "2023-01-11T02:19:53.355Z"
      },
      {
        "duration": 10,
        "start_time": "2023-01-11T02:19:53.363Z"
      },
      {
        "duration": 7,
        "start_time": "2023-01-11T02:19:53.375Z"
      },
      {
        "duration": 1243481,
        "start_time": "2023-01-11T02:19:53.384Z"
      },
      {
        "duration": 10,
        "start_time": "2023-01-11T02:40:36.867Z"
      },
      {
        "duration": 6,
        "start_time": "2023-01-11T02:40:36.879Z"
      },
      {
        "duration": 6,
        "start_time": "2023-01-11T02:40:36.889Z"
      },
      {
        "duration": 11,
        "start_time": "2023-01-11T02:40:36.897Z"
      },
      {
        "duration": 146,
        "start_time": "2023-01-11T02:40:36.911Z"
      },
      {
        "duration": 5,
        "start_time": "2023-01-11T02:40:37.059Z"
      },
      {
        "duration": 137,
        "start_time": "2023-01-11T02:40:37.066Z"
      },
      {
        "duration": 5,
        "start_time": "2023-01-11T02:40:37.206Z"
      },
      {
        "duration": 121,
        "start_time": "2023-01-11T02:40:37.213Z"
      },
      {
        "duration": 93,
        "start_time": "2023-01-11T02:40:37.337Z"
      },
      {
        "duration": 6,
        "start_time": "2023-01-11T02:40:37.432Z"
      },
      {
        "duration": 5,
        "start_time": "2023-01-11T02:40:37.450Z"
      },
      {
        "duration": 5330,
        "start_time": "2023-01-11T02:40:37.457Z"
      },
      {
        "duration": 3,
        "start_time": "2023-01-11T02:40:42.789Z"
      },
      {
        "duration": 647,
        "start_time": "2023-01-11T02:40:42.794Z"
      },
      {
        "duration": 2,
        "start_time": "2023-01-11T02:40:43.443Z"
      },
      {
        "duration": 630,
        "start_time": "2023-01-11T02:40:43.450Z"
      },
      {
        "duration": 3,
        "start_time": "2023-01-11T02:40:44.081Z"
      },
      {
        "duration": 41790,
        "start_time": "2023-01-11T02:40:44.086Z"
      },
      {
        "duration": 3,
        "start_time": "2023-01-11T02:41:25.877Z"
      },
      {
        "duration": 11136,
        "start_time": "2023-01-11T02:41:25.882Z"
      },
      {
        "duration": 41130,
        "start_time": "2023-01-11T02:41:37.019Z"
      },
      {
        "duration": 192483,
        "start_time": "2023-01-11T02:42:18.151Z"
      },
      {
        "duration": 5,
        "start_time": "2023-01-11T02:45:30.636Z"
      },
      {
        "duration": 42,
        "start_time": "2023-01-11T02:45:30.651Z"
      },
      {
        "duration": 109662,
        "start_time": "2023-01-11T02:45:30.695Z"
      },
      {
        "duration": 137,
        "start_time": "2023-01-11T02:47:20.359Z"
      },
      {
        "duration": 11,
        "start_time": "2023-01-11T02:47:20.498Z"
      },
      {
        "duration": 2359,
        "start_time": "2023-01-11T03:03:42.432Z"
      },
      {
        "duration": 1815,
        "start_time": "2023-01-11T03:03:44.794Z"
      },
      {
        "duration": 3,
        "start_time": "2023-01-11T03:03:46.611Z"
      },
      {
        "duration": 901,
        "start_time": "2023-01-11T03:03:46.616Z"
      },
      {
        "duration": 6,
        "start_time": "2023-01-11T03:03:47.519Z"
      },
      {
        "duration": 25,
        "start_time": "2023-01-11T03:03:47.527Z"
      },
      {
        "duration": 24,
        "start_time": "2023-01-11T03:03:47.554Z"
      },
      {
        "duration": 12,
        "start_time": "2023-01-11T03:03:47.579Z"
      },
      {
        "duration": 58,
        "start_time": "2023-01-11T03:03:47.593Z"
      },
      {
        "duration": 6,
        "start_time": "2023-01-11T03:03:47.653Z"
      },
      {
        "duration": 7,
        "start_time": "2023-01-11T03:03:47.660Z"
      },
      {
        "duration": 120,
        "start_time": "2023-01-11T03:03:47.669Z"
      },
      {
        "duration": 33,
        "start_time": "2023-01-11T03:03:47.791Z"
      },
      {
        "duration": 184,
        "start_time": "2023-01-11T03:03:47.828Z"
      },
      {
        "duration": 12,
        "start_time": "2023-01-11T03:03:48.014Z"
      },
      {
        "duration": 3,
        "start_time": "2023-01-11T03:03:48.028Z"
      },
      {
        "duration": 8,
        "start_time": "2023-01-11T03:03:48.033Z"
      },
      {
        "duration": 6,
        "start_time": "2023-01-11T03:03:48.042Z"
      },
      {
        "duration": 1478,
        "start_time": "2023-01-11T03:03:48.050Z"
      },
      {
        "duration": 4,
        "start_time": "2023-01-11T03:03:49.530Z"
      },
      {
        "duration": 22,
        "start_time": "2023-01-11T03:03:49.536Z"
      },
      {
        "duration": 22,
        "start_time": "2023-01-11T03:03:49.561Z"
      },
      {
        "duration": 11,
        "start_time": "2023-01-11T03:03:49.585Z"
      },
      {
        "duration": 9,
        "start_time": "2023-01-11T03:03:49.598Z"
      },
      {
        "duration": 1275113,
        "start_time": "2023-01-11T03:03:49.609Z"
      },
      {
        "duration": 9,
        "start_time": "2023-01-11T03:25:04.723Z"
      },
      {
        "duration": 3,
        "start_time": "2023-01-11T03:25:04.750Z"
      },
      {
        "duration": 6,
        "start_time": "2023-01-11T03:25:04.755Z"
      },
      {
        "duration": 5,
        "start_time": "2023-01-11T03:25:04.763Z"
      },
      {
        "duration": 134,
        "start_time": "2023-01-11T03:25:04.770Z"
      },
      {
        "duration": 6,
        "start_time": "2023-01-11T03:25:04.906Z"
      },
      {
        "duration": 106,
        "start_time": "2023-01-11T03:25:04.914Z"
      },
      {
        "duration": 5,
        "start_time": "2023-01-11T03:25:05.021Z"
      },
      {
        "duration": 111,
        "start_time": "2023-01-11T03:25:05.028Z"
      },
      {
        "duration": 87,
        "start_time": "2023-01-11T03:25:05.141Z"
      },
      {
        "duration": 21,
        "start_time": "2023-01-11T03:25:05.229Z"
      },
      {
        "duration": 5,
        "start_time": "2023-01-11T03:25:05.252Z"
      },
      {
        "duration": 5120,
        "start_time": "2023-01-11T03:25:05.259Z"
      },
      {
        "duration": 4,
        "start_time": "2023-01-11T03:25:10.381Z"
      },
      {
        "duration": 658,
        "start_time": "2023-01-11T03:25:10.386Z"
      },
      {
        "duration": 3,
        "start_time": "2023-01-11T03:25:11.051Z"
      },
      {
        "duration": 628,
        "start_time": "2023-01-11T03:25:11.056Z"
      },
      {
        "duration": 3,
        "start_time": "2023-01-11T03:25:11.685Z"
      },
      {
        "duration": 46417,
        "start_time": "2023-01-11T03:25:11.690Z"
      },
      {
        "duration": 3,
        "start_time": "2023-01-11T03:25:58.109Z"
      },
      {
        "duration": 7904,
        "start_time": "2023-01-11T03:25:58.113Z"
      },
      {
        "duration": 30338,
        "start_time": "2023-01-11T03:26:06.019Z"
      },
      {
        "duration": 238534,
        "start_time": "2023-01-11T03:26:36.359Z"
      },
      {
        "duration": 4,
        "start_time": "2023-01-11T03:30:34.894Z"
      },
      {
        "duration": 38,
        "start_time": "2023-01-11T03:30:34.900Z"
      },
      {
        "duration": 190900,
        "start_time": "2023-01-11T03:30:34.940Z"
      },
      {
        "duration": 144,
        "start_time": "2023-01-11T03:33:45.850Z"
      },
      {
        "duration": 11,
        "start_time": "2023-01-11T03:33:45.996Z"
      },
      {
        "duration": 2295,
        "start_time": "2023-01-11T03:37:25.773Z"
      },
      {
        "duration": 1772,
        "start_time": "2023-01-11T03:37:28.071Z"
      },
      {
        "duration": 3,
        "start_time": "2023-01-11T03:37:29.845Z"
      },
      {
        "duration": 908,
        "start_time": "2023-01-11T03:37:29.850Z"
      },
      {
        "duration": 7,
        "start_time": "2023-01-11T03:37:30.759Z"
      },
      {
        "duration": 44,
        "start_time": "2023-01-11T03:37:30.768Z"
      },
      {
        "duration": 39,
        "start_time": "2023-01-11T03:37:30.814Z"
      },
      {
        "duration": 17,
        "start_time": "2023-01-11T03:37:30.854Z"
      },
      {
        "duration": 66,
        "start_time": "2023-01-11T03:37:30.873Z"
      },
      {
        "duration": 14,
        "start_time": "2023-01-11T03:37:30.943Z"
      },
      {
        "duration": 30,
        "start_time": "2023-01-11T03:37:30.959Z"
      },
      {
        "duration": 129,
        "start_time": "2023-01-11T03:37:30.991Z"
      },
      {
        "duration": 38,
        "start_time": "2023-01-11T03:37:31.121Z"
      },
      {
        "duration": 217,
        "start_time": "2023-01-11T03:37:31.161Z"
      },
      {
        "duration": 11,
        "start_time": "2023-01-11T03:37:31.380Z"
      },
      {
        "duration": 12,
        "start_time": "2023-01-11T03:37:31.392Z"
      },
      {
        "duration": 25,
        "start_time": "2023-01-11T03:37:31.406Z"
      },
      {
        "duration": 14,
        "start_time": "2023-01-11T03:37:31.433Z"
      },
      {
        "duration": 1419,
        "start_time": "2023-01-11T03:37:31.448Z"
      },
      {
        "duration": 4,
        "start_time": "2023-01-11T03:37:32.869Z"
      },
      {
        "duration": 7,
        "start_time": "2023-01-11T03:37:32.874Z"
      },
      {
        "duration": 5,
        "start_time": "2023-01-11T03:37:32.883Z"
      },
      {
        "duration": 4,
        "start_time": "2023-01-11T03:37:32.890Z"
      },
      {
        "duration": 5,
        "start_time": "2023-01-11T03:37:32.896Z"
      },
      {
        "duration": 1286900,
        "start_time": "2023-01-11T03:37:32.902Z"
      },
      {
        "duration": 10,
        "start_time": "2023-01-11T03:58:59.805Z"
      },
      {
        "duration": 9,
        "start_time": "2023-01-11T03:58:59.817Z"
      },
      {
        "duration": 4,
        "start_time": "2023-01-11T03:58:59.851Z"
      },
      {
        "duration": 18,
        "start_time": "2023-01-11T03:58:59.857Z"
      },
      {
        "duration": 168,
        "start_time": "2023-01-11T03:58:59.877Z"
      },
      {
        "duration": 6,
        "start_time": "2023-01-11T03:59:00.047Z"
      },
      {
        "duration": 119,
        "start_time": "2023-01-11T03:59:00.054Z"
      },
      {
        "duration": 5,
        "start_time": "2023-01-11T03:59:00.175Z"
      },
      {
        "duration": 132,
        "start_time": "2023-01-11T03:59:00.183Z"
      },
      {
        "duration": 101,
        "start_time": "2023-01-11T03:59:00.318Z"
      },
      {
        "duration": 7,
        "start_time": "2023-01-11T03:59:00.421Z"
      },
      {
        "duration": 29,
        "start_time": "2023-01-11T03:59:00.430Z"
      },
      {
        "duration": 5529,
        "start_time": "2023-01-11T03:59:00.461Z"
      },
      {
        "duration": 6,
        "start_time": "2023-01-11T03:59:05.992Z"
      },
      {
        "duration": 744,
        "start_time": "2023-01-11T03:59:06.002Z"
      },
      {
        "duration": 4,
        "start_time": "2023-01-11T03:59:06.748Z"
      },
      {
        "duration": 687,
        "start_time": "2023-01-11T03:59:06.754Z"
      },
      {
        "duration": 8,
        "start_time": "2023-01-11T03:59:07.443Z"
      },
      {
        "duration": 61299,
        "start_time": "2023-01-11T03:59:07.453Z"
      },
      {
        "duration": 3,
        "start_time": "2023-01-11T04:00:08.755Z"
      },
      {
        "duration": 16293,
        "start_time": "2023-01-11T04:00:08.760Z"
      },
      {
        "duration": 88493,
        "start_time": "2023-01-11T04:00:25.055Z"
      },
      {
        "duration": 2266,
        "start_time": "2023-01-11T04:09:16.822Z"
      },
      {
        "duration": 1784,
        "start_time": "2023-01-11T04:09:19.091Z"
      },
      {
        "duration": 2,
        "start_time": "2023-01-11T04:09:20.877Z"
      },
      {
        "duration": 837,
        "start_time": "2023-01-11T04:09:20.881Z"
      },
      {
        "duration": 6,
        "start_time": "2023-01-11T04:09:21.720Z"
      },
      {
        "duration": 24,
        "start_time": "2023-01-11T04:09:21.728Z"
      },
      {
        "duration": 26,
        "start_time": "2023-01-11T04:09:21.754Z"
      },
      {
        "duration": 13,
        "start_time": "2023-01-11T04:09:21.782Z"
      },
      {
        "duration": 58,
        "start_time": "2023-01-11T04:09:21.797Z"
      },
      {
        "duration": 6,
        "start_time": "2023-01-11T04:09:21.859Z"
      },
      {
        "duration": 4,
        "start_time": "2023-01-11T04:09:21.867Z"
      },
      {
        "duration": 158,
        "start_time": "2023-01-11T04:09:21.873Z"
      },
      {
        "duration": 36,
        "start_time": "2023-01-11T04:09:22.032Z"
      },
      {
        "duration": 170,
        "start_time": "2023-01-11T04:09:22.070Z"
      },
      {
        "duration": 10,
        "start_time": "2023-01-11T04:09:22.242Z"
      },
      {
        "duration": 3,
        "start_time": "2023-01-11T04:09:22.254Z"
      },
      {
        "duration": 11,
        "start_time": "2023-01-11T04:09:22.259Z"
      },
      {
        "duration": 7,
        "start_time": "2023-01-11T04:09:22.272Z"
      },
      {
        "duration": 1387,
        "start_time": "2023-01-11T04:09:22.281Z"
      },
      {
        "duration": 4,
        "start_time": "2023-01-11T04:09:23.669Z"
      },
      {
        "duration": 10,
        "start_time": "2023-01-11T04:09:23.674Z"
      },
      {
        "duration": 5,
        "start_time": "2023-01-11T04:09:23.686Z"
      },
      {
        "duration": 9,
        "start_time": "2023-01-11T04:09:23.692Z"
      },
      {
        "duration": 6,
        "start_time": "2023-01-11T04:09:23.703Z"
      },
      {
        "duration": 1260676,
        "start_time": "2023-01-11T04:09:23.710Z"
      },
      {
        "duration": 12,
        "start_time": "2023-01-11T04:30:24.389Z"
      },
      {
        "duration": 6,
        "start_time": "2023-01-11T04:30:24.403Z"
      },
      {
        "duration": 9,
        "start_time": "2023-01-11T04:30:24.413Z"
      },
      {
        "duration": 8,
        "start_time": "2023-01-11T04:30:24.424Z"
      },
      {
        "duration": 142,
        "start_time": "2023-01-11T04:30:24.433Z"
      },
      {
        "duration": 6,
        "start_time": "2023-01-11T04:30:24.577Z"
      },
      {
        "duration": 112,
        "start_time": "2023-01-11T04:30:24.585Z"
      },
      {
        "duration": 4,
        "start_time": "2023-01-11T04:30:24.699Z"
      },
      {
        "duration": 121,
        "start_time": "2023-01-11T04:30:24.705Z"
      },
      {
        "duration": 88,
        "start_time": "2023-01-11T04:30:24.828Z"
      },
      {
        "duration": 6,
        "start_time": "2023-01-11T04:30:24.918Z"
      },
      {
        "duration": 7,
        "start_time": "2023-01-11T04:30:24.926Z"
      },
      {
        "duration": 5450,
        "start_time": "2023-01-11T04:30:24.934Z"
      },
      {
        "duration": 4,
        "start_time": "2023-01-11T04:30:30.386Z"
      },
      {
        "duration": 769,
        "start_time": "2023-01-11T04:30:30.392Z"
      },
      {
        "duration": 4,
        "start_time": "2023-01-11T04:30:31.163Z"
      },
      {
        "duration": 673,
        "start_time": "2023-01-11T04:30:31.169Z"
      },
      {
        "duration": 3,
        "start_time": "2023-01-11T04:30:31.843Z"
      },
      {
        "duration": 61941,
        "start_time": "2023-01-11T04:30:31.851Z"
      },
      {
        "duration": 3,
        "start_time": "2023-01-11T04:31:33.794Z"
      },
      {
        "duration": 15028,
        "start_time": "2023-01-11T04:31:33.799Z"
      },
      {
        "duration": 85747,
        "start_time": "2023-01-11T04:31:48.829Z"
      },
      {
        "duration": 4788597,
        "start_time": "2023-01-11T04:33:14.578Z"
      },
      {
        "duration": 4,
        "start_time": "2023-01-11T05:53:03.177Z"
      },
      {
        "duration": 36,
        "start_time": "2023-01-11T05:53:03.183Z"
      },
      {
        "duration": 472958,
        "start_time": "2023-01-11T05:53:03.221Z"
      },
      {
        "duration": 208,
        "start_time": "2023-01-11T06:00:56.182Z"
      },
      {
        "duration": 12,
        "start_time": "2023-01-11T06:00:56.391Z"
      },
      {
        "duration": 2345201,
        "start_time": "2023-01-11T06:59:46.836Z"
      },
      {
        "duration": 2492,
        "start_time": "2023-01-11T07:40:17.049Z"
      },
      {
        "duration": 1949,
        "start_time": "2023-01-11T07:40:19.543Z"
      },
      {
        "duration": 2,
        "start_time": "2023-01-11T07:40:21.494Z"
      },
      {
        "duration": 899,
        "start_time": "2023-01-11T07:40:21.499Z"
      },
      {
        "duration": 6,
        "start_time": "2023-01-11T07:40:22.400Z"
      },
      {
        "duration": 17,
        "start_time": "2023-01-11T07:40:22.408Z"
      },
      {
        "duration": 47,
        "start_time": "2023-01-11T07:40:22.427Z"
      },
      {
        "duration": 14,
        "start_time": "2023-01-11T07:40:22.476Z"
      },
      {
        "duration": 59,
        "start_time": "2023-01-11T07:40:22.492Z"
      },
      {
        "duration": 7,
        "start_time": "2023-01-11T07:40:22.555Z"
      },
      {
        "duration": 28,
        "start_time": "2023-01-11T07:40:22.567Z"
      },
      {
        "duration": 156,
        "start_time": "2023-01-11T07:40:22.597Z"
      },
      {
        "duration": 32,
        "start_time": "2023-01-11T07:40:22.755Z"
      },
      {
        "duration": 195,
        "start_time": "2023-01-11T07:40:22.789Z"
      },
      {
        "duration": 11,
        "start_time": "2023-01-11T07:40:22.986Z"
      },
      {
        "duration": 3,
        "start_time": "2023-01-11T07:40:22.999Z"
      },
      {
        "duration": 24,
        "start_time": "2023-01-11T07:40:23.004Z"
      },
      {
        "duration": 22,
        "start_time": "2023-01-11T07:40:23.030Z"
      },
      {
        "duration": 1516,
        "start_time": "2023-01-11T07:40:23.054Z"
      },
      {
        "duration": 4,
        "start_time": "2023-01-11T07:40:24.571Z"
      },
      {
        "duration": 14,
        "start_time": "2023-01-11T07:40:24.577Z"
      },
      {
        "duration": 27,
        "start_time": "2023-01-11T07:40:24.593Z"
      },
      {
        "duration": 25,
        "start_time": "2023-01-11T07:40:24.622Z"
      },
      {
        "duration": 20,
        "start_time": "2023-01-11T07:40:24.649Z"
      },
      {
        "duration": 1260829,
        "start_time": "2023-01-11T07:40:24.671Z"
      },
      {
        "duration": 8,
        "start_time": "2023-01-11T08:01:25.503Z"
      },
      {
        "duration": 30,
        "start_time": "2023-01-11T08:01:25.513Z"
      },
      {
        "duration": 15,
        "start_time": "2023-01-11T08:01:25.549Z"
      },
      {
        "duration": 22,
        "start_time": "2023-01-11T08:01:25.566Z"
      },
      {
        "duration": 171,
        "start_time": "2023-01-11T08:01:25.590Z"
      },
      {
        "duration": 5,
        "start_time": "2023-01-11T08:01:25.763Z"
      },
      {
        "duration": 104,
        "start_time": "2023-01-11T08:01:25.770Z"
      },
      {
        "duration": 4,
        "start_time": "2023-01-11T08:01:25.876Z"
      },
      {
        "duration": 124,
        "start_time": "2023-01-11T08:01:25.882Z"
      },
      {
        "duration": 88,
        "start_time": "2023-01-11T08:01:26.007Z"
      },
      {
        "duration": 5,
        "start_time": "2023-01-11T08:01:26.097Z"
      },
      {
        "duration": 5,
        "start_time": "2023-01-11T08:01:26.104Z"
      },
      {
        "duration": 5315,
        "start_time": "2023-01-11T08:01:26.110Z"
      },
      {
        "duration": 3,
        "start_time": "2023-01-11T08:01:31.427Z"
      },
      {
        "duration": 666,
        "start_time": "2023-01-11T08:01:31.433Z"
      },
      {
        "duration": 3,
        "start_time": "2023-01-11T08:01:32.101Z"
      },
      {
        "duration": 704,
        "start_time": "2023-01-11T08:01:32.106Z"
      },
      {
        "duration": 3,
        "start_time": "2023-01-11T08:01:32.811Z"
      },
      {
        "duration": 59530,
        "start_time": "2023-01-11T08:01:32.815Z"
      },
      {
        "duration": 3,
        "start_time": "2023-01-11T08:02:32.347Z"
      },
      {
        "duration": 15205,
        "start_time": "2023-01-11T08:02:32.352Z"
      },
      {
        "duration": 87207,
        "start_time": "2023-01-11T08:02:47.558Z"
      },
      {
        "duration": 2464119,
        "start_time": "2023-01-11T08:04:14.768Z"
      },
      {
        "duration": 6,
        "start_time": "2023-01-11T08:45:18.889Z"
      },
      {
        "duration": 59,
        "start_time": "2023-01-11T08:45:18.898Z"
      },
      {
        "duration": 470221,
        "start_time": "2023-01-11T08:45:18.959Z"
      },
      {
        "duration": 194,
        "start_time": "2023-01-11T08:53:09.182Z"
      },
      {
        "duration": 2326206,
        "start_time": "2023-01-11T08:53:09.378Z"
      },
      {
        "duration": 2768,
        "start_time": "2023-01-11T09:37:17.402Z"
      },
      {
        "duration": 8,
        "start_time": "2023-01-11T09:37:20.174Z"
      },
      {
        "duration": 85,
        "start_time": "2023-01-11T09:37:20.184Z"
      },
      {
        "duration": 1002,
        "start_time": "2023-01-11T09:37:20.272Z"
      },
      {
        "duration": 6,
        "start_time": "2023-01-11T09:37:21.277Z"
      },
      {
        "duration": 30,
        "start_time": "2023-01-11T09:37:21.285Z"
      },
      {
        "duration": 65,
        "start_time": "2023-01-11T09:37:21.316Z"
      },
      {
        "duration": 35,
        "start_time": "2023-01-11T09:37:21.383Z"
      },
      {
        "duration": 81,
        "start_time": "2023-01-11T09:37:21.419Z"
      },
      {
        "duration": 38,
        "start_time": "2023-01-11T09:37:21.503Z"
      },
      {
        "duration": 38,
        "start_time": "2023-01-11T09:37:21.543Z"
      },
      {
        "duration": 266,
        "start_time": "2023-01-11T09:37:21.583Z"
      },
      {
        "duration": 38,
        "start_time": "2023-01-11T09:37:21.855Z"
      },
      {
        "duration": 500,
        "start_time": "2023-01-11T09:37:21.895Z"
      },
      {
        "duration": 12,
        "start_time": "2023-01-11T09:37:22.398Z"
      },
      {
        "duration": 27,
        "start_time": "2023-01-11T09:37:22.413Z"
      },
      {
        "duration": 56,
        "start_time": "2023-01-11T09:37:22.442Z"
      },
      {
        "duration": 45,
        "start_time": "2023-01-11T09:37:22.500Z"
      },
      {
        "duration": 53,
        "start_time": "2023-01-11T09:37:22.547Z"
      },
      {
        "duration": 59,
        "start_time": "2023-01-11T09:37:22.603Z"
      },
      {
        "duration": 49,
        "start_time": "2023-01-11T09:37:22.664Z"
      },
      {
        "duration": 44,
        "start_time": "2023-01-11T09:37:22.715Z"
      },
      {
        "duration": 44,
        "start_time": "2023-01-11T09:37:22.764Z"
      },
      {
        "duration": 36,
        "start_time": "2023-01-11T09:37:22.811Z"
      },
      {
        "duration": 2913,
        "start_time": "2023-01-11T10:21:28.914Z"
      },
      {
        "duration": 1884,
        "start_time": "2023-01-11T10:21:31.829Z"
      },
      {
        "duration": 3,
        "start_time": "2023-01-11T10:21:33.716Z"
      },
      {
        "duration": 1195,
        "start_time": "2023-01-11T10:21:33.721Z"
      },
      {
        "duration": 6,
        "start_time": "2023-01-11T10:21:34.918Z"
      },
      {
        "duration": 28,
        "start_time": "2023-01-11T10:21:34.925Z"
      },
      {
        "duration": 40,
        "start_time": "2023-01-11T10:21:34.955Z"
      },
      {
        "duration": 9,
        "start_time": "2023-01-11T10:21:34.997Z"
      },
      {
        "duration": 56,
        "start_time": "2023-01-11T10:21:35.007Z"
      },
      {
        "duration": 18,
        "start_time": "2023-01-11T10:21:35.065Z"
      },
      {
        "duration": 33,
        "start_time": "2023-01-11T10:21:35.085Z"
      },
      {
        "duration": 127,
        "start_time": "2023-01-11T10:21:35.121Z"
      },
      {
        "duration": 29,
        "start_time": "2023-01-11T10:21:35.250Z"
      },
      {
        "duration": 237,
        "start_time": "2023-01-11T10:21:35.282Z"
      },
      {
        "duration": 336,
        "start_time": "2023-01-11T10:21:35.521Z"
      },
      {
        "duration": 3,
        "start_time": "2023-01-11T10:21:35.858Z"
      },
      {
        "duration": 12,
        "start_time": "2023-01-11T10:21:35.862Z"
      },
      {
        "duration": 13,
        "start_time": "2023-01-11T10:21:35.875Z"
      },
      {
        "duration": 1362,
        "start_time": "2023-01-11T10:21:35.889Z"
      },
      {
        "duration": 4,
        "start_time": "2023-01-11T10:21:37.253Z"
      },
      {
        "duration": 21,
        "start_time": "2023-01-11T10:21:37.259Z"
      },
      {
        "duration": 7,
        "start_time": "2023-01-11T10:21:37.282Z"
      },
      {
        "duration": 6,
        "start_time": "2023-01-11T10:21:37.292Z"
      },
      {
        "duration": 9,
        "start_time": "2023-01-11T10:21:37.300Z"
      },
      {
        "duration": 1252326,
        "start_time": "2023-01-11T10:21:37.310Z"
      },
      {
        "duration": 8,
        "start_time": "2023-01-11T10:42:29.637Z"
      },
      {
        "duration": 11,
        "start_time": "2023-01-11T10:42:29.647Z"
      },
      {
        "duration": 11,
        "start_time": "2023-01-11T10:42:29.661Z"
      },
      {
        "duration": 7,
        "start_time": "2023-01-11T10:42:29.674Z"
      },
      {
        "duration": 107,
        "start_time": "2023-01-11T10:42:29.682Z"
      },
      {
        "duration": 5,
        "start_time": "2023-01-11T10:42:29.790Z"
      },
      {
        "duration": 97,
        "start_time": "2023-01-11T10:42:29.797Z"
      },
      {
        "duration": 5,
        "start_time": "2023-01-11T10:42:29.895Z"
      },
      {
        "duration": 101,
        "start_time": "2023-01-11T10:42:29.901Z"
      },
      {
        "duration": 90,
        "start_time": "2023-01-11T10:42:30.005Z"
      },
      {
        "duration": 6,
        "start_time": "2023-01-11T10:42:30.097Z"
      },
      {
        "duration": 8,
        "start_time": "2023-01-11T10:42:30.105Z"
      },
      {
        "duration": 5306,
        "start_time": "2023-01-11T10:42:30.114Z"
      },
      {
        "duration": 3,
        "start_time": "2023-01-11T10:42:35.422Z"
      },
      {
        "duration": 701,
        "start_time": "2023-01-11T10:42:35.426Z"
      },
      {
        "duration": 4,
        "start_time": "2023-01-11T10:42:36.134Z"
      },
      {
        "duration": 771,
        "start_time": "2023-01-11T10:42:36.140Z"
      },
      {
        "duration": 7,
        "start_time": "2023-01-11T10:42:36.913Z"
      },
      {
        "duration": 56467,
        "start_time": "2023-01-11T10:42:36.921Z"
      },
      {
        "duration": 3,
        "start_time": "2023-01-11T10:43:33.390Z"
      },
      {
        "duration": 15016,
        "start_time": "2023-01-11T10:43:33.394Z"
      },
      {
        "duration": 86185,
        "start_time": "2023-01-11T10:43:48.413Z"
      },
      {
        "duration": 3380070,
        "start_time": "2023-01-11T10:45:14.601Z"
      },
      {
        "duration": 5,
        "start_time": "2023-01-11T11:41:34.673Z"
      },
      {
        "duration": 42,
        "start_time": "2023-01-11T11:41:34.679Z"
      },
      {
        "duration": 427547,
        "start_time": "2023-01-11T11:41:34.723Z"
      },
      {
        "duration": 211,
        "start_time": "2023-01-11T11:48:42.272Z"
      },
      {
        "duration": 12,
        "start_time": "2023-01-11T11:48:42.485Z"
      },
      {
        "duration": 2148,
        "start_time": "2023-01-11T13:01:04.176Z"
      },
      {
        "duration": 6,
        "start_time": "2023-01-11T13:01:06.328Z"
      },
      {
        "duration": 10,
        "start_time": "2023-01-11T13:01:06.336Z"
      },
      {
        "duration": 848,
        "start_time": "2023-01-11T13:01:06.348Z"
      },
      {
        "duration": 4,
        "start_time": "2023-01-11T13:01:07.198Z"
      },
      {
        "duration": 12,
        "start_time": "2023-01-11T13:01:07.203Z"
      },
      {
        "duration": 34,
        "start_time": "2023-01-11T13:01:07.216Z"
      },
      {
        "duration": 9,
        "start_time": "2023-01-11T13:01:07.252Z"
      },
      {
        "duration": 34,
        "start_time": "2023-01-11T13:01:07.263Z"
      },
      {
        "duration": 4,
        "start_time": "2023-01-11T13:01:07.300Z"
      },
      {
        "duration": 32,
        "start_time": "2023-01-11T13:01:07.306Z"
      },
      {
        "duration": 98,
        "start_time": "2023-01-11T13:01:07.339Z"
      },
      {
        "duration": 33,
        "start_time": "2023-01-11T13:01:07.439Z"
      },
      {
        "duration": 403,
        "start_time": "2023-01-11T13:01:07.474Z"
      },
      {
        "duration": 20,
        "start_time": "2023-01-11T13:01:07.878Z"
      },
      {
        "duration": 24,
        "start_time": "2023-01-11T13:01:07.900Z"
      },
      {
        "duration": 10,
        "start_time": "2023-01-11T13:01:07.926Z"
      },
      {
        "duration": 12,
        "start_time": "2023-01-11T13:01:07.938Z"
      },
      {
        "duration": 12,
        "start_time": "2023-01-11T13:01:07.952Z"
      },
      {
        "duration": 4,
        "start_time": "2023-01-11T13:01:07.965Z"
      },
      {
        "duration": 6,
        "start_time": "2023-01-11T13:01:07.971Z"
      },
      {
        "duration": 5,
        "start_time": "2023-01-11T13:01:07.979Z"
      },
      {
        "duration": 9,
        "start_time": "2023-01-11T13:01:07.985Z"
      },
      {
        "duration": 6,
        "start_time": "2023-01-11T13:01:07.996Z"
      },
      {
        "duration": 1319441,
        "start_time": "2023-01-11T13:01:08.004Z"
      },
      {
        "duration": 9,
        "start_time": "2023-01-11T13:23:07.447Z"
      },
      {
        "duration": 9,
        "start_time": "2023-01-11T13:23:07.458Z"
      },
      {
        "duration": 20,
        "start_time": "2023-01-11T13:23:07.471Z"
      },
      {
        "duration": 7,
        "start_time": "2023-01-11T13:23:07.493Z"
      },
      {
        "duration": 124,
        "start_time": "2023-01-11T13:23:07.501Z"
      },
      {
        "duration": 5,
        "start_time": "2023-01-11T13:23:07.627Z"
      },
      {
        "duration": 117,
        "start_time": "2023-01-11T13:23:07.635Z"
      },
      {
        "duration": 6,
        "start_time": "2023-01-11T13:23:07.755Z"
      },
      {
        "duration": 121,
        "start_time": "2023-01-11T13:23:07.764Z"
      },
      {
        "duration": 90,
        "start_time": "2023-01-11T13:23:07.887Z"
      },
      {
        "duration": 5,
        "start_time": "2023-01-11T13:23:07.978Z"
      },
      {
        "duration": 30,
        "start_time": "2023-01-11T13:23:07.986Z"
      },
      {
        "duration": 5637,
        "start_time": "2023-01-11T13:23:08.020Z"
      },
      {
        "duration": 5,
        "start_time": "2023-01-11T13:23:13.659Z"
      },
      {
        "duration": 741,
        "start_time": "2023-01-11T13:23:13.666Z"
      },
      {
        "duration": 5,
        "start_time": "2023-01-11T13:23:14.409Z"
      },
      {
        "duration": 704,
        "start_time": "2023-01-11T13:23:14.416Z"
      },
      {
        "duration": 3,
        "start_time": "2023-01-11T13:23:15.122Z"
      },
      {
        "duration": 58551,
        "start_time": "2023-01-11T13:23:15.136Z"
      },
      {
        "duration": 3,
        "start_time": "2023-01-11T13:24:13.689Z"
      },
      {
        "duration": 15469,
        "start_time": "2023-01-11T13:24:13.693Z"
      },
      {
        "duration": 87954,
        "start_time": "2023-01-11T13:24:29.164Z"
      },
      {
        "duration": 835649,
        "start_time": "2023-01-11T13:25:57.119Z"
      },
      {
        "duration": 4,
        "start_time": "2023-01-11T13:39:52.770Z"
      },
      {
        "duration": 43,
        "start_time": "2023-01-11T13:39:52.776Z"
      },
      {
        "duration": 436811,
        "start_time": "2023-01-11T13:39:52.821Z"
      },
      {
        "duration": 210,
        "start_time": "2023-01-11T13:47:09.636Z"
      },
      {
        "duration": 11,
        "start_time": "2023-01-11T13:47:09.848Z"
      },
      {
        "duration": 2796,
        "start_time": "2023-01-12T00:49:17.639Z"
      },
      {
        "duration": 1728,
        "start_time": "2023-01-12T00:49:20.438Z"
      },
      {
        "duration": 2,
        "start_time": "2023-01-12T00:49:22.169Z"
      },
      {
        "duration": 1087,
        "start_time": "2023-01-12T00:49:22.172Z"
      },
      {
        "duration": 4,
        "start_time": "2023-01-12T00:49:23.262Z"
      },
      {
        "duration": 12,
        "start_time": "2023-01-12T00:49:23.268Z"
      },
      {
        "duration": 23,
        "start_time": "2023-01-12T00:49:23.282Z"
      },
      {
        "duration": 10,
        "start_time": "2023-01-12T00:49:23.307Z"
      },
      {
        "duration": 49,
        "start_time": "2023-01-12T00:49:23.318Z"
      },
      {
        "duration": 8,
        "start_time": "2023-01-12T00:49:23.369Z"
      },
      {
        "duration": 13,
        "start_time": "2023-01-12T00:49:23.379Z"
      },
      {
        "duration": 98,
        "start_time": "2023-01-12T00:49:23.394Z"
      },
      {
        "duration": 31,
        "start_time": "2023-01-12T00:49:23.494Z"
      },
      {
        "duration": 234,
        "start_time": "2023-01-12T00:49:23.528Z"
      },
      {
        "duration": 412,
        "start_time": "2023-01-12T00:49:23.764Z"
      },
      {
        "duration": 2,
        "start_time": "2023-01-12T00:49:24.178Z"
      },
      {
        "duration": 15,
        "start_time": "2023-01-12T00:49:24.182Z"
      },
      {
        "duration": 6,
        "start_time": "2023-01-12T00:49:24.199Z"
      },
      {
        "duration": 1335,
        "start_time": "2023-01-12T00:49:24.206Z"
      },
      {
        "duration": 3,
        "start_time": "2023-01-12T00:49:25.542Z"
      },
      {
        "duration": 6,
        "start_time": "2023-01-12T00:49:25.547Z"
      },
      {
        "duration": 6,
        "start_time": "2023-01-12T00:49:25.554Z"
      },
      {
        "duration": 14,
        "start_time": "2023-01-12T00:49:25.562Z"
      },
      {
        "duration": 8,
        "start_time": "2023-01-12T00:49:25.578Z"
      },
      {
        "duration": 1115588,
        "start_time": "2023-01-12T00:49:25.587Z"
      },
      {
        "duration": 20,
        "start_time": "2023-01-12T01:08:01.177Z"
      },
      {
        "duration": 14,
        "start_time": "2023-01-12T01:08:01.199Z"
      },
      {
        "duration": 25,
        "start_time": "2023-01-12T01:08:01.215Z"
      },
      {
        "duration": 37,
        "start_time": "2023-01-12T01:08:01.242Z"
      },
      {
        "duration": 167,
        "start_time": "2023-01-12T01:08:01.281Z"
      },
      {
        "duration": 5,
        "start_time": "2023-01-12T01:08:01.450Z"
      },
      {
        "duration": 99,
        "start_time": "2023-01-12T01:08:01.457Z"
      },
      {
        "duration": 4,
        "start_time": "2023-01-12T01:08:01.558Z"
      },
      {
        "duration": 108,
        "start_time": "2023-01-12T01:08:01.564Z"
      },
      {
        "duration": 78,
        "start_time": "2023-01-12T01:08:01.674Z"
      },
      {
        "duration": 5,
        "start_time": "2023-01-12T01:08:01.754Z"
      },
      {
        "duration": 20,
        "start_time": "2023-01-12T01:08:01.760Z"
      },
      {
        "duration": 4934,
        "start_time": "2023-01-12T01:08:01.781Z"
      },
      {
        "duration": 3,
        "start_time": "2023-01-12T01:08:06.716Z"
      },
      {
        "duration": 605,
        "start_time": "2023-01-12T01:08:06.721Z"
      },
      {
        "duration": 3,
        "start_time": "2023-01-12T01:08:07.330Z"
      },
      {
        "duration": 671,
        "start_time": "2023-01-12T01:08:07.334Z"
      },
      {
        "duration": 2,
        "start_time": "2023-01-12T01:08:08.007Z"
      },
      {
        "duration": 49238,
        "start_time": "2023-01-12T01:08:08.010Z"
      },
      {
        "duration": 2,
        "start_time": "2023-01-12T01:08:57.250Z"
      },
      {
        "duration": 13149,
        "start_time": "2023-01-12T01:08:57.253Z"
      },
      {
        "duration": 71678,
        "start_time": "2023-01-12T01:09:10.404Z"
      },
      {
        "duration": 845133,
        "start_time": "2023-01-12T01:10:22.084Z"
      },
      {
        "duration": 6,
        "start_time": "2023-01-12T01:24:27.219Z"
      },
      {
        "duration": 48,
        "start_time": "2023-01-12T01:24:27.227Z"
      },
      {
        "duration": 384505,
        "start_time": "2023-01-12T01:24:27.276Z"
      },
      {
        "duration": 180,
        "start_time": "2023-01-12T01:30:51.782Z"
      },
      {
        "duration": 0,
        "start_time": "2023-01-12T01:30:52.099Z"
      },
      {
        "duration": 0,
        "start_time": "2023-01-12T01:30:52.099Z"
      },
      {
        "duration": 10,
        "start_time": "2023-01-12T02:16:03.300Z"
      },
      {
        "duration": 13,
        "start_time": "2023-01-12T02:16:30.146Z"
      },
      {
        "duration": 12,
        "start_time": "2023-01-12T02:18:17.923Z"
      },
      {
        "duration": 28449,
        "start_time": "2023-01-12T02:19:11.266Z"
      },
      {
        "duration": 8,
        "start_time": "2023-01-12T02:19:39.717Z"
      },
      {
        "duration": 5,
        "start_time": "2023-01-12T02:24:04.774Z"
      },
      {
        "duration": 45,
        "start_time": "2023-01-12T02:24:25.501Z"
      },
      {
        "duration": 48,
        "start_time": "2023-01-12T02:24:37.396Z"
      },
      {
        "duration": 11,
        "start_time": "2023-01-12T02:24:49.594Z"
      },
      {
        "duration": 4,
        "start_time": "2023-01-12T02:24:54.333Z"
      },
      {
        "duration": 59,
        "start_time": "2023-01-12T02:25:46.021Z"
      },
      {
        "duration": 28560,
        "start_time": "2023-01-12T02:26:33.059Z"
      },
      {
        "duration": 9,
        "start_time": "2023-01-12T02:27:04.234Z"
      },
      {
        "duration": 1964,
        "start_time": "2023-01-12T02:27:54.848Z"
      },
      {
        "duration": 1503,
        "start_time": "2023-01-12T02:27:56.814Z"
      },
      {
        "duration": 2,
        "start_time": "2023-01-12T02:27:58.319Z"
      },
      {
        "duration": 745,
        "start_time": "2023-01-12T02:27:58.323Z"
      },
      {
        "duration": 4,
        "start_time": "2023-01-12T02:27:59.070Z"
      },
      {
        "duration": 21,
        "start_time": "2023-01-12T02:27:59.076Z"
      },
      {
        "duration": 20,
        "start_time": "2023-01-12T02:27:59.099Z"
      },
      {
        "duration": 12,
        "start_time": "2023-01-12T02:27:59.120Z"
      },
      {
        "duration": 37,
        "start_time": "2023-01-12T02:27:59.133Z"
      },
      {
        "duration": 24,
        "start_time": "2023-01-12T02:27:59.173Z"
      },
      {
        "duration": 3,
        "start_time": "2023-01-12T02:27:59.199Z"
      },
      {
        "duration": 98,
        "start_time": "2023-01-12T02:27:59.203Z"
      },
      {
        "duration": 30,
        "start_time": "2023-01-12T02:27:59.303Z"
      },
      {
        "duration": 229,
        "start_time": "2023-01-12T02:27:59.334Z"
      },
      {
        "duration": 11,
        "start_time": "2023-01-12T02:27:59.565Z"
      },
      {
        "duration": 3,
        "start_time": "2023-01-12T02:27:59.578Z"
      },
      {
        "duration": 9,
        "start_time": "2023-01-12T02:27:59.582Z"
      },
      {
        "duration": 6,
        "start_time": "2023-01-12T02:27:59.592Z"
      },
      {
        "duration": 1332,
        "start_time": "2023-01-12T02:27:59.600Z"
      },
      {
        "duration": 3,
        "start_time": "2023-01-12T02:28:00.934Z"
      },
      {
        "duration": 31,
        "start_time": "2023-01-12T02:28:00.939Z"
      },
      {
        "duration": 25,
        "start_time": "2023-01-12T02:28:00.971Z"
      },
      {
        "duration": 26,
        "start_time": "2023-01-12T02:28:00.997Z"
      },
      {
        "duration": 31,
        "start_time": "2023-01-12T02:28:01.025Z"
      },
      {
        "duration": 1134426,
        "start_time": "2023-01-12T02:28:01.058Z"
      },
      {
        "duration": 16,
        "start_time": "2023-01-12T02:46:55.485Z"
      },
      {
        "duration": 17,
        "start_time": "2023-01-12T02:46:55.503Z"
      },
      {
        "duration": 5,
        "start_time": "2023-01-12T02:46:55.523Z"
      },
      {
        "duration": 12,
        "start_time": "2023-01-12T02:46:55.529Z"
      },
      {
        "duration": 118,
        "start_time": "2023-01-12T02:46:55.542Z"
      },
      {
        "duration": 4,
        "start_time": "2023-01-12T02:46:55.662Z"
      },
      {
        "duration": 98,
        "start_time": "2023-01-12T02:46:55.668Z"
      },
      {
        "duration": 4,
        "start_time": "2023-01-12T02:46:55.768Z"
      },
      {
        "duration": 100,
        "start_time": "2023-01-12T02:46:55.774Z"
      },
      {
        "duration": 103,
        "start_time": "2023-01-12T02:46:55.876Z"
      },
      {
        "duration": 15,
        "start_time": "2023-01-12T02:46:55.981Z"
      },
      {
        "duration": 19,
        "start_time": "2023-01-12T02:46:55.999Z"
      },
      {
        "duration": 4945,
        "start_time": "2023-01-12T02:46:56.021Z"
      },
      {
        "duration": 3,
        "start_time": "2023-01-12T02:47:00.968Z"
      },
      {
        "duration": 693,
        "start_time": "2023-01-12T02:47:00.973Z"
      },
      {
        "duration": 3,
        "start_time": "2023-01-12T02:47:01.668Z"
      },
      {
        "duration": 653,
        "start_time": "2023-01-12T02:47:01.672Z"
      },
      {
        "duration": 2,
        "start_time": "2023-01-12T02:47:02.327Z"
      },
      {
        "duration": 50126,
        "start_time": "2023-01-12T02:47:02.331Z"
      },
      {
        "duration": 3,
        "start_time": "2023-01-12T02:47:52.459Z"
      },
      {
        "duration": 12682,
        "start_time": "2023-01-12T02:47:52.463Z"
      },
      {
        "duration": 71176,
        "start_time": "2023-01-12T02:48:05.147Z"
      },
      {
        "duration": 171825,
        "start_time": "2023-01-12T02:49:16.325Z"
      },
      {
        "duration": 5,
        "start_time": "2023-01-12T02:52:08.152Z"
      },
      {
        "duration": 59,
        "start_time": "2023-01-12T02:52:08.159Z"
      },
      {
        "duration": 386886,
        "start_time": "2023-01-12T02:52:08.220Z"
      },
      {
        "duration": 194,
        "start_time": "2023-01-12T02:58:35.108Z"
      },
      {
        "duration": 4,
        "start_time": "2023-01-12T02:58:35.304Z"
      },
      {
        "duration": 25707,
        "start_time": "2023-01-12T02:58:35.309Z"
      },
      {
        "duration": 10,
        "start_time": "2023-01-12T02:59:01.018Z"
      },
      {
        "duration": 141,
        "start_time": "2023-01-12T03:47:32.306Z"
      },
      {
        "duration": 1822,
        "start_time": "2023-01-12T03:47:48.352Z"
      },
      {
        "duration": 8,
        "start_time": "2023-01-12T03:47:51.478Z"
      },
      {
        "duration": 320773,
        "start_time": "2023-01-12T03:57:54.598Z"
      },
      {
        "duration": 5,
        "start_time": "2023-01-12T04:03:15.373Z"
      },
      {
        "duration": 38,
        "start_time": "2023-01-12T04:03:15.379Z"
      },
      {
        "duration": 1955,
        "start_time": "2023-01-12T04:13:28.283Z"
      },
      {
        "duration": 7,
        "start_time": "2023-01-12T04:13:30.240Z"
      },
      {
        "duration": 75,
        "start_time": "2023-01-12T04:16:43.797Z"
      },
      {
        "duration": 73,
        "start_time": "2023-01-12T04:16:44.349Z"
      },
      {
        "duration": 117,
        "start_time": "2023-01-12T04:16:49.091Z"
      },
      {
        "duration": 84,
        "start_time": "2023-01-12T04:16:50.278Z"
      },
      {
        "duration": 96,
        "start_time": "2023-01-12T04:16:55.726Z"
      },
      {
        "duration": 72,
        "start_time": "2023-01-12T04:16:56.802Z"
      },
      {
        "duration": 88,
        "start_time": "2023-01-12T04:17:02.832Z"
      },
      {
        "duration": 78,
        "start_time": "2023-01-12T04:17:03.179Z"
      },
      {
        "duration": 83,
        "start_time": "2023-01-12T04:17:08.295Z"
      },
      {
        "duration": 76,
        "start_time": "2023-01-12T04:17:09.187Z"
      },
      {
        "duration": 62,
        "start_time": "2023-01-12T04:17:15.044Z"
      },
      {
        "duration": 76,
        "start_time": "2023-01-12T04:17:15.516Z"
      },
      {
        "duration": 85,
        "start_time": "2023-01-12T04:17:20.291Z"
      },
      {
        "duration": 68,
        "start_time": "2023-01-12T04:17:20.580Z"
      },
      {
        "duration": 80,
        "start_time": "2023-01-12T04:17:23.985Z"
      },
      {
        "duration": 79,
        "start_time": "2023-01-12T04:17:24.388Z"
      },
      {
        "duration": 99,
        "start_time": "2023-01-12T04:17:27.897Z"
      },
      {
        "duration": 76,
        "start_time": "2023-01-12T04:17:28.402Z"
      },
      {
        "duration": 95,
        "start_time": "2023-01-12T04:17:32.113Z"
      },
      {
        "duration": 71,
        "start_time": "2023-01-12T04:17:32.423Z"
      },
      {
        "duration": 87,
        "start_time": "2023-01-12T04:17:37.233Z"
      },
      {
        "duration": 79,
        "start_time": "2023-01-12T04:17:37.850Z"
      },
      {
        "duration": 88,
        "start_time": "2023-01-12T04:17:43.289Z"
      },
      {
        "duration": 73,
        "start_time": "2023-01-12T04:17:43.703Z"
      },
      {
        "duration": 3,
        "start_time": "2023-01-12T04:19:22.459Z"
      },
      {
        "duration": 19,
        "start_time": "2023-01-12T04:19:22.890Z"
      },
      {
        "duration": 2,
        "start_time": "2023-01-12T04:19:31.531Z"
      },
      {
        "duration": 83,
        "start_time": "2023-01-12T04:19:32.637Z"
      },
      {
        "duration": 1911,
        "start_time": "2023-01-12T04:20:54.079Z"
      },
      {
        "duration": 1644,
        "start_time": "2023-01-12T04:20:55.993Z"
      },
      {
        "duration": 3,
        "start_time": "2023-01-12T04:20:57.639Z"
      },
      {
        "duration": 757,
        "start_time": "2023-01-12T04:20:57.644Z"
      },
      {
        "duration": 5,
        "start_time": "2023-01-12T04:20:58.403Z"
      },
      {
        "duration": 13,
        "start_time": "2023-01-12T04:20:58.410Z"
      },
      {
        "duration": 22,
        "start_time": "2023-01-12T04:20:58.425Z"
      },
      {
        "duration": 11,
        "start_time": "2023-01-12T04:20:58.448Z"
      },
      {
        "duration": 53,
        "start_time": "2023-01-12T04:20:58.461Z"
      },
      {
        "duration": 4,
        "start_time": "2023-01-12T04:20:58.517Z"
      },
      {
        "duration": 8,
        "start_time": "2023-01-12T04:20:58.523Z"
      },
      {
        "duration": 114,
        "start_time": "2023-01-12T04:20:58.533Z"
      },
      {
        "duration": 31,
        "start_time": "2023-01-12T04:20:58.648Z"
      },
      {
        "duration": 191,
        "start_time": "2023-01-12T04:20:58.696Z"
      },
      {
        "duration": 11,
        "start_time": "2023-01-12T04:20:58.889Z"
      },
      {
        "duration": 3,
        "start_time": "2023-01-12T04:20:58.902Z"
      },
      {
        "duration": 7,
        "start_time": "2023-01-12T04:20:58.906Z"
      },
      {
        "duration": 6,
        "start_time": "2023-01-12T04:20:58.915Z"
      },
      {
        "duration": 1404,
        "start_time": "2023-01-12T04:20:58.923Z"
      },
      {
        "duration": 5,
        "start_time": "2023-01-12T04:21:00.329Z"
      },
      {
        "duration": 47,
        "start_time": "2023-01-12T04:21:00.336Z"
      },
      {
        "duration": 43,
        "start_time": "2023-01-12T04:21:00.385Z"
      },
      {
        "duration": 60,
        "start_time": "2023-01-12T04:21:00.430Z"
      },
      {
        "duration": 37,
        "start_time": "2023-01-12T04:21:00.492Z"
      },
      {
        "duration": 1205902,
        "start_time": "2023-01-12T04:21:00.531Z"
      },
      {
        "duration": 7,
        "start_time": "2023-01-12T04:41:06.435Z"
      },
      {
        "duration": 5,
        "start_time": "2023-01-12T04:41:06.443Z"
      },
      {
        "duration": 7,
        "start_time": "2023-01-12T04:41:06.452Z"
      },
      {
        "duration": 7,
        "start_time": "2023-01-12T04:41:06.461Z"
      },
      {
        "duration": 140,
        "start_time": "2023-01-12T04:41:06.469Z"
      },
      {
        "duration": 4,
        "start_time": "2023-01-12T04:41:06.611Z"
      },
      {
        "duration": 96,
        "start_time": "2023-01-12T04:41:06.617Z"
      },
      {
        "duration": 4,
        "start_time": "2023-01-12T04:41:06.715Z"
      },
      {
        "duration": 4,
        "start_time": "2023-01-12T04:41:06.721Z"
      },
      {
        "duration": 7,
        "start_time": "2023-01-12T04:41:06.727Z"
      },
      {
        "duration": 102,
        "start_time": "2023-01-12T04:41:06.736Z"
      },
      {
        "duration": 5,
        "start_time": "2023-01-12T04:41:06.840Z"
      },
      {
        "duration": 7,
        "start_time": "2023-01-12T04:41:06.847Z"
      },
      {
        "duration": 5585,
        "start_time": "2023-01-12T04:41:06.856Z"
      },
      {
        "duration": 4,
        "start_time": "2023-01-12T04:41:12.442Z"
      },
      {
        "duration": 668,
        "start_time": "2023-01-12T04:41:12.448Z"
      },
      {
        "duration": 3,
        "start_time": "2023-01-12T04:41:13.117Z"
      },
      {
        "duration": 618,
        "start_time": "2023-01-12T04:41:13.122Z"
      },
      {
        "duration": 2,
        "start_time": "2023-01-12T04:41:13.742Z"
      },
      {
        "duration": 66281,
        "start_time": "2023-01-12T04:41:13.746Z"
      },
      {
        "duration": 3,
        "start_time": "2023-01-12T04:42:20.029Z"
      },
      {
        "duration": 13257,
        "start_time": "2023-01-12T04:42:20.034Z"
      },
      {
        "duration": 84725,
        "start_time": "2023-01-12T04:42:33.296Z"
      },
      {
        "duration": 443214,
        "start_time": "2023-01-12T04:43:58.023Z"
      },
      {
        "duration": 4,
        "start_time": "2023-01-12T04:51:21.239Z"
      },
      {
        "duration": 31,
        "start_time": "2023-01-12T04:51:21.246Z"
      },
      {
        "duration": 101047,
        "start_time": "2023-01-12T04:51:21.279Z"
      },
      {
        "duration": 190,
        "start_time": "2023-01-12T04:53:02.327Z"
      },
      {
        "duration": 4,
        "start_time": "2023-01-12T04:53:02.519Z"
      },
      {
        "duration": 2909,
        "start_time": "2023-01-12T04:53:02.525Z"
      },
      {
        "duration": 9,
        "start_time": "2023-01-12T04:53:05.436Z"
      }
    ],
    "colab": {
      "provenance": []
    },
    "kernelspec": {
      "display_name": "Python 3 (ipykernel)",
      "language": "python",
      "name": "python3"
    },
    "language_info": {
      "codemirror_mode": {
        "name": "ipython",
        "version": 3
      },
      "file_extension": ".py",
      "mimetype": "text/x-python",
      "name": "python",
      "nbconvert_exporter": "python",
      "pygments_lexer": "ipython3",
      "version": "3.9.5"
    },
    "toc": {
      "base_numbering": 1,
      "nav_menu": {},
      "number_sections": true,
      "sideBar": true,
      "skip_h1_title": true,
      "title_cell": "Содержание",
      "title_sidebar": "Contents",
      "toc_cell": true,
      "toc_position": {
        "height": "calc(100% - 180px)",
        "left": "10px",
        "top": "150px",
        "width": "302.391px"
      },
      "toc_section_display": true,
      "toc_window_display": false
    },
    "widgets": {
      "application/vnd.jupyter.widget-state+json": {
        "fb2a2f8245ab45e79d67128dd930c279": {
          "model_module": "@jupyter-widgets/controls",
          "model_name": "HBoxModel",
          "model_module_version": "1.5.0",
          "state": {
            "_dom_classes": [],
            "_model_module": "@jupyter-widgets/controls",
            "_model_module_version": "1.5.0",
            "_model_name": "HBoxModel",
            "_view_count": null,
            "_view_module": "@jupyter-widgets/controls",
            "_view_module_version": "1.5.0",
            "_view_name": "HBoxView",
            "box_style": "",
            "children": [
              "IPY_MODEL_90c62404540a4f63a1b9ebb705d7387c",
              "IPY_MODEL_cbf6712fb045422ba3acfea398dde03d",
              "IPY_MODEL_5797708a58a242a0a35dbea1938ab05d"
            ],
            "layout": "IPY_MODEL_daf94b9ec2eb4968bec2585c595ebd39"
          }
        },
        "90c62404540a4f63a1b9ebb705d7387c": {
          "model_module": "@jupyter-widgets/controls",
          "model_name": "HTMLModel",
          "model_module_version": "1.5.0",
          "state": {
            "_dom_classes": [],
            "_model_module": "@jupyter-widgets/controls",
            "_model_module_version": "1.5.0",
            "_model_name": "HTMLModel",
            "_view_count": null,
            "_view_module": "@jupyter-widgets/controls",
            "_view_module_version": "1.5.0",
            "_view_name": "HTMLView",
            "description": "",
            "description_tooltip": null,
            "layout": "IPY_MODEL_5e3739a448ed4c238db3efe24f524d5b",
            "placeholder": "​",
            "style": "IPY_MODEL_0b960fba90a94da4ba7deaecf7edf639",
            "value": "100%"
          }
        },
        "cbf6712fb045422ba3acfea398dde03d": {
          "model_module": "@jupyter-widgets/controls",
          "model_name": "FloatProgressModel",
          "model_module_version": "1.5.0",
          "state": {
            "_dom_classes": [],
            "_model_module": "@jupyter-widgets/controls",
            "_model_module_version": "1.5.0",
            "_model_name": "FloatProgressModel",
            "_view_count": null,
            "_view_module": "@jupyter-widgets/controls",
            "_view_module_version": "1.5.0",
            "_view_name": "ProgressView",
            "bar_style": "success",
            "description": "",
            "description_tooltip": null,
            "layout": "IPY_MODEL_7fbf6235e81040b18635cc67c4cd1d72",
            "max": 159292,
            "min": 0,
            "orientation": "horizontal",
            "style": "IPY_MODEL_60007bfafaac47c6b7f5e7e6ee153039",
            "value": 159292
          }
        },
        "5797708a58a242a0a35dbea1938ab05d": {
          "model_module": "@jupyter-widgets/controls",
          "model_name": "HTMLModel",
          "model_module_version": "1.5.0",
          "state": {
            "_dom_classes": [],
            "_model_module": "@jupyter-widgets/controls",
            "_model_module_version": "1.5.0",
            "_model_name": "HTMLModel",
            "_view_count": null,
            "_view_module": "@jupyter-widgets/controls",
            "_view_module_version": "1.5.0",
            "_view_name": "HTMLView",
            "description": "",
            "description_tooltip": null,
            "layout": "IPY_MODEL_5cb88f99f2c144e8935d06f52c140d6f",
            "placeholder": "​",
            "style": "IPY_MODEL_05c42b0e4a6a45aa9e330345705e302d",
            "value": " 159292/159292 [28:03&lt;00:00, 120.38it/s]"
          }
        },
        "daf94b9ec2eb4968bec2585c595ebd39": {
          "model_module": "@jupyter-widgets/base",
          "model_name": "LayoutModel",
          "model_module_version": "1.2.0",
          "state": {
            "_model_module": "@jupyter-widgets/base",
            "_model_module_version": "1.2.0",
            "_model_name": "LayoutModel",
            "_view_count": null,
            "_view_module": "@jupyter-widgets/base",
            "_view_module_version": "1.2.0",
            "_view_name": "LayoutView",
            "align_content": null,
            "align_items": null,
            "align_self": null,
            "border": null,
            "bottom": null,
            "display": null,
            "flex": null,
            "flex_flow": null,
            "grid_area": null,
            "grid_auto_columns": null,
            "grid_auto_flow": null,
            "grid_auto_rows": null,
            "grid_column": null,
            "grid_gap": null,
            "grid_row": null,
            "grid_template_areas": null,
            "grid_template_columns": null,
            "grid_template_rows": null,
            "height": null,
            "justify_content": null,
            "justify_items": null,
            "left": null,
            "margin": null,
            "max_height": null,
            "max_width": null,
            "min_height": null,
            "min_width": null,
            "object_fit": null,
            "object_position": null,
            "order": null,
            "overflow": null,
            "overflow_x": null,
            "overflow_y": null,
            "padding": null,
            "right": null,
            "top": null,
            "visibility": null,
            "width": null
          }
        },
        "5e3739a448ed4c238db3efe24f524d5b": {
          "model_module": "@jupyter-widgets/base",
          "model_name": "LayoutModel",
          "model_module_version": "1.2.0",
          "state": {
            "_model_module": "@jupyter-widgets/base",
            "_model_module_version": "1.2.0",
            "_model_name": "LayoutModel",
            "_view_count": null,
            "_view_module": "@jupyter-widgets/base",
            "_view_module_version": "1.2.0",
            "_view_name": "LayoutView",
            "align_content": null,
            "align_items": null,
            "align_self": null,
            "border": null,
            "bottom": null,
            "display": null,
            "flex": null,
            "flex_flow": null,
            "grid_area": null,
            "grid_auto_columns": null,
            "grid_auto_flow": null,
            "grid_auto_rows": null,
            "grid_column": null,
            "grid_gap": null,
            "grid_row": null,
            "grid_template_areas": null,
            "grid_template_columns": null,
            "grid_template_rows": null,
            "height": null,
            "justify_content": null,
            "justify_items": null,
            "left": null,
            "margin": null,
            "max_height": null,
            "max_width": null,
            "min_height": null,
            "min_width": null,
            "object_fit": null,
            "object_position": null,
            "order": null,
            "overflow": null,
            "overflow_x": null,
            "overflow_y": null,
            "padding": null,
            "right": null,
            "top": null,
            "visibility": null,
            "width": null
          }
        },
        "0b960fba90a94da4ba7deaecf7edf639": {
          "model_module": "@jupyter-widgets/controls",
          "model_name": "DescriptionStyleModel",
          "model_module_version": "1.5.0",
          "state": {
            "_model_module": "@jupyter-widgets/controls",
            "_model_module_version": "1.5.0",
            "_model_name": "DescriptionStyleModel",
            "_view_count": null,
            "_view_module": "@jupyter-widgets/base",
            "_view_module_version": "1.2.0",
            "_view_name": "StyleView",
            "description_width": ""
          }
        },
        "7fbf6235e81040b18635cc67c4cd1d72": {
          "model_module": "@jupyter-widgets/base",
          "model_name": "LayoutModel",
          "model_module_version": "1.2.0",
          "state": {
            "_model_module": "@jupyter-widgets/base",
            "_model_module_version": "1.2.0",
            "_model_name": "LayoutModel",
            "_view_count": null,
            "_view_module": "@jupyter-widgets/base",
            "_view_module_version": "1.2.0",
            "_view_name": "LayoutView",
            "align_content": null,
            "align_items": null,
            "align_self": null,
            "border": null,
            "bottom": null,
            "display": null,
            "flex": null,
            "flex_flow": null,
            "grid_area": null,
            "grid_auto_columns": null,
            "grid_auto_flow": null,
            "grid_auto_rows": null,
            "grid_column": null,
            "grid_gap": null,
            "grid_row": null,
            "grid_template_areas": null,
            "grid_template_columns": null,
            "grid_template_rows": null,
            "height": null,
            "justify_content": null,
            "justify_items": null,
            "left": null,
            "margin": null,
            "max_height": null,
            "max_width": null,
            "min_height": null,
            "min_width": null,
            "object_fit": null,
            "object_position": null,
            "order": null,
            "overflow": null,
            "overflow_x": null,
            "overflow_y": null,
            "padding": null,
            "right": null,
            "top": null,
            "visibility": null,
            "width": null
          }
        },
        "60007bfafaac47c6b7f5e7e6ee153039": {
          "model_module": "@jupyter-widgets/controls",
          "model_name": "ProgressStyleModel",
          "model_module_version": "1.5.0",
          "state": {
            "_model_module": "@jupyter-widgets/controls",
            "_model_module_version": "1.5.0",
            "_model_name": "ProgressStyleModel",
            "_view_count": null,
            "_view_module": "@jupyter-widgets/base",
            "_view_module_version": "1.2.0",
            "_view_name": "StyleView",
            "bar_color": null,
            "description_width": ""
          }
        },
        "5cb88f99f2c144e8935d06f52c140d6f": {
          "model_module": "@jupyter-widgets/base",
          "model_name": "LayoutModel",
          "model_module_version": "1.2.0",
          "state": {
            "_model_module": "@jupyter-widgets/base",
            "_model_module_version": "1.2.0",
            "_model_name": "LayoutModel",
            "_view_count": null,
            "_view_module": "@jupyter-widgets/base",
            "_view_module_version": "1.2.0",
            "_view_name": "LayoutView",
            "align_content": null,
            "align_items": null,
            "align_self": null,
            "border": null,
            "bottom": null,
            "display": null,
            "flex": null,
            "flex_flow": null,
            "grid_area": null,
            "grid_auto_columns": null,
            "grid_auto_flow": null,
            "grid_auto_rows": null,
            "grid_column": null,
            "grid_gap": null,
            "grid_row": null,
            "grid_template_areas": null,
            "grid_template_columns": null,
            "grid_template_rows": null,
            "height": null,
            "justify_content": null,
            "justify_items": null,
            "left": null,
            "margin": null,
            "max_height": null,
            "max_width": null,
            "min_height": null,
            "min_width": null,
            "object_fit": null,
            "object_position": null,
            "order": null,
            "overflow": null,
            "overflow_x": null,
            "overflow_y": null,
            "padding": null,
            "right": null,
            "top": null,
            "visibility": null,
            "width": null
          }
        },
        "05c42b0e4a6a45aa9e330345705e302d": {
          "model_module": "@jupyter-widgets/controls",
          "model_name": "DescriptionStyleModel",
          "model_module_version": "1.5.0",
          "state": {
            "_model_module": "@jupyter-widgets/controls",
            "_model_module_version": "1.5.0",
            "_model_name": "DescriptionStyleModel",
            "_view_count": null,
            "_view_module": "@jupyter-widgets/base",
            "_view_module_version": "1.2.0",
            "_view_name": "StyleView",
            "description_width": ""
          }
        },
        "3ec0bf8d680e45ae9447eab9373c4cc3": {
          "model_module": "@jupyter-widgets/controls",
          "model_name": "HBoxModel",
          "model_module_version": "1.5.0",
          "state": {
            "_dom_classes": [],
            "_model_module": "@jupyter-widgets/controls",
            "_model_module_version": "1.5.0",
            "_model_name": "HBoxModel",
            "_view_count": null,
            "_view_module": "@jupyter-widgets/controls",
            "_view_module_version": "1.5.0",
            "_view_name": "HBoxView",
            "box_style": "",
            "children": [
              "IPY_MODEL_00a0eede773448f8a7986a15f9a3788f",
              "IPY_MODEL_d271b5f5ed5c485d8cfb54fbc20235a8",
              "IPY_MODEL_67e78f6853794d41afca5db08e9ab6de"
            ],
            "layout": "IPY_MODEL_72a4a69ffb45493eb8b966849728ef70"
          }
        },
        "00a0eede773448f8a7986a15f9a3788f": {
          "model_module": "@jupyter-widgets/controls",
          "model_name": "HTMLModel",
          "model_module_version": "1.5.0",
          "state": {
            "_dom_classes": [],
            "_model_module": "@jupyter-widgets/controls",
            "_model_module_version": "1.5.0",
            "_model_name": "HTMLModel",
            "_view_count": null,
            "_view_module": "@jupyter-widgets/controls",
            "_view_module_version": "1.5.0",
            "_view_name": "HTMLView",
            "description": "",
            "description_tooltip": null,
            "layout": "IPY_MODEL_b3a040a5348342fe929bbc68e890b849",
            "placeholder": "​",
            "style": "IPY_MODEL_8e68a2bd2a89436dbfc5eb46e0cb9656",
            "value": "100%"
          }
        },
        "d271b5f5ed5c485d8cfb54fbc20235a8": {
          "model_module": "@jupyter-widgets/controls",
          "model_name": "FloatProgressModel",
          "model_module_version": "1.5.0",
          "state": {
            "_dom_classes": [],
            "_model_module": "@jupyter-widgets/controls",
            "_model_module_version": "1.5.0",
            "_model_name": "FloatProgressModel",
            "_view_count": null,
            "_view_module": "@jupyter-widgets/controls",
            "_view_module_version": "1.5.0",
            "_view_name": "ProgressView",
            "bar_style": "success",
            "description": "",
            "description_tooltip": null,
            "layout": "IPY_MODEL_a589f7647b5941f5939e56afaa16941b",
            "max": 8,
            "min": 0,
            "orientation": "horizontal",
            "style": "IPY_MODEL_3c0ab15a9174404d968f9ad5555c81bb",
            "value": 8
          }
        },
        "67e78f6853794d41afca5db08e9ab6de": {
          "model_module": "@jupyter-widgets/controls",
          "model_name": "HTMLModel",
          "model_module_version": "1.5.0",
          "state": {
            "_dom_classes": [],
            "_model_module": "@jupyter-widgets/controls",
            "_model_module_version": "1.5.0",
            "_model_name": "HTMLModel",
            "_view_count": null,
            "_view_module": "@jupyter-widgets/controls",
            "_view_module_version": "1.5.0",
            "_view_name": "HTMLView",
            "description": "",
            "description_tooltip": null,
            "layout": "IPY_MODEL_129d1978e41041a8ac48f1efafcda181",
            "placeholder": "​",
            "style": "IPY_MODEL_a67afbd1b22349918e829d77974647c3",
            "value": " 8/8 [01:26&lt;00:00, 16.17s/it]"
          }
        },
        "72a4a69ffb45493eb8b966849728ef70": {
          "model_module": "@jupyter-widgets/base",
          "model_name": "LayoutModel",
          "model_module_version": "1.2.0",
          "state": {
            "_model_module": "@jupyter-widgets/base",
            "_model_module_version": "1.2.0",
            "_model_name": "LayoutModel",
            "_view_count": null,
            "_view_module": "@jupyter-widgets/base",
            "_view_module_version": "1.2.0",
            "_view_name": "LayoutView",
            "align_content": null,
            "align_items": null,
            "align_self": null,
            "border": null,
            "bottom": null,
            "display": null,
            "flex": null,
            "flex_flow": null,
            "grid_area": null,
            "grid_auto_columns": null,
            "grid_auto_flow": null,
            "grid_auto_rows": null,
            "grid_column": null,
            "grid_gap": null,
            "grid_row": null,
            "grid_template_areas": null,
            "grid_template_columns": null,
            "grid_template_rows": null,
            "height": null,
            "justify_content": null,
            "justify_items": null,
            "left": null,
            "margin": null,
            "max_height": null,
            "max_width": null,
            "min_height": null,
            "min_width": null,
            "object_fit": null,
            "object_position": null,
            "order": null,
            "overflow": null,
            "overflow_x": null,
            "overflow_y": null,
            "padding": null,
            "right": null,
            "top": null,
            "visibility": null,
            "width": null
          }
        },
        "b3a040a5348342fe929bbc68e890b849": {
          "model_module": "@jupyter-widgets/base",
          "model_name": "LayoutModel",
          "model_module_version": "1.2.0",
          "state": {
            "_model_module": "@jupyter-widgets/base",
            "_model_module_version": "1.2.0",
            "_model_name": "LayoutModel",
            "_view_count": null,
            "_view_module": "@jupyter-widgets/base",
            "_view_module_version": "1.2.0",
            "_view_name": "LayoutView",
            "align_content": null,
            "align_items": null,
            "align_self": null,
            "border": null,
            "bottom": null,
            "display": null,
            "flex": null,
            "flex_flow": null,
            "grid_area": null,
            "grid_auto_columns": null,
            "grid_auto_flow": null,
            "grid_auto_rows": null,
            "grid_column": null,
            "grid_gap": null,
            "grid_row": null,
            "grid_template_areas": null,
            "grid_template_columns": null,
            "grid_template_rows": null,
            "height": null,
            "justify_content": null,
            "justify_items": null,
            "left": null,
            "margin": null,
            "max_height": null,
            "max_width": null,
            "min_height": null,
            "min_width": null,
            "object_fit": null,
            "object_position": null,
            "order": null,
            "overflow": null,
            "overflow_x": null,
            "overflow_y": null,
            "padding": null,
            "right": null,
            "top": null,
            "visibility": null,
            "width": null
          }
        },
        "8e68a2bd2a89436dbfc5eb46e0cb9656": {
          "model_module": "@jupyter-widgets/controls",
          "model_name": "DescriptionStyleModel",
          "model_module_version": "1.5.0",
          "state": {
            "_model_module": "@jupyter-widgets/controls",
            "_model_module_version": "1.5.0",
            "_model_name": "DescriptionStyleModel",
            "_view_count": null,
            "_view_module": "@jupyter-widgets/base",
            "_view_module_version": "1.2.0",
            "_view_name": "StyleView",
            "description_width": ""
          }
        },
        "a589f7647b5941f5939e56afaa16941b": {
          "model_module": "@jupyter-widgets/base",
          "model_name": "LayoutModel",
          "model_module_version": "1.2.0",
          "state": {
            "_model_module": "@jupyter-widgets/base",
            "_model_module_version": "1.2.0",
            "_model_name": "LayoutModel",
            "_view_count": null,
            "_view_module": "@jupyter-widgets/base",
            "_view_module_version": "1.2.0",
            "_view_name": "LayoutView",
            "align_content": null,
            "align_items": null,
            "align_self": null,
            "border": null,
            "bottom": null,
            "display": null,
            "flex": null,
            "flex_flow": null,
            "grid_area": null,
            "grid_auto_columns": null,
            "grid_auto_flow": null,
            "grid_auto_rows": null,
            "grid_column": null,
            "grid_gap": null,
            "grid_row": null,
            "grid_template_areas": null,
            "grid_template_columns": null,
            "grid_template_rows": null,
            "height": null,
            "justify_content": null,
            "justify_items": null,
            "left": null,
            "margin": null,
            "max_height": null,
            "max_width": null,
            "min_height": null,
            "min_width": null,
            "object_fit": null,
            "object_position": null,
            "order": null,
            "overflow": null,
            "overflow_x": null,
            "overflow_y": null,
            "padding": null,
            "right": null,
            "top": null,
            "visibility": null,
            "width": null
          }
        },
        "3c0ab15a9174404d968f9ad5555c81bb": {
          "model_module": "@jupyter-widgets/controls",
          "model_name": "ProgressStyleModel",
          "model_module_version": "1.5.0",
          "state": {
            "_model_module": "@jupyter-widgets/controls",
            "_model_module_version": "1.5.0",
            "_model_name": "ProgressStyleModel",
            "_view_count": null,
            "_view_module": "@jupyter-widgets/base",
            "_view_module_version": "1.2.0",
            "_view_name": "StyleView",
            "bar_color": null,
            "description_width": ""
          }
        },
        "129d1978e41041a8ac48f1efafcda181": {
          "model_module": "@jupyter-widgets/base",
          "model_name": "LayoutModel",
          "model_module_version": "1.2.0",
          "state": {
            "_model_module": "@jupyter-widgets/base",
            "_model_module_version": "1.2.0",
            "_model_name": "LayoutModel",
            "_view_count": null,
            "_view_module": "@jupyter-widgets/base",
            "_view_module_version": "1.2.0",
            "_view_name": "LayoutView",
            "align_content": null,
            "align_items": null,
            "align_self": null,
            "border": null,
            "bottom": null,
            "display": null,
            "flex": null,
            "flex_flow": null,
            "grid_area": null,
            "grid_auto_columns": null,
            "grid_auto_flow": null,
            "grid_auto_rows": null,
            "grid_column": null,
            "grid_gap": null,
            "grid_row": null,
            "grid_template_areas": null,
            "grid_template_columns": null,
            "grid_template_rows": null,
            "height": null,
            "justify_content": null,
            "justify_items": null,
            "left": null,
            "margin": null,
            "max_height": null,
            "max_width": null,
            "min_height": null,
            "min_width": null,
            "object_fit": null,
            "object_position": null,
            "order": null,
            "overflow": null,
            "overflow_x": null,
            "overflow_y": null,
            "padding": null,
            "right": null,
            "top": null,
            "visibility": null,
            "width": null
          }
        },
        "a67afbd1b22349918e829d77974647c3": {
          "model_module": "@jupyter-widgets/controls",
          "model_name": "DescriptionStyleModel",
          "model_module_version": "1.5.0",
          "state": {
            "_model_module": "@jupyter-widgets/controls",
            "_model_module_version": "1.5.0",
            "_model_name": "DescriptionStyleModel",
            "_view_count": null,
            "_view_module": "@jupyter-widgets/base",
            "_view_module_version": "1.2.0",
            "_view_name": "StyleView",
            "description_width": ""
          }
        },
        "0216f080b4fc4a56b2f1ada4f78e11bb": {
          "model_module": "@jupyter-widgets/controls",
          "model_name": "HBoxModel",
          "model_module_version": "1.5.0",
          "state": {
            "_dom_classes": [],
            "_model_module": "@jupyter-widgets/controls",
            "_model_module_version": "1.5.0",
            "_model_name": "HBoxModel",
            "_view_count": null,
            "_view_module": "@jupyter-widgets/controls",
            "_view_module_version": "1.5.0",
            "_view_name": "HBoxView",
            "box_style": "",
            "children": [
              "IPY_MODEL_1dea0367e3df4ab78c26a640670d0db1",
              "IPY_MODEL_eea6e7237878468bbfef79fe709315ef",
              "IPY_MODEL_30f836ef3908480fb9e06cf38796aebb"
            ],
            "layout": "IPY_MODEL_717ef78d547648d3bfb4fbb0a6977297"
          }
        },
        "1dea0367e3df4ab78c26a640670d0db1": {
          "model_module": "@jupyter-widgets/controls",
          "model_name": "HTMLModel",
          "model_module_version": "1.5.0",
          "state": {
            "_dom_classes": [],
            "_model_module": "@jupyter-widgets/controls",
            "_model_module_version": "1.5.0",
            "_model_name": "HTMLModel",
            "_view_count": null,
            "_view_module": "@jupyter-widgets/controls",
            "_view_module_version": "1.5.0",
            "_view_name": "HTMLView",
            "description": "",
            "description_tooltip": null,
            "layout": "IPY_MODEL_14882df8f5314953b31c1728b4ef4247",
            "placeholder": "​",
            "style": "IPY_MODEL_05c836803c7b44e1aec754e0b0565b1b",
            "value": "100%"
          }
        },
        "eea6e7237878468bbfef79fe709315ef": {
          "model_module": "@jupyter-widgets/controls",
          "model_name": "FloatProgressModel",
          "model_module_version": "1.5.0",
          "state": {
            "_dom_classes": [],
            "_model_module": "@jupyter-widgets/controls",
            "_model_module_version": "1.5.0",
            "_model_name": "FloatProgressModel",
            "_view_count": null,
            "_view_module": "@jupyter-widgets/controls",
            "_view_module_version": "1.5.0",
            "_view_name": "ProgressView",
            "bar_style": "success",
            "description": "",
            "description_tooltip": null,
            "layout": "IPY_MODEL_5e8417fe3ff8465da16007ebc9b22312",
            "max": 3,
            "min": 0,
            "orientation": "horizontal",
            "style": "IPY_MODEL_a13c83f9c00a4687b98354872b605762",
            "value": 3
          }
        },
        "30f836ef3908480fb9e06cf38796aebb": {
          "model_module": "@jupyter-widgets/controls",
          "model_name": "HTMLModel",
          "model_module_version": "1.5.0",
          "state": {
            "_dom_classes": [],
            "_model_module": "@jupyter-widgets/controls",
            "_model_module_version": "1.5.0",
            "_model_name": "HTMLModel",
            "_view_count": null,
            "_view_module": "@jupyter-widgets/controls",
            "_view_module_version": "1.5.0",
            "_view_name": "HTMLView",
            "description": "",
            "description_tooltip": null,
            "layout": "IPY_MODEL_76a4522dbc464fedb262f2fd1c874608",
            "placeholder": "​",
            "style": "IPY_MODEL_61f6397d22974422940254c4946617a5",
            "value": " 3/3 [02:25&lt;00:00, 56.36s/it]"
          }
        },
        "717ef78d547648d3bfb4fbb0a6977297": {
          "model_module": "@jupyter-widgets/base",
          "model_name": "LayoutModel",
          "model_module_version": "1.2.0",
          "state": {
            "_model_module": "@jupyter-widgets/base",
            "_model_module_version": "1.2.0",
            "_model_name": "LayoutModel",
            "_view_count": null,
            "_view_module": "@jupyter-widgets/base",
            "_view_module_version": "1.2.0",
            "_view_name": "LayoutView",
            "align_content": null,
            "align_items": null,
            "align_self": null,
            "border": null,
            "bottom": null,
            "display": null,
            "flex": null,
            "flex_flow": null,
            "grid_area": null,
            "grid_auto_columns": null,
            "grid_auto_flow": null,
            "grid_auto_rows": null,
            "grid_column": null,
            "grid_gap": null,
            "grid_row": null,
            "grid_template_areas": null,
            "grid_template_columns": null,
            "grid_template_rows": null,
            "height": null,
            "justify_content": null,
            "justify_items": null,
            "left": null,
            "margin": null,
            "max_height": null,
            "max_width": null,
            "min_height": null,
            "min_width": null,
            "object_fit": null,
            "object_position": null,
            "order": null,
            "overflow": null,
            "overflow_x": null,
            "overflow_y": null,
            "padding": null,
            "right": null,
            "top": null,
            "visibility": null,
            "width": null
          }
        },
        "14882df8f5314953b31c1728b4ef4247": {
          "model_module": "@jupyter-widgets/base",
          "model_name": "LayoutModel",
          "model_module_version": "1.2.0",
          "state": {
            "_model_module": "@jupyter-widgets/base",
            "_model_module_version": "1.2.0",
            "_model_name": "LayoutModel",
            "_view_count": null,
            "_view_module": "@jupyter-widgets/base",
            "_view_module_version": "1.2.0",
            "_view_name": "LayoutView",
            "align_content": null,
            "align_items": null,
            "align_self": null,
            "border": null,
            "bottom": null,
            "display": null,
            "flex": null,
            "flex_flow": null,
            "grid_area": null,
            "grid_auto_columns": null,
            "grid_auto_flow": null,
            "grid_auto_rows": null,
            "grid_column": null,
            "grid_gap": null,
            "grid_row": null,
            "grid_template_areas": null,
            "grid_template_columns": null,
            "grid_template_rows": null,
            "height": null,
            "justify_content": null,
            "justify_items": null,
            "left": null,
            "margin": null,
            "max_height": null,
            "max_width": null,
            "min_height": null,
            "min_width": null,
            "object_fit": null,
            "object_position": null,
            "order": null,
            "overflow": null,
            "overflow_x": null,
            "overflow_y": null,
            "padding": null,
            "right": null,
            "top": null,
            "visibility": null,
            "width": null
          }
        },
        "05c836803c7b44e1aec754e0b0565b1b": {
          "model_module": "@jupyter-widgets/controls",
          "model_name": "DescriptionStyleModel",
          "model_module_version": "1.5.0",
          "state": {
            "_model_module": "@jupyter-widgets/controls",
            "_model_module_version": "1.5.0",
            "_model_name": "DescriptionStyleModel",
            "_view_count": null,
            "_view_module": "@jupyter-widgets/base",
            "_view_module_version": "1.2.0",
            "_view_name": "StyleView",
            "description_width": ""
          }
        },
        "5e8417fe3ff8465da16007ebc9b22312": {
          "model_module": "@jupyter-widgets/base",
          "model_name": "LayoutModel",
          "model_module_version": "1.2.0",
          "state": {
            "_model_module": "@jupyter-widgets/base",
            "_model_module_version": "1.2.0",
            "_model_name": "LayoutModel",
            "_view_count": null,
            "_view_module": "@jupyter-widgets/base",
            "_view_module_version": "1.2.0",
            "_view_name": "LayoutView",
            "align_content": null,
            "align_items": null,
            "align_self": null,
            "border": null,
            "bottom": null,
            "display": null,
            "flex": null,
            "flex_flow": null,
            "grid_area": null,
            "grid_auto_columns": null,
            "grid_auto_flow": null,
            "grid_auto_rows": null,
            "grid_column": null,
            "grid_gap": null,
            "grid_row": null,
            "grid_template_areas": null,
            "grid_template_columns": null,
            "grid_template_rows": null,
            "height": null,
            "justify_content": null,
            "justify_items": null,
            "left": null,
            "margin": null,
            "max_height": null,
            "max_width": null,
            "min_height": null,
            "min_width": null,
            "object_fit": null,
            "object_position": null,
            "order": null,
            "overflow": null,
            "overflow_x": null,
            "overflow_y": null,
            "padding": null,
            "right": null,
            "top": null,
            "visibility": null,
            "width": null
          }
        },
        "a13c83f9c00a4687b98354872b605762": {
          "model_module": "@jupyter-widgets/controls",
          "model_name": "ProgressStyleModel",
          "model_module_version": "1.5.0",
          "state": {
            "_model_module": "@jupyter-widgets/controls",
            "_model_module_version": "1.5.0",
            "_model_name": "ProgressStyleModel",
            "_view_count": null,
            "_view_module": "@jupyter-widgets/base",
            "_view_module_version": "1.2.0",
            "_view_name": "StyleView",
            "bar_color": null,
            "description_width": ""
          }
        },
        "76a4522dbc464fedb262f2fd1c874608": {
          "model_module": "@jupyter-widgets/base",
          "model_name": "LayoutModel",
          "model_module_version": "1.2.0",
          "state": {
            "_model_module": "@jupyter-widgets/base",
            "_model_module_version": "1.2.0",
            "_model_name": "LayoutModel",
            "_view_count": null,
            "_view_module": "@jupyter-widgets/base",
            "_view_module_version": "1.2.0",
            "_view_name": "LayoutView",
            "align_content": null,
            "align_items": null,
            "align_self": null,
            "border": null,
            "bottom": null,
            "display": null,
            "flex": null,
            "flex_flow": null,
            "grid_area": null,
            "grid_auto_columns": null,
            "grid_auto_flow": null,
            "grid_auto_rows": null,
            "grid_column": null,
            "grid_gap": null,
            "grid_row": null,
            "grid_template_areas": null,
            "grid_template_columns": null,
            "grid_template_rows": null,
            "height": null,
            "justify_content": null,
            "justify_items": null,
            "left": null,
            "margin": null,
            "max_height": null,
            "max_width": null,
            "min_height": null,
            "min_width": null,
            "object_fit": null,
            "object_position": null,
            "order": null,
            "overflow": null,
            "overflow_x": null,
            "overflow_y": null,
            "padding": null,
            "right": null,
            "top": null,
            "visibility": null,
            "width": null
          }
        },
        "61f6397d22974422940254c4946617a5": {
          "model_module": "@jupyter-widgets/controls",
          "model_name": "DescriptionStyleModel",
          "model_module_version": "1.5.0",
          "state": {
            "_model_module": "@jupyter-widgets/controls",
            "_model_module_version": "1.5.0",
            "_model_name": "DescriptionStyleModel",
            "_view_count": null,
            "_view_module": "@jupyter-widgets/base",
            "_view_module_version": "1.2.0",
            "_view_name": "StyleView",
            "description_width": ""
          }
        }
      }
    }
  },
  "nbformat": 4,
  "nbformat_minor": 0
}