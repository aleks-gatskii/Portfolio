{
  "cells": [
    {
      "cell_type": "markdown",
      "metadata": {
        "id": "c8yAb3pvnamC"
      },
      "source": [
        "# Определение наиболее выгодного региона нефтедобычи"
      ]
    },
    {
      "cell_type": "markdown",
      "metadata": {
        "id": "dsGjKdOWnamD"
      },
      "source": [
        "Для добывающей компании «ГлавРосГосНефть» нужно решить, где бурить новую скважину.\n",
        "\n",
        "Вам предоставлены пробы нефти в трёх регионах: в каждом 10 000 месторождений, где измерили качество нефти и объём её запасов. Постройте модель машинного обучения, которая поможет определить регион, где добыча принесёт наибольшую прибыль. Проанализируйте возможную прибыль и риски техникой *Bootstrap.*\n",
        "\n",
        "<b>Шаги для выбора локации:</b>\n",
        "\n",
        "- В избранном регионе ищут месторождения, для каждого определяют значения признаков;\n",
        "- Строят модель и оценивают объём запасов;\n",
        "- Выбирают месторождения с самым высокими оценками значений. Количество месторождений зависит от бюджета компании и стоимости разработки одной скважины;\n",
        "- Прибыль равна суммарной прибыли отобранных месторождений."
      ]
    },
    {
      "cell_type": "markdown",
      "metadata": {
        "id": "DIME9ID7namE"
      },
      "source": [
        "<b>Условия задачи:</b>\n",
        "\n",
        "- Для обучения модели подходит только линейная регрессия (остальные — недостаточно предсказуемые).\n",
        "- При разведке региона исследуют 500 точек, из которых с помощью машинного обучения выбирают 200 лучших для разработки.\n",
        "- Бюджет на разработку скважин в регионе — 10 млрд рублей.\n",
        "- При нынешних ценах один баррель сырья приносит 450 рублей дохода. \n",
        "- Доход с каждой единицы продукта составляет 450 тыс. рублей, поскольку объём указан в тысячах баррелей.\n",
        "- После оценки рисков нужно оставить лишь те регионы, в которых вероятность убытков меньше 2.5%. \n",
        "- Среди них выбирают регион с наибольшей средней прибылью."
      ]
    },
    {
      "cell_type": "markdown",
      "metadata": {
        "id": "DxvWpxQ0namF"
      },
      "source": [
        "<b>План действий:</b>\n",
        "\n",
        "1. Загрузить и подготовить данные. \n",
        "\n",
        "2. Обучить и проверить модель для каждого региона:\n",
        "\n",
        "2.1. Разбить данные на обучающую и валидационную выборки в соотношении 75:25.\n",
        "\n",
        "2.2. Обучить модель и сделать предсказания на валидационной выборке.\n",
        "\n",
        "2.3. Сохранить предсказания и правильные ответы на валидационной выборке.\n",
        "\n",
        "2.4. Оценить средний запас предсказанного сырья и RMSE модели.\n",
        "\n",
        "2.5. Проанализировать результаты.\n",
        "\n",
        "3. Расчёт прибыли:\n",
        "\n",
        "3.1. Сохраните в отдельных переменных все ключевые значения для расчётов. \n",
        "\n",
        "3.2. Рассчитать достаточный объём сырья для безубыточной разработки новой скважины. Сравнить полученный объём сырья со средним запасом в каждом регионе.\n",
        "\n",
        "3.3. Сделать выводы по этапу подготовки расчёта прибыли.\n",
        "\n",
        "4. Написать функцию для расчёта прибыли по выбранным скважинам и предсказаниям модели:\n",
        "\n",
        "4.1. Выбрать скважины с максимальными значениями предсказаний.\n",
        "\n",
        "4.2. Просуммировать целевое значение объёма сырья, соответствующее этим предсказаниям.\n",
        "\n",
        "4.3. Рассчитать прибыль для полученного объёма сырья.\n",
        "\n",
        "5. Подсчёт рисков и прибыли для каждого региона:\n",
        "\n",
        "5.1. Применить технику Bootstrap для 1000 выборок, чтобы найти распределение прибыли.\n",
        "\n",
        "5.2. Найти среднюю прибыль, 95%-й доверительный интервал и риск убытков. Убыток — это отрицательная прибыль.\n",
        "\n",
        "5.3. Сделать выводы: предложить регион для разработки скважин и обоснуйте выбор."
      ]
    },
    {
      "cell_type": "markdown",
      "metadata": {
        "id": "5MbIlAp9namH"
      },
      "source": [
        "## Загрузка и подготовка данных"
      ]
    },
    {
      "cell_type": "markdown",
      "metadata": {
        "id": "A8IXC-NgnamI"
      },
      "source": [
        "### Импорт библиотек"
      ]
    },
    {
      "cell_type": "code",
      "execution_count": 57,
      "metadata": {
        "id": "LNpcZ6XvnamJ"
      },
      "outputs": [],
      "source": [
        "import pandas as pd\n",
        "import numpy as np\n",
        "import matplotlib.pyplot as plt\n",
        "import random\n",
        "from numpy.random import RandomState\n",
        "\n",
        "from sklearn.model_selection import train_test_split\n",
        "\n",
        "from sklearn.linear_model import LinearRegression\n",
        "\n",
        "from sklearn.metrics import f1_score\n",
        "from sklearn.metrics import recall_score\n",
        "from sklearn.metrics import precision_score\n",
        "from sklearn.metrics import roc_auc_score\n",
        "from sklearn.metrics import roc_curve\n",
        "from sklearn.metrics import mean_absolute_error\n",
        "from sklearn.metrics import r2_score\n",
        "from sklearn.metrics import mean_squared_error\n",
        "\n",
        "from math import sqrt\n",
        "\n",
        "from sklearn.preprocessing import StandardScaler "
      ]
    },
    {
      "cell_type": "markdown",
      "metadata": {
        "id": "3XDcJjk6namM"
      },
      "source": [
        "### Загрузка данных"
      ]
    },
    {
      "cell_type": "code",
      "source": [
        "from google.colab import drive   # подключение гугл-диска\n",
        "drive.mount('/content/drive/')"
      ],
      "metadata": {
        "colab": {
          "base_uri": "https://localhost:8080/"
        },
        "id": "3ueK6rnDp2h2",
        "outputId": "686c2768-5250-45ca-c90a-9c31bb9fa811"
      },
      "execution_count": 58,
      "outputs": [
        {
          "output_type": "stream",
          "name": "stdout",
          "text": [
            "Drive already mounted at /content/drive/; to attempt to forcibly remount, call drive.mount(\"/content/drive/\", force_remount=True).\n"
          ]
        }
      ]
    },
    {
      "cell_type": "code",
      "source": [
        "data_path = '/content/drive/MyDrive/_PYTHON/YandexPracticum/Profitable_oil_region/' # путь к датасетам"
      ],
      "metadata": {
        "id": "qUaC6CeVp1LX"
      },
      "execution_count": 59,
      "outputs": []
    },
    {
      "cell_type": "code",
      "execution_count": 60,
      "metadata": {
        "id": "YoKIT3C7namN"
      },
      "outputs": [],
      "source": [
        "geo_data_0 = pd.read_csv(data_path+'geo_data_0.csv') # первый регион\n",
        "geo_data_1 = pd.read_csv(data_path+'geo_data_1.csv') # второй регион\n",
        "geo_data_2 = pd.read_csv(data_path+'geo_data_2.csv') # третий регион"
      ]
    },
    {
      "cell_type": "markdown",
      "metadata": {
        "id": "mkErBrlWnamO"
      },
      "source": [
        "### Подготовка данных\n"
      ]
    },
    {
      "cell_type": "code",
      "execution_count": 61,
      "metadata": {
        "scrolled": true,
        "colab": {
          "base_uri": "https://localhost:8080/",
          "height": 206
        },
        "id": "q7QmjS6knamO",
        "outputId": "f13478d5-0796-4c9d-e9b1-9d0da6061c63"
      },
      "outputs": [
        {
          "output_type": "execute_result",
          "data": {
            "text/plain": [
              "      id        f0        f1        f2     product\n",
              "0  txEyH  0.705745 -0.497823  1.221170  105.280062\n",
              "1  2acmU  1.334711 -0.340164  4.365080   73.037750\n",
              "2  409Wp  1.022732  0.151990  1.419926   85.265647\n",
              "3  iJLyR -0.032172  0.139033  2.978566  168.620776\n",
              "4  Xdl7t  1.988431  0.155413  4.751769  154.036647"
            ],
            "text/html": [
              "\n",
              "  <div id=\"df-29ad155b-003e-4771-aed6-8fd0c77972e9\">\n",
              "    <div class=\"colab-df-container\">\n",
              "      <div>\n",
              "<style scoped>\n",
              "    .dataframe tbody tr th:only-of-type {\n",
              "        vertical-align: middle;\n",
              "    }\n",
              "\n",
              "    .dataframe tbody tr th {\n",
              "        vertical-align: top;\n",
              "    }\n",
              "\n",
              "    .dataframe thead th {\n",
              "        text-align: right;\n",
              "    }\n",
              "</style>\n",
              "<table border=\"1\" class=\"dataframe\">\n",
              "  <thead>\n",
              "    <tr style=\"text-align: right;\">\n",
              "      <th></th>\n",
              "      <th>id</th>\n",
              "      <th>f0</th>\n",
              "      <th>f1</th>\n",
              "      <th>f2</th>\n",
              "      <th>product</th>\n",
              "    </tr>\n",
              "  </thead>\n",
              "  <tbody>\n",
              "    <tr>\n",
              "      <th>0</th>\n",
              "      <td>txEyH</td>\n",
              "      <td>0.705745</td>\n",
              "      <td>-0.497823</td>\n",
              "      <td>1.221170</td>\n",
              "      <td>105.280062</td>\n",
              "    </tr>\n",
              "    <tr>\n",
              "      <th>1</th>\n",
              "      <td>2acmU</td>\n",
              "      <td>1.334711</td>\n",
              "      <td>-0.340164</td>\n",
              "      <td>4.365080</td>\n",
              "      <td>73.037750</td>\n",
              "    </tr>\n",
              "    <tr>\n",
              "      <th>2</th>\n",
              "      <td>409Wp</td>\n",
              "      <td>1.022732</td>\n",
              "      <td>0.151990</td>\n",
              "      <td>1.419926</td>\n",
              "      <td>85.265647</td>\n",
              "    </tr>\n",
              "    <tr>\n",
              "      <th>3</th>\n",
              "      <td>iJLyR</td>\n",
              "      <td>-0.032172</td>\n",
              "      <td>0.139033</td>\n",
              "      <td>2.978566</td>\n",
              "      <td>168.620776</td>\n",
              "    </tr>\n",
              "    <tr>\n",
              "      <th>4</th>\n",
              "      <td>Xdl7t</td>\n",
              "      <td>1.988431</td>\n",
              "      <td>0.155413</td>\n",
              "      <td>4.751769</td>\n",
              "      <td>154.036647</td>\n",
              "    </tr>\n",
              "  </tbody>\n",
              "</table>\n",
              "</div>\n",
              "      <button class=\"colab-df-convert\" onclick=\"convertToInteractive('df-29ad155b-003e-4771-aed6-8fd0c77972e9')\"\n",
              "              title=\"Convert this dataframe to an interactive table.\"\n",
              "              style=\"display:none;\">\n",
              "        \n",
              "  <svg xmlns=\"http://www.w3.org/2000/svg\" height=\"24px\"viewBox=\"0 0 24 24\"\n",
              "       width=\"24px\">\n",
              "    <path d=\"M0 0h24v24H0V0z\" fill=\"none\"/>\n",
              "    <path d=\"M18.56 5.44l.94 2.06.94-2.06 2.06-.94-2.06-.94-.94-2.06-.94 2.06-2.06.94zm-11 1L8.5 8.5l.94-2.06 2.06-.94-2.06-.94L8.5 2.5l-.94 2.06-2.06.94zm10 10l.94 2.06.94-2.06 2.06-.94-2.06-.94-.94-2.06-.94 2.06-2.06.94z\"/><path d=\"M17.41 7.96l-1.37-1.37c-.4-.4-.92-.59-1.43-.59-.52 0-1.04.2-1.43.59L10.3 9.45l-7.72 7.72c-.78.78-.78 2.05 0 2.83L4 21.41c.39.39.9.59 1.41.59.51 0 1.02-.2 1.41-.59l7.78-7.78 2.81-2.81c.8-.78.8-2.07 0-2.86zM5.41 20L4 18.59l7.72-7.72 1.47 1.35L5.41 20z\"/>\n",
              "  </svg>\n",
              "      </button>\n",
              "      \n",
              "  <style>\n",
              "    .colab-df-container {\n",
              "      display:flex;\n",
              "      flex-wrap:wrap;\n",
              "      gap: 12px;\n",
              "    }\n",
              "\n",
              "    .colab-df-convert {\n",
              "      background-color: #E8F0FE;\n",
              "      border: none;\n",
              "      border-radius: 50%;\n",
              "      cursor: pointer;\n",
              "      display: none;\n",
              "      fill: #1967D2;\n",
              "      height: 32px;\n",
              "      padding: 0 0 0 0;\n",
              "      width: 32px;\n",
              "    }\n",
              "\n",
              "    .colab-df-convert:hover {\n",
              "      background-color: #E2EBFA;\n",
              "      box-shadow: 0px 1px 2px rgba(60, 64, 67, 0.3), 0px 1px 3px 1px rgba(60, 64, 67, 0.15);\n",
              "      fill: #174EA6;\n",
              "    }\n",
              "\n",
              "    [theme=dark] .colab-df-convert {\n",
              "      background-color: #3B4455;\n",
              "      fill: #D2E3FC;\n",
              "    }\n",
              "\n",
              "    [theme=dark] .colab-df-convert:hover {\n",
              "      background-color: #434B5C;\n",
              "      box-shadow: 0px 1px 3px 1px rgba(0, 0, 0, 0.15);\n",
              "      filter: drop-shadow(0px 1px 2px rgba(0, 0, 0, 0.3));\n",
              "      fill: #FFFFFF;\n",
              "    }\n",
              "  </style>\n",
              "\n",
              "      <script>\n",
              "        const buttonEl =\n",
              "          document.querySelector('#df-29ad155b-003e-4771-aed6-8fd0c77972e9 button.colab-df-convert');\n",
              "        buttonEl.style.display =\n",
              "          google.colab.kernel.accessAllowed ? 'block' : 'none';\n",
              "\n",
              "        async function convertToInteractive(key) {\n",
              "          const element = document.querySelector('#df-29ad155b-003e-4771-aed6-8fd0c77972e9');\n",
              "          const dataTable =\n",
              "            await google.colab.kernel.invokeFunction('convertToInteractive',\n",
              "                                                     [key], {});\n",
              "          if (!dataTable) return;\n",
              "\n",
              "          const docLinkHtml = 'Like what you see? Visit the ' +\n",
              "            '<a target=\"_blank\" href=https://colab.research.google.com/notebooks/data_table.ipynb>data table notebook</a>'\n",
              "            + ' to learn more about interactive tables.';\n",
              "          element.innerHTML = '';\n",
              "          dataTable['output_type'] = 'display_data';\n",
              "          await google.colab.output.renderOutput(dataTable, element);\n",
              "          const docLink = document.createElement('div');\n",
              "          docLink.innerHTML = docLinkHtml;\n",
              "          element.appendChild(docLink);\n",
              "        }\n",
              "      </script>\n",
              "    </div>\n",
              "  </div>\n",
              "  "
            ]
          },
          "metadata": {},
          "execution_count": 61
        }
      ],
      "source": [
        "geo_data_0.head() # первый регион,  так же, как и по другим регионам "
      ]
    },
    {
      "cell_type": "markdown",
      "metadata": {
        "id": "oJAYOCYhnamQ"
      },
      "source": [
        "`id` — уникальный идентификатор скважины. Он никак не влияет за запасы в скважине, поэтому этот признак можно удалить. Для идентификации достаточно индексов.\n",
        "`f0`, `f1`, `f2` — три признака точек (неважно, что они означают, но сами признаки значимы);\n",
        "`product` — объём запасов в скважине (тыс. баррелей). "
      ]
    },
    {
      "cell_type": "code",
      "execution_count": 62,
      "metadata": {
        "id": "PKHWKmlEnamR"
      },
      "outputs": [],
      "source": [
        "geo_data_0.drop(columns={'id'}, inplace=True) # удаляю столбец id\n",
        "geo_data_1.drop(columns={'id'}, inplace=True) \n",
        "geo_data_2.drop(columns={'id'}, inplace=True) "
      ]
    },
    {
      "cell_type": "code",
      "execution_count": 63,
      "metadata": {
        "scrolled": false,
        "colab": {
          "base_uri": "https://localhost:8080/"
        },
        "id": "lYyNUpi6namS",
        "outputId": "18a7feb6-bfb0-4ea4-c0b5-32abd1db0d9b"
      },
      "outputs": [
        {
          "output_type": "stream",
          "name": "stdout",
          "text": [
            "<class 'pandas.core.frame.DataFrame'>\n",
            "RangeIndex: 100000 entries, 0 to 99999\n",
            "Data columns (total 4 columns):\n",
            " #   Column   Non-Null Count   Dtype  \n",
            "---  ------   --------------   -----  \n",
            " 0   f0       100000 non-null  float64\n",
            " 1   f1       100000 non-null  float64\n",
            " 2   f2       100000 non-null  float64\n",
            " 3   product  100000 non-null  float64\n",
            "dtypes: float64(4)\n",
            "memory usage: 3.1 MB\n"
          ]
        }
      ],
      "source": [
        "geo_data_0.info() # первый регион,  так же, как и по другим регионам "
      ]
    },
    {
      "cell_type": "code",
      "execution_count": 64,
      "metadata": {
        "colab": {
          "base_uri": "https://localhost:8080/"
        },
        "id": "VbhXbemPnamS",
        "outputId": "e831b1de-d1ff-4a20-b36f-30469eb54a39"
      },
      "outputs": [
        {
          "output_type": "execute_result",
          "data": {
            "text/plain": [
              "f0         0\n",
              "f1         0\n",
              "f2         0\n",
              "product    0\n",
              "dtype: int64"
            ]
          },
          "metadata": {},
          "execution_count": 64
        }
      ],
      "source": [
        "geo_data_0.isna().sum() # первый регион, отсутствующих значений нет, так же, как и по другим регионам "
      ]
    },
    {
      "cell_type": "code",
      "execution_count": 65,
      "metadata": {
        "scrolled": true,
        "colab": {
          "base_uri": "https://localhost:8080/",
          "height": 300
        },
        "id": "T9aaGiABnamT",
        "outputId": "1a8d5e61-e51b-4a09-a04d-d61b4377ceea"
      },
      "outputs": [
        {
          "output_type": "execute_result",
          "data": {
            "text/plain": [
              "                  f0             f1             f2        product\n",
              "count  100000.000000  100000.000000  100000.000000  100000.000000\n",
              "mean        0.500419       0.250143       2.502647      92.500000\n",
              "std         0.871832       0.504433       3.248248      44.288691\n",
              "min        -1.408605      -0.848218     -12.088328       0.000000\n",
              "25%        -0.072580      -0.200881       0.287748      56.497507\n",
              "50%         0.502360       0.250252       2.515969      91.849972\n",
              "75%         1.073581       0.700646       4.715088     128.564089\n",
              "max         2.362331       1.343769      16.003790     185.364347"
            ],
            "text/html": [
              "\n",
              "  <div id=\"df-5d57401a-5c67-4dda-847f-e158ea8d8fb2\">\n",
              "    <div class=\"colab-df-container\">\n",
              "      <div>\n",
              "<style scoped>\n",
              "    .dataframe tbody tr th:only-of-type {\n",
              "        vertical-align: middle;\n",
              "    }\n",
              "\n",
              "    .dataframe tbody tr th {\n",
              "        vertical-align: top;\n",
              "    }\n",
              "\n",
              "    .dataframe thead th {\n",
              "        text-align: right;\n",
              "    }\n",
              "</style>\n",
              "<table border=\"1\" class=\"dataframe\">\n",
              "  <thead>\n",
              "    <tr style=\"text-align: right;\">\n",
              "      <th></th>\n",
              "      <th>f0</th>\n",
              "      <th>f1</th>\n",
              "      <th>f2</th>\n",
              "      <th>product</th>\n",
              "    </tr>\n",
              "  </thead>\n",
              "  <tbody>\n",
              "    <tr>\n",
              "      <th>count</th>\n",
              "      <td>100000.000000</td>\n",
              "      <td>100000.000000</td>\n",
              "      <td>100000.000000</td>\n",
              "      <td>100000.000000</td>\n",
              "    </tr>\n",
              "    <tr>\n",
              "      <th>mean</th>\n",
              "      <td>0.500419</td>\n",
              "      <td>0.250143</td>\n",
              "      <td>2.502647</td>\n",
              "      <td>92.500000</td>\n",
              "    </tr>\n",
              "    <tr>\n",
              "      <th>std</th>\n",
              "      <td>0.871832</td>\n",
              "      <td>0.504433</td>\n",
              "      <td>3.248248</td>\n",
              "      <td>44.288691</td>\n",
              "    </tr>\n",
              "    <tr>\n",
              "      <th>min</th>\n",
              "      <td>-1.408605</td>\n",
              "      <td>-0.848218</td>\n",
              "      <td>-12.088328</td>\n",
              "      <td>0.000000</td>\n",
              "    </tr>\n",
              "    <tr>\n",
              "      <th>25%</th>\n",
              "      <td>-0.072580</td>\n",
              "      <td>-0.200881</td>\n",
              "      <td>0.287748</td>\n",
              "      <td>56.497507</td>\n",
              "    </tr>\n",
              "    <tr>\n",
              "      <th>50%</th>\n",
              "      <td>0.502360</td>\n",
              "      <td>0.250252</td>\n",
              "      <td>2.515969</td>\n",
              "      <td>91.849972</td>\n",
              "    </tr>\n",
              "    <tr>\n",
              "      <th>75%</th>\n",
              "      <td>1.073581</td>\n",
              "      <td>0.700646</td>\n",
              "      <td>4.715088</td>\n",
              "      <td>128.564089</td>\n",
              "    </tr>\n",
              "    <tr>\n",
              "      <th>max</th>\n",
              "      <td>2.362331</td>\n",
              "      <td>1.343769</td>\n",
              "      <td>16.003790</td>\n",
              "      <td>185.364347</td>\n",
              "    </tr>\n",
              "  </tbody>\n",
              "</table>\n",
              "</div>\n",
              "      <button class=\"colab-df-convert\" onclick=\"convertToInteractive('df-5d57401a-5c67-4dda-847f-e158ea8d8fb2')\"\n",
              "              title=\"Convert this dataframe to an interactive table.\"\n",
              "              style=\"display:none;\">\n",
              "        \n",
              "  <svg xmlns=\"http://www.w3.org/2000/svg\" height=\"24px\"viewBox=\"0 0 24 24\"\n",
              "       width=\"24px\">\n",
              "    <path d=\"M0 0h24v24H0V0z\" fill=\"none\"/>\n",
              "    <path d=\"M18.56 5.44l.94 2.06.94-2.06 2.06-.94-2.06-.94-.94-2.06-.94 2.06-2.06.94zm-11 1L8.5 8.5l.94-2.06 2.06-.94-2.06-.94L8.5 2.5l-.94 2.06-2.06.94zm10 10l.94 2.06.94-2.06 2.06-.94-2.06-.94-.94-2.06-.94 2.06-2.06.94z\"/><path d=\"M17.41 7.96l-1.37-1.37c-.4-.4-.92-.59-1.43-.59-.52 0-1.04.2-1.43.59L10.3 9.45l-7.72 7.72c-.78.78-.78 2.05 0 2.83L4 21.41c.39.39.9.59 1.41.59.51 0 1.02-.2 1.41-.59l7.78-7.78 2.81-2.81c.8-.78.8-2.07 0-2.86zM5.41 20L4 18.59l7.72-7.72 1.47 1.35L5.41 20z\"/>\n",
              "  </svg>\n",
              "      </button>\n",
              "      \n",
              "  <style>\n",
              "    .colab-df-container {\n",
              "      display:flex;\n",
              "      flex-wrap:wrap;\n",
              "      gap: 12px;\n",
              "    }\n",
              "\n",
              "    .colab-df-convert {\n",
              "      background-color: #E8F0FE;\n",
              "      border: none;\n",
              "      border-radius: 50%;\n",
              "      cursor: pointer;\n",
              "      display: none;\n",
              "      fill: #1967D2;\n",
              "      height: 32px;\n",
              "      padding: 0 0 0 0;\n",
              "      width: 32px;\n",
              "    }\n",
              "\n",
              "    .colab-df-convert:hover {\n",
              "      background-color: #E2EBFA;\n",
              "      box-shadow: 0px 1px 2px rgba(60, 64, 67, 0.3), 0px 1px 3px 1px rgba(60, 64, 67, 0.15);\n",
              "      fill: #174EA6;\n",
              "    }\n",
              "\n",
              "    [theme=dark] .colab-df-convert {\n",
              "      background-color: #3B4455;\n",
              "      fill: #D2E3FC;\n",
              "    }\n",
              "\n",
              "    [theme=dark] .colab-df-convert:hover {\n",
              "      background-color: #434B5C;\n",
              "      box-shadow: 0px 1px 3px 1px rgba(0, 0, 0, 0.15);\n",
              "      filter: drop-shadow(0px 1px 2px rgba(0, 0, 0, 0.3));\n",
              "      fill: #FFFFFF;\n",
              "    }\n",
              "  </style>\n",
              "\n",
              "      <script>\n",
              "        const buttonEl =\n",
              "          document.querySelector('#df-5d57401a-5c67-4dda-847f-e158ea8d8fb2 button.colab-df-convert');\n",
              "        buttonEl.style.display =\n",
              "          google.colab.kernel.accessAllowed ? 'block' : 'none';\n",
              "\n",
              "        async function convertToInteractive(key) {\n",
              "          const element = document.querySelector('#df-5d57401a-5c67-4dda-847f-e158ea8d8fb2');\n",
              "          const dataTable =\n",
              "            await google.colab.kernel.invokeFunction('convertToInteractive',\n",
              "                                                     [key], {});\n",
              "          if (!dataTable) return;\n",
              "\n",
              "          const docLinkHtml = 'Like what you see? Visit the ' +\n",
              "            '<a target=\"_blank\" href=https://colab.research.google.com/notebooks/data_table.ipynb>data table notebook</a>'\n",
              "            + ' to learn more about interactive tables.';\n",
              "          element.innerHTML = '';\n",
              "          dataTable['output_type'] = 'display_data';\n",
              "          await google.colab.output.renderOutput(dataTable, element);\n",
              "          const docLink = document.createElement('div');\n",
              "          docLink.innerHTML = docLinkHtml;\n",
              "          element.appendChild(docLink);\n",
              "        }\n",
              "      </script>\n",
              "    </div>\n",
              "  </div>\n",
              "  "
            ]
          },
          "metadata": {},
          "execution_count": 65
        }
      ],
      "source": [
        "geo_data_0.describe() # первый регион"
      ]
    },
    {
      "cell_type": "code",
      "execution_count": 66,
      "metadata": {
        "colab": {
          "base_uri": "https://localhost:8080/",
          "height": 281
        },
        "id": "hWV05C61namU",
        "outputId": "e26c072b-fa90-459e-f3b6-be2b5ad5c3e5"
      },
      "outputs": [
        {
          "output_type": "display_data",
          "data": {
            "text/plain": [
              "<Figure size 432x288 with 1 Axes>"
            ],
            "image/png": "[encoded data removed]"
          },
          "metadata": {
            "needs_background": "light"
          }
        }
      ],
      "source": [
        "geo_data_0.hist('product'); # первый регион"
      ]
    },
    {
      "cell_type": "markdown",
      "metadata": {
        "id": "DKXuk8e2namU"
      },
      "source": [
        "В первом регионе распределение объёмов запасов в скважине нормальное, вокруг среднего в 92,5 тыс. баррелей. Скважин с нулевыми и максимальными (в 2 раза больше среднего) запасами примерно поровну - по чуть менее 4% из 100 тыс. скважин"
      ]
    },
    {
      "cell_type": "code",
      "execution_count": 67,
      "metadata": {
        "colab": {
          "base_uri": "https://localhost:8080/",
          "height": 300
        },
        "id": "cl3BvDmYnamV",
        "outputId": "0f37c542-15f5-471e-b6b1-8e193823585f"
      },
      "outputs": [
        {
          "output_type": "execute_result",
          "data": {
            "text/plain": [
              "                  f0             f1             f2        product\n",
              "count  100000.000000  100000.000000  100000.000000  100000.000000\n",
              "mean        1.141296      -4.796579       2.494541      68.825000\n",
              "std         8.965932       5.119872       1.703572      45.944423\n",
              "min       -31.609576     -26.358598      -0.018144       0.000000\n",
              "25%        -6.298551      -8.267985       1.000021      26.953261\n",
              "50%         1.153055      -4.813172       2.011479      57.085625\n",
              "75%         8.621015      -1.332816       3.999904     107.813044\n",
              "max        29.421755      18.734063       5.019721     137.945408"
            ],
            "text/html": [
              "\n",
              "  <div id=\"df-73ee7898-51a1-4f35-95a7-9fcb213e08a7\">\n",
              "    <div class=\"colab-df-container\">\n",
              "      <div>\n",
              "<style scoped>\n",
              "    .dataframe tbody tr th:only-of-type {\n",
              "        vertical-align: middle;\n",
              "    }\n",
              "\n",
              "    .dataframe tbody tr th {\n",
              "        vertical-align: top;\n",
              "    }\n",
              "\n",
              "    .dataframe thead th {\n",
              "        text-align: right;\n",
              "    }\n",
              "</style>\n",
              "<table border=\"1\" class=\"dataframe\">\n",
              "  <thead>\n",
              "    <tr style=\"text-align: right;\">\n",
              "      <th></th>\n",
              "      <th>f0</th>\n",
              "      <th>f1</th>\n",
              "      <th>f2</th>\n",
              "      <th>product</th>\n",
              "    </tr>\n",
              "  </thead>\n",
              "  <tbody>\n",
              "    <tr>\n",
              "      <th>count</th>\n",
              "      <td>100000.000000</td>\n",
              "      <td>100000.000000</td>\n",
              "      <td>100000.000000</td>\n",
              "      <td>100000.000000</td>\n",
              "    </tr>\n",
              "    <tr>\n",
              "      <th>mean</th>\n",
              "      <td>1.141296</td>\n",
              "      <td>-4.796579</td>\n",
              "      <td>2.494541</td>\n",
              "      <td>68.825000</td>\n",
              "    </tr>\n",
              "    <tr>\n",
              "      <th>std</th>\n",
              "      <td>8.965932</td>\n",
              "      <td>5.119872</td>\n",
              "      <td>1.703572</td>\n",
              "      <td>45.944423</td>\n",
              "    </tr>\n",
              "    <tr>\n",
              "      <th>min</th>\n",
              "      <td>-31.609576</td>\n",
              "      <td>-26.358598</td>\n",
              "      <td>-0.018144</td>\n",
              "      <td>0.000000</td>\n",
              "    </tr>\n",
              "    <tr>\n",
              "      <th>25%</th>\n",
              "      <td>-6.298551</td>\n",
              "      <td>-8.267985</td>\n",
              "      <td>1.000021</td>\n",
              "      <td>26.953261</td>\n",
              "    </tr>\n",
              "    <tr>\n",
              "      <th>50%</th>\n",
              "      <td>1.153055</td>\n",
              "      <td>-4.813172</td>\n",
              "      <td>2.011479</td>\n",
              "      <td>57.085625</td>\n",
              "    </tr>\n",
              "    <tr>\n",
              "      <th>75%</th>\n",
              "      <td>8.621015</td>\n",
              "      <td>-1.332816</td>\n",
              "      <td>3.999904</td>\n",
              "      <td>107.813044</td>\n",
              "    </tr>\n",
              "    <tr>\n",
              "      <th>max</th>\n",
              "      <td>29.421755</td>\n",
              "      <td>18.734063</td>\n",
              "      <td>5.019721</td>\n",
              "      <td>137.945408</td>\n",
              "    </tr>\n",
              "  </tbody>\n",
              "</table>\n",
              "</div>\n",
              "      <button class=\"colab-df-convert\" onclick=\"convertToInteractive('df-73ee7898-51a1-4f35-95a7-9fcb213e08a7')\"\n",
              "              title=\"Convert this dataframe to an interactive table.\"\n",
              "              style=\"display:none;\">\n",
              "        \n",
              "  <svg xmlns=\"http://www.w3.org/2000/svg\" height=\"24px\"viewBox=\"0 0 24 24\"\n",
              "       width=\"24px\">\n",
              "    <path d=\"M0 0h24v24H0V0z\" fill=\"none\"/>\n",
              "    <path d=\"M18.56 5.44l.94 2.06.94-2.06 2.06-.94-2.06-.94-.94-2.06-.94 2.06-2.06.94zm-11 1L8.5 8.5l.94-2.06 2.06-.94-2.06-.94L8.5 2.5l-.94 2.06-2.06.94zm10 10l.94 2.06.94-2.06 2.06-.94-2.06-.94-.94-2.06-.94 2.06-2.06.94z\"/><path d=\"M17.41 7.96l-1.37-1.37c-.4-.4-.92-.59-1.43-.59-.52 0-1.04.2-1.43.59L10.3 9.45l-7.72 7.72c-.78.78-.78 2.05 0 2.83L4 21.41c.39.39.9.59 1.41.59.51 0 1.02-.2 1.41-.59l7.78-7.78 2.81-2.81c.8-.78.8-2.07 0-2.86zM5.41 20L4 18.59l7.72-7.72 1.47 1.35L5.41 20z\"/>\n",
              "  </svg>\n",
              "      </button>\n",
              "      \n",
              "  <style>\n",
              "    .colab-df-container {\n",
              "      display:flex;\n",
              "      flex-wrap:wrap;\n",
              "      gap: 12px;\n",
              "    }\n",
              "\n",
              "    .colab-df-convert {\n",
              "      background-color: #E8F0FE;\n",
              "      border: none;\n",
              "      border-radius: 50%;\n",
              "      cursor: pointer;\n",
              "      display: none;\n",
              "      fill: #1967D2;\n",
              "      height: 32px;\n",
              "      padding: 0 0 0 0;\n",
              "      width: 32px;\n",
              "    }\n",
              "\n",
              "    .colab-df-convert:hover {\n",
              "      background-color: #E2EBFA;\n",
              "      box-shadow: 0px 1px 2px rgba(60, 64, 67, 0.3), 0px 1px 3px 1px rgba(60, 64, 67, 0.15);\n",
              "      fill: #174EA6;\n",
              "    }\n",
              "\n",
              "    [theme=dark] .colab-df-convert {\n",
              "      background-color: #3B4455;\n",
              "      fill: #D2E3FC;\n",
              "    }\n",
              "\n",
              "    [theme=dark] .colab-df-convert:hover {\n",
              "      background-color: #434B5C;\n",
              "      box-shadow: 0px 1px 3px 1px rgba(0, 0, 0, 0.15);\n",
              "      filter: drop-shadow(0px 1px 2px rgba(0, 0, 0, 0.3));\n",
              "      fill: #FFFFFF;\n",
              "    }\n",
              "  </style>\n",
              "\n",
              "      <script>\n",
              "        const buttonEl =\n",
              "          document.querySelector('#df-73ee7898-51a1-4f35-95a7-9fcb213e08a7 button.colab-df-convert');\n",
              "        buttonEl.style.display =\n",
              "          google.colab.kernel.accessAllowed ? 'block' : 'none';\n",
              "\n",
              "        async function convertToInteractive(key) {\n",
              "          const element = document.querySelector('#df-73ee7898-51a1-4f35-95a7-9fcb213e08a7');\n",
              "          const dataTable =\n",
              "            await google.colab.kernel.invokeFunction('convertToInteractive',\n",
              "                                                     [key], {});\n",
              "          if (!dataTable) return;\n",
              "\n",
              "          const docLinkHtml = 'Like what you see? Visit the ' +\n",
              "            '<a target=\"_blank\" href=https://colab.research.google.com/notebooks/data_table.ipynb>data table notebook</a>'\n",
              "            + ' to learn more about interactive tables.';\n",
              "          element.innerHTML = '';\n",
              "          dataTable['output_type'] = 'display_data';\n",
              "          await google.colab.output.renderOutput(dataTable, element);\n",
              "          const docLink = document.createElement('div');\n",
              "          docLink.innerHTML = docLinkHtml;\n",
              "          element.appendChild(docLink);\n",
              "        }\n",
              "      </script>\n",
              "    </div>\n",
              "  </div>\n",
              "  "
            ]
          },
          "metadata": {},
          "execution_count": 67
        }
      ],
      "source": [
        "geo_data_1.describe() # второй регион"
      ]
    },
    {
      "cell_type": "code",
      "execution_count": 68,
      "metadata": {
        "scrolled": true,
        "colab": {
          "base_uri": "https://localhost:8080/",
          "height": 281
        },
        "id": "Ftht7bRKnamW",
        "outputId": "459adcd6-ad0e-4edd-b668-9ed7b3ad47b5"
      },
      "outputs": [
        {
          "output_type": "display_data",
          "data": {
            "text/plain": [
              "<Figure size 432x288 with 1 Axes>"
            ],
            "image/png": "[encoded data removed]"
          },
          "metadata": {
            "needs_background": "light"
          }
        }
      ],
      "source": [
        "geo_data_1.hist('product'); # второй регион"
      ]
    },
    {
      "cell_type": "markdown",
      "metadata": {
        "id": "s1BsIQCFnamX"
      },
      "source": [
        "Во втором регионе распределение объёмов запасов в скважинах не нормальное. Среднее 68,8 тыс. баррелей. Скважин с нулевыми и максимальными (в 2 раза больше среднего) запасами много и примерно поровну - по чуть более 16% из 100 тыс. скважин"
      ]
    },
    {
      "cell_type": "code",
      "execution_count": 69,
      "metadata": {
        "scrolled": true,
        "colab": {
          "base_uri": "https://localhost:8080/",
          "height": 300
        },
        "id": "2cLE5qiGnamX",
        "outputId": "1e1e8583-6763-4d83-c5ec-bb33895bc547"
      },
      "outputs": [
        {
          "output_type": "execute_result",
          "data": {
            "text/plain": [
              "                  f0             f1             f2        product\n",
              "count  100000.000000  100000.000000  100000.000000  100000.000000\n",
              "mean        0.002023      -0.002081       2.495128      95.000000\n",
              "std         1.732045       1.730417       3.473445      44.749921\n",
              "min        -8.760004      -7.084020     -11.970335       0.000000\n",
              "25%        -1.162288      -1.174820       0.130359      59.450441\n",
              "50%         0.009424      -0.009482       2.484236      94.925613\n",
              "75%         1.158535       1.163678       4.858794     130.595027\n",
              "max         7.238262       7.844801      16.739402     190.029838"
            ],
            "text/html": [
              "\n",
              "  <div id=\"df-ad93fbee-0f52-4239-b468-c0066b873e28\">\n",
              "    <div class=\"colab-df-container\">\n",
              "      <div>\n",
              "<style scoped>\n",
              "    .dataframe tbody tr th:only-of-type {\n",
              "        vertical-align: middle;\n",
              "    }\n",
              "\n",
              "    .dataframe tbody tr th {\n",
              "        vertical-align: top;\n",
              "    }\n",
              "\n",
              "    .dataframe thead th {\n",
              "        text-align: right;\n",
              "    }\n",
              "</style>\n",
              "<table border=\"1\" class=\"dataframe\">\n",
              "  <thead>\n",
              "    <tr style=\"text-align: right;\">\n",
              "      <th></th>\n",
              "      <th>f0</th>\n",
              "      <th>f1</th>\n",
              "      <th>f2</th>\n",
              "      <th>product</th>\n",
              "    </tr>\n",
              "  </thead>\n",
              "  <tbody>\n",
              "    <tr>\n",
              "      <th>count</th>\n",
              "      <td>100000.000000</td>\n",
              "      <td>100000.000000</td>\n",
              "      <td>100000.000000</td>\n",
              "      <td>100000.000000</td>\n",
              "    </tr>\n",
              "    <tr>\n",
              "      <th>mean</th>\n",
              "      <td>0.002023</td>\n",
              "      <td>-0.002081</td>\n",
              "      <td>2.495128</td>\n",
              "      <td>95.000000</td>\n",
              "    </tr>\n",
              "    <tr>\n",
              "      <th>std</th>\n",
              "      <td>1.732045</td>\n",
              "      <td>1.730417</td>\n",
              "      <td>3.473445</td>\n",
              "      <td>44.749921</td>\n",
              "    </tr>\n",
              "    <tr>\n",
              "      <th>min</th>\n",
              "      <td>-8.760004</td>\n",
              "      <td>-7.084020</td>\n",
              "      <td>-11.970335</td>\n",
              "      <td>0.000000</td>\n",
              "    </tr>\n",
              "    <tr>\n",
              "      <th>25%</th>\n",
              "      <td>-1.162288</td>\n",
              "      <td>-1.174820</td>\n",
              "      <td>0.130359</td>\n",
              "      <td>59.450441</td>\n",
              "    </tr>\n",
              "    <tr>\n",
              "      <th>50%</th>\n",
              "      <td>0.009424</td>\n",
              "      <td>-0.009482</td>\n",
              "      <td>2.484236</td>\n",
              "      <td>94.925613</td>\n",
              "    </tr>\n",
              "    <tr>\n",
              "      <th>75%</th>\n",
              "      <td>1.158535</td>\n",
              "      <td>1.163678</td>\n",
              "      <td>4.858794</td>\n",
              "      <td>130.595027</td>\n",
              "    </tr>\n",
              "    <tr>\n",
              "      <th>max</th>\n",
              "      <td>7.238262</td>\n",
              "      <td>7.844801</td>\n",
              "      <td>16.739402</td>\n",
              "      <td>190.029838</td>\n",
              "    </tr>\n",
              "  </tbody>\n",
              "</table>\n",
              "</div>\n",
              "      <button class=\"colab-df-convert\" onclick=\"convertToInteractive('df-ad93fbee-0f52-4239-b468-c0066b873e28')\"\n",
              "              title=\"Convert this dataframe to an interactive table.\"\n",
              "              style=\"display:none;\">\n",
              "        \n",
              "  <svg xmlns=\"http://www.w3.org/2000/svg\" height=\"24px\"viewBox=\"0 0 24 24\"\n",
              "       width=\"24px\">\n",
              "    <path d=\"M0 0h24v24H0V0z\" fill=\"none\"/>\n",
              "    <path d=\"M18.56 5.44l.94 2.06.94-2.06 2.06-.94-2.06-.94-.94-2.06-.94 2.06-2.06.94zm-11 1L8.5 8.5l.94-2.06 2.06-.94-2.06-.94L8.5 2.5l-.94 2.06-2.06.94zm10 10l.94 2.06.94-2.06 2.06-.94-2.06-.94-.94-2.06-.94 2.06-2.06.94z\"/><path d=\"M17.41 7.96l-1.37-1.37c-.4-.4-.92-.59-1.43-.59-.52 0-1.04.2-1.43.59L10.3 9.45l-7.72 7.72c-.78.78-.78 2.05 0 2.83L4 21.41c.39.39.9.59 1.41.59.51 0 1.02-.2 1.41-.59l7.78-7.78 2.81-2.81c.8-.78.8-2.07 0-2.86zM5.41 20L4 18.59l7.72-7.72 1.47 1.35L5.41 20z\"/>\n",
              "  </svg>\n",
              "      </button>\n",
              "      \n",
              "  <style>\n",
              "    .colab-df-container {\n",
              "      display:flex;\n",
              "      flex-wrap:wrap;\n",
              "      gap: 12px;\n",
              "    }\n",
              "\n",
              "    .colab-df-convert {\n",
              "      background-color: #E8F0FE;\n",
              "      border: none;\n",
              "      border-radius: 50%;\n",
              "      cursor: pointer;\n",
              "      display: none;\n",
              "      fill: #1967D2;\n",
              "      height: 32px;\n",
              "      padding: 0 0 0 0;\n",
              "      width: 32px;\n",
              "    }\n",
              "\n",
              "    .colab-df-convert:hover {\n",
              "      background-color: #E2EBFA;\n",
              "      box-shadow: 0px 1px 2px rgba(60, 64, 67, 0.3), 0px 1px 3px 1px rgba(60, 64, 67, 0.15);\n",
              "      fill: #174EA6;\n",
              "    }\n",
              "\n",
              "    [theme=dark] .colab-df-convert {\n",
              "      background-color: #3B4455;\n",
              "      fill: #D2E3FC;\n",
              "    }\n",
              "\n",
              "    [theme=dark] .colab-df-convert:hover {\n",
              "      background-color: #434B5C;\n",
              "      box-shadow: 0px 1px 3px 1px rgba(0, 0, 0, 0.15);\n",
              "      filter: drop-shadow(0px 1px 2px rgba(0, 0, 0, 0.3));\n",
              "      fill: #FFFFFF;\n",
              "    }\n",
              "  </style>\n",
              "\n",
              "      <script>\n",
              "        const buttonEl =\n",
              "          document.querySelector('#df-ad93fbee-0f52-4239-b468-c0066b873e28 button.colab-df-convert');\n",
              "        buttonEl.style.display =\n",
              "          google.colab.kernel.accessAllowed ? 'block' : 'none';\n",
              "\n",
              "        async function convertToInteractive(key) {\n",
              "          const element = document.querySelector('#df-ad93fbee-0f52-4239-b468-c0066b873e28');\n",
              "          const dataTable =\n",
              "            await google.colab.kernel.invokeFunction('convertToInteractive',\n",
              "                                                     [key], {});\n",
              "          if (!dataTable) return;\n",
              "\n",
              "          const docLinkHtml = 'Like what you see? Visit the ' +\n",
              "            '<a target=\"_blank\" href=https://colab.research.google.com/notebooks/data_table.ipynb>data table notebook</a>'\n",
              "            + ' to learn more about interactive tables.';\n",
              "          element.innerHTML = '';\n",
              "          dataTable['output_type'] = 'display_data';\n",
              "          await google.colab.output.renderOutput(dataTable, element);\n",
              "          const docLink = document.createElement('div');\n",
              "          docLink.innerHTML = docLinkHtml;\n",
              "          element.appendChild(docLink);\n",
              "        }\n",
              "      </script>\n",
              "    </div>\n",
              "  </div>\n",
              "  "
            ]
          },
          "metadata": {},
          "execution_count": 69
        }
      ],
      "source": [
        "geo_data_2.describe() # третий регион"
      ]
    },
    {
      "cell_type": "code",
      "execution_count": 70,
      "metadata": {
        "scrolled": true,
        "colab": {
          "base_uri": "https://localhost:8080/",
          "height": 281
        },
        "id": "VbcLmT5JnamY",
        "outputId": "9f77e676-aee6-4fd1-9ba0-d5e0bba995ed"
      },
      "outputs": [
        {
          "output_type": "display_data",
          "data": {
            "text/plain": [
              "<Figure size 432x288 with 1 Axes>"
            ],
            "image/png": "[encoded data removed]"
          },
          "metadata": {
            "needs_background": "light"
          }
        }
      ],
      "source": [
        "geo_data_2.hist('product'); # третий регион"
      ]
    },
    {
      "cell_type": "markdown",
      "metadata": {
        "id": "wY4lJYzCnamZ"
      },
      "source": [
        "В третьем регионе, как и в первом, распределение объёмов запасов в скважине нормальное, вокруг среднего в 95 тыс. баррелей. Скважин с нулевыми и максимальными (в 2 раза больше среднего) запасами примерно поровну - по чуть менее 4% из 100 тыс. скважин"
      ]
    },
    {
      "cell_type": "markdown",
      "metadata": {
        "id": "b0grst_4nama"
      },
      "source": [
        "## Обучение и проверка модели"
      ]
    },
    {
      "cell_type": "code",
      "execution_count": 71,
      "metadata": {
        "id": "hxKjLQ9Mnama"
      },
      "outputs": [],
      "source": [
        "RANDOM_STATE = 12345 # константа"
      ]
    },
    {
      "cell_type": "code",
      "execution_count": 72,
      "metadata": {
        "id": "2zeWsyqsnamb"
      },
      "outputs": [],
      "source": [
        "def LinearRegressionModel(data):   # модель линейной регрессии\n",
        "    df_train, df_valid = train_test_split(data, test_size=0.25, random_state=RANDOM_STATE)\n",
        "    \n",
        "    features_train = df_train.drop('product', axis=1) # признаки\n",
        "    target_train = df_train['product']                # целевой признак\n",
        "    \n",
        "    features_valid = df_valid.drop('product', axis=1)\n",
        "    target_valid = df_valid['product']\n",
        "    \n",
        "    model = LinearRegression() # модель линейной регрессии\n",
        "    model.fit(features_train, target_train) # обучение модели\n",
        "    \n",
        "    predictions_train = model.predict(features_train) # предсказания на обучающей выборке\n",
        "    predictions_valid = model.predict(features_valid)# предсказания на валидационной выборке\n",
        "    \n",
        "    mae_train = mean_absolute_error(target_train, predictions_train) # Среднее абсолютное отклонение\n",
        "    mae_valid = mean_absolute_error(target_valid, predictions_valid) # Чем меньше, тем лучше\n",
        "    \n",
        "    rmse_train = sqrt(mean_squared_error(target_train, predictions_train)) # RMSE\n",
        "    rmse_valid = sqrt(mean_squared_error(target_valid, predictions_valid)) # кв.корень из MSE - средней квадратичной ошибки\n",
        "    \n",
        "    r2_train = r2_score(target_valid, predictions_valid) # Коэффициент детерминации\n",
        "    r2_valid = r2_score(target_valid, predictions_valid) # Увеличение метрики означает прирост качества модели\n",
        "    \n",
        "    print('     На обучающей выборке   |   На валидационной выборке')\n",
        "    print('_________________________________________________________')\n",
        "    print('МАЕ: ', mae_train,'       ', mae_valid)\n",
        "    print('RMSE:', rmse_train,'        ', rmse_valid)\n",
        "    print('R2:  ', r2_train,'      ', r2_valid)\n",
        "    print('_________________________________________________________')\n",
        "    print('Средний запас предсказанного сырья =', predictions_valid.mean()) \n",
        "    print('Средний запас сырья =', target_valid.mean())\n",
        "    return target_valid, predictions_valid\n"
      ]
    },
    {
      "cell_type": "markdown",
      "metadata": {
        "id": "5hGXzmKenamc"
      },
      "source": [
        "### Первый регион"
      ]
    },
    {
      "cell_type": "code",
      "execution_count": 73,
      "metadata": {
        "scrolled": true,
        "colab": {
          "base_uri": "https://localhost:8080/"
        },
        "id": "H_GhE3BFnamd",
        "outputId": "c7cb2931-2e41-4d11-9a69-dc1b6ae7a439"
      },
      "outputs": [
        {
          "output_type": "stream",
          "name": "stdout",
          "text": [
            "     На обучающей выборке   |   На валидационной выборке\n",
            "_________________________________________________________\n",
            "МАЕ:  31.079961075786297         30.919600777151313\n",
            "RMSE: 37.72999219904026          37.5794217150813\n",
            "R2:   0.27994321524487786        0.27994321524487786\n",
            "_________________________________________________________\n",
            "Средний запас предсказанного сырья = 92.59256778438035\n",
            "Средний запас сырья = 92.07859674082927\n"
          ]
        }
      ],
      "source": [
        "geo_target_0, geo_pred_0 = LinearRegressionModel(geo_data_0)"
      ]
    },
    {
      "cell_type": "code",
      "execution_count": 74,
      "metadata": {
        "colab": {
          "base_uri": "https://localhost:8080/"
        },
        "id": "Trj7_JWHnamd",
        "outputId": "8099732e-7024-42ce-b9d9-70c2cfebf6e7"
      },
      "outputs": [
        {
          "output_type": "execute_result",
          "data": {
            "text/plain": [
              "array([ 95.89495185,  77.57258261,  77.89263965, ...,  61.50983303,\n",
              "       118.18039721, 118.16939229])"
            ]
          },
          "metadata": {},
          "execution_count": 74
        }
      ],
      "source": [
        "geo_pred_0 # предсказания запасов по первому региону"
      ]
    },
    {
      "cell_type": "markdown",
      "metadata": {
        "id": "gXVEePquname"
      },
      "source": [
        "Вывод: средний запас предсказанного сырья в скважине очень близок к среднему по правильным ответам. Модель линейной регрессии делает достаточно точные предсказания."
      ]
    },
    {
      "cell_type": "markdown",
      "metadata": {
        "id": "1IcNiqainamf"
      },
      "source": [
        "###  Второй регион"
      ]
    },
    {
      "cell_type": "code",
      "execution_count": 75,
      "metadata": {
        "scrolled": true,
        "colab": {
          "base_uri": "https://localhost:8080/"
        },
        "id": "w_8Ca8GJnamg",
        "outputId": "be1d5a0f-b7dc-473d-fd3a-1e0b9fb11a36"
      },
      "outputs": [
        {
          "output_type": "stream",
          "name": "stdout",
          "text": [
            "     На обучающей выборке   |   На валидационной выборке\n",
            "_________________________________________________________\n",
            "МАЕ:  0.7168438837861948         0.7187662442124758\n",
            "RMSE: 0.8894720773917386          0.893099286775617\n",
            "R2:   0.9996233978805127        0.9996233978805127\n",
            "_________________________________________________________\n",
            "Средний запас предсказанного сырья = 68.728546895446\n",
            "Средний запас сырья = 68.72313602435997\n"
          ]
        }
      ],
      "source": [
        "geo_target_1, geo_pred_1 = LinearRegressionModel(geo_data_1)"
      ]
    },
    {
      "cell_type": "code",
      "execution_count": 76,
      "metadata": {
        "colab": {
          "base_uri": "https://localhost:8080/"
        },
        "id": "V9WpgTlxnamg",
        "outputId": "89a4dbc4-c16f-49b5-a445-dbd998c122a6"
      },
      "outputs": [
        {
          "output_type": "execute_result",
          "data": {
            "text/plain": [
              "array([ 82.66331365,  54.43178616,  29.74875995, ..., 137.87934053,\n",
              "        83.76196568,  53.95846638])"
            ]
          },
          "metadata": {},
          "execution_count": 76
        }
      ],
      "source": [
        "geo_pred_1 # предсказания запасов по второму региону"
      ]
    },
    {
      "cell_type": "markdown",
      "metadata": {
        "id": "-PPOrO-Unamh"
      },
      "source": [
        "Вывод: здесь модель делает наиболее точные предсказания до 3-го знака после запятой. Связано с тем, что запасы по всем месторождениям в этом регионе равномерные, за исключением двух выбросов."
      ]
    },
    {
      "cell_type": "markdown",
      "metadata": {
        "id": "uWl0EPB_nami"
      },
      "source": [
        "###  Третий регион"
      ]
    },
    {
      "cell_type": "code",
      "execution_count": 77,
      "metadata": {
        "scrolled": true,
        "colab": {
          "base_uri": "https://localhost:8080/"
        },
        "id": "WtQy-Tqenamj",
        "outputId": "8c28fd8e-f53b-4038-b007-afd992dd5c2d"
      },
      "outputs": [
        {
          "output_type": "stream",
          "name": "stdout",
          "text": [
            "     На обучающей выборке   |   На валидационной выборке\n",
            "_________________________________________________________\n",
            "МАЕ:  32.83941121639209         32.792652105481814\n",
            "RMSE: 40.06425978832384          40.02970873393434\n",
            "R2:   0.20524758386040443        0.20524758386040443\n",
            "_________________________________________________________\n",
            "Средний запас предсказанного сырья = 94.96504596800489\n",
            "Средний запас сырья = 94.88423280885438\n"
          ]
        }
      ],
      "source": [
        "geo_target_2, geo_pred_2 = LinearRegressionModel(geo_data_2)"
      ]
    },
    {
      "cell_type": "code",
      "execution_count": 78,
      "metadata": {
        "colab": {
          "base_uri": "https://localhost:8080/"
        },
        "id": "iSrfkxGznamj",
        "outputId": "e1159793-336f-4615-9405-16fb93678c78"
      },
      "outputs": [
        {
          "output_type": "execute_result",
          "data": {
            "text/plain": [
              "array([ 93.59963303,  75.10515854,  90.06680936, ...,  99.40728116,\n",
              "        77.77991248, 129.03241718])"
            ]
          },
          "metadata": {},
          "execution_count": 78
        }
      ],
      "source": [
        "geo_pred_2 # предсказания запасов по третьему региону"
      ]
    },
    {
      "cell_type": "markdown",
      "metadata": {
        "id": "RVJL22ofnamk"
      },
      "source": [
        "Вывод: предсказания чуть более точные, чем для первого региона с похожим распределением запасов."
      ]
    },
    {
      "cell_type": "markdown",
      "metadata": {
        "id": "1-__bFmHnaml"
      },
      "source": [
        "## Расчёт прибыли"
      ]
    },
    {
      "cell_type": "markdown",
      "metadata": {
        "id": "jyVYPko1namm"
      },
      "source": [
        "### Ключевые значения для расчётов"
      ]
    },
    {
      "cell_type": "code",
      "execution_count": 79,
      "metadata": {
        "id": "pDpYGj4hnamm"
      },
      "outputs": [],
      "source": [
        "RES_POINTS = 500 # research points - количество исследуемых точек \n",
        "DEV_POINTS = 200 # development points - количество разрабатываемых точек \n",
        "BUDGET = 10000 # бюджет на разработку 200 точек в миллионах рублей\n",
        "PRODUCT_PRICE = 0.45 # доходность одного барреля в миллионах рублей"
      ]
    },
    {
      "cell_type": "markdown",
      "metadata": {
        "id": "GXv-gaI6namn"
      },
      "source": [
        "### Достаточный объём сырья для безубыточной разработки новой скважины"
      ]
    },
    {
      "cell_type": "code",
      "execution_count": 80,
      "metadata": {
        "colab": {
          "base_uri": "https://localhost:8080/"
        },
        "id": "Pr2-R1nSnamn",
        "outputId": "3ec53e64-c343-4eee-8fcf-26cf5e5f25dd"
      },
      "outputs": [
        {
          "output_type": "stream",
          "name": "stdout",
          "text": [
            "Бюджет на разработку одного месторождения: 50.0 млн рублей\n"
          ]
        }
      ],
      "source": [
        "LOSS_POINT = BUDGET / DEV_POINTS # стоимость разработки\n",
        "print('Бюджет на разработку одного месторождения:', LOSS_POINT, 'млн рублей')"
      ]
    },
    {
      "cell_type": "code",
      "execution_count": 81,
      "metadata": {
        "scrolled": true,
        "colab": {
          "base_uri": "https://localhost:8080/"
        },
        "id": "B54UwrHUnamp",
        "outputId": "64722781-52d6-431b-fc7e-b46db00776ae"
      },
      "outputs": [
        {
          "output_type": "stream",
          "name": "stdout",
          "text": [
            "Достаточный объём для безубыточной разработки новой скважины: 111.11 баррелей\n"
          ]
        }
      ],
      "source": [
        "PROFIT_POINT = BUDGET / DEV_POINTS / PRODUCT_PRICE # точка безубыточности 111,11 баррелей\n",
        "print('Достаточный объём для безубыточной разработки новой скважины:', round(PROFIT_POINT,2), 'баррелей')"
      ]
    },
    {
      "cell_type": "markdown",
      "metadata": {
        "id": "gFWozLnGnamq"
      },
      "source": [
        "### Сравнение достаточного объёма сырья со средним запасом в каждом регионе"
      ]
    },
    {
      "cell_type": "code",
      "execution_count": 82,
      "metadata": {
        "colab": {
          "base_uri": "https://localhost:8080/"
        },
        "id": "RoLVUfGunamq",
        "outputId": "d7edb388-d06a-448e-91a1-83ea302ab732"
      },
      "outputs": [
        {
          "output_type": "execute_result",
          "data": {
            "text/plain": [
              "(92.50000000000001, 68.82500000000002, 95.00000000000004)"
            ]
          },
          "metadata": {},
          "execution_count": 82
        }
      ],
      "source": [
        "geo_data_0['product'].mean(), geo_data_1['product'].mean(), geo_data_2['product'].mean()"
      ]
    },
    {
      "cell_type": "markdown",
      "metadata": {
        "id": "u1JerqgSnamr"
      },
      "source": [
        "Наибольший средний запас месторождения в третьем регионе. Он меньше, чем достаточный запас для безубыточной разработки скважины. Значит в разработку нужно будет брать скважины третьего региона с запасом сырья выше среднего как минимум на 26 баррелей"
      ]
    },
    {
      "cell_type": "code",
      "execution_count": 83,
      "metadata": {
        "colab": {
          "base_uri": "https://localhost:8080/"
        },
        "id": "TZtINpninams",
        "outputId": "6f81d5fd-62ad-43af-cd75-577c78ff9a6d"
      },
      "outputs": [
        {
          "output_type": "execute_result",
          "data": {
            "text/plain": [
              "(92.59256778438035, 68.728546895446, 94.96504596800489)"
            ]
          },
          "metadata": {},
          "execution_count": 83
        }
      ],
      "source": [
        "geo_pred_0.mean(), geo_pred_1.mean(), geo_pred_2.mean()"
      ]
    },
    {
      "cell_type": "markdown",
      "metadata": {
        "id": "RzvfBNaDnamu"
      },
      "source": [
        "### Выбор безубыточных скважин"
      ]
    },
    {
      "cell_type": "code",
      "execution_count": 84,
      "metadata": {
        "id": "IcUtX3KXnamu"
      },
      "outputs": [],
      "source": [
        "def geo_max(geo_pred, limit):     # функция выбирающая точки с доходом больше limit из региона geo_pred\n",
        "    geo_max = []\n",
        "    for i in range(len(geo_pred)):\n",
        "        if geo_pred[i] > limit:\n",
        "            geo_max.append(geo_pred[i])\n",
        "    return geo_max"
      ]
    },
    {
      "cell_type": "code",
      "execution_count": 85,
      "metadata": {
        "colab": {
          "base_uri": "https://localhost:8080/"
        },
        "id": "hj0-yvvwnamv",
        "outputId": "ddfc11ef-212f-4495-ad7f-42501f0d2ce4"
      },
      "outputs": [
        {
          "output_type": "execute_result",
          "data": {
            "text/plain": [
              "5388"
            ]
          },
          "metadata": {},
          "execution_count": 85
        }
      ],
      "source": [
        "geo_max_0 = geo_max(geo_pred_0, PROFIT_POINT) # количество безубыточных скважин из 10000 в первом регионе по предсказанию модели\n",
        "len(geo_max_0)"
      ]
    },
    {
      "cell_type": "code",
      "execution_count": 86,
      "metadata": {
        "colab": {
          "base_uri": "https://localhost:8080/"
        },
        "id": "m6wqQc4hnamw",
        "outputId": "43053484-1a18-41b1-902a-72a57483e9c0"
      },
      "outputs": [
        {
          "output_type": "execute_result",
          "data": {
            "text/plain": [
              "4594"
            ]
          },
          "metadata": {},
          "execution_count": 86
        }
      ],
      "source": [
        "geo_max_1 = geo_max(geo_pred_1, PROFIT_POINT) # количество безубыточных скважин из 10000 во втором регионе \n",
        "len(geo_max_1)"
      ]
    },
    {
      "cell_type": "code",
      "execution_count": 87,
      "metadata": {
        "colab": {
          "base_uri": "https://localhost:8080/"
        },
        "id": "0EI_kFu0namx",
        "outputId": "993ffe25-241f-4b1a-fe06-2406e6a926c0"
      },
      "outputs": [
        {
          "output_type": "execute_result",
          "data": {
            "text/plain": [
              "5234"
            ]
          },
          "metadata": {},
          "execution_count": 87
        }
      ],
      "source": [
        "geo_max_2 = geo_max(geo_pred_2, PROFIT_POINT) # количество безубыточных скважин из 10000 в третьем регионе\n",
        "len(geo_max_2)"
      ]
    },
    {
      "cell_type": "markdown",
      "metadata": {
        "id": "gAoRcDn0namy"
      },
      "source": [
        "### Функция расчёта прибыли по выбранным скважинам"
      ]
    },
    {
      "cell_type": "code",
      "execution_count": 88,
      "metadata": {
        "id": "P51KGZ-Enamy"
      },
      "outputs": [],
      "source": [
        "def geo_profit(geo_pred):  # считает прибыль по выбранным с помощью предсказания модели точкам\n",
        "    profit = 0\n",
        "    for i in range(len(geo_pred)):\n",
        "        profit += geo_pred[i]*PRODUCT_PRICE - LOSS_POINT\n",
        "    return profit    "
      ]
    },
    {
      "cell_type": "code",
      "execution_count": 89,
      "metadata": {
        "colab": {
          "base_uri": "https://localhost:8080/"
        },
        "id": "wA95nPNknamz",
        "outputId": "bbd00255-37b8-4fe1-9ffc-9a2dc6b01537"
      },
      "outputs": [
        {
          "output_type": "execute_result",
          "data": {
            "text/plain": [
              "31451.801692968846"
            ]
          },
          "metadata": {},
          "execution_count": 89
        }
      ],
      "source": [
        "geo_profit(geo_max_0) # прибыль по безубыточным месторождениям первого региона"
      ]
    },
    {
      "cell_type": "code",
      "execution_count": 90,
      "metadata": {
        "colab": {
          "base_uri": "https://localhost:8080/"
        },
        "id": "YwVB9_MJnam0",
        "outputId": "f4076eac-95d0-41d2-d804-7e7e01dc9a28"
      },
      "outputs": [
        {
          "output_type": "execute_result",
          "data": {
            "text/plain": [
              "47607.289928071354"
            ]
          },
          "metadata": {},
          "execution_count": 90
        }
      ],
      "source": [
        "geo_profit(geo_max_1) # прибыль по безубыточным месторождениям второго региона"
      ]
    },
    {
      "cell_type": "code",
      "execution_count": 91,
      "metadata": {
        "colab": {
          "base_uri": "https://localhost:8080/"
        },
        "id": "0tU3FK6Qnam0",
        "outputId": "a5d1526b-9cb0-493e-e91b-6cef2fc0ab44"
      },
      "outputs": [
        {
          "output_type": "execute_result",
          "data": {
            "text/plain": [
              "26333.257591624504"
            ]
          },
          "metadata": {},
          "execution_count": 91
        }
      ],
      "source": [
        "geo_profit(geo_max_2) # прибыль по безубыточным месторождениям третьего региона"
      ]
    },
    {
      "cell_type": "markdown",
      "metadata": {
        "id": "25Xx0seLnam1"
      },
      "source": [
        "Если бы бюджет позволял разработать все безубыточные месторождения, то нужно было бы выбрать второй регион, где прибыль по всем таким точкам составила бы 47,6 млрд рублей. Но бюджет ограничен - 200 точек."
      ]
    },
    {
      "cell_type": "markdown",
      "metadata": {
        "id": "TgVL8TkZnam2"
      },
      "source": [
        "## Расчёт прибыли и рисков "
      ]
    },
    {
      "cell_type": "markdown",
      "metadata": {
        "id": "R9w8UZrMnam2"
      },
      "source": [
        "### Выбор скважин с максимальными значениями предсказаний"
      ]
    },
    {
      "cell_type": "code",
      "execution_count": 92,
      "metadata": {
        "id": "Xtr-SXOznam2"
      },
      "outputs": [],
      "source": [
        "def profit_count(predictions, targets):     # выбирает лучшие 200 точек и считает прибыль по ним\n",
        "    best_predictions = pd.Series(predictions).sort_values(ascending=False).head(200)\n",
        "    best_point = targets.iloc[best_predictions.index]\n",
        "    profit = (PRODUCT_PRICE * best_point.sum()) - BUDGET\n",
        "    return profit"
      ]
    },
    {
      "cell_type": "code",
      "execution_count": 93,
      "metadata": {
        "id": "c0MBU82onam5"
      },
      "outputs": [],
      "source": [
        "profit_geo_0 = profit_count(geo_pred_0, geo_target_0)"
      ]
    },
    {
      "cell_type": "code",
      "execution_count": 94,
      "metadata": {
        "colab": {
          "base_uri": "https://localhost:8080/"
        },
        "id": "O-yBShEXnam5",
        "outputId": "0bad72cb-bea0-4f35-97d2-9c19049c1c1a"
      },
      "outputs": [
        {
          "output_type": "execute_result",
          "data": {
            "text/plain": [
              "3320.8260431398503"
            ]
          },
          "metadata": {},
          "execution_count": 94
        }
      ],
      "source": [
        "profit_geo_0 # прибыль по 200 точкам первого региона"
      ]
    },
    {
      "cell_type": "code",
      "execution_count": 95,
      "metadata": {
        "id": "vfz04MEOnam6"
      },
      "outputs": [],
      "source": [
        "profit_geo_1 = profit_count(geo_pred_1, geo_target_1)"
      ]
    },
    {
      "cell_type": "code",
      "source": [
        "profit_geo_1 # прибыль по 200 точкам второго региона"
      ],
      "metadata": {
        "colab": {
          "base_uri": "https://localhost:8080/"
        },
        "id": "U6yG0W-4sgkt",
        "outputId": "5cfc080a-0960-4b51-ed48-809e0ddc28e8"
      },
      "execution_count": 96,
      "outputs": [
        {
          "output_type": "execute_result",
          "data": {
            "text/plain": [
              "2415.086696681512"
            ]
          },
          "metadata": {},
          "execution_count": 96
        }
      ]
    },
    {
      "cell_type": "code",
      "execution_count": 97,
      "metadata": {
        "id": "nuFO8m0Vnam6"
      },
      "outputs": [],
      "source": [
        "profit_geo_2 = profit_count(geo_pred_2, geo_target_2)"
      ]
    },
    {
      "cell_type": "code",
      "execution_count": 98,
      "metadata": {
        "colab": {
          "base_uri": "https://localhost:8080/"
        },
        "id": "63vBXp0Wnam_",
        "outputId": "f7254947-859e-45cc-e8e0-7620d7bc1954"
      },
      "outputs": [
        {
          "output_type": "execute_result",
          "data": {
            "text/plain": [
              "2710.3499635998323"
            ]
          },
          "metadata": {},
          "execution_count": 98
        }
      ],
      "source": [
        "profit_geo_2 # прибыль по 200 точкам третьего региона"
      ]
    },
    {
      "cell_type": "markdown",
      "metadata": {
        "id": "Qc1klzBnnam_"
      },
      "source": [
        "Наиболее прибыльный получается первый регион, если выбирать только 200 самых прибыльных месторождений"
      ]
    },
    {
      "cell_type": "markdown",
      "metadata": {
        "id": "wpCGolW-nanB"
      },
      "source": [
        "### Функция расчёта прибыли по выбранным скважинам и предсказаниям модели"
      ]
    },
    {
      "cell_type": "markdown",
      "metadata": {
        "id": "6gyzwlSwnanB"
      },
      "source": [
        "Выбрать произвольно 500 скважин по каждому региону, у которых объем ещё неизвестен. С помощью модели из 500 выбрать 200 лучших, то есть самых прибыльных. Оценить в каком регионе риски будут минимальны."
      ]
    },
    {
      "cell_type": "code",
      "execution_count": 99,
      "metadata": {
        "id": "Z7WcVJeFnanC"
      },
      "outputs": [],
      "source": [
        "def bootstrap(prediction, true_values):\n",
        "    state = np.random.RandomState(12345)\n",
        "    values = []\n",
        "    for i in range(1000):\n",
        "        sample = pd.Series(prediction).sample(n=500, random_state=state, replace=True)\n",
        "        values.append(profit_count(sample, true_values))\n",
        " \n",
        "    values = pd.Series(values)\n",
        "    lower = values.quantile(0.025)\n",
        "    upper = values.quantile(0.975)\n",
        "    # risk = len(values[values < 0]) / len(values)\n",
        "    risk = (values < 0).mean()\n",
        "    profit_mean = values.mean()\n",
        "    return print('от', lower, 'до', upper, '\\nПроцент риска {:.2%}'.format(risk),'\\nСредняя прибыль:', profit_mean)           "
      ]
    },
    {
      "cell_type": "code",
      "execution_count": 100,
      "metadata": {
        "scrolled": false,
        "colab": {
          "base_uri": "https://localhost:8080/"
        },
        "id": "AK7ehbgRnanE",
        "outputId": "a5ac17d6-fb00-4262-9671-1e67f1d01430"
      },
      "outputs": [
        {
          "output_type": "stream",
          "name": "stdout",
          "text": [
            "от -111.21554589049533 до 909.7669415534222 \n",
            "Процент риска 6.90% \n",
            "Средняя прибыль: 396.16498480237146\n"
          ]
        }
      ],
      "source": [
        "bootstrap(geo_pred_0, geo_target_0) # вероятность убытков по первому региону "
      ]
    },
    {
      "cell_type": "code",
      "execution_count": 101,
      "metadata": {
        "colab": {
          "base_uri": "https://localhost:8080/"
        },
        "id": "jeOoVCbBnanF",
        "outputId": "2f2d0773-7944-40d4-82d7-1d6507bf0b50"
      },
      "outputs": [
        {
          "output_type": "stream",
          "name": "stdout",
          "text": [
            "от 33.82050939898541 до 852.2894538660361 \n",
            "Процент риска 1.50% \n",
            "Средняя прибыль: 456.04510578666105\n"
          ]
        }
      ],
      "source": [
        "bootstrap(geo_pred_1, geo_target_1)  # вероятность убытков по второму региону меньше 2.5%"
      ]
    },
    {
      "cell_type": "code",
      "execution_count": 102,
      "metadata": {
        "colab": {
          "base_uri": "https://localhost:8080/"
        },
        "id": "lfJnesnBnanG",
        "outputId": "9c740bd1-3889-4767-90ed-3ec7f30d8078"
      },
      "outputs": [
        {
          "output_type": "stream",
          "name": "stdout",
          "text": [
            "от -163.35041339560078 до 950.3595749238001 \n",
            "Процент риска 7.60% \n",
            "Средняя прибыль: 404.4038665683571\n"
          ]
        }
      ],
      "source": [
        "bootstrap(geo_pred_2, geo_target_2)  # вероятность убытков по третьему региону "
      ]
    },
    {
      "cell_type": "markdown",
      "metadata": {
        "id": "ByalxXcrnanH"
      },
      "source": [
        "Минимальные риски и максимальная средняя прибыль получаются по второму региону (geo_data_1)"
      ]
    },
    {
      "cell_type": "markdown",
      "metadata": {
        "id": "9cZE3bApnanJ"
      },
      "source": [
        "<b>Выводы: </b>\n",
        "- Больше всего безубыточных скважин в первом регионе. По предсказанию модели 5123 безубыточных скважины из 10000. \n",
        "- Однако прибыль по всем безубыточным скважинам 47,6 млрд рублей больше во втором регионе. И если бы позволял бюджет, то надо было бы разрабатывать все безубыточные скважина во втором регионе.\n",
        "- Но бюджет ограничен - 200 точек для разработки и 500 произвольных точек из региона для исследования.\n",
        "- В этом случае минимальный риск 1.50%  и максимальная средняя прибыль получается по второму региону, где прибыль может составить от 33.8 до 852.3 млн рублей"
      ]
    }
  ],
  "metadata": {
    "ExecuteTimeLog": [
      {
        "duration": 49,
        "start_time": "2022-10-24T09:12:11.634Z"
      },
      {
        "duration": 394,
        "start_time": "2022-10-24T09:12:15.203Z"
      },
      {
        "duration": 29,
        "start_time": "2022-10-24T09:12:16.005Z"
      },
      {
        "duration": 1750,
        "start_time": "2022-10-24T09:12:33.924Z"
      },
      {
        "duration": 20,
        "start_time": "2022-10-24T09:13:50.084Z"
      },
      {
        "duration": 9,
        "start_time": "2022-10-24T09:14:06.423Z"
      },
      {
        "duration": 8,
        "start_time": "2022-10-24T09:14:12.044Z"
      },
      {
        "duration": 9,
        "start_time": "2022-10-24T09:14:51.003Z"
      },
      {
        "duration": 18,
        "start_time": "2022-10-24T09:19:17.161Z"
      },
      {
        "duration": 36,
        "start_time": "2022-10-24T09:21:33.674Z"
      },
      {
        "duration": 562,
        "start_time": "2022-10-24T09:22:29.731Z"
      },
      {
        "duration": 152,
        "start_time": "2022-10-24T09:22:34.728Z"
      },
      {
        "duration": 273,
        "start_time": "2022-10-24T09:24:20.140Z"
      },
      {
        "duration": 220,
        "start_time": "2022-10-24T09:24:46.380Z"
      },
      {
        "duration": 176,
        "start_time": "2022-10-24T09:26:30.698Z"
      },
      {
        "duration": 37,
        "start_time": "2022-10-24T09:39:32.440Z"
      },
      {
        "duration": 21,
        "start_time": "2022-10-24T09:48:47.159Z"
      },
      {
        "duration": 33,
        "start_time": "2022-10-24T09:48:53.032Z"
      },
      {
        "duration": 134,
        "start_time": "2022-10-24T09:49:22.883Z"
      },
      {
        "duration": 13,
        "start_time": "2022-10-24T10:29:35.486Z"
      },
      {
        "duration": 10,
        "start_time": "2022-10-24T10:29:43.497Z"
      },
      {
        "duration": 15,
        "start_time": "2022-10-24T10:29:47.495Z"
      },
      {
        "duration": 11,
        "start_time": "2022-10-24T10:30:13.321Z"
      },
      {
        "duration": 34,
        "start_time": "2022-10-24T10:32:33.429Z"
      },
      {
        "duration": 141,
        "start_time": "2022-10-24T10:32:33.772Z"
      },
      {
        "duration": 755,
        "start_time": "2022-10-24T10:42:52.771Z"
      },
      {
        "duration": 3,
        "start_time": "2022-10-24T10:46:54.682Z"
      },
      {
        "duration": 7,
        "start_time": "2022-10-24T10:46:55.212Z"
      },
      {
        "duration": 6,
        "start_time": "2022-10-24T10:50:48.681Z"
      },
      {
        "duration": 10,
        "start_time": "2022-10-24T10:50:49.491Z"
      },
      {
        "duration": 49,
        "start_time": "2022-10-24T10:51:16.721Z"
      },
      {
        "duration": 3,
        "start_time": "2022-10-24T10:51:33.621Z"
      },
      {
        "duration": 362,
        "start_time": "2022-10-24T10:51:34.300Z"
      },
      {
        "duration": 9,
        "start_time": "2022-10-24T10:51:35.221Z"
      },
      {
        "duration": 14,
        "start_time": "2022-10-24T10:51:37.381Z"
      },
      {
        "duration": 10,
        "start_time": "2022-10-24T10:51:40.541Z"
      },
      {
        "duration": 6,
        "start_time": "2022-10-24T10:51:41.891Z"
      },
      {
        "duration": 46,
        "start_time": "2022-10-24T10:51:43.750Z"
      },
      {
        "duration": 175,
        "start_time": "2022-10-24T10:51:46.821Z"
      },
      {
        "duration": 32,
        "start_time": "2022-10-24T10:51:50.091Z"
      },
      {
        "duration": 167,
        "start_time": "2022-10-24T10:51:51.101Z"
      },
      {
        "duration": 46,
        "start_time": "2022-10-24T10:51:53.111Z"
      },
      {
        "duration": 153,
        "start_time": "2022-10-24T10:51:54.481Z"
      },
      {
        "duration": 3,
        "start_time": "2022-10-24T10:51:57.702Z"
      },
      {
        "duration": 5,
        "start_time": "2022-10-24T10:51:58.201Z"
      },
      {
        "duration": 13,
        "start_time": "2022-10-24T10:53:31.451Z"
      },
      {
        "duration": 3,
        "start_time": "2022-10-24T10:54:25.550Z"
      },
      {
        "duration": 11,
        "start_time": "2022-10-24T10:54:30.520Z"
      },
      {
        "duration": 3,
        "start_time": "2022-10-24T10:56:11.670Z"
      },
      {
        "duration": 9,
        "start_time": "2022-10-24T10:56:19.480Z"
      },
      {
        "duration": 8,
        "start_time": "2022-10-24T11:05:47.414Z"
      },
      {
        "duration": 4,
        "start_time": "2022-10-24T11:06:02.304Z"
      },
      {
        "duration": 8,
        "start_time": "2022-10-24T11:06:02.865Z"
      },
      {
        "duration": 3,
        "start_time": "2022-10-24T11:53:52.257Z"
      },
      {
        "duration": 1429,
        "start_time": "2022-10-25T07:50:43.517Z"
      },
      {
        "duration": 3,
        "start_time": "2022-10-25T07:50:54.128Z"
      },
      {
        "duration": 1551,
        "start_time": "2022-10-25T07:50:54.487Z"
      },
      {
        "duration": 12,
        "start_time": "2022-10-25T07:50:56.040Z"
      },
      {
        "duration": 18,
        "start_time": "2022-10-25T07:50:57.439Z"
      },
      {
        "duration": 9,
        "start_time": "2022-10-25T07:50:57.809Z"
      },
      {
        "duration": 5,
        "start_time": "2022-10-25T07:50:58.149Z"
      },
      {
        "duration": 34,
        "start_time": "2022-10-25T07:50:58.493Z"
      },
      {
        "duration": 132,
        "start_time": "2022-10-25T07:50:58.728Z"
      },
      {
        "duration": 30,
        "start_time": "2022-10-25T07:50:59.393Z"
      },
      {
        "duration": 136,
        "start_time": "2022-10-25T07:50:59.581Z"
      },
      {
        "duration": 32,
        "start_time": "2022-10-25T07:51:00.149Z"
      },
      {
        "duration": 132,
        "start_time": "2022-10-25T07:51:00.473Z"
      },
      {
        "duration": 2,
        "start_time": "2022-10-25T07:51:01.390Z"
      },
      {
        "duration": 4,
        "start_time": "2022-10-25T07:51:01.815Z"
      },
      {
        "duration": 2,
        "start_time": "2022-10-25T07:51:02.482Z"
      },
      {
        "duration": 90,
        "start_time": "2022-10-25T07:51:03.208Z"
      },
      {
        "duration": 5,
        "start_time": "2022-10-25T08:25:53.644Z"
      },
      {
        "duration": 8,
        "start_time": "2022-10-25T08:25:54.038Z"
      },
      {
        "duration": 21,
        "start_time": "2022-10-25T08:26:03.101Z"
      },
      {
        "duration": 16,
        "start_time": "2022-10-25T08:26:30.111Z"
      },
      {
        "duration": 2,
        "start_time": "2022-10-25T08:35:00.347Z"
      },
      {
        "duration": 87,
        "start_time": "2022-10-25T08:37:56.836Z"
      },
      {
        "duration": 4,
        "start_time": "2022-10-25T08:38:01.923Z"
      },
      {
        "duration": 2,
        "start_time": "2022-10-25T08:38:02.575Z"
      },
      {
        "duration": 136,
        "start_time": "2022-10-25T08:38:03.236Z"
      },
      {
        "duration": 16,
        "start_time": "2022-10-25T08:38:25.896Z"
      },
      {
        "duration": 15,
        "start_time": "2022-10-25T08:39:06.245Z"
      },
      {
        "duration": 15,
        "start_time": "2022-10-25T08:39:08.183Z"
      },
      {
        "duration": 14,
        "start_time": "2022-10-25T08:39:31.512Z"
      },
      {
        "duration": 13,
        "start_time": "2022-10-25T08:42:40.706Z"
      },
      {
        "duration": 2,
        "start_time": "2022-10-25T08:42:41.405Z"
      },
      {
        "duration": 13,
        "start_time": "2022-10-25T08:42:42.084Z"
      },
      {
        "duration": 13,
        "start_time": "2022-10-25T08:42:42.633Z"
      },
      {
        "duration": 3,
        "start_time": "2022-10-25T08:42:51.590Z"
      },
      {
        "duration": 313,
        "start_time": "2022-10-25T08:42:52.366Z"
      },
      {
        "duration": 9,
        "start_time": "2022-10-25T08:42:54.374Z"
      },
      {
        "duration": 12,
        "start_time": "2022-10-25T08:42:55.205Z"
      },
      {
        "duration": 9,
        "start_time": "2022-10-25T08:42:55.524Z"
      },
      {
        "duration": 7,
        "start_time": "2022-10-25T08:42:55.795Z"
      },
      {
        "duration": 33,
        "start_time": "2022-10-25T08:42:56.086Z"
      },
      {
        "duration": 127,
        "start_time": "2022-10-25T08:42:56.494Z"
      },
      {
        "duration": 40,
        "start_time": "2022-10-25T08:42:57.366Z"
      },
      {
        "duration": 135,
        "start_time": "2022-10-25T08:43:01.395Z"
      },
      {
        "duration": 32,
        "start_time": "2022-10-25T08:43:03.332Z"
      },
      {
        "duration": 206,
        "start_time": "2022-10-25T08:43:04.126Z"
      },
      {
        "duration": 3,
        "start_time": "2022-10-25T08:43:06.289Z"
      },
      {
        "duration": 5,
        "start_time": "2022-10-25T08:43:06.765Z"
      },
      {
        "duration": 2,
        "start_time": "2022-10-25T08:43:07.650Z"
      },
      {
        "duration": 14,
        "start_time": "2022-10-25T08:43:16.804Z"
      },
      {
        "duration": 2,
        "start_time": "2022-10-25T08:43:19.565Z"
      },
      {
        "duration": 12,
        "start_time": "2022-10-25T08:43:21.404Z"
      },
      {
        "duration": 14,
        "start_time": "2022-10-25T08:43:29.616Z"
      },
      {
        "duration": 9,
        "start_time": "2022-10-25T08:54:19.354Z"
      },
      {
        "duration": 77,
        "start_time": "2022-10-25T08:54:49.939Z"
      },
      {
        "duration": 3,
        "start_time": "2022-10-25T08:54:59.834Z"
      },
      {
        "duration": 314,
        "start_time": "2022-10-25T08:55:00.962Z"
      },
      {
        "duration": 8,
        "start_time": "2022-10-25T08:55:01.292Z"
      },
      {
        "duration": 11,
        "start_time": "2022-10-25T08:55:01.602Z"
      },
      {
        "duration": 9,
        "start_time": "2022-10-25T08:55:01.763Z"
      },
      {
        "duration": 6,
        "start_time": "2022-10-25T08:55:01.924Z"
      },
      {
        "duration": 32,
        "start_time": "2022-10-25T08:55:02.093Z"
      },
      {
        "duration": 143,
        "start_time": "2022-10-25T08:55:02.252Z"
      },
      {
        "duration": 32,
        "start_time": "2022-10-25T08:55:02.601Z"
      },
      {
        "duration": 140,
        "start_time": "2022-10-25T08:55:02.759Z"
      },
      {
        "duration": 32,
        "start_time": "2022-10-25T08:55:03.091Z"
      },
      {
        "duration": 128,
        "start_time": "2022-10-25T08:55:03.275Z"
      },
      {
        "duration": 3,
        "start_time": "2022-10-25T08:55:03.784Z"
      },
      {
        "duration": 3,
        "start_time": "2022-10-25T08:55:04.016Z"
      },
      {
        "duration": 2,
        "start_time": "2022-10-25T08:55:04.181Z"
      },
      {
        "duration": 12,
        "start_time": "2022-10-25T08:55:04.338Z"
      },
      {
        "duration": 21,
        "start_time": "2022-10-25T08:55:06.219Z"
      },
      {
        "duration": 11,
        "start_time": "2022-10-25T08:55:07.383Z"
      },
      {
        "duration": 4,
        "start_time": "2022-10-25T08:55:21.802Z"
      },
      {
        "duration": 8,
        "start_time": "2022-10-25T08:56:26.491Z"
      },
      {
        "duration": 4,
        "start_time": "2022-10-25T08:57:12.767Z"
      },
      {
        "duration": 3,
        "start_time": "2022-10-25T09:00:03.699Z"
      },
      {
        "duration": 111,
        "start_time": "2022-10-25T09:00:24.372Z"
      },
      {
        "duration": 9,
        "start_time": "2022-10-25T09:00:24.639Z"
      },
      {
        "duration": 4,
        "start_time": "2022-10-25T09:00:31.471Z"
      },
      {
        "duration": 9,
        "start_time": "2022-10-25T09:00:32.708Z"
      },
      {
        "duration": 4,
        "start_time": "2022-10-25T09:00:45.247Z"
      },
      {
        "duration": 4,
        "start_time": "2022-10-25T09:00:50.106Z"
      },
      {
        "duration": 4,
        "start_time": "2022-10-25T09:01:44.843Z"
      },
      {
        "duration": 6,
        "start_time": "2022-10-25T09:01:47.317Z"
      },
      {
        "duration": 8,
        "start_time": "2022-10-25T09:11:19.708Z"
      },
      {
        "duration": 4,
        "start_time": "2022-10-25T09:11:27.727Z"
      },
      {
        "duration": 337,
        "start_time": "2022-10-25T09:11:30.384Z"
      },
      {
        "duration": 9,
        "start_time": "2022-10-25T09:11:30.722Z"
      },
      {
        "duration": 22,
        "start_time": "2022-10-25T09:11:30.733Z"
      },
      {
        "duration": 15,
        "start_time": "2022-10-25T09:11:30.757Z"
      },
      {
        "duration": 8,
        "start_time": "2022-10-25T09:11:30.774Z"
      },
      {
        "duration": 40,
        "start_time": "2022-10-25T09:11:30.783Z"
      },
      {
        "duration": 137,
        "start_time": "2022-10-25T09:11:30.825Z"
      },
      {
        "duration": 32,
        "start_time": "2022-10-25T09:11:30.964Z"
      },
      {
        "duration": 140,
        "start_time": "2022-10-25T09:11:31.006Z"
      },
      {
        "duration": 33,
        "start_time": "2022-10-25T09:11:31.199Z"
      },
      {
        "duration": 131,
        "start_time": "2022-10-25T09:11:31.312Z"
      },
      {
        "duration": 2,
        "start_time": "2022-10-25T09:11:31.445Z"
      },
      {
        "duration": 4,
        "start_time": "2022-10-25T09:11:31.571Z"
      },
      {
        "duration": 2,
        "start_time": "2022-10-25T09:11:32.442Z"
      },
      {
        "duration": 16,
        "start_time": "2022-10-25T09:11:32.446Z"
      },
      {
        "duration": 11,
        "start_time": "2022-10-25T09:11:32.464Z"
      },
      {
        "duration": 35,
        "start_time": "2022-10-25T09:11:32.476Z"
      },
      {
        "duration": 102,
        "start_time": "2022-10-25T09:11:32.513Z"
      },
      {
        "duration": 4,
        "start_time": "2022-10-25T09:11:32.617Z"
      },
      {
        "duration": 4,
        "start_time": "2022-10-25T09:12:09.439Z"
      },
      {
        "duration": 4,
        "start_time": "2022-10-25T09:13:30.768Z"
      },
      {
        "duration": 4,
        "start_time": "2022-10-25T09:13:44.257Z"
      },
      {
        "duration": 4,
        "start_time": "2022-10-25T09:13:45.027Z"
      },
      {
        "duration": 4,
        "start_time": "2022-10-25T09:13:45.894Z"
      },
      {
        "duration": 4,
        "start_time": "2022-10-25T09:14:56.776Z"
      },
      {
        "duration": 4,
        "start_time": "2022-10-25T09:15:21.020Z"
      },
      {
        "duration": 4,
        "start_time": "2022-10-25T09:17:25.457Z"
      },
      {
        "duration": 4,
        "start_time": "2022-10-25T09:43:19.108Z"
      },
      {
        "duration": 4,
        "start_time": "2022-10-25T09:44:02.210Z"
      },
      {
        "duration": 26,
        "start_time": "2022-10-25T09:45:27.415Z"
      },
      {
        "duration": 15,
        "start_time": "2022-10-25T09:45:43.234Z"
      },
      {
        "duration": 12,
        "start_time": "2022-10-25T09:45:45.715Z"
      },
      {
        "duration": 4,
        "start_time": "2022-10-25T09:45:47.048Z"
      },
      {
        "duration": 6,
        "start_time": "2022-10-25T09:45:48.161Z"
      },
      {
        "duration": 4,
        "start_time": "2022-10-25T09:45:49.182Z"
      },
      {
        "duration": 4,
        "start_time": "2022-10-25T09:45:50.690Z"
      },
      {
        "duration": 2,
        "start_time": "2022-10-25T09:49:49.185Z"
      },
      {
        "duration": 4,
        "start_time": "2022-10-25T09:50:52.366Z"
      },
      {
        "duration": 1524,
        "start_time": "2022-10-26T05:31:59.833Z"
      },
      {
        "duration": 829,
        "start_time": "2022-10-26T05:32:01.359Z"
      },
      {
        "duration": 14,
        "start_time": "2022-10-26T05:32:03.298Z"
      },
      {
        "duration": 15,
        "start_time": "2022-10-26T05:32:04.183Z"
      },
      {
        "duration": 11,
        "start_time": "2022-10-26T05:32:05.093Z"
      },
      {
        "duration": 6,
        "start_time": "2022-10-26T05:32:05.403Z"
      },
      {
        "duration": 36,
        "start_time": "2022-10-26T05:32:05.963Z"
      },
      {
        "duration": 151,
        "start_time": "2022-10-26T05:32:06.383Z"
      },
      {
        "duration": 34,
        "start_time": "2022-10-26T05:32:07.262Z"
      },
      {
        "duration": 147,
        "start_time": "2022-10-26T05:32:07.652Z"
      },
      {
        "duration": 51,
        "start_time": "2022-10-26T05:32:08.543Z"
      },
      {
        "duration": 147,
        "start_time": "2022-10-26T05:32:08.972Z"
      },
      {
        "duration": 2,
        "start_time": "2022-10-26T05:32:13.693Z"
      },
      {
        "duration": 6,
        "start_time": "2022-10-26T05:32:14.683Z"
      },
      {
        "duration": 2,
        "start_time": "2022-10-26T05:32:15.423Z"
      },
      {
        "duration": 24,
        "start_time": "2022-10-26T05:32:16.173Z"
      },
      {
        "duration": 27,
        "start_time": "2022-10-26T05:32:16.873Z"
      },
      {
        "duration": 27,
        "start_time": "2022-10-26T05:32:18.423Z"
      },
      {
        "duration": 5,
        "start_time": "2022-10-26T05:32:19.394Z"
      },
      {
        "duration": 4,
        "start_time": "2022-10-26T05:32:20.472Z"
      },
      {
        "duration": 5,
        "start_time": "2022-10-26T05:32:21.382Z"
      },
      {
        "duration": 5,
        "start_time": "2022-10-26T05:32:23.052Z"
      },
      {
        "duration": 13,
        "start_time": "2022-10-26T05:47:58.121Z"
      },
      {
        "duration": 112,
        "start_time": "2022-10-26T05:53:40.651Z"
      },
      {
        "duration": 17,
        "start_time": "2022-10-26T05:54:43.943Z"
      },
      {
        "duration": 5,
        "start_time": "2022-10-26T05:54:45.420Z"
      },
      {
        "duration": 5,
        "start_time": "2022-10-26T05:54:46.695Z"
      },
      {
        "duration": 7,
        "start_time": "2022-10-26T05:54:51.977Z"
      },
      {
        "duration": 5,
        "start_time": "2022-10-26T05:54:53.583Z"
      },
      {
        "duration": 10,
        "start_time": "2022-10-26T05:54:56.564Z"
      },
      {
        "duration": 5,
        "start_time": "2022-10-26T05:55:01.416Z"
      },
      {
        "duration": 4,
        "start_time": "2022-10-26T05:55:15.919Z"
      },
      {
        "duration": 371,
        "start_time": "2022-10-26T05:55:15.998Z"
      },
      {
        "duration": 9,
        "start_time": "2022-10-26T05:55:16.371Z"
      },
      {
        "duration": 13,
        "start_time": "2022-10-26T05:55:16.381Z"
      },
      {
        "duration": 11,
        "start_time": "2022-10-26T05:55:16.396Z"
      },
      {
        "duration": 5,
        "start_time": "2022-10-26T05:55:16.409Z"
      },
      {
        "duration": 51,
        "start_time": "2022-10-26T05:55:16.416Z"
      },
      {
        "duration": 156,
        "start_time": "2022-10-26T05:55:16.469Z"
      },
      {
        "duration": 37,
        "start_time": "2022-10-26T05:55:16.627Z"
      },
      {
        "duration": 151,
        "start_time": "2022-10-26T05:55:16.665Z"
      },
      {
        "duration": 46,
        "start_time": "2022-10-26T05:55:16.818Z"
      },
      {
        "duration": 227,
        "start_time": "2022-10-26T05:55:16.865Z"
      },
      {
        "duration": 3,
        "start_time": "2022-10-26T05:55:17.094Z"
      },
      {
        "duration": 8,
        "start_time": "2022-10-26T05:55:17.098Z"
      },
      {
        "duration": 6,
        "start_time": "2022-10-26T05:55:17.108Z"
      },
      {
        "duration": 27,
        "start_time": "2022-10-26T05:55:17.115Z"
      },
      {
        "duration": 22,
        "start_time": "2022-10-26T05:55:17.144Z"
      },
      {
        "duration": 19,
        "start_time": "2022-10-26T05:55:17.168Z"
      },
      {
        "duration": 92,
        "start_time": "2022-10-26T05:55:17.251Z"
      },
      {
        "duration": 16,
        "start_time": "2022-10-26T05:55:17.345Z"
      },
      {
        "duration": 5,
        "start_time": "2022-10-26T05:55:17.497Z"
      },
      {
        "duration": 4,
        "start_time": "2022-10-26T05:55:17.696Z"
      },
      {
        "duration": 14,
        "start_time": "2022-10-26T05:55:17.827Z"
      },
      {
        "duration": 4,
        "start_time": "2022-10-26T05:55:18.040Z"
      },
      {
        "duration": 2,
        "start_time": "2022-10-26T05:55:20.257Z"
      },
      {
        "duration": 3,
        "start_time": "2022-10-26T05:55:26.622Z"
      },
      {
        "duration": 394,
        "start_time": "2022-10-26T05:55:26.967Z"
      },
      {
        "duration": 11,
        "start_time": "2022-10-26T05:55:27.364Z"
      },
      {
        "duration": 13,
        "start_time": "2022-10-26T05:55:27.655Z"
      },
      {
        "duration": 11,
        "start_time": "2022-10-26T05:55:27.808Z"
      },
      {
        "duration": 6,
        "start_time": "2022-10-26T05:55:27.976Z"
      },
      {
        "duration": 36,
        "start_time": "2022-10-26T05:55:28.142Z"
      },
      {
        "duration": 141,
        "start_time": "2022-10-26T05:55:28.316Z"
      },
      {
        "duration": 40,
        "start_time": "2022-10-26T05:55:28.626Z"
      },
      {
        "duration": 150,
        "start_time": "2022-10-26T05:55:28.847Z"
      },
      {
        "duration": 35,
        "start_time": "2022-10-26T05:55:29.197Z"
      },
      {
        "duration": 143,
        "start_time": "2022-10-26T05:55:29.397Z"
      },
      {
        "duration": 2,
        "start_time": "2022-10-26T05:55:29.901Z"
      },
      {
        "duration": 5,
        "start_time": "2022-10-26T05:55:30.057Z"
      },
      {
        "duration": 2,
        "start_time": "2022-10-26T05:55:30.218Z"
      },
      {
        "duration": 13,
        "start_time": "2022-10-26T05:55:30.394Z"
      },
      {
        "duration": 17,
        "start_time": "2022-10-26T05:55:30.588Z"
      },
      {
        "duration": 23,
        "start_time": "2022-10-26T05:55:31.486Z"
      },
      {
        "duration": 4,
        "start_time": "2022-10-26T05:55:32.185Z"
      },
      {
        "duration": 6,
        "start_time": "2022-10-26T05:55:32.803Z"
      },
      {
        "duration": 5,
        "start_time": "2022-10-26T05:55:33.461Z"
      },
      {
        "duration": 5,
        "start_time": "2022-10-26T05:55:34.488Z"
      },
      {
        "duration": 12,
        "start_time": "2022-10-26T05:55:35.206Z"
      },
      {
        "duration": 4,
        "start_time": "2022-10-26T05:55:35.886Z"
      },
      {
        "duration": 1298,
        "start_time": "2022-10-26T05:56:13.515Z"
      },
      {
        "duration": 367,
        "start_time": "2022-10-26T05:56:14.815Z"
      },
      {
        "duration": 12,
        "start_time": "2022-10-26T05:56:15.184Z"
      },
      {
        "duration": 15,
        "start_time": "2022-10-26T05:56:15.198Z"
      },
      {
        "duration": 24,
        "start_time": "2022-10-26T05:56:15.215Z"
      },
      {
        "duration": 5,
        "start_time": "2022-10-26T05:56:15.241Z"
      },
      {
        "duration": 37,
        "start_time": "2022-10-26T05:56:15.283Z"
      },
      {
        "duration": 152,
        "start_time": "2022-10-26T05:56:15.502Z"
      },
      {
        "duration": 34,
        "start_time": "2022-10-26T05:56:15.999Z"
      },
      {
        "duration": 145,
        "start_time": "2022-10-26T05:56:16.180Z"
      },
      {
        "duration": 34,
        "start_time": "2022-10-26T05:56:16.571Z"
      },
      {
        "duration": 154,
        "start_time": "2022-10-26T05:56:17.019Z"
      },
      {
        "duration": 3,
        "start_time": "2022-10-26T05:56:18.100Z"
      },
      {
        "duration": 4,
        "start_time": "2022-10-26T05:56:18.290Z"
      },
      {
        "duration": 3,
        "start_time": "2022-10-26T05:56:18.771Z"
      },
      {
        "duration": 17,
        "start_time": "2022-10-26T05:56:19.170Z"
      },
      {
        "duration": 18,
        "start_time": "2022-10-26T05:56:19.624Z"
      },
      {
        "duration": 18,
        "start_time": "2022-10-26T05:56:20.220Z"
      },
      {
        "duration": 99,
        "start_time": "2022-10-26T05:56:20.681Z"
      },
      {
        "duration": 7,
        "start_time": "2022-10-26T05:56:21.579Z"
      },
      {
        "duration": 8,
        "start_time": "2022-10-26T05:56:23.969Z"
      },
      {
        "duration": 10,
        "start_time": "2022-10-26T05:56:25.580Z"
      },
      {
        "duration": 13,
        "start_time": "2022-10-26T05:56:27.769Z"
      },
      {
        "duration": 9,
        "start_time": "2022-10-26T05:56:28.759Z"
      },
      {
        "duration": 4,
        "start_time": "2022-10-26T05:57:20.633Z"
      },
      {
        "duration": 15,
        "start_time": "2022-10-26T05:57:27.471Z"
      },
      {
        "duration": 16,
        "start_time": "2022-10-26T05:57:28.020Z"
      },
      {
        "duration": 4,
        "start_time": "2022-10-26T05:57:28.424Z"
      },
      {
        "duration": 6,
        "start_time": "2022-10-26T05:57:28.875Z"
      },
      {
        "duration": 5,
        "start_time": "2022-10-26T05:57:29.485Z"
      },
      {
        "duration": 5,
        "start_time": "2022-10-26T05:57:30.005Z"
      },
      {
        "duration": 12,
        "start_time": "2022-10-26T05:57:30.515Z"
      },
      {
        "duration": 4,
        "start_time": "2022-10-26T05:57:31.089Z"
      },
      {
        "duration": 4,
        "start_time": "2022-10-26T05:59:43.920Z"
      },
      {
        "duration": 7,
        "start_time": "2022-10-26T05:59:49.516Z"
      },
      {
        "duration": 6,
        "start_time": "2022-10-26T06:01:28.605Z"
      },
      {
        "duration": 6,
        "start_time": "2022-10-26T06:04:20.675Z"
      },
      {
        "duration": 3,
        "start_time": "2022-10-26T06:07:04.717Z"
      },
      {
        "duration": 4,
        "start_time": "2022-10-26T06:07:05.398Z"
      },
      {
        "duration": 4,
        "start_time": "2022-10-26T06:17:20.269Z"
      },
      {
        "duration": 4,
        "start_time": "2022-10-26T06:18:30.041Z"
      },
      {
        "duration": 17,
        "start_time": "2022-10-26T06:18:30.572Z"
      },
      {
        "duration": 15,
        "start_time": "2022-10-26T06:18:31.045Z"
      },
      {
        "duration": 5,
        "start_time": "2022-10-26T06:18:31.843Z"
      },
      {
        "duration": 4,
        "start_time": "2022-10-26T06:19:29.312Z"
      },
      {
        "duration": 17,
        "start_time": "2022-10-26T06:19:29.999Z"
      },
      {
        "duration": 14,
        "start_time": "2022-10-26T06:22:21.446Z"
      },
      {
        "duration": 23,
        "start_time": "2022-10-26T06:22:24.038Z"
      },
      {
        "duration": 6,
        "start_time": "2022-10-26T06:22:24.980Z"
      },
      {
        "duration": 5,
        "start_time": "2022-10-26T06:22:53.427Z"
      },
      {
        "duration": 6,
        "start_time": "2022-10-26T06:23:15.741Z"
      },
      {
        "duration": 4,
        "start_time": "2022-10-26T06:23:43.194Z"
      },
      {
        "duration": 1291,
        "start_time": "2022-10-26T06:23:58.660Z"
      },
      {
        "duration": 372,
        "start_time": "2022-10-26T06:23:59.954Z"
      },
      {
        "duration": 17,
        "start_time": "2022-10-26T06:24:00.328Z"
      },
      {
        "duration": 34,
        "start_time": "2022-10-26T06:24:00.347Z"
      },
      {
        "duration": 18,
        "start_time": "2022-10-26T06:24:00.383Z"
      },
      {
        "duration": 6,
        "start_time": "2022-10-26T06:24:00.402Z"
      },
      {
        "duration": 43,
        "start_time": "2022-10-26T06:24:01.139Z"
      },
      {
        "duration": 148,
        "start_time": "2022-10-26T06:24:01.800Z"
      },
      {
        "duration": 35,
        "start_time": "2022-10-26T06:24:02.140Z"
      },
      {
        "duration": 164,
        "start_time": "2022-10-26T06:24:02.340Z"
      },
      {
        "duration": 34,
        "start_time": "2022-10-26T06:24:03.520Z"
      },
      {
        "duration": 140,
        "start_time": "2022-10-26T06:24:04.081Z"
      },
      {
        "duration": 3,
        "start_time": "2022-10-26T06:24:09.732Z"
      },
      {
        "duration": 13,
        "start_time": "2022-10-26T06:24:19.177Z"
      },
      {
        "duration": 20,
        "start_time": "2022-10-26T06:24:19.837Z"
      },
      {
        "duration": 6,
        "start_time": "2022-10-26T06:24:20.502Z"
      },
      {
        "duration": 6,
        "start_time": "2022-10-26T06:24:22.083Z"
      },
      {
        "duration": 7,
        "start_time": "2022-10-26T06:24:24.983Z"
      },
      {
        "duration": 4,
        "start_time": "2022-10-26T06:24:38.393Z"
      },
      {
        "duration": 2,
        "start_time": "2022-10-26T06:24:38.832Z"
      },
      {
        "duration": 15,
        "start_time": "2022-10-26T06:24:39.262Z"
      },
      {
        "duration": 17,
        "start_time": "2022-10-26T06:24:39.711Z"
      },
      {
        "duration": 104,
        "start_time": "2022-10-26T06:24:40.440Z"
      },
      {
        "duration": 6,
        "start_time": "2022-10-26T06:24:41.128Z"
      },
      {
        "duration": 7,
        "start_time": "2022-10-26T06:24:41.602Z"
      },
      {
        "duration": 6,
        "start_time": "2022-10-26T06:24:42.271Z"
      },
      {
        "duration": 5,
        "start_time": "2022-10-26T06:24:43.006Z"
      },
      {
        "duration": 6,
        "start_time": "2022-10-26T06:39:06.606Z"
      },
      {
        "duration": 61,
        "start_time": "2022-10-26T06:39:07.878Z"
      },
      {
        "duration": 6,
        "start_time": "2022-10-26T06:39:33.076Z"
      },
      {
        "duration": 89,
        "start_time": "2022-10-26T06:39:33.954Z"
      },
      {
        "duration": 6,
        "start_time": "2022-10-26T06:39:45.164Z"
      },
      {
        "duration": 68,
        "start_time": "2022-10-26T06:39:46.373Z"
      },
      {
        "duration": 6,
        "start_time": "2022-10-26T06:41:31.472Z"
      },
      {
        "duration": 58,
        "start_time": "2022-10-26T06:41:32.583Z"
      },
      {
        "duration": 5,
        "start_time": "2022-10-26T06:42:00.947Z"
      },
      {
        "duration": 110,
        "start_time": "2022-10-26T06:42:01.929Z"
      },
      {
        "duration": 5,
        "start_time": "2022-10-26T06:42:42.873Z"
      },
      {
        "duration": 79,
        "start_time": "2022-10-26T06:42:43.562Z"
      },
      {
        "duration": 6,
        "start_time": "2022-10-26T06:43:05.202Z"
      },
      {
        "duration": 106,
        "start_time": "2022-10-26T06:43:05.836Z"
      },
      {
        "duration": 36,
        "start_time": "2022-10-26T06:44:11.807Z"
      },
      {
        "duration": 2,
        "start_time": "2022-10-26T06:45:22.668Z"
      },
      {
        "duration": 50,
        "start_time": "2022-10-26T06:45:31.890Z"
      },
      {
        "duration": 106,
        "start_time": "2022-10-26T06:45:49.439Z"
      },
      {
        "duration": 49,
        "start_time": "2022-10-26T07:22:13.952Z"
      },
      {
        "duration": 3,
        "start_time": "2022-10-26T07:39:41.768Z"
      },
      {
        "duration": 4,
        "start_time": "2022-10-26T07:41:42.948Z"
      },
      {
        "duration": 4,
        "start_time": "2022-10-26T07:42:12.413Z"
      },
      {
        "duration": 4,
        "start_time": "2022-10-26T07:42:18.052Z"
      },
      {
        "duration": 4,
        "start_time": "2022-10-26T07:44:20.374Z"
      },
      {
        "duration": 6,
        "start_time": "2022-10-26T07:44:46.939Z"
      },
      {
        "duration": 4,
        "start_time": "2022-10-26T07:44:54.967Z"
      },
      {
        "duration": 134,
        "start_time": "2022-10-26T07:50:57.374Z"
      },
      {
        "duration": 18,
        "start_time": "2022-10-26T07:51:30.056Z"
      },
      {
        "duration": 11,
        "start_time": "2022-10-26T07:51:40.385Z"
      },
      {
        "duration": 12,
        "start_time": "2022-10-26T07:52:00.339Z"
      },
      {
        "duration": 6,
        "start_time": "2022-10-26T07:52:22.193Z"
      },
      {
        "duration": 5,
        "start_time": "2022-10-26T07:52:29.739Z"
      },
      {
        "duration": 9,
        "start_time": "2022-10-26T07:53:02.947Z"
      },
      {
        "duration": 1485,
        "start_time": "2022-10-27T06:10:38.426Z"
      },
      {
        "duration": 700,
        "start_time": "2022-10-27T06:10:39.913Z"
      },
      {
        "duration": 13,
        "start_time": "2022-10-27T06:10:40.615Z"
      },
      {
        "duration": 20,
        "start_time": "2022-10-27T06:10:40.635Z"
      },
      {
        "duration": 14,
        "start_time": "2022-10-27T06:10:41.006Z"
      },
      {
        "duration": 6,
        "start_time": "2022-10-27T06:10:41.436Z"
      },
      {
        "duration": 35,
        "start_time": "2022-10-27T06:10:42.106Z"
      },
      {
        "duration": 149,
        "start_time": "2022-10-27T06:10:42.306Z"
      },
      {
        "duration": 46,
        "start_time": "2022-10-27T06:10:42.827Z"
      },
      {
        "duration": 141,
        "start_time": "2022-10-27T06:10:43.175Z"
      },
      {
        "duration": 49,
        "start_time": "2022-10-27T06:10:44.016Z"
      },
      {
        "duration": 145,
        "start_time": "2022-10-27T06:10:44.376Z"
      },
      {
        "duration": 2,
        "start_time": "2022-10-27T06:10:45.576Z"
      },
      {
        "duration": 7,
        "start_time": "2022-10-27T06:10:46.657Z"
      },
      {
        "duration": 124,
        "start_time": "2022-10-27T06:10:50.186Z"
      },
      {
        "duration": 59,
        "start_time": "2022-10-27T06:11:38.566Z"
      },
      {
        "duration": 6,
        "start_time": "2022-10-27T06:11:56.067Z"
      },
      {
        "duration": 75,
        "start_time": "2022-10-27T06:12:52.546Z"
      },
      {
        "duration": 4,
        "start_time": "2022-10-27T06:12:53.746Z"
      },
      {
        "duration": 151,
        "start_time": "2022-10-27T06:13:31.867Z"
      },
      {
        "duration": 4,
        "start_time": "2022-10-27T06:13:32.937Z"
      },
      {
        "duration": 4,
        "start_time": "2022-10-27T06:14:13.716Z"
      },
      {
        "duration": 5,
        "start_time": "2022-10-27T06:14:33.310Z"
      },
      {
        "duration": 115,
        "start_time": "2022-10-27T06:35:52.886Z"
      },
      {
        "duration": 3,
        "start_time": "2022-10-27T06:36:01.026Z"
      },
      {
        "duration": 4,
        "start_time": "2022-10-27T06:36:01.666Z"
      },
      {
        "duration": 4,
        "start_time": "2022-10-27T06:36:02.126Z"
      },
      {
        "duration": 45,
        "start_time": "2022-10-27T06:36:27.656Z"
      },
      {
        "duration": 47,
        "start_time": "2022-10-27T06:36:33.755Z"
      },
      {
        "duration": 56,
        "start_time": "2022-10-27T06:36:44.706Z"
      },
      {
        "duration": 40,
        "start_time": "2022-10-27T06:37:08.646Z"
      },
      {
        "duration": 3,
        "start_time": "2022-10-27T06:39:28.098Z"
      },
      {
        "duration": 46,
        "start_time": "2022-10-27T06:41:27.478Z"
      },
      {
        "duration": 45,
        "start_time": "2022-10-27T06:42:17.516Z"
      },
      {
        "duration": 13,
        "start_time": "2022-10-27T06:42:25.106Z"
      },
      {
        "duration": 36,
        "start_time": "2022-10-27T06:42:32.046Z"
      },
      {
        "duration": 13,
        "start_time": "2022-10-27T06:42:47.336Z"
      },
      {
        "duration": 8,
        "start_time": "2022-10-27T06:50:49.545Z"
      },
      {
        "duration": 91,
        "start_time": "2022-10-27T06:51:02.116Z"
      },
      {
        "duration": 57,
        "start_time": "2022-10-27T06:51:38.236Z"
      },
      {
        "duration": 3,
        "start_time": "2022-10-27T06:51:58.475Z"
      },
      {
        "duration": 13,
        "start_time": "2022-10-27T06:52:00.115Z"
      },
      {
        "duration": 2,
        "start_time": "2022-10-27T06:52:01.526Z"
      },
      {
        "duration": 21,
        "start_time": "2022-10-27T06:52:02.235Z"
      },
      {
        "duration": 11,
        "start_time": "2022-10-27T06:52:11.656Z"
      },
      {
        "duration": 11,
        "start_time": "2022-10-27T06:52:47.525Z"
      },
      {
        "duration": 11,
        "start_time": "2022-10-27T06:53:05.566Z"
      },
      {
        "duration": 5,
        "start_time": "2022-10-27T07:06:22.127Z"
      },
      {
        "duration": 4,
        "start_time": "2022-10-27T07:41:12.228Z"
      },
      {
        "duration": 4,
        "start_time": "2022-10-27T07:44:11.137Z"
      },
      {
        "duration": 9,
        "start_time": "2022-10-27T07:57:30.915Z"
      },
      {
        "duration": 4,
        "start_time": "2022-10-27T07:57:36.276Z"
      },
      {
        "duration": 5,
        "start_time": "2022-10-27T07:57:37.096Z"
      },
      {
        "duration": 6,
        "start_time": "2022-10-27T07:58:07.946Z"
      },
      {
        "duration": 8,
        "start_time": "2022-10-27T07:58:22.326Z"
      },
      {
        "duration": 12,
        "start_time": "2022-10-27T08:26:18.985Z"
      },
      {
        "duration": 4,
        "start_time": "2022-10-27T08:29:45.154Z"
      },
      {
        "duration": 55,
        "start_time": "2022-10-27T08:33:05.363Z"
      },
      {
        "duration": 10,
        "start_time": "2022-10-27T08:33:29.176Z"
      },
      {
        "duration": 117,
        "start_time": "2022-10-27T08:33:30.199Z"
      },
      {
        "duration": 24,
        "start_time": "2022-10-27T08:33:49.114Z"
      },
      {
        "duration": 25,
        "start_time": "2022-10-27T08:34:03.923Z"
      },
      {
        "duration": 3,
        "start_time": "2022-10-27T08:34:44.800Z"
      },
      {
        "duration": 16,
        "start_time": "2022-10-27T08:34:45.410Z"
      },
      {
        "duration": 16,
        "start_time": "2022-10-27T08:35:19.910Z"
      },
      {
        "duration": 4,
        "start_time": "2022-10-27T08:35:50.822Z"
      },
      {
        "duration": 10,
        "start_time": "2022-10-27T08:35:52.003Z"
      },
      {
        "duration": 7,
        "start_time": "2022-10-27T08:36:30.415Z"
      },
      {
        "duration": 3,
        "start_time": "2022-10-27T08:36:48.640Z"
      },
      {
        "duration": 6,
        "start_time": "2022-10-27T08:36:55.937Z"
      },
      {
        "duration": 5,
        "start_time": "2022-10-27T08:37:15.209Z"
      },
      {
        "duration": 12,
        "start_time": "2022-10-27T08:38:09.845Z"
      },
      {
        "duration": 3,
        "start_time": "2022-10-27T08:38:12.332Z"
      },
      {
        "duration": 6,
        "start_time": "2022-10-27T08:38:12.813Z"
      },
      {
        "duration": 4,
        "start_time": "2022-10-27T08:38:19.687Z"
      },
      {
        "duration": 6,
        "start_time": "2022-10-27T08:38:25.691Z"
      },
      {
        "duration": 7,
        "start_time": "2022-10-27T08:39:36.524Z"
      },
      {
        "duration": 4,
        "start_time": "2022-10-27T08:39:36.928Z"
      },
      {
        "duration": 6,
        "start_time": "2022-10-27T08:40:42.424Z"
      },
      {
        "duration": 7,
        "start_time": "2022-10-27T08:40:42.825Z"
      },
      {
        "duration": 4,
        "start_time": "2022-10-27T08:40:43.312Z"
      },
      {
        "duration": 4,
        "start_time": "2022-10-27T08:40:43.943Z"
      },
      {
        "duration": 4,
        "start_time": "2022-10-27T08:45:55.418Z"
      },
      {
        "duration": 3279,
        "start_time": "2022-10-27T08:46:21.547Z"
      },
      {
        "duration": 4,
        "start_time": "2022-10-27T08:48:10.679Z"
      },
      {
        "duration": 726,
        "start_time": "2022-10-27T08:48:12.288Z"
      },
      {
        "duration": 645,
        "start_time": "2022-10-27T08:48:52.049Z"
      },
      {
        "duration": 642,
        "start_time": "2022-10-27T08:49:12.068Z"
      },
      {
        "duration": 4,
        "start_time": "2022-10-27T08:50:15.907Z"
      },
      {
        "duration": 4,
        "start_time": "2022-10-27T08:50:58.359Z"
      },
      {
        "duration": 13,
        "start_time": "2022-10-27T08:51:36.769Z"
      },
      {
        "duration": 4,
        "start_time": "2022-10-27T08:52:05.032Z"
      },
      {
        "duration": 16,
        "start_time": "2022-10-27T08:52:05.686Z"
      },
      {
        "duration": 6,
        "start_time": "2022-10-27T08:52:48.473Z"
      },
      {
        "duration": 646,
        "start_time": "2022-10-27T08:52:49.255Z"
      },
      {
        "duration": 4,
        "start_time": "2022-10-27T08:55:55.447Z"
      },
      {
        "duration": 6,
        "start_time": "2022-10-27T08:55:55.948Z"
      },
      {
        "duration": 4,
        "start_time": "2022-10-27T08:55:56.423Z"
      },
      {
        "duration": 6,
        "start_time": "2022-10-27T08:56:08.079Z"
      },
      {
        "duration": 7,
        "start_time": "2022-10-27T08:56:08.440Z"
      },
      {
        "duration": 4,
        "start_time": "2022-10-27T08:56:08.848Z"
      },
      {
        "duration": 4,
        "start_time": "2022-10-27T08:56:09.535Z"
      },
      {
        "duration": 6,
        "start_time": "2022-10-27T08:56:26.400Z"
      },
      {
        "duration": 487,
        "start_time": "2022-10-27T08:56:27.610Z"
      },
      {
        "duration": 496,
        "start_time": "2022-10-27T08:57:39.350Z"
      },
      {
        "duration": 510,
        "start_time": "2022-10-27T08:59:03.793Z"
      },
      {
        "duration": 495,
        "start_time": "2022-10-27T08:59:05.121Z"
      },
      {
        "duration": 13,
        "start_time": "2022-10-27T09:01:34.409Z"
      },
      {
        "duration": 2189,
        "start_time": "2022-10-29T09:20:01.644Z"
      },
      {
        "duration": 1192,
        "start_time": "2022-10-29T09:20:03.836Z"
      },
      {
        "duration": 21,
        "start_time": "2022-10-29T09:20:05.031Z"
      },
      {
        "duration": 60,
        "start_time": "2022-10-29T09:20:05.055Z"
      },
      {
        "duration": 48,
        "start_time": "2022-10-29T09:20:05.118Z"
      },
      {
        "duration": 49,
        "start_time": "2022-10-29T09:20:05.168Z"
      },
      {
        "duration": 93,
        "start_time": "2022-10-29T09:20:05.219Z"
      },
      {
        "duration": 234,
        "start_time": "2022-10-29T09:20:05.314Z"
      },
      {
        "duration": 54,
        "start_time": "2022-10-29T09:20:05.557Z"
      },
      {
        "duration": 220,
        "start_time": "2022-10-29T09:20:05.616Z"
      },
      {
        "duration": 55,
        "start_time": "2022-10-29T09:20:05.839Z"
      },
      {
        "duration": 244,
        "start_time": "2022-10-29T09:20:05.896Z"
      },
      {
        "duration": 3,
        "start_time": "2022-10-29T09:20:06.147Z"
      },
      {
        "duration": 28,
        "start_time": "2022-10-29T09:20:06.152Z"
      },
      {
        "duration": 74,
        "start_time": "2022-10-29T09:20:06.183Z"
      },
      {
        "duration": 13,
        "start_time": "2022-10-29T09:20:06.264Z"
      },
      {
        "duration": 279,
        "start_time": "2022-10-29T09:20:06.280Z"
      },
      {
        "duration": 27,
        "start_time": "2022-10-29T09:20:06.585Z"
      },
      {
        "duration": 142,
        "start_time": "2022-10-29T09:20:06.618Z"
      },
      {
        "duration": 104,
        "start_time": "2022-10-29T09:20:06.764Z"
      },
      {
        "duration": 31,
        "start_time": "2022-10-29T09:20:06.870Z"
      },
      {
        "duration": 21,
        "start_time": "2022-10-29T09:20:06.903Z"
      },
      {
        "duration": 11,
        "start_time": "2022-10-29T09:20:06.926Z"
      },
      {
        "duration": 28,
        "start_time": "2022-10-29T09:20:06.940Z"
      },
      {
        "duration": 6,
        "start_time": "2022-10-29T09:20:06.970Z"
      },
      {
        "duration": 23,
        "start_time": "2022-10-29T09:20:06.978Z"
      },
      {
        "duration": 28,
        "start_time": "2022-10-29T09:20:07.003Z"
      },
      {
        "duration": 22,
        "start_time": "2022-10-29T09:20:07.036Z"
      },
      {
        "duration": 57,
        "start_time": "2022-10-29T09:20:07.060Z"
      },
      {
        "duration": 71,
        "start_time": "2022-10-29T09:20:07.119Z"
      },
      {
        "duration": 23,
        "start_time": "2022-10-29T09:20:07.192Z"
      },
      {
        "duration": 53,
        "start_time": "2022-10-29T09:20:07.217Z"
      },
      {
        "duration": 38,
        "start_time": "2022-10-29T09:20:07.275Z"
      },
      {
        "duration": 31,
        "start_time": "2022-10-29T09:20:07.316Z"
      },
      {
        "duration": 42,
        "start_time": "2022-10-29T09:20:07.349Z"
      },
      {
        "duration": 24,
        "start_time": "2022-10-29T09:20:07.393Z"
      },
      {
        "duration": 31,
        "start_time": "2022-10-29T09:20:07.418Z"
      },
      {
        "duration": 31,
        "start_time": "2022-10-29T09:20:07.451Z"
      },
      {
        "duration": 29,
        "start_time": "2022-10-29T09:20:07.485Z"
      },
      {
        "duration": 12,
        "start_time": "2022-10-29T09:20:07.516Z"
      },
      {
        "duration": 56,
        "start_time": "2022-10-29T09:20:07.530Z"
      },
      {
        "duration": 6,
        "start_time": "2022-10-29T09:20:10.255Z"
      },
      {
        "duration": 706,
        "start_time": "2022-10-29T09:20:14.248Z"
      },
      {
        "duration": 713,
        "start_time": "2022-10-29T09:20:17.513Z"
      },
      {
        "duration": 979,
        "start_time": "2022-10-29T09:20:19.938Z"
      },
      {
        "duration": 63,
        "start_time": "2022-10-29T09:28:03.569Z"
      },
      {
        "duration": 52,
        "start_time": "2022-10-29T09:28:15.349Z"
      },
      {
        "duration": 54,
        "start_time": "2022-10-29T09:28:40.399Z"
      },
      {
        "duration": 49,
        "start_time": "2022-10-29T09:29:10.498Z"
      },
      {
        "duration": 58,
        "start_time": "2022-10-29T09:29:39.739Z"
      },
      {
        "duration": 7,
        "start_time": "2022-10-29T09:31:51.888Z"
      },
      {
        "duration": 6,
        "start_time": "2022-10-29T09:32:05.080Z"
      },
      {
        "duration": 668,
        "start_time": "2022-10-29T09:32:08.598Z"
      },
      {
        "duration": 5,
        "start_time": "2022-10-29T09:33:05.149Z"
      },
      {
        "duration": 676,
        "start_time": "2022-10-29T09:33:07.498Z"
      },
      {
        "duration": 624,
        "start_time": "2022-10-29T09:33:22.458Z"
      },
      {
        "duration": 636,
        "start_time": "2022-10-29T09:33:27.089Z"
      },
      {
        "duration": 46,
        "start_time": "2022-10-29T09:36:33.165Z"
      }
    ],
    "kernelspec": {
      "display_name": "Python 3 (ipykernel)",
      "language": "python",
      "name": "python3"
    },
    "language_info": {
      "codemirror_mode": {
        "name": "ipython",
        "version": 3
      },
      "file_extension": ".py",
      "mimetype": "text/x-python",
      "name": "python",
      "nbconvert_exporter": "python",
      "pygments_lexer": "ipython3",
      "version": "3.9.5"
    },
    "toc": {
      "base_numbering": 1,
      "nav_menu": {},
      "number_sections": true,
      "sideBar": true,
      "skip_h1_title": true,
      "title_cell": "Table of Contents",
      "title_sidebar": "Contents",
      "toc_cell": false,
      "toc_position": {},
      "toc_section_display": true,
      "toc_window_display": false
    },
    "colab": {
      "provenance": []
    }
  },
  "nbformat": 4,
  "nbformat_minor": 0
}